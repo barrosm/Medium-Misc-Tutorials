{
 "cells": [
  {
   "cell_type": "markdown",
   "metadata": {},
   "source": [
    "# Twitter Trading Strategy\n",
    "Letting Tweet Sentiment determine buy, sell, or holds."
   ]
  },
  {
   "cell_type": "code",
   "execution_count": 2,
   "metadata": {},
   "outputs": [],
   "source": [
    "# Libraries\n",
    "import twint\n",
    "import nest_asyncio\n",
    "nest_asyncio.apply()\n",
    "import pandas as pd\n",
    "from nltk.sentiment.vader import SentimentIntensityAnalyzer\n",
    "from datetime import datetime, timedelta\n",
    "import plotly.express as px\n",
    "import yfinance as yf\n",
    "import numpy as np"
   ]
  },
  {
   "cell_type": "markdown",
   "metadata": {},
   "source": [
    "# Helper Functions\n",
    "Getting prices and Tweets"
   ]
  },
  {
   "cell_type": "markdown",
   "metadata": {},
   "source": [
    "## Twint Query Function"
   ]
  },
  {
   "cell_type": "code",
   "execution_count": 3,
   "metadata": {},
   "outputs": [],
   "source": [
    "def getTweets(search_term, until, limit=20):\n",
    "    \"\"\"\n",
    "    Configures Twint and returns a dataframe of tweets for a specific day.\n",
    "    \"\"\"\n",
    "    # Configuring Twint for search\n",
    "    c = twint.Config()\n",
    "\n",
    "    # The limit of tweets to retrieve\n",
    "    c.Limit = limit\n",
    "\n",
    "    # Search term\n",
    "    c.Search = search_term\n",
    "\n",
    "    # Removing retweets\n",
    "    c.Filter_retweets = True\n",
    "    \n",
    "    # Popular tweets\n",
    "    c.Popular_tweets = True\n",
    "\n",
    "    # Lowercasing tweets\n",
    "    c.Lowercase = True\n",
    "\n",
    "    # English only\n",
    "    c.Lang = 'en'\n",
    "\n",
    "    # Tweets until a specified date\n",
    "    c.Until = until + \" 00:00:00\"\n",
    "    \n",
    "    # Making the results pandas friendly\n",
    "    c.Pandas = True\n",
    "    \n",
    "    # Stopping print in terminal\n",
    "    c.Hide_output = True\n",
    "\n",
    "    # Searching\n",
    "    twint.run.Search(c)\n",
    "    \n",
    "    # Assigning the DF\n",
    "    df = twint.storage.panda.Tweets_df\n",
    "    \n",
    "    # Returning an empty DF if no tweets were found\n",
    "    if len(df)<=0:\n",
    "        return pd.DataFrame()\n",
    "    \n",
    "    # Formatting the date\n",
    "    df['date'] = df['date'].apply(lambda x: x.split(\" \")[0])\n",
    "    \n",
    "    return df"
   ]
  },
  {
   "cell_type": "markdown",
   "metadata": {},
   "source": [
    "## Twint over Time Function"
   ]
  },
  {
   "cell_type": "code",
   "execution_count": 4,
   "metadata": {},
   "outputs": [],
   "source": [
    "def tweetByDay(start, end, df, search, limit=20):\n",
    "    \"\"\"\n",
    "    Runs the twint query everyday between the given dates and returns\n",
    "    the total dataframe.\n",
    "    \"\"\"\n",
    "    # Finishing the recursive loop\n",
    "    if start==end:\n",
    "        # Removing any potential duplicates\n",
    "        df = df.drop_duplicates(subset=\"id\")\n",
    "        print(len(df))\n",
    "        return df\n",
    "    \n",
    "    # Appending the new set of tweets for the day\n",
    "    tweet_df = getTweets(search, end, limit)\n",
    "    \n",
    "    # Running the query a few more times in case twint missed some tweets\n",
    "    run = 0 \n",
    "    \n",
    "    while len(tweet_df)==0 or run<=2:\n",
    "        # Running query again\n",
    "        tweet_df = getTweets(search, end, limit)\n",
    "        \n",
    "        # Counting how many times it ran\n",
    "        run += 1\n",
    "    \n",
    "    # Adding the new tweets\n",
    "    df = df.append(tweet_df, ignore_index=True)\n",
    "    \n",
    "    # Updating the new end date\n",
    "    new_end = (datetime.strptime(end, \"%Y-%m-%d\") + timedelta(days=1)).strftime(\"%Y-%m-%d\")\n",
    "    \n",
    "    # Printing scraping status\n",
    "    print(f\"\\t{len(df)} Total Tweets collected as of {new_end}\\t\")\n",
    "    \n",
    "    # Running the function again\n",
    "    return tweetByDay(start, new_end, df, search)"
   ]
  },
  {
   "cell_type": "markdown",
   "metadata": {},
   "source": [
    "## Sentiment Function"
   ]
  },
  {
   "cell_type": "code",
   "execution_count": 5,
   "metadata": {},
   "outputs": [],
   "source": [
    "def getSentiment(df, measurement=\"compound\"):\n",
    "    \"\"\"\n",
    "    Given a DF of tweets, analyzes the tweets and returns a new DF\n",
    "    of sentiment scores based on the given measurement.\n",
    "    Accepted sentiment measurements: [\"pos\", \"neg\", \"neu\", \"compound\"]\n",
    "    \"\"\"\n",
    "\n",
    "    # Sentiment Analyzer\n",
    "    sia = SentimentIntensityAnalyzer()\n",
    "\n",
    "    # Getting the sentiment score\n",
    "    df['sentiment'] = df['tweet'].apply(lambda x: sia.polarity_scores(x)[measurement])\n",
    "\n",
    "    # Creating a DF with the average sentiment score each day\n",
    "    sent_df = df.groupby('date')['sentiment'].mean().reset_index()\n",
    "    \n",
    "    # Converting the dates to datetime\n",
    "    sent_df['date'] = sent_df['date'].apply(lambda x: datetime.strptime(x, \"%Y-%m-%d\"))\n",
    "    \n",
    "    return sent_df"
   ]
  },
  {
   "cell_type": "markdown",
   "metadata": {},
   "source": [
    "## Price Data Function"
   ]
  },
  {
   "cell_type": "code",
   "execution_count": 6,
   "metadata": {},
   "outputs": [],
   "source": [
    "def getStockPrices(ticker, start, end):\n",
    "    \"\"\"\n",
    "    Gets the historical daily prices between two dates. Scaling the prices based on a\n",
    "    given sentiment dataframe.\n",
    "    \"\"\"\n",
    "    # Setting the stock\n",
    "    stock = yf.Ticker(ticker)\n",
    "\n",
    "    # Getting historical prices\n",
    "    stock_df = stock.history(start=end, end=start, interval=\"1d\")[['Close']]\n",
    "        \n",
    "    # Getting the daily log returns\n",
    "    stock_df = stock_df.apply(np.log).diff().dropna()\n",
    "    \n",
    "    # Some reformatting\n",
    "    stock_df = stock_df.reset_index().rename(\n",
    "        columns={\n",
    "            \"Date\": \"date\",\n",
    "            \"Close\": \"log returns\"\n",
    "        }\n",
    "    )\n",
    "    \n",
    "    return stock_df"
   ]
  },
  {
   "cell_type": "markdown",
   "metadata": {},
   "source": [
    "## Sentiment and Price Function"
   ]
  },
  {
   "cell_type": "code",
   "execution_count": 9,
   "metadata": {},
   "outputs": [],
   "source": [
    "def sentimentAndPrice(ticker, start, end, numtweets=20):\n",
    "    \"\"\"\n",
    "    Visually compares sentiment with the closing price of a given stock ticker.\n",
    "    \"\"\"\n",
    "    # Creating a DF that contains daily tweets between two dates\n",
    "    df = tweetByDay(start, end, pd.DataFrame(), search=\"$\"+ticker, limit=numtweets)\n",
    "        \n",
    "    # Analyzing the sentiment of each tweet\n",
    "    sent_df = getSentiment(\n",
    "        df, \n",
    "        measurement='compound'\n",
    "    )\n",
    "    \n",
    "    # Getting stock price history\n",
    "    stock_df = getStockPrices(\n",
    "        ticker, \n",
    "        start, \n",
    "        end\n",
    "    )\n",
    "    \n",
    "    # Merging the two DF\n",
    "    comb_df = sent_df.merge(stock_df, how='outer', sort=True)\n",
    "    \n",
    "    # Shifting the sentiment scores 1 day to compensate for lookahead bias\n",
    "    comb_df['sentiment'] = comb_df['sentiment'].shift(1)\n",
    "    \n",
    "    # Filling the nans with zeroes\n",
    "    comb_df = comb_df.fillna(0)\n",
    "\n",
    "    return comb_df"
   ]
  },
  {
   "cell_type": "markdown",
   "metadata": {},
   "source": [
    "## Get Positions Function"
   ]
  },
  {
   "cell_type": "code",
   "execution_count": 12,
   "metadata": {},
   "outputs": [],
   "source": [
    "def getPositions(val):\n",
    "    \"\"\"\n",
    "    Provided a specific sentiment value, will return 1, 0, or -1 representing\n",
    "    buy, hold, or sell respectively. The threshold will determined how high or low the score \n",
    "    needs to be to trigger a buy or sell, otherwise it will be a hold.\n",
    "    \"\"\"\n",
    "    \n",
    "    # Sentiment score threshold\n",
    "    thres = .05\n",
    "    \n",
    "    # Getting positions\n",
    "    if val > thres:\n",
    "        return 1\n",
    "    elif val < -thres:\n",
    "        return -1\n",
    "    else:\n",
    "        return 0"
   ]
  },
  {
   "cell_type": "markdown",
   "metadata": {},
   "source": [
    "# Running the Function"
   ]
  },
  {
   "cell_type": "code",
   "execution_count": 10,
   "metadata": {},
   "outputs": [
    {
     "name": "stdout",
     "output_type": "stream",
     "text": [
      "[!] No more data! Scraping will stop now.\n",
      "found 0 deleted tweets in this search.\n",
      "[!] No more data! Scraping will stop now.\n",
      "found 0 deleted tweets in this search.\n",
      "[!] No more data! Scraping will stop now.\n",
      "found 0 deleted tweets in this search.\n",
      "[!] No more data! Scraping will stop now.\n",
      "found 0 deleted tweets in this search.\n",
      "\t19 Total Tweets collected as of 2021-08-31\t\n",
      "[!] No more data! Scraping will stop now.\n",
      "found 0 deleted tweets in this search.\n",
      "[!] No more data! Scraping will stop now.\n",
      "found 0 deleted tweets in this search.\n",
      "\t56 Total Tweets collected as of 2021-09-01\t\n",
      "[!] No more data! Scraping will stop now.\n",
      "found 0 deleted tweets in this search.\n",
      "\t76 Total Tweets collected as of 2021-09-02\t\n",
      "\t96 Total Tweets collected as of 2021-09-03\t\n",
      "\t116 Total Tweets collected as of 2021-09-04\t\n",
      "\t136 Total Tweets collected as of 2021-09-05\t\n",
      "\t174 Total Tweets collected as of 2021-09-06\t\n",
      "\t194 Total Tweets collected as of 2021-09-07\t\n",
      "\t214 Total Tweets collected as of 2021-09-08\t\n",
      "\t234 Total Tweets collected as of 2021-09-09\t\n",
      "234\n"
     ]
    }
   ],
   "source": [
    "# Time periods\n",
    "now = datetime.now()\n",
    "\n",
    "# How far back to retrieve tweets\n",
    "ago = now - timedelta(days=10)\n",
    "\n",
    "# DF for sentiment and log returns\n",
    "df = sentimentAndPrice(\n",
    "    \"AMC\", \n",
    "    now.strftime(\"%Y-%m-%d\"), \n",
    "    ago.strftime(\"%Y-%m-%d\"), \n",
    "    numtweets=100\n",
    ")"
   ]
  },
  {
   "cell_type": "code",
   "execution_count": 11,
   "metadata": {},
   "outputs": [
    {
     "data": {
      "text/html": [
       "<div>\n",
       "<style scoped>\n",
       "    .dataframe tbody tr th:only-of-type {\n",
       "        vertical-align: middle;\n",
       "    }\n",
       "\n",
       "    .dataframe tbody tr th {\n",
       "        vertical-align: top;\n",
       "    }\n",
       "\n",
       "    .dataframe thead th {\n",
       "        text-align: right;\n",
       "    }\n",
       "</style>\n",
       "<table border=\"1\" class=\"dataframe\">\n",
       "  <thead>\n",
       "    <tr style=\"text-align: right;\">\n",
       "      <th></th>\n",
       "      <th>date</th>\n",
       "      <th>sentiment</th>\n",
       "      <th>log returns</th>\n",
       "    </tr>\n",
       "  </thead>\n",
       "  <tbody>\n",
       "    <tr>\n",
       "      <th>0</th>\n",
       "      <td>2021-08-29</td>\n",
       "      <td>0.000000</td>\n",
       "      <td>0.000000</td>\n",
       "    </tr>\n",
       "    <tr>\n",
       "      <th>1</th>\n",
       "      <td>2021-08-30</td>\n",
       "      <td>0.168647</td>\n",
       "      <td>0.000000</td>\n",
       "    </tr>\n",
       "    <tr>\n",
       "      <th>2</th>\n",
       "      <td>2021-08-31</td>\n",
       "      <td>0.158246</td>\n",
       "      <td>0.084064</td>\n",
       "    </tr>\n",
       "    <tr>\n",
       "      <th>3</th>\n",
       "      <td>2021-09-01</td>\n",
       "      <td>0.346840</td>\n",
       "      <td>-0.075791</td>\n",
       "    </tr>\n",
       "    <tr>\n",
       "      <th>4</th>\n",
       "      <td>2021-09-02</td>\n",
       "      <td>0.013060</td>\n",
       "      <td>0.015670</td>\n",
       "    </tr>\n",
       "    <tr>\n",
       "      <th>5</th>\n",
       "      <td>2021-09-03</td>\n",
       "      <td>0.047475</td>\n",
       "      <td>-0.008145</td>\n",
       "    </tr>\n",
       "    <tr>\n",
       "      <th>6</th>\n",
       "      <td>2021-09-04</td>\n",
       "      <td>0.163730</td>\n",
       "      <td>0.000000</td>\n",
       "    </tr>\n",
       "    <tr>\n",
       "      <th>7</th>\n",
       "      <td>2021-09-05</td>\n",
       "      <td>0.312895</td>\n",
       "      <td>0.000000</td>\n",
       "    </tr>\n",
       "    <tr>\n",
       "      <th>8</th>\n",
       "      <td>2021-09-06</td>\n",
       "      <td>0.326275</td>\n",
       "      <td>0.000000</td>\n",
       "    </tr>\n",
       "    <tr>\n",
       "      <th>9</th>\n",
       "      <td>2021-09-07</td>\n",
       "      <td>0.004460</td>\n",
       "      <td>0.083009</td>\n",
       "    </tr>\n",
       "    <tr>\n",
       "      <th>10</th>\n",
       "      <td>2021-09-08</td>\n",
       "      <td>0.209815</td>\n",
       "      <td>-0.009031</td>\n",
       "    </tr>\n",
       "  </tbody>\n",
       "</table>\n",
       "</div>"
      ],
      "text/plain": [
       "         date  sentiment  log returns\n",
       "0  2021-08-29   0.000000     0.000000\n",
       "1  2021-08-30   0.168647     0.000000\n",
       "2  2021-08-31   0.158246     0.084064\n",
       "3  2021-09-01   0.346840    -0.075791\n",
       "4  2021-09-02   0.013060     0.015670\n",
       "5  2021-09-03   0.047475    -0.008145\n",
       "6  2021-09-04   0.163730     0.000000\n",
       "7  2021-09-05   0.312895     0.000000\n",
       "8  2021-09-06   0.326275     0.000000\n",
       "9  2021-09-07   0.004460     0.083009\n",
       "10 2021-09-08   0.209815    -0.009031"
      ]
     },
     "execution_count": 11,
     "metadata": {},
     "output_type": "execute_result"
    }
   ],
   "source": [
    "df"
   ]
  },
  {
   "cell_type": "code",
   "execution_count": null,
   "metadata": {},
   "outputs": [],
   "source": []
  },
  {
   "cell_type": "code",
   "execution_count": null,
   "metadata": {},
   "outputs": [],
   "source": []
  },
  {
   "cell_type": "code",
   "execution_count": null,
   "metadata": {},
   "outputs": [],
   "source": []
  },
  {
   "cell_type": "code",
   "execution_count": null,
   "metadata": {},
   "outputs": [],
   "source": []
  },
  {
   "cell_type": "code",
   "execution_count": null,
   "metadata": {},
   "outputs": [],
   "source": []
  },
  {
   "cell_type": "code",
   "execution_count": null,
   "metadata": {},
   "outputs": [],
   "source": []
  },
  {
   "cell_type": "code",
   "execution_count": null,
   "metadata": {},
   "outputs": [],
   "source": []
  },
  {
   "cell_type": "code",
   "execution_count": null,
   "metadata": {},
   "outputs": [],
   "source": []
  },
  {
   "cell_type": "code",
   "execution_count": null,
   "metadata": {},
   "outputs": [],
   "source": []
  },
  {
   "cell_type": "code",
   "execution_count": null,
   "metadata": {},
   "outputs": [],
   "source": []
  },
  {
   "cell_type": "code",
   "execution_count": null,
   "metadata": {},
   "outputs": [],
   "source": []
  },
  {
   "cell_type": "code",
   "execution_count": null,
   "metadata": {},
   "outputs": [],
   "source": []
  }
 ],
 "metadata": {
  "kernelspec": {
   "display_name": "Python 3",
   "language": "python",
   "name": "python3"
  },
  "language_info": {
   "codemirror_mode": {
    "name": "ipython",
    "version": 3
   },
   "file_extension": ".py",
   "mimetype": "text/x-python",
   "name": "python",
   "nbconvert_exporter": "python",
   "pygments_lexer": "ipython3",
   "version": "3.9.1"
  }
 },
 "nbformat": 4,
 "nbformat_minor": 4
}
