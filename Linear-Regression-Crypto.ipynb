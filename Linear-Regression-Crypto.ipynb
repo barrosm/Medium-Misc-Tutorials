{
 "cells": [
  {
   "cell_type": "markdown",
   "metadata": {},
   "source": [
    "# Simple Linear Regression on Crypto"
   ]
  },
  {
   "cell_type": "code",
   "execution_count": 206,
   "metadata": {},
   "outputs": [],
   "source": [
    "import pandas as pd\n",
    "import yfinance as yf\n",
    "from ta import add_all_ta_features\n",
    "from datetime import datetime, timedelta\n",
    "import numpy as np\n",
    "from sklearn.linear_model import LinearRegression\n",
    "from sklearn.model_selection import train_test_split\n",
    "from sklearn.metrics import mean_squared_error, r2_score\n",
    "import plotly.express as px\n",
    "import plotly.graph_objects as go"
   ]
  },
  {
   "cell_type": "markdown",
   "metadata": {},
   "source": [
    "# 1. Get Price Data"
   ]
  },
  {
   "cell_type": "code",
   "execution_count": 253,
   "metadata": {},
   "outputs": [],
   "source": [
    "def getCryptoPrice(ticker=\"BTC-USD\", n_days=1000):\n",
    "\n",
    "    # Time periods\n",
    "    now = datetime.now()\n",
    "\n",
    "    # How far back to retrieve\n",
    "    ago = now - timedelta(days=n_days)\n",
    "\n",
    "    # Designating the Ticker\n",
    "    crypto = yf.Ticker(ticker)\n",
    "\n",
    "    # Getting price history\n",
    "    df = crypto.history(\n",
    "        start=ago.strftime(\"%Y-%m-%d\"), \n",
    "        end=now.strftime(\"%Y-%m-%d\"), \n",
    "        interval=\"1d\"\n",
    "    )\n",
    "\n",
    "    # Handling missing data from yahoo finance\n",
    "    df = df.reindex(\n",
    "        [df.index.min()+pd.offsets.Day(i) for i in range(df.shape[0])],\n",
    "        fill_value=None\n",
    "    ).fillna(method='ffill')\n",
    "\n",
    "    # Dropping Columns\n",
    "    df.drop(\n",
    "        ['Dividends', 'Stock Splits'], \n",
    "        axis=1,\n",
    "        inplace=True\n",
    "    )\n",
    "\n",
    "    return df"
   ]
  },
  {
   "cell_type": "code",
   "execution_count": 311,
   "metadata": {},
   "outputs": [
    {
     "data": {
      "text/html": [
       "<div>\n",
       "<style scoped>\n",
       "    .dataframe tbody tr th:only-of-type {\n",
       "        vertical-align: middle;\n",
       "    }\n",
       "\n",
       "    .dataframe tbody tr th {\n",
       "        vertical-align: top;\n",
       "    }\n",
       "\n",
       "    .dataframe thead th {\n",
       "        text-align: right;\n",
       "    }\n",
       "</style>\n",
       "<table border=\"1\" class=\"dataframe\">\n",
       "  <thead>\n",
       "    <tr style=\"text-align: right;\">\n",
       "      <th></th>\n",
       "      <th>Open</th>\n",
       "      <th>High</th>\n",
       "      <th>Low</th>\n",
       "      <th>Close</th>\n",
       "      <th>Volume</th>\n",
       "    </tr>\n",
       "    <tr>\n",
       "      <th>Date</th>\n",
       "      <th></th>\n",
       "      <th></th>\n",
       "      <th></th>\n",
       "      <th></th>\n",
       "      <th></th>\n",
       "    </tr>\n",
       "  </thead>\n",
       "  <tbody>\n",
       "    <tr>\n",
       "      <th>2020-09-05</th>\n",
       "      <td>10512.530273</td>\n",
       "      <td>10581.571289</td>\n",
       "      <td>9946.675781</td>\n",
       "      <td>10169.567383</td>\n",
       "      <td>4.491657e+10</td>\n",
       "    </tr>\n",
       "    <tr>\n",
       "      <th>2020-09-06</th>\n",
       "      <td>10167.216797</td>\n",
       "      <td>10353.927734</td>\n",
       "      <td>10056.885742</td>\n",
       "      <td>10280.351562</td>\n",
       "      <td>3.707146e+10</td>\n",
       "    </tr>\n",
       "    <tr>\n",
       "      <th>2020-09-07</th>\n",
       "      <td>10280.998047</td>\n",
       "      <td>10399.153320</td>\n",
       "      <td>9916.493164</td>\n",
       "      <td>10369.563477</td>\n",
       "      <td>3.370310e+10</td>\n",
       "    </tr>\n",
       "    <tr>\n",
       "      <th>2020-09-08</th>\n",
       "      <td>10369.306641</td>\n",
       "      <td>10414.775391</td>\n",
       "      <td>9945.110352</td>\n",
       "      <td>10131.516602</td>\n",
       "      <td>3.343093e+10</td>\n",
       "    </tr>\n",
       "    <tr>\n",
       "      <th>2020-09-09</th>\n",
       "      <td>10134.151367</td>\n",
       "      <td>10350.542969</td>\n",
       "      <td>10017.250977</td>\n",
       "      <td>10242.347656</td>\n",
       "      <td>2.412829e+10</td>\n",
       "    </tr>\n",
       "    <tr>\n",
       "      <th>...</th>\n",
       "      <td>...</td>\n",
       "      <td>...</td>\n",
       "      <td>...</td>\n",
       "      <td>...</td>\n",
       "      <td>...</td>\n",
       "    </tr>\n",
       "    <tr>\n",
       "      <th>2021-10-02</th>\n",
       "      <td>48137.468750</td>\n",
       "      <td>48282.062500</td>\n",
       "      <td>47465.496094</td>\n",
       "      <td>47711.488281</td>\n",
       "      <td>3.061435e+10</td>\n",
       "    </tr>\n",
       "    <tr>\n",
       "      <th>2021-10-03</th>\n",
       "      <td>47680.027344</td>\n",
       "      <td>49130.691406</td>\n",
       "      <td>47157.289062</td>\n",
       "      <td>48199.953125</td>\n",
       "      <td>2.663812e+10</td>\n",
       "    </tr>\n",
       "    <tr>\n",
       "      <th>2021-10-04</th>\n",
       "      <td>48208.906250</td>\n",
       "      <td>49456.777344</td>\n",
       "      <td>47045.003906</td>\n",
       "      <td>49112.902344</td>\n",
       "      <td>3.338317e+10</td>\n",
       "    </tr>\n",
       "    <tr>\n",
       "      <th>2021-10-05</th>\n",
       "      <td>49174.960938</td>\n",
       "      <td>51839.984375</td>\n",
       "      <td>49072.839844</td>\n",
       "      <td>51514.812500</td>\n",
       "      <td>3.587390e+10</td>\n",
       "    </tr>\n",
       "    <tr>\n",
       "      <th>2021-10-06</th>\n",
       "      <td>51486.664062</td>\n",
       "      <td>55568.464844</td>\n",
       "      <td>50488.191406</td>\n",
       "      <td>55361.449219</td>\n",
       "      <td>4.903473e+10</td>\n",
       "    </tr>\n",
       "  </tbody>\n",
       "</table>\n",
       "<p>397 rows × 5 columns</p>\n",
       "</div>"
      ],
      "text/plain": [
       "                    Open          High           Low         Close  \\\n",
       "Date                                                                 \n",
       "2020-09-05  10512.530273  10581.571289   9946.675781  10169.567383   \n",
       "2020-09-06  10167.216797  10353.927734  10056.885742  10280.351562   \n",
       "2020-09-07  10280.998047  10399.153320   9916.493164  10369.563477   \n",
       "2020-09-08  10369.306641  10414.775391   9945.110352  10131.516602   \n",
       "2020-09-09  10134.151367  10350.542969  10017.250977  10242.347656   \n",
       "...                  ...           ...           ...           ...   \n",
       "2021-10-02  48137.468750  48282.062500  47465.496094  47711.488281   \n",
       "2021-10-03  47680.027344  49130.691406  47157.289062  48199.953125   \n",
       "2021-10-04  48208.906250  49456.777344  47045.003906  49112.902344   \n",
       "2021-10-05  49174.960938  51839.984375  49072.839844  51514.812500   \n",
       "2021-10-06  51486.664062  55568.464844  50488.191406  55361.449219   \n",
       "\n",
       "                  Volume  \n",
       "Date                      \n",
       "2020-09-05  4.491657e+10  \n",
       "2020-09-06  3.707146e+10  \n",
       "2020-09-07  3.370310e+10  \n",
       "2020-09-08  3.343093e+10  \n",
       "2020-09-09  2.412829e+10  \n",
       "...                  ...  \n",
       "2021-10-02  3.061435e+10  \n",
       "2021-10-03  2.663812e+10  \n",
       "2021-10-04  3.338317e+10  \n",
       "2021-10-05  3.587390e+10  \n",
       "2021-10-06  4.903473e+10  \n",
       "\n",
       "[397 rows x 5 columns]"
      ]
     },
     "execution_count": 311,
     "metadata": {},
     "output_type": "execute_result"
    }
   ],
   "source": [
    "df = getCryptoPrice(ticker=\"BTC-USD\", n_days=400)\n",
    "\n",
    "df"
   ]
  },
  {
   "cell_type": "markdown",
   "metadata": {},
   "source": [
    "## Adding Technical Indicators"
   ]
  },
  {
   "cell_type": "code",
   "execution_count": 312,
   "metadata": {},
   "outputs": [
    {
     "name": "stderr",
     "output_type": "stream",
     "text": [
      "/Users/marcosantos/miniforge3/lib/python3.9/site-packages/ta/trend.py:768: RuntimeWarning:\n",
      "\n",
      "invalid value encountered in double_scalars\n",
      "\n",
      "/Users/marcosantos/miniforge3/lib/python3.9/site-packages/ta/trend.py:772: RuntimeWarning:\n",
      "\n",
      "invalid value encountered in double_scalars\n",
      "\n"
     ]
    },
    {
     "data": {
      "text/html": [
       "<div>\n",
       "<style scoped>\n",
       "    .dataframe tbody tr th:only-of-type {\n",
       "        vertical-align: middle;\n",
       "    }\n",
       "\n",
       "    .dataframe tbody tr th {\n",
       "        vertical-align: top;\n",
       "    }\n",
       "\n",
       "    .dataframe thead th {\n",
       "        text-align: right;\n",
       "    }\n",
       "</style>\n",
       "<table border=\"1\" class=\"dataframe\">\n",
       "  <thead>\n",
       "    <tr style=\"text-align: right;\">\n",
       "      <th></th>\n",
       "      <th>Open</th>\n",
       "      <th>High</th>\n",
       "      <th>Low</th>\n",
       "      <th>Close</th>\n",
       "      <th>Volume</th>\n",
       "      <th>volume_adi</th>\n",
       "      <th>volume_obv</th>\n",
       "      <th>volume_cmf</th>\n",
       "      <th>volume_fi</th>\n",
       "      <th>volume_mfi</th>\n",
       "      <th>...</th>\n",
       "      <th>momentum_wr</th>\n",
       "      <th>momentum_ao</th>\n",
       "      <th>momentum_kama</th>\n",
       "      <th>momentum_roc</th>\n",
       "      <th>momentum_ppo</th>\n",
       "      <th>momentum_ppo_signal</th>\n",
       "      <th>momentum_ppo_hist</th>\n",
       "      <th>others_dr</th>\n",
       "      <th>others_dlr</th>\n",
       "      <th>others_cr</th>\n",
       "    </tr>\n",
       "    <tr>\n",
       "      <th>Date</th>\n",
       "      <th></th>\n",
       "      <th></th>\n",
       "      <th></th>\n",
       "      <th></th>\n",
       "      <th></th>\n",
       "      <th></th>\n",
       "      <th></th>\n",
       "      <th></th>\n",
       "      <th></th>\n",
       "      <th></th>\n",
       "      <th></th>\n",
       "      <th></th>\n",
       "      <th></th>\n",
       "      <th></th>\n",
       "      <th></th>\n",
       "      <th></th>\n",
       "      <th></th>\n",
       "      <th></th>\n",
       "      <th></th>\n",
       "      <th></th>\n",
       "      <th></th>\n",
       "    </tr>\n",
       "  </thead>\n",
       "  <tbody>\n",
       "    <tr>\n",
       "      <th>2020-09-05</th>\n",
       "      <td>10512.530273</td>\n",
       "      <td>10581.571289</td>\n",
       "      <td>9946.675781</td>\n",
       "      <td>10169.567383</td>\n",
       "      <td>4.491657e+10</td>\n",
       "      <td>-1.337901e+10</td>\n",
       "      <td>4.491657e+10</td>\n",
       "      <td>-0.297864</td>\n",
       "      <td>0.000000e+00</td>\n",
       "      <td>50.000000</td>\n",
       "      <td>...</td>\n",
       "      <td>-64.893183</td>\n",
       "      <td>0.000000</td>\n",
       "      <td>10169.567383</td>\n",
       "      <td>0.000000</td>\n",
       "      <td>0.000000</td>\n",
       "      <td>0.000000</td>\n",
       "      <td>0.000000</td>\n",
       "      <td>-71.759801</td>\n",
       "      <td>0.000000</td>\n",
       "      <td>0.000000</td>\n",
       "    </tr>\n",
       "    <tr>\n",
       "      <th>2020-09-06</th>\n",
       "      <td>10167.216797</td>\n",
       "      <td>10353.927734</td>\n",
       "      <td>10056.885742</td>\n",
       "      <td>10280.351562</td>\n",
       "      <td>3.707146e+10</td>\n",
       "      <td>5.327528e+09</td>\n",
       "      <td>8.198803e+10</td>\n",
       "      <td>0.064979</td>\n",
       "      <td>4.106931e+12</td>\n",
       "      <td>0.000000</td>\n",
       "      <td>...</td>\n",
       "      <td>-47.443985</td>\n",
       "      <td>0.000000</td>\n",
       "      <td>10194.383665</td>\n",
       "      <td>0.000000</td>\n",
       "      <td>-1.411558</td>\n",
       "      <td>-0.282312</td>\n",
       "      <td>-1.129246</td>\n",
       "      <td>1.089370</td>\n",
       "      <td>1.083479</td>\n",
       "      <td>1.089370</td>\n",
       "    </tr>\n",
       "    <tr>\n",
       "      <th>2020-09-07</th>\n",
       "      <td>10280.998047</td>\n",
       "      <td>10399.153320</td>\n",
       "      <td>9916.493164</td>\n",
       "      <td>10369.563477</td>\n",
       "      <td>3.370310e+10</td>\n",
       "      <td>3.489824e+10</td>\n",
       "      <td>1.156911e+11</td>\n",
       "      <td>0.301650</td>\n",
       "      <td>3.949758e+12</td>\n",
       "      <td>0.000000</td>\n",
       "      <td>...</td>\n",
       "      <td>-31.877129</td>\n",
       "      <td>0.000000</td>\n",
       "      <td>10234.465387</td>\n",
       "      <td>0.000000</td>\n",
       "      <td>-3.163656</td>\n",
       "      <td>-0.858580</td>\n",
       "      <td>-2.305076</td>\n",
       "      <td>0.867790</td>\n",
       "      <td>0.864047</td>\n",
       "      <td>1.966614</td>\n",
       "    </tr>\n",
       "    <tr>\n",
       "      <th>2020-09-08</th>\n",
       "      <td>10369.306641</td>\n",
       "      <td>10414.775391</td>\n",
       "      <td>9945.110352</td>\n",
       "      <td>10131.516602</td>\n",
       "      <td>3.343093e+10</td>\n",
       "      <td>2.800424e+10</td>\n",
       "      <td>8.226020e+10</td>\n",
       "      <td>0.187794</td>\n",
       "      <td>2.248631e+12</td>\n",
       "      <td>0.000000</td>\n",
       "      <td>...</td>\n",
       "      <td>-67.669447</td>\n",
       "      <td>0.000000</td>\n",
       "      <td>10207.824891</td>\n",
       "      <td>0.000000</td>\n",
       "      <td>-4.609510</td>\n",
       "      <td>-1.608766</td>\n",
       "      <td>-3.000744</td>\n",
       "      <td>-2.295631</td>\n",
       "      <td>-2.322391</td>\n",
       "      <td>-0.374163</td>\n",
       "    </tr>\n",
       "    <tr>\n",
       "      <th>2020-09-09</th>\n",
       "      <td>10134.151367</td>\n",
       "      <td>10350.542969</td>\n",
       "      <td>10017.250977</td>\n",
       "      <td>10242.347656</td>\n",
       "      <td>2.412829e+10</td>\n",
       "      <td>3.646718e+10</td>\n",
       "      <td>1.063885e+11</td>\n",
       "      <td>0.210488</td>\n",
       "      <td>2.309422e+12</td>\n",
       "      <td>18.793719</td>\n",
       "      <td>...</td>\n",
       "      <td>-51.005080</td>\n",
       "      <td>0.000000</td>\n",
       "      <td>10218.771938</td>\n",
       "      <td>0.000000</td>\n",
       "      <td>-7.626736</td>\n",
       "      <td>-2.812360</td>\n",
       "      <td>-4.814376</td>\n",
       "      <td>1.093924</td>\n",
       "      <td>1.087984</td>\n",
       "      <td>0.715667</td>\n",
       "    </tr>\n",
       "    <tr>\n",
       "      <th>...</th>\n",
       "      <td>...</td>\n",
       "      <td>...</td>\n",
       "      <td>...</td>\n",
       "      <td>...</td>\n",
       "      <td>...</td>\n",
       "      <td>...</td>\n",
       "      <td>...</td>\n",
       "      <td>...</td>\n",
       "      <td>...</td>\n",
       "      <td>...</td>\n",
       "      <td>...</td>\n",
       "      <td>...</td>\n",
       "      <td>...</td>\n",
       "      <td>...</td>\n",
       "      <td>...</td>\n",
       "      <td>...</td>\n",
       "      <td>...</td>\n",
       "      <td>...</td>\n",
       "      <td>...</td>\n",
       "      <td>...</td>\n",
       "      <td>...</td>\n",
       "    </tr>\n",
       "    <tr>\n",
       "      <th>2021-10-02</th>\n",
       "      <td>48137.468750</td>\n",
       "      <td>48282.062500</td>\n",
       "      <td>47465.496094</td>\n",
       "      <td>47711.488281</td>\n",
       "      <td>3.061435e+10</td>\n",
       "      <td>2.595646e+12</td>\n",
       "      <td>1.081254e+12</td>\n",
       "      <td>0.078539</td>\n",
       "      <td>1.911563e+13</td>\n",
       "      <td>55.072241</td>\n",
       "      <td>...</td>\n",
       "      <td>-8.377541</td>\n",
       "      <td>-2040.858490</td>\n",
       "      <td>45546.292257</td>\n",
       "      <td>11.361474</td>\n",
       "      <td>-2.040357</td>\n",
       "      <td>-1.554728</td>\n",
       "      <td>-0.485628</td>\n",
       "      <td>-0.842641</td>\n",
       "      <td>-0.846211</td>\n",
       "      <td>369.159468</td>\n",
       "    </tr>\n",
       "    <tr>\n",
       "      <th>2021-10-03</th>\n",
       "      <td>47680.027344</td>\n",
       "      <td>49130.691406</td>\n",
       "      <td>47157.289062</td>\n",
       "      <td>48199.953125</td>\n",
       "      <td>2.663812e+10</td>\n",
       "      <td>2.597157e+12</td>\n",
       "      <td>1.107892e+12</td>\n",
       "      <td>0.087725</td>\n",
       "      <td>1.824365e+13</td>\n",
       "      <td>61.022585</td>\n",
       "      <td>...</td>\n",
       "      <td>-9.961791</td>\n",
       "      <td>-788.801620</td>\n",
       "      <td>45674.419879</td>\n",
       "      <td>18.445808</td>\n",
       "      <td>-3.671180</td>\n",
       "      <td>-1.978019</td>\n",
       "      <td>-1.693162</td>\n",
       "      <td>1.023789</td>\n",
       "      <td>1.018584</td>\n",
       "      <td>373.962670</td>\n",
       "    </tr>\n",
       "    <tr>\n",
       "      <th>2021-10-04</th>\n",
       "      <td>48208.906250</td>\n",
       "      <td>49456.777344</td>\n",
       "      <td>47045.003906</td>\n",
       "      <td>49112.902344</td>\n",
       "      <td>3.338317e+10</td>\n",
       "      <td>2.621020e+12</td>\n",
       "      <td>1.141275e+12</td>\n",
       "      <td>0.072291</td>\n",
       "      <td>1.999129e+13</td>\n",
       "      <td>69.587151</td>\n",
       "      <td>...</td>\n",
       "      <td>-3.556407</td>\n",
       "      <td>500.911328</td>\n",
       "      <td>46191.975941</td>\n",
       "      <td>12.710171</td>\n",
       "      <td>-3.313671</td>\n",
       "      <td>-2.245149</td>\n",
       "      <td>-1.068522</td>\n",
       "      <td>1.894087</td>\n",
       "      <td>1.876373</td>\n",
       "      <td>382.939937</td>\n",
       "    </tr>\n",
       "    <tr>\n",
       "      <th>2021-10-05</th>\n",
       "      <td>49174.960938</td>\n",
       "      <td>51839.984375</td>\n",
       "      <td>49072.839844</td>\n",
       "      <td>51514.812500</td>\n",
       "      <td>3.587390e+10</td>\n",
       "      <td>2.648463e+12</td>\n",
       "      <td>1.177149e+12</td>\n",
       "      <td>0.081922</td>\n",
       "      <td>2.944481e+13</td>\n",
       "      <td>78.889292</td>\n",
       "      <td>...</td>\n",
       "      <td>-2.899605</td>\n",
       "      <td>1961.426907</td>\n",
       "      <td>47241.756324</td>\n",
       "      <td>14.744850</td>\n",
       "      <td>-2.400365</td>\n",
       "      <td>-2.276192</td>\n",
       "      <td>-0.124173</td>\n",
       "      <td>4.890589</td>\n",
       "      <td>4.774761</td>\n",
       "      <td>406.558544</td>\n",
       "    </tr>\n",
       "    <tr>\n",
       "      <th>2021-10-06</th>\n",
       "      <td>51486.664062</td>\n",
       "      <td>55568.464844</td>\n",
       "      <td>50488.191406</td>\n",
       "      <td>55361.449219</td>\n",
       "      <td>4.903473e+10</td>\n",
       "      <td>2.693502e+12</td>\n",
       "      <td>1.226183e+12</td>\n",
       "      <td>0.144615</td>\n",
       "      <td>5.218395e+13</td>\n",
       "      <td>79.855664</td>\n",
       "      <td>...</td>\n",
       "      <td>-1.404563</td>\n",
       "      <td>3287.652045</td>\n",
       "      <td>49169.287639</td>\n",
       "      <td>29.229160</td>\n",
       "      <td>1.350263</td>\n",
       "      <td>-1.550901</td>\n",
       "      <td>2.901164</td>\n",
       "      <td>7.467050</td>\n",
       "      <td>7.201410</td>\n",
       "      <td>444.383523</td>\n",
       "    </tr>\n",
       "  </tbody>\n",
       "</table>\n",
       "<p>397 rows × 88 columns</p>\n",
       "</div>"
      ],
      "text/plain": [
       "                    Open          High           Low         Close  \\\n",
       "Date                                                                 \n",
       "2020-09-05  10512.530273  10581.571289   9946.675781  10169.567383   \n",
       "2020-09-06  10167.216797  10353.927734  10056.885742  10280.351562   \n",
       "2020-09-07  10280.998047  10399.153320   9916.493164  10369.563477   \n",
       "2020-09-08  10369.306641  10414.775391   9945.110352  10131.516602   \n",
       "2020-09-09  10134.151367  10350.542969  10017.250977  10242.347656   \n",
       "...                  ...           ...           ...           ...   \n",
       "2021-10-02  48137.468750  48282.062500  47465.496094  47711.488281   \n",
       "2021-10-03  47680.027344  49130.691406  47157.289062  48199.953125   \n",
       "2021-10-04  48208.906250  49456.777344  47045.003906  49112.902344   \n",
       "2021-10-05  49174.960938  51839.984375  49072.839844  51514.812500   \n",
       "2021-10-06  51486.664062  55568.464844  50488.191406  55361.449219   \n",
       "\n",
       "                  Volume    volume_adi    volume_obv  volume_cmf  \\\n",
       "Date                                                               \n",
       "2020-09-05  4.491657e+10 -1.337901e+10  4.491657e+10   -0.297864   \n",
       "2020-09-06  3.707146e+10  5.327528e+09  8.198803e+10    0.064979   \n",
       "2020-09-07  3.370310e+10  3.489824e+10  1.156911e+11    0.301650   \n",
       "2020-09-08  3.343093e+10  2.800424e+10  8.226020e+10    0.187794   \n",
       "2020-09-09  2.412829e+10  3.646718e+10  1.063885e+11    0.210488   \n",
       "...                  ...           ...           ...         ...   \n",
       "2021-10-02  3.061435e+10  2.595646e+12  1.081254e+12    0.078539   \n",
       "2021-10-03  2.663812e+10  2.597157e+12  1.107892e+12    0.087725   \n",
       "2021-10-04  3.338317e+10  2.621020e+12  1.141275e+12    0.072291   \n",
       "2021-10-05  3.587390e+10  2.648463e+12  1.177149e+12    0.081922   \n",
       "2021-10-06  4.903473e+10  2.693502e+12  1.226183e+12    0.144615   \n",
       "\n",
       "               volume_fi  volume_mfi  ...  momentum_wr  momentum_ao  \\\n",
       "Date                                  ...                             \n",
       "2020-09-05  0.000000e+00   50.000000  ...   -64.893183     0.000000   \n",
       "2020-09-06  4.106931e+12    0.000000  ...   -47.443985     0.000000   \n",
       "2020-09-07  3.949758e+12    0.000000  ...   -31.877129     0.000000   \n",
       "2020-09-08  2.248631e+12    0.000000  ...   -67.669447     0.000000   \n",
       "2020-09-09  2.309422e+12   18.793719  ...   -51.005080     0.000000   \n",
       "...                  ...         ...  ...          ...          ...   \n",
       "2021-10-02  1.911563e+13   55.072241  ...    -8.377541 -2040.858490   \n",
       "2021-10-03  1.824365e+13   61.022585  ...    -9.961791  -788.801620   \n",
       "2021-10-04  1.999129e+13   69.587151  ...    -3.556407   500.911328   \n",
       "2021-10-05  2.944481e+13   78.889292  ...    -2.899605  1961.426907   \n",
       "2021-10-06  5.218395e+13   79.855664  ...    -1.404563  3287.652045   \n",
       "\n",
       "            momentum_kama  momentum_roc  momentum_ppo  momentum_ppo_signal  \\\n",
       "Date                                                                         \n",
       "2020-09-05   10169.567383      0.000000      0.000000             0.000000   \n",
       "2020-09-06   10194.383665      0.000000     -1.411558            -0.282312   \n",
       "2020-09-07   10234.465387      0.000000     -3.163656            -0.858580   \n",
       "2020-09-08   10207.824891      0.000000     -4.609510            -1.608766   \n",
       "2020-09-09   10218.771938      0.000000     -7.626736            -2.812360   \n",
       "...                   ...           ...           ...                  ...   \n",
       "2021-10-02   45546.292257     11.361474     -2.040357            -1.554728   \n",
       "2021-10-03   45674.419879     18.445808     -3.671180            -1.978019   \n",
       "2021-10-04   46191.975941     12.710171     -3.313671            -2.245149   \n",
       "2021-10-05   47241.756324     14.744850     -2.400365            -2.276192   \n",
       "2021-10-06   49169.287639     29.229160      1.350263            -1.550901   \n",
       "\n",
       "            momentum_ppo_hist  others_dr  others_dlr   others_cr  \n",
       "Date                                                              \n",
       "2020-09-05           0.000000 -71.759801    0.000000    0.000000  \n",
       "2020-09-06          -1.129246   1.089370    1.083479    1.089370  \n",
       "2020-09-07          -2.305076   0.867790    0.864047    1.966614  \n",
       "2020-09-08          -3.000744  -2.295631   -2.322391   -0.374163  \n",
       "2020-09-09          -4.814376   1.093924    1.087984    0.715667  \n",
       "...                       ...        ...         ...         ...  \n",
       "2021-10-02          -0.485628  -0.842641   -0.846211  369.159468  \n",
       "2021-10-03          -1.693162   1.023789    1.018584  373.962670  \n",
       "2021-10-04          -1.068522   1.894087    1.876373  382.939937  \n",
       "2021-10-05          -0.124173   4.890589    4.774761  406.558544  \n",
       "2021-10-06           2.901164   7.467050    7.201410  444.383523  \n",
       "\n",
       "[397 rows x 88 columns]"
      ]
     },
     "execution_count": 312,
     "metadata": {},
     "output_type": "execute_result"
    }
   ],
   "source": [
    "df = add_all_ta_features(\n",
    "    df, \n",
    "    open=\"Open\", \n",
    "    high=\"High\", \n",
    "    low=\"Low\", \n",
    "    close=\"Close\", \n",
    "    volume=\"Volume\", \n",
    "    fillna=True\n",
    ")\n",
    "\n",
    "df"
   ]
  },
  {
   "cell_type": "markdown",
   "metadata": {},
   "source": [
    "# 2. Data Transformation/Preprocessing\n",
    "Changing from time-series data to tabular data.\n",
    "\n",
    "__E.g.)__ A 10% increase in Volume _from 10 days ago to today_ leads to 10% increase in the Open price in the _next_ 10 days. "
   ]
  },
  {
   "cell_type": "code",
   "execution_count": 313,
   "metadata": {},
   "outputs": [],
   "source": [
    "def transformData(df):\n",
    "    \"\"\"\n",
    "    Transforming data into X variables for training.  Uses percent change and \n",
    "    multiplies the percentage by 100 rounded to 2 decimal places.\n",
    "    \"\"\"\n",
    "    # Transforming data\n",
    "    new_df = df.pct_change(\n",
    "        10\n",
    "    ).apply(\n",
    "        lambda x: round(x*100, 2)\n",
    "    ).replace(\n",
    "        [np.inf, -np.inf], \n",
    "        np.nan\n",
    "    )\n",
    "    \n",
    "    # Dropping Nans\n",
    "    new_df = new_df.dropna(\n",
    "        thresh=round(new_df.shape[1]*.7) # If 70% of the values in the row are Nans, drop the whole row\n",
    "    ).dropna(\n",
    "        axis=1,\n",
    "        thresh=round(new_df.shape[0]*.7) # If 70% of the values in the columns are Nans, drop the whole column\n",
    "    )\n",
    "    \n",
    "    # What the percent change is going to be in the next days AKA the Y Variable\n",
    "    new_df['future_10_days']= df['Open'].pct_change(\n",
    "        10\n",
    "    ).shift(\n",
    "        -10\n",
    "    ).apply(\n",
    "        lambda x: round(x*100, 2)\n",
    "    )\n",
    "\n",
    "    # Dropping the last NaNs from the Y variable\n",
    "    new_df = new_df.dropna(\n",
    "        subset=['future_10_days']\n",
    "    )\n",
    "\n",
    "    # Filling in the rest of the NaNs with the most recent value\n",
    "    new_df = new_df.fillna(method='ffill').dropna()\n",
    "\n",
    "    return new_df"
   ]
  },
  {
   "cell_type": "code",
   "execution_count": 314,
   "metadata": {},
   "outputs": [
    {
     "data": {
      "text/html": [
       "<div>\n",
       "<style scoped>\n",
       "    .dataframe tbody tr th:only-of-type {\n",
       "        vertical-align: middle;\n",
       "    }\n",
       "\n",
       "    .dataframe tbody tr th {\n",
       "        vertical-align: top;\n",
       "    }\n",
       "\n",
       "    .dataframe thead th {\n",
       "        text-align: right;\n",
       "    }\n",
       "</style>\n",
       "<table border=\"1\" class=\"dataframe\">\n",
       "  <thead>\n",
       "    <tr style=\"text-align: right;\">\n",
       "      <th></th>\n",
       "      <th>Open</th>\n",
       "      <th>High</th>\n",
       "      <th>Low</th>\n",
       "      <th>Close</th>\n",
       "      <th>Volume</th>\n",
       "      <th>volume_adi</th>\n",
       "      <th>volume_obv</th>\n",
       "      <th>volume_cmf</th>\n",
       "      <th>volume_fi</th>\n",
       "      <th>volume_mfi</th>\n",
       "      <th>...</th>\n",
       "      <th>momentum_ao</th>\n",
       "      <th>momentum_kama</th>\n",
       "      <th>momentum_roc</th>\n",
       "      <th>momentum_ppo</th>\n",
       "      <th>momentum_ppo_signal</th>\n",
       "      <th>momentum_ppo_hist</th>\n",
       "      <th>others_dr</th>\n",
       "      <th>others_dlr</th>\n",
       "      <th>others_cr</th>\n",
       "      <th>future_10_days</th>\n",
       "    </tr>\n",
       "    <tr>\n",
       "      <th>Date</th>\n",
       "      <th></th>\n",
       "      <th></th>\n",
       "      <th></th>\n",
       "      <th></th>\n",
       "      <th></th>\n",
       "      <th></th>\n",
       "      <th></th>\n",
       "      <th></th>\n",
       "      <th></th>\n",
       "      <th></th>\n",
       "      <th></th>\n",
       "      <th></th>\n",
       "      <th></th>\n",
       "      <th></th>\n",
       "      <th></th>\n",
       "      <th></th>\n",
       "      <th></th>\n",
       "      <th></th>\n",
       "      <th></th>\n",
       "      <th></th>\n",
       "      <th></th>\n",
       "    </tr>\n",
       "  </thead>\n",
       "  <tbody>\n",
       "    <tr>\n",
       "      <th>2020-10-12</th>\n",
       "      <td>6.32</td>\n",
       "      <td>7.18</td>\n",
       "      <td>8.13</td>\n",
       "      <td>7.55</td>\n",
       "      <td>-13.66</td>\n",
       "      <td>70.93</td>\n",
       "      <td>69.73</td>\n",
       "      <td>135.27</td>\n",
       "      <td>-439.16</td>\n",
       "      <td>20.41</td>\n",
       "      <td>...</td>\n",
       "      <td>171.03</td>\n",
       "      <td>2.13</td>\n",
       "      <td>-271.31</td>\n",
       "      <td>-23.50</td>\n",
       "      <td>-14.57</td>\n",
       "      <td>139.61</td>\n",
       "      <td>-100.00</td>\n",
       "      <td>-100.00</td>\n",
       "      <td>192.26</td>\n",
       "      <td>13.33</td>\n",
       "    </tr>\n",
       "    <tr>\n",
       "      <th>2020-10-13</th>\n",
       "      <td>6.73</td>\n",
       "      <td>7.68</td>\n",
       "      <td>7.23</td>\n",
       "      <td>7.75</td>\n",
       "      <td>16.82</td>\n",
       "      <td>79.35</td>\n",
       "      <td>100.78</td>\n",
       "      <td>128.15</td>\n",
       "      <td>-400.00</td>\n",
       "      <td>35.47</td>\n",
       "      <td>...</td>\n",
       "      <td>426.13</td>\n",
       "      <td>3.03</td>\n",
       "      <td>625.85</td>\n",
       "      <td>-31.41</td>\n",
       "      <td>-18.00</td>\n",
       "      <td>-778.65</td>\n",
       "      <td>-100.00</td>\n",
       "      <td>-100.00</td>\n",
       "      <td>206.78</td>\n",
       "      <td>14.83</td>\n",
       "    </tr>\n",
       "    <tr>\n",
       "      <th>2020-10-14</th>\n",
       "      <td>8.15</td>\n",
       "      <td>7.84</td>\n",
       "      <td>7.37</td>\n",
       "      <td>6.97</td>\n",
       "      <td>37.37</td>\n",
       "      <td>62.64</td>\n",
       "      <td>94.43</td>\n",
       "      <td>103.68</td>\n",
       "      <td>-2195.54</td>\n",
       "      <td>36.91</td>\n",
       "      <td>...</td>\n",
       "      <td>873.12</td>\n",
       "      <td>3.69</td>\n",
       "      <td>475.89</td>\n",
       "      <td>-45.58</td>\n",
       "      <td>-23.80</td>\n",
       "      <td>-473.01</td>\n",
       "      <td>-64.63</td>\n",
       "      <td>-64.50</td>\n",
       "      <td>144.71</td>\n",
       "      <td>13.15</td>\n",
       "    </tr>\n",
       "    <tr>\n",
       "      <th>2020-10-15</th>\n",
       "      <td>6.91</td>\n",
       "      <td>7.09</td>\n",
       "      <td>6.17</td>\n",
       "      <td>6.40</td>\n",
       "      <td>26.32</td>\n",
       "      <td>50.02</td>\n",
       "      <td>87.65</td>\n",
       "      <td>59.25</td>\n",
       "      <td>355.96</td>\n",
       "      <td>37.55</td>\n",
       "      <td>...</td>\n",
       "      <td>1189.44</td>\n",
       "      <td>4.29</td>\n",
       "      <td>55.67</td>\n",
       "      <td>-55.31</td>\n",
       "      <td>-30.30</td>\n",
       "      <td>-828.00</td>\n",
       "      <td>-48.52</td>\n",
       "      <td>-48.39</td>\n",
       "      <td>108.97</td>\n",
       "      <td>14.72</td>\n",
       "    </tr>\n",
       "    <tr>\n",
       "      <th>2020-10-16</th>\n",
       "      <td>6.51</td>\n",
       "      <td>6.82</td>\n",
       "      <td>6.23</td>\n",
       "      <td>6.59</td>\n",
       "      <td>15.14</td>\n",
       "      <td>55.23</td>\n",
       "      <td>97.01</td>\n",
       "      <td>75.97</td>\n",
       "      <td>-236.76</td>\n",
       "      <td>34.59</td>\n",
       "      <td>...</td>\n",
       "      <td>1369.72</td>\n",
       "      <td>4.48</td>\n",
       "      <td>-617.69</td>\n",
       "      <td>-63.39</td>\n",
       "      <td>-36.67</td>\n",
       "      <td>637.82</td>\n",
       "      <td>-10.71</td>\n",
       "      <td>-10.79</td>\n",
       "      <td>154.94</td>\n",
       "      <td>13.29</td>\n",
       "    </tr>\n",
       "    <tr>\n",
       "      <th>...</th>\n",
       "      <td>...</td>\n",
       "      <td>...</td>\n",
       "      <td>...</td>\n",
       "      <td>...</td>\n",
       "      <td>...</td>\n",
       "      <td>...</td>\n",
       "      <td>...</td>\n",
       "      <td>...</td>\n",
       "      <td>...</td>\n",
       "      <td>...</td>\n",
       "      <td>...</td>\n",
       "      <td>...</td>\n",
       "      <td>...</td>\n",
       "      <td>...</td>\n",
       "      <td>...</td>\n",
       "      <td>...</td>\n",
       "      <td>...</td>\n",
       "      <td>...</td>\n",
       "      <td>...</td>\n",
       "      <td>...</td>\n",
       "      <td>...</td>\n",
       "    </tr>\n",
       "    <tr>\n",
       "      <th>2021-09-22</th>\n",
       "      <td>-10.02</td>\n",
       "      <td>-5.15</td>\n",
       "      <td>-9.30</td>\n",
       "      <td>-5.40</td>\n",
       "      <td>36.79</td>\n",
       "      <td>0.12</td>\n",
       "      <td>-7.32</td>\n",
       "      <td>97.44</td>\n",
       "      <td>-1.28</td>\n",
       "      <td>-25.11</td>\n",
       "      <td>...</td>\n",
       "      <td>49.34</td>\n",
       "      <td>-1.47</td>\n",
       "      <td>24.70</td>\n",
       "      <td>-46.27</td>\n",
       "      <td>-91.30</td>\n",
       "      <td>-147.38</td>\n",
       "      <td>271.30</td>\n",
       "      <td>262.16</td>\n",
       "      <td>-6.93</td>\n",
       "      <td>18.34</td>\n",
       "    </tr>\n",
       "    <tr>\n",
       "      <th>2021-09-23</th>\n",
       "      <td>-5.42</td>\n",
       "      <td>-3.55</td>\n",
       "      <td>-1.11</td>\n",
       "      <td>-0.15</td>\n",
       "      <td>-16.42</td>\n",
       "      <td>1.55</td>\n",
       "      <td>-0.89</td>\n",
       "      <td>16.08</td>\n",
       "      <td>-54.33</td>\n",
       "      <td>-25.53</td>\n",
       "      <td>...</td>\n",
       "      <td>72.05</td>\n",
       "      <td>-1.05</td>\n",
       "      <td>-91.48</td>\n",
       "      <td>-72.33</td>\n",
       "      <td>-88.76</td>\n",
       "      <td>-121.98</td>\n",
       "      <td>-226.89</td>\n",
       "      <td>-223.50</td>\n",
       "      <td>-0.20</td>\n",
       "      <td>9.46</td>\n",
       "    </tr>\n",
       "    <tr>\n",
       "      <th>2021-09-24</th>\n",
       "      <td>-0.15</td>\n",
       "      <td>-4.53</td>\n",
       "      <td>-8.53</td>\n",
       "      <td>-9.03</td>\n",
       "      <td>10.83</td>\n",
       "      <td>0.04</td>\n",
       "      <td>-7.88</td>\n",
       "      <td>3.91</td>\n",
       "      <td>146.16</td>\n",
       "      <td>-33.53</td>\n",
       "      <td>...</td>\n",
       "      <td>101.01</td>\n",
       "      <td>-1.43</td>\n",
       "      <td>54.43</td>\n",
       "      <td>-33.53</td>\n",
       "      <td>-81.29</td>\n",
       "      <td>-180.98</td>\n",
       "      <td>-196.67</td>\n",
       "      <td>-201.28</td>\n",
       "      <td>-11.52</td>\n",
       "      <td>7.38</td>\n",
       "    </tr>\n",
       "    <tr>\n",
       "      <th>2021-09-25</th>\n",
       "      <td>-9.04</td>\n",
       "      <td>-11.26</td>\n",
       "      <td>-10.72</td>\n",
       "      <td>-11.33</td>\n",
       "      <td>3.67</td>\n",
       "      <td>-0.08</td>\n",
       "      <td>-12.89</td>\n",
       "      <td>-49.07</td>\n",
       "      <td>558.35</td>\n",
       "      <td>-32.16</td>\n",
       "      <td>...</td>\n",
       "      <td>156.57</td>\n",
       "      <td>-2.11</td>\n",
       "      <td>35.17</td>\n",
       "      <td>-44.96</td>\n",
       "      <td>-78.84</td>\n",
       "      <td>-96.09</td>\n",
       "      <td>-112.49</td>\n",
       "      <td>-112.65</td>\n",
       "      <td>-14.37</td>\n",
       "      <td>14.79</td>\n",
       "    </tr>\n",
       "    <tr>\n",
       "      <th>2021-09-26</th>\n",
       "      <td>-11.29</td>\n",
       "      <td>-9.42</td>\n",
       "      <td>-13.24</td>\n",
       "      <td>-9.57</td>\n",
       "      <td>-3.47</td>\n",
       "      <td>0.55</td>\n",
       "      <td>-7.86</td>\n",
       "      <td>-51.86</td>\n",
       "      <td>236.34</td>\n",
       "      <td>-23.75</td>\n",
       "      <td>...</td>\n",
       "      <td>214.45</td>\n",
       "      <td>-2.55</td>\n",
       "      <td>90.59</td>\n",
       "      <td>-468.56</td>\n",
       "      <td>-82.38</td>\n",
       "      <td>-64.00</td>\n",
       "      <td>-241.18</td>\n",
       "      <td>-239.80</td>\n",
       "      <td>-12.16</td>\n",
       "      <td>20.52</td>\n",
       "    </tr>\n",
       "  </tbody>\n",
       "</table>\n",
       "<p>350 rows × 83 columns</p>\n",
       "</div>"
      ],
      "text/plain": [
       "             Open   High    Low  Close  Volume  volume_adi  volume_obv  \\\n",
       "Date                                                                     \n",
       "2020-10-12   6.32   7.18   8.13   7.55  -13.66       70.93       69.73   \n",
       "2020-10-13   6.73   7.68   7.23   7.75   16.82       79.35      100.78   \n",
       "2020-10-14   8.15   7.84   7.37   6.97   37.37       62.64       94.43   \n",
       "2020-10-15   6.91   7.09   6.17   6.40   26.32       50.02       87.65   \n",
       "2020-10-16   6.51   6.82   6.23   6.59   15.14       55.23       97.01   \n",
       "...           ...    ...    ...    ...     ...         ...         ...   \n",
       "2021-09-22 -10.02  -5.15  -9.30  -5.40   36.79        0.12       -7.32   \n",
       "2021-09-23  -5.42  -3.55  -1.11  -0.15  -16.42        1.55       -0.89   \n",
       "2021-09-24  -0.15  -4.53  -8.53  -9.03   10.83        0.04       -7.88   \n",
       "2021-09-25  -9.04 -11.26 -10.72 -11.33    3.67       -0.08      -12.89   \n",
       "2021-09-26 -11.29  -9.42 -13.24  -9.57   -3.47        0.55       -7.86   \n",
       "\n",
       "            volume_cmf  volume_fi  volume_mfi  ...  momentum_ao  \\\n",
       "Date                                           ...                \n",
       "2020-10-12      135.27    -439.16       20.41  ...       171.03   \n",
       "2020-10-13      128.15    -400.00       35.47  ...       426.13   \n",
       "2020-10-14      103.68   -2195.54       36.91  ...       873.12   \n",
       "2020-10-15       59.25     355.96       37.55  ...      1189.44   \n",
       "2020-10-16       75.97    -236.76       34.59  ...      1369.72   \n",
       "...                ...        ...         ...  ...          ...   \n",
       "2021-09-22       97.44      -1.28      -25.11  ...        49.34   \n",
       "2021-09-23       16.08     -54.33      -25.53  ...        72.05   \n",
       "2021-09-24        3.91     146.16      -33.53  ...       101.01   \n",
       "2021-09-25      -49.07     558.35      -32.16  ...       156.57   \n",
       "2021-09-26      -51.86     236.34      -23.75  ...       214.45   \n",
       "\n",
       "            momentum_kama  momentum_roc  momentum_ppo  momentum_ppo_signal  \\\n",
       "Date                                                                         \n",
       "2020-10-12           2.13       -271.31        -23.50               -14.57   \n",
       "2020-10-13           3.03        625.85        -31.41               -18.00   \n",
       "2020-10-14           3.69        475.89        -45.58               -23.80   \n",
       "2020-10-15           4.29         55.67        -55.31               -30.30   \n",
       "2020-10-16           4.48       -617.69        -63.39               -36.67   \n",
       "...                   ...           ...           ...                  ...   \n",
       "2021-09-22          -1.47         24.70        -46.27               -91.30   \n",
       "2021-09-23          -1.05        -91.48        -72.33               -88.76   \n",
       "2021-09-24          -1.43         54.43        -33.53               -81.29   \n",
       "2021-09-25          -2.11         35.17        -44.96               -78.84   \n",
       "2021-09-26          -2.55         90.59       -468.56               -82.38   \n",
       "\n",
       "            momentum_ppo_hist  others_dr  others_dlr  others_cr  \\\n",
       "Date                                                              \n",
       "2020-10-12             139.61    -100.00     -100.00     192.26   \n",
       "2020-10-13            -778.65    -100.00     -100.00     206.78   \n",
       "2020-10-14            -473.01     -64.63      -64.50     144.71   \n",
       "2020-10-15            -828.00     -48.52      -48.39     108.97   \n",
       "2020-10-16             637.82     -10.71      -10.79     154.94   \n",
       "...                       ...        ...         ...        ...   \n",
       "2021-09-22            -147.38     271.30      262.16      -6.93   \n",
       "2021-09-23            -121.98    -226.89     -223.50      -0.20   \n",
       "2021-09-24            -180.98    -196.67     -201.28     -11.52   \n",
       "2021-09-25             -96.09    -112.49     -112.65     -14.37   \n",
       "2021-09-26             -64.00    -241.18     -239.80     -12.16   \n",
       "\n",
       "            future_10_days  \n",
       "Date                        \n",
       "2020-10-12           13.33  \n",
       "2020-10-13           14.83  \n",
       "2020-10-14           13.15  \n",
       "2020-10-15           14.72  \n",
       "2020-10-16           13.29  \n",
       "...                    ...  \n",
       "2021-09-22           18.34  \n",
       "2021-09-23            9.46  \n",
       "2021-09-24            7.38  \n",
       "2021-09-25           14.79  \n",
       "2021-09-26           20.52  \n",
       "\n",
       "[350 rows x 83 columns]"
      ]
     },
     "execution_count": 314,
     "metadata": {},
     "output_type": "execute_result"
    }
   ],
   "source": [
    "new_df = transformData(df)\n",
    "\n",
    "new_df"
   ]
  },
  {
   "cell_type": "markdown",
   "metadata": {},
   "source": [
    "# 3. Fit to Linear Model"
   ]
  },
  {
   "cell_type": "code",
   "execution_count": 315,
   "metadata": {},
   "outputs": [],
   "source": [
    "# Train, test, split\n",
    "X = new_df.drop('future_10_days', axis=1)\n",
    "\n",
    "y = new_df[['future_10_days']]\n",
    "\n",
    "X_train, X_test, y_train, y_test = train_test_split(\n",
    "    X, y, test_size=0.20\n",
    ")"
   ]
  },
  {
   "cell_type": "code",
   "execution_count": 316,
   "metadata": {},
   "outputs": [],
   "source": [
    "# Model object\n",
    "reg = LinearRegression()\n",
    "\n",
    "# Fitting\n",
    "reg.fit(X_train, y_train)\n",
    "\n",
    "# Getting predictions\n",
    "preds = reg.predict(X_test)"
   ]
  },
  {
   "cell_type": "markdown",
   "metadata": {},
   "source": [
    "## Evaluation"
   ]
  },
  {
   "cell_type": "code",
   "execution_count": 317,
   "metadata": {},
   "outputs": [
    {
     "name": "stdout",
     "output_type": "stream",
     "text": [
      "RMSE: 101.90019017078254\n",
      "Coefficients:\n",
      " [[ 6.18829718e-03  1.83360982e-03  1.58762932e-02  2.00305457e-02\n",
      "  -4.70652950e-02  5.15583992e-03  2.81984745e-03  3.10534120e-03\n",
      "  -4.78396341e-04 -3.08255085e-02  3.90456150e-04 -1.81712404e-03\n",
      "   2.71564569e-03  7.45162278e-04  1.64068933e-02 -2.33422694e-04\n",
      "   1.49573122e-02  1.95698670e-02  8.96805261e-03  3.80971891e-02\n",
      "  -9.39806104e-04  1.47949970e-02  1.45267363e-02  1.49360614e-02\n",
      "  -1.95138931e-02  1.89552402e-04  9.49039515e-03  1.56209241e-02\n",
      "   1.30710533e-02  1.48487969e-02  1.82197537e-02 -1.41050727e-03\n",
      "   8.77952404e-04  3.01724193e-03 -4.31921853e-04  1.59001544e-02\n",
      "   1.27937769e-02  1.41879889e-02  1.24274717e-02 -4.90392832e-02\n",
      "   2.25616581e-02 -2.83679906e-02  4.18489436e-03 -7.15605146e-03\n",
      "  -1.78878989e-03 -2.94707268e-03 -1.00034217e-03  2.37010255e-03\n",
      "  -8.54819951e-04 -1.94614050e-03 -4.81532953e-03 -1.53901033e-03\n",
      "   1.51818475e-02  1.13213387e-02  1.31817713e-02  1.01677554e-02\n",
      "   4.76057221e-03  2.33922565e-03 -7.96865405e-03  5.40150842e-03\n",
      "  -1.29566710e-02  2.59316314e-02  3.03846888e-03  2.10722992e-08\n",
      "   1.75286104e-02  3.87064909e-03  0.00000000e+00 -1.73472348e-18\n",
      "   2.75182684e-05  9.57347928e-03  3.20551653e-03 -3.41219766e-02\n",
      "   2.32457436e-03 -3.68127837e-03  1.36060883e-02  9.39328036e-04\n",
      "  -4.61304511e-03  1.62096646e-03  9.12890172e-05  1.57502052e-02\n",
      "  -1.01599530e-02  2.31790783e-02]]\n",
      "Intercept: [1.79274711]\n"
     ]
    }
   ],
   "source": [
    "# RMSE\n",
    "print(\"RMSE:\",mean_squared_error(\n",
    "    y_test, \n",
    "    preds, \n",
    "    squared=False\n",
    "))\n",
    "\n",
    "# Coefficients\n",
    "print(\"Coefficients:\\n\", reg.coef_)\n",
    "\n",
    "# Intercept\n",
    "print(\"Intercept:\", reg.intercept_)"
   ]
  },
  {
   "cell_type": "code",
   "execution_count": 320,
   "metadata": {},
   "outputs": [
    {
     "data": {
      "text/html": [
       "<div>\n",
       "<style scoped>\n",
       "    .dataframe tbody tr th:only-of-type {\n",
       "        vertical-align: middle;\n",
       "    }\n",
       "\n",
       "    .dataframe tbody tr th {\n",
       "        vertical-align: top;\n",
       "    }\n",
       "\n",
       "    .dataframe thead th {\n",
       "        text-align: right;\n",
       "    }\n",
       "</style>\n",
       "<table border=\"1\" class=\"dataframe\">\n",
       "  <thead>\n",
       "    <tr style=\"text-align: right;\">\n",
       "      <th></th>\n",
       "      <th>actual</th>\n",
       "      <th>preds</th>\n",
       "      <th>same_direction</th>\n",
       "    </tr>\n",
       "  </thead>\n",
       "  <tbody>\n",
       "    <tr>\n",
       "      <th>0</th>\n",
       "      <td>-22.42</td>\n",
       "      <td>-4.159017</td>\n",
       "      <td>True</td>\n",
       "    </tr>\n",
       "    <tr>\n",
       "      <th>1</th>\n",
       "      <td>4.45</td>\n",
       "      <td>-7.342899</td>\n",
       "      <td>False</td>\n",
       "    </tr>\n",
       "    <tr>\n",
       "      <th>2</th>\n",
       "      <td>12.55</td>\n",
       "      <td>4.643813</td>\n",
       "      <td>True</td>\n",
       "    </tr>\n",
       "    <tr>\n",
       "      <th>3</th>\n",
       "      <td>-6.27</td>\n",
       "      <td>273.701143</td>\n",
       "      <td>False</td>\n",
       "    </tr>\n",
       "    <tr>\n",
       "      <th>4</th>\n",
       "      <td>4.78</td>\n",
       "      <td>-10.076080</td>\n",
       "      <td>False</td>\n",
       "    </tr>\n",
       "    <tr>\n",
       "      <th>...</th>\n",
       "      <td>...</td>\n",
       "      <td>...</td>\n",
       "      <td>...</td>\n",
       "    </tr>\n",
       "    <tr>\n",
       "      <th>65</th>\n",
       "      <td>8.46</td>\n",
       "      <td>17.955019</td>\n",
       "      <td>True</td>\n",
       "    </tr>\n",
       "    <tr>\n",
       "      <th>66</th>\n",
       "      <td>16.07</td>\n",
       "      <td>1.003897</td>\n",
       "      <td>True</td>\n",
       "    </tr>\n",
       "    <tr>\n",
       "      <th>67</th>\n",
       "      <td>-9.61</td>\n",
       "      <td>-11.311116</td>\n",
       "      <td>True</td>\n",
       "    </tr>\n",
       "    <tr>\n",
       "      <th>68</th>\n",
       "      <td>41.62</td>\n",
       "      <td>2.972386</td>\n",
       "      <td>True</td>\n",
       "    </tr>\n",
       "    <tr>\n",
       "      <th>69</th>\n",
       "      <td>1.38</td>\n",
       "      <td>13.848900</td>\n",
       "      <td>True</td>\n",
       "    </tr>\n",
       "  </tbody>\n",
       "</table>\n",
       "<p>70 rows × 3 columns</p>\n",
       "</div>"
      ],
      "text/plain": [
       "    actual       preds  same_direction\n",
       "0   -22.42   -4.159017            True\n",
       "1     4.45   -7.342899           False\n",
       "2    12.55    4.643813            True\n",
       "3    -6.27  273.701143           False\n",
       "4     4.78  -10.076080           False\n",
       "..     ...         ...             ...\n",
       "65    8.46   17.955019            True\n",
       "66   16.07    1.003897            True\n",
       "67   -9.61  -11.311116            True\n",
       "68   41.62    2.972386            True\n",
       "69    1.38   13.848900            True\n",
       "\n",
       "[70 rows x 3 columns]"
      ]
     },
     "metadata": {},
     "output_type": "display_data"
    },
    {
     "data": {
      "text/html": [
       "<div>\n",
       "<style scoped>\n",
       "    .dataframe tbody tr th:only-of-type {\n",
       "        vertical-align: middle;\n",
       "    }\n",
       "\n",
       "    .dataframe tbody tr th {\n",
       "        vertical-align: top;\n",
       "    }\n",
       "\n",
       "    .dataframe thead th {\n",
       "        text-align: right;\n",
       "    }\n",
       "</style>\n",
       "<table border=\"1\" class=\"dataframe\">\n",
       "  <thead>\n",
       "    <tr style=\"text-align: right;\">\n",
       "      <th></th>\n",
       "      <th>same_direction</th>\n",
       "    </tr>\n",
       "  </thead>\n",
       "  <tbody>\n",
       "    <tr>\n",
       "      <th>True</th>\n",
       "      <td>41</td>\n",
       "    </tr>\n",
       "    <tr>\n",
       "      <th>False</th>\n",
       "      <td>29</td>\n",
       "    </tr>\n",
       "  </tbody>\n",
       "</table>\n",
       "</div>"
      ],
      "text/plain": [
       "       same_direction\n",
       "True               41\n",
       "False              29"
      ]
     },
     "execution_count": 320,
     "metadata": {},
     "output_type": "execute_result"
    }
   ],
   "source": [
    "# Making a comparison DF\n",
    "compare = pd.DataFrame()\n",
    "\n",
    "compare['actual'] = y_test['future_10_days'].reset_index(drop=True)\n",
    "\n",
    "compare['preds'] = preds\n",
    "\n",
    "# Check to see if the predictions at least point in the correct direction\n",
    "compare['same_direction'] = (\n",
    "    compare['actual'].apply(lambda x: x>0)==compare['preds'].apply(lambda x: x>0)\n",
    ")\n",
    "\n",
    "display(compare)\n",
    "\n",
    "# How often did predictions land in the same direction as the actual values?\n",
    "dir_df = compare['same_direction'].value_counts().to_frame()\n",
    "\n",
    "dir_df"
   ]
  },
  {
   "cell_type": "code",
   "execution_count": 328,
   "metadata": {},
   "outputs": [
    {
     "data": {
      "application/vnd.plotly.v1+json": {
       "config": {
        "plotlyServerURL": "https://plot.ly"
       },
       "data": [
        {
         "hovertemplate": "variable=preds<br>index=%{x}<br>value=%{y}<extra></extra>",
         "legendgroup": "preds",
         "marker": {
          "color": "#636efa",
          "symbol": "circle"
         },
         "mode": "markers",
         "name": "preds",
         "orientation": "v",
         "showlegend": true,
         "type": "scatter",
         "x": [
          0,
          1,
          2,
          3,
          4,
          5,
          6,
          7,
          8,
          9,
          10,
          11,
          12,
          13,
          14,
          15,
          16,
          17,
          18,
          19,
          20,
          21,
          22,
          23,
          24,
          25,
          26,
          27,
          28,
          29,
          30,
          31,
          32,
          33,
          34,
          35,
          36,
          37,
          38,
          39,
          40,
          41,
          42,
          43,
          44,
          45,
          46,
          47,
          48,
          49,
          50,
          51,
          52,
          53,
          54,
          55,
          56,
          57,
          58,
          59,
          60,
          61,
          62,
          63,
          64,
          65,
          66,
          67,
          68,
          69
         ],
         "xaxis": "x",
         "y": [
          -4.159016501536785,
          -7.342899379310579,
          4.643812862677897,
          273.70114250709685,
          -10.07607993607547,
          16.997488617152573,
          9.847526668988573,
          10.933192335955233,
          7.992911920749053,
          -0.8628190551173618,
          22.516317678390788,
          -9.361984561077684,
          40.46142466983429,
          7.700184612785096,
          17.942359247915164,
          -1.9543902955362351,
          21.08450871513551,
          14.485730102607901,
          0.14592909984718316,
          20.578841042469683,
          -6.528399634444918,
          7.512523529285367,
          789.576865187921,
          2.6154932007489595,
          -4.9078950924871645,
          12.866060554407918,
          0.6369990314252947,
          7.414866788268235,
          22.012303709808982,
          13.16020212094466,
          12.340293607427986,
          7.732035356582083,
          1.6777968613608858,
          4.873013377926066,
          2.2504008934913666,
          -1.961859001474242,
          5.047561368828929,
          9.38818075008401,
          -8.025231148381444,
          4.664428961466624,
          4.311736825502814,
          1.868795782938536,
          2.960097966695942,
          4.039408507070352,
          2.3422390443177923,
          3.334283200268189,
          4.4588042980239155,
          -1.5280590159948768,
          -1.699556665799895,
          15.881736415241619,
          9.770863759523332,
          14.503910913510223,
          -13.292503245229438,
          -2.920365349253498,
          3.656003328582665,
          2.9717684628521055,
          37.30500216868749,
          4.511354548767561,
          -3.657304434350379,
          13.242529473691548,
          12.460386075716318,
          4.869905215145992,
          2.4042451047790823,
          2.0504628664193256,
          3.4396591755940507,
          17.955019384048025,
          1.003897244048468,
          -11.311116392173771,
          2.972385697896298,
          13.848900471849124
         ],
         "yaxis": "y"
        },
        {
         "hovertemplate": "variable=actual<br>index=%{x}<br>value=%{y}<extra></extra>",
         "legendgroup": "actual",
         "marker": {
          "color": "#EF553B",
          "symbol": "circle"
         },
         "mode": "markers",
         "name": "actual",
         "orientation": "v",
         "showlegend": true,
         "type": "scatter",
         "x": [
          0,
          1,
          2,
          3,
          4,
          5,
          6,
          7,
          8,
          9,
          10,
          11,
          12,
          13,
          14,
          15,
          16,
          17,
          18,
          19,
          20,
          21,
          22,
          23,
          24,
          25,
          26,
          27,
          28,
          29,
          30,
          31,
          32,
          33,
          34,
          35,
          36,
          37,
          38,
          39,
          40,
          41,
          42,
          43,
          44,
          45,
          46,
          47,
          48,
          49,
          50,
          51,
          52,
          53,
          54,
          55,
          56,
          57,
          58,
          59,
          60,
          61,
          62,
          63,
          64,
          65,
          66,
          67,
          68,
          69
         ],
         "xaxis": "x",
         "y": [
          -22.42,
          4.45,
          12.55,
          -6.27,
          4.78,
          9.63,
          13.15,
          -1.82,
          -5.64,
          -1.33,
          -8.79,
          -36.9,
          11.44,
          0.96,
          8.74,
          8.2,
          42.78,
          -14.92,
          -10.44,
          -9.04,
          -27.06,
          8.57,
          -4.42,
          4.52,
          -4.95,
          7.22,
          5.89,
          8.42,
          35.6,
          -10.17,
          9.68,
          2.92,
          -1.56,
          -3.29,
          2.08,
          4.22,
          2.17,
          -10.02,
          27.2,
          1.06,
          14,
          10.75,
          -3.02,
          0.27,
          -14.09,
          -9.95,
          9.25,
          -12.19,
          25.27,
          13.31,
          9.43,
          2.27,
          8.17,
          18.68,
          -3.23,
          2.03,
          -1.7,
          22.45,
          -15.29,
          -9.5,
          34.67,
          -6.96,
          26.27,
          -4.87,
          -15.31,
          8.46,
          16.07,
          -9.61,
          41.62,
          1.38
         ],
         "yaxis": "y"
        }
       ],
       "layout": {
        "autosize": true,
        "legend": {
         "title": {
          "text": "variable"
         },
         "tracegroupgap": 0
        },
        "template": {
         "data": {
          "bar": [
           {
            "error_x": {
             "color": "#2a3f5f"
            },
            "error_y": {
             "color": "#2a3f5f"
            },
            "marker": {
             "line": {
              "color": "#E5ECF6",
              "width": 0.5
             }
            },
            "type": "bar"
           }
          ],
          "barpolar": [
           {
            "marker": {
             "line": {
              "color": "#E5ECF6",
              "width": 0.5
             }
            },
            "type": "barpolar"
           }
          ],
          "carpet": [
           {
            "aaxis": {
             "endlinecolor": "#2a3f5f",
             "gridcolor": "white",
             "linecolor": "white",
             "minorgridcolor": "white",
             "startlinecolor": "#2a3f5f"
            },
            "baxis": {
             "endlinecolor": "#2a3f5f",
             "gridcolor": "white",
             "linecolor": "white",
             "minorgridcolor": "white",
             "startlinecolor": "#2a3f5f"
            },
            "type": "carpet"
           }
          ],
          "choropleth": [
           {
            "colorbar": {
             "outlinewidth": 0,
             "ticks": ""
            },
            "type": "choropleth"
           }
          ],
          "contour": [
           {
            "colorbar": {
             "outlinewidth": 0,
             "ticks": ""
            },
            "colorscale": [
             [
              0,
              "#0d0887"
             ],
             [
              0.1111111111111111,
              "#46039f"
             ],
             [
              0.2222222222222222,
              "#7201a8"
             ],
             [
              0.3333333333333333,
              "#9c179e"
             ],
             [
              0.4444444444444444,
              "#bd3786"
             ],
             [
              0.5555555555555556,
              "#d8576b"
             ],
             [
              0.6666666666666666,
              "#ed7953"
             ],
             [
              0.7777777777777778,
              "#fb9f3a"
             ],
             [
              0.8888888888888888,
              "#fdca26"
             ],
             [
              1,
              "#f0f921"
             ]
            ],
            "type": "contour"
           }
          ],
          "contourcarpet": [
           {
            "colorbar": {
             "outlinewidth": 0,
             "ticks": ""
            },
            "type": "contourcarpet"
           }
          ],
          "heatmap": [
           {
            "colorbar": {
             "outlinewidth": 0,
             "ticks": ""
            },
            "colorscale": [
             [
              0,
              "#0d0887"
             ],
             [
              0.1111111111111111,
              "#46039f"
             ],
             [
              0.2222222222222222,
              "#7201a8"
             ],
             [
              0.3333333333333333,
              "#9c179e"
             ],
             [
              0.4444444444444444,
              "#bd3786"
             ],
             [
              0.5555555555555556,
              "#d8576b"
             ],
             [
              0.6666666666666666,
              "#ed7953"
             ],
             [
              0.7777777777777778,
              "#fb9f3a"
             ],
             [
              0.8888888888888888,
              "#fdca26"
             ],
             [
              1,
              "#f0f921"
             ]
            ],
            "type": "heatmap"
           }
          ],
          "heatmapgl": [
           {
            "colorbar": {
             "outlinewidth": 0,
             "ticks": ""
            },
            "colorscale": [
             [
              0,
              "#0d0887"
             ],
             [
              0.1111111111111111,
              "#46039f"
             ],
             [
              0.2222222222222222,
              "#7201a8"
             ],
             [
              0.3333333333333333,
              "#9c179e"
             ],
             [
              0.4444444444444444,
              "#bd3786"
             ],
             [
              0.5555555555555556,
              "#d8576b"
             ],
             [
              0.6666666666666666,
              "#ed7953"
             ],
             [
              0.7777777777777778,
              "#fb9f3a"
             ],
             [
              0.8888888888888888,
              "#fdca26"
             ],
             [
              1,
              "#f0f921"
             ]
            ],
            "type": "heatmapgl"
           }
          ],
          "histogram": [
           {
            "marker": {
             "colorbar": {
              "outlinewidth": 0,
              "ticks": ""
             }
            },
            "type": "histogram"
           }
          ],
          "histogram2d": [
           {
            "colorbar": {
             "outlinewidth": 0,
             "ticks": ""
            },
            "colorscale": [
             [
              0,
              "#0d0887"
             ],
             [
              0.1111111111111111,
              "#46039f"
             ],
             [
              0.2222222222222222,
              "#7201a8"
             ],
             [
              0.3333333333333333,
              "#9c179e"
             ],
             [
              0.4444444444444444,
              "#bd3786"
             ],
             [
              0.5555555555555556,
              "#d8576b"
             ],
             [
              0.6666666666666666,
              "#ed7953"
             ],
             [
              0.7777777777777778,
              "#fb9f3a"
             ],
             [
              0.8888888888888888,
              "#fdca26"
             ],
             [
              1,
              "#f0f921"
             ]
            ],
            "type": "histogram2d"
           }
          ],
          "histogram2dcontour": [
           {
            "colorbar": {
             "outlinewidth": 0,
             "ticks": ""
            },
            "colorscale": [
             [
              0,
              "#0d0887"
             ],
             [
              0.1111111111111111,
              "#46039f"
             ],
             [
              0.2222222222222222,
              "#7201a8"
             ],
             [
              0.3333333333333333,
              "#9c179e"
             ],
             [
              0.4444444444444444,
              "#bd3786"
             ],
             [
              0.5555555555555556,
              "#d8576b"
             ],
             [
              0.6666666666666666,
              "#ed7953"
             ],
             [
              0.7777777777777778,
              "#fb9f3a"
             ],
             [
              0.8888888888888888,
              "#fdca26"
             ],
             [
              1,
              "#f0f921"
             ]
            ],
            "type": "histogram2dcontour"
           }
          ],
          "mesh3d": [
           {
            "colorbar": {
             "outlinewidth": 0,
             "ticks": ""
            },
            "type": "mesh3d"
           }
          ],
          "parcoords": [
           {
            "line": {
             "colorbar": {
              "outlinewidth": 0,
              "ticks": ""
             }
            },
            "type": "parcoords"
           }
          ],
          "pie": [
           {
            "automargin": true,
            "type": "pie"
           }
          ],
          "scatter": [
           {
            "marker": {
             "colorbar": {
              "outlinewidth": 0,
              "ticks": ""
             }
            },
            "type": "scatter"
           }
          ],
          "scatter3d": [
           {
            "line": {
             "colorbar": {
              "outlinewidth": 0,
              "ticks": ""
             }
            },
            "marker": {
             "colorbar": {
              "outlinewidth": 0,
              "ticks": ""
             }
            },
            "type": "scatter3d"
           }
          ],
          "scattercarpet": [
           {
            "marker": {
             "colorbar": {
              "outlinewidth": 0,
              "ticks": ""
             }
            },
            "type": "scattercarpet"
           }
          ],
          "scattergeo": [
           {
            "marker": {
             "colorbar": {
              "outlinewidth": 0,
              "ticks": ""
             }
            },
            "type": "scattergeo"
           }
          ],
          "scattergl": [
           {
            "marker": {
             "colorbar": {
              "outlinewidth": 0,
              "ticks": ""
             }
            },
            "type": "scattergl"
           }
          ],
          "scattermapbox": [
           {
            "marker": {
             "colorbar": {
              "outlinewidth": 0,
              "ticks": ""
             }
            },
            "type": "scattermapbox"
           }
          ],
          "scatterpolar": [
           {
            "marker": {
             "colorbar": {
              "outlinewidth": 0,
              "ticks": ""
             }
            },
            "type": "scatterpolar"
           }
          ],
          "scatterpolargl": [
           {
            "marker": {
             "colorbar": {
              "outlinewidth": 0,
              "ticks": ""
             }
            },
            "type": "scatterpolargl"
           }
          ],
          "scatterternary": [
           {
            "marker": {
             "colorbar": {
              "outlinewidth": 0,
              "ticks": ""
             }
            },
            "type": "scatterternary"
           }
          ],
          "surface": [
           {
            "colorbar": {
             "outlinewidth": 0,
             "ticks": ""
            },
            "colorscale": [
             [
              0,
              "#0d0887"
             ],
             [
              0.1111111111111111,
              "#46039f"
             ],
             [
              0.2222222222222222,
              "#7201a8"
             ],
             [
              0.3333333333333333,
              "#9c179e"
             ],
             [
              0.4444444444444444,
              "#bd3786"
             ],
             [
              0.5555555555555556,
              "#d8576b"
             ],
             [
              0.6666666666666666,
              "#ed7953"
             ],
             [
              0.7777777777777778,
              "#fb9f3a"
             ],
             [
              0.8888888888888888,
              "#fdca26"
             ],
             [
              1,
              "#f0f921"
             ]
            ],
            "type": "surface"
           }
          ],
          "table": [
           {
            "cells": {
             "fill": {
              "color": "#EBF0F8"
             },
             "line": {
              "color": "white"
             }
            },
            "header": {
             "fill": {
              "color": "#C8D4E3"
             },
             "line": {
              "color": "white"
             }
            },
            "type": "table"
           }
          ]
         },
         "layout": {
          "annotationdefaults": {
           "arrowcolor": "#2a3f5f",
           "arrowhead": 0,
           "arrowwidth": 1
          },
          "autotypenumbers": "strict",
          "coloraxis": {
           "colorbar": {
            "outlinewidth": 0,
            "ticks": ""
           }
          },
          "colorscale": {
           "diverging": [
            [
             0,
             "#8e0152"
            ],
            [
             0.1,
             "#c51b7d"
            ],
            [
             0.2,
             "#de77ae"
            ],
            [
             0.3,
             "#f1b6da"
            ],
            [
             0.4,
             "#fde0ef"
            ],
            [
             0.5,
             "#f7f7f7"
            ],
            [
             0.6,
             "#e6f5d0"
            ],
            [
             0.7,
             "#b8e186"
            ],
            [
             0.8,
             "#7fbc41"
            ],
            [
             0.9,
             "#4d9221"
            ],
            [
             1,
             "#276419"
            ]
           ],
           "sequential": [
            [
             0,
             "#0d0887"
            ],
            [
             0.1111111111111111,
             "#46039f"
            ],
            [
             0.2222222222222222,
             "#7201a8"
            ],
            [
             0.3333333333333333,
             "#9c179e"
            ],
            [
             0.4444444444444444,
             "#bd3786"
            ],
            [
             0.5555555555555556,
             "#d8576b"
            ],
            [
             0.6666666666666666,
             "#ed7953"
            ],
            [
             0.7777777777777778,
             "#fb9f3a"
            ],
            [
             0.8888888888888888,
             "#fdca26"
            ],
            [
             1,
             "#f0f921"
            ]
           ],
           "sequentialminus": [
            [
             0,
             "#0d0887"
            ],
            [
             0.1111111111111111,
             "#46039f"
            ],
            [
             0.2222222222222222,
             "#7201a8"
            ],
            [
             0.3333333333333333,
             "#9c179e"
            ],
            [
             0.4444444444444444,
             "#bd3786"
            ],
            [
             0.5555555555555556,
             "#d8576b"
            ],
            [
             0.6666666666666666,
             "#ed7953"
            ],
            [
             0.7777777777777778,
             "#fb9f3a"
            ],
            [
             0.8888888888888888,
             "#fdca26"
            ],
            [
             1,
             "#f0f921"
            ]
           ]
          },
          "colorway": [
           "#636efa",
           "#EF553B",
           "#00cc96",
           "#ab63fa",
           "#FFA15A",
           "#19d3f3",
           "#FF6692",
           "#B6E880",
           "#FF97FF",
           "#FECB52"
          ],
          "font": {
           "color": "#2a3f5f"
          },
          "geo": {
           "bgcolor": "white",
           "lakecolor": "white",
           "landcolor": "#E5ECF6",
           "showlakes": true,
           "showland": true,
           "subunitcolor": "white"
          },
          "hoverlabel": {
           "align": "left"
          },
          "hovermode": "closest",
          "mapbox": {
           "style": "light"
          },
          "paper_bgcolor": "white",
          "plot_bgcolor": "#E5ECF6",
          "polar": {
           "angularaxis": {
            "gridcolor": "white",
            "linecolor": "white",
            "ticks": ""
           },
           "bgcolor": "#E5ECF6",
           "radialaxis": {
            "gridcolor": "white",
            "linecolor": "white",
            "ticks": ""
           }
          },
          "scene": {
           "xaxis": {
            "backgroundcolor": "#E5ECF6",
            "gridcolor": "white",
            "gridwidth": 2,
            "linecolor": "white",
            "showbackground": true,
            "ticks": "",
            "zerolinecolor": "white"
           },
           "yaxis": {
            "backgroundcolor": "#E5ECF6",
            "gridcolor": "white",
            "gridwidth": 2,
            "linecolor": "white",
            "showbackground": true,
            "ticks": "",
            "zerolinecolor": "white"
           },
           "zaxis": {
            "backgroundcolor": "#E5ECF6",
            "gridcolor": "white",
            "gridwidth": 2,
            "linecolor": "white",
            "showbackground": true,
            "ticks": "",
            "zerolinecolor": "white"
           }
          },
          "shapedefaults": {
           "line": {
            "color": "#2a3f5f"
           }
          },
          "ternary": {
           "aaxis": {
            "gridcolor": "white",
            "linecolor": "white",
            "ticks": ""
           },
           "baxis": {
            "gridcolor": "white",
            "linecolor": "white",
            "ticks": ""
           },
           "bgcolor": "#E5ECF6",
           "caxis": {
            "gridcolor": "white",
            "linecolor": "white",
            "ticks": ""
           }
          },
          "title": {
           "x": 0.05
          },
          "xaxis": {
           "automargin": true,
           "gridcolor": "white",
           "linecolor": "white",
           "ticks": "",
           "title": {
            "standoff": 15
           },
           "zerolinecolor": "white",
           "zerolinewidth": 2
          },
          "yaxis": {
           "automargin": true,
           "gridcolor": "white",
           "linecolor": "white",
           "ticks": "",
           "title": {
            "standoff": 15
           },
           "zerolinecolor": "white",
           "zerolinewidth": 2
          }
         }
        },
        "title": {
         "text": "Actual vs Preds"
        },
        "xaxis": {
         "anchor": "y",
         "autorange": true,
         "domain": [
          0,
          1
         ],
         "range": [
          -4.425262507720816,
          73.42526250772082
         ],
         "title": {
          "text": "index"
         },
         "type": "linear"
        },
        "yaxis": {
         "anchor": "x",
         "autorange": true,
         "domain": [
          0,
          1
         ],
         "range": [
          -97.43811432905153,
          850.1149795169725
         ],
         "title": {
          "text": "value"
         },
         "type": "linear"
        }
       }
      },
      "image/png": "[encoded data removed]",
      "text/html": [
       "<div>                            <div id=\"700c90aa-41e1-4d2e-bc7b-901e80f5751e\" class=\"plotly-graph-div\" style=\"height:525px; width:100%;\"></div>            <script type=\"text/javascript\">                require([\"plotly\"], function(Plotly) {                    window.PLOTLYENV=window.PLOTLYENV || {};                                    if (document.getElementById(\"700c90aa-41e1-4d2e-bc7b-901e80f5751e\")) {                    Plotly.newPlot(                        \"700c90aa-41e1-4d2e-bc7b-901e80f5751e\",                        [{\"hovertemplate\": \"variable=preds<br>index=%{x}<br>value=%{y}<extra></extra>\", \"legendgroup\": \"preds\", \"marker\": {\"color\": \"#636efa\", \"symbol\": \"circle\"}, \"mode\": \"markers\", \"name\": \"preds\", \"orientation\": \"v\", \"showlegend\": true, \"type\": \"scatter\", \"x\": [0, 1, 2, 3, 4, 5, 6, 7, 8, 9, 10, 11, 12, 13, 14, 15, 16, 17, 18, 19, 20, 21, 22, 23, 24, 25, 26, 27, 28, 29, 30, 31, 32, 33, 34, 35, 36, 37, 38, 39, 40, 41, 42, 43, 44, 45, 46, 47, 48, 49, 50, 51, 52, 53, 54, 55, 56, 57, 58, 59, 60, 61, 62, 63, 64, 65, 66, 67, 68, 69], \"xaxis\": \"x\", \"y\": [-4.159016501536785, -7.342899379310579, 4.643812862677897, 273.70114250709685, -10.07607993607547, 16.997488617152573, 9.847526668988573, 10.933192335955233, 7.992911920749053, -0.8628190551173618, 22.516317678390788, -9.361984561077684, 40.46142466983429, 7.700184612785096, 17.942359247915164, -1.9543902955362351, 21.08450871513551, 14.485730102607901, 0.14592909984718316, 20.578841042469683, -6.528399634444918, 7.512523529285367, 789.576865187921, 2.6154932007489595, -4.9078950924871645, 12.866060554407918, 0.6369990314252947, 7.414866788268235, 22.012303709808982, 13.16020212094466, 12.340293607427986, 7.732035356582083, 1.6777968613608858, 4.873013377926066, 2.2504008934913666, -1.961859001474242, 5.047561368828929, 9.38818075008401, -8.025231148381444, 4.664428961466624, 4.311736825502814, 1.868795782938536, 2.960097966695942, 4.039408507070352, 2.3422390443177923, 3.334283200268189, 4.4588042980239155, -1.5280590159948768, -1.699556665799895, 15.881736415241619, 9.770863759523332, 14.503910913510223, -13.292503245229438, -2.920365349253498, 3.656003328582665, 2.9717684628521055, 37.30500216868749, 4.511354548767561, -3.657304434350379, 13.242529473691548, 12.460386075716318, 4.869905215145992, 2.4042451047790823, 2.0504628664193256, 3.4396591755940507, 17.955019384048025, 1.003897244048468, -11.311116392173771, 2.972385697896298, 13.848900471849124], \"yaxis\": \"y\"}, {\"hovertemplate\": \"variable=actual<br>index=%{x}<br>value=%{y}<extra></extra>\", \"legendgroup\": \"actual\", \"marker\": {\"color\": \"#EF553B\", \"symbol\": \"circle\"}, \"mode\": \"markers\", \"name\": \"actual\", \"orientation\": \"v\", \"showlegend\": true, \"type\": \"scatter\", \"x\": [0, 1, 2, 3, 4, 5, 6, 7, 8, 9, 10, 11, 12, 13, 14, 15, 16, 17, 18, 19, 20, 21, 22, 23, 24, 25, 26, 27, 28, 29, 30, 31, 32, 33, 34, 35, 36, 37, 38, 39, 40, 41, 42, 43, 44, 45, 46, 47, 48, 49, 50, 51, 52, 53, 54, 55, 56, 57, 58, 59, 60, 61, 62, 63, 64, 65, 66, 67, 68, 69], \"xaxis\": \"x\", \"y\": [-22.42, 4.45, 12.55, -6.27, 4.78, 9.63, 13.15, -1.82, -5.64, -1.33, -8.79, -36.9, 11.44, 0.96, 8.74, 8.2, 42.78, -14.92, -10.44, -9.04, -27.06, 8.57, -4.42, 4.52, -4.95, 7.22, 5.89, 8.42, 35.6, -10.17, 9.68, 2.92, -1.56, -3.29, 2.08, 4.22, 2.17, -10.02, 27.2, 1.06, 14.0, 10.75, -3.02, 0.27, -14.09, -9.95, 9.25, -12.19, 25.27, 13.31, 9.43, 2.27, 8.17, 18.68, -3.23, 2.03, -1.7, 22.45, -15.29, -9.5, 34.67, -6.96, 26.27, -4.87, -15.31, 8.46, 16.07, -9.61, 41.62, 1.38], \"yaxis\": \"y\"}],                        {\"legend\": {\"title\": {\"text\": \"variable\"}, \"tracegroupgap\": 0}, \"template\": {\"data\": {\"bar\": [{\"error_x\": {\"color\": \"#2a3f5f\"}, \"error_y\": {\"color\": \"#2a3f5f\"}, \"marker\": {\"line\": {\"color\": \"#E5ECF6\", \"width\": 0.5}}, \"type\": \"bar\"}], \"barpolar\": [{\"marker\": {\"line\": {\"color\": \"#E5ECF6\", \"width\": 0.5}}, \"type\": \"barpolar\"}], \"carpet\": [{\"aaxis\": {\"endlinecolor\": \"#2a3f5f\", \"gridcolor\": \"white\", \"linecolor\": \"white\", \"minorgridcolor\": \"white\", \"startlinecolor\": \"#2a3f5f\"}, \"baxis\": {\"endlinecolor\": \"#2a3f5f\", \"gridcolor\": \"white\", \"linecolor\": \"white\", \"minorgridcolor\": \"white\", \"startlinecolor\": \"#2a3f5f\"}, \"type\": \"carpet\"}], \"choropleth\": [{\"colorbar\": {\"outlinewidth\": 0, \"ticks\": \"\"}, \"type\": \"choropleth\"}], \"contour\": [{\"colorbar\": {\"outlinewidth\": 0, \"ticks\": \"\"}, \"colorscale\": [[0.0, \"#0d0887\"], [0.1111111111111111, \"#46039f\"], [0.2222222222222222, \"#7201a8\"], [0.3333333333333333, \"#9c179e\"], [0.4444444444444444, \"#bd3786\"], [0.5555555555555556, \"#d8576b\"], [0.6666666666666666, \"#ed7953\"], [0.7777777777777778, \"#fb9f3a\"], [0.8888888888888888, \"#fdca26\"], [1.0, \"#f0f921\"]], \"type\": \"contour\"}], \"contourcarpet\": [{\"colorbar\": {\"outlinewidth\": 0, \"ticks\": \"\"}, \"type\": \"contourcarpet\"}], \"heatmap\": [{\"colorbar\": {\"outlinewidth\": 0, \"ticks\": \"\"}, \"colorscale\": [[0.0, \"#0d0887\"], [0.1111111111111111, \"#46039f\"], [0.2222222222222222, \"#7201a8\"], [0.3333333333333333, \"#9c179e\"], [0.4444444444444444, \"#bd3786\"], [0.5555555555555556, \"#d8576b\"], [0.6666666666666666, \"#ed7953\"], [0.7777777777777778, \"#fb9f3a\"], [0.8888888888888888, \"#fdca26\"], [1.0, \"#f0f921\"]], \"type\": \"heatmap\"}], \"heatmapgl\": [{\"colorbar\": {\"outlinewidth\": 0, \"ticks\": \"\"}, \"colorscale\": [[0.0, \"#0d0887\"], [0.1111111111111111, \"#46039f\"], [0.2222222222222222, \"#7201a8\"], [0.3333333333333333, \"#9c179e\"], [0.4444444444444444, \"#bd3786\"], [0.5555555555555556, \"#d8576b\"], [0.6666666666666666, \"#ed7953\"], [0.7777777777777778, \"#fb9f3a\"], [0.8888888888888888, \"#fdca26\"], [1.0, \"#f0f921\"]], \"type\": \"heatmapgl\"}], \"histogram\": [{\"marker\": {\"colorbar\": {\"outlinewidth\": 0, \"ticks\": \"\"}}, \"type\": \"histogram\"}], \"histogram2d\": [{\"colorbar\": {\"outlinewidth\": 0, \"ticks\": \"\"}, \"colorscale\": [[0.0, \"#0d0887\"], [0.1111111111111111, \"#46039f\"], [0.2222222222222222, \"#7201a8\"], [0.3333333333333333, \"#9c179e\"], [0.4444444444444444, \"#bd3786\"], [0.5555555555555556, \"#d8576b\"], [0.6666666666666666, \"#ed7953\"], [0.7777777777777778, \"#fb9f3a\"], [0.8888888888888888, \"#fdca26\"], [1.0, \"#f0f921\"]], \"type\": \"histogram2d\"}], \"histogram2dcontour\": [{\"colorbar\": {\"outlinewidth\": 0, \"ticks\": \"\"}, \"colorscale\": [[0.0, \"#0d0887\"], [0.1111111111111111, \"#46039f\"], [0.2222222222222222, \"#7201a8\"], [0.3333333333333333, \"#9c179e\"], [0.4444444444444444, \"#bd3786\"], [0.5555555555555556, \"#d8576b\"], [0.6666666666666666, \"#ed7953\"], [0.7777777777777778, \"#fb9f3a\"], [0.8888888888888888, \"#fdca26\"], [1.0, \"#f0f921\"]], \"type\": \"histogram2dcontour\"}], \"mesh3d\": [{\"colorbar\": {\"outlinewidth\": 0, \"ticks\": \"\"}, \"type\": \"mesh3d\"}], \"parcoords\": [{\"line\": {\"colorbar\": {\"outlinewidth\": 0, \"ticks\": \"\"}}, \"type\": \"parcoords\"}], \"pie\": [{\"automargin\": true, \"type\": \"pie\"}], \"scatter\": [{\"marker\": {\"colorbar\": {\"outlinewidth\": 0, \"ticks\": \"\"}}, \"type\": \"scatter\"}], \"scatter3d\": [{\"line\": {\"colorbar\": {\"outlinewidth\": 0, \"ticks\": \"\"}}, \"marker\": {\"colorbar\": {\"outlinewidth\": 0, \"ticks\": \"\"}}, \"type\": \"scatter3d\"}], \"scattercarpet\": [{\"marker\": {\"colorbar\": {\"outlinewidth\": 0, \"ticks\": \"\"}}, \"type\": \"scattercarpet\"}], \"scattergeo\": [{\"marker\": {\"colorbar\": {\"outlinewidth\": 0, \"ticks\": \"\"}}, \"type\": \"scattergeo\"}], \"scattergl\": [{\"marker\": {\"colorbar\": {\"outlinewidth\": 0, \"ticks\": \"\"}}, \"type\": \"scattergl\"}], \"scattermapbox\": [{\"marker\": {\"colorbar\": {\"outlinewidth\": 0, \"ticks\": \"\"}}, \"type\": \"scattermapbox\"}], \"scatterpolar\": [{\"marker\": {\"colorbar\": {\"outlinewidth\": 0, \"ticks\": \"\"}}, \"type\": \"scatterpolar\"}], \"scatterpolargl\": [{\"marker\": {\"colorbar\": {\"outlinewidth\": 0, \"ticks\": \"\"}}, \"type\": \"scatterpolargl\"}], \"scatterternary\": [{\"marker\": {\"colorbar\": {\"outlinewidth\": 0, \"ticks\": \"\"}}, \"type\": \"scatterternary\"}], \"surface\": [{\"colorbar\": {\"outlinewidth\": 0, \"ticks\": \"\"}, \"colorscale\": [[0.0, \"#0d0887\"], [0.1111111111111111, \"#46039f\"], [0.2222222222222222, \"#7201a8\"], [0.3333333333333333, \"#9c179e\"], [0.4444444444444444, \"#bd3786\"], [0.5555555555555556, \"#d8576b\"], [0.6666666666666666, \"#ed7953\"], [0.7777777777777778, \"#fb9f3a\"], [0.8888888888888888, \"#fdca26\"], [1.0, \"#f0f921\"]], \"type\": \"surface\"}], \"table\": [{\"cells\": {\"fill\": {\"color\": \"#EBF0F8\"}, \"line\": {\"color\": \"white\"}}, \"header\": {\"fill\": {\"color\": \"#C8D4E3\"}, \"line\": {\"color\": \"white\"}}, \"type\": \"table\"}]}, \"layout\": {\"annotationdefaults\": {\"arrowcolor\": \"#2a3f5f\", \"arrowhead\": 0, \"arrowwidth\": 1}, \"autotypenumbers\": \"strict\", \"coloraxis\": {\"colorbar\": {\"outlinewidth\": 0, \"ticks\": \"\"}}, \"colorscale\": {\"diverging\": [[0, \"#8e0152\"], [0.1, \"#c51b7d\"], [0.2, \"#de77ae\"], [0.3, \"#f1b6da\"], [0.4, \"#fde0ef\"], [0.5, \"#f7f7f7\"], [0.6, \"#e6f5d0\"], [0.7, \"#b8e186\"], [0.8, \"#7fbc41\"], [0.9, \"#4d9221\"], [1, \"#276419\"]], \"sequential\": [[0.0, \"#0d0887\"], [0.1111111111111111, \"#46039f\"], [0.2222222222222222, \"#7201a8\"], [0.3333333333333333, \"#9c179e\"], [0.4444444444444444, \"#bd3786\"], [0.5555555555555556, \"#d8576b\"], [0.6666666666666666, \"#ed7953\"], [0.7777777777777778, \"#fb9f3a\"], [0.8888888888888888, \"#fdca26\"], [1.0, \"#f0f921\"]], \"sequentialminus\": [[0.0, \"#0d0887\"], [0.1111111111111111, \"#46039f\"], [0.2222222222222222, \"#7201a8\"], [0.3333333333333333, \"#9c179e\"], [0.4444444444444444, \"#bd3786\"], [0.5555555555555556, \"#d8576b\"], [0.6666666666666666, \"#ed7953\"], [0.7777777777777778, \"#fb9f3a\"], [0.8888888888888888, \"#fdca26\"], [1.0, \"#f0f921\"]]}, \"colorway\": [\"#636efa\", \"#EF553B\", \"#00cc96\", \"#ab63fa\", \"#FFA15A\", \"#19d3f3\", \"#FF6692\", \"#B6E880\", \"#FF97FF\", \"#FECB52\"], \"font\": {\"color\": \"#2a3f5f\"}, \"geo\": {\"bgcolor\": \"white\", \"lakecolor\": \"white\", \"landcolor\": \"#E5ECF6\", \"showlakes\": true, \"showland\": true, \"subunitcolor\": \"white\"}, \"hoverlabel\": {\"align\": \"left\"}, \"hovermode\": \"closest\", \"mapbox\": {\"style\": \"light\"}, \"paper_bgcolor\": \"white\", \"plot_bgcolor\": \"#E5ECF6\", \"polar\": {\"angularaxis\": {\"gridcolor\": \"white\", \"linecolor\": \"white\", \"ticks\": \"\"}, \"bgcolor\": \"#E5ECF6\", \"radialaxis\": {\"gridcolor\": \"white\", \"linecolor\": \"white\", \"ticks\": \"\"}}, \"scene\": {\"xaxis\": {\"backgroundcolor\": \"#E5ECF6\", \"gridcolor\": \"white\", \"gridwidth\": 2, \"linecolor\": \"white\", \"showbackground\": true, \"ticks\": \"\", \"zerolinecolor\": \"white\"}, \"yaxis\": {\"backgroundcolor\": \"#E5ECF6\", \"gridcolor\": \"white\", \"gridwidth\": 2, \"linecolor\": \"white\", \"showbackground\": true, \"ticks\": \"\", \"zerolinecolor\": \"white\"}, \"zaxis\": {\"backgroundcolor\": \"#E5ECF6\", \"gridcolor\": \"white\", \"gridwidth\": 2, \"linecolor\": \"white\", \"showbackground\": true, \"ticks\": \"\", \"zerolinecolor\": \"white\"}}, \"shapedefaults\": {\"line\": {\"color\": \"#2a3f5f\"}}, \"ternary\": {\"aaxis\": {\"gridcolor\": \"white\", \"linecolor\": \"white\", \"ticks\": \"\"}, \"baxis\": {\"gridcolor\": \"white\", \"linecolor\": \"white\", \"ticks\": \"\"}, \"bgcolor\": \"#E5ECF6\", \"caxis\": {\"gridcolor\": \"white\", \"linecolor\": \"white\", \"ticks\": \"\"}}, \"title\": {\"x\": 0.05}, \"xaxis\": {\"automargin\": true, \"gridcolor\": \"white\", \"linecolor\": \"white\", \"ticks\": \"\", \"title\": {\"standoff\": 15}, \"zerolinecolor\": \"white\", \"zerolinewidth\": 2}, \"yaxis\": {\"automargin\": true, \"gridcolor\": \"white\", \"linecolor\": \"white\", \"ticks\": \"\", \"title\": {\"standoff\": 15}, \"zerolinecolor\": \"white\", \"zerolinewidth\": 2}}}, \"title\": {\"text\": \"Actual vs Preds\"}, \"xaxis\": {\"anchor\": \"y\", \"domain\": [0.0, 1.0], \"title\": {\"text\": \"index\"}}, \"yaxis\": {\"anchor\": \"x\", \"domain\": [0.0, 1.0], \"title\": {\"text\": \"value\"}}},                        {\"responsive\": true}                    ).then(function(){\n",
       "                            \n",
       "var gd = document.getElementById('700c90aa-41e1-4d2e-bc7b-901e80f5751e');\n",
       "var x = new MutationObserver(function (mutations, observer) {{\n",
       "        var display = window.getComputedStyle(gd).display;\n",
       "        if (!display || display === 'none') {{\n",
       "            console.log([gd, 'removed!']);\n",
       "            Plotly.purge(gd);\n",
       "            observer.disconnect();\n",
       "        }}\n",
       "}});\n",
       "\n",
       "// Listen for the removal of the full notebook cells\n",
       "var notebookContainer = gd.closest('#notebook-container');\n",
       "if (notebookContainer) {{\n",
       "    x.observe(notebookContainer, {childList: true});\n",
       "}}\n",
       "\n",
       "// Listen for the clearing of the current output cell\n",
       "var outputEl = gd.closest('.output');\n",
       "if (outputEl) {{\n",
       "    x.observe(outputEl, {childList: true});\n",
       "}}\n",
       "\n",
       "                        })                };                });            </script>        </div>"
      ]
     },
     "metadata": {},
     "output_type": "display_data"
    },
    {
     "data": {
      "application/vnd.plotly.v1+json": {
       "config": {
        "plotlyServerURL": "https://plot.ly"
       },
       "data": [
        {
         "domain": {
          "x": [
           0,
           1
          ],
          "y": [
           0,
           1
          ]
         },
         "hovertemplate": "index=%{label}<br>same_direction=%{value}<extra></extra>",
         "labels": [
          true,
          false
         ],
         "legendgroup": "",
         "name": "",
         "showlegend": true,
         "type": "pie",
         "values": [
          41,
          29
         ]
        }
       ],
       "layout": {
        "autosize": true,
        "legend": {
         "tracegroupgap": 0
        },
        "template": {
         "data": {
          "bar": [
           {
            "error_x": {
             "color": "#2a3f5f"
            },
            "error_y": {
             "color": "#2a3f5f"
            },
            "marker": {
             "line": {
              "color": "#E5ECF6",
              "width": 0.5
             }
            },
            "type": "bar"
           }
          ],
          "barpolar": [
           {
            "marker": {
             "line": {
              "color": "#E5ECF6",
              "width": 0.5
             }
            },
            "type": "barpolar"
           }
          ],
          "carpet": [
           {
            "aaxis": {
             "endlinecolor": "#2a3f5f",
             "gridcolor": "white",
             "linecolor": "white",
             "minorgridcolor": "white",
             "startlinecolor": "#2a3f5f"
            },
            "baxis": {
             "endlinecolor": "#2a3f5f",
             "gridcolor": "white",
             "linecolor": "white",
             "minorgridcolor": "white",
             "startlinecolor": "#2a3f5f"
            },
            "type": "carpet"
           }
          ],
          "choropleth": [
           {
            "colorbar": {
             "outlinewidth": 0,
             "ticks": ""
            },
            "type": "choropleth"
           }
          ],
          "contour": [
           {
            "colorbar": {
             "outlinewidth": 0,
             "ticks": ""
            },
            "colorscale": [
             [
              0,
              "#0d0887"
             ],
             [
              0.1111111111111111,
              "#46039f"
             ],
             [
              0.2222222222222222,
              "#7201a8"
             ],
             [
              0.3333333333333333,
              "#9c179e"
             ],
             [
              0.4444444444444444,
              "#bd3786"
             ],
             [
              0.5555555555555556,
              "#d8576b"
             ],
             [
              0.6666666666666666,
              "#ed7953"
             ],
             [
              0.7777777777777778,
              "#fb9f3a"
             ],
             [
              0.8888888888888888,
              "#fdca26"
             ],
             [
              1,
              "#f0f921"
             ]
            ],
            "type": "contour"
           }
          ],
          "contourcarpet": [
           {
            "colorbar": {
             "outlinewidth": 0,
             "ticks": ""
            },
            "type": "contourcarpet"
           }
          ],
          "heatmap": [
           {
            "colorbar": {
             "outlinewidth": 0,
             "ticks": ""
            },
            "colorscale": [
             [
              0,
              "#0d0887"
             ],
             [
              0.1111111111111111,
              "#46039f"
             ],
             [
              0.2222222222222222,
              "#7201a8"
             ],
             [
              0.3333333333333333,
              "#9c179e"
             ],
             [
              0.4444444444444444,
              "#bd3786"
             ],
             [
              0.5555555555555556,
              "#d8576b"
             ],
             [
              0.6666666666666666,
              "#ed7953"
             ],
             [
              0.7777777777777778,
              "#fb9f3a"
             ],
             [
              0.8888888888888888,
              "#fdca26"
             ],
             [
              1,
              "#f0f921"
             ]
            ],
            "type": "heatmap"
           }
          ],
          "heatmapgl": [
           {
            "colorbar": {
             "outlinewidth": 0,
             "ticks": ""
            },
            "colorscale": [
             [
              0,
              "#0d0887"
             ],
             [
              0.1111111111111111,
              "#46039f"
             ],
             [
              0.2222222222222222,
              "#7201a8"
             ],
             [
              0.3333333333333333,
              "#9c179e"
             ],
             [
              0.4444444444444444,
              "#bd3786"
             ],
             [
              0.5555555555555556,
              "#d8576b"
             ],
             [
              0.6666666666666666,
              "#ed7953"
             ],
             [
              0.7777777777777778,
              "#fb9f3a"
             ],
             [
              0.8888888888888888,
              "#fdca26"
             ],
             [
              1,
              "#f0f921"
             ]
            ],
            "type": "heatmapgl"
           }
          ],
          "histogram": [
           {
            "marker": {
             "colorbar": {
              "outlinewidth": 0,
              "ticks": ""
             }
            },
            "type": "histogram"
           }
          ],
          "histogram2d": [
           {
            "colorbar": {
             "outlinewidth": 0,
             "ticks": ""
            },
            "colorscale": [
             [
              0,
              "#0d0887"
             ],
             [
              0.1111111111111111,
              "#46039f"
             ],
             [
              0.2222222222222222,
              "#7201a8"
             ],
             [
              0.3333333333333333,
              "#9c179e"
             ],
             [
              0.4444444444444444,
              "#bd3786"
             ],
             [
              0.5555555555555556,
              "#d8576b"
             ],
             [
              0.6666666666666666,
              "#ed7953"
             ],
             [
              0.7777777777777778,
              "#fb9f3a"
             ],
             [
              0.8888888888888888,
              "#fdca26"
             ],
             [
              1,
              "#f0f921"
             ]
            ],
            "type": "histogram2d"
           }
          ],
          "histogram2dcontour": [
           {
            "colorbar": {
             "outlinewidth": 0,
             "ticks": ""
            },
            "colorscale": [
             [
              0,
              "#0d0887"
             ],
             [
              0.1111111111111111,
              "#46039f"
             ],
             [
              0.2222222222222222,
              "#7201a8"
             ],
             [
              0.3333333333333333,
              "#9c179e"
             ],
             [
              0.4444444444444444,
              "#bd3786"
             ],
             [
              0.5555555555555556,
              "#d8576b"
             ],
             [
              0.6666666666666666,
              "#ed7953"
             ],
             [
              0.7777777777777778,
              "#fb9f3a"
             ],
             [
              0.8888888888888888,
              "#fdca26"
             ],
             [
              1,
              "#f0f921"
             ]
            ],
            "type": "histogram2dcontour"
           }
          ],
          "mesh3d": [
           {
            "colorbar": {
             "outlinewidth": 0,
             "ticks": ""
            },
            "type": "mesh3d"
           }
          ],
          "parcoords": [
           {
            "line": {
             "colorbar": {
              "outlinewidth": 0,
              "ticks": ""
             }
            },
            "type": "parcoords"
           }
          ],
          "pie": [
           {
            "automargin": true,
            "type": "pie"
           }
          ],
          "scatter": [
           {
            "marker": {
             "colorbar": {
              "outlinewidth": 0,
              "ticks": ""
             }
            },
            "type": "scatter"
           }
          ],
          "scatter3d": [
           {
            "line": {
             "colorbar": {
              "outlinewidth": 0,
              "ticks": ""
             }
            },
            "marker": {
             "colorbar": {
              "outlinewidth": 0,
              "ticks": ""
             }
            },
            "type": "scatter3d"
           }
          ],
          "scattercarpet": [
           {
            "marker": {
             "colorbar": {
              "outlinewidth": 0,
              "ticks": ""
             }
            },
            "type": "scattercarpet"
           }
          ],
          "scattergeo": [
           {
            "marker": {
             "colorbar": {
              "outlinewidth": 0,
              "ticks": ""
             }
            },
            "type": "scattergeo"
           }
          ],
          "scattergl": [
           {
            "marker": {
             "colorbar": {
              "outlinewidth": 0,
              "ticks": ""
             }
            },
            "type": "scattergl"
           }
          ],
          "scattermapbox": [
           {
            "marker": {
             "colorbar": {
              "outlinewidth": 0,
              "ticks": ""
             }
            },
            "type": "scattermapbox"
           }
          ],
          "scatterpolar": [
           {
            "marker": {
             "colorbar": {
              "outlinewidth": 0,
              "ticks": ""
             }
            },
            "type": "scatterpolar"
           }
          ],
          "scatterpolargl": [
           {
            "marker": {
             "colorbar": {
              "outlinewidth": 0,
              "ticks": ""
             }
            },
            "type": "scatterpolargl"
           }
          ],
          "scatterternary": [
           {
            "marker": {
             "colorbar": {
              "outlinewidth": 0,
              "ticks": ""
             }
            },
            "type": "scatterternary"
           }
          ],
          "surface": [
           {
            "colorbar": {
             "outlinewidth": 0,
             "ticks": ""
            },
            "colorscale": [
             [
              0,
              "#0d0887"
             ],
             [
              0.1111111111111111,
              "#46039f"
             ],
             [
              0.2222222222222222,
              "#7201a8"
             ],
             [
              0.3333333333333333,
              "#9c179e"
             ],
             [
              0.4444444444444444,
              "#bd3786"
             ],
             [
              0.5555555555555556,
              "#d8576b"
             ],
             [
              0.6666666666666666,
              "#ed7953"
             ],
             [
              0.7777777777777778,
              "#fb9f3a"
             ],
             [
              0.8888888888888888,
              "#fdca26"
             ],
             [
              1,
              "#f0f921"
             ]
            ],
            "type": "surface"
           }
          ],
          "table": [
           {
            "cells": {
             "fill": {
              "color": "#EBF0F8"
             },
             "line": {
              "color": "white"
             }
            },
            "header": {
             "fill": {
              "color": "#C8D4E3"
             },
             "line": {
              "color": "white"
             }
            },
            "type": "table"
           }
          ]
         },
         "layout": {
          "annotationdefaults": {
           "arrowcolor": "#2a3f5f",
           "arrowhead": 0,
           "arrowwidth": 1
          },
          "autotypenumbers": "strict",
          "coloraxis": {
           "colorbar": {
            "outlinewidth": 0,
            "ticks": ""
           }
          },
          "colorscale": {
           "diverging": [
            [
             0,
             "#8e0152"
            ],
            [
             0.1,
             "#c51b7d"
            ],
            [
             0.2,
             "#de77ae"
            ],
            [
             0.3,
             "#f1b6da"
            ],
            [
             0.4,
             "#fde0ef"
            ],
            [
             0.5,
             "#f7f7f7"
            ],
            [
             0.6,
             "#e6f5d0"
            ],
            [
             0.7,
             "#b8e186"
            ],
            [
             0.8,
             "#7fbc41"
            ],
            [
             0.9,
             "#4d9221"
            ],
            [
             1,
             "#276419"
            ]
           ],
           "sequential": [
            [
             0,
             "#0d0887"
            ],
            [
             0.1111111111111111,
             "#46039f"
            ],
            [
             0.2222222222222222,
             "#7201a8"
            ],
            [
             0.3333333333333333,
             "#9c179e"
            ],
            [
             0.4444444444444444,
             "#bd3786"
            ],
            [
             0.5555555555555556,
             "#d8576b"
            ],
            [
             0.6666666666666666,
             "#ed7953"
            ],
            [
             0.7777777777777778,
             "#fb9f3a"
            ],
            [
             0.8888888888888888,
             "#fdca26"
            ],
            [
             1,
             "#f0f921"
            ]
           ],
           "sequentialminus": [
            [
             0,
             "#0d0887"
            ],
            [
             0.1111111111111111,
             "#46039f"
            ],
            [
             0.2222222222222222,
             "#7201a8"
            ],
            [
             0.3333333333333333,
             "#9c179e"
            ],
            [
             0.4444444444444444,
             "#bd3786"
            ],
            [
             0.5555555555555556,
             "#d8576b"
            ],
            [
             0.6666666666666666,
             "#ed7953"
            ],
            [
             0.7777777777777778,
             "#fb9f3a"
            ],
            [
             0.8888888888888888,
             "#fdca26"
            ],
            [
             1,
             "#f0f921"
            ]
           ]
          },
          "colorway": [
           "#636efa",
           "#EF553B",
           "#00cc96",
           "#ab63fa",
           "#FFA15A",
           "#19d3f3",
           "#FF6692",
           "#B6E880",
           "#FF97FF",
           "#FECB52"
          ],
          "font": {
           "color": "#2a3f5f"
          },
          "geo": {
           "bgcolor": "white",
           "lakecolor": "white",
           "landcolor": "#E5ECF6",
           "showlakes": true,
           "showland": true,
           "subunitcolor": "white"
          },
          "hoverlabel": {
           "align": "left"
          },
          "hovermode": "closest",
          "mapbox": {
           "style": "light"
          },
          "paper_bgcolor": "white",
          "plot_bgcolor": "#E5ECF6",
          "polar": {
           "angularaxis": {
            "gridcolor": "white",
            "linecolor": "white",
            "ticks": ""
           },
           "bgcolor": "#E5ECF6",
           "radialaxis": {
            "gridcolor": "white",
            "linecolor": "white",
            "ticks": ""
           }
          },
          "scene": {
           "xaxis": {
            "backgroundcolor": "#E5ECF6",
            "gridcolor": "white",
            "gridwidth": 2,
            "linecolor": "white",
            "showbackground": true,
            "ticks": "",
            "zerolinecolor": "white"
           },
           "yaxis": {
            "backgroundcolor": "#E5ECF6",
            "gridcolor": "white",
            "gridwidth": 2,
            "linecolor": "white",
            "showbackground": true,
            "ticks": "",
            "zerolinecolor": "white"
           },
           "zaxis": {
            "backgroundcolor": "#E5ECF6",
            "gridcolor": "white",
            "gridwidth": 2,
            "linecolor": "white",
            "showbackground": true,
            "ticks": "",
            "zerolinecolor": "white"
           }
          },
          "shapedefaults": {
           "line": {
            "color": "#2a3f5f"
           }
          },
          "ternary": {
           "aaxis": {
            "gridcolor": "white",
            "linecolor": "white",
            "ticks": ""
           },
           "baxis": {
            "gridcolor": "white",
            "linecolor": "white",
            "ticks": ""
           },
           "bgcolor": "#E5ECF6",
           "caxis": {
            "gridcolor": "white",
            "linecolor": "white",
            "ticks": ""
           }
          },
          "title": {
           "x": 0.05
          },
          "xaxis": {
           "automargin": true,
           "gridcolor": "white",
           "linecolor": "white",
           "ticks": "",
           "title": {
            "standoff": 15
           },
           "zerolinecolor": "white",
           "zerolinewidth": 2
          },
          "yaxis": {
           "automargin": true,
           "gridcolor": "white",
           "linecolor": "white",
           "ticks": "",
           "title": {
            "standoff": 15
           },
           "zerolinecolor": "white",
           "zerolinewidth": 2
          }
         }
        },
        "title": {
         "text": "How often did predictions land in the same direction as the actual values?"
        }
       }
      },
      "image/png": "[encoded data removed]",
      "text/html": [
       "<div>                            <div id=\"1792c231-23dd-4dca-ae41-1090b9faeafb\" class=\"plotly-graph-div\" style=\"height:525px; width:100%;\"></div>            <script type=\"text/javascript\">                require([\"plotly\"], function(Plotly) {                    window.PLOTLYENV=window.PLOTLYENV || {};                                    if (document.getElementById(\"1792c231-23dd-4dca-ae41-1090b9faeafb\")) {                    Plotly.newPlot(                        \"1792c231-23dd-4dca-ae41-1090b9faeafb\",                        [{\"domain\": {\"x\": [0.0, 1.0], \"y\": [0.0, 1.0]}, \"hovertemplate\": \"index=%{label}<br>same_direction=%{value}<extra></extra>\", \"labels\": [true, false], \"legendgroup\": \"\", \"name\": \"\", \"showlegend\": true, \"type\": \"pie\", \"values\": [41, 29]}],                        {\"legend\": {\"tracegroupgap\": 0}, \"template\": {\"data\": {\"bar\": [{\"error_x\": {\"color\": \"#2a3f5f\"}, \"error_y\": {\"color\": \"#2a3f5f\"}, \"marker\": {\"line\": {\"color\": \"#E5ECF6\", \"width\": 0.5}}, \"type\": \"bar\"}], \"barpolar\": [{\"marker\": {\"line\": {\"color\": \"#E5ECF6\", \"width\": 0.5}}, \"type\": \"barpolar\"}], \"carpet\": [{\"aaxis\": {\"endlinecolor\": \"#2a3f5f\", \"gridcolor\": \"white\", \"linecolor\": \"white\", \"minorgridcolor\": \"white\", \"startlinecolor\": \"#2a3f5f\"}, \"baxis\": {\"endlinecolor\": \"#2a3f5f\", \"gridcolor\": \"white\", \"linecolor\": \"white\", \"minorgridcolor\": \"white\", \"startlinecolor\": \"#2a3f5f\"}, \"type\": \"carpet\"}], \"choropleth\": [{\"colorbar\": {\"outlinewidth\": 0, \"ticks\": \"\"}, \"type\": \"choropleth\"}], \"contour\": [{\"colorbar\": {\"outlinewidth\": 0, \"ticks\": \"\"}, \"colorscale\": [[0.0, \"#0d0887\"], [0.1111111111111111, \"#46039f\"], [0.2222222222222222, \"#7201a8\"], [0.3333333333333333, \"#9c179e\"], [0.4444444444444444, \"#bd3786\"], [0.5555555555555556, \"#d8576b\"], [0.6666666666666666, \"#ed7953\"], [0.7777777777777778, \"#fb9f3a\"], [0.8888888888888888, \"#fdca26\"], [1.0, \"#f0f921\"]], \"type\": \"contour\"}], \"contourcarpet\": [{\"colorbar\": {\"outlinewidth\": 0, \"ticks\": \"\"}, \"type\": \"contourcarpet\"}], \"heatmap\": [{\"colorbar\": {\"outlinewidth\": 0, \"ticks\": \"\"}, \"colorscale\": [[0.0, \"#0d0887\"], [0.1111111111111111, \"#46039f\"], [0.2222222222222222, \"#7201a8\"], [0.3333333333333333, \"#9c179e\"], [0.4444444444444444, \"#bd3786\"], [0.5555555555555556, \"#d8576b\"], [0.6666666666666666, \"#ed7953\"], [0.7777777777777778, \"#fb9f3a\"], [0.8888888888888888, \"#fdca26\"], [1.0, \"#f0f921\"]], \"type\": \"heatmap\"}], \"heatmapgl\": [{\"colorbar\": {\"outlinewidth\": 0, \"ticks\": \"\"}, \"colorscale\": [[0.0, \"#0d0887\"], [0.1111111111111111, \"#46039f\"], [0.2222222222222222, \"#7201a8\"], [0.3333333333333333, \"#9c179e\"], [0.4444444444444444, \"#bd3786\"], [0.5555555555555556, \"#d8576b\"], [0.6666666666666666, \"#ed7953\"], [0.7777777777777778, \"#fb9f3a\"], [0.8888888888888888, \"#fdca26\"], [1.0, \"#f0f921\"]], \"type\": \"heatmapgl\"}], \"histogram\": [{\"marker\": {\"colorbar\": {\"outlinewidth\": 0, \"ticks\": \"\"}}, \"type\": \"histogram\"}], \"histogram2d\": [{\"colorbar\": {\"outlinewidth\": 0, \"ticks\": \"\"}, \"colorscale\": [[0.0, \"#0d0887\"], [0.1111111111111111, \"#46039f\"], [0.2222222222222222, \"#7201a8\"], [0.3333333333333333, \"#9c179e\"], [0.4444444444444444, \"#bd3786\"], [0.5555555555555556, \"#d8576b\"], [0.6666666666666666, \"#ed7953\"], [0.7777777777777778, \"#fb9f3a\"], [0.8888888888888888, \"#fdca26\"], [1.0, \"#f0f921\"]], \"type\": \"histogram2d\"}], \"histogram2dcontour\": [{\"colorbar\": {\"outlinewidth\": 0, \"ticks\": \"\"}, \"colorscale\": [[0.0, \"#0d0887\"], [0.1111111111111111, \"#46039f\"], [0.2222222222222222, \"#7201a8\"], [0.3333333333333333, \"#9c179e\"], [0.4444444444444444, \"#bd3786\"], [0.5555555555555556, \"#d8576b\"], [0.6666666666666666, \"#ed7953\"], [0.7777777777777778, \"#fb9f3a\"], [0.8888888888888888, \"#fdca26\"], [1.0, \"#f0f921\"]], \"type\": \"histogram2dcontour\"}], \"mesh3d\": [{\"colorbar\": {\"outlinewidth\": 0, \"ticks\": \"\"}, \"type\": \"mesh3d\"}], \"parcoords\": [{\"line\": {\"colorbar\": {\"outlinewidth\": 0, \"ticks\": \"\"}}, \"type\": \"parcoords\"}], \"pie\": [{\"automargin\": true, \"type\": \"pie\"}], \"scatter\": [{\"marker\": {\"colorbar\": {\"outlinewidth\": 0, \"ticks\": \"\"}}, \"type\": \"scatter\"}], \"scatter3d\": [{\"line\": {\"colorbar\": {\"outlinewidth\": 0, \"ticks\": \"\"}}, \"marker\": {\"colorbar\": {\"outlinewidth\": 0, \"ticks\": \"\"}}, \"type\": \"scatter3d\"}], \"scattercarpet\": [{\"marker\": {\"colorbar\": {\"outlinewidth\": 0, \"ticks\": \"\"}}, \"type\": \"scattercarpet\"}], \"scattergeo\": [{\"marker\": {\"colorbar\": {\"outlinewidth\": 0, \"ticks\": \"\"}}, \"type\": \"scattergeo\"}], \"scattergl\": [{\"marker\": {\"colorbar\": {\"outlinewidth\": 0, \"ticks\": \"\"}}, \"type\": \"scattergl\"}], \"scattermapbox\": [{\"marker\": {\"colorbar\": {\"outlinewidth\": 0, \"ticks\": \"\"}}, \"type\": \"scattermapbox\"}], \"scatterpolar\": [{\"marker\": {\"colorbar\": {\"outlinewidth\": 0, \"ticks\": \"\"}}, \"type\": \"scatterpolar\"}], \"scatterpolargl\": [{\"marker\": {\"colorbar\": {\"outlinewidth\": 0, \"ticks\": \"\"}}, \"type\": \"scatterpolargl\"}], \"scatterternary\": [{\"marker\": {\"colorbar\": {\"outlinewidth\": 0, \"ticks\": \"\"}}, \"type\": \"scatterternary\"}], \"surface\": [{\"colorbar\": {\"outlinewidth\": 0, \"ticks\": \"\"}, \"colorscale\": [[0.0, \"#0d0887\"], [0.1111111111111111, \"#46039f\"], [0.2222222222222222, \"#7201a8\"], [0.3333333333333333, \"#9c179e\"], [0.4444444444444444, \"#bd3786\"], [0.5555555555555556, \"#d8576b\"], [0.6666666666666666, \"#ed7953\"], [0.7777777777777778, \"#fb9f3a\"], [0.8888888888888888, \"#fdca26\"], [1.0, \"#f0f921\"]], \"type\": \"surface\"}], \"table\": [{\"cells\": {\"fill\": {\"color\": \"#EBF0F8\"}, \"line\": {\"color\": \"white\"}}, \"header\": {\"fill\": {\"color\": \"#C8D4E3\"}, \"line\": {\"color\": \"white\"}}, \"type\": \"table\"}]}, \"layout\": {\"annotationdefaults\": {\"arrowcolor\": \"#2a3f5f\", \"arrowhead\": 0, \"arrowwidth\": 1}, \"autotypenumbers\": \"strict\", \"coloraxis\": {\"colorbar\": {\"outlinewidth\": 0, \"ticks\": \"\"}}, \"colorscale\": {\"diverging\": [[0, \"#8e0152\"], [0.1, \"#c51b7d\"], [0.2, \"#de77ae\"], [0.3, \"#f1b6da\"], [0.4, \"#fde0ef\"], [0.5, \"#f7f7f7\"], [0.6, \"#e6f5d0\"], [0.7, \"#b8e186\"], [0.8, \"#7fbc41\"], [0.9, \"#4d9221\"], [1, \"#276419\"]], \"sequential\": [[0.0, \"#0d0887\"], [0.1111111111111111, \"#46039f\"], [0.2222222222222222, \"#7201a8\"], [0.3333333333333333, \"#9c179e\"], [0.4444444444444444, \"#bd3786\"], [0.5555555555555556, \"#d8576b\"], [0.6666666666666666, \"#ed7953\"], [0.7777777777777778, \"#fb9f3a\"], [0.8888888888888888, \"#fdca26\"], [1.0, \"#f0f921\"]], \"sequentialminus\": [[0.0, \"#0d0887\"], [0.1111111111111111, \"#46039f\"], [0.2222222222222222, \"#7201a8\"], [0.3333333333333333, \"#9c179e\"], [0.4444444444444444, \"#bd3786\"], [0.5555555555555556, \"#d8576b\"], [0.6666666666666666, \"#ed7953\"], [0.7777777777777778, \"#fb9f3a\"], [0.8888888888888888, \"#fdca26\"], [1.0, \"#f0f921\"]]}, \"colorway\": [\"#636efa\", \"#EF553B\", \"#00cc96\", \"#ab63fa\", \"#FFA15A\", \"#19d3f3\", \"#FF6692\", \"#B6E880\", \"#FF97FF\", \"#FECB52\"], \"font\": {\"color\": \"#2a3f5f\"}, \"geo\": {\"bgcolor\": \"white\", \"lakecolor\": \"white\", \"landcolor\": \"#E5ECF6\", \"showlakes\": true, \"showland\": true, \"subunitcolor\": \"white\"}, \"hoverlabel\": {\"align\": \"left\"}, \"hovermode\": \"closest\", \"mapbox\": {\"style\": \"light\"}, \"paper_bgcolor\": \"white\", \"plot_bgcolor\": \"#E5ECF6\", \"polar\": {\"angularaxis\": {\"gridcolor\": \"white\", \"linecolor\": \"white\", \"ticks\": \"\"}, \"bgcolor\": \"#E5ECF6\", \"radialaxis\": {\"gridcolor\": \"white\", \"linecolor\": \"white\", \"ticks\": \"\"}}, \"scene\": {\"xaxis\": {\"backgroundcolor\": \"#E5ECF6\", \"gridcolor\": \"white\", \"gridwidth\": 2, \"linecolor\": \"white\", \"showbackground\": true, \"ticks\": \"\", \"zerolinecolor\": \"white\"}, \"yaxis\": {\"backgroundcolor\": \"#E5ECF6\", \"gridcolor\": \"white\", \"gridwidth\": 2, \"linecolor\": \"white\", \"showbackground\": true, \"ticks\": \"\", \"zerolinecolor\": \"white\"}, \"zaxis\": {\"backgroundcolor\": \"#E5ECF6\", \"gridcolor\": \"white\", \"gridwidth\": 2, \"linecolor\": \"white\", \"showbackground\": true, \"ticks\": \"\", \"zerolinecolor\": \"white\"}}, \"shapedefaults\": {\"line\": {\"color\": \"#2a3f5f\"}}, \"ternary\": {\"aaxis\": {\"gridcolor\": \"white\", \"linecolor\": \"white\", \"ticks\": \"\"}, \"baxis\": {\"gridcolor\": \"white\", \"linecolor\": \"white\", \"ticks\": \"\"}, \"bgcolor\": \"#E5ECF6\", \"caxis\": {\"gridcolor\": \"white\", \"linecolor\": \"white\", \"ticks\": \"\"}}, \"title\": {\"x\": 0.05}, \"xaxis\": {\"automargin\": true, \"gridcolor\": \"white\", \"linecolor\": \"white\", \"ticks\": \"\", \"title\": {\"standoff\": 15}, \"zerolinecolor\": \"white\", \"zerolinewidth\": 2}, \"yaxis\": {\"automargin\": true, \"gridcolor\": \"white\", \"linecolor\": \"white\", \"ticks\": \"\", \"title\": {\"standoff\": 15}, \"zerolinecolor\": \"white\", \"zerolinewidth\": 2}}}, \"title\": {\"text\": \"How often did predictions land in the same direction as the actual values?\"}},                        {\"responsive\": true}                    ).then(function(){\n",
       "                            \n",
       "var gd = document.getElementById('1792c231-23dd-4dca-ae41-1090b9faeafb');\n",
       "var x = new MutationObserver(function (mutations, observer) {{\n",
       "        var display = window.getComputedStyle(gd).display;\n",
       "        if (!display || display === 'none') {{\n",
       "            console.log([gd, 'removed!']);\n",
       "            Plotly.purge(gd);\n",
       "            observer.disconnect();\n",
       "        }}\n",
       "}});\n",
       "\n",
       "// Listen for the removal of the full notebook cells\n",
       "var notebookContainer = gd.closest('#notebook-container');\n",
       "if (notebookContainer) {{\n",
       "    x.observe(notebookContainer, {childList: true});\n",
       "}}\n",
       "\n",
       "// Listen for the clearing of the current output cell\n",
       "var outputEl = gd.closest('.output');\n",
       "if (outputEl) {{\n",
       "    x.observe(outputEl, {childList: true});\n",
       "}}\n",
       "\n",
       "                        })                };                });            </script>        </div>"
      ]
     },
     "metadata": {},
     "output_type": "display_data"
    }
   ],
   "source": [
    "# Visualizing results\n",
    "fig = px.scatter(\n",
    "    compare,\n",
    "    x=compare.index,\n",
    "    y=['preds', 'actual'],\n",
    "    title='Actual vs Preds'\n",
    ")\n",
    "\n",
    "fig.show()\n",
    "\n",
    "fig = px.pie(\n",
    "    dir_df,\n",
    "    names=dir_df.index,\n",
    "    values=dir_df['same_direction'],\n",
    "    title='How often did predictions land in the same direction as the actual values?'\n",
    ")\n",
    "\n",
    "fig.show()"
   ]
  },
  {
   "cell_type": "markdown",
   "metadata": {},
   "source": [
    "# 4. Backtesting Linear Regression"
   ]
  },
  {
   "cell_type": "code",
   "execution_count": null,
   "metadata": {},
   "outputs": [],
   "source": []
  },
  {
   "cell_type": "code",
   "execution_count": null,
   "metadata": {},
   "outputs": [],
   "source": []
  },
  {
   "cell_type": "code",
   "execution_count": null,
   "metadata": {},
   "outputs": [],
   "source": []
  },
  {
   "cell_type": "code",
   "execution_count": null,
   "metadata": {},
   "outputs": [],
   "source": []
  },
  {
   "cell_type": "code",
   "execution_count": null,
   "metadata": {},
   "outputs": [],
   "source": []
  },
  {
   "cell_type": "code",
   "execution_count": null,
   "metadata": {},
   "outputs": [],
   "source": []
  },
  {
   "cell_type": "code",
   "execution_count": null,
   "metadata": {},
   "outputs": [],
   "source": []
  },
  {
   "cell_type": "code",
   "execution_count": null,
   "metadata": {},
   "outputs": [],
   "source": []
  }
 ],
 "metadata": {
  "kernelspec": {
   "display_name": "Python 3",
   "language": "python",
   "name": "python3"
  },
  "language_info": {
   "codemirror_mode": {
    "name": "ipython",
    "version": 3
   },
   "file_extension": ".py",
   "mimetype": "text/x-python",
   "name": "python",
   "nbconvert_exporter": "python",
   "pygments_lexer": "ipython3",
   "version": "3.9.1"
  }
 },
 "nbformat": 4,
 "nbformat_minor": 4
}
