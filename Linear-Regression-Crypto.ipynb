{
 "cells": [
  {
   "cell_type": "markdown",
   "metadata": {},
   "source": [
    "# Simple Linear Regression on Crypto"
   ]
  },
  {
   "cell_type": "code",
   "execution_count": 206,
   "metadata": {},
   "outputs": [],
   "source": [
    "import pandas as pd\n",
    "import yfinance as yf\n",
    "from ta import add_all_ta_features\n",
    "from datetime import datetime, timedelta\n",
    "import numpy as np\n",
    "from sklearn.linear_model import LinearRegression\n",
    "from sklearn.model_selection import train_test_split\n",
    "from sklearn.metrics import mean_squared_error, r2_score\n",
    "import plotly.express as px\n",
    "import plotly.graph_objects as go"
   ]
  },
  {
   "cell_type": "markdown",
   "metadata": {},
   "source": [
    "# 1. Get Price Data"
   ]
  },
  {
   "cell_type": "code",
   "execution_count": 413,
   "metadata": {},
   "outputs": [],
   "source": [
    "def getCryptoPrice(ticker=\"BTC-USD\", n_days=1000):\n",
    "\n",
    "    # Time periods\n",
    "    now = datetime.now()\n",
    "\n",
    "    # How far back to retrieve\n",
    "    ago = now - timedelta(days=n_days)\n",
    "\n",
    "    # Designating the Ticker\n",
    "    crypto = yf.Ticker(ticker)\n",
    "\n",
    "    # Getting price history\n",
    "    df = crypto.history(\n",
    "        start=ago.strftime(\"%Y-%m-%d\"), \n",
    "        end=now.strftime(\"%Y-%m-%d\"), \n",
    "        interval=\"1d\"\n",
    "    )\n",
    "\n",
    "    # Dropping Columns\n",
    "    df.drop(\n",
    "        ['Dividends', 'Stock Splits'], \n",
    "        axis=1,\n",
    "        inplace=True\n",
    "    )\n",
    "\n",
    "    return df"
   ]
  },
  {
   "cell_type": "code",
   "execution_count": 414,
   "metadata": {},
   "outputs": [
    {
     "data": {
      "text/html": [
       "<div>\n",
       "<style scoped>\n",
       "    .dataframe tbody tr th:only-of-type {\n",
       "        vertical-align: middle;\n",
       "    }\n",
       "\n",
       "    .dataframe tbody tr th {\n",
       "        vertical-align: top;\n",
       "    }\n",
       "\n",
       "    .dataframe thead th {\n",
       "        text-align: right;\n",
       "    }\n",
       "</style>\n",
       "<table border=\"1\" class=\"dataframe\">\n",
       "  <thead>\n",
       "    <tr style=\"text-align: right;\">\n",
       "      <th></th>\n",
       "      <th>Open</th>\n",
       "      <th>High</th>\n",
       "      <th>Low</th>\n",
       "      <th>Close</th>\n",
       "      <th>Volume</th>\n",
       "    </tr>\n",
       "    <tr>\n",
       "      <th>Date</th>\n",
       "      <th></th>\n",
       "      <th></th>\n",
       "      <th></th>\n",
       "      <th></th>\n",
       "      <th></th>\n",
       "    </tr>\n",
       "  </thead>\n",
       "  <tbody>\n",
       "    <tr>\n",
       "      <th>2020-09-05</th>\n",
       "      <td>10512.530273</td>\n",
       "      <td>10581.571289</td>\n",
       "      <td>9946.675781</td>\n",
       "      <td>10169.567383</td>\n",
       "      <td>44916565292</td>\n",
       "    </tr>\n",
       "    <tr>\n",
       "      <th>2020-09-06</th>\n",
       "      <td>10167.216797</td>\n",
       "      <td>10353.927734</td>\n",
       "      <td>10056.885742</td>\n",
       "      <td>10280.351562</td>\n",
       "      <td>37071460174</td>\n",
       "    </tr>\n",
       "    <tr>\n",
       "      <th>2020-09-07</th>\n",
       "      <td>10280.998047</td>\n",
       "      <td>10399.153320</td>\n",
       "      <td>9916.493164</td>\n",
       "      <td>10369.563477</td>\n",
       "      <td>33703098409</td>\n",
       "    </tr>\n",
       "    <tr>\n",
       "      <th>2020-09-08</th>\n",
       "      <td>10369.306641</td>\n",
       "      <td>10414.775391</td>\n",
       "      <td>9945.110352</td>\n",
       "      <td>10131.516602</td>\n",
       "      <td>33430927462</td>\n",
       "    </tr>\n",
       "    <tr>\n",
       "      <th>2020-09-09</th>\n",
       "      <td>10134.151367</td>\n",
       "      <td>10350.542969</td>\n",
       "      <td>10017.250977</td>\n",
       "      <td>10242.347656</td>\n",
       "      <td>24128292755</td>\n",
       "    </tr>\n",
       "    <tr>\n",
       "      <th>...</th>\n",
       "      <td>...</td>\n",
       "      <td>...</td>\n",
       "      <td>...</td>\n",
       "      <td>...</td>\n",
       "      <td>...</td>\n",
       "    </tr>\n",
       "    <tr>\n",
       "      <th>2021-10-05</th>\n",
       "      <td>49174.960938</td>\n",
       "      <td>51839.984375</td>\n",
       "      <td>49072.839844</td>\n",
       "      <td>51514.812500</td>\n",
       "      <td>35873904236</td>\n",
       "    </tr>\n",
       "    <tr>\n",
       "      <th>2021-10-06</th>\n",
       "      <td>51486.664062</td>\n",
       "      <td>55568.464844</td>\n",
       "      <td>50488.191406</td>\n",
       "      <td>55361.449219</td>\n",
       "      <td>49034730168</td>\n",
       "    </tr>\n",
       "    <tr>\n",
       "      <th>2021-10-07</th>\n",
       "      <td>55338.625000</td>\n",
       "      <td>55338.625000</td>\n",
       "      <td>53525.468750</td>\n",
       "      <td>53805.984375</td>\n",
       "      <td>36807860413</td>\n",
       "    </tr>\n",
       "    <tr>\n",
       "      <th>2021-10-08</th>\n",
       "      <td>53802.144531</td>\n",
       "      <td>55922.980469</td>\n",
       "      <td>53688.054688</td>\n",
       "      <td>53967.847656</td>\n",
       "      <td>34800873924</td>\n",
       "    </tr>\n",
       "    <tr>\n",
       "      <th>2021-10-09</th>\n",
       "      <td>53929.781250</td>\n",
       "      <td>55397.945312</td>\n",
       "      <td>53735.144531</td>\n",
       "      <td>54968.222656</td>\n",
       "      <td>32491211414</td>\n",
       "    </tr>\n",
       "  </tbody>\n",
       "</table>\n",
       "<p>397 rows × 5 columns</p>\n",
       "</div>"
      ],
      "text/plain": [
       "                    Open          High           Low         Close  \\\n",
       "Date                                                                 \n",
       "2020-09-05  10512.530273  10581.571289   9946.675781  10169.567383   \n",
       "2020-09-06  10167.216797  10353.927734  10056.885742  10280.351562   \n",
       "2020-09-07  10280.998047  10399.153320   9916.493164  10369.563477   \n",
       "2020-09-08  10369.306641  10414.775391   9945.110352  10131.516602   \n",
       "2020-09-09  10134.151367  10350.542969  10017.250977  10242.347656   \n",
       "...                  ...           ...           ...           ...   \n",
       "2021-10-05  49174.960938  51839.984375  49072.839844  51514.812500   \n",
       "2021-10-06  51486.664062  55568.464844  50488.191406  55361.449219   \n",
       "2021-10-07  55338.625000  55338.625000  53525.468750  53805.984375   \n",
       "2021-10-08  53802.144531  55922.980469  53688.054688  53967.847656   \n",
       "2021-10-09  53929.781250  55397.945312  53735.144531  54968.222656   \n",
       "\n",
       "                 Volume  \n",
       "Date                     \n",
       "2020-09-05  44916565292  \n",
       "2020-09-06  37071460174  \n",
       "2020-09-07  33703098409  \n",
       "2020-09-08  33430927462  \n",
       "2020-09-09  24128292755  \n",
       "...                 ...  \n",
       "2021-10-05  35873904236  \n",
       "2021-10-06  49034730168  \n",
       "2021-10-07  36807860413  \n",
       "2021-10-08  34800873924  \n",
       "2021-10-09  32491211414  \n",
       "\n",
       "[397 rows x 5 columns]"
      ]
     },
     "execution_count": 414,
     "metadata": {},
     "output_type": "execute_result"
    }
   ],
   "source": [
    "df = getCryptoPrice(ticker=\"BTC-USD\", n_days=400)\n",
    "\n",
    "df"
   ]
  },
  {
   "cell_type": "markdown",
   "metadata": {},
   "source": [
    "## Adding Technical Indicators"
   ]
  },
  {
   "cell_type": "code",
   "execution_count": 415,
   "metadata": {},
   "outputs": [
    {
     "name": "stderr",
     "output_type": "stream",
     "text": [
      "/Users/marcosantos/miniforge3/lib/python3.9/site-packages/ta/trend.py:768: RuntimeWarning:\n",
      "\n",
      "invalid value encountered in double_scalars\n",
      "\n",
      "/Users/marcosantos/miniforge3/lib/python3.9/site-packages/ta/trend.py:772: RuntimeWarning:\n",
      "\n",
      "invalid value encountered in double_scalars\n",
      "\n"
     ]
    },
    {
     "data": {
      "text/html": [
       "<div>\n",
       "<style scoped>\n",
       "    .dataframe tbody tr th:only-of-type {\n",
       "        vertical-align: middle;\n",
       "    }\n",
       "\n",
       "    .dataframe tbody tr th {\n",
       "        vertical-align: top;\n",
       "    }\n",
       "\n",
       "    .dataframe thead th {\n",
       "        text-align: right;\n",
       "    }\n",
       "</style>\n",
       "<table border=\"1\" class=\"dataframe\">\n",
       "  <thead>\n",
       "    <tr style=\"text-align: right;\">\n",
       "      <th></th>\n",
       "      <th>Open</th>\n",
       "      <th>High</th>\n",
       "      <th>Low</th>\n",
       "      <th>Close</th>\n",
       "      <th>Volume</th>\n",
       "      <th>volume_adi</th>\n",
       "      <th>volume_obv</th>\n",
       "      <th>volume_cmf</th>\n",
       "      <th>volume_fi</th>\n",
       "      <th>volume_mfi</th>\n",
       "      <th>...</th>\n",
       "      <th>momentum_wr</th>\n",
       "      <th>momentum_ao</th>\n",
       "      <th>momentum_kama</th>\n",
       "      <th>momentum_roc</th>\n",
       "      <th>momentum_ppo</th>\n",
       "      <th>momentum_ppo_signal</th>\n",
       "      <th>momentum_ppo_hist</th>\n",
       "      <th>others_dr</th>\n",
       "      <th>others_dlr</th>\n",
       "      <th>others_cr</th>\n",
       "    </tr>\n",
       "    <tr>\n",
       "      <th>Date</th>\n",
       "      <th></th>\n",
       "      <th></th>\n",
       "      <th></th>\n",
       "      <th></th>\n",
       "      <th></th>\n",
       "      <th></th>\n",
       "      <th></th>\n",
       "      <th></th>\n",
       "      <th></th>\n",
       "      <th></th>\n",
       "      <th></th>\n",
       "      <th></th>\n",
       "      <th></th>\n",
       "      <th></th>\n",
       "      <th></th>\n",
       "      <th></th>\n",
       "      <th></th>\n",
       "      <th></th>\n",
       "      <th></th>\n",
       "      <th></th>\n",
       "      <th></th>\n",
       "    </tr>\n",
       "  </thead>\n",
       "  <tbody>\n",
       "    <tr>\n",
       "      <th>2020-09-05</th>\n",
       "      <td>10512.530273</td>\n",
       "      <td>10581.571289</td>\n",
       "      <td>9946.675781</td>\n",
       "      <td>10169.567383</td>\n",
       "      <td>44916565292</td>\n",
       "      <td>-1.337901e+10</td>\n",
       "      <td>44916565292</td>\n",
       "      <td>-0.297864</td>\n",
       "      <td>0.000000e+00</td>\n",
       "      <td>50.000000</td>\n",
       "      <td>...</td>\n",
       "      <td>-64.893183</td>\n",
       "      <td>0.000000</td>\n",
       "      <td>10169.567383</td>\n",
       "      <td>0.000000</td>\n",
       "      <td>0.000000</td>\n",
       "      <td>0.000000</td>\n",
       "      <td>0.000000</td>\n",
       "      <td>-72.012439</td>\n",
       "      <td>0.000000</td>\n",
       "      <td>0.000000</td>\n",
       "    </tr>\n",
       "    <tr>\n",
       "      <th>2020-09-06</th>\n",
       "      <td>10167.216797</td>\n",
       "      <td>10353.927734</td>\n",
       "      <td>10056.885742</td>\n",
       "      <td>10280.351562</td>\n",
       "      <td>37071460174</td>\n",
       "      <td>5.327528e+09</td>\n",
       "      <td>81988025466</td>\n",
       "      <td>0.064979</td>\n",
       "      <td>4.106931e+12</td>\n",
       "      <td>0.000000</td>\n",
       "      <td>...</td>\n",
       "      <td>-47.443985</td>\n",
       "      <td>0.000000</td>\n",
       "      <td>10205.793051</td>\n",
       "      <td>0.000000</td>\n",
       "      <td>-1.411558</td>\n",
       "      <td>-0.282312</td>\n",
       "      <td>-1.129246</td>\n",
       "      <td>1.089370</td>\n",
       "      <td>1.083479</td>\n",
       "      <td>1.089370</td>\n",
       "    </tr>\n",
       "    <tr>\n",
       "      <th>2020-09-07</th>\n",
       "      <td>10280.998047</td>\n",
       "      <td>10399.153320</td>\n",
       "      <td>9916.493164</td>\n",
       "      <td>10369.563477</td>\n",
       "      <td>33703098409</td>\n",
       "      <td>3.489824e+10</td>\n",
       "      <td>115691123875</td>\n",
       "      <td>0.301650</td>\n",
       "      <td>3.949758e+12</td>\n",
       "      <td>0.000000</td>\n",
       "      <td>...</td>\n",
       "      <td>-31.877129</td>\n",
       "      <td>0.000000</td>\n",
       "      <td>10257.926199</td>\n",
       "      <td>0.000000</td>\n",
       "      <td>-3.163656</td>\n",
       "      <td>-0.858580</td>\n",
       "      <td>-2.305076</td>\n",
       "      <td>0.867790</td>\n",
       "      <td>0.864047</td>\n",
       "      <td>1.966614</td>\n",
       "    </tr>\n",
       "    <tr>\n",
       "      <th>2020-09-08</th>\n",
       "      <td>10369.306641</td>\n",
       "      <td>10414.775391</td>\n",
       "      <td>9945.110352</td>\n",
       "      <td>10131.516602</td>\n",
       "      <td>33430927462</td>\n",
       "      <td>2.800424e+10</td>\n",
       "      <td>82260196413</td>\n",
       "      <td>0.187794</td>\n",
       "      <td>2.248631e+12</td>\n",
       "      <td>0.000000</td>\n",
       "      <td>...</td>\n",
       "      <td>-67.669447</td>\n",
       "      <td>0.000000</td>\n",
       "      <td>10216.675510</td>\n",
       "      <td>0.000000</td>\n",
       "      <td>-4.609510</td>\n",
       "      <td>-1.608766</td>\n",
       "      <td>-3.000744</td>\n",
       "      <td>-2.295631</td>\n",
       "      <td>-2.322391</td>\n",
       "      <td>-0.374163</td>\n",
       "    </tr>\n",
       "    <tr>\n",
       "      <th>2020-09-09</th>\n",
       "      <td>10134.151367</td>\n",
       "      <td>10350.542969</td>\n",
       "      <td>10017.250977</td>\n",
       "      <td>10242.347656</td>\n",
       "      <td>24128292755</td>\n",
       "      <td>3.646718e+10</td>\n",
       "      <td>106388489168</td>\n",
       "      <td>0.210488</td>\n",
       "      <td>2.309422e+12</td>\n",
       "      <td>18.793719</td>\n",
       "      <td>...</td>\n",
       "      <td>-51.005080</td>\n",
       "      <td>0.000000</td>\n",
       "      <td>10225.331336</td>\n",
       "      <td>0.000000</td>\n",
       "      <td>-7.626736</td>\n",
       "      <td>-2.812360</td>\n",
       "      <td>-4.814376</td>\n",
       "      <td>1.093924</td>\n",
       "      <td>1.087984</td>\n",
       "      <td>0.715667</td>\n",
       "    </tr>\n",
       "    <tr>\n",
       "      <th>...</th>\n",
       "      <td>...</td>\n",
       "      <td>...</td>\n",
       "      <td>...</td>\n",
       "      <td>...</td>\n",
       "      <td>...</td>\n",
       "      <td>...</td>\n",
       "      <td>...</td>\n",
       "      <td>...</td>\n",
       "      <td>...</td>\n",
       "      <td>...</td>\n",
       "      <td>...</td>\n",
       "      <td>...</td>\n",
       "      <td>...</td>\n",
       "      <td>...</td>\n",
       "      <td>...</td>\n",
       "      <td>...</td>\n",
       "      <td>...</td>\n",
       "      <td>...</td>\n",
       "      <td>...</td>\n",
       "      <td>...</td>\n",
       "      <td>...</td>\n",
       "    </tr>\n",
       "    <tr>\n",
       "      <th>2021-10-05</th>\n",
       "      <td>49174.960938</td>\n",
       "      <td>51839.984375</td>\n",
       "      <td>49072.839844</td>\n",
       "      <td>51514.812500</td>\n",
       "      <td>35873904236</td>\n",
       "      <td>2.613914e+12</td>\n",
       "      <td>1115249326898</td>\n",
       "      <td>0.081922</td>\n",
       "      <td>2.944481e+13</td>\n",
       "      <td>78.889292</td>\n",
       "      <td>...</td>\n",
       "      <td>-2.899605</td>\n",
       "      <td>1961.426907</td>\n",
       "      <td>47241.756324</td>\n",
       "      <td>14.744850</td>\n",
       "      <td>-2.400365</td>\n",
       "      <td>-2.276192</td>\n",
       "      <td>-0.124173</td>\n",
       "      <td>4.890589</td>\n",
       "      <td>4.774761</td>\n",
       "      <td>406.558544</td>\n",
       "    </tr>\n",
       "    <tr>\n",
       "      <th>2021-10-06</th>\n",
       "      <td>51486.664062</td>\n",
       "      <td>55568.464844</td>\n",
       "      <td>50488.191406</td>\n",
       "      <td>55361.449219</td>\n",
       "      <td>49034730168</td>\n",
       "      <td>2.658952e+12</td>\n",
       "      <td>1164284057066</td>\n",
       "      <td>0.144615</td>\n",
       "      <td>5.218395e+13</td>\n",
       "      <td>79.855664</td>\n",
       "      <td>...</td>\n",
       "      <td>-1.404563</td>\n",
       "      <td>3287.652045</td>\n",
       "      <td>49169.287639</td>\n",
       "      <td>29.229160</td>\n",
       "      <td>1.350263</td>\n",
       "      <td>-1.550901</td>\n",
       "      <td>2.901164</td>\n",
       "      <td>7.467050</td>\n",
       "      <td>7.201410</td>\n",
       "      <td>444.383523</td>\n",
       "    </tr>\n",
       "    <tr>\n",
       "      <th>2021-10-07</th>\n",
       "      <td>55338.625000</td>\n",
       "      <td>55338.625000</td>\n",
       "      <td>53525.468750</td>\n",
       "      <td>53805.984375</td>\n",
       "      <td>36807860413</td>\n",
       "      <td>2.633534e+12</td>\n",
       "      <td>1127476196653</td>\n",
       "      <td>0.120924</td>\n",
       "      <td>3.655005e+13</td>\n",
       "      <td>80.283588</td>\n",
       "      <td>...</td>\n",
       "      <td>-11.958103</td>\n",
       "      <td>4459.662408</td>\n",
       "      <td>50124.380268</td>\n",
       "      <td>25.960381</td>\n",
       "      <td>1.455792</td>\n",
       "      <td>-0.949562</td>\n",
       "      <td>2.405355</td>\n",
       "      <td>-2.809653</td>\n",
       "      <td>-2.849879</td>\n",
       "      <td>429.088233</td>\n",
       "    </tr>\n",
       "    <tr>\n",
       "      <th>2021-10-08</th>\n",
       "      <td>53802.144531</td>\n",
       "      <td>55922.980469</td>\n",
       "      <td>53688.054688</td>\n",
       "      <td>53967.847656</td>\n",
       "      <td>34800873924</td>\n",
       "      <td>2.607446e+12</td>\n",
       "      <td>1162277070577</td>\n",
       "      <td>0.067120</td>\n",
       "      <td>3.213333e+13</td>\n",
       "      <td>88.485243</td>\n",
       "      <td>...</td>\n",
       "      <td>-12.953636</td>\n",
       "      <td>5652.016820</td>\n",
       "      <td>51190.036585</td>\n",
       "      <td>24.900885</td>\n",
       "      <td>1.075617</td>\n",
       "      <td>-0.544527</td>\n",
       "      <td>1.620144</td>\n",
       "      <td>0.300828</td>\n",
       "      <td>0.300376</td>\n",
       "      <td>430.679877</td>\n",
       "    </tr>\n",
       "    <tr>\n",
       "      <th>2021-10-09</th>\n",
       "      <td>53929.781250</td>\n",
       "      <td>55397.945312</td>\n",
       "      <td>53735.144531</td>\n",
       "      <td>54968.222656</td>\n",
       "      <td>32491211414</td>\n",
       "      <td>2.623144e+12</td>\n",
       "      <td>1194768281991</td>\n",
       "      <td>0.108012</td>\n",
       "      <td>3.218619e+13</td>\n",
       "      <td>94.539434</td>\n",
       "      <td>...</td>\n",
       "      <td>-6.325701</td>\n",
       "      <td>6801.532790</td>\n",
       "      <td>52252.787989</td>\n",
       "      <td>30.146258</td>\n",
       "      <td>0.245626</td>\n",
       "      <td>-0.386496</td>\n",
       "      <td>0.632122</td>\n",
       "      <td>1.853650</td>\n",
       "      <td>1.836679</td>\n",
       "      <td>440.516824</td>\n",
       "    </tr>\n",
       "  </tbody>\n",
       "</table>\n",
       "<p>397 rows × 88 columns</p>\n",
       "</div>"
      ],
      "text/plain": [
       "                    Open          High           Low         Close  \\\n",
       "Date                                                                 \n",
       "2020-09-05  10512.530273  10581.571289   9946.675781  10169.567383   \n",
       "2020-09-06  10167.216797  10353.927734  10056.885742  10280.351562   \n",
       "2020-09-07  10280.998047  10399.153320   9916.493164  10369.563477   \n",
       "2020-09-08  10369.306641  10414.775391   9945.110352  10131.516602   \n",
       "2020-09-09  10134.151367  10350.542969  10017.250977  10242.347656   \n",
       "...                  ...           ...           ...           ...   \n",
       "2021-10-05  49174.960938  51839.984375  49072.839844  51514.812500   \n",
       "2021-10-06  51486.664062  55568.464844  50488.191406  55361.449219   \n",
       "2021-10-07  55338.625000  55338.625000  53525.468750  53805.984375   \n",
       "2021-10-08  53802.144531  55922.980469  53688.054688  53967.847656   \n",
       "2021-10-09  53929.781250  55397.945312  53735.144531  54968.222656   \n",
       "\n",
       "                 Volume    volume_adi     volume_obv  volume_cmf  \\\n",
       "Date                                                               \n",
       "2020-09-05  44916565292 -1.337901e+10    44916565292   -0.297864   \n",
       "2020-09-06  37071460174  5.327528e+09    81988025466    0.064979   \n",
       "2020-09-07  33703098409  3.489824e+10   115691123875    0.301650   \n",
       "2020-09-08  33430927462  2.800424e+10    82260196413    0.187794   \n",
       "2020-09-09  24128292755  3.646718e+10   106388489168    0.210488   \n",
       "...                 ...           ...            ...         ...   \n",
       "2021-10-05  35873904236  2.613914e+12  1115249326898    0.081922   \n",
       "2021-10-06  49034730168  2.658952e+12  1164284057066    0.144615   \n",
       "2021-10-07  36807860413  2.633534e+12  1127476196653    0.120924   \n",
       "2021-10-08  34800873924  2.607446e+12  1162277070577    0.067120   \n",
       "2021-10-09  32491211414  2.623144e+12  1194768281991    0.108012   \n",
       "\n",
       "               volume_fi  volume_mfi  ...  momentum_wr  momentum_ao  \\\n",
       "Date                                  ...                             \n",
       "2020-09-05  0.000000e+00   50.000000  ...   -64.893183     0.000000   \n",
       "2020-09-06  4.106931e+12    0.000000  ...   -47.443985     0.000000   \n",
       "2020-09-07  3.949758e+12    0.000000  ...   -31.877129     0.000000   \n",
       "2020-09-08  2.248631e+12    0.000000  ...   -67.669447     0.000000   \n",
       "2020-09-09  2.309422e+12   18.793719  ...   -51.005080     0.000000   \n",
       "...                  ...         ...  ...          ...          ...   \n",
       "2021-10-05  2.944481e+13   78.889292  ...    -2.899605  1961.426907   \n",
       "2021-10-06  5.218395e+13   79.855664  ...    -1.404563  3287.652045   \n",
       "2021-10-07  3.655005e+13   80.283588  ...   -11.958103  4459.662408   \n",
       "2021-10-08  3.213333e+13   88.485243  ...   -12.953636  5652.016820   \n",
       "2021-10-09  3.218619e+13   94.539434  ...    -6.325701  6801.532790   \n",
       "\n",
       "            momentum_kama  momentum_roc  momentum_ppo  momentum_ppo_signal  \\\n",
       "Date                                                                         \n",
       "2020-09-05   10169.567383      0.000000      0.000000             0.000000   \n",
       "2020-09-06   10205.793051      0.000000     -1.411558            -0.282312   \n",
       "2020-09-07   10257.926199      0.000000     -3.163656            -0.858580   \n",
       "2020-09-08   10216.675510      0.000000     -4.609510            -1.608766   \n",
       "2020-09-09   10225.331336      0.000000     -7.626736            -2.812360   \n",
       "...                   ...           ...           ...                  ...   \n",
       "2021-10-05   47241.756324     14.744850     -2.400365            -2.276192   \n",
       "2021-10-06   49169.287639     29.229160      1.350263            -1.550901   \n",
       "2021-10-07   50124.380268     25.960381      1.455792            -0.949562   \n",
       "2021-10-08   51190.036585     24.900885      1.075617            -0.544527   \n",
       "2021-10-09   52252.787989     30.146258      0.245626            -0.386496   \n",
       "\n",
       "            momentum_ppo_hist  others_dr  others_dlr   others_cr  \n",
       "Date                                                              \n",
       "2020-09-05           0.000000 -72.012439    0.000000    0.000000  \n",
       "2020-09-06          -1.129246   1.089370    1.083479    1.089370  \n",
       "2020-09-07          -2.305076   0.867790    0.864047    1.966614  \n",
       "2020-09-08          -3.000744  -2.295631   -2.322391   -0.374163  \n",
       "2020-09-09          -4.814376   1.093924    1.087984    0.715667  \n",
       "...                       ...        ...         ...         ...  \n",
       "2021-10-05          -0.124173   4.890589    4.774761  406.558544  \n",
       "2021-10-06           2.901164   7.467050    7.201410  444.383523  \n",
       "2021-10-07           2.405355  -2.809653   -2.849879  429.088233  \n",
       "2021-10-08           1.620144   0.300828    0.300376  430.679877  \n",
       "2021-10-09           0.632122   1.853650    1.836679  440.516824  \n",
       "\n",
       "[397 rows x 88 columns]"
      ]
     },
     "execution_count": 415,
     "metadata": {},
     "output_type": "execute_result"
    }
   ],
   "source": [
    "df = add_all_ta_features(\n",
    "    df, \n",
    "    open=\"Open\", \n",
    "    high=\"High\", \n",
    "    low=\"Low\", \n",
    "    close=\"Close\", \n",
    "    volume=\"Volume\", \n",
    "    fillna=True\n",
    ")\n",
    "\n",
    "df"
   ]
  },
  {
   "cell_type": "markdown",
   "metadata": {},
   "source": [
    "# 2. Data Transformation/Preprocessing\n",
    "Changing from time-series data to tabular data.\n",
    "\n",
    "__E.g.)__ An N% increase in Volume _from N days ago to today_ leads to N% increase in the Open price in the _next_ N day(s). "
   ]
  },
  {
   "cell_type": "code",
   "execution_count": 443,
   "metadata": {},
   "outputs": [],
   "source": [
    "def transformData(df, days=1):\n",
    "    \"\"\"\n",
    "    Transforming data into X variables for training.  Uses percent change and \n",
    "    multiplies the percentage by 100 rounded to 2 decimal places.\n",
    "    \"\"\"\n",
    "    # Transforming data\n",
    "    new_df = df.pct_change(\n",
    "        days\n",
    "    ).apply(\n",
    "        lambda x: round(x*100, 2)\n",
    "    ).replace(\n",
    "        [np.inf, -np.inf], \n",
    "        np.nan\n",
    "    )\n",
    "    \n",
    "    # Dropping Nans\n",
    "    new_df = new_df.dropna(\n",
    "        thresh=round(new_df.shape[1]*.7) # If 70% of the values in the row are Nans, drop the whole row\n",
    "    ).dropna(\n",
    "        axis=1,\n",
    "        thresh=round(new_df.shape[0]*.7) # If 70% of the values in the columns are Nans, drop the whole column\n",
    "    )\n",
    "    \n",
    "    # What the percent change is going to be in the next days AKA the Y Variable\n",
    "    new_df[f'future_{days}_days']= df['Open'].pct_change(\n",
    "        days\n",
    "    ).shift(\n",
    "        -days\n",
    "    ).apply(\n",
    "        lambda x: round(x*100, 2)\n",
    "    )\n",
    "    \n",
    "    # Saving the last value in the dataset for later\n",
    "    last_val = new_df.tail(1).drop(f'future_{days}_days',\n",
    "                                   axis=1)\n",
    "\n",
    "    # Dropping the last NaNs from the Y variable\n",
    "    new_df = new_df.dropna(\n",
    "        subset=[f'future_{days}_days']\n",
    "    )\n",
    "\n",
    "    # Filling in the rest of the NaNs with the most recent value\n",
    "    new_df = new_df.fillna(method='ffill').dropna()\n",
    "\n",
    "    return new_df, last_val"
   ]
  },
  {
   "cell_type": "code",
   "execution_count": 444,
   "metadata": {},
   "outputs": [
    {
     "data": {
      "text/html": [
       "<div>\n",
       "<style scoped>\n",
       "    .dataframe tbody tr th:only-of-type {\n",
       "        vertical-align: middle;\n",
       "    }\n",
       "\n",
       "    .dataframe tbody tr th {\n",
       "        vertical-align: top;\n",
       "    }\n",
       "\n",
       "    .dataframe thead th {\n",
       "        text-align: right;\n",
       "    }\n",
       "</style>\n",
       "<table border=\"1\" class=\"dataframe\">\n",
       "  <thead>\n",
       "    <tr style=\"text-align: right;\">\n",
       "      <th></th>\n",
       "      <th>Open</th>\n",
       "      <th>High</th>\n",
       "      <th>Low</th>\n",
       "      <th>Close</th>\n",
       "      <th>Volume</th>\n",
       "      <th>volume_adi</th>\n",
       "      <th>volume_obv</th>\n",
       "      <th>volume_cmf</th>\n",
       "      <th>volume_fi</th>\n",
       "      <th>volume_mfi</th>\n",
       "      <th>...</th>\n",
       "      <th>momentum_ao</th>\n",
       "      <th>momentum_kama</th>\n",
       "      <th>momentum_roc</th>\n",
       "      <th>momentum_ppo</th>\n",
       "      <th>momentum_ppo_signal</th>\n",
       "      <th>momentum_ppo_hist</th>\n",
       "      <th>others_dr</th>\n",
       "      <th>others_dlr</th>\n",
       "      <th>others_cr</th>\n",
       "      <th>future_1_days</th>\n",
       "    </tr>\n",
       "    <tr>\n",
       "      <th>Date</th>\n",
       "      <th></th>\n",
       "      <th></th>\n",
       "      <th></th>\n",
       "      <th></th>\n",
       "      <th></th>\n",
       "      <th></th>\n",
       "      <th></th>\n",
       "      <th></th>\n",
       "      <th></th>\n",
       "      <th></th>\n",
       "      <th></th>\n",
       "      <th></th>\n",
       "      <th></th>\n",
       "      <th></th>\n",
       "      <th></th>\n",
       "      <th></th>\n",
       "      <th></th>\n",
       "      <th></th>\n",
       "      <th></th>\n",
       "      <th></th>\n",
       "      <th></th>\n",
       "    </tr>\n",
       "  </thead>\n",
       "  <tbody>\n",
       "    <tr>\n",
       "      <th>2020-10-03</th>\n",
       "      <td>-0.38</td>\n",
       "      <td>-0.46</td>\n",
       "      <td>0.84</td>\n",
       "      <td>-0.19</td>\n",
       "      <td>-26.09</td>\n",
       "      <td>-1.65</td>\n",
       "      <td>-9.78</td>\n",
       "      <td>26.40</td>\n",
       "      <td>-3.10</td>\n",
       "      <td>-3.21</td>\n",
       "      <td>...</td>\n",
       "      <td>-36.85</td>\n",
       "      <td>-0.14</td>\n",
       "      <td>-130.57</td>\n",
       "      <td>8.18</td>\n",
       "      <td>0.45</td>\n",
       "      <td>-132.91</td>\n",
       "      <td>-48.27</td>\n",
       "      <td>-48.32</td>\n",
       "      <td>-4.73</td>\n",
       "      <td>-0.15</td>\n",
       "    </tr>\n",
       "    <tr>\n",
       "      <th>2020-10-04</th>\n",
       "      <td>-0.15</td>\n",
       "      <td>0.82</td>\n",
       "      <td>0.03</td>\n",
       "      <td>1.13</td>\n",
       "      <td>2.65</td>\n",
       "      <td>10.82</td>\n",
       "      <td>11.12</td>\n",
       "      <td>-3.62</td>\n",
       "      <td>-85.94</td>\n",
       "      <td>17.50</td>\n",
       "      <td>...</td>\n",
       "      <td>-34.05</td>\n",
       "      <td>-0.01</td>\n",
       "      <td>40.37</td>\n",
       "      <td>4.58</td>\n",
       "      <td>1.29</td>\n",
       "      <td>187.76</td>\n",
       "      <td>-705.75</td>\n",
       "      <td>-701.81</td>\n",
       "      <td>30.04</td>\n",
       "      <td>1.14</td>\n",
       "    </tr>\n",
       "    <tr>\n",
       "      <th>2020-10-05</th>\n",
       "      <td>1.14</td>\n",
       "      <td>0.96</td>\n",
       "      <td>1.09</td>\n",
       "      <td>1.12</td>\n",
       "      <td>10.48</td>\n",
       "      <td>13.36</td>\n",
       "      <td>11.06</td>\n",
       "      <td>30.81</td>\n",
       "      <td>-580.28</td>\n",
       "      <td>17.73</td>\n",
       "      <td>...</td>\n",
       "      <td>-24.05</td>\n",
       "      <td>0.00</td>\n",
       "      <td>308.18</td>\n",
       "      <td>-0.97</td>\n",
       "      <td>0.82</td>\n",
       "      <td>-35.98</td>\n",
       "      <td>-0.58</td>\n",
       "      <td>-0.58</td>\n",
       "      <td>23.22</td>\n",
       "      <td>1.05</td>\n",
       "    </tr>\n",
       "    <tr>\n",
       "      <th>2020-10-06</th>\n",
       "      <td>1.05</td>\n",
       "      <td>-0.01</td>\n",
       "      <td>-0.76</td>\n",
       "      <td>-1.69</td>\n",
       "      <td>14.86</td>\n",
       "      <td>-7.12</td>\n",
       "      <td>-11.43</td>\n",
       "      <td>-23.81</td>\n",
       "      <td>-220.69</td>\n",
       "      <td>0.34</td>\n",
       "      <td>...</td>\n",
       "      <td>-15.82</td>\n",
       "      <td>-0.04</td>\n",
       "      <td>-120.39</td>\n",
       "      <td>-7.71</td>\n",
       "      <td>-0.94</td>\n",
       "      <td>-216.64</td>\n",
       "      <td>-250.80</td>\n",
       "      <td>-252.94</td>\n",
       "      <td>-28.74</td>\n",
       "      <td>-1.67</td>\n",
       "    </tr>\n",
       "    <tr>\n",
       "      <th>2020-10-07</th>\n",
       "      <td>-1.67</td>\n",
       "      <td>-1.08</td>\n",
       "      <td>0.25</td>\n",
       "      <td>0.54</td>\n",
       "      <td>-20.80</td>\n",
       "      <td>9.58</td>\n",
       "      <td>10.23</td>\n",
       "      <td>7.98</td>\n",
       "      <td>-56.98</td>\n",
       "      <td>1.62</td>\n",
       "      <td>...</td>\n",
       "      <td>43.11</td>\n",
       "      <td>-0.02</td>\n",
       "      <td>-81.24</td>\n",
       "      <td>2.91</td>\n",
       "      <td>-0.20</td>\n",
       "      <td>-78.75</td>\n",
       "      <td>-132.06</td>\n",
       "      <td>-131.70</td>\n",
       "      <td>12.71</td>\n",
       "      <td>0.54</td>\n",
       "    </tr>\n",
       "    <tr>\n",
       "      <th>...</th>\n",
       "      <td>...</td>\n",
       "      <td>...</td>\n",
       "      <td>...</td>\n",
       "      <td>...</td>\n",
       "      <td>...</td>\n",
       "      <td>...</td>\n",
       "      <td>...</td>\n",
       "      <td>...</td>\n",
       "      <td>...</td>\n",
       "      <td>...</td>\n",
       "      <td>...</td>\n",
       "      <td>...</td>\n",
       "      <td>...</td>\n",
       "      <td>...</td>\n",
       "      <td>...</td>\n",
       "      <td>...</td>\n",
       "      <td>...</td>\n",
       "      <td>...</td>\n",
       "      <td>...</td>\n",
       "      <td>...</td>\n",
       "      <td>...</td>\n",
       "    </tr>\n",
       "    <tr>\n",
       "      <th>2021-10-04</th>\n",
       "      <td>1.11</td>\n",
       "      <td>0.66</td>\n",
       "      <td>-0.24</td>\n",
       "      <td>1.89</td>\n",
       "      <td>25.32</td>\n",
       "      <td>0.93</td>\n",
       "      <td>3.19</td>\n",
       "      <td>-17.59</td>\n",
       "      <td>9.58</td>\n",
       "      <td>14.04</td>\n",
       "      <td>...</td>\n",
       "      <td>-163.50</td>\n",
       "      <td>1.13</td>\n",
       "      <td>-31.09</td>\n",
       "      <td>-9.74</td>\n",
       "      <td>13.50</td>\n",
       "      <td>-36.89</td>\n",
       "      <td>85.01</td>\n",
       "      <td>84.21</td>\n",
       "      <td>2.40</td>\n",
       "      <td>2.00</td>\n",
       "    </tr>\n",
       "    <tr>\n",
       "      <th>2021-10-05</th>\n",
       "      <td>2.00</td>\n",
       "      <td>4.82</td>\n",
       "      <td>4.31</td>\n",
       "      <td>4.89</td>\n",
       "      <td>7.46</td>\n",
       "      <td>1.06</td>\n",
       "      <td>3.32</td>\n",
       "      <td>13.32</td>\n",
       "      <td>47.29</td>\n",
       "      <td>13.37</td>\n",
       "      <td>...</td>\n",
       "      <td>291.57</td>\n",
       "      <td>2.27</td>\n",
       "      <td>16.01</td>\n",
       "      <td>-27.56</td>\n",
       "      <td>1.38</td>\n",
       "      <td>-88.38</td>\n",
       "      <td>158.20</td>\n",
       "      <td>154.47</td>\n",
       "      <td>6.17</td>\n",
       "      <td>4.70</td>\n",
       "    </tr>\n",
       "    <tr>\n",
       "      <th>2021-10-06</th>\n",
       "      <td>4.70</td>\n",
       "      <td>7.19</td>\n",
       "      <td>2.88</td>\n",
       "      <td>7.47</td>\n",
       "      <td>36.69</td>\n",
       "      <td>1.72</td>\n",
       "      <td>4.40</td>\n",
       "      <td>76.53</td>\n",
       "      <td>77.23</td>\n",
       "      <td>1.22</td>\n",
       "      <td>...</td>\n",
       "      <td>67.62</td>\n",
       "      <td>4.08</td>\n",
       "      <td>98.23</td>\n",
       "      <td>-156.25</td>\n",
       "      <td>-31.86</td>\n",
       "      <td>-2436.39</td>\n",
       "      <td>52.68</td>\n",
       "      <td>50.82</td>\n",
       "      <td>9.30</td>\n",
       "      <td>7.48</td>\n",
       "    </tr>\n",
       "    <tr>\n",
       "      <th>2021-10-07</th>\n",
       "      <td>7.48</td>\n",
       "      <td>-0.41</td>\n",
       "      <td>6.02</td>\n",
       "      <td>-2.81</td>\n",
       "      <td>-24.94</td>\n",
       "      <td>-0.96</td>\n",
       "      <td>-3.16</td>\n",
       "      <td>-16.38</td>\n",
       "      <td>-29.96</td>\n",
       "      <td>0.54</td>\n",
       "      <td>...</td>\n",
       "      <td>35.65</td>\n",
       "      <td>1.94</td>\n",
       "      <td>-11.18</td>\n",
       "      <td>7.82</td>\n",
       "      <td>-38.77</td>\n",
       "      <td>-17.09</td>\n",
       "      <td>-137.63</td>\n",
       "      <td>-139.57</td>\n",
       "      <td>-3.44</td>\n",
       "      <td>-2.78</td>\n",
       "    </tr>\n",
       "    <tr>\n",
       "      <th>2021-10-08</th>\n",
       "      <td>-2.78</td>\n",
       "      <td>1.06</td>\n",
       "      <td>0.30</td>\n",
       "      <td>0.30</td>\n",
       "      <td>-5.45</td>\n",
       "      <td>-0.99</td>\n",
       "      <td>3.09</td>\n",
       "      <td>-44.49</td>\n",
       "      <td>-12.08</td>\n",
       "      <td>10.22</td>\n",
       "      <td>...</td>\n",
       "      <td>26.74</td>\n",
       "      <td>2.13</td>\n",
       "      <td>-4.08</td>\n",
       "      <td>-26.11</td>\n",
       "      <td>-42.66</td>\n",
       "      <td>-32.64</td>\n",
       "      <td>-110.71</td>\n",
       "      <td>-110.54</td>\n",
       "      <td>0.37</td>\n",
       "      <td>0.24</td>\n",
       "    </tr>\n",
       "  </tbody>\n",
       "</table>\n",
       "<p>368 rows × 83 columns</p>\n",
       "</div>"
      ],
      "text/plain": [
       "            Open  High   Low  Close  Volume  volume_adi  volume_obv  \\\n",
       "Date                                                                  \n",
       "2020-10-03 -0.38 -0.46  0.84  -0.19  -26.09       -1.65       -9.78   \n",
       "2020-10-04 -0.15  0.82  0.03   1.13    2.65       10.82       11.12   \n",
       "2020-10-05  1.14  0.96  1.09   1.12   10.48       13.36       11.06   \n",
       "2020-10-06  1.05 -0.01 -0.76  -1.69   14.86       -7.12      -11.43   \n",
       "2020-10-07 -1.67 -1.08  0.25   0.54  -20.80        9.58       10.23   \n",
       "...          ...   ...   ...    ...     ...         ...         ...   \n",
       "2021-10-04  1.11  0.66 -0.24   1.89   25.32        0.93        3.19   \n",
       "2021-10-05  2.00  4.82  4.31   4.89    7.46        1.06        3.32   \n",
       "2021-10-06  4.70  7.19  2.88   7.47   36.69        1.72        4.40   \n",
       "2021-10-07  7.48 -0.41  6.02  -2.81  -24.94       -0.96       -3.16   \n",
       "2021-10-08 -2.78  1.06  0.30   0.30   -5.45       -0.99        3.09   \n",
       "\n",
       "            volume_cmf  volume_fi  volume_mfi  ...  momentum_ao  \\\n",
       "Date                                           ...                \n",
       "2020-10-03       26.40      -3.10       -3.21  ...       -36.85   \n",
       "2020-10-04       -3.62     -85.94       17.50  ...       -34.05   \n",
       "2020-10-05       30.81    -580.28       17.73  ...       -24.05   \n",
       "2020-10-06      -23.81    -220.69        0.34  ...       -15.82   \n",
       "2020-10-07        7.98     -56.98        1.62  ...        43.11   \n",
       "...                ...        ...         ...  ...          ...   \n",
       "2021-10-04      -17.59       9.58       14.04  ...      -163.50   \n",
       "2021-10-05       13.32      47.29       13.37  ...       291.57   \n",
       "2021-10-06       76.53      77.23        1.22  ...        67.62   \n",
       "2021-10-07      -16.38     -29.96        0.54  ...        35.65   \n",
       "2021-10-08      -44.49     -12.08       10.22  ...        26.74   \n",
       "\n",
       "            momentum_kama  momentum_roc  momentum_ppo  momentum_ppo_signal  \\\n",
       "Date                                                                         \n",
       "2020-10-03          -0.14       -130.57          8.18                 0.45   \n",
       "2020-10-04          -0.01         40.37          4.58                 1.29   \n",
       "2020-10-05           0.00        308.18         -0.97                 0.82   \n",
       "2020-10-06          -0.04       -120.39         -7.71                -0.94   \n",
       "2020-10-07          -0.02        -81.24          2.91                -0.20   \n",
       "...                   ...           ...           ...                  ...   \n",
       "2021-10-04           1.13        -31.09         -9.74                13.50   \n",
       "2021-10-05           2.27         16.01        -27.56                 1.38   \n",
       "2021-10-06           4.08         98.23       -156.25               -31.86   \n",
       "2021-10-07           1.94        -11.18          7.82               -38.77   \n",
       "2021-10-08           2.13         -4.08        -26.11               -42.66   \n",
       "\n",
       "            momentum_ppo_hist  others_dr  others_dlr  others_cr  future_1_days  \n",
       "Date                                                                            \n",
       "2020-10-03            -132.91     -48.27      -48.32      -4.73          -0.15  \n",
       "2020-10-04             187.76    -705.75     -701.81      30.04           1.14  \n",
       "2020-10-05             -35.98      -0.58       -0.58      23.22           1.05  \n",
       "2020-10-06            -216.64    -250.80     -252.94     -28.74          -1.67  \n",
       "2020-10-07             -78.75    -132.06     -131.70      12.71           0.54  \n",
       "...                       ...        ...         ...        ...            ...  \n",
       "2021-10-04             -36.89      85.01       84.21       2.40           2.00  \n",
       "2021-10-05             -88.38     158.20      154.47       6.17           4.70  \n",
       "2021-10-06           -2436.39      52.68       50.82       9.30           7.48  \n",
       "2021-10-07             -17.09    -137.63     -139.57      -3.44          -2.78  \n",
       "2021-10-08             -32.64    -110.71     -110.54       0.37           0.24  \n",
       "\n",
       "[368 rows x 83 columns]"
      ]
     },
     "execution_count": 444,
     "metadata": {},
     "output_type": "execute_result"
    }
   ],
   "source": [
    "new_df, last_val = transformData(df, days=1)\n",
    "\n",
    "new_df"
   ]
  },
  {
   "cell_type": "code",
   "execution_count": 450,
   "metadata": {},
   "outputs": [
    {
     "data": {
      "text/html": [
       "<div>\n",
       "<style scoped>\n",
       "    .dataframe tbody tr th:only-of-type {\n",
       "        vertical-align: middle;\n",
       "    }\n",
       "\n",
       "    .dataframe tbody tr th {\n",
       "        vertical-align: top;\n",
       "    }\n",
       "\n",
       "    .dataframe thead th {\n",
       "        text-align: right;\n",
       "    }\n",
       "</style>\n",
       "<table border=\"1\" class=\"dataframe\">\n",
       "  <thead>\n",
       "    <tr style=\"text-align: right;\">\n",
       "      <th></th>\n",
       "      <th>Open</th>\n",
       "      <th>High</th>\n",
       "      <th>Low</th>\n",
       "      <th>Close</th>\n",
       "      <th>Volume</th>\n",
       "      <th>volume_adi</th>\n",
       "      <th>volume_obv</th>\n",
       "      <th>volume_cmf</th>\n",
       "      <th>volume_fi</th>\n",
       "      <th>volume_mfi</th>\n",
       "      <th>...</th>\n",
       "      <th>momentum_wr</th>\n",
       "      <th>momentum_ao</th>\n",
       "      <th>momentum_kama</th>\n",
       "      <th>momentum_roc</th>\n",
       "      <th>momentum_ppo</th>\n",
       "      <th>momentum_ppo_signal</th>\n",
       "      <th>momentum_ppo_hist</th>\n",
       "      <th>others_dr</th>\n",
       "      <th>others_dlr</th>\n",
       "      <th>others_cr</th>\n",
       "    </tr>\n",
       "    <tr>\n",
       "      <th>Date</th>\n",
       "      <th></th>\n",
       "      <th></th>\n",
       "      <th></th>\n",
       "      <th></th>\n",
       "      <th></th>\n",
       "      <th></th>\n",
       "      <th></th>\n",
       "      <th></th>\n",
       "      <th></th>\n",
       "      <th></th>\n",
       "      <th></th>\n",
       "      <th></th>\n",
       "      <th></th>\n",
       "      <th></th>\n",
       "      <th></th>\n",
       "      <th></th>\n",
       "      <th></th>\n",
       "      <th></th>\n",
       "      <th></th>\n",
       "      <th></th>\n",
       "      <th></th>\n",
       "    </tr>\n",
       "  </thead>\n",
       "  <tbody>\n",
       "    <tr>\n",
       "      <th>2021-10-09</th>\n",
       "      <td>0.24</td>\n",
       "      <td>-0.94</td>\n",
       "      <td>0.09</td>\n",
       "      <td>1.85</td>\n",
       "      <td>-6.64</td>\n",
       "      <td>0.6</td>\n",
       "      <td>2.8</td>\n",
       "      <td>60.92</td>\n",
       "      <td>0.16</td>\n",
       "      <td>6.84</td>\n",
       "      <td>...</td>\n",
       "      <td>-51.17</td>\n",
       "      <td>20.34</td>\n",
       "      <td>2.08</td>\n",
       "      <td>21.07</td>\n",
       "      <td>-77.16</td>\n",
       "      <td>-29.02</td>\n",
       "      <td>-60.98</td>\n",
       "      <td>516.18</td>\n",
       "      <td>511.46</td>\n",
       "      <td>2.28</td>\n",
       "    </tr>\n",
       "  </tbody>\n",
       "</table>\n",
       "<p>1 rows × 82 columns</p>\n",
       "</div>"
      ],
      "text/plain": [
       "            Open  High   Low  Close  Volume  volume_adi  volume_obv  \\\n",
       "Date                                                                  \n",
       "2021-10-09  0.24 -0.94  0.09   1.85   -6.64         0.6         2.8   \n",
       "\n",
       "            volume_cmf  volume_fi  volume_mfi  ...  momentum_wr  momentum_ao  \\\n",
       "Date                                           ...                             \n",
       "2021-10-09       60.92       0.16        6.84  ...       -51.17        20.34   \n",
       "\n",
       "            momentum_kama  momentum_roc  momentum_ppo  momentum_ppo_signal  \\\n",
       "Date                                                                         \n",
       "2021-10-09           2.08         21.07        -77.16               -29.02   \n",
       "\n",
       "            momentum_ppo_hist  others_dr  others_dlr  others_cr  \n",
       "Date                                                             \n",
       "2021-10-09             -60.98     516.18      511.46       2.28  \n",
       "\n",
       "[1 rows x 82 columns]"
      ]
     },
     "execution_count": 450,
     "metadata": {},
     "output_type": "execute_result"
    }
   ],
   "source": [
    "# To be used for current prediction\n",
    "last_val"
   ]
  },
  {
   "cell_type": "markdown",
   "metadata": {},
   "source": [
    "# 3. Fit to Linear Model"
   ]
  },
  {
   "cell_type": "code",
   "execution_count": 451,
   "metadata": {},
   "outputs": [],
   "source": [
    "# Column name\n",
    "col_name = new_df.columns[-1]\n",
    "\n",
    "# Train, test, split\n",
    "X = new_df.drop(col_name, axis=1)\n",
    "\n",
    "y = new_df[[col_name]]\n",
    "\n",
    "X_train, X_test, y_train, y_test = train_test_split(\n",
    "    X, y, test_size=0.20\n",
    ")"
   ]
  },
  {
   "cell_type": "code",
   "execution_count": 453,
   "metadata": {},
   "outputs": [],
   "source": [
    "# Model object\n",
    "reg = LinearRegression()\n",
    "\n",
    "# Fitting\n",
    "reg.fit(X_train, y_train)\n",
    "\n",
    "# Getting predictions\n",
    "preds = reg.predict(X_test)"
   ]
  },
  {
   "cell_type": "code",
   "execution_count": 454,
   "metadata": {},
   "outputs": [
    {
     "data": {
      "text/plain": [
       "array([[0.55990731]])"
      ]
     },
     "execution_count": 454,
     "metadata": {},
     "output_type": "execute_result"
    }
   ],
   "source": [
    "# Testing current prediction\n",
    "reg.predict(last_val)"
   ]
  },
  {
   "cell_type": "markdown",
   "metadata": {},
   "source": [
    "## Evaluation"
   ]
  },
  {
   "cell_type": "code",
   "execution_count": 455,
   "metadata": {},
   "outputs": [
    {
     "name": "stdout",
     "output_type": "stream",
     "text": [
      "RMSE: 2.263186545962376\n",
      "Coefficients:\n",
      " [[-9.76863499e-02  1.57262801e-01  1.24433445e-01  7.76406009e-01\n",
      "   1.92752022e-02  5.31131654e-02 -4.14603424e-02  2.44957618e-04\n",
      "   6.64540905e-04  1.28379012e-02  1.77848777e-05 -6.35829176e-04\n",
      "   3.29385434e-04 -2.82043502e-02  8.64345501e-02  1.10628451e-03\n",
      "  -5.45977082e-02 -6.06566962e-02 -3.11789381e-02  1.42598843e-02\n",
      "   4.06055312e-04 -2.85275228e-02 -4.67697872e-02 -3.06144799e-03\n",
      "  -6.25479504e-03  7.72245043e-05  1.19318225e-01 -1.12792176e-01\n",
      "  -4.30068627e-02  3.82033432e-02 -3.49665626e-03 -8.32589958e-04\n",
      "   7.06236222e-03 -1.82225001e-02 -3.60126012e-04  1.11181119e-01\n",
      "  -7.77603162e-02  1.30314925e-01  3.15346361e-02  9.83850869e-03\n",
      "   1.85419464e-03 -8.30953867e-03 -8.85392448e-03 -1.46211587e-02\n",
      "  -6.44465649e-04 -7.20247641e-03 -1.74506739e-01 -6.32234516e-04\n",
      "  -1.90396819e-05 -1.55395172e-03  3.44081387e-03 -1.32230029e-03\n",
      "  -7.53031779e-02  9.18094204e-02 -2.70000486e-03  8.39592966e-02\n",
      "  -8.39161515e-02  1.25951510e-01  2.14801886e-03  3.46351489e-04\n",
      "   1.09037345e-02  1.13316301e-02  5.80555873e-03 -2.64671871e-09\n",
      "   1.32309883e-02 -1.48364903e-03  1.20032067e-02  0.00000000e+00\n",
      "  -2.56773806e-03 -9.53718630e-03  1.78434772e-03  7.61325695e-03\n",
      "  -1.61363279e-04  2.20305743e-03  1.38921190e-01  4.61180988e-04\n",
      "  -1.19906204e-03 -1.46517899e-05 -6.61073525e-04 -1.55237203e-02\n",
      "   1.58564628e-02 -5.54958457e-02]]\n",
      "Intercept: [0.05638149]\n"
     ]
    }
   ],
   "source": [
    "# RMSE\n",
    "print(\"RMSE:\",mean_squared_error(\n",
    "    y_test, \n",
    "    preds, \n",
    "    squared=False\n",
    "))\n",
    "\n",
    "# Coefficients\n",
    "print(\"Coefficients:\\n\", reg.coef_)\n",
    "\n",
    "# Intercept\n",
    "print(\"Intercept:\", reg.intercept_)"
   ]
  },
  {
   "cell_type": "code",
   "execution_count": 456,
   "metadata": {},
   "outputs": [
    {
     "data": {
      "text/html": [
       "<div>\n",
       "<style scoped>\n",
       "    .dataframe tbody tr th:only-of-type {\n",
       "        vertical-align: middle;\n",
       "    }\n",
       "\n",
       "    .dataframe tbody tr th {\n",
       "        vertical-align: top;\n",
       "    }\n",
       "\n",
       "    .dataframe thead th {\n",
       "        text-align: right;\n",
       "    }\n",
       "</style>\n",
       "<table border=\"1\" class=\"dataframe\">\n",
       "  <thead>\n",
       "    <tr style=\"text-align: right;\">\n",
       "      <th></th>\n",
       "      <th>actual</th>\n",
       "      <th>preds</th>\n",
       "      <th>same_direction</th>\n",
       "    </tr>\n",
       "  </thead>\n",
       "  <tbody>\n",
       "    <tr>\n",
       "      <th>0</th>\n",
       "      <td>1.49</td>\n",
       "      <td>-0.346098</td>\n",
       "      <td>False</td>\n",
       "    </tr>\n",
       "    <tr>\n",
       "      <th>1</th>\n",
       "      <td>1.55</td>\n",
       "      <td>1.456502</td>\n",
       "      <td>True</td>\n",
       "    </tr>\n",
       "    <tr>\n",
       "      <th>2</th>\n",
       "      <td>-1.15</td>\n",
       "      <td>-2.340773</td>\n",
       "      <td>True</td>\n",
       "    </tr>\n",
       "    <tr>\n",
       "      <th>3</th>\n",
       "      <td>-3.64</td>\n",
       "      <td>-2.604289</td>\n",
       "      <td>True</td>\n",
       "    </tr>\n",
       "    <tr>\n",
       "      <th>4</th>\n",
       "      <td>0.24</td>\n",
       "      <td>-2.243054</td>\n",
       "      <td>False</td>\n",
       "    </tr>\n",
       "    <tr>\n",
       "      <th>...</th>\n",
       "      <td>...</td>\n",
       "      <td>...</td>\n",
       "      <td>...</td>\n",
       "    </tr>\n",
       "    <tr>\n",
       "      <th>69</th>\n",
       "      <td>-2.80</td>\n",
       "      <td>-3.131636</td>\n",
       "      <td>True</td>\n",
       "    </tr>\n",
       "    <tr>\n",
       "      <th>70</th>\n",
       "      <td>-1.98</td>\n",
       "      <td>-3.419882</td>\n",
       "      <td>True</td>\n",
       "    </tr>\n",
       "    <tr>\n",
       "      <th>71</th>\n",
       "      <td>-7.95</td>\n",
       "      <td>-7.229561</td>\n",
       "      <td>True</td>\n",
       "    </tr>\n",
       "    <tr>\n",
       "      <th>72</th>\n",
       "      <td>3.15</td>\n",
       "      <td>2.571246</td>\n",
       "      <td>True</td>\n",
       "    </tr>\n",
       "    <tr>\n",
       "      <th>73</th>\n",
       "      <td>-1.21</td>\n",
       "      <td>-2.740306</td>\n",
       "      <td>True</td>\n",
       "    </tr>\n",
       "  </tbody>\n",
       "</table>\n",
       "<p>74 rows × 3 columns</p>\n",
       "</div>"
      ],
      "text/plain": [
       "    actual     preds  same_direction\n",
       "0     1.49 -0.346098           False\n",
       "1     1.55  1.456502            True\n",
       "2    -1.15 -2.340773            True\n",
       "3    -3.64 -2.604289            True\n",
       "4     0.24 -2.243054           False\n",
       "..     ...       ...             ...\n",
       "69   -2.80 -3.131636            True\n",
       "70   -1.98 -3.419882            True\n",
       "71   -7.95 -7.229561            True\n",
       "72    3.15  2.571246            True\n",
       "73   -1.21 -2.740306            True\n",
       "\n",
       "[74 rows x 3 columns]"
      ]
     },
     "metadata": {},
     "output_type": "display_data"
    },
    {
     "data": {
      "text/html": [
       "<div>\n",
       "<style scoped>\n",
       "    .dataframe tbody tr th:only-of-type {\n",
       "        vertical-align: middle;\n",
       "    }\n",
       "\n",
       "    .dataframe tbody tr th {\n",
       "        vertical-align: top;\n",
       "    }\n",
       "\n",
       "    .dataframe thead th {\n",
       "        text-align: right;\n",
       "    }\n",
       "</style>\n",
       "<table border=\"1\" class=\"dataframe\">\n",
       "  <thead>\n",
       "    <tr style=\"text-align: right;\">\n",
       "      <th></th>\n",
       "      <th>same_direction</th>\n",
       "    </tr>\n",
       "  </thead>\n",
       "  <tbody>\n",
       "    <tr>\n",
       "      <th>True</th>\n",
       "      <td>61</td>\n",
       "    </tr>\n",
       "    <tr>\n",
       "      <th>False</th>\n",
       "      <td>13</td>\n",
       "    </tr>\n",
       "  </tbody>\n",
       "</table>\n",
       "</div>"
      ],
      "text/plain": [
       "       same_direction\n",
       "True               61\n",
       "False              13"
      ]
     },
     "execution_count": 456,
     "metadata": {},
     "output_type": "execute_result"
    }
   ],
   "source": [
    "# Making a comparison DF\n",
    "compare = pd.DataFrame()\n",
    "\n",
    "compare['actual'] = y_test[col_name].reset_index(drop=True)\n",
    "\n",
    "compare['preds'] = preds\n",
    "\n",
    "# Check to see if the predictions at least point in the correct direction\n",
    "compare['same_direction'] = (\n",
    "    compare['actual'].apply(lambda x: x>0)==compare['preds'].apply(lambda x: x>0)\n",
    ")\n",
    "\n",
    "display(compare)\n",
    "\n",
    "# How often did predictions land in the same direction as the actual values?\n",
    "dir_df = compare['same_direction'].value_counts().to_frame()\n",
    "\n",
    "dir_df"
   ]
  },
  {
   "cell_type": "code",
   "execution_count": 437,
   "metadata": {},
   "outputs": [
    {
     "data": {
      "application/vnd.plotly.v1+json": {
       "config": {
        "plotlyServerURL": "https://plot.ly"
       },
       "data": [
        {
         "hovertemplate": "variable=preds<br>index=%{x}<br>value=%{y}<extra></extra>",
         "legendgroup": "preds",
         "marker": {
          "color": "#636efa",
          "symbol": "circle"
         },
         "mode": "markers",
         "name": "preds",
         "orientation": "v",
         "showlegend": true,
         "type": "scatter",
         "x": [
          0,
          1,
          2,
          3,
          4,
          5,
          6,
          7,
          8,
          9,
          10,
          11,
          12,
          13,
          14,
          15,
          16,
          17,
          18,
          19,
          20,
          21,
          22,
          23,
          24,
          25,
          26,
          27,
          28,
          29,
          30,
          31,
          32,
          33,
          34,
          35,
          36,
          37,
          38,
          39,
          40,
          41,
          42,
          43,
          44,
          45,
          46,
          47,
          48,
          49,
          50,
          51,
          52,
          53,
          54,
          55,
          56,
          57,
          58,
          59,
          60,
          61,
          62,
          63,
          64,
          65,
          66,
          67,
          68,
          69,
          70,
          71,
          72,
          73
         ],
         "xaxis": "x",
         "y": [
          0.28909644290714753,
          -14.61094130066766,
          -0.14376621447269444,
          -0.8455310292952907,
          -2.311613147872252,
          -3.3593785476414006,
          -4.089897193001215,
          8.75660275173926,
          12.348676403818533,
          3.2094241534496755,
          0.562900321830639,
          8.391926846033636,
          9.039077222470222,
          1.397578972195159,
          -3.3089935741692047,
          -4.93750281664418,
          1.8419733804976173,
          -1.373864399144215,
          -2.025904020597414,
          0.006128431327466766,
          0.4052256253103896,
          -1.2669279173736563,
          4.760372694726566,
          -3.115447290235487,
          2.229836312065027,
          5.752244507977744,
          6.3452196408494705,
          0.7484635794442684,
          2.8810634041353707,
          4.777875719447548,
          11.074861381509296,
          0.9760356174318139,
          6.227029545146255,
          6.5019058567062675,
          3.4825730482709374,
          -6.345189024977216,
          1.544224073624697,
          -4.403668270249521,
          -10.08065798300819,
          0.12100385741559608,
          -2.588076597558004,
          -6.605691431583934,
          -0.8903048132556128,
          8.142968741532789,
          3.8371615909356667,
          -1.7410698384113623,
          -1.2704378559826741,
          4.813644425688151,
          2.184954645679611,
          0.0510870359288485,
          -1.960261777141296,
          -2.5564952597509776,
          -13.505329173717687,
          2.4412697144785063,
          6.588525053887255,
          10.047976074811269,
          3.1863540117375426,
          1.4766262510085153,
          7.278936313773417,
          -4.920720697307679,
          -0.10319035295936639,
          -1.838153223247503,
          0.5305370687144868,
          -5.866078084406207,
          -3.698345713949703,
          12.215057649654096,
          0.07528189123876666,
          1.4464330403624197,
          -4.861796547734633,
          1.305116455915775,
          -7.589904744563205,
          0.3198409205864328,
          0.9544451390895718,
          -1.2350378034033032
         ],
         "yaxis": "y"
        },
        {
         "hovertemplate": "variable=actual<br>index=%{x}<br>value=%{y}<extra></extra>",
         "legendgroup": "actual",
         "marker": {
          "color": "#EF553B",
          "symbol": "circle"
         },
         "mode": "markers",
         "name": "actual",
         "orientation": "v",
         "showlegend": true,
         "type": "scatter",
         "x": [
          0,
          1,
          2,
          3,
          4,
          5,
          6,
          7,
          8,
          9,
          10,
          11,
          12,
          13,
          14,
          15,
          16,
          17,
          18,
          19,
          20,
          21,
          22,
          23,
          24,
          25,
          26,
          27,
          28,
          29,
          30,
          31,
          32,
          33,
          34,
          35,
          36,
          37,
          38,
          39,
          40,
          41,
          42,
          43,
          44,
          45,
          46,
          47,
          48,
          49,
          50,
          51,
          52,
          53,
          54,
          55,
          56,
          57,
          58,
          59,
          60,
          61,
          62,
          63,
          64,
          65,
          66,
          67,
          68,
          69,
          70,
          71,
          72,
          73
         ],
         "xaxis": "x",
         "y": [
          -0.03,
          -13.31,
          -0.83,
          -0.7,
          -2.06,
          -2.43,
          -2.9,
          7.87,
          11.8,
          3.19,
          -0.01,
          7.74,
          7.48,
          1.32,
          -3.64,
          -4.63,
          1.73,
          -1.45,
          -1.67,
          1.52,
          1.33,
          0.52,
          3.97,
          -3,
          2.45,
          4.58,
          5.41,
          1.46,
          2.63,
          4.88,
          10.09,
          1.18,
          4.7,
          5.96,
          3.59,
          -5.43,
          2.07,
          -3.37,
          -7.38,
          0.36,
          -2.72,
          -5.89,
          -0.33,
          6.92,
          4.01,
          -1.21,
          1.42,
          5.57,
          1.55,
          -0.12,
          -1.36,
          -3.03,
          -9.91,
          1.72,
          5.75,
          9.86,
          3.63,
          -0.11,
          7.59,
          -1.95,
          -1.16,
          -1.46,
          -0.04,
          -5.23,
          -4.13,
          10.23,
          0.25,
          1.78,
          -4.42,
          1.66,
          -5.96,
          0.81,
          0.16,
          -0.63
         ],
         "yaxis": "y"
        }
       ],
       "layout": {
        "autosize": true,
        "legend": {
         "title": {
          "text": "variable"
         },
         "tracegroupgap": 0
        },
        "template": {
         "data": {
          "bar": [
           {
            "error_x": {
             "color": "#2a3f5f"
            },
            "error_y": {
             "color": "#2a3f5f"
            },
            "marker": {
             "line": {
              "color": "#E5ECF6",
              "width": 0.5
             }
            },
            "type": "bar"
           }
          ],
          "barpolar": [
           {
            "marker": {
             "line": {
              "color": "#E5ECF6",
              "width": 0.5
             }
            },
            "type": "barpolar"
           }
          ],
          "carpet": [
           {
            "aaxis": {
             "endlinecolor": "#2a3f5f",
             "gridcolor": "white",
             "linecolor": "white",
             "minorgridcolor": "white",
             "startlinecolor": "#2a3f5f"
            },
            "baxis": {
             "endlinecolor": "#2a3f5f",
             "gridcolor": "white",
             "linecolor": "white",
             "minorgridcolor": "white",
             "startlinecolor": "#2a3f5f"
            },
            "type": "carpet"
           }
          ],
          "choropleth": [
           {
            "colorbar": {
             "outlinewidth": 0,
             "ticks": ""
            },
            "type": "choropleth"
           }
          ],
          "contour": [
           {
            "colorbar": {
             "outlinewidth": 0,
             "ticks": ""
            },
            "colorscale": [
             [
              0,
              "#0d0887"
             ],
             [
              0.1111111111111111,
              "#46039f"
             ],
             [
              0.2222222222222222,
              "#7201a8"
             ],
             [
              0.3333333333333333,
              "#9c179e"
             ],
             [
              0.4444444444444444,
              "#bd3786"
             ],
             [
              0.5555555555555556,
              "#d8576b"
             ],
             [
              0.6666666666666666,
              "#ed7953"
             ],
             [
              0.7777777777777778,
              "#fb9f3a"
             ],
             [
              0.8888888888888888,
              "#fdca26"
             ],
             [
              1,
              "#f0f921"
             ]
            ],
            "type": "contour"
           }
          ],
          "contourcarpet": [
           {
            "colorbar": {
             "outlinewidth": 0,
             "ticks": ""
            },
            "type": "contourcarpet"
           }
          ],
          "heatmap": [
           {
            "colorbar": {
             "outlinewidth": 0,
             "ticks": ""
            },
            "colorscale": [
             [
              0,
              "#0d0887"
             ],
             [
              0.1111111111111111,
              "#46039f"
             ],
             [
              0.2222222222222222,
              "#7201a8"
             ],
             [
              0.3333333333333333,
              "#9c179e"
             ],
             [
              0.4444444444444444,
              "#bd3786"
             ],
             [
              0.5555555555555556,
              "#d8576b"
             ],
             [
              0.6666666666666666,
              "#ed7953"
             ],
             [
              0.7777777777777778,
              "#fb9f3a"
             ],
             [
              0.8888888888888888,
              "#fdca26"
             ],
             [
              1,
              "#f0f921"
             ]
            ],
            "type": "heatmap"
           }
          ],
          "heatmapgl": [
           {
            "colorbar": {
             "outlinewidth": 0,
             "ticks": ""
            },
            "colorscale": [
             [
              0,
              "#0d0887"
             ],
             [
              0.1111111111111111,
              "#46039f"
             ],
             [
              0.2222222222222222,
              "#7201a8"
             ],
             [
              0.3333333333333333,
              "#9c179e"
             ],
             [
              0.4444444444444444,
              "#bd3786"
             ],
             [
              0.5555555555555556,
              "#d8576b"
             ],
             [
              0.6666666666666666,
              "#ed7953"
             ],
             [
              0.7777777777777778,
              "#fb9f3a"
             ],
             [
              0.8888888888888888,
              "#fdca26"
             ],
             [
              1,
              "#f0f921"
             ]
            ],
            "type": "heatmapgl"
           }
          ],
          "histogram": [
           {
            "marker": {
             "colorbar": {
              "outlinewidth": 0,
              "ticks": ""
             }
            },
            "type": "histogram"
           }
          ],
          "histogram2d": [
           {
            "colorbar": {
             "outlinewidth": 0,
             "ticks": ""
            },
            "colorscale": [
             [
              0,
              "#0d0887"
             ],
             [
              0.1111111111111111,
              "#46039f"
             ],
             [
              0.2222222222222222,
              "#7201a8"
             ],
             [
              0.3333333333333333,
              "#9c179e"
             ],
             [
              0.4444444444444444,
              "#bd3786"
             ],
             [
              0.5555555555555556,
              "#d8576b"
             ],
             [
              0.6666666666666666,
              "#ed7953"
             ],
             [
              0.7777777777777778,
              "#fb9f3a"
             ],
             [
              0.8888888888888888,
              "#fdca26"
             ],
             [
              1,
              "#f0f921"
             ]
            ],
            "type": "histogram2d"
           }
          ],
          "histogram2dcontour": [
           {
            "colorbar": {
             "outlinewidth": 0,
             "ticks": ""
            },
            "colorscale": [
             [
              0,
              "#0d0887"
             ],
             [
              0.1111111111111111,
              "#46039f"
             ],
             [
              0.2222222222222222,
              "#7201a8"
             ],
             [
              0.3333333333333333,
              "#9c179e"
             ],
             [
              0.4444444444444444,
              "#bd3786"
             ],
             [
              0.5555555555555556,
              "#d8576b"
             ],
             [
              0.6666666666666666,
              "#ed7953"
             ],
             [
              0.7777777777777778,
              "#fb9f3a"
             ],
             [
              0.8888888888888888,
              "#fdca26"
             ],
             [
              1,
              "#f0f921"
             ]
            ],
            "type": "histogram2dcontour"
           }
          ],
          "mesh3d": [
           {
            "colorbar": {
             "outlinewidth": 0,
             "ticks": ""
            },
            "type": "mesh3d"
           }
          ],
          "parcoords": [
           {
            "line": {
             "colorbar": {
              "outlinewidth": 0,
              "ticks": ""
             }
            },
            "type": "parcoords"
           }
          ],
          "pie": [
           {
            "automargin": true,
            "type": "pie"
           }
          ],
          "scatter": [
           {
            "marker": {
             "colorbar": {
              "outlinewidth": 0,
              "ticks": ""
             }
            },
            "type": "scatter"
           }
          ],
          "scatter3d": [
           {
            "line": {
             "colorbar": {
              "outlinewidth": 0,
              "ticks": ""
             }
            },
            "marker": {
             "colorbar": {
              "outlinewidth": 0,
              "ticks": ""
             }
            },
            "type": "scatter3d"
           }
          ],
          "scattercarpet": [
           {
            "marker": {
             "colorbar": {
              "outlinewidth": 0,
              "ticks": ""
             }
            },
            "type": "scattercarpet"
           }
          ],
          "scattergeo": [
           {
            "marker": {
             "colorbar": {
              "outlinewidth": 0,
              "ticks": ""
             }
            },
            "type": "scattergeo"
           }
          ],
          "scattergl": [
           {
            "marker": {
             "colorbar": {
              "outlinewidth": 0,
              "ticks": ""
             }
            },
            "type": "scattergl"
           }
          ],
          "scattermapbox": [
           {
            "marker": {
             "colorbar": {
              "outlinewidth": 0,
              "ticks": ""
             }
            },
            "type": "scattermapbox"
           }
          ],
          "scatterpolar": [
           {
            "marker": {
             "colorbar": {
              "outlinewidth": 0,
              "ticks": ""
             }
            },
            "type": "scatterpolar"
           }
          ],
          "scatterpolargl": [
           {
            "marker": {
             "colorbar": {
              "outlinewidth": 0,
              "ticks": ""
             }
            },
            "type": "scatterpolargl"
           }
          ],
          "scatterternary": [
           {
            "marker": {
             "colorbar": {
              "outlinewidth": 0,
              "ticks": ""
             }
            },
            "type": "scatterternary"
           }
          ],
          "surface": [
           {
            "colorbar": {
             "outlinewidth": 0,
             "ticks": ""
            },
            "colorscale": [
             [
              0,
              "#0d0887"
             ],
             [
              0.1111111111111111,
              "#46039f"
             ],
             [
              0.2222222222222222,
              "#7201a8"
             ],
             [
              0.3333333333333333,
              "#9c179e"
             ],
             [
              0.4444444444444444,
              "#bd3786"
             ],
             [
              0.5555555555555556,
              "#d8576b"
             ],
             [
              0.6666666666666666,
              "#ed7953"
             ],
             [
              0.7777777777777778,
              "#fb9f3a"
             ],
             [
              0.8888888888888888,
              "#fdca26"
             ],
             [
              1,
              "#f0f921"
             ]
            ],
            "type": "surface"
           }
          ],
          "table": [
           {
            "cells": {
             "fill": {
              "color": "#EBF0F8"
             },
             "line": {
              "color": "white"
             }
            },
            "header": {
             "fill": {
              "color": "#C8D4E3"
             },
             "line": {
              "color": "white"
             }
            },
            "type": "table"
           }
          ]
         },
         "layout": {
          "annotationdefaults": {
           "arrowcolor": "#2a3f5f",
           "arrowhead": 0,
           "arrowwidth": 1
          },
          "autotypenumbers": "strict",
          "coloraxis": {
           "colorbar": {
            "outlinewidth": 0,
            "ticks": ""
           }
          },
          "colorscale": {
           "diverging": [
            [
             0,
             "#8e0152"
            ],
            [
             0.1,
             "#c51b7d"
            ],
            [
             0.2,
             "#de77ae"
            ],
            [
             0.3,
             "#f1b6da"
            ],
            [
             0.4,
             "#fde0ef"
            ],
            [
             0.5,
             "#f7f7f7"
            ],
            [
             0.6,
             "#e6f5d0"
            ],
            [
             0.7,
             "#b8e186"
            ],
            [
             0.8,
             "#7fbc41"
            ],
            [
             0.9,
             "#4d9221"
            ],
            [
             1,
             "#276419"
            ]
           ],
           "sequential": [
            [
             0,
             "#0d0887"
            ],
            [
             0.1111111111111111,
             "#46039f"
            ],
            [
             0.2222222222222222,
             "#7201a8"
            ],
            [
             0.3333333333333333,
             "#9c179e"
            ],
            [
             0.4444444444444444,
             "#bd3786"
            ],
            [
             0.5555555555555556,
             "#d8576b"
            ],
            [
             0.6666666666666666,
             "#ed7953"
            ],
            [
             0.7777777777777778,
             "#fb9f3a"
            ],
            [
             0.8888888888888888,
             "#fdca26"
            ],
            [
             1,
             "#f0f921"
            ]
           ],
           "sequentialminus": [
            [
             0,
             "#0d0887"
            ],
            [
             0.1111111111111111,
             "#46039f"
            ],
            [
             0.2222222222222222,
             "#7201a8"
            ],
            [
             0.3333333333333333,
             "#9c179e"
            ],
            [
             0.4444444444444444,
             "#bd3786"
            ],
            [
             0.5555555555555556,
             "#d8576b"
            ],
            [
             0.6666666666666666,
             "#ed7953"
            ],
            [
             0.7777777777777778,
             "#fb9f3a"
            ],
            [
             0.8888888888888888,
             "#fdca26"
            ],
            [
             1,
             "#f0f921"
            ]
           ]
          },
          "colorway": [
           "#636efa",
           "#EF553B",
           "#00cc96",
           "#ab63fa",
           "#FFA15A",
           "#19d3f3",
           "#FF6692",
           "#B6E880",
           "#FF97FF",
           "#FECB52"
          ],
          "font": {
           "color": "#2a3f5f"
          },
          "geo": {
           "bgcolor": "white",
           "lakecolor": "white",
           "landcolor": "#E5ECF6",
           "showlakes": true,
           "showland": true,
           "subunitcolor": "white"
          },
          "hoverlabel": {
           "align": "left"
          },
          "hovermode": "closest",
          "mapbox": {
           "style": "light"
          },
          "paper_bgcolor": "white",
          "plot_bgcolor": "#E5ECF6",
          "polar": {
           "angularaxis": {
            "gridcolor": "white",
            "linecolor": "white",
            "ticks": ""
           },
           "bgcolor": "#E5ECF6",
           "radialaxis": {
            "gridcolor": "white",
            "linecolor": "white",
            "ticks": ""
           }
          },
          "scene": {
           "xaxis": {
            "backgroundcolor": "#E5ECF6",
            "gridcolor": "white",
            "gridwidth": 2,
            "linecolor": "white",
            "showbackground": true,
            "ticks": "",
            "zerolinecolor": "white"
           },
           "yaxis": {
            "backgroundcolor": "#E5ECF6",
            "gridcolor": "white",
            "gridwidth": 2,
            "linecolor": "white",
            "showbackground": true,
            "ticks": "",
            "zerolinecolor": "white"
           },
           "zaxis": {
            "backgroundcolor": "#E5ECF6",
            "gridcolor": "white",
            "gridwidth": 2,
            "linecolor": "white",
            "showbackground": true,
            "ticks": "",
            "zerolinecolor": "white"
           }
          },
          "shapedefaults": {
           "line": {
            "color": "#2a3f5f"
           }
          },
          "ternary": {
           "aaxis": {
            "gridcolor": "white",
            "linecolor": "white",
            "ticks": ""
           },
           "baxis": {
            "gridcolor": "white",
            "linecolor": "white",
            "ticks": ""
           },
           "bgcolor": "#E5ECF6",
           "caxis": {
            "gridcolor": "white",
            "linecolor": "white",
            "ticks": ""
           }
          },
          "title": {
           "x": 0.05
          },
          "xaxis": {
           "automargin": true,
           "gridcolor": "white",
           "linecolor": "white",
           "ticks": "",
           "title": {
            "standoff": 15
           },
           "zerolinecolor": "white",
           "zerolinewidth": 2
          },
          "yaxis": {
           "automargin": true,
           "gridcolor": "white",
           "linecolor": "white",
           "ticks": "",
           "title": {
            "standoff": 15
           },
           "zerolinecolor": "white",
           "zerolinewidth": 2
          }
         }
        },
        "title": {
         "text": "Actual vs Preds"
        },
        "xaxis": {
         "anchor": "y",
         "autorange": true,
         "domain": [
          0,
          1
         ],
         "range": [
          -4.681799464690138,
          77.68179946469014
         ],
         "title": {
          "text": "index"
         },
         "type": "linear"
        },
        "yaxis": {
         "anchor": "x",
         "autorange": true,
         "domain": [
          0,
          1
         ],
         "range": [
          -16.585690368193717,
          14.323425471344592
         ],
         "title": {
          "text": "value"
         },
         "type": "linear"
        }
       }
      },
      "image/png": "[encoded data removed]",
      "text/html": [
       "<div>                            <div id=\"b8b7830a-797f-4b73-92e1-55f61d785a7c\" class=\"plotly-graph-div\" style=\"height:525px; width:100%;\"></div>            <script type=\"text/javascript\">                require([\"plotly\"], function(Plotly) {                    window.PLOTLYENV=window.PLOTLYENV || {};                                    if (document.getElementById(\"b8b7830a-797f-4b73-92e1-55f61d785a7c\")) {                    Plotly.newPlot(                        \"b8b7830a-797f-4b73-92e1-55f61d785a7c\",                        [{\"hovertemplate\": \"variable=preds<br>index=%{x}<br>value=%{y}<extra></extra>\", \"legendgroup\": \"preds\", \"marker\": {\"color\": \"#636efa\", \"symbol\": \"circle\"}, \"mode\": \"markers\", \"name\": \"preds\", \"orientation\": \"v\", \"showlegend\": true, \"type\": \"scatter\", \"x\": [0, 1, 2, 3, 4, 5, 6, 7, 8, 9, 10, 11, 12, 13, 14, 15, 16, 17, 18, 19, 20, 21, 22, 23, 24, 25, 26, 27, 28, 29, 30, 31, 32, 33, 34, 35, 36, 37, 38, 39, 40, 41, 42, 43, 44, 45, 46, 47, 48, 49, 50, 51, 52, 53, 54, 55, 56, 57, 58, 59, 60, 61, 62, 63, 64, 65, 66, 67, 68, 69, 70, 71, 72, 73], \"xaxis\": \"x\", \"y\": [0.28909644290714753, -14.61094130066766, -0.14376621447269444, -0.8455310292952907, -2.311613147872252, -3.3593785476414006, -4.089897193001215, 8.75660275173926, 12.348676403818533, 3.2094241534496755, 0.562900321830639, 8.391926846033636, 9.039077222470222, 1.397578972195159, -3.3089935741692047, -4.93750281664418, 1.8419733804976173, -1.373864399144215, -2.025904020597414, 0.006128431327466766, 0.4052256253103896, -1.2669279173736563, 4.760372694726566, -3.115447290235487, 2.229836312065027, 5.752244507977744, 6.3452196408494705, 0.7484635794442684, 2.8810634041353707, 4.777875719447548, 11.074861381509296, 0.9760356174318139, 6.227029545146255, 6.5019058567062675, 3.4825730482709374, -6.345189024977216, 1.544224073624697, -4.403668270249521, -10.08065798300819, 0.12100385741559608, -2.588076597558004, -6.605691431583934, -0.8903048132556128, 8.142968741532789, 3.8371615909356667, -1.7410698384113623, -1.2704378559826741, 4.813644425688151, 2.184954645679611, 0.0510870359288485, -1.960261777141296, -2.5564952597509776, -13.505329173717687, 2.4412697144785063, 6.588525053887255, 10.047976074811269, 3.1863540117375426, 1.4766262510085153, 7.278936313773417, -4.920720697307679, -0.10319035295936639, -1.838153223247503, 0.5305370687144868, -5.866078084406207, -3.698345713949703, 12.215057649654096, 0.07528189123876666, 1.4464330403624197, -4.861796547734633, 1.305116455915775, -7.589904744563205, 0.3198409205864328, 0.9544451390895718, -1.2350378034033032], \"yaxis\": \"y\"}, {\"hovertemplate\": \"variable=actual<br>index=%{x}<br>value=%{y}<extra></extra>\", \"legendgroup\": \"actual\", \"marker\": {\"color\": \"#EF553B\", \"symbol\": \"circle\"}, \"mode\": \"markers\", \"name\": \"actual\", \"orientation\": \"v\", \"showlegend\": true, \"type\": \"scatter\", \"x\": [0, 1, 2, 3, 4, 5, 6, 7, 8, 9, 10, 11, 12, 13, 14, 15, 16, 17, 18, 19, 20, 21, 22, 23, 24, 25, 26, 27, 28, 29, 30, 31, 32, 33, 34, 35, 36, 37, 38, 39, 40, 41, 42, 43, 44, 45, 46, 47, 48, 49, 50, 51, 52, 53, 54, 55, 56, 57, 58, 59, 60, 61, 62, 63, 64, 65, 66, 67, 68, 69, 70, 71, 72, 73], \"xaxis\": \"x\", \"y\": [-0.03, -13.31, -0.83, -0.7, -2.06, -2.43, -2.9, 7.87, 11.8, 3.19, -0.01, 7.74, 7.48, 1.32, -3.64, -4.63, 1.73, -1.45, -1.67, 1.52, 1.33, 0.52, 3.97, -3.0, 2.45, 4.58, 5.41, 1.46, 2.63, 4.88, 10.09, 1.18, 4.7, 5.96, 3.59, -5.43, 2.07, -3.37, -7.38, 0.36, -2.72, -5.89, -0.33, 6.92, 4.01, -1.21, 1.42, 5.57, 1.55, -0.12, -1.36, -3.03, -9.91, 1.72, 5.75, 9.86, 3.63, -0.11, 7.59, -1.95, -1.16, -1.46, -0.04, -5.23, -4.13, 10.23, 0.25, 1.78, -4.42, 1.66, -5.96, 0.81, 0.16, -0.63], \"yaxis\": \"y\"}],                        {\"legend\": {\"title\": {\"text\": \"variable\"}, \"tracegroupgap\": 0}, \"template\": {\"data\": {\"bar\": [{\"error_x\": {\"color\": \"#2a3f5f\"}, \"error_y\": {\"color\": \"#2a3f5f\"}, \"marker\": {\"line\": {\"color\": \"#E5ECF6\", \"width\": 0.5}}, \"type\": \"bar\"}], \"barpolar\": [{\"marker\": {\"line\": {\"color\": \"#E5ECF6\", \"width\": 0.5}}, \"type\": \"barpolar\"}], \"carpet\": [{\"aaxis\": {\"endlinecolor\": \"#2a3f5f\", \"gridcolor\": \"white\", \"linecolor\": \"white\", \"minorgridcolor\": \"white\", \"startlinecolor\": \"#2a3f5f\"}, \"baxis\": {\"endlinecolor\": \"#2a3f5f\", \"gridcolor\": \"white\", \"linecolor\": \"white\", \"minorgridcolor\": \"white\", \"startlinecolor\": \"#2a3f5f\"}, \"type\": \"carpet\"}], \"choropleth\": [{\"colorbar\": {\"outlinewidth\": 0, \"ticks\": \"\"}, \"type\": \"choropleth\"}], \"contour\": [{\"colorbar\": {\"outlinewidth\": 0, \"ticks\": \"\"}, \"colorscale\": [[0.0, \"#0d0887\"], [0.1111111111111111, \"#46039f\"], [0.2222222222222222, \"#7201a8\"], [0.3333333333333333, \"#9c179e\"], [0.4444444444444444, \"#bd3786\"], [0.5555555555555556, \"#d8576b\"], [0.6666666666666666, \"#ed7953\"], [0.7777777777777778, \"#fb9f3a\"], [0.8888888888888888, \"#fdca26\"], [1.0, \"#f0f921\"]], \"type\": \"contour\"}], \"contourcarpet\": [{\"colorbar\": {\"outlinewidth\": 0, \"ticks\": \"\"}, \"type\": \"contourcarpet\"}], \"heatmap\": [{\"colorbar\": {\"outlinewidth\": 0, \"ticks\": \"\"}, \"colorscale\": [[0.0, \"#0d0887\"], [0.1111111111111111, \"#46039f\"], [0.2222222222222222, \"#7201a8\"], [0.3333333333333333, \"#9c179e\"], [0.4444444444444444, \"#bd3786\"], [0.5555555555555556, \"#d8576b\"], [0.6666666666666666, \"#ed7953\"], [0.7777777777777778, \"#fb9f3a\"], [0.8888888888888888, \"#fdca26\"], [1.0, \"#f0f921\"]], \"type\": \"heatmap\"}], \"heatmapgl\": [{\"colorbar\": {\"outlinewidth\": 0, \"ticks\": \"\"}, \"colorscale\": [[0.0, \"#0d0887\"], [0.1111111111111111, \"#46039f\"], [0.2222222222222222, \"#7201a8\"], [0.3333333333333333, \"#9c179e\"], [0.4444444444444444, \"#bd3786\"], [0.5555555555555556, \"#d8576b\"], [0.6666666666666666, \"#ed7953\"], [0.7777777777777778, \"#fb9f3a\"], [0.8888888888888888, \"#fdca26\"], [1.0, \"#f0f921\"]], \"type\": \"heatmapgl\"}], \"histogram\": [{\"marker\": {\"colorbar\": {\"outlinewidth\": 0, \"ticks\": \"\"}}, \"type\": \"histogram\"}], \"histogram2d\": [{\"colorbar\": {\"outlinewidth\": 0, \"ticks\": \"\"}, \"colorscale\": [[0.0, \"#0d0887\"], [0.1111111111111111, \"#46039f\"], [0.2222222222222222, \"#7201a8\"], [0.3333333333333333, \"#9c179e\"], [0.4444444444444444, \"#bd3786\"], [0.5555555555555556, \"#d8576b\"], [0.6666666666666666, \"#ed7953\"], [0.7777777777777778, \"#fb9f3a\"], [0.8888888888888888, \"#fdca26\"], [1.0, \"#f0f921\"]], \"type\": \"histogram2d\"}], \"histogram2dcontour\": [{\"colorbar\": {\"outlinewidth\": 0, \"ticks\": \"\"}, \"colorscale\": [[0.0, \"#0d0887\"], [0.1111111111111111, \"#46039f\"], [0.2222222222222222, \"#7201a8\"], [0.3333333333333333, \"#9c179e\"], [0.4444444444444444, \"#bd3786\"], [0.5555555555555556, \"#d8576b\"], [0.6666666666666666, \"#ed7953\"], [0.7777777777777778, \"#fb9f3a\"], [0.8888888888888888, \"#fdca26\"], [1.0, \"#f0f921\"]], \"type\": \"histogram2dcontour\"}], \"mesh3d\": [{\"colorbar\": {\"outlinewidth\": 0, \"ticks\": \"\"}, \"type\": \"mesh3d\"}], \"parcoords\": [{\"line\": {\"colorbar\": {\"outlinewidth\": 0, \"ticks\": \"\"}}, \"type\": \"parcoords\"}], \"pie\": [{\"automargin\": true, \"type\": \"pie\"}], \"scatter\": [{\"marker\": {\"colorbar\": {\"outlinewidth\": 0, \"ticks\": \"\"}}, \"type\": \"scatter\"}], \"scatter3d\": [{\"line\": {\"colorbar\": {\"outlinewidth\": 0, \"ticks\": \"\"}}, \"marker\": {\"colorbar\": {\"outlinewidth\": 0, \"ticks\": \"\"}}, \"type\": \"scatter3d\"}], \"scattercarpet\": [{\"marker\": {\"colorbar\": {\"outlinewidth\": 0, \"ticks\": \"\"}}, \"type\": \"scattercarpet\"}], \"scattergeo\": [{\"marker\": {\"colorbar\": {\"outlinewidth\": 0, \"ticks\": \"\"}}, \"type\": \"scattergeo\"}], \"scattergl\": [{\"marker\": {\"colorbar\": {\"outlinewidth\": 0, \"ticks\": \"\"}}, \"type\": \"scattergl\"}], \"scattermapbox\": [{\"marker\": {\"colorbar\": {\"outlinewidth\": 0, \"ticks\": \"\"}}, \"type\": \"scattermapbox\"}], \"scatterpolar\": [{\"marker\": {\"colorbar\": {\"outlinewidth\": 0, \"ticks\": \"\"}}, \"type\": \"scatterpolar\"}], \"scatterpolargl\": [{\"marker\": {\"colorbar\": {\"outlinewidth\": 0, \"ticks\": \"\"}}, \"type\": \"scatterpolargl\"}], \"scatterternary\": [{\"marker\": {\"colorbar\": {\"outlinewidth\": 0, \"ticks\": \"\"}}, \"type\": \"scatterternary\"}], \"surface\": [{\"colorbar\": {\"outlinewidth\": 0, \"ticks\": \"\"}, \"colorscale\": [[0.0, \"#0d0887\"], [0.1111111111111111, \"#46039f\"], [0.2222222222222222, \"#7201a8\"], [0.3333333333333333, \"#9c179e\"], [0.4444444444444444, \"#bd3786\"], [0.5555555555555556, \"#d8576b\"], [0.6666666666666666, \"#ed7953\"], [0.7777777777777778, \"#fb9f3a\"], [0.8888888888888888, \"#fdca26\"], [1.0, \"#f0f921\"]], \"type\": \"surface\"}], \"table\": [{\"cells\": {\"fill\": {\"color\": \"#EBF0F8\"}, \"line\": {\"color\": \"white\"}}, \"header\": {\"fill\": {\"color\": \"#C8D4E3\"}, \"line\": {\"color\": \"white\"}}, \"type\": \"table\"}]}, \"layout\": {\"annotationdefaults\": {\"arrowcolor\": \"#2a3f5f\", \"arrowhead\": 0, \"arrowwidth\": 1}, \"autotypenumbers\": \"strict\", \"coloraxis\": {\"colorbar\": {\"outlinewidth\": 0, \"ticks\": \"\"}}, \"colorscale\": {\"diverging\": [[0, \"#8e0152\"], [0.1, \"#c51b7d\"], [0.2, \"#de77ae\"], [0.3, \"#f1b6da\"], [0.4, \"#fde0ef\"], [0.5, \"#f7f7f7\"], [0.6, \"#e6f5d0\"], [0.7, \"#b8e186\"], [0.8, \"#7fbc41\"], [0.9, \"#4d9221\"], [1, \"#276419\"]], \"sequential\": [[0.0, \"#0d0887\"], [0.1111111111111111, \"#46039f\"], [0.2222222222222222, \"#7201a8\"], [0.3333333333333333, \"#9c179e\"], [0.4444444444444444, \"#bd3786\"], [0.5555555555555556, \"#d8576b\"], [0.6666666666666666, \"#ed7953\"], [0.7777777777777778, \"#fb9f3a\"], [0.8888888888888888, \"#fdca26\"], [1.0, \"#f0f921\"]], \"sequentialminus\": [[0.0, \"#0d0887\"], [0.1111111111111111, \"#46039f\"], [0.2222222222222222, \"#7201a8\"], [0.3333333333333333, \"#9c179e\"], [0.4444444444444444, \"#bd3786\"], [0.5555555555555556, \"#d8576b\"], [0.6666666666666666, \"#ed7953\"], [0.7777777777777778, \"#fb9f3a\"], [0.8888888888888888, \"#fdca26\"], [1.0, \"#f0f921\"]]}, \"colorway\": [\"#636efa\", \"#EF553B\", \"#00cc96\", \"#ab63fa\", \"#FFA15A\", \"#19d3f3\", \"#FF6692\", \"#B6E880\", \"#FF97FF\", \"#FECB52\"], \"font\": {\"color\": \"#2a3f5f\"}, \"geo\": {\"bgcolor\": \"white\", \"lakecolor\": \"white\", \"landcolor\": \"#E5ECF6\", \"showlakes\": true, \"showland\": true, \"subunitcolor\": \"white\"}, \"hoverlabel\": {\"align\": \"left\"}, \"hovermode\": \"closest\", \"mapbox\": {\"style\": \"light\"}, \"paper_bgcolor\": \"white\", \"plot_bgcolor\": \"#E5ECF6\", \"polar\": {\"angularaxis\": {\"gridcolor\": \"white\", \"linecolor\": \"white\", \"ticks\": \"\"}, \"bgcolor\": \"#E5ECF6\", \"radialaxis\": {\"gridcolor\": \"white\", \"linecolor\": \"white\", \"ticks\": \"\"}}, \"scene\": {\"xaxis\": {\"backgroundcolor\": \"#E5ECF6\", \"gridcolor\": \"white\", \"gridwidth\": 2, \"linecolor\": \"white\", \"showbackground\": true, \"ticks\": \"\", \"zerolinecolor\": \"white\"}, \"yaxis\": {\"backgroundcolor\": \"#E5ECF6\", \"gridcolor\": \"white\", \"gridwidth\": 2, \"linecolor\": \"white\", \"showbackground\": true, \"ticks\": \"\", \"zerolinecolor\": \"white\"}, \"zaxis\": {\"backgroundcolor\": \"#E5ECF6\", \"gridcolor\": \"white\", \"gridwidth\": 2, \"linecolor\": \"white\", \"showbackground\": true, \"ticks\": \"\", \"zerolinecolor\": \"white\"}}, \"shapedefaults\": {\"line\": {\"color\": \"#2a3f5f\"}}, \"ternary\": {\"aaxis\": {\"gridcolor\": \"white\", \"linecolor\": \"white\", \"ticks\": \"\"}, \"baxis\": {\"gridcolor\": \"white\", \"linecolor\": \"white\", \"ticks\": \"\"}, \"bgcolor\": \"#E5ECF6\", \"caxis\": {\"gridcolor\": \"white\", \"linecolor\": \"white\", \"ticks\": \"\"}}, \"title\": {\"x\": 0.05}, \"xaxis\": {\"automargin\": true, \"gridcolor\": \"white\", \"linecolor\": \"white\", \"ticks\": \"\", \"title\": {\"standoff\": 15}, \"zerolinecolor\": \"white\", \"zerolinewidth\": 2}, \"yaxis\": {\"automargin\": true, \"gridcolor\": \"white\", \"linecolor\": \"white\", \"ticks\": \"\", \"title\": {\"standoff\": 15}, \"zerolinecolor\": \"white\", \"zerolinewidth\": 2}}}, \"title\": {\"text\": \"Actual vs Preds\"}, \"xaxis\": {\"anchor\": \"y\", \"domain\": [0.0, 1.0], \"title\": {\"text\": \"index\"}}, \"yaxis\": {\"anchor\": \"x\", \"domain\": [0.0, 1.0], \"title\": {\"text\": \"value\"}}},                        {\"responsive\": true}                    ).then(function(){\n",
       "                            \n",
       "var gd = document.getElementById('b8b7830a-797f-4b73-92e1-55f61d785a7c');\n",
       "var x = new MutationObserver(function (mutations, observer) {{\n",
       "        var display = window.getComputedStyle(gd).display;\n",
       "        if (!display || display === 'none') {{\n",
       "            console.log([gd, 'removed!']);\n",
       "            Plotly.purge(gd);\n",
       "            observer.disconnect();\n",
       "        }}\n",
       "}});\n",
       "\n",
       "// Listen for the removal of the full notebook cells\n",
       "var notebookContainer = gd.closest('#notebook-container');\n",
       "if (notebookContainer) {{\n",
       "    x.observe(notebookContainer, {childList: true});\n",
       "}}\n",
       "\n",
       "// Listen for the clearing of the current output cell\n",
       "var outputEl = gd.closest('.output');\n",
       "if (outputEl) {{\n",
       "    x.observe(outputEl, {childList: true});\n",
       "}}\n",
       "\n",
       "                        })                };                });            </script>        </div>"
      ]
     },
     "metadata": {},
     "output_type": "display_data"
    },
    {
     "data": {
      "application/vnd.plotly.v1+json": {
       "config": {
        "plotlyServerURL": "https://plot.ly"
       },
       "data": [
        {
         "domain": {
          "x": [
           0,
           1
          ],
          "y": [
           0,
           1
          ]
         },
         "hovertemplate": "index=%{label}<br>same_direction=%{value}<extra></extra>",
         "labels": [
          true,
          false
         ],
         "legendgroup": "",
         "name": "",
         "showlegend": true,
         "type": "pie",
         "values": [
          67,
          7
         ]
        }
       ],
       "layout": {
        "autosize": true,
        "legend": {
         "tracegroupgap": 0
        },
        "template": {
         "data": {
          "bar": [
           {
            "error_x": {
             "color": "#2a3f5f"
            },
            "error_y": {
             "color": "#2a3f5f"
            },
            "marker": {
             "line": {
              "color": "#E5ECF6",
              "width": 0.5
             }
            },
            "type": "bar"
           }
          ],
          "barpolar": [
           {
            "marker": {
             "line": {
              "color": "#E5ECF6",
              "width": 0.5
             }
            },
            "type": "barpolar"
           }
          ],
          "carpet": [
           {
            "aaxis": {
             "endlinecolor": "#2a3f5f",
             "gridcolor": "white",
             "linecolor": "white",
             "minorgridcolor": "white",
             "startlinecolor": "#2a3f5f"
            },
            "baxis": {
             "endlinecolor": "#2a3f5f",
             "gridcolor": "white",
             "linecolor": "white",
             "minorgridcolor": "white",
             "startlinecolor": "#2a3f5f"
            },
            "type": "carpet"
           }
          ],
          "choropleth": [
           {
            "colorbar": {
             "outlinewidth": 0,
             "ticks": ""
            },
            "type": "choropleth"
           }
          ],
          "contour": [
           {
            "colorbar": {
             "outlinewidth": 0,
             "ticks": ""
            },
            "colorscale": [
             [
              0,
              "#0d0887"
             ],
             [
              0.1111111111111111,
              "#46039f"
             ],
             [
              0.2222222222222222,
              "#7201a8"
             ],
             [
              0.3333333333333333,
              "#9c179e"
             ],
             [
              0.4444444444444444,
              "#bd3786"
             ],
             [
              0.5555555555555556,
              "#d8576b"
             ],
             [
              0.6666666666666666,
              "#ed7953"
             ],
             [
              0.7777777777777778,
              "#fb9f3a"
             ],
             [
              0.8888888888888888,
              "#fdca26"
             ],
             [
              1,
              "#f0f921"
             ]
            ],
            "type": "contour"
           }
          ],
          "contourcarpet": [
           {
            "colorbar": {
             "outlinewidth": 0,
             "ticks": ""
            },
            "type": "contourcarpet"
           }
          ],
          "heatmap": [
           {
            "colorbar": {
             "outlinewidth": 0,
             "ticks": ""
            },
            "colorscale": [
             [
              0,
              "#0d0887"
             ],
             [
              0.1111111111111111,
              "#46039f"
             ],
             [
              0.2222222222222222,
              "#7201a8"
             ],
             [
              0.3333333333333333,
              "#9c179e"
             ],
             [
              0.4444444444444444,
              "#bd3786"
             ],
             [
              0.5555555555555556,
              "#d8576b"
             ],
             [
              0.6666666666666666,
              "#ed7953"
             ],
             [
              0.7777777777777778,
              "#fb9f3a"
             ],
             [
              0.8888888888888888,
              "#fdca26"
             ],
             [
              1,
              "#f0f921"
             ]
            ],
            "type": "heatmap"
           }
          ],
          "heatmapgl": [
           {
            "colorbar": {
             "outlinewidth": 0,
             "ticks": ""
            },
            "colorscale": [
             [
              0,
              "#0d0887"
             ],
             [
              0.1111111111111111,
              "#46039f"
             ],
             [
              0.2222222222222222,
              "#7201a8"
             ],
             [
              0.3333333333333333,
              "#9c179e"
             ],
             [
              0.4444444444444444,
              "#bd3786"
             ],
             [
              0.5555555555555556,
              "#d8576b"
             ],
             [
              0.6666666666666666,
              "#ed7953"
             ],
             [
              0.7777777777777778,
              "#fb9f3a"
             ],
             [
              0.8888888888888888,
              "#fdca26"
             ],
             [
              1,
              "#f0f921"
             ]
            ],
            "type": "heatmapgl"
           }
          ],
          "histogram": [
           {
            "marker": {
             "colorbar": {
              "outlinewidth": 0,
              "ticks": ""
             }
            },
            "type": "histogram"
           }
          ],
          "histogram2d": [
           {
            "colorbar": {
             "outlinewidth": 0,
             "ticks": ""
            },
            "colorscale": [
             [
              0,
              "#0d0887"
             ],
             [
              0.1111111111111111,
              "#46039f"
             ],
             [
              0.2222222222222222,
              "#7201a8"
             ],
             [
              0.3333333333333333,
              "#9c179e"
             ],
             [
              0.4444444444444444,
              "#bd3786"
             ],
             [
              0.5555555555555556,
              "#d8576b"
             ],
             [
              0.6666666666666666,
              "#ed7953"
             ],
             [
              0.7777777777777778,
              "#fb9f3a"
             ],
             [
              0.8888888888888888,
              "#fdca26"
             ],
             [
              1,
              "#f0f921"
             ]
            ],
            "type": "histogram2d"
           }
          ],
          "histogram2dcontour": [
           {
            "colorbar": {
             "outlinewidth": 0,
             "ticks": ""
            },
            "colorscale": [
             [
              0,
              "#0d0887"
             ],
             [
              0.1111111111111111,
              "#46039f"
             ],
             [
              0.2222222222222222,
              "#7201a8"
             ],
             [
              0.3333333333333333,
              "#9c179e"
             ],
             [
              0.4444444444444444,
              "#bd3786"
             ],
             [
              0.5555555555555556,
              "#d8576b"
             ],
             [
              0.6666666666666666,
              "#ed7953"
             ],
             [
              0.7777777777777778,
              "#fb9f3a"
             ],
             [
              0.8888888888888888,
              "#fdca26"
             ],
             [
              1,
              "#f0f921"
             ]
            ],
            "type": "histogram2dcontour"
           }
          ],
          "mesh3d": [
           {
            "colorbar": {
             "outlinewidth": 0,
             "ticks": ""
            },
            "type": "mesh3d"
           }
          ],
          "parcoords": [
           {
            "line": {
             "colorbar": {
              "outlinewidth": 0,
              "ticks": ""
             }
            },
            "type": "parcoords"
           }
          ],
          "pie": [
           {
            "automargin": true,
            "type": "pie"
           }
          ],
          "scatter": [
           {
            "marker": {
             "colorbar": {
              "outlinewidth": 0,
              "ticks": ""
             }
            },
            "type": "scatter"
           }
          ],
          "scatter3d": [
           {
            "line": {
             "colorbar": {
              "outlinewidth": 0,
              "ticks": ""
             }
            },
            "marker": {
             "colorbar": {
              "outlinewidth": 0,
              "ticks": ""
             }
            },
            "type": "scatter3d"
           }
          ],
          "scattercarpet": [
           {
            "marker": {
             "colorbar": {
              "outlinewidth": 0,
              "ticks": ""
             }
            },
            "type": "scattercarpet"
           }
          ],
          "scattergeo": [
           {
            "marker": {
             "colorbar": {
              "outlinewidth": 0,
              "ticks": ""
             }
            },
            "type": "scattergeo"
           }
          ],
          "scattergl": [
           {
            "marker": {
             "colorbar": {
              "outlinewidth": 0,
              "ticks": ""
             }
            },
            "type": "scattergl"
           }
          ],
          "scattermapbox": [
           {
            "marker": {
             "colorbar": {
              "outlinewidth": 0,
              "ticks": ""
             }
            },
            "type": "scattermapbox"
           }
          ],
          "scatterpolar": [
           {
            "marker": {
             "colorbar": {
              "outlinewidth": 0,
              "ticks": ""
             }
            },
            "type": "scatterpolar"
           }
          ],
          "scatterpolargl": [
           {
            "marker": {
             "colorbar": {
              "outlinewidth": 0,
              "ticks": ""
             }
            },
            "type": "scatterpolargl"
           }
          ],
          "scatterternary": [
           {
            "marker": {
             "colorbar": {
              "outlinewidth": 0,
              "ticks": ""
             }
            },
            "type": "scatterternary"
           }
          ],
          "surface": [
           {
            "colorbar": {
             "outlinewidth": 0,
             "ticks": ""
            },
            "colorscale": [
             [
              0,
              "#0d0887"
             ],
             [
              0.1111111111111111,
              "#46039f"
             ],
             [
              0.2222222222222222,
              "#7201a8"
             ],
             [
              0.3333333333333333,
              "#9c179e"
             ],
             [
              0.4444444444444444,
              "#bd3786"
             ],
             [
              0.5555555555555556,
              "#d8576b"
             ],
             [
              0.6666666666666666,
              "#ed7953"
             ],
             [
              0.7777777777777778,
              "#fb9f3a"
             ],
             [
              0.8888888888888888,
              "#fdca26"
             ],
             [
              1,
              "#f0f921"
             ]
            ],
            "type": "surface"
           }
          ],
          "table": [
           {
            "cells": {
             "fill": {
              "color": "#EBF0F8"
             },
             "line": {
              "color": "white"
             }
            },
            "header": {
             "fill": {
              "color": "#C8D4E3"
             },
             "line": {
              "color": "white"
             }
            },
            "type": "table"
           }
          ]
         },
         "layout": {
          "annotationdefaults": {
           "arrowcolor": "#2a3f5f",
           "arrowhead": 0,
           "arrowwidth": 1
          },
          "autotypenumbers": "strict",
          "coloraxis": {
           "colorbar": {
            "outlinewidth": 0,
            "ticks": ""
           }
          },
          "colorscale": {
           "diverging": [
            [
             0,
             "#8e0152"
            ],
            [
             0.1,
             "#c51b7d"
            ],
            [
             0.2,
             "#de77ae"
            ],
            [
             0.3,
             "#f1b6da"
            ],
            [
             0.4,
             "#fde0ef"
            ],
            [
             0.5,
             "#f7f7f7"
            ],
            [
             0.6,
             "#e6f5d0"
            ],
            [
             0.7,
             "#b8e186"
            ],
            [
             0.8,
             "#7fbc41"
            ],
            [
             0.9,
             "#4d9221"
            ],
            [
             1,
             "#276419"
            ]
           ],
           "sequential": [
            [
             0,
             "#0d0887"
            ],
            [
             0.1111111111111111,
             "#46039f"
            ],
            [
             0.2222222222222222,
             "#7201a8"
            ],
            [
             0.3333333333333333,
             "#9c179e"
            ],
            [
             0.4444444444444444,
             "#bd3786"
            ],
            [
             0.5555555555555556,
             "#d8576b"
            ],
            [
             0.6666666666666666,
             "#ed7953"
            ],
            [
             0.7777777777777778,
             "#fb9f3a"
            ],
            [
             0.8888888888888888,
             "#fdca26"
            ],
            [
             1,
             "#f0f921"
            ]
           ],
           "sequentialminus": [
            [
             0,
             "#0d0887"
            ],
            [
             0.1111111111111111,
             "#46039f"
            ],
            [
             0.2222222222222222,
             "#7201a8"
            ],
            [
             0.3333333333333333,
             "#9c179e"
            ],
            [
             0.4444444444444444,
             "#bd3786"
            ],
            [
             0.5555555555555556,
             "#d8576b"
            ],
            [
             0.6666666666666666,
             "#ed7953"
            ],
            [
             0.7777777777777778,
             "#fb9f3a"
            ],
            [
             0.8888888888888888,
             "#fdca26"
            ],
            [
             1,
             "#f0f921"
            ]
           ]
          },
          "colorway": [
           "#636efa",
           "#EF553B",
           "#00cc96",
           "#ab63fa",
           "#FFA15A",
           "#19d3f3",
           "#FF6692",
           "#B6E880",
           "#FF97FF",
           "#FECB52"
          ],
          "font": {
           "color": "#2a3f5f"
          },
          "geo": {
           "bgcolor": "white",
           "lakecolor": "white",
           "landcolor": "#E5ECF6",
           "showlakes": true,
           "showland": true,
           "subunitcolor": "white"
          },
          "hoverlabel": {
           "align": "left"
          },
          "hovermode": "closest",
          "mapbox": {
           "style": "light"
          },
          "paper_bgcolor": "white",
          "plot_bgcolor": "#E5ECF6",
          "polar": {
           "angularaxis": {
            "gridcolor": "white",
            "linecolor": "white",
            "ticks": ""
           },
           "bgcolor": "#E5ECF6",
           "radialaxis": {
            "gridcolor": "white",
            "linecolor": "white",
            "ticks": ""
           }
          },
          "scene": {
           "xaxis": {
            "backgroundcolor": "#E5ECF6",
            "gridcolor": "white",
            "gridwidth": 2,
            "linecolor": "white",
            "showbackground": true,
            "ticks": "",
            "zerolinecolor": "white"
           },
           "yaxis": {
            "backgroundcolor": "#E5ECF6",
            "gridcolor": "white",
            "gridwidth": 2,
            "linecolor": "white",
            "showbackground": true,
            "ticks": "",
            "zerolinecolor": "white"
           },
           "zaxis": {
            "backgroundcolor": "#E5ECF6",
            "gridcolor": "white",
            "gridwidth": 2,
            "linecolor": "white",
            "showbackground": true,
            "ticks": "",
            "zerolinecolor": "white"
           }
          },
          "shapedefaults": {
           "line": {
            "color": "#2a3f5f"
           }
          },
          "ternary": {
           "aaxis": {
            "gridcolor": "white",
            "linecolor": "white",
            "ticks": ""
           },
           "baxis": {
            "gridcolor": "white",
            "linecolor": "white",
            "ticks": ""
           },
           "bgcolor": "#E5ECF6",
           "caxis": {
            "gridcolor": "white",
            "linecolor": "white",
            "ticks": ""
           }
          },
          "title": {
           "x": 0.05
          },
          "xaxis": {
           "automargin": true,
           "gridcolor": "white",
           "linecolor": "white",
           "ticks": "",
           "title": {
            "standoff": 15
           },
           "zerolinecolor": "white",
           "zerolinewidth": 2
          },
          "yaxis": {
           "automargin": true,
           "gridcolor": "white",
           "linecolor": "white",
           "ticks": "",
           "title": {
            "standoff": 15
           },
           "zerolinecolor": "white",
           "zerolinewidth": 2
          }
         }
        },
        "title": {
         "text": "How often did predictions land in the same direction as the actual values?"
        }
       }
      },
      "image/png": "[encoded data removed]",
      "text/html": [
       "<div>                            <div id=\"98601d01-f80d-4974-b72d-c7d0e4eb8ac3\" class=\"plotly-graph-div\" style=\"height:525px; width:100%;\"></div>            <script type=\"text/javascript\">                require([\"plotly\"], function(Plotly) {                    window.PLOTLYENV=window.PLOTLYENV || {};                                    if (document.getElementById(\"98601d01-f80d-4974-b72d-c7d0e4eb8ac3\")) {                    Plotly.newPlot(                        \"98601d01-f80d-4974-b72d-c7d0e4eb8ac3\",                        [{\"domain\": {\"x\": [0.0, 1.0], \"y\": [0.0, 1.0]}, \"hovertemplate\": \"index=%{label}<br>same_direction=%{value}<extra></extra>\", \"labels\": [true, false], \"legendgroup\": \"\", \"name\": \"\", \"showlegend\": true, \"type\": \"pie\", \"values\": [67, 7]}],                        {\"legend\": {\"tracegroupgap\": 0}, \"template\": {\"data\": {\"bar\": [{\"error_x\": {\"color\": \"#2a3f5f\"}, \"error_y\": {\"color\": \"#2a3f5f\"}, \"marker\": {\"line\": {\"color\": \"#E5ECF6\", \"width\": 0.5}}, \"type\": \"bar\"}], \"barpolar\": [{\"marker\": {\"line\": {\"color\": \"#E5ECF6\", \"width\": 0.5}}, \"type\": \"barpolar\"}], \"carpet\": [{\"aaxis\": {\"endlinecolor\": \"#2a3f5f\", \"gridcolor\": \"white\", \"linecolor\": \"white\", \"minorgridcolor\": \"white\", \"startlinecolor\": \"#2a3f5f\"}, \"baxis\": {\"endlinecolor\": \"#2a3f5f\", \"gridcolor\": \"white\", \"linecolor\": \"white\", \"minorgridcolor\": \"white\", \"startlinecolor\": \"#2a3f5f\"}, \"type\": \"carpet\"}], \"choropleth\": [{\"colorbar\": {\"outlinewidth\": 0, \"ticks\": \"\"}, \"type\": \"choropleth\"}], \"contour\": [{\"colorbar\": {\"outlinewidth\": 0, \"ticks\": \"\"}, \"colorscale\": [[0.0, \"#0d0887\"], [0.1111111111111111, \"#46039f\"], [0.2222222222222222, \"#7201a8\"], [0.3333333333333333, \"#9c179e\"], [0.4444444444444444, \"#bd3786\"], [0.5555555555555556, \"#d8576b\"], [0.6666666666666666, \"#ed7953\"], [0.7777777777777778, \"#fb9f3a\"], [0.8888888888888888, \"#fdca26\"], [1.0, \"#f0f921\"]], \"type\": \"contour\"}], \"contourcarpet\": [{\"colorbar\": {\"outlinewidth\": 0, \"ticks\": \"\"}, \"type\": \"contourcarpet\"}], \"heatmap\": [{\"colorbar\": {\"outlinewidth\": 0, \"ticks\": \"\"}, \"colorscale\": [[0.0, \"#0d0887\"], [0.1111111111111111, \"#46039f\"], [0.2222222222222222, \"#7201a8\"], [0.3333333333333333, \"#9c179e\"], [0.4444444444444444, \"#bd3786\"], [0.5555555555555556, \"#d8576b\"], [0.6666666666666666, \"#ed7953\"], [0.7777777777777778, \"#fb9f3a\"], [0.8888888888888888, \"#fdca26\"], [1.0, \"#f0f921\"]], \"type\": \"heatmap\"}], \"heatmapgl\": [{\"colorbar\": {\"outlinewidth\": 0, \"ticks\": \"\"}, \"colorscale\": [[0.0, \"#0d0887\"], [0.1111111111111111, \"#46039f\"], [0.2222222222222222, \"#7201a8\"], [0.3333333333333333, \"#9c179e\"], [0.4444444444444444, \"#bd3786\"], [0.5555555555555556, \"#d8576b\"], [0.6666666666666666, \"#ed7953\"], [0.7777777777777778, \"#fb9f3a\"], [0.8888888888888888, \"#fdca26\"], [1.0, \"#f0f921\"]], \"type\": \"heatmapgl\"}], \"histogram\": [{\"marker\": {\"colorbar\": {\"outlinewidth\": 0, \"ticks\": \"\"}}, \"type\": \"histogram\"}], \"histogram2d\": [{\"colorbar\": {\"outlinewidth\": 0, \"ticks\": \"\"}, \"colorscale\": [[0.0, \"#0d0887\"], [0.1111111111111111, \"#46039f\"], [0.2222222222222222, \"#7201a8\"], [0.3333333333333333, \"#9c179e\"], [0.4444444444444444, \"#bd3786\"], [0.5555555555555556, \"#d8576b\"], [0.6666666666666666, \"#ed7953\"], [0.7777777777777778, \"#fb9f3a\"], [0.8888888888888888, \"#fdca26\"], [1.0, \"#f0f921\"]], \"type\": \"histogram2d\"}], \"histogram2dcontour\": [{\"colorbar\": {\"outlinewidth\": 0, \"ticks\": \"\"}, \"colorscale\": [[0.0, \"#0d0887\"], [0.1111111111111111, \"#46039f\"], [0.2222222222222222, \"#7201a8\"], [0.3333333333333333, \"#9c179e\"], [0.4444444444444444, \"#bd3786\"], [0.5555555555555556, \"#d8576b\"], [0.6666666666666666, \"#ed7953\"], [0.7777777777777778, \"#fb9f3a\"], [0.8888888888888888, \"#fdca26\"], [1.0, \"#f0f921\"]], \"type\": \"histogram2dcontour\"}], \"mesh3d\": [{\"colorbar\": {\"outlinewidth\": 0, \"ticks\": \"\"}, \"type\": \"mesh3d\"}], \"parcoords\": [{\"line\": {\"colorbar\": {\"outlinewidth\": 0, \"ticks\": \"\"}}, \"type\": \"parcoords\"}], \"pie\": [{\"automargin\": true, \"type\": \"pie\"}], \"scatter\": [{\"marker\": {\"colorbar\": {\"outlinewidth\": 0, \"ticks\": \"\"}}, \"type\": \"scatter\"}], \"scatter3d\": [{\"line\": {\"colorbar\": {\"outlinewidth\": 0, \"ticks\": \"\"}}, \"marker\": {\"colorbar\": {\"outlinewidth\": 0, \"ticks\": \"\"}}, \"type\": \"scatter3d\"}], \"scattercarpet\": [{\"marker\": {\"colorbar\": {\"outlinewidth\": 0, \"ticks\": \"\"}}, \"type\": \"scattercarpet\"}], \"scattergeo\": [{\"marker\": {\"colorbar\": {\"outlinewidth\": 0, \"ticks\": \"\"}}, \"type\": \"scattergeo\"}], \"scattergl\": [{\"marker\": {\"colorbar\": {\"outlinewidth\": 0, \"ticks\": \"\"}}, \"type\": \"scattergl\"}], \"scattermapbox\": [{\"marker\": {\"colorbar\": {\"outlinewidth\": 0, \"ticks\": \"\"}}, \"type\": \"scattermapbox\"}], \"scatterpolar\": [{\"marker\": {\"colorbar\": {\"outlinewidth\": 0, \"ticks\": \"\"}}, \"type\": \"scatterpolar\"}], \"scatterpolargl\": [{\"marker\": {\"colorbar\": {\"outlinewidth\": 0, \"ticks\": \"\"}}, \"type\": \"scatterpolargl\"}], \"scatterternary\": [{\"marker\": {\"colorbar\": {\"outlinewidth\": 0, \"ticks\": \"\"}}, \"type\": \"scatterternary\"}], \"surface\": [{\"colorbar\": {\"outlinewidth\": 0, \"ticks\": \"\"}, \"colorscale\": [[0.0, \"#0d0887\"], [0.1111111111111111, \"#46039f\"], [0.2222222222222222, \"#7201a8\"], [0.3333333333333333, \"#9c179e\"], [0.4444444444444444, \"#bd3786\"], [0.5555555555555556, \"#d8576b\"], [0.6666666666666666, \"#ed7953\"], [0.7777777777777778, \"#fb9f3a\"], [0.8888888888888888, \"#fdca26\"], [1.0, \"#f0f921\"]], \"type\": \"surface\"}], \"table\": [{\"cells\": {\"fill\": {\"color\": \"#EBF0F8\"}, \"line\": {\"color\": \"white\"}}, \"header\": {\"fill\": {\"color\": \"#C8D4E3\"}, \"line\": {\"color\": \"white\"}}, \"type\": \"table\"}]}, \"layout\": {\"annotationdefaults\": {\"arrowcolor\": \"#2a3f5f\", \"arrowhead\": 0, \"arrowwidth\": 1}, \"autotypenumbers\": \"strict\", \"coloraxis\": {\"colorbar\": {\"outlinewidth\": 0, \"ticks\": \"\"}}, \"colorscale\": {\"diverging\": [[0, \"#8e0152\"], [0.1, \"#c51b7d\"], [0.2, \"#de77ae\"], [0.3, \"#f1b6da\"], [0.4, \"#fde0ef\"], [0.5, \"#f7f7f7\"], [0.6, \"#e6f5d0\"], [0.7, \"#b8e186\"], [0.8, \"#7fbc41\"], [0.9, \"#4d9221\"], [1, \"#276419\"]], \"sequential\": [[0.0, \"#0d0887\"], [0.1111111111111111, \"#46039f\"], [0.2222222222222222, \"#7201a8\"], [0.3333333333333333, \"#9c179e\"], [0.4444444444444444, \"#bd3786\"], [0.5555555555555556, \"#d8576b\"], [0.6666666666666666, \"#ed7953\"], [0.7777777777777778, \"#fb9f3a\"], [0.8888888888888888, \"#fdca26\"], [1.0, \"#f0f921\"]], \"sequentialminus\": [[0.0, \"#0d0887\"], [0.1111111111111111, \"#46039f\"], [0.2222222222222222, \"#7201a8\"], [0.3333333333333333, \"#9c179e\"], [0.4444444444444444, \"#bd3786\"], [0.5555555555555556, \"#d8576b\"], [0.6666666666666666, \"#ed7953\"], [0.7777777777777778, \"#fb9f3a\"], [0.8888888888888888, \"#fdca26\"], [1.0, \"#f0f921\"]]}, \"colorway\": [\"#636efa\", \"#EF553B\", \"#00cc96\", \"#ab63fa\", \"#FFA15A\", \"#19d3f3\", \"#FF6692\", \"#B6E880\", \"#FF97FF\", \"#FECB52\"], \"font\": {\"color\": \"#2a3f5f\"}, \"geo\": {\"bgcolor\": \"white\", \"lakecolor\": \"white\", \"landcolor\": \"#E5ECF6\", \"showlakes\": true, \"showland\": true, \"subunitcolor\": \"white\"}, \"hoverlabel\": {\"align\": \"left\"}, \"hovermode\": \"closest\", \"mapbox\": {\"style\": \"light\"}, \"paper_bgcolor\": \"white\", \"plot_bgcolor\": \"#E5ECF6\", \"polar\": {\"angularaxis\": {\"gridcolor\": \"white\", \"linecolor\": \"white\", \"ticks\": \"\"}, \"bgcolor\": \"#E5ECF6\", \"radialaxis\": {\"gridcolor\": \"white\", \"linecolor\": \"white\", \"ticks\": \"\"}}, \"scene\": {\"xaxis\": {\"backgroundcolor\": \"#E5ECF6\", \"gridcolor\": \"white\", \"gridwidth\": 2, \"linecolor\": \"white\", \"showbackground\": true, \"ticks\": \"\", \"zerolinecolor\": \"white\"}, \"yaxis\": {\"backgroundcolor\": \"#E5ECF6\", \"gridcolor\": \"white\", \"gridwidth\": 2, \"linecolor\": \"white\", \"showbackground\": true, \"ticks\": \"\", \"zerolinecolor\": \"white\"}, \"zaxis\": {\"backgroundcolor\": \"#E5ECF6\", \"gridcolor\": \"white\", \"gridwidth\": 2, \"linecolor\": \"white\", \"showbackground\": true, \"ticks\": \"\", \"zerolinecolor\": \"white\"}}, \"shapedefaults\": {\"line\": {\"color\": \"#2a3f5f\"}}, \"ternary\": {\"aaxis\": {\"gridcolor\": \"white\", \"linecolor\": \"white\", \"ticks\": \"\"}, \"baxis\": {\"gridcolor\": \"white\", \"linecolor\": \"white\", \"ticks\": \"\"}, \"bgcolor\": \"#E5ECF6\", \"caxis\": {\"gridcolor\": \"white\", \"linecolor\": \"white\", \"ticks\": \"\"}}, \"title\": {\"x\": 0.05}, \"xaxis\": {\"automargin\": true, \"gridcolor\": \"white\", \"linecolor\": \"white\", \"ticks\": \"\", \"title\": {\"standoff\": 15}, \"zerolinecolor\": \"white\", \"zerolinewidth\": 2}, \"yaxis\": {\"automargin\": true, \"gridcolor\": \"white\", \"linecolor\": \"white\", \"ticks\": \"\", \"title\": {\"standoff\": 15}, \"zerolinecolor\": \"white\", \"zerolinewidth\": 2}}}, \"title\": {\"text\": \"How often did predictions land in the same direction as the actual values?\"}},                        {\"responsive\": true}                    ).then(function(){\n",
       "                            \n",
       "var gd = document.getElementById('98601d01-f80d-4974-b72d-c7d0e4eb8ac3');\n",
       "var x = new MutationObserver(function (mutations, observer) {{\n",
       "        var display = window.getComputedStyle(gd).display;\n",
       "        if (!display || display === 'none') {{\n",
       "            console.log([gd, 'removed!']);\n",
       "            Plotly.purge(gd);\n",
       "            observer.disconnect();\n",
       "        }}\n",
       "}});\n",
       "\n",
       "// Listen for the removal of the full notebook cells\n",
       "var notebookContainer = gd.closest('#notebook-container');\n",
       "if (notebookContainer) {{\n",
       "    x.observe(notebookContainer, {childList: true});\n",
       "}}\n",
       "\n",
       "// Listen for the clearing of the current output cell\n",
       "var outputEl = gd.closest('.output');\n",
       "if (outputEl) {{\n",
       "    x.observe(outputEl, {childList: true});\n",
       "}}\n",
       "\n",
       "                        })                };                });            </script>        </div>"
      ]
     },
     "metadata": {},
     "output_type": "display_data"
    }
   ],
   "source": [
    "# Visualizing results\n",
    "fig = px.scatter(\n",
    "    compare,\n",
    "    x=compare.index,\n",
    "    y=['preds', 'actual'],\n",
    "    title='Actual vs Preds'\n",
    ")\n",
    "\n",
    "fig.show()\n",
    "\n",
    "fig = px.pie(\n",
    "    dir_df,\n",
    "    names=dir_df.index,\n",
    "    values=dir_df['same_direction'],\n",
    "    title='How often did predictions land in the same direction as the actual values?'\n",
    ")\n",
    "\n",
    "fig.show()"
   ]
  },
  {
   "cell_type": "markdown",
   "metadata": {},
   "source": [
    "# 4. Backtesting Linear Regression"
   ]
  },
  {
   "cell_type": "code",
   "execution_count": 457,
   "metadata": {},
   "outputs": [],
   "source": [
    "def fitModel(new_df):\n",
    "    \n",
    "    # Column name\n",
    "    col_name = new_df.columns[-1]\n",
    "\n",
    "    # Variables\n",
    "    X = new_df.drop(col_name, axis=1)\n",
    "\n",
    "    y = new_df[[col_name]]\n",
    "    \n",
    "    # Model object\n",
    "    reg = LinearRegression()\n",
    "\n",
    "    # Fitting\n",
    "    reg.fit(X, y)\n",
    "    \n",
    "    return reg"
   ]
  },
  {
   "cell_type": "code",
   "execution_count": null,
   "metadata": {},
   "outputs": [],
   "source": []
  },
  {
   "cell_type": "code",
   "execution_count": null,
   "metadata": {},
   "outputs": [],
   "source": []
  },
  {
   "cell_type": "code",
   "execution_count": null,
   "metadata": {},
   "outputs": [],
   "source": []
  },
  {
   "cell_type": "code",
   "execution_count": null,
   "metadata": {},
   "outputs": [],
   "source": []
  },
  {
   "cell_type": "code",
   "execution_count": null,
   "metadata": {},
   "outputs": [],
   "source": []
  },
  {
   "cell_type": "code",
   "execution_count": null,
   "metadata": {},
   "outputs": [],
   "source": []
  },
  {
   "cell_type": "code",
   "execution_count": null,
   "metadata": {},
   "outputs": [],
   "source": []
  }
 ],
 "metadata": {
  "kernelspec": {
   "display_name": "Python 3",
   "language": "python",
   "name": "python3"
  },
  "language_info": {
   "codemirror_mode": {
    "name": "ipython",
    "version": 3
   },
   "file_extension": ".py",
   "mimetype": "text/x-python",
   "name": "python",
   "nbconvert_exporter": "python",
   "pygments_lexer": "ipython3",
   "version": "3.9.1"
  }
 },
 "nbformat": 4,
 "nbformat_minor": 4
}
