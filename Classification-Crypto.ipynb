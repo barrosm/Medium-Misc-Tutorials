{
 "cells": [
  {
   "cell_type": "markdown",
   "metadata": {},
   "source": [
    "# Classification Models with Crypto"
   ]
  },
  {
   "cell_type": "code",
   "execution_count": 1,
   "metadata": {},
   "outputs": [],
   "source": [
    "# libraries\n",
    "import pandas as pd\n",
    "from ta import add_all_ta_features\n",
    "from datetime import datetime, timedelta\n",
    "import numpy as np\n",
    "from sklearn.model_selection import train_test_split\n",
    "from sklearn.metrics import mean_squared_error, r2_score\n",
    "import plotly.express as px\n",
    "from tqdm import tqdm\n",
    "from eod_historical_data import get_eod_data"
   ]
  },
  {
   "cell_type": "markdown",
   "metadata": {},
   "source": [
    "# 1. Getting Crypto Price Data"
   ]
  },
  {
   "cell_type": "code",
   "execution_count": 2,
   "metadata": {},
   "outputs": [],
   "source": [
    "# Importing and assigning the api key\n",
    "with open(\"../eodHistoricalData-API.txt\", \"r\") as f:\n",
    "    api_key = f.read()\n",
    "    \n",
    "\n",
    "def getCryptoPrice(api_key, ticker=\"BTC-USD\", n_days=1000):\n",
    "    \n",
    "    # Time periods\n",
    "    now = datetime.now()\n",
    "\n",
    "    # How far back to retrieve\n",
    "    ago = now - timedelta(days=n_days)\n",
    "\n",
    "    # Getting the price history for the crypto\n",
    "    df = get_eod_data(\n",
    "        ticker, \n",
    "        \"CC\", \n",
    "        api_key=api_key, \n",
    "        start=ago, \n",
    "        end=now\n",
    "    )\n",
    "    \n",
    "\n",
    "    # Dropping a column\n",
    "    df.drop(\n",
    "        [\"Adjusted_close\"], \n",
    "        axis=1,\n",
    "        inplace=True\n",
    "    )\n",
    "\n",
    "    return df"
   ]
  },
  {
   "cell_type": "markdown",
   "metadata": {},
   "source": [
    "## Adding Technical Indicators"
   ]
  },
  {
   "cell_type": "code",
   "execution_count": null,
   "metadata": {},
   "outputs": [],
   "source": [
    "df = add_all_ta_features(\n",
    "    df, \n",
    "    open=\"Open\", \n",
    "    high=\"High\", \n",
    "    low=\"Low\", \n",
    "    close=\"Close\", \n",
    "    volume=\"Volume\", \n",
    "    fillna=True\n",
    ")"
   ]
  },
  {
   "cell_type": "markdown",
   "metadata": {},
   "source": [
    "# 2. Data Transformation/Preprocessing"
   ]
  },
  {
   "cell_type": "code",
   "execution_count": null,
   "metadata": {},
   "outputs": [],
   "source": [
    "def transformData(df, days=1):\n",
    "    \"\"\"\n",
    "    Transforming data into X variables for training.  Uses percent change and \n",
    "    multiplies the percentage by 100 rounded to 2 decimal places.\n",
    "    \"\"\"\n",
    "    # Transforming data\n",
    "    new_df = df.pct_change(\n",
    "        days\n",
    "    ).apply(\n",
    "        lambda x: round(x*100, 2)\n",
    "    ).replace(\n",
    "        [np.inf, -np.inf], \n",
    "        np.nan\n",
    "    )\n",
    "    \n",
    "    # Dropping Nans\n",
    "    new_df = new_df.dropna(\n",
    "        thresh=round(new_df.shape[1]*.7) # If 70% of the values in the row are Nans, drop the whole row\n",
    "    ).dropna(\n",
    "        axis=1,\n",
    "        thresh=round(new_df.shape[0]*.7) # If 70% of the values in the columns are Nans, drop the whole column\n",
    "    )\n",
    "    \n",
    "    # What the percent change is going to be in the next days AKA the Y Variable\n",
    "    new_df[f'future_{days}_days']= df['Open'].pct_change(\n",
    "        days\n",
    "    ).shift(\n",
    "        -days\n",
    "    ).apply(\n",
    "        lambda x: round(x*100, 2)\n",
    "    )\n",
    "    \n",
    "    # Saving the last value in the dataset for later\n",
    "    last_val = new_df.tail(1).drop(f'future_{days}_days',\n",
    "                                   axis=1)\n",
    "\n",
    "    # Dropping the last NaNs from the Y variable\n",
    "    new_df = new_df.dropna(\n",
    "        subset=[f'future_{days}_days']\n",
    "    )\n",
    "\n",
    "    # Filling in the rest of the NaNs with the most recent value\n",
    "    new_df = new_df.fillna(method='ffill').dropna()\n",
    "\n",
    "    return new_df, last_val"
   ]
  },
  {
   "cell_type": "markdown",
   "metadata": {},
   "source": [
    "# 3. Fitting to Classification Model"
   ]
  },
  {
   "cell_type": "code",
   "execution_count": null,
   "metadata": {},
   "outputs": [],
   "source": []
  },
  {
   "cell_type": "code",
   "execution_count": null,
   "metadata": {},
   "outputs": [],
   "source": []
  },
  {
   "cell_type": "code",
   "execution_count": null,
   "metadata": {},
   "outputs": [],
   "source": []
  },
  {
   "cell_type": "code",
   "execution_count": null,
   "metadata": {},
   "outputs": [],
   "source": []
  },
  {
   "cell_type": "code",
   "execution_count": null,
   "metadata": {},
   "outputs": [],
   "source": []
  },
  {
   "cell_type": "code",
   "execution_count": null,
   "metadata": {},
   "outputs": [],
   "source": []
  },
  {
   "cell_type": "code",
   "execution_count": null,
   "metadata": {},
   "outputs": [],
   "source": []
  }
 ],
 "metadata": {
  "kernelspec": {
   "display_name": "Python 3",
   "language": "python",
   "name": "python3"
  },
  "language_info": {
   "codemirror_mode": {
    "name": "ipython",
    "version": 3
   },
   "file_extension": ".py",
   "mimetype": "text/x-python",
   "name": "python",
   "nbconvert_exporter": "python",
   "pygments_lexer": "ipython3",
   "version": "3.9.1"
  }
 },
 "nbformat": 4,
 "nbformat_minor": 4
}
