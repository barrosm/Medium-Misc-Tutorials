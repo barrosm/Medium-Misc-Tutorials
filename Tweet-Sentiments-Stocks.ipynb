{
 "cells": [
  {
   "cell_type": "markdown",
   "metadata": {},
   "source": [
    "# Sentiment Analysis on Tweets for Stocks"
   ]
  },
  {
   "cell_type": "code",
   "execution_count": 24,
   "metadata": {},
   "outputs": [],
   "source": [
    "# Libraries\n",
    "import twint\n",
    "import nest_asyncio\n",
    "nest_asyncio.apply()\n",
    "import pandas as pd\n",
    "import numpy as np\n",
    "from nltk.sentiment.vader import SentimentIntensityAnalyzer\n",
    "from datetime import datetime, timedelta"
   ]
  },
  {
   "cell_type": "markdown",
   "metadata": {},
   "source": [
    "# Gathering Tweets"
   ]
  },
  {
   "cell_type": "markdown",
   "metadata": {},
   "source": [
    "## Function for Twint"
   ]
  },
  {
   "cell_type": "code",
   "execution_count": 18,
   "metadata": {},
   "outputs": [],
   "source": [
    "def getTweets(search_term, date, limit):\n",
    "    \"\"\"\n",
    "    Configures Twint and returns a dataframe of the results.\n",
    "    \"\"\"\n",
    "    # Configuring Twint for search\n",
    "    c = twint.Config()\n",
    "\n",
    "    # The limit of tweets to retrieve\n",
    "    c.Limit = limit\n",
    "\n",
    "    # Count of the number of tweets fetched\n",
    "    c.Count = True\n",
    "\n",
    "    # Search term\n",
    "    c.Search = search_term\n",
    "\n",
    "    # Removing retweets\n",
    "    c.Filter_retweets = True\n",
    "\n",
    "    # Getting popular tweets\n",
    "    c.Popular_tweets = True\n",
    "\n",
    "    # Lowercasing tweets\n",
    "    c.Lowercase = True\n",
    "\n",
    "    # English only\n",
    "    c.Lang ='en'\n",
    "\n",
    "    # Excluding tweets with links\n",
    "    c.Links ='exclude'\n",
    "\n",
    "    # Tweets until a specified date\n",
    "    c.Until = date\n",
    "\n",
    "    # Making the results pandas friendly\n",
    "    c.Pandas = True\n",
    "    \n",
    "    # Stopping print in terminal\n",
    "    c.Hide_output = True\n",
    "\n",
    "    # Searching\n",
    "    twint.run.Search(c)\n",
    "\n",
    "    # Assigning the DF\n",
    "    df = twint.storage.panda.Tweets_df\n",
    "    \n",
    "    # Filtering out other cashtag mentions\n",
    "    df = df[df['cashtags'].apply(lambda x: len(x)==1)]\n",
    "    \n",
    "    return df"
   ]
  },
  {
   "cell_type": "markdown",
   "metadata": {},
   "source": [
    "## Using Twint\n",
    "Tweet retrieval over a period of time."
   ]
  },
  {
   "cell_type": "code",
   "execution_count": 19,
   "metadata": {},
   "outputs": [],
   "source": [
    "def tweetByDay(start, stop, df):\n",
    "    \"\"\"\n",
    "    Gathers a set amount of tweets daily between two dates and returns a dataframe.\n",
    "    \"\"\"\n",
    "    # Finishing the recursive loop\n",
    "    if start==stop:\n",
    "        return df\n",
    "    \n",
    "    # Appending the new set of tweets for the day\n",
    "    df = df.append(getTweets(\"$BBIG\", start, 20), ignore_index=True)\n",
    "    \n",
    "    # The new start date\n",
    "    new_start = (datetime.strptime(start, \"%Y-%m-%d\") - timedelta(days=1)).strftime(\"%Y-%m-%d\")\n",
    "    \n",
    "    print(new_start)\n",
    "    \n",
    "    return tweetByDay(new_start, stop, df)"
   ]
  },
  {
   "cell_type": "code",
   "execution_count": 20,
   "metadata": {},
   "outputs": [
    {
     "name": "stdout",
     "output_type": "stream",
     "text": [
      "[+] Finished: Successfully collected 20 Tweets.\n",
      "2021-08-31\n",
      "[+] Finished: Successfully collected 20 Tweets.\n",
      "2021-08-30\n",
      "[+] Finished: Successfully collected 20 Tweets.\n",
      "2021-08-29\n"
     ]
    }
   ],
   "source": [
    "# Getting tweets daily\n",
    "df = tweetByDay(\"2021-09-01\", \"2021-08-29\", pd.DataFrame())"
   ]
  },
  {
   "cell_type": "markdown",
   "metadata": {},
   "source": [
    "# Sentiment Analysis"
   ]
  },
  {
   "cell_type": "code",
   "execution_count": 34,
   "metadata": {},
   "outputs": [
    {
     "data": {
      "text/plain": [
       "0     0.6486\n",
       "1     0.5399\n",
       "2    -0.5871\n",
       "3     0.0000\n",
       "4     0.0000\n",
       "5     0.0000\n",
       "6     0.2500\n",
       "7    -0.2732\n",
       "8    -0.3818\n",
       "9     0.4898\n",
       "10    0.0000\n",
       "11    0.0000\n",
       "12   -0.4404\n",
       "13    0.7712\n",
       "14    0.5413\n",
       "15    0.0000\n",
       "16   -0.0258\n",
       "17    0.0000\n",
       "18    0.2732\n",
       "19   -0.3947\n",
       "20   -0.4019\n",
       "21   -0.7184\n",
       "22    0.0000\n",
       "23    0.9068\n",
       "24    0.3400\n",
       "25    0.3612\n",
       "26   -0.4767\n",
       "27   -0.1027\n",
       "28    0.0000\n",
       "29    0.3612\n",
       "30    0.0000\n",
       "31    0.0000\n",
       "32    0.2120\n",
       "33    0.4404\n",
       "34    0.2023\n",
       "35    0.1531\n",
       "36    0.0000\n",
       "37    0.8625\n",
       "38    0.7430\n",
       "Name: tweet, dtype: float64"
      ]
     },
     "execution_count": 34,
     "metadata": {},
     "output_type": "execute_result"
    }
   ],
   "source": [
    "# Sentiment Analyzer\n",
    "sia = SentimentIntensityAnalyzer()\n",
    "\n",
    "df['tweet'].apply(lambda x: sia.polarity_scores(x)['compound'])"
   ]
  },
  {
   "cell_type": "code",
   "execution_count": null,
   "metadata": {},
   "outputs": [],
   "source": []
  },
  {
   "cell_type": "code",
   "execution_count": null,
   "metadata": {},
   "outputs": [],
   "source": []
  },
  {
   "cell_type": "code",
   "execution_count": null,
   "metadata": {},
   "outputs": [],
   "source": []
  },
  {
   "cell_type": "code",
   "execution_count": null,
   "metadata": {},
   "outputs": [],
   "source": []
  },
  {
   "cell_type": "code",
   "execution_count": null,
   "metadata": {},
   "outputs": [],
   "source": []
  }
 ],
 "metadata": {
  "kernelspec": {
   "display_name": "Python 3",
   "language": "python",
   "name": "python3"
  },
  "language_info": {
   "codemirror_mode": {
    "name": "ipython",
    "version": 3
   },
   "file_extension": ".py",
   "mimetype": "text/x-python",
   "name": "python",
   "nbconvert_exporter": "python",
   "pygments_lexer": "ipython3",
   "version": "3.9.1"
  }
 },
 "nbformat": 4,
 "nbformat_minor": 4
}
