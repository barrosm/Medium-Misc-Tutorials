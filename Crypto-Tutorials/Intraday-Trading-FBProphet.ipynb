{
 "cells": [
  {
   "cell_type": "markdown",
   "metadata": {},
   "source": [
    "# Intra-day Trading with Facebook Prophet"
   ]
  },
  {
   "cell_type": "code",
   "execution_count": 1,
   "metadata": {},
   "outputs": [],
   "source": [
    "# Libraries\n",
    "from eod import EodHistoricalData\n",
    "import pandas as pd\n",
    "from datetime import datetime, timedelta\n",
    "import calendar\n",
    "from tqdm import tqdm\n",
    "import numpy as np\n",
    "import random\n",
    "import plotly.express as px\n",
    "from prophet import Prophet\n",
    "\n",
    "# Importing and assigning the api key\n",
    "with open(\"../../eodHistoricalData-API.txt\", \"r\") as f:\n",
    "    api_key = f.read()\n",
    "    \n",
    "# EOD Historical Data client\n",
    "client = EodHistoricalData(api_key)"
   ]
  },
  {
   "cell_type": "markdown",
   "metadata": {},
   "source": [
    "# Getting Price Data"
   ]
  },
  {
   "cell_type": "code",
   "execution_count": 8,
   "metadata": {},
   "outputs": [],
   "source": [
    "def getIntradayPrices(crypto, n_hours, training_hours, mov_avg):\n",
    "    \"\"\"\n",
    "    Gets crypto prices from now to N days ago and training amount will be in addition \n",
    "    to the number of days to train. (According to the EOD documentation: The maximum \n",
    "    periods between ‘from’ and ‘to’ are 120 days for 1-minute interval, 600 days \n",
    "    for 5-minute interval and 7200 days for 1 hour interval.)\n",
    "    \n",
    "    There also appears to be a time delay on the data of about 15-20 hours, which \n",
    "    is added to the from(ago) variable.\n",
    "    \"\"\"\n",
    "    \n",
    "    # Getting the time from N hours ago\n",
    "    ago = datetime.utcnow() - timedelta(hours=n_hours+training_hours+15)\n",
    "    \n",
    "    # Getting the unix timestamp format for the intraday data from the API\n",
    "    timestamp_unix = str(calendar.timegm(ago.utctimetuple()))\n",
    "    \n",
    "    # Retrieving price data\n",
    "    resp = client.get_prices_intraday(\n",
    "        crypto+'-USD.CC', \n",
    "        interval=\"1h\", \n",
    "        from_=timestamp_unix\n",
    "    )\n",
    "    \n",
    "    # Removing the last time period for uniformity if necessary\n",
    "    if resp[-1]['datetime'][-5:-3] != \"00\":\n",
    "        resp = resp[:-1]\n",
    "    \n",
    "    # Price formatting for the dataframe\n",
    "    prices = pd.DataFrame(resp)\n",
    "        \n",
    "    # Filling NaNs with the most recent values for any missing data\n",
    "    prices = prices.fillna(method='ffill')\n",
    "    \n",
    "    # Getting the N Day Moving Average and rounding the values for some light data preprocessing\n",
    "    prices['MA'] = prices[['open']].rolling(\n",
    "        window=mov_avg\n",
    "    ).mean().apply(lambda x: round(x, 6))\n",
    "\n",
    "    # Resetting format for FBP\n",
    "    prices = prices.rename(\n",
    "        columns={\"datetime\": \"ds\", \"MA\": \"y\"}\n",
    "    )\n",
    "    \n",
    "    return prices"
   ]
  },
  {
   "cell_type": "code",
   "execution_count": 9,
   "metadata": {},
   "outputs": [],
   "source": [
    "prices = getIntradayPrices(\n",
    "    crypto=\"BTC\", \n",
    "    n_hours=100, \n",
    "    training_hours=50, \n",
    "    mov_avg=5\n",
    ")"
   ]
  },
  {
   "cell_type": "code",
   "execution_count": 10,
   "metadata": {},
   "outputs": [
    {
     "data": {
      "text/plain": [
       "(157, 9)"
      ]
     },
     "execution_count": 10,
     "metadata": {},
     "output_type": "execute_result"
    }
   ],
   "source": [
    "prices.shape"
   ]
  },
  {
   "cell_type": "markdown",
   "metadata": {},
   "source": [
    "# Time Series Analysis with Facebook Prophet"
   ]
  },
  {
   "cell_type": "code",
   "execution_count": 11,
   "metadata": {},
   "outputs": [],
   "source": [
    "def fbpTrainPredict(df, forecast_hours):\n",
    "    \"\"\"\n",
    "    Uses FB Prophet and fits to a appropriately formatted DF. Makes a prediction N days into \n",
    "    the future based on given forecast period. Returns predicted values as a DF.\n",
    "    \"\"\"\n",
    "    # Setting up prophet\n",
    "    m = Prophet(\n",
    "        yearly_seasonality=False,\n",
    "        weekly_seasonality=False,\n",
    "        daily_seasonality=False\n",
    "    )\n",
    "    \n",
    "    # Fitting to the prices\n",
    "    m.fit(df[['ds', 'y']])\n",
    "    \n",
    "    # Future DF\n",
    "    future = m.make_future_dataframe(\n",
    "        periods=forecast_hours,\n",
    "        freq=\"H\",\n",
    "        include_history=False\n",
    "    )\n",
    "        \n",
    "    # Predicting values\n",
    "    forecast = m.predict(future)\n",
    "\n",
    "    # Returning a set of predicted values\n",
    "    return forecast[['ds', 'yhat', 'yhat_lower', 'yhat_upper']]"
   ]
  },
  {
   "cell_type": "markdown",
   "metadata": {},
   "source": [
    "# Making Predictions over time"
   ]
  },
  {
   "cell_type": "code",
   "execution_count": 12,
   "metadata": {},
   "outputs": [],
   "source": [
    "def runningFBP(prices, forecast_hours, training_hours):\n",
    "    \"\"\"\n",
    "    Runs Facebook Prophet to get predictions over a set period \n",
    "    of time. Uses FBP to train and predict every hour and gets the \n",
    "    price forecasts in the next N hours.\n",
    "    \"\"\"\n",
    "    # DF for the predicted values\n",
    "    pred_df = pd.DataFrame()\n",
    "\n",
    "    # Running the model each day\n",
    "    for i in tqdm(range(training_hours, len(prices))):\n",
    "\n",
    "        # Training and Predicting the last hour on the forecast\n",
    "        forecast = fbpTrainPredict(\n",
    "            prices[i-training_hours:i], \n",
    "            forecast_hours\n",
    "        ).tail(1)[[\n",
    "            'ds',\n",
    "            'yhat',\n",
    "            'yhat_lower',\n",
    "            'yhat_upper'\n",
    "        ]]\n",
    "        \n",
    "        # Adding the forecast predicted\n",
    "        pred_df = pred_df.append(forecast, ignore_index=True)\n",
    "                \n",
    "    # Prepping for merge by converting date values to be the same type\n",
    "    pred_df['ds'] = pred_df['ds'].apply(str)\n",
    "\n",
    "    prices['ds'] = prices['ds'].apply(str)\n",
    "    \n",
    "    # Shifting the forecasts back in order to compare it to the 'current' open values\n",
    "    pred_df[['yhat', 'yhat_lower', 'yhat_upper']] = pred_df[['yhat', 'yhat_lower', 'yhat_upper']].shift(-forecast_hours)\n",
    "    \n",
    "    # Merging with the prices DF in order to compare values for positions later\n",
    "    merge_df = prices[['ds', 'open']].merge(\n",
    "        pred_df,\n",
    "        on='ds',\n",
    "        how='outer'\n",
    "    ).dropna().set_index('ds')\n",
    "\n",
    "    return merge_df"
   ]
  },
  {
   "cell_type": "code",
   "execution_count": 15,
   "metadata": {},
   "outputs": [
    {
     "name": "stderr",
     "output_type": "stream",
     "text": [
      "100%|██████████| 107/107 [01:38<00:00,  1.09it/s]\n"
     ]
    }
   ],
   "source": [
    "# Predicting over time\n",
    "pred_df = runningFBP(\n",
    "    prices, \n",
    "    forecast_hours=5, \n",
    "    training_hours=50\n",
    ")"
   ]
  },
  {
   "cell_type": "markdown",
   "metadata": {},
   "source": [
    "# Determining Positions"
   ]
  },
  {
   "cell_type": "code",
   "execution_count": 23,
   "metadata": {},
   "outputs": [],
   "source": [
    "def fbpPositions(pred_df, short=True):\n",
    "    \"\"\"\n",
    "    Gets positions based on the predictions and the actual values. This\n",
    "    is the logic of the trading strategy.\n",
    "    \"\"\"\n",
    "    if pred_df['open'] < pred_df['yhat']:\n",
    "        return 1\n",
    "    elif pred_df['open'] > pred_df['yhat'] and short:\n",
    "        return -1\n",
    "    else:\n",
    "        return 0"
   ]
  },
  {
   "cell_type": "markdown",
   "metadata": {},
   "source": [
    "## Getting Other Positions"
   ]
  },
  {
   "cell_type": "code",
   "execution_count": 24,
   "metadata": {},
   "outputs": [],
   "source": [
    "# Adding sentiment positions to the forecast DF\n",
    "positions = pred_df\n",
    "\n",
    "# Getting forecast prophet positions\n",
    "positions['fbp_positions'] = positions.apply(\n",
    "    lambda x: fbpPositions(x, short=True), \n",
    "    axis=1\n",
    ")\n",
    "\n",
    "# Buy and hold position\n",
    "positions['buy_hold'] = 1\n",
    "\n",
    "# Random positions\n",
    "positions['random_positions'] = random.choices(\n",
    "    [1,0,-1], k=len(positions)\n",
    ")"
   ]
  },
  {
   "cell_type": "markdown",
   "metadata": {},
   "source": [
    "# Performing Backtest"
   ]
  },
  {
   "cell_type": "code",
   "execution_count": 25,
   "metadata": {},
   "outputs": [],
   "source": [
    "# Getting returns each hour\n",
    "log_returns = prices[['ds', 'open']].set_index(\n",
    "    'ds'\n",
    ").loc[positions.index].apply(np.log).diff()"
   ]
  },
  {
   "cell_type": "code",
   "execution_count": 26,
   "metadata": {},
   "outputs": [],
   "source": [
    "# The positions to backtest (shifted ahead by 1 to prevent lookahead bias)\n",
    "bt_positions = positions[[\n",
    "    'buy_hold', \n",
    "    'random_positions',\n",
    "    'fbp_positions'\n",
    "]].shift(1)\n",
    "\n",
    "# The returns during the backtest\n",
    "returns = bt_positions.multiply(\n",
    "    log_returns['open'], \n",
    "    axis=0\n",
    ")\n",
    "\n",
    "# Inversing the log returns to get daily portfolio balance\n",
    "performance = returns.cumsum().apply(\n",
    "    np.exp\n",
    ").dropna().fillna(\n",
    "    method='ffill'\n",
    ")"
   ]
  },
  {
   "cell_type": "code",
   "execution_count": 27,
   "metadata": {},
   "outputs": [
    {
     "data": {
      "text/html": [
       "<div>\n",
       "<style scoped>\n",
       "    .dataframe tbody tr th:only-of-type {\n",
       "        vertical-align: middle;\n",
       "    }\n",
       "\n",
       "    .dataframe tbody tr th {\n",
       "        vertical-align: top;\n",
       "    }\n",
       "\n",
       "    .dataframe thead th {\n",
       "        text-align: right;\n",
       "    }\n",
       "</style>\n",
       "<table border=\"1\" class=\"dataframe\">\n",
       "  <thead>\n",
       "    <tr style=\"text-align: right;\">\n",
       "      <th></th>\n",
       "      <th>buy_hold</th>\n",
       "      <th>random_positions</th>\n",
       "      <th>fbp_positions</th>\n",
       "    </tr>\n",
       "    <tr>\n",
       "      <th>ds</th>\n",
       "      <th></th>\n",
       "      <th></th>\n",
       "      <th></th>\n",
       "    </tr>\n",
       "  </thead>\n",
       "  <tbody>\n",
       "    <tr>\n",
       "      <th>2022-01-11 02:00:00</th>\n",
       "      <td>0.977317</td>\n",
       "      <td>1.026804</td>\n",
       "      <td>0.899526</td>\n",
       "    </tr>\n",
       "  </tbody>\n",
       "</table>\n",
       "</div>"
      ],
      "text/plain": [
       "                     buy_hold  random_positions  fbp_positions\n",
       "ds                                                            \n",
       "2022-01-11 02:00:00  0.977317          1.026804       0.899526"
      ]
     },
     "execution_count": 27,
     "metadata": {},
     "output_type": "execute_result"
    }
   ],
   "source": [
    "# Displaying the final balance of the portfolio\n",
    "performance.tail(1)"
   ]
  },
  {
   "cell_type": "markdown",
   "metadata": {},
   "source": [
    "# Visualizing the Backtest Performance"
   ]
  },
  {
   "cell_type": "code",
   "execution_count": 28,
   "metadata": {},
   "outputs": [
    {
     "data": {
      "application/vnd.plotly.v1+json": {
       "config": {
        "plotlyServerURL": "https://plot.ly"
       },
       "data": [
        {
         "hovertemplate": "variable=buy_hold<br>ds=%{x}<br>Portfolio Balance=%{y}<extra></extra>",
         "legendgroup": "buy_hold",
         "line": {
          "color": "#636efa",
          "dash": "solid"
         },
         "mode": "lines",
         "name": "buy_hold",
         "orientation": "v",
         "showlegend": true,
         "type": "scatter",
         "x": [
          "2022-01-07 02:00:00",
          "2022-01-07 03:00:00",
          "2022-01-07 04:00:00",
          "2022-01-07 05:00:00",
          "2022-01-07 06:00:00",
          "2022-01-07 07:00:00",
          "2022-01-07 08:00:00",
          "2022-01-07 09:00:00",
          "2022-01-07 10:00:00",
          "2022-01-07 11:00:00",
          "2022-01-07 12:00:00",
          "2022-01-07 13:00:00",
          "2022-01-07 14:00:00",
          "2022-01-07 15:00:00",
          "2022-01-07 16:00:00",
          "2022-01-07 17:00:00",
          "2022-01-07 18:00:00",
          "2022-01-07 19:00:00",
          "2022-01-07 20:00:00",
          "2022-01-07 21:00:00",
          "2022-01-07 22:00:00",
          "2022-01-07 23:00:00",
          "2022-01-08 00:00:00",
          "2022-01-08 01:00:00",
          "2022-01-08 02:00:00",
          "2022-01-08 03:00:00",
          "2022-01-08 04:00:00",
          "2022-01-08 05:00:00",
          "2022-01-08 06:00:00",
          "2022-01-08 07:00:00",
          "2022-01-08 08:00:00",
          "2022-01-08 09:00:00",
          "2022-01-08 10:00:00",
          "2022-01-08 11:00:00",
          "2022-01-08 12:00:00",
          "2022-01-08 13:00:00",
          "2022-01-08 14:00:00",
          "2022-01-08 15:00:00",
          "2022-01-08 16:00:00",
          "2022-01-08 17:00:00",
          "2022-01-08 18:00:00",
          "2022-01-08 19:00:00",
          "2022-01-08 20:00:00",
          "2022-01-08 21:00:00",
          "2022-01-08 22:00:00",
          "2022-01-08 23:00:00",
          "2022-01-09 00:00:00",
          "2022-01-09 01:00:00",
          "2022-01-09 02:00:00",
          "2022-01-09 03:00:00",
          "2022-01-09 04:00:00",
          "2022-01-09 05:00:00",
          "2022-01-09 06:00:00",
          "2022-01-09 07:00:00",
          "2022-01-09 08:00:00",
          "2022-01-09 09:00:00",
          "2022-01-09 10:00:00",
          "2022-01-09 11:00:00",
          "2022-01-09 12:00:00",
          "2022-01-09 13:00:00",
          "2022-01-09 14:00:00",
          "2022-01-09 15:00:00",
          "2022-01-09 16:00:00",
          "2022-01-09 17:00:00",
          "2022-01-09 18:00:00",
          "2022-01-09 19:00:00",
          "2022-01-09 20:00:00",
          "2022-01-09 21:00:00",
          "2022-01-09 22:00:00",
          "2022-01-09 23:00:00",
          "2022-01-10 00:00:00",
          "2022-01-10 01:00:00",
          "2022-01-10 02:00:00",
          "2022-01-10 03:00:00",
          "2022-01-10 04:00:00",
          "2022-01-10 05:00:00",
          "2022-01-10 06:00:00",
          "2022-01-10 07:00:00",
          "2022-01-10 08:00:00",
          "2022-01-10 09:00:00",
          "2022-01-10 10:00:00",
          "2022-01-10 11:00:00",
          "2022-01-10 12:00:00",
          "2022-01-10 13:00:00",
          "2022-01-10 14:00:00",
          "2022-01-10 15:00:00",
          "2022-01-10 16:00:00",
          "2022-01-10 17:00:00",
          "2022-01-10 18:00:00",
          "2022-01-10 19:00:00",
          "2022-01-10 20:00:00",
          "2022-01-10 21:00:00",
          "2022-01-10 22:00:00",
          "2022-01-10 23:00:00",
          "2022-01-11 00:00:00",
          "2022-01-11 01:00:00",
          "2022-01-11 02:00:00"
         ],
         "xaxis": "x",
         "y": [
          1.003116814347335,
          0.9995612893253156,
          0.975783243019325,
          0.9715178888515029,
          0.9759018972299144,
          0.9702224438323449,
          0.9732226088670829,
          0.9833602522887922,
          0.9904659255238195,
          0.9858427861024112,
          0.9859095860644654,
          0.9890664985816539,
          0.9696112197772103,
          0.9786035129899375,
          0.9632562940889845,
          0.9796884425065365,
          0.9792130966527771,
          0.9733089111205212,
          0.9751346547503862,
          0.9797443977241457,
          0.9780589977471005,
          0.9689578926308952,
          0.9696230669589858,
          0.9799457088745551,
          0.9785015359882534,
          0.9767620946118268,
          0.9764669172247972,
          0.9784032954266155,
          0.979812108997107,
          0.9786399658928329,
          0.9779787102343049,
          0.979919918439924,
          0.9833194250375485,
          0.9780909851752242,
          0.9789757882549273,
          0.9770269249396994,
          0.9779140063433313,
          0.9757279257566775,
          0.9709558762386065,
          0.9671406242717908,
          0.9552938865094835,
          0.9520864867101203,
          0.9531431652386408,
          0.955537756429856,
          0.9754890680929558,
          0.9797975278359496,
          0.9736652382346613,
          0.9747820640529595,
          0.9745422039519064,
          0.9822561849865074,
          0.9769448147817592,
          0.9813526997999034,
          0.9747872585857901,
          0.9775377212356929,
          0.9755591488162708,
          0.9735161458618181,
          0.9696676306502737,
          0.9717052567723871,
          0.9761788481654973,
          0.9750917314513932,
          0.9703238740288209,
          0.9714514534418083,
          0.9707910179677638,
          0.9807525027420616,
          0.9809572769299096,
          0.980492046762536,
          0.9945771750388175,
          0.9906678746058607,
          0.988281120777102,
          0.9847035417604972,
          0.977759719414328,
          0.9744058700950761,
          0.9761343756239645,
          0.979205988348378,
          0.9793515265573567,
          0.9844869203908727,
          0.9811086476033517,
          0.9786528155352714,
          0.9809487105093948,
          0.9760900853352804,
          0.9767155260225465,
          0.9759352516243993,
          0.9709308148620333,
          0.9583698735822456,
          0.9528102590854483,
          0.9513160545957553,
          0.954653864661061,
          0.9752330775882047,
          0.9608122180762544,
          0.970456653721786,
          0.9647402917658672,
          0.97118671424036,
          0.9718870656314114,
          0.9711464337709965,
          0.9756431727457796,
          0.9730366990623162,
          0.977316634391296
         ],
         "yaxis": "y"
        },
        {
         "hovertemplate": "variable=random_positions<br>ds=%{x}<br>Portfolio Balance=%{y}<extra></extra>",
         "legendgroup": "random_positions",
         "line": {
          "color": "#EF553B",
          "dash": "solid"
         },
         "mode": "lines",
         "name": "random_positions",
         "orientation": "v",
         "showlegend": true,
         "type": "scatter",
         "x": [
          "2022-01-07 02:00:00",
          "2022-01-07 03:00:00",
          "2022-01-07 04:00:00",
          "2022-01-07 05:00:00",
          "2022-01-07 06:00:00",
          "2022-01-07 07:00:00",
          "2022-01-07 08:00:00",
          "2022-01-07 09:00:00",
          "2022-01-07 10:00:00",
          "2022-01-07 11:00:00",
          "2022-01-07 12:00:00",
          "2022-01-07 13:00:00",
          "2022-01-07 14:00:00",
          "2022-01-07 15:00:00",
          "2022-01-07 16:00:00",
          "2022-01-07 17:00:00",
          "2022-01-07 18:00:00",
          "2022-01-07 19:00:00",
          "2022-01-07 20:00:00",
          "2022-01-07 21:00:00",
          "2022-01-07 22:00:00",
          "2022-01-07 23:00:00",
          "2022-01-08 00:00:00",
          "2022-01-08 01:00:00",
          "2022-01-08 02:00:00",
          "2022-01-08 03:00:00",
          "2022-01-08 04:00:00",
          "2022-01-08 05:00:00",
          "2022-01-08 06:00:00",
          "2022-01-08 07:00:00",
          "2022-01-08 08:00:00",
          "2022-01-08 09:00:00",
          "2022-01-08 10:00:00",
          "2022-01-08 11:00:00",
          "2022-01-08 12:00:00",
          "2022-01-08 13:00:00",
          "2022-01-08 14:00:00",
          "2022-01-08 15:00:00",
          "2022-01-08 16:00:00",
          "2022-01-08 17:00:00",
          "2022-01-08 18:00:00",
          "2022-01-08 19:00:00",
          "2022-01-08 20:00:00",
          "2022-01-08 21:00:00",
          "2022-01-08 22:00:00",
          "2022-01-08 23:00:00",
          "2022-01-09 00:00:00",
          "2022-01-09 01:00:00",
          "2022-01-09 02:00:00",
          "2022-01-09 03:00:00",
          "2022-01-09 04:00:00",
          "2022-01-09 05:00:00",
          "2022-01-09 06:00:00",
          "2022-01-09 07:00:00",
          "2022-01-09 08:00:00",
          "2022-01-09 09:00:00",
          "2022-01-09 10:00:00",
          "2022-01-09 11:00:00",
          "2022-01-09 12:00:00",
          "2022-01-09 13:00:00",
          "2022-01-09 14:00:00",
          "2022-01-09 15:00:00",
          "2022-01-09 16:00:00",
          "2022-01-09 17:00:00",
          "2022-01-09 18:00:00",
          "2022-01-09 19:00:00",
          "2022-01-09 20:00:00",
          "2022-01-09 21:00:00",
          "2022-01-09 22:00:00",
          "2022-01-09 23:00:00",
          "2022-01-10 00:00:00",
          "2022-01-10 01:00:00",
          "2022-01-10 02:00:00",
          "2022-01-10 03:00:00",
          "2022-01-10 04:00:00",
          "2022-01-10 05:00:00",
          "2022-01-10 06:00:00",
          "2022-01-10 07:00:00",
          "2022-01-10 08:00:00",
          "2022-01-10 09:00:00",
          "2022-01-10 10:00:00",
          "2022-01-10 11:00:00",
          "2022-01-10 12:00:00",
          "2022-01-10 13:00:00",
          "2022-01-10 14:00:00",
          "2022-01-10 15:00:00",
          "2022-01-10 16:00:00",
          "2022-01-10 17:00:00",
          "2022-01-10 18:00:00",
          "2022-01-10 19:00:00",
          "2022-01-10 20:00:00",
          "2022-01-10 21:00:00",
          "2022-01-10 22:00:00",
          "2022-01-10 23:00:00",
          "2022-01-11 00:00:00",
          "2022-01-11 01:00:00",
          "2022-01-11 02:00:00"
         ],
         "xaxis": "x",
         "y": [
          1.003116814347335,
          0.9995612893253156,
          0.9995612893253156,
          0.9951919963066889,
          0.9996828349211937,
          1.005534742501128,
          1.0086441017978993,
          1.0086441017978993,
          1.0086441017978993,
          1.0086441017978993,
          1.0085757614666166,
          1.0118052517676661,
          1.0118052517676661,
          1.0025078709823942,
          1.0025078709823942,
          1.0025078709823942,
          1.0029945249716656,
          1.0090787862946735,
          1.0071894891015787,
          1.0119507645295542,
          1.0119507645295542,
          1.02145568765413,
          1.020754955458432,
          1.0100024333612216,
          1.0100024333612216,
          1.0082069941531413,
          1.008511766287117,
          1.008511766287117,
          1.008511766287117,
          1.0073052899621378,
          1.0079863746482176,
          1.0079863746482176,
          1.0114832484911205,
          1.0061050578423572,
          1.0070152030815798,
          1.005010521238875,
          1.0059230100568266,
          1.003674316664883,
          0.998765588101614,
          0.9948410612846446,
          1.0071782292856644,
          1.010571222774834,
          1.010571222774834,
          1.0131100910544448,
          1.0131100910544448,
          1.0131100910544448,
          1.0194908102507032,
          1.0183227607959648,
          1.0180721868376241,
          1.026130729104212,
          1.026130729104212,
          1.026130729104212,
          1.026130729104212,
          1.026130729104212,
          1.026130729104212,
          1.0282841480486495,
          1.0282841480486495,
          1.0282841480486495,
          1.0330182205282632,
          1.0341699187093552,
          1.0341699187093552,
          1.0353716913762747,
          1.0353716913762747,
          1.0248554405275159,
          1.0250694230969295,
          1.0255558046242979,
          1.0255558046242979,
          1.0255558046242979,
          1.0230849974990879,
          1.0268020222319452,
          1.0340941316178143,
          1.0340941316178143,
          1.0322629929257157,
          1.0290249488555812,
          1.0291778915967744,
          1.0345745583244772,
          1.0381369314475628,
          1.0381369314475628,
          1.0381369314475628,
          1.0433044034924985,
          1.0426363225561737,
          1.0426363225561737,
          1.0372898535832644,
          1.0508851650596958,
          1.0447888586552627,
          1.0447888586552627,
          1.0447888586552627,
          1.0447888586552627,
          1.029339471532772,
          1.029339471532772,
          1.0354386020915518,
          1.0285656964209864,
          1.0285656964209864,
          1.0285656964209864,
          1.0285656964209864,
          1.0313209156455214,
          1.026804480882149
         ],
         "yaxis": "y"
        },
        {
         "hovertemplate": "variable=fbp_positions<br>ds=%{x}<br>Portfolio Balance=%{y}<extra></extra>",
         "legendgroup": "fbp_positions",
         "line": {
          "color": "#00cc96",
          "dash": "solid"
         },
         "mode": "lines",
         "name": "fbp_positions",
         "orientation": "v",
         "showlegend": true,
         "type": "scatter",
         "x": [
          "2022-01-07 02:00:00",
          "2022-01-07 03:00:00",
          "2022-01-07 04:00:00",
          "2022-01-07 05:00:00",
          "2022-01-07 06:00:00",
          "2022-01-07 07:00:00",
          "2022-01-07 08:00:00",
          "2022-01-07 09:00:00",
          "2022-01-07 10:00:00",
          "2022-01-07 11:00:00",
          "2022-01-07 12:00:00",
          "2022-01-07 13:00:00",
          "2022-01-07 14:00:00",
          "2022-01-07 15:00:00",
          "2022-01-07 16:00:00",
          "2022-01-07 17:00:00",
          "2022-01-07 18:00:00",
          "2022-01-07 19:00:00",
          "2022-01-07 20:00:00",
          "2022-01-07 21:00:00",
          "2022-01-07 22:00:00",
          "2022-01-07 23:00:00",
          "2022-01-08 00:00:00",
          "2022-01-08 01:00:00",
          "2022-01-08 02:00:00",
          "2022-01-08 03:00:00",
          "2022-01-08 04:00:00",
          "2022-01-08 05:00:00",
          "2022-01-08 06:00:00",
          "2022-01-08 07:00:00",
          "2022-01-08 08:00:00",
          "2022-01-08 09:00:00",
          "2022-01-08 10:00:00",
          "2022-01-08 11:00:00",
          "2022-01-08 12:00:00",
          "2022-01-08 13:00:00",
          "2022-01-08 14:00:00",
          "2022-01-08 15:00:00",
          "2022-01-08 16:00:00",
          "2022-01-08 17:00:00",
          "2022-01-08 18:00:00",
          "2022-01-08 19:00:00",
          "2022-01-08 20:00:00",
          "2022-01-08 21:00:00",
          "2022-01-08 22:00:00",
          "2022-01-08 23:00:00",
          "2022-01-09 00:00:00",
          "2022-01-09 01:00:00",
          "2022-01-09 02:00:00",
          "2022-01-09 03:00:00",
          "2022-01-09 04:00:00",
          "2022-01-09 05:00:00",
          "2022-01-09 06:00:00",
          "2022-01-09 07:00:00",
          "2022-01-09 08:00:00",
          "2022-01-09 09:00:00",
          "2022-01-09 10:00:00",
          "2022-01-09 11:00:00",
          "2022-01-09 12:00:00",
          "2022-01-09 13:00:00",
          "2022-01-09 14:00:00",
          "2022-01-09 15:00:00",
          "2022-01-09 16:00:00",
          "2022-01-09 17:00:00",
          "2022-01-09 18:00:00",
          "2022-01-09 19:00:00",
          "2022-01-09 20:00:00",
          "2022-01-09 21:00:00",
          "2022-01-09 22:00:00",
          "2022-01-09 23:00:00",
          "2022-01-10 00:00:00",
          "2022-01-10 01:00:00",
          "2022-01-10 02:00:00",
          "2022-01-10 03:00:00",
          "2022-01-10 04:00:00",
          "2022-01-10 05:00:00",
          "2022-01-10 06:00:00",
          "2022-01-10 07:00:00",
          "2022-01-10 08:00:00",
          "2022-01-10 09:00:00",
          "2022-01-10 10:00:00",
          "2022-01-10 11:00:00",
          "2022-01-10 12:00:00",
          "2022-01-10 13:00:00",
          "2022-01-10 14:00:00",
          "2022-01-10 15:00:00",
          "2022-01-10 16:00:00",
          "2022-01-10 17:00:00",
          "2022-01-10 18:00:00",
          "2022-01-10 19:00:00",
          "2022-01-10 20:00:00",
          "2022-01-10 21:00:00",
          "2022-01-10 22:00:00",
          "2022-01-10 23:00:00",
          "2022-01-11 00:00:00",
          "2022-01-11 01:00:00",
          "2022-01-11 02:00:00"
         ],
         "xaxis": "x",
         "y": [
          1.003116814347335,
          0.9995612893253156,
          0.975783243019325,
          0.9715178888515029,
          0.9759018972299144,
          0.9702224438323449,
          0.9732226088670829,
          0.963189476293668,
          0.9562794862520215,
          0.9607639876888627,
          0.960698891458105,
          0.9576325229580676,
          0.9768474488441693,
          0.9859068517315757,
          0.970445096210952,
          0.986999878100133,
          0.9865209847302003,
          0.9805727361362826,
          0.9824121053295215,
          0.9777898106673639,
          0.9794747467788356,
          0.9886746332722505,
          0.9879963893161227,
          0.9775889424051109,
          0.9790317683922402,
          0.9807752516581979,
          0.9810717314169496,
          0.9791300720582619,
          0.9777222391481298,
          0.9788932830666842,
          0.9795551571092875,
          0.9776146714909685,
          0.9810061808001772,
          0.9862502040031549,
          0.9871423880955208,
          0.9851772673947372,
          0.9860717488167722,
          0.9838674319820063,
          0.97905557410575,
          0.9752084953701032,
          0.9632629323172404,
          0.9600287764417774,
          0.9610942697651133,
          0.9635088365964567,
          0.9438025521101864,
          0.9396523729297154,
          0.9455704444075368,
          0.9444870868815035,
          0.9447195496390774,
          0.9373003561533855,
          0.9423961907483877,
          0.9466481955571587,
          0.9403149342540164,
          0.9429681296902839,
          0.9410595273997853,
          0.9390887730922413,
          0.9353763565662302,
          0.9373419241874453,
          0.941657311734462,
          0.9427071528617385,
          0.9473393106560444,
          0.9462397185971465,
          0.9468834516617763,
          0.9372659742040165,
          0.937070320546942,
          0.9375149476946157,
          0.9242379304549082,
          0.9278850899462968,
          0.93012598400419,
          0.9267589266626962,
          0.9202237116750798,
          0.9170672187170659,
          0.9186940108029552,
          0.9215848753026519,
          0.9217218493548629,
          0.9265550523193111,
          0.9297454795233081,
          0.932078583487779,
          0.9298970682746072,
          0.934525761233518,
          0.9339273368010182,
          0.9331812448518063,
          0.9283960436615493,
          0.916385375125422,
          0.9110693175607607,
          0.9096405715415612,
          0.9128321580188775,
          0.8935697193482454,
          0.9069813341720602,
          0.8979677186998245,
          0.903288434076419,
          0.8972926983677255,
          0.8966461004123614,
          0.8973299155883111,
          0.893194122382985,
          0.8955867217335122,
          0.8995259906780507
         ],
         "yaxis": "y"
        }
       ],
       "layout": {
        "autosize": true,
        "legend": {
         "title": {
          "text": "variable"
         },
         "tracegroupgap": 0
        },
        "template": {
         "data": {
          "bar": [
           {
            "error_x": {
             "color": "#2a3f5f"
            },
            "error_y": {
             "color": "#2a3f5f"
            },
            "marker": {
             "line": {
              "color": "#E5ECF6",
              "width": 0.5
             }
            },
            "type": "bar"
           }
          ],
          "barpolar": [
           {
            "marker": {
             "line": {
              "color": "#E5ECF6",
              "width": 0.5
             }
            },
            "type": "barpolar"
           }
          ],
          "carpet": [
           {
            "aaxis": {
             "endlinecolor": "#2a3f5f",
             "gridcolor": "white",
             "linecolor": "white",
             "minorgridcolor": "white",
             "startlinecolor": "#2a3f5f"
            },
            "baxis": {
             "endlinecolor": "#2a3f5f",
             "gridcolor": "white",
             "linecolor": "white",
             "minorgridcolor": "white",
             "startlinecolor": "#2a3f5f"
            },
            "type": "carpet"
           }
          ],
          "choropleth": [
           {
            "colorbar": {
             "outlinewidth": 0,
             "ticks": ""
            },
            "type": "choropleth"
           }
          ],
          "contour": [
           {
            "colorbar": {
             "outlinewidth": 0,
             "ticks": ""
            },
            "colorscale": [
             [
              0,
              "#0d0887"
             ],
             [
              0.1111111111111111,
              "#46039f"
             ],
             [
              0.2222222222222222,
              "#7201a8"
             ],
             [
              0.3333333333333333,
              "#9c179e"
             ],
             [
              0.4444444444444444,
              "#bd3786"
             ],
             [
              0.5555555555555556,
              "#d8576b"
             ],
             [
              0.6666666666666666,
              "#ed7953"
             ],
             [
              0.7777777777777778,
              "#fb9f3a"
             ],
             [
              0.8888888888888888,
              "#fdca26"
             ],
             [
              1,
              "#f0f921"
             ]
            ],
            "type": "contour"
           }
          ],
          "contourcarpet": [
           {
            "colorbar": {
             "outlinewidth": 0,
             "ticks": ""
            },
            "type": "contourcarpet"
           }
          ],
          "heatmap": [
           {
            "colorbar": {
             "outlinewidth": 0,
             "ticks": ""
            },
            "colorscale": [
             [
              0,
              "#0d0887"
             ],
             [
              0.1111111111111111,
              "#46039f"
             ],
             [
              0.2222222222222222,
              "#7201a8"
             ],
             [
              0.3333333333333333,
              "#9c179e"
             ],
             [
              0.4444444444444444,
              "#bd3786"
             ],
             [
              0.5555555555555556,
              "#d8576b"
             ],
             [
              0.6666666666666666,
              "#ed7953"
             ],
             [
              0.7777777777777778,
              "#fb9f3a"
             ],
             [
              0.8888888888888888,
              "#fdca26"
             ],
             [
              1,
              "#f0f921"
             ]
            ],
            "type": "heatmap"
           }
          ],
          "heatmapgl": [
           {
            "colorbar": {
             "outlinewidth": 0,
             "ticks": ""
            },
            "colorscale": [
             [
              0,
              "#0d0887"
             ],
             [
              0.1111111111111111,
              "#46039f"
             ],
             [
              0.2222222222222222,
              "#7201a8"
             ],
             [
              0.3333333333333333,
              "#9c179e"
             ],
             [
              0.4444444444444444,
              "#bd3786"
             ],
             [
              0.5555555555555556,
              "#d8576b"
             ],
             [
              0.6666666666666666,
              "#ed7953"
             ],
             [
              0.7777777777777778,
              "#fb9f3a"
             ],
             [
              0.8888888888888888,
              "#fdca26"
             ],
             [
              1,
              "#f0f921"
             ]
            ],
            "type": "heatmapgl"
           }
          ],
          "histogram": [
           {
            "marker": {
             "colorbar": {
              "outlinewidth": 0,
              "ticks": ""
             }
            },
            "type": "histogram"
           }
          ],
          "histogram2d": [
           {
            "colorbar": {
             "outlinewidth": 0,
             "ticks": ""
            },
            "colorscale": [
             [
              0,
              "#0d0887"
             ],
             [
              0.1111111111111111,
              "#46039f"
             ],
             [
              0.2222222222222222,
              "#7201a8"
             ],
             [
              0.3333333333333333,
              "#9c179e"
             ],
             [
              0.4444444444444444,
              "#bd3786"
             ],
             [
              0.5555555555555556,
              "#d8576b"
             ],
             [
              0.6666666666666666,
              "#ed7953"
             ],
             [
              0.7777777777777778,
              "#fb9f3a"
             ],
             [
              0.8888888888888888,
              "#fdca26"
             ],
             [
              1,
              "#f0f921"
             ]
            ],
            "type": "histogram2d"
           }
          ],
          "histogram2dcontour": [
           {
            "colorbar": {
             "outlinewidth": 0,
             "ticks": ""
            },
            "colorscale": [
             [
              0,
              "#0d0887"
             ],
             [
              0.1111111111111111,
              "#46039f"
             ],
             [
              0.2222222222222222,
              "#7201a8"
             ],
             [
              0.3333333333333333,
              "#9c179e"
             ],
             [
              0.4444444444444444,
              "#bd3786"
             ],
             [
              0.5555555555555556,
              "#d8576b"
             ],
             [
              0.6666666666666666,
              "#ed7953"
             ],
             [
              0.7777777777777778,
              "#fb9f3a"
             ],
             [
              0.8888888888888888,
              "#fdca26"
             ],
             [
              1,
              "#f0f921"
             ]
            ],
            "type": "histogram2dcontour"
           }
          ],
          "mesh3d": [
           {
            "colorbar": {
             "outlinewidth": 0,
             "ticks": ""
            },
            "type": "mesh3d"
           }
          ],
          "parcoords": [
           {
            "line": {
             "colorbar": {
              "outlinewidth": 0,
              "ticks": ""
             }
            },
            "type": "parcoords"
           }
          ],
          "pie": [
           {
            "automargin": true,
            "type": "pie"
           }
          ],
          "scatter": [
           {
            "marker": {
             "colorbar": {
              "outlinewidth": 0,
              "ticks": ""
             }
            },
            "type": "scatter"
           }
          ],
          "scatter3d": [
           {
            "line": {
             "colorbar": {
              "outlinewidth": 0,
              "ticks": ""
             }
            },
            "marker": {
             "colorbar": {
              "outlinewidth": 0,
              "ticks": ""
             }
            },
            "type": "scatter3d"
           }
          ],
          "scattercarpet": [
           {
            "marker": {
             "colorbar": {
              "outlinewidth": 0,
              "ticks": ""
             }
            },
            "type": "scattercarpet"
           }
          ],
          "scattergeo": [
           {
            "marker": {
             "colorbar": {
              "outlinewidth": 0,
              "ticks": ""
             }
            },
            "type": "scattergeo"
           }
          ],
          "scattergl": [
           {
            "marker": {
             "colorbar": {
              "outlinewidth": 0,
              "ticks": ""
             }
            },
            "type": "scattergl"
           }
          ],
          "scattermapbox": [
           {
            "marker": {
             "colorbar": {
              "outlinewidth": 0,
              "ticks": ""
             }
            },
            "type": "scattermapbox"
           }
          ],
          "scatterpolar": [
           {
            "marker": {
             "colorbar": {
              "outlinewidth": 0,
              "ticks": ""
             }
            },
            "type": "scatterpolar"
           }
          ],
          "scatterpolargl": [
           {
            "marker": {
             "colorbar": {
              "outlinewidth": 0,
              "ticks": ""
             }
            },
            "type": "scatterpolargl"
           }
          ],
          "scatterternary": [
           {
            "marker": {
             "colorbar": {
              "outlinewidth": 0,
              "ticks": ""
             }
            },
            "type": "scatterternary"
           }
          ],
          "surface": [
           {
            "colorbar": {
             "outlinewidth": 0,
             "ticks": ""
            },
            "colorscale": [
             [
              0,
              "#0d0887"
             ],
             [
              0.1111111111111111,
              "#46039f"
             ],
             [
              0.2222222222222222,
              "#7201a8"
             ],
             [
              0.3333333333333333,
              "#9c179e"
             ],
             [
              0.4444444444444444,
              "#bd3786"
             ],
             [
              0.5555555555555556,
              "#d8576b"
             ],
             [
              0.6666666666666666,
              "#ed7953"
             ],
             [
              0.7777777777777778,
              "#fb9f3a"
             ],
             [
              0.8888888888888888,
              "#fdca26"
             ],
             [
              1,
              "#f0f921"
             ]
            ],
            "type": "surface"
           }
          ],
          "table": [
           {
            "cells": {
             "fill": {
              "color": "#EBF0F8"
             },
             "line": {
              "color": "white"
             }
            },
            "header": {
             "fill": {
              "color": "#C8D4E3"
             },
             "line": {
              "color": "white"
             }
            },
            "type": "table"
           }
          ]
         },
         "layout": {
          "annotationdefaults": {
           "arrowcolor": "#2a3f5f",
           "arrowhead": 0,
           "arrowwidth": 1
          },
          "autotypenumbers": "strict",
          "coloraxis": {
           "colorbar": {
            "outlinewidth": 0,
            "ticks": ""
           }
          },
          "colorscale": {
           "diverging": [
            [
             0,
             "#8e0152"
            ],
            [
             0.1,
             "#c51b7d"
            ],
            [
             0.2,
             "#de77ae"
            ],
            [
             0.3,
             "#f1b6da"
            ],
            [
             0.4,
             "#fde0ef"
            ],
            [
             0.5,
             "#f7f7f7"
            ],
            [
             0.6,
             "#e6f5d0"
            ],
            [
             0.7,
             "#b8e186"
            ],
            [
             0.8,
             "#7fbc41"
            ],
            [
             0.9,
             "#4d9221"
            ],
            [
             1,
             "#276419"
            ]
           ],
           "sequential": [
            [
             0,
             "#0d0887"
            ],
            [
             0.1111111111111111,
             "#46039f"
            ],
            [
             0.2222222222222222,
             "#7201a8"
            ],
            [
             0.3333333333333333,
             "#9c179e"
            ],
            [
             0.4444444444444444,
             "#bd3786"
            ],
            [
             0.5555555555555556,
             "#d8576b"
            ],
            [
             0.6666666666666666,
             "#ed7953"
            ],
            [
             0.7777777777777778,
             "#fb9f3a"
            ],
            [
             0.8888888888888888,
             "#fdca26"
            ],
            [
             1,
             "#f0f921"
            ]
           ],
           "sequentialminus": [
            [
             0,
             "#0d0887"
            ],
            [
             0.1111111111111111,
             "#46039f"
            ],
            [
             0.2222222222222222,
             "#7201a8"
            ],
            [
             0.3333333333333333,
             "#9c179e"
            ],
            [
             0.4444444444444444,
             "#bd3786"
            ],
            [
             0.5555555555555556,
             "#d8576b"
            ],
            [
             0.6666666666666666,
             "#ed7953"
            ],
            [
             0.7777777777777778,
             "#fb9f3a"
            ],
            [
             0.8888888888888888,
             "#fdca26"
            ],
            [
             1,
             "#f0f921"
            ]
           ]
          },
          "colorway": [
           "#636efa",
           "#EF553B",
           "#00cc96",
           "#ab63fa",
           "#FFA15A",
           "#19d3f3",
           "#FF6692",
           "#B6E880",
           "#FF97FF",
           "#FECB52"
          ],
          "font": {
           "color": "#2a3f5f"
          },
          "geo": {
           "bgcolor": "white",
           "lakecolor": "white",
           "landcolor": "#E5ECF6",
           "showlakes": true,
           "showland": true,
           "subunitcolor": "white"
          },
          "hoverlabel": {
           "align": "left"
          },
          "hovermode": "closest",
          "mapbox": {
           "style": "light"
          },
          "paper_bgcolor": "white",
          "plot_bgcolor": "#E5ECF6",
          "polar": {
           "angularaxis": {
            "gridcolor": "white",
            "linecolor": "white",
            "ticks": ""
           },
           "bgcolor": "#E5ECF6",
           "radialaxis": {
            "gridcolor": "white",
            "linecolor": "white",
            "ticks": ""
           }
          },
          "scene": {
           "xaxis": {
            "backgroundcolor": "#E5ECF6",
            "gridcolor": "white",
            "gridwidth": 2,
            "linecolor": "white",
            "showbackground": true,
            "ticks": "",
            "zerolinecolor": "white"
           },
           "yaxis": {
            "backgroundcolor": "#E5ECF6",
            "gridcolor": "white",
            "gridwidth": 2,
            "linecolor": "white",
            "showbackground": true,
            "ticks": "",
            "zerolinecolor": "white"
           },
           "zaxis": {
            "backgroundcolor": "#E5ECF6",
            "gridcolor": "white",
            "gridwidth": 2,
            "linecolor": "white",
            "showbackground": true,
            "ticks": "",
            "zerolinecolor": "white"
           }
          },
          "shapedefaults": {
           "line": {
            "color": "#2a3f5f"
           }
          },
          "ternary": {
           "aaxis": {
            "gridcolor": "white",
            "linecolor": "white",
            "ticks": ""
           },
           "baxis": {
            "gridcolor": "white",
            "linecolor": "white",
            "ticks": ""
           },
           "bgcolor": "#E5ECF6",
           "caxis": {
            "gridcolor": "white",
            "linecolor": "white",
            "ticks": ""
           }
          },
          "title": {
           "x": 0.05
          },
          "xaxis": {
           "automargin": true,
           "gridcolor": "white",
           "linecolor": "white",
           "ticks": "",
           "title": {
            "standoff": 15
           },
           "zerolinecolor": "white",
           "zerolinewidth": 2
          },
          "yaxis": {
           "automargin": true,
           "gridcolor": "white",
           "linecolor": "white",
           "ticks": "",
           "title": {
            "standoff": 15
           },
           "zerolinecolor": "white",
           "zerolinewidth": 2
          }
         }
        },
        "title": {
         "text": "FBProphet, Buy&Hold, Random Positions"
        },
        "xaxis": {
         "anchor": "y",
         "autorange": true,
         "domain": [
          0,
          1
         ],
         "range": [
          "2022-01-07 02:00",
          "2022-01-11 02:00"
         ],
         "title": {
          "text": "ds"
         },
         "type": "date"
        },
        "yaxis": {
         "anchor": "x",
         "autorange": true,
         "domain": [
          0,
          1
         ],
         "range": [
          0.8844335089009455,
          1.0596457785417353
         ],
         "title": {
          "text": "Portfolio Balance"
         },
         "type": "linear"
        }
       }
      },
      "image/png": "[encoded data removed]",
      "text/html": [
       "<div>                            <div id=\"18b169cf-5b41-49ec-8edc-aafa7c91dfa5\" class=\"plotly-graph-div\" style=\"height:525px; width:100%;\"></div>            <script type=\"text/javascript\">                require([\"plotly\"], function(Plotly) {                    window.PLOTLYENV=window.PLOTLYENV || {};                                    if (document.getElementById(\"18b169cf-5b41-49ec-8edc-aafa7c91dfa5\")) {                    Plotly.newPlot(                        \"18b169cf-5b41-49ec-8edc-aafa7c91dfa5\",                        [{\"hovertemplate\": \"variable=buy_hold<br>ds=%{x}<br>Portfolio Balance=%{y}<extra></extra>\", \"legendgroup\": \"buy_hold\", \"line\": {\"color\": \"#636efa\", \"dash\": \"solid\"}, \"mode\": \"lines\", \"name\": \"buy_hold\", \"orientation\": \"v\", \"showlegend\": true, \"type\": \"scatter\", \"x\": [\"2022-01-07 02:00:00\", \"2022-01-07 03:00:00\", \"2022-01-07 04:00:00\", \"2022-01-07 05:00:00\", \"2022-01-07 06:00:00\", \"2022-01-07 07:00:00\", \"2022-01-07 08:00:00\", \"2022-01-07 09:00:00\", \"2022-01-07 10:00:00\", \"2022-01-07 11:00:00\", \"2022-01-07 12:00:00\", \"2022-01-07 13:00:00\", \"2022-01-07 14:00:00\", \"2022-01-07 15:00:00\", \"2022-01-07 16:00:00\", \"2022-01-07 17:00:00\", \"2022-01-07 18:00:00\", \"2022-01-07 19:00:00\", \"2022-01-07 20:00:00\", \"2022-01-07 21:00:00\", \"2022-01-07 22:00:00\", \"2022-01-07 23:00:00\", \"2022-01-08 00:00:00\", \"2022-01-08 01:00:00\", \"2022-01-08 02:00:00\", \"2022-01-08 03:00:00\", \"2022-01-08 04:00:00\", \"2022-01-08 05:00:00\", \"2022-01-08 06:00:00\", \"2022-01-08 07:00:00\", \"2022-01-08 08:00:00\", \"2022-01-08 09:00:00\", \"2022-01-08 10:00:00\", \"2022-01-08 11:00:00\", \"2022-01-08 12:00:00\", \"2022-01-08 13:00:00\", \"2022-01-08 14:00:00\", \"2022-01-08 15:00:00\", \"2022-01-08 16:00:00\", \"2022-01-08 17:00:00\", \"2022-01-08 18:00:00\", \"2022-01-08 19:00:00\", \"2022-01-08 20:00:00\", \"2022-01-08 21:00:00\", \"2022-01-08 22:00:00\", \"2022-01-08 23:00:00\", \"2022-01-09 00:00:00\", \"2022-01-09 01:00:00\", \"2022-01-09 02:00:00\", \"2022-01-09 03:00:00\", \"2022-01-09 04:00:00\", \"2022-01-09 05:00:00\", \"2022-01-09 06:00:00\", \"2022-01-09 07:00:00\", \"2022-01-09 08:00:00\", \"2022-01-09 09:00:00\", \"2022-01-09 10:00:00\", \"2022-01-09 11:00:00\", \"2022-01-09 12:00:00\", \"2022-01-09 13:00:00\", \"2022-01-09 14:00:00\", \"2022-01-09 15:00:00\", \"2022-01-09 16:00:00\", \"2022-01-09 17:00:00\", \"2022-01-09 18:00:00\", \"2022-01-09 19:00:00\", \"2022-01-09 20:00:00\", \"2022-01-09 21:00:00\", \"2022-01-09 22:00:00\", \"2022-01-09 23:00:00\", \"2022-01-10 00:00:00\", \"2022-01-10 01:00:00\", \"2022-01-10 02:00:00\", \"2022-01-10 03:00:00\", \"2022-01-10 04:00:00\", \"2022-01-10 05:00:00\", \"2022-01-10 06:00:00\", \"2022-01-10 07:00:00\", \"2022-01-10 08:00:00\", \"2022-01-10 09:00:00\", \"2022-01-10 10:00:00\", \"2022-01-10 11:00:00\", \"2022-01-10 12:00:00\", \"2022-01-10 13:00:00\", \"2022-01-10 14:00:00\", \"2022-01-10 15:00:00\", \"2022-01-10 16:00:00\", \"2022-01-10 17:00:00\", \"2022-01-10 18:00:00\", \"2022-01-10 19:00:00\", \"2022-01-10 20:00:00\", \"2022-01-10 21:00:00\", \"2022-01-10 22:00:00\", \"2022-01-10 23:00:00\", \"2022-01-11 00:00:00\", \"2022-01-11 01:00:00\", \"2022-01-11 02:00:00\"], \"xaxis\": \"x\", \"y\": [1.003116814347335, 0.9995612893253156, 0.975783243019325, 0.9715178888515029, 0.9759018972299144, 0.9702224438323449, 0.9732226088670829, 0.9833602522887922, 0.9904659255238195, 0.9858427861024112, 0.9859095860644654, 0.9890664985816539, 0.9696112197772103, 0.9786035129899375, 0.9632562940889845, 0.9796884425065365, 0.9792130966527771, 0.9733089111205212, 0.9751346547503862, 0.9797443977241457, 0.9780589977471005, 0.9689578926308952, 0.9696230669589858, 0.9799457088745551, 0.9785015359882534, 0.9767620946118268, 0.9764669172247972, 0.9784032954266155, 0.979812108997107, 0.9786399658928329, 0.9779787102343049, 0.979919918439924, 0.9833194250375485, 0.9780909851752242, 0.9789757882549273, 0.9770269249396994, 0.9779140063433313, 0.9757279257566775, 0.9709558762386065, 0.9671406242717908, 0.9552938865094835, 0.9520864867101203, 0.9531431652386408, 0.955537756429856, 0.9754890680929558, 0.9797975278359496, 0.9736652382346613, 0.9747820640529595, 0.9745422039519064, 0.9822561849865074, 0.9769448147817592, 0.9813526997999034, 0.9747872585857901, 0.9775377212356929, 0.9755591488162708, 0.9735161458618181, 0.9696676306502737, 0.9717052567723871, 0.9761788481654973, 0.9750917314513932, 0.9703238740288209, 0.9714514534418083, 0.9707910179677638, 0.9807525027420616, 0.9809572769299096, 0.980492046762536, 0.9945771750388175, 0.9906678746058607, 0.988281120777102, 0.9847035417604972, 0.977759719414328, 0.9744058700950761, 0.9761343756239645, 0.979205988348378, 0.9793515265573567, 0.9844869203908727, 0.9811086476033517, 0.9786528155352714, 0.9809487105093948, 0.9760900853352804, 0.9767155260225465, 0.9759352516243993, 0.9709308148620333, 0.9583698735822456, 0.9528102590854483, 0.9513160545957553, 0.954653864661061, 0.9752330775882047, 0.9608122180762544, 0.970456653721786, 0.9647402917658672, 0.97118671424036, 0.9718870656314114, 0.9711464337709965, 0.9756431727457796, 0.9730366990623162, 0.977316634391296], \"yaxis\": \"y\"}, {\"hovertemplate\": \"variable=random_positions<br>ds=%{x}<br>Portfolio Balance=%{y}<extra></extra>\", \"legendgroup\": \"random_positions\", \"line\": {\"color\": \"#EF553B\", \"dash\": \"solid\"}, \"mode\": \"lines\", \"name\": \"random_positions\", \"orientation\": \"v\", \"showlegend\": true, \"type\": \"scatter\", \"x\": [\"2022-01-07 02:00:00\", \"2022-01-07 03:00:00\", \"2022-01-07 04:00:00\", \"2022-01-07 05:00:00\", \"2022-01-07 06:00:00\", \"2022-01-07 07:00:00\", \"2022-01-07 08:00:00\", \"2022-01-07 09:00:00\", \"2022-01-07 10:00:00\", \"2022-01-07 11:00:00\", \"2022-01-07 12:00:00\", \"2022-01-07 13:00:00\", \"2022-01-07 14:00:00\", \"2022-01-07 15:00:00\", \"2022-01-07 16:00:00\", \"2022-01-07 17:00:00\", \"2022-01-07 18:00:00\", \"2022-01-07 19:00:00\", \"2022-01-07 20:00:00\", \"2022-01-07 21:00:00\", \"2022-01-07 22:00:00\", \"2022-01-07 23:00:00\", \"2022-01-08 00:00:00\", \"2022-01-08 01:00:00\", \"2022-01-08 02:00:00\", \"2022-01-08 03:00:00\", \"2022-01-08 04:00:00\", \"2022-01-08 05:00:00\", \"2022-01-08 06:00:00\", \"2022-01-08 07:00:00\", \"2022-01-08 08:00:00\", \"2022-01-08 09:00:00\", \"2022-01-08 10:00:00\", \"2022-01-08 11:00:00\", \"2022-01-08 12:00:00\", \"2022-01-08 13:00:00\", \"2022-01-08 14:00:00\", \"2022-01-08 15:00:00\", \"2022-01-08 16:00:00\", \"2022-01-08 17:00:00\", \"2022-01-08 18:00:00\", \"2022-01-08 19:00:00\", \"2022-01-08 20:00:00\", \"2022-01-08 21:00:00\", \"2022-01-08 22:00:00\", \"2022-01-08 23:00:00\", \"2022-01-09 00:00:00\", \"2022-01-09 01:00:00\", \"2022-01-09 02:00:00\", \"2022-01-09 03:00:00\", \"2022-01-09 04:00:00\", \"2022-01-09 05:00:00\", \"2022-01-09 06:00:00\", \"2022-01-09 07:00:00\", \"2022-01-09 08:00:00\", \"2022-01-09 09:00:00\", \"2022-01-09 10:00:00\", \"2022-01-09 11:00:00\", \"2022-01-09 12:00:00\", \"2022-01-09 13:00:00\", \"2022-01-09 14:00:00\", \"2022-01-09 15:00:00\", \"2022-01-09 16:00:00\", \"2022-01-09 17:00:00\", \"2022-01-09 18:00:00\", \"2022-01-09 19:00:00\", \"2022-01-09 20:00:00\", \"2022-01-09 21:00:00\", \"2022-01-09 22:00:00\", \"2022-01-09 23:00:00\", \"2022-01-10 00:00:00\", \"2022-01-10 01:00:00\", \"2022-01-10 02:00:00\", \"2022-01-10 03:00:00\", \"2022-01-10 04:00:00\", \"2022-01-10 05:00:00\", \"2022-01-10 06:00:00\", \"2022-01-10 07:00:00\", \"2022-01-10 08:00:00\", \"2022-01-10 09:00:00\", \"2022-01-10 10:00:00\", \"2022-01-10 11:00:00\", \"2022-01-10 12:00:00\", \"2022-01-10 13:00:00\", \"2022-01-10 14:00:00\", \"2022-01-10 15:00:00\", \"2022-01-10 16:00:00\", \"2022-01-10 17:00:00\", \"2022-01-10 18:00:00\", \"2022-01-10 19:00:00\", \"2022-01-10 20:00:00\", \"2022-01-10 21:00:00\", \"2022-01-10 22:00:00\", \"2022-01-10 23:00:00\", \"2022-01-11 00:00:00\", \"2022-01-11 01:00:00\", \"2022-01-11 02:00:00\"], \"xaxis\": \"x\", \"y\": [1.003116814347335, 0.9995612893253156, 0.9995612893253156, 0.9951919963066889, 0.9996828349211937, 1.005534742501128, 1.0086441017978993, 1.0086441017978993, 1.0086441017978993, 1.0086441017978993, 1.0085757614666166, 1.0118052517676661, 1.0118052517676661, 1.0025078709823942, 1.0025078709823942, 1.0025078709823942, 1.0029945249716656, 1.0090787862946735, 1.0071894891015787, 1.0119507645295542, 1.0119507645295542, 1.02145568765413, 1.020754955458432, 1.0100024333612216, 1.0100024333612216, 1.0082069941531413, 1.008511766287117, 1.008511766287117, 1.008511766287117, 1.0073052899621378, 1.0079863746482176, 1.0079863746482176, 1.0114832484911205, 1.0061050578423572, 1.0070152030815798, 1.005010521238875, 1.0059230100568266, 1.003674316664883, 0.998765588101614, 0.9948410612846446, 1.0071782292856644, 1.010571222774834, 1.010571222774834, 1.0131100910544448, 1.0131100910544448, 1.0131100910544448, 1.0194908102507032, 1.0183227607959648, 1.0180721868376241, 1.026130729104212, 1.026130729104212, 1.026130729104212, 1.026130729104212, 1.026130729104212, 1.026130729104212, 1.0282841480486495, 1.0282841480486495, 1.0282841480486495, 1.0330182205282632, 1.0341699187093552, 1.0341699187093552, 1.0353716913762747, 1.0353716913762747, 1.0248554405275159, 1.0250694230969295, 1.0255558046242979, 1.0255558046242979, 1.0255558046242979, 1.0230849974990879, 1.0268020222319452, 1.0340941316178143, 1.0340941316178143, 1.0322629929257157, 1.0290249488555812, 1.0291778915967744, 1.0345745583244772, 1.0381369314475628, 1.0381369314475628, 1.0381369314475628, 1.0433044034924985, 1.0426363225561737, 1.0426363225561737, 1.0372898535832644, 1.0508851650596958, 1.0447888586552627, 1.0447888586552627, 1.0447888586552627, 1.0447888586552627, 1.029339471532772, 1.029339471532772, 1.0354386020915518, 1.0285656964209864, 1.0285656964209864, 1.0285656964209864, 1.0285656964209864, 1.0313209156455214, 1.026804480882149], \"yaxis\": \"y\"}, {\"hovertemplate\": \"variable=fbp_positions<br>ds=%{x}<br>Portfolio Balance=%{y}<extra></extra>\", \"legendgroup\": \"fbp_positions\", \"line\": {\"color\": \"#00cc96\", \"dash\": \"solid\"}, \"mode\": \"lines\", \"name\": \"fbp_positions\", \"orientation\": \"v\", \"showlegend\": true, \"type\": \"scatter\", \"x\": [\"2022-01-07 02:00:00\", \"2022-01-07 03:00:00\", \"2022-01-07 04:00:00\", \"2022-01-07 05:00:00\", \"2022-01-07 06:00:00\", \"2022-01-07 07:00:00\", \"2022-01-07 08:00:00\", \"2022-01-07 09:00:00\", \"2022-01-07 10:00:00\", \"2022-01-07 11:00:00\", \"2022-01-07 12:00:00\", \"2022-01-07 13:00:00\", \"2022-01-07 14:00:00\", \"2022-01-07 15:00:00\", \"2022-01-07 16:00:00\", \"2022-01-07 17:00:00\", \"2022-01-07 18:00:00\", \"2022-01-07 19:00:00\", \"2022-01-07 20:00:00\", \"2022-01-07 21:00:00\", \"2022-01-07 22:00:00\", \"2022-01-07 23:00:00\", \"2022-01-08 00:00:00\", \"2022-01-08 01:00:00\", \"2022-01-08 02:00:00\", \"2022-01-08 03:00:00\", \"2022-01-08 04:00:00\", \"2022-01-08 05:00:00\", \"2022-01-08 06:00:00\", \"2022-01-08 07:00:00\", \"2022-01-08 08:00:00\", \"2022-01-08 09:00:00\", \"2022-01-08 10:00:00\", \"2022-01-08 11:00:00\", \"2022-01-08 12:00:00\", \"2022-01-08 13:00:00\", \"2022-01-08 14:00:00\", \"2022-01-08 15:00:00\", \"2022-01-08 16:00:00\", \"2022-01-08 17:00:00\", \"2022-01-08 18:00:00\", \"2022-01-08 19:00:00\", \"2022-01-08 20:00:00\", \"2022-01-08 21:00:00\", \"2022-01-08 22:00:00\", \"2022-01-08 23:00:00\", \"2022-01-09 00:00:00\", \"2022-01-09 01:00:00\", \"2022-01-09 02:00:00\", \"2022-01-09 03:00:00\", \"2022-01-09 04:00:00\", \"2022-01-09 05:00:00\", \"2022-01-09 06:00:00\", \"2022-01-09 07:00:00\", \"2022-01-09 08:00:00\", \"2022-01-09 09:00:00\", \"2022-01-09 10:00:00\", \"2022-01-09 11:00:00\", \"2022-01-09 12:00:00\", \"2022-01-09 13:00:00\", \"2022-01-09 14:00:00\", \"2022-01-09 15:00:00\", \"2022-01-09 16:00:00\", \"2022-01-09 17:00:00\", \"2022-01-09 18:00:00\", \"2022-01-09 19:00:00\", \"2022-01-09 20:00:00\", \"2022-01-09 21:00:00\", \"2022-01-09 22:00:00\", \"2022-01-09 23:00:00\", \"2022-01-10 00:00:00\", \"2022-01-10 01:00:00\", \"2022-01-10 02:00:00\", \"2022-01-10 03:00:00\", \"2022-01-10 04:00:00\", \"2022-01-10 05:00:00\", \"2022-01-10 06:00:00\", \"2022-01-10 07:00:00\", \"2022-01-10 08:00:00\", \"2022-01-10 09:00:00\", \"2022-01-10 10:00:00\", \"2022-01-10 11:00:00\", \"2022-01-10 12:00:00\", \"2022-01-10 13:00:00\", \"2022-01-10 14:00:00\", \"2022-01-10 15:00:00\", \"2022-01-10 16:00:00\", \"2022-01-10 17:00:00\", \"2022-01-10 18:00:00\", \"2022-01-10 19:00:00\", \"2022-01-10 20:00:00\", \"2022-01-10 21:00:00\", \"2022-01-10 22:00:00\", \"2022-01-10 23:00:00\", \"2022-01-11 00:00:00\", \"2022-01-11 01:00:00\", \"2022-01-11 02:00:00\"], \"xaxis\": \"x\", \"y\": [1.003116814347335, 0.9995612893253156, 0.975783243019325, 0.9715178888515029, 0.9759018972299144, 0.9702224438323449, 0.9732226088670829, 0.963189476293668, 0.9562794862520215, 0.9607639876888627, 0.960698891458105, 0.9576325229580676, 0.9768474488441693, 0.9859068517315757, 0.970445096210952, 0.986999878100133, 0.9865209847302003, 0.9805727361362826, 0.9824121053295215, 0.9777898106673639, 0.9794747467788356, 0.9886746332722505, 0.9879963893161227, 0.9775889424051109, 0.9790317683922402, 0.9807752516581979, 0.9810717314169496, 0.9791300720582619, 0.9777222391481298, 0.9788932830666842, 0.9795551571092875, 0.9776146714909685, 0.9810061808001772, 0.9862502040031549, 0.9871423880955208, 0.9851772673947372, 0.9860717488167722, 0.9838674319820063, 0.97905557410575, 0.9752084953701032, 0.9632629323172404, 0.9600287764417774, 0.9610942697651133, 0.9635088365964567, 0.9438025521101864, 0.9396523729297154, 0.9455704444075368, 0.9444870868815035, 0.9447195496390774, 0.9373003561533855, 0.9423961907483877, 0.9466481955571587, 0.9403149342540164, 0.9429681296902839, 0.9410595273997853, 0.9390887730922413, 0.9353763565662302, 0.9373419241874453, 0.941657311734462, 0.9427071528617385, 0.9473393106560444, 0.9462397185971465, 0.9468834516617763, 0.9372659742040165, 0.937070320546942, 0.9375149476946157, 0.9242379304549082, 0.9278850899462968, 0.93012598400419, 0.9267589266626962, 0.9202237116750798, 0.9170672187170659, 0.9186940108029552, 0.9215848753026519, 0.9217218493548629, 0.9265550523193111, 0.9297454795233081, 0.932078583487779, 0.9298970682746072, 0.934525761233518, 0.9339273368010182, 0.9331812448518063, 0.9283960436615493, 0.916385375125422, 0.9110693175607607, 0.9096405715415612, 0.9128321580188775, 0.8935697193482454, 0.9069813341720602, 0.8979677186998245, 0.903288434076419, 0.8972926983677255, 0.8966461004123614, 0.8973299155883111, 0.893194122382985, 0.8955867217335122, 0.8995259906780507], \"yaxis\": \"y\"}],                        {\"legend\": {\"title\": {\"text\": \"variable\"}, \"tracegroupgap\": 0}, \"template\": {\"data\": {\"bar\": [{\"error_x\": {\"color\": \"#2a3f5f\"}, \"error_y\": {\"color\": \"#2a3f5f\"}, \"marker\": {\"line\": {\"color\": \"#E5ECF6\", \"width\": 0.5}}, \"type\": \"bar\"}], \"barpolar\": [{\"marker\": {\"line\": {\"color\": \"#E5ECF6\", \"width\": 0.5}}, \"type\": \"barpolar\"}], \"carpet\": [{\"aaxis\": {\"endlinecolor\": \"#2a3f5f\", \"gridcolor\": \"white\", \"linecolor\": \"white\", \"minorgridcolor\": \"white\", \"startlinecolor\": \"#2a3f5f\"}, \"baxis\": {\"endlinecolor\": \"#2a3f5f\", \"gridcolor\": \"white\", \"linecolor\": \"white\", \"minorgridcolor\": \"white\", \"startlinecolor\": \"#2a3f5f\"}, \"type\": \"carpet\"}], \"choropleth\": [{\"colorbar\": {\"outlinewidth\": 0, \"ticks\": \"\"}, \"type\": \"choropleth\"}], \"contour\": [{\"colorbar\": {\"outlinewidth\": 0, \"ticks\": \"\"}, \"colorscale\": [[0.0, \"#0d0887\"], [0.1111111111111111, \"#46039f\"], [0.2222222222222222, \"#7201a8\"], [0.3333333333333333, \"#9c179e\"], [0.4444444444444444, \"#bd3786\"], [0.5555555555555556, \"#d8576b\"], [0.6666666666666666, \"#ed7953\"], [0.7777777777777778, \"#fb9f3a\"], [0.8888888888888888, \"#fdca26\"], [1.0, \"#f0f921\"]], \"type\": \"contour\"}], \"contourcarpet\": [{\"colorbar\": {\"outlinewidth\": 0, \"ticks\": \"\"}, \"type\": \"contourcarpet\"}], \"heatmap\": [{\"colorbar\": {\"outlinewidth\": 0, \"ticks\": \"\"}, \"colorscale\": [[0.0, \"#0d0887\"], [0.1111111111111111, \"#46039f\"], [0.2222222222222222, \"#7201a8\"], [0.3333333333333333, \"#9c179e\"], [0.4444444444444444, \"#bd3786\"], [0.5555555555555556, \"#d8576b\"], [0.6666666666666666, \"#ed7953\"], [0.7777777777777778, \"#fb9f3a\"], [0.8888888888888888, \"#fdca26\"], [1.0, \"#f0f921\"]], \"type\": \"heatmap\"}], \"heatmapgl\": [{\"colorbar\": {\"outlinewidth\": 0, \"ticks\": \"\"}, \"colorscale\": [[0.0, \"#0d0887\"], [0.1111111111111111, \"#46039f\"], [0.2222222222222222, \"#7201a8\"], [0.3333333333333333, \"#9c179e\"], [0.4444444444444444, \"#bd3786\"], [0.5555555555555556, \"#d8576b\"], [0.6666666666666666, \"#ed7953\"], [0.7777777777777778, \"#fb9f3a\"], [0.8888888888888888, \"#fdca26\"], [1.0, \"#f0f921\"]], \"type\": \"heatmapgl\"}], \"histogram\": [{\"marker\": {\"colorbar\": {\"outlinewidth\": 0, \"ticks\": \"\"}}, \"type\": \"histogram\"}], \"histogram2d\": [{\"colorbar\": {\"outlinewidth\": 0, \"ticks\": \"\"}, \"colorscale\": [[0.0, \"#0d0887\"], [0.1111111111111111, \"#46039f\"], [0.2222222222222222, \"#7201a8\"], [0.3333333333333333, \"#9c179e\"], [0.4444444444444444, \"#bd3786\"], [0.5555555555555556, \"#d8576b\"], [0.6666666666666666, \"#ed7953\"], [0.7777777777777778, \"#fb9f3a\"], [0.8888888888888888, \"#fdca26\"], [1.0, \"#f0f921\"]], \"type\": \"histogram2d\"}], \"histogram2dcontour\": [{\"colorbar\": {\"outlinewidth\": 0, \"ticks\": \"\"}, \"colorscale\": [[0.0, \"#0d0887\"], [0.1111111111111111, \"#46039f\"], [0.2222222222222222, \"#7201a8\"], [0.3333333333333333, \"#9c179e\"], [0.4444444444444444, \"#bd3786\"], [0.5555555555555556, \"#d8576b\"], [0.6666666666666666, \"#ed7953\"], [0.7777777777777778, \"#fb9f3a\"], [0.8888888888888888, \"#fdca26\"], [1.0, \"#f0f921\"]], \"type\": \"histogram2dcontour\"}], \"mesh3d\": [{\"colorbar\": {\"outlinewidth\": 0, \"ticks\": \"\"}, \"type\": \"mesh3d\"}], \"parcoords\": [{\"line\": {\"colorbar\": {\"outlinewidth\": 0, \"ticks\": \"\"}}, \"type\": \"parcoords\"}], \"pie\": [{\"automargin\": true, \"type\": \"pie\"}], \"scatter\": [{\"marker\": {\"colorbar\": {\"outlinewidth\": 0, \"ticks\": \"\"}}, \"type\": \"scatter\"}], \"scatter3d\": [{\"line\": {\"colorbar\": {\"outlinewidth\": 0, \"ticks\": \"\"}}, \"marker\": {\"colorbar\": {\"outlinewidth\": 0, \"ticks\": \"\"}}, \"type\": \"scatter3d\"}], \"scattercarpet\": [{\"marker\": {\"colorbar\": {\"outlinewidth\": 0, \"ticks\": \"\"}}, \"type\": \"scattercarpet\"}], \"scattergeo\": [{\"marker\": {\"colorbar\": {\"outlinewidth\": 0, \"ticks\": \"\"}}, \"type\": \"scattergeo\"}], \"scattergl\": [{\"marker\": {\"colorbar\": {\"outlinewidth\": 0, \"ticks\": \"\"}}, \"type\": \"scattergl\"}], \"scattermapbox\": [{\"marker\": {\"colorbar\": {\"outlinewidth\": 0, \"ticks\": \"\"}}, \"type\": \"scattermapbox\"}], \"scatterpolar\": [{\"marker\": {\"colorbar\": {\"outlinewidth\": 0, \"ticks\": \"\"}}, \"type\": \"scatterpolar\"}], \"scatterpolargl\": [{\"marker\": {\"colorbar\": {\"outlinewidth\": 0, \"ticks\": \"\"}}, \"type\": \"scatterpolargl\"}], \"scatterternary\": [{\"marker\": {\"colorbar\": {\"outlinewidth\": 0, \"ticks\": \"\"}}, \"type\": \"scatterternary\"}], \"surface\": [{\"colorbar\": {\"outlinewidth\": 0, \"ticks\": \"\"}, \"colorscale\": [[0.0, \"#0d0887\"], [0.1111111111111111, \"#46039f\"], [0.2222222222222222, \"#7201a8\"], [0.3333333333333333, \"#9c179e\"], [0.4444444444444444, \"#bd3786\"], [0.5555555555555556, \"#d8576b\"], [0.6666666666666666, \"#ed7953\"], [0.7777777777777778, \"#fb9f3a\"], [0.8888888888888888, \"#fdca26\"], [1.0, \"#f0f921\"]], \"type\": \"surface\"}], \"table\": [{\"cells\": {\"fill\": {\"color\": \"#EBF0F8\"}, \"line\": {\"color\": \"white\"}}, \"header\": {\"fill\": {\"color\": \"#C8D4E3\"}, \"line\": {\"color\": \"white\"}}, \"type\": \"table\"}]}, \"layout\": {\"annotationdefaults\": {\"arrowcolor\": \"#2a3f5f\", \"arrowhead\": 0, \"arrowwidth\": 1}, \"autotypenumbers\": \"strict\", \"coloraxis\": {\"colorbar\": {\"outlinewidth\": 0, \"ticks\": \"\"}}, \"colorscale\": {\"diverging\": [[0, \"#8e0152\"], [0.1, \"#c51b7d\"], [0.2, \"#de77ae\"], [0.3, \"#f1b6da\"], [0.4, \"#fde0ef\"], [0.5, \"#f7f7f7\"], [0.6, \"#e6f5d0\"], [0.7, \"#b8e186\"], [0.8, \"#7fbc41\"], [0.9, \"#4d9221\"], [1, \"#276419\"]], \"sequential\": [[0.0, \"#0d0887\"], [0.1111111111111111, \"#46039f\"], [0.2222222222222222, \"#7201a8\"], [0.3333333333333333, \"#9c179e\"], [0.4444444444444444, \"#bd3786\"], [0.5555555555555556, \"#d8576b\"], [0.6666666666666666, \"#ed7953\"], [0.7777777777777778, \"#fb9f3a\"], [0.8888888888888888, \"#fdca26\"], [1.0, \"#f0f921\"]], \"sequentialminus\": [[0.0, \"#0d0887\"], [0.1111111111111111, \"#46039f\"], [0.2222222222222222, \"#7201a8\"], [0.3333333333333333, \"#9c179e\"], [0.4444444444444444, \"#bd3786\"], [0.5555555555555556, \"#d8576b\"], [0.6666666666666666, \"#ed7953\"], [0.7777777777777778, \"#fb9f3a\"], [0.8888888888888888, \"#fdca26\"], [1.0, \"#f0f921\"]]}, \"colorway\": [\"#636efa\", \"#EF553B\", \"#00cc96\", \"#ab63fa\", \"#FFA15A\", \"#19d3f3\", \"#FF6692\", \"#B6E880\", \"#FF97FF\", \"#FECB52\"], \"font\": {\"color\": \"#2a3f5f\"}, \"geo\": {\"bgcolor\": \"white\", \"lakecolor\": \"white\", \"landcolor\": \"#E5ECF6\", \"showlakes\": true, \"showland\": true, \"subunitcolor\": \"white\"}, \"hoverlabel\": {\"align\": \"left\"}, \"hovermode\": \"closest\", \"mapbox\": {\"style\": \"light\"}, \"paper_bgcolor\": \"white\", \"plot_bgcolor\": \"#E5ECF6\", \"polar\": {\"angularaxis\": {\"gridcolor\": \"white\", \"linecolor\": \"white\", \"ticks\": \"\"}, \"bgcolor\": \"#E5ECF6\", \"radialaxis\": {\"gridcolor\": \"white\", \"linecolor\": \"white\", \"ticks\": \"\"}}, \"scene\": {\"xaxis\": {\"backgroundcolor\": \"#E5ECF6\", \"gridcolor\": \"white\", \"gridwidth\": 2, \"linecolor\": \"white\", \"showbackground\": true, \"ticks\": \"\", \"zerolinecolor\": \"white\"}, \"yaxis\": {\"backgroundcolor\": \"#E5ECF6\", \"gridcolor\": \"white\", \"gridwidth\": 2, \"linecolor\": \"white\", \"showbackground\": true, \"ticks\": \"\", \"zerolinecolor\": \"white\"}, \"zaxis\": {\"backgroundcolor\": \"#E5ECF6\", \"gridcolor\": \"white\", \"gridwidth\": 2, \"linecolor\": \"white\", \"showbackground\": true, \"ticks\": \"\", \"zerolinecolor\": \"white\"}}, \"shapedefaults\": {\"line\": {\"color\": \"#2a3f5f\"}}, \"ternary\": {\"aaxis\": {\"gridcolor\": \"white\", \"linecolor\": \"white\", \"ticks\": \"\"}, \"baxis\": {\"gridcolor\": \"white\", \"linecolor\": \"white\", \"ticks\": \"\"}, \"bgcolor\": \"#E5ECF6\", \"caxis\": {\"gridcolor\": \"white\", \"linecolor\": \"white\", \"ticks\": \"\"}}, \"title\": {\"x\": 0.05}, \"xaxis\": {\"automargin\": true, \"gridcolor\": \"white\", \"linecolor\": \"white\", \"ticks\": \"\", \"title\": {\"standoff\": 15}, \"zerolinecolor\": \"white\", \"zerolinewidth\": 2}, \"yaxis\": {\"automargin\": true, \"gridcolor\": \"white\", \"linecolor\": \"white\", \"ticks\": \"\", \"title\": {\"standoff\": 15}, \"zerolinecolor\": \"white\", \"zerolinewidth\": 2}}}, \"title\": {\"text\": \"FBProphet, Buy&Hold, Random Positions\"}, \"xaxis\": {\"anchor\": \"y\", \"domain\": [0.0, 1.0], \"title\": {\"text\": \"ds\"}}, \"yaxis\": {\"anchor\": \"x\", \"domain\": [0.0, 1.0], \"title\": {\"text\": \"Portfolio Balance\"}}},                        {\"responsive\": true}                    ).then(function(){\n",
       "                            \n",
       "var gd = document.getElementById('18b169cf-5b41-49ec-8edc-aafa7c91dfa5');\n",
       "var x = new MutationObserver(function (mutations, observer) {{\n",
       "        var display = window.getComputedStyle(gd).display;\n",
       "        if (!display || display === 'none') {{\n",
       "            console.log([gd, 'removed!']);\n",
       "            Plotly.purge(gd);\n",
       "            observer.disconnect();\n",
       "        }}\n",
       "}});\n",
       "\n",
       "// Listen for the removal of the full notebook cells\n",
       "var notebookContainer = gd.closest('#notebook-container');\n",
       "if (notebookContainer) {{\n",
       "    x.observe(notebookContainer, {childList: true});\n",
       "}}\n",
       "\n",
       "// Listen for the clearing of the current output cell\n",
       "var outputEl = gd.closest('.output');\n",
       "if (outputEl) {{\n",
       "    x.observe(outputEl, {childList: true});\n",
       "}}\n",
       "\n",
       "                        })                };                });            </script>        </div>"
      ]
     },
     "metadata": {},
     "output_type": "display_data"
    }
   ],
   "source": [
    "# Visualizing results\n",
    "fig = px.line(\n",
    "    performance,\n",
    "    x=performance.index,\n",
    "    y=performance.columns,\n",
    "    title='FBProphet, Buy&Hold, Random Positions',\n",
    "    labels={\"value\": \"Portfolio Balance\",\n",
    "            \"index\": \"Date\"}\n",
    ")\n",
    "\n",
    "fig.show()"
   ]
  },
  {
   "cell_type": "markdown",
   "metadata": {},
   "source": [
    "# Backtesting and Visualization Function"
   ]
  },
  {
   "cell_type": "code",
   "execution_count": 29,
   "metadata": {},
   "outputs": [],
   "source": [
    "def backtestPerformanceVis(ticker, n_hours, training_hours, mov_avg, forecast_hours):\n",
    "    \"\"\"\n",
    "    Consolidates the previous functions that support the backtesting process.\n",
    "    \"\"\"\n",
    "    # Getting Price data\n",
    "    print(\"Getting price data...\")\n",
    "    prices = getIntradayPrices(\n",
    "        crypto=ticker, \n",
    "        n_hours=n_hours, \n",
    "        training_hours=training_hours, \n",
    "        mov_avg=mov_avg\n",
    "    )\n",
    "\n",
    "    # Predicting over time\n",
    "    print(\"Running predictions...\")\n",
    "    pred_df = runningFBP(\n",
    "        prices, \n",
    "        forecast_hours=forecast_hours, \n",
    "        training_hours=training_hours\n",
    "    )\n",
    "    \n",
    "    # Adding sentiment positions to the prediction DF\n",
    "    print(\"Getting positions...\")\n",
    "    positions = pred_df\n",
    "\n",
    "    # Getting forecast prophet positions\n",
    "    positions['fbp_positions'] = positions.apply(\n",
    "        lambda x: fbpPositions(x, short=True), \n",
    "        axis=1\n",
    "    )\n",
    "\n",
    "    # Buy and hold position\n",
    "    positions['buy_hold'] = 1\n",
    "\n",
    "    # Random positions\n",
    "    positions['random_positions'] = random.choices(\n",
    "        [1,0,-1], k=len(positions)\n",
    "    )\n",
    "    \n",
    "    # Getting returns each hour\n",
    "    print(\"Performing the backtest...\")\n",
    "    log_returns = prices[['ds', 'open']].set_index(\n",
    "        'ds'\n",
    "    ).loc[positions.index].apply(np.log).diff()\n",
    "    \n",
    "    # The positions to backtest (shifted ahead by 1 to prevent lookahead bias)\n",
    "    bt_positions = positions[[\n",
    "        'buy_hold', \n",
    "        'random_positions',\n",
    "        'fbp_positions'\n",
    "    ]].shift(1)\n",
    "\n",
    "    # The returns during the backtest\n",
    "    returns = bt_positions.multiply(\n",
    "        log_returns['open'], \n",
    "        axis=0\n",
    "    )\n",
    "\n",
    "    # Inversing the log returns to get daily portfolio balance\n",
    "    performance = returns.cumsum().apply(\n",
    "        np.exp\n",
    "    ).dropna().fillna(\n",
    "        method='ffill'\n",
    "    )\n",
    "    \n",
    "    # Displaying the final balance of the portfolio\n",
    "    print(\"Final Performance:\")\n",
    "    display(performance.tail(1))\n",
    "    \n",
    "    # Visualizing results\n",
    "    fig = px.line(\n",
    "        performance,\n",
    "        x=performance.index,\n",
    "        y=performance.columns,\n",
    "        title='FBProphet, Buy&Hold, Random Positions',\n",
    "        labels={\"value\": \"Portfolio Balance\",\n",
    "                \"index\": \"Date\"}\n",
    "    )\n",
    "\n",
    "    return fig.show()"
   ]
  },
  {
   "cell_type": "code",
   "execution_count": 98,
   "metadata": {},
   "outputs": [
    {
     "name": "stdout",
     "output_type": "stream",
     "text": [
      "Getting price data...\n"
     ]
    },
    {
     "name": "stderr",
     "output_type": "stream",
     "text": [
      "  0%|          | 0/83 [00:00<?, ?it/s]"
     ]
    },
    {
     "name": "stdout",
     "output_type": "stream",
     "text": [
      "Running predictions...\n"
     ]
    },
    {
     "name": "stderr",
     "output_type": "stream",
     "text": [
      "100%|██████████| 83/83 [01:17<00:00,  1.07it/s]"
     ]
    },
    {
     "name": "stdout",
     "output_type": "stream",
     "text": [
      "Getting positions...\n",
      "Performing the backtest...\n",
      "Final Performance:\n"
     ]
    },
    {
     "name": "stderr",
     "output_type": "stream",
     "text": [
      "\n"
     ]
    },
    {
     "data": {
      "text/html": [
       "<div>\n",
       "<style scoped>\n",
       "    .dataframe tbody tr th:only-of-type {\n",
       "        vertical-align: middle;\n",
       "    }\n",
       "\n",
       "    .dataframe tbody tr th {\n",
       "        vertical-align: top;\n",
       "    }\n",
       "\n",
       "    .dataframe thead th {\n",
       "        text-align: right;\n",
       "    }\n",
       "</style>\n",
       "<table border=\"1\" class=\"dataframe\">\n",
       "  <thead>\n",
       "    <tr style=\"text-align: right;\">\n",
       "      <th></th>\n",
       "      <th>buy_hold</th>\n",
       "      <th>random_positions</th>\n",
       "      <th>fbp_positions</th>\n",
       "    </tr>\n",
       "    <tr>\n",
       "      <th>ds</th>\n",
       "      <th></th>\n",
       "      <th></th>\n",
       "      <th></th>\n",
       "    </tr>\n",
       "  </thead>\n",
       "  <tbody>\n",
       "    <tr>\n",
       "      <th>2022-01-09 02:00:00</th>\n",
       "      <td>0.90122</td>\n",
       "      <td>1.049153</td>\n",
       "      <td>0.96565</td>\n",
       "    </tr>\n",
       "  </tbody>\n",
       "</table>\n",
       "</div>"
      ],
      "text/plain": [
       "                     buy_hold  random_positions  fbp_positions\n",
       "ds                                                            \n",
       "2022-01-09 02:00:00   0.90122          1.049153        0.96565"
      ]
     },
     "metadata": {},
     "output_type": "display_data"
    },
    {
     "data": {
      "application/vnd.plotly.v1+json": {
       "config": {
        "plotlyServerURL": "https://plot.ly"
       },
       "data": [
        {
         "hovertemplate": "variable=buy_hold<br>ds=%{x}<br>Portfolio Balance=%{y}<extra></extra>",
         "legendgroup": "buy_hold",
         "line": {
          "color": "#636efa",
          "dash": "solid"
         },
         "mode": "lines",
         "name": "buy_hold",
         "orientation": "v",
         "showlegend": true,
         "type": "scatter",
         "x": [
          "2022-01-05 23:00:00",
          "2022-01-06 00:00:00",
          "2022-01-06 01:00:00",
          "2022-01-06 02:00:00",
          "2022-01-06 03:00:00",
          "2022-01-06 04:00:00",
          "2022-01-06 05:00:00",
          "2022-01-06 06:00:00",
          "2022-01-06 07:00:00",
          "2022-01-06 08:00:00",
          "2022-01-06 09:00:00",
          "2022-01-06 10:00:00",
          "2022-01-06 11:00:00",
          "2022-01-06 12:00:00",
          "2022-01-06 13:00:00",
          "2022-01-06 14:00:00",
          "2022-01-06 15:00:00",
          "2022-01-06 16:00:00",
          "2022-01-06 17:00:00",
          "2022-01-06 18:00:00",
          "2022-01-06 19:00:00",
          "2022-01-06 20:00:00",
          "2022-01-06 21:00:00",
          "2022-01-06 22:00:00",
          "2022-01-06 23:00:00",
          "2022-01-07 00:00:00",
          "2022-01-07 01:00:00",
          "2022-01-07 02:00:00",
          "2022-01-07 03:00:00",
          "2022-01-07 04:00:00",
          "2022-01-07 05:00:00",
          "2022-01-07 06:00:00",
          "2022-01-07 07:00:00",
          "2022-01-07 08:00:00",
          "2022-01-07 09:00:00",
          "2022-01-07 10:00:00",
          "2022-01-07 11:00:00",
          "2022-01-07 12:00:00",
          "2022-01-07 13:00:00",
          "2022-01-07 14:00:00",
          "2022-01-07 15:00:00",
          "2022-01-07 16:00:00",
          "2022-01-07 17:00:00",
          "2022-01-07 18:00:00",
          "2022-01-07 19:00:00",
          "2022-01-07 20:00:00",
          "2022-01-07 21:00:00",
          "2022-01-07 22:00:00",
          "2022-01-07 23:00:00",
          "2022-01-08 00:00:00",
          "2022-01-08 01:00:00",
          "2022-01-08 02:00:00",
          "2022-01-08 03:00:00",
          "2022-01-08 04:00:00",
          "2022-01-08 05:00:00",
          "2022-01-08 06:00:00",
          "2022-01-08 07:00:00",
          "2022-01-08 08:00:00",
          "2022-01-08 09:00:00",
          "2022-01-08 10:00:00",
          "2022-01-08 11:00:00",
          "2022-01-08 12:00:00",
          "2022-01-08 13:00:00",
          "2022-01-08 14:00:00",
          "2022-01-08 15:00:00",
          "2022-01-08 16:00:00",
          "2022-01-08 17:00:00",
          "2022-01-08 18:00:00",
          "2022-01-08 19:00:00",
          "2022-01-08 20:00:00",
          "2022-01-08 21:00:00",
          "2022-01-08 22:00:00",
          "2022-01-08 23:00:00",
          "2022-01-09 00:00:00",
          "2022-01-09 01:00:00",
          "2022-01-09 02:00:00"
         ],
         "xaxis": "x",
         "y": [
          1,
          0.9399076304409228,
          0.942543521659192,
          0.9393116326604086,
          0.934685233599442,
          0.9259561247145572,
          0.9290432280426388,
          0.9295417188171453,
          0.9296206851682163,
          0.9334467178496614,
          0.9296430182244515,
          0.9201116889053392,
          0.9255534553888245,
          0.9255128345101593,
          0.927154188126295,
          0.9313115928984574,
          0.9267337366431432,
          0.9274153585391841,
          0.926097623627401,
          0.9290936249029988,
          0.9355043934448327,
          0.9355043934448327,
          0.9355043934448327,
          0.9355043934448327,
          0.9355043934448327,
          0.9307144152472951,
          0.9247626121800631,
          0.9276449255575849,
          0.9243569089505507,
          0.9023678607360842,
          0.898423420673976,
          0.902477587713815,
          0.8972254415541239,
          0.8999998820086195,
          0.9093747956206294,
          0.9159458565627511,
          0.9116705500749369,
          0.9117323241823397,
          0.9146517188481589,
          0.8966602044002703,
          0.9049759409611609,
          0.8907834067206163,
          0.9059792432149623,
          0.9055396611415507,
          0.9000796911059461,
          0.9017680705542711,
          0.9060309885081637,
          0.9044723936228231,
          0.8960560318818357,
          0.8966711602310359,
          0.9062171535334772,
          0.9048816364427013,
          0.9032730660917029,
          0.9030000970802169,
          0.904790787244299,
          0.9060936053618214,
          0.9050096512428639,
          0.9043981467327648,
          0.9061933035037785,
          0.9093370401051211,
          0.9045019744004117,
          0.9053202072076629,
          0.9035179712774909,
          0.9043383109935298,
          0.9023167053997798,
          0.8979036924219957,
          0.8943754900470382,
          0.8834200698881547,
          0.8804539864713897,
          0.881431163267659,
          0.8836455916727505,
          0.9020958187627371,
          0.9060801212491408,
          0.9004092090988088,
          0.9014420078598885,
          0.9012201942062807
         ],
         "yaxis": "y"
        },
        {
         "hovertemplate": "variable=random_positions<br>ds=%{x}<br>Portfolio Balance=%{y}<extra></extra>",
         "legendgroup": "random_positions",
         "line": {
          "color": "#EF553B",
          "dash": "solid"
         },
         "mode": "lines",
         "name": "random_positions",
         "orientation": "v",
         "showlegend": true,
         "type": "scatter",
         "x": [
          "2022-01-05 23:00:00",
          "2022-01-06 00:00:00",
          "2022-01-06 01:00:00",
          "2022-01-06 02:00:00",
          "2022-01-06 03:00:00",
          "2022-01-06 04:00:00",
          "2022-01-06 05:00:00",
          "2022-01-06 06:00:00",
          "2022-01-06 07:00:00",
          "2022-01-06 08:00:00",
          "2022-01-06 09:00:00",
          "2022-01-06 10:00:00",
          "2022-01-06 11:00:00",
          "2022-01-06 12:00:00",
          "2022-01-06 13:00:00",
          "2022-01-06 14:00:00",
          "2022-01-06 15:00:00",
          "2022-01-06 16:00:00",
          "2022-01-06 17:00:00",
          "2022-01-06 18:00:00",
          "2022-01-06 19:00:00",
          "2022-01-06 20:00:00",
          "2022-01-06 21:00:00",
          "2022-01-06 22:00:00",
          "2022-01-06 23:00:00",
          "2022-01-07 00:00:00",
          "2022-01-07 01:00:00",
          "2022-01-07 02:00:00",
          "2022-01-07 03:00:00",
          "2022-01-07 04:00:00",
          "2022-01-07 05:00:00",
          "2022-01-07 06:00:00",
          "2022-01-07 07:00:00",
          "2022-01-07 08:00:00",
          "2022-01-07 09:00:00",
          "2022-01-07 10:00:00",
          "2022-01-07 11:00:00",
          "2022-01-07 12:00:00",
          "2022-01-07 13:00:00",
          "2022-01-07 14:00:00",
          "2022-01-07 15:00:00",
          "2022-01-07 16:00:00",
          "2022-01-07 17:00:00",
          "2022-01-07 18:00:00",
          "2022-01-07 19:00:00",
          "2022-01-07 20:00:00",
          "2022-01-07 21:00:00",
          "2022-01-07 22:00:00",
          "2022-01-07 23:00:00",
          "2022-01-08 00:00:00",
          "2022-01-08 01:00:00",
          "2022-01-08 02:00:00",
          "2022-01-08 03:00:00",
          "2022-01-08 04:00:00",
          "2022-01-08 05:00:00",
          "2022-01-08 06:00:00",
          "2022-01-08 07:00:00",
          "2022-01-08 08:00:00",
          "2022-01-08 09:00:00",
          "2022-01-08 10:00:00",
          "2022-01-08 11:00:00",
          "2022-01-08 12:00:00",
          "2022-01-08 13:00:00",
          "2022-01-08 14:00:00",
          "2022-01-08 15:00:00",
          "2022-01-08 16:00:00",
          "2022-01-08 17:00:00",
          "2022-01-08 18:00:00",
          "2022-01-08 19:00:00",
          "2022-01-08 20:00:00",
          "2022-01-08 21:00:00",
          "2022-01-08 22:00:00",
          "2022-01-08 23:00:00",
          "2022-01-09 00:00:00",
          "2022-01-09 01:00:00",
          "2022-01-09 02:00:00"
         ],
         "xaxis": "x",
         "y": [
          1,
          1,
          1.0028044151711297,
          1.0028044151711297,
          1.0077679828385195,
          0.9983563476305667,
          1.0016848306127726,
          1.002222298226713,
          1.0021371647533344,
          1.0021371647533344,
          1.0062374792646631,
          1.0062374792646631,
          1.0003213332471554,
          1.0003652374805585,
          1.0021393383236488,
          0.9976657562279378,
          0.9927617365016862,
          0.9920320870183985,
          0.9920320870183985,
          0.995241391655743,
          1.0021085813922173,
          1.0021085813922173,
          1.0021085813922173,
          1.0021085813922173,
          1.0021085813922173,
          1.0072659939967687,
          1.0072659939967687,
          1.0104054550984405,
          1.006824095652956,
          1.006824095652956,
          1.0112444582648412,
          1.0158077341741465,
          1.0158077341741465,
          1.0158077341741465,
          1.0263889686216896,
          1.033805563512613,
          1.0289801302174508,
          1.0290498531333376,
          1.0290498531333376,
          1.049697769935477,
          1.0594327956235816,
          1.0594327956235816,
          1.0775056149167828,
          1.0769828080689825,
          1.0769828080689825,
          1.0769828080689825,
          1.0769828080689825,
          1.0769828080689825,
          1.0669611899793177,
          1.066229240403418,
          1.066229240403418,
          1.0678028908300548,
          1.065904702159046,
          1.0655825858867811,
          1.0676956845029766,
          1.0692330711578601,
          1.0679539543152419,
          1.0679539543152419,
          1.0679539543152419,
          1.0679539543152419,
          1.0736627616864378,
          1.0726923800595376,
          1.0705569535728938,
          1.0705569535728938,
          1.0681637740520649,
          1.0629396431354128,
          1.058762952244176,
          1.045793910583738,
          1.0422826568990338,
          1.0422826568990338,
          1.0396706817550145,
          1.0613786610149678,
          1.0567114648819507,
          1.0500977916039929,
          1.0488946751653039,
          1.049152835337084
         ],
         "yaxis": "y"
        },
        {
         "hovertemplate": "variable=fbp_positions<br>ds=%{x}<br>Portfolio Balance=%{y}<extra></extra>",
         "legendgroup": "fbp_positions",
         "line": {
          "color": "#00cc96",
          "dash": "solid"
         },
         "mode": "lines",
         "name": "fbp_positions",
         "orientation": "v",
         "showlegend": true,
         "type": "scatter",
         "x": [
          "2022-01-05 23:00:00",
          "2022-01-06 00:00:00",
          "2022-01-06 01:00:00",
          "2022-01-06 02:00:00",
          "2022-01-06 03:00:00",
          "2022-01-06 04:00:00",
          "2022-01-06 05:00:00",
          "2022-01-06 06:00:00",
          "2022-01-06 07:00:00",
          "2022-01-06 08:00:00",
          "2022-01-06 09:00:00",
          "2022-01-06 10:00:00",
          "2022-01-06 11:00:00",
          "2022-01-06 12:00:00",
          "2022-01-06 13:00:00",
          "2022-01-06 14:00:00",
          "2022-01-06 15:00:00",
          "2022-01-06 16:00:00",
          "2022-01-06 17:00:00",
          "2022-01-06 18:00:00",
          "2022-01-06 19:00:00",
          "2022-01-06 20:00:00",
          "2022-01-06 21:00:00",
          "2022-01-06 22:00:00",
          "2022-01-06 23:00:00",
          "2022-01-07 00:00:00",
          "2022-01-07 01:00:00",
          "2022-01-07 02:00:00",
          "2022-01-07 03:00:00",
          "2022-01-07 04:00:00",
          "2022-01-07 05:00:00",
          "2022-01-07 06:00:00",
          "2022-01-07 07:00:00",
          "2022-01-07 08:00:00",
          "2022-01-07 09:00:00",
          "2022-01-07 10:00:00",
          "2022-01-07 11:00:00",
          "2022-01-07 12:00:00",
          "2022-01-07 13:00:00",
          "2022-01-07 14:00:00",
          "2022-01-07 15:00:00",
          "2022-01-07 16:00:00",
          "2022-01-07 17:00:00",
          "2022-01-07 18:00:00",
          "2022-01-07 19:00:00",
          "2022-01-07 20:00:00",
          "2022-01-07 21:00:00",
          "2022-01-07 22:00:00",
          "2022-01-07 23:00:00",
          "2022-01-08 00:00:00",
          "2022-01-08 01:00:00",
          "2022-01-08 02:00:00",
          "2022-01-08 03:00:00",
          "2022-01-08 04:00:00",
          "2022-01-08 05:00:00",
          "2022-01-08 06:00:00",
          "2022-01-08 07:00:00",
          "2022-01-08 08:00:00",
          "2022-01-08 09:00:00",
          "2022-01-08 10:00:00",
          "2022-01-08 11:00:00",
          "2022-01-08 12:00:00",
          "2022-01-08 13:00:00",
          "2022-01-08 14:00:00",
          "2022-01-08 15:00:00",
          "2022-01-08 16:00:00",
          "2022-01-08 17:00:00",
          "2022-01-08 18:00:00",
          "2022-01-08 19:00:00",
          "2022-01-08 20:00:00",
          "2022-01-08 21:00:00",
          "2022-01-08 22:00:00",
          "2022-01-08 23:00:00",
          "2022-01-09 00:00:00",
          "2022-01-09 01:00:00",
          "2022-01-09 02:00:00"
         ],
         "xaxis": "x",
         "y": [
          1,
          1,
          1.0028044151711297,
          0.9993658974975715,
          0.9944437126879895,
          0.9944437126879895,
          0.9911392911041877,
          0.9906077670393023,
          0.9905236201588017,
          0.9864636393693238,
          0.9904998245520177,
          1.000760296331873,
          1.000760296331873,
          1.000760296331873,
          1.000760296331873,
          1.000760296331873,
          1.005703827144971,
          1.005703827144971,
          1.005703827144971,
          1.005703827144971,
          1.005703827144971,
          1.005703827144971,
          1.005703827144971,
          1.005703827144971,
          1.005703827144971,
          1.005703827144971,
          0.9992724761042353,
          1.002387022894654,
          0.9988340846020501,
          0.9988340846020501,
          0.994467970348502,
          0.9989555417706028,
          0.9989555417706028,
          0.9958760495142867,
          0.985609378415167,
          0.9785385463956883,
          0.9831274323651187,
          0.9830608209069234,
          0.9799230773728647,
          0.9799230773728647,
          0.9890110040159572,
          0.9735005667728811,
          0.9901074718052663,
          0.9901074718052663,
          0.9961135590234353,
          0.9942485366122744,
          0.9895705509902433,
          0.9912757877783771,
          0.9912757877783771,
          0.9912757877783771,
          1.0018289453356766,
          1.0018289453356766,
          1.0018289453356766,
          1.0018289453356766,
          1.0018289453356766,
          1.0018289453356766,
          1.0018289453356766,
          1.0018289453356766,
          1.0018289453356766,
          1.0018289453356766,
          1.0018289453356766,
          1.0018289453356766,
          1.0018289453356766,
          1.0018289453356766,
          1.0018289453356766,
          1.0018289453356766,
          1.0018289453356766,
          0.9895573019983729,
          0.9862348627608676,
          0.9873294410561219,
          0.9848551794516262,
          0.9647123062294067,
          0.960470180670935,
          0.9665193658220397,
          0.9654120067297446,
          0.9656496196525641
         ],
         "yaxis": "y"
        }
       ],
       "layout": {
        "autosize": true,
        "legend": {
         "title": {
          "text": "variable"
         },
         "tracegroupgap": 0
        },
        "template": {
         "data": {
          "bar": [
           {
            "error_x": {
             "color": "#2a3f5f"
            },
            "error_y": {
             "color": "#2a3f5f"
            },
            "marker": {
             "line": {
              "color": "#E5ECF6",
              "width": 0.5
             }
            },
            "type": "bar"
           }
          ],
          "barpolar": [
           {
            "marker": {
             "line": {
              "color": "#E5ECF6",
              "width": 0.5
             }
            },
            "type": "barpolar"
           }
          ],
          "carpet": [
           {
            "aaxis": {
             "endlinecolor": "#2a3f5f",
             "gridcolor": "white",
             "linecolor": "white",
             "minorgridcolor": "white",
             "startlinecolor": "#2a3f5f"
            },
            "baxis": {
             "endlinecolor": "#2a3f5f",
             "gridcolor": "white",
             "linecolor": "white",
             "minorgridcolor": "white",
             "startlinecolor": "#2a3f5f"
            },
            "type": "carpet"
           }
          ],
          "choropleth": [
           {
            "colorbar": {
             "outlinewidth": 0,
             "ticks": ""
            },
            "type": "choropleth"
           }
          ],
          "contour": [
           {
            "colorbar": {
             "outlinewidth": 0,
             "ticks": ""
            },
            "colorscale": [
             [
              0,
              "#0d0887"
             ],
             [
              0.1111111111111111,
              "#46039f"
             ],
             [
              0.2222222222222222,
              "#7201a8"
             ],
             [
              0.3333333333333333,
              "#9c179e"
             ],
             [
              0.4444444444444444,
              "#bd3786"
             ],
             [
              0.5555555555555556,
              "#d8576b"
             ],
             [
              0.6666666666666666,
              "#ed7953"
             ],
             [
              0.7777777777777778,
              "#fb9f3a"
             ],
             [
              0.8888888888888888,
              "#fdca26"
             ],
             [
              1,
              "#f0f921"
             ]
            ],
            "type": "contour"
           }
          ],
          "contourcarpet": [
           {
            "colorbar": {
             "outlinewidth": 0,
             "ticks": ""
            },
            "type": "contourcarpet"
           }
          ],
          "heatmap": [
           {
            "colorbar": {
             "outlinewidth": 0,
             "ticks": ""
            },
            "colorscale": [
             [
              0,
              "#0d0887"
             ],
             [
              0.1111111111111111,
              "#46039f"
             ],
             [
              0.2222222222222222,
              "#7201a8"
             ],
             [
              0.3333333333333333,
              "#9c179e"
             ],
             [
              0.4444444444444444,
              "#bd3786"
             ],
             [
              0.5555555555555556,
              "#d8576b"
             ],
             [
              0.6666666666666666,
              "#ed7953"
             ],
             [
              0.7777777777777778,
              "#fb9f3a"
             ],
             [
              0.8888888888888888,
              "#fdca26"
             ],
             [
              1,
              "#f0f921"
             ]
            ],
            "type": "heatmap"
           }
          ],
          "heatmapgl": [
           {
            "colorbar": {
             "outlinewidth": 0,
             "ticks": ""
            },
            "colorscale": [
             [
              0,
              "#0d0887"
             ],
             [
              0.1111111111111111,
              "#46039f"
             ],
             [
              0.2222222222222222,
              "#7201a8"
             ],
             [
              0.3333333333333333,
              "#9c179e"
             ],
             [
              0.4444444444444444,
              "#bd3786"
             ],
             [
              0.5555555555555556,
              "#d8576b"
             ],
             [
              0.6666666666666666,
              "#ed7953"
             ],
             [
              0.7777777777777778,
              "#fb9f3a"
             ],
             [
              0.8888888888888888,
              "#fdca26"
             ],
             [
              1,
              "#f0f921"
             ]
            ],
            "type": "heatmapgl"
           }
          ],
          "histogram": [
           {
            "marker": {
             "colorbar": {
              "outlinewidth": 0,
              "ticks": ""
             }
            },
            "type": "histogram"
           }
          ],
          "histogram2d": [
           {
            "colorbar": {
             "outlinewidth": 0,
             "ticks": ""
            },
            "colorscale": [
             [
              0,
              "#0d0887"
             ],
             [
              0.1111111111111111,
              "#46039f"
             ],
             [
              0.2222222222222222,
              "#7201a8"
             ],
             [
              0.3333333333333333,
              "#9c179e"
             ],
             [
              0.4444444444444444,
              "#bd3786"
             ],
             [
              0.5555555555555556,
              "#d8576b"
             ],
             [
              0.6666666666666666,
              "#ed7953"
             ],
             [
              0.7777777777777778,
              "#fb9f3a"
             ],
             [
              0.8888888888888888,
              "#fdca26"
             ],
             [
              1,
              "#f0f921"
             ]
            ],
            "type": "histogram2d"
           }
          ],
          "histogram2dcontour": [
           {
            "colorbar": {
             "outlinewidth": 0,
             "ticks": ""
            },
            "colorscale": [
             [
              0,
              "#0d0887"
             ],
             [
              0.1111111111111111,
              "#46039f"
             ],
             [
              0.2222222222222222,
              "#7201a8"
             ],
             [
              0.3333333333333333,
              "#9c179e"
             ],
             [
              0.4444444444444444,
              "#bd3786"
             ],
             [
              0.5555555555555556,
              "#d8576b"
             ],
             [
              0.6666666666666666,
              "#ed7953"
             ],
             [
              0.7777777777777778,
              "#fb9f3a"
             ],
             [
              0.8888888888888888,
              "#fdca26"
             ],
             [
              1,
              "#f0f921"
             ]
            ],
            "type": "histogram2dcontour"
           }
          ],
          "mesh3d": [
           {
            "colorbar": {
             "outlinewidth": 0,
             "ticks": ""
            },
            "type": "mesh3d"
           }
          ],
          "parcoords": [
           {
            "line": {
             "colorbar": {
              "outlinewidth": 0,
              "ticks": ""
             }
            },
            "type": "parcoords"
           }
          ],
          "pie": [
           {
            "automargin": true,
            "type": "pie"
           }
          ],
          "scatter": [
           {
            "marker": {
             "colorbar": {
              "outlinewidth": 0,
              "ticks": ""
             }
            },
            "type": "scatter"
           }
          ],
          "scatter3d": [
           {
            "line": {
             "colorbar": {
              "outlinewidth": 0,
              "ticks": ""
             }
            },
            "marker": {
             "colorbar": {
              "outlinewidth": 0,
              "ticks": ""
             }
            },
            "type": "scatter3d"
           }
          ],
          "scattercarpet": [
           {
            "marker": {
             "colorbar": {
              "outlinewidth": 0,
              "ticks": ""
             }
            },
            "type": "scattercarpet"
           }
          ],
          "scattergeo": [
           {
            "marker": {
             "colorbar": {
              "outlinewidth": 0,
              "ticks": ""
             }
            },
            "type": "scattergeo"
           }
          ],
          "scattergl": [
           {
            "marker": {
             "colorbar": {
              "outlinewidth": 0,
              "ticks": ""
             }
            },
            "type": "scattergl"
           }
          ],
          "scattermapbox": [
           {
            "marker": {
             "colorbar": {
              "outlinewidth": 0,
              "ticks": ""
             }
            },
            "type": "scattermapbox"
           }
          ],
          "scatterpolar": [
           {
            "marker": {
             "colorbar": {
              "outlinewidth": 0,
              "ticks": ""
             }
            },
            "type": "scatterpolar"
           }
          ],
          "scatterpolargl": [
           {
            "marker": {
             "colorbar": {
              "outlinewidth": 0,
              "ticks": ""
             }
            },
            "type": "scatterpolargl"
           }
          ],
          "scatterternary": [
           {
            "marker": {
             "colorbar": {
              "outlinewidth": 0,
              "ticks": ""
             }
            },
            "type": "scatterternary"
           }
          ],
          "surface": [
           {
            "colorbar": {
             "outlinewidth": 0,
             "ticks": ""
            },
            "colorscale": [
             [
              0,
              "#0d0887"
             ],
             [
              0.1111111111111111,
              "#46039f"
             ],
             [
              0.2222222222222222,
              "#7201a8"
             ],
             [
              0.3333333333333333,
              "#9c179e"
             ],
             [
              0.4444444444444444,
              "#bd3786"
             ],
             [
              0.5555555555555556,
              "#d8576b"
             ],
             [
              0.6666666666666666,
              "#ed7953"
             ],
             [
              0.7777777777777778,
              "#fb9f3a"
             ],
             [
              0.8888888888888888,
              "#fdca26"
             ],
             [
              1,
              "#f0f921"
             ]
            ],
            "type": "surface"
           }
          ],
          "table": [
           {
            "cells": {
             "fill": {
              "color": "#EBF0F8"
             },
             "line": {
              "color": "white"
             }
            },
            "header": {
             "fill": {
              "color": "#C8D4E3"
             },
             "line": {
              "color": "white"
             }
            },
            "type": "table"
           }
          ]
         },
         "layout": {
          "annotationdefaults": {
           "arrowcolor": "#2a3f5f",
           "arrowhead": 0,
           "arrowwidth": 1
          },
          "autotypenumbers": "strict",
          "coloraxis": {
           "colorbar": {
            "outlinewidth": 0,
            "ticks": ""
           }
          },
          "colorscale": {
           "diverging": [
            [
             0,
             "#8e0152"
            ],
            [
             0.1,
             "#c51b7d"
            ],
            [
             0.2,
             "#de77ae"
            ],
            [
             0.3,
             "#f1b6da"
            ],
            [
             0.4,
             "#fde0ef"
            ],
            [
             0.5,
             "#f7f7f7"
            ],
            [
             0.6,
             "#e6f5d0"
            ],
            [
             0.7,
             "#b8e186"
            ],
            [
             0.8,
             "#7fbc41"
            ],
            [
             0.9,
             "#4d9221"
            ],
            [
             1,
             "#276419"
            ]
           ],
           "sequential": [
            [
             0,
             "#0d0887"
            ],
            [
             0.1111111111111111,
             "#46039f"
            ],
            [
             0.2222222222222222,
             "#7201a8"
            ],
            [
             0.3333333333333333,
             "#9c179e"
            ],
            [
             0.4444444444444444,
             "#bd3786"
            ],
            [
             0.5555555555555556,
             "#d8576b"
            ],
            [
             0.6666666666666666,
             "#ed7953"
            ],
            [
             0.7777777777777778,
             "#fb9f3a"
            ],
            [
             0.8888888888888888,
             "#fdca26"
            ],
            [
             1,
             "#f0f921"
            ]
           ],
           "sequentialminus": [
            [
             0,
             "#0d0887"
            ],
            [
             0.1111111111111111,
             "#46039f"
            ],
            [
             0.2222222222222222,
             "#7201a8"
            ],
            [
             0.3333333333333333,
             "#9c179e"
            ],
            [
             0.4444444444444444,
             "#bd3786"
            ],
            [
             0.5555555555555556,
             "#d8576b"
            ],
            [
             0.6666666666666666,
             "#ed7953"
            ],
            [
             0.7777777777777778,
             "#fb9f3a"
            ],
            [
             0.8888888888888888,
             "#fdca26"
            ],
            [
             1,
             "#f0f921"
            ]
           ]
          },
          "colorway": [
           "#636efa",
           "#EF553B",
           "#00cc96",
           "#ab63fa",
           "#FFA15A",
           "#19d3f3",
           "#FF6692",
           "#B6E880",
           "#FF97FF",
           "#FECB52"
          ],
          "font": {
           "color": "#2a3f5f"
          },
          "geo": {
           "bgcolor": "white",
           "lakecolor": "white",
           "landcolor": "#E5ECF6",
           "showlakes": true,
           "showland": true,
           "subunitcolor": "white"
          },
          "hoverlabel": {
           "align": "left"
          },
          "hovermode": "closest",
          "mapbox": {
           "style": "light"
          },
          "paper_bgcolor": "white",
          "plot_bgcolor": "#E5ECF6",
          "polar": {
           "angularaxis": {
            "gridcolor": "white",
            "linecolor": "white",
            "ticks": ""
           },
           "bgcolor": "#E5ECF6",
           "radialaxis": {
            "gridcolor": "white",
            "linecolor": "white",
            "ticks": ""
           }
          },
          "scene": {
           "xaxis": {
            "backgroundcolor": "#E5ECF6",
            "gridcolor": "white",
            "gridwidth": 2,
            "linecolor": "white",
            "showbackground": true,
            "ticks": "",
            "zerolinecolor": "white"
           },
           "yaxis": {
            "backgroundcolor": "#E5ECF6",
            "gridcolor": "white",
            "gridwidth": 2,
            "linecolor": "white",
            "showbackground": true,
            "ticks": "",
            "zerolinecolor": "white"
           },
           "zaxis": {
            "backgroundcolor": "#E5ECF6",
            "gridcolor": "white",
            "gridwidth": 2,
            "linecolor": "white",
            "showbackground": true,
            "ticks": "",
            "zerolinecolor": "white"
           }
          },
          "shapedefaults": {
           "line": {
            "color": "#2a3f5f"
           }
          },
          "ternary": {
           "aaxis": {
            "gridcolor": "white",
            "linecolor": "white",
            "ticks": ""
           },
           "baxis": {
            "gridcolor": "white",
            "linecolor": "white",
            "ticks": ""
           },
           "bgcolor": "#E5ECF6",
           "caxis": {
            "gridcolor": "white",
            "linecolor": "white",
            "ticks": ""
           }
          },
          "title": {
           "x": 0.05
          },
          "xaxis": {
           "automargin": true,
           "gridcolor": "white",
           "linecolor": "white",
           "ticks": "",
           "title": {
            "standoff": 15
           },
           "zerolinecolor": "white",
           "zerolinewidth": 2
          },
          "yaxis": {
           "automargin": true,
           "gridcolor": "white",
           "linecolor": "white",
           "ticks": "",
           "title": {
            "standoff": 15
           },
           "zerolinecolor": "white",
           "zerolinewidth": 2
          }
         }
        },
        "title": {
         "text": "FBProphet, Buy&Hold, Random Positions"
        },
        "xaxis": {
         "anchor": "y",
         "autorange": true,
         "domain": [
          0,
          1
         ],
         "range": [
          "2022-01-05 23:00",
          "2022-01-09 02:00"
         ],
         "title": {
          "text": "ds"
         },
         "type": "date"
        },
        "yaxis": {
         "anchor": "x",
         "autorange": true,
         "domain": [
          0,
          1
         ],
         "range": [
          0.869506673779979,
          1.0884529276081936
         ],
         "title": {
          "text": "Portfolio Balance"
         },
         "type": "linear"
        }
       }
      },
      "image/png": "[encoded data removed]",
      "text/html": [
       "<div>                            <div id=\"3af4e8e0-e8b9-4d3a-a7c7-38537b2507a5\" class=\"plotly-graph-div\" style=\"height:525px; width:100%;\"></div>            <script type=\"text/javascript\">                require([\"plotly\"], function(Plotly) {                    window.PLOTLYENV=window.PLOTLYENV || {};                                    if (document.getElementById(\"3af4e8e0-e8b9-4d3a-a7c7-38537b2507a5\")) {                    Plotly.newPlot(                        \"3af4e8e0-e8b9-4d3a-a7c7-38537b2507a5\",                        [{\"hovertemplate\": \"variable=buy_hold<br>ds=%{x}<br>Portfolio Balance=%{y}<extra></extra>\", \"legendgroup\": \"buy_hold\", \"line\": {\"color\": \"#636efa\", \"dash\": \"solid\"}, \"mode\": \"lines\", \"name\": \"buy_hold\", \"orientation\": \"v\", \"showlegend\": true, \"type\": \"scatter\", \"x\": [\"2022-01-05 23:00:00\", \"2022-01-06 00:00:00\", \"2022-01-06 01:00:00\", \"2022-01-06 02:00:00\", \"2022-01-06 03:00:00\", \"2022-01-06 04:00:00\", \"2022-01-06 05:00:00\", \"2022-01-06 06:00:00\", \"2022-01-06 07:00:00\", \"2022-01-06 08:00:00\", \"2022-01-06 09:00:00\", \"2022-01-06 10:00:00\", \"2022-01-06 11:00:00\", \"2022-01-06 12:00:00\", \"2022-01-06 13:00:00\", \"2022-01-06 14:00:00\", \"2022-01-06 15:00:00\", \"2022-01-06 16:00:00\", \"2022-01-06 17:00:00\", \"2022-01-06 18:00:00\", \"2022-01-06 19:00:00\", \"2022-01-06 20:00:00\", \"2022-01-06 21:00:00\", \"2022-01-06 22:00:00\", \"2022-01-06 23:00:00\", \"2022-01-07 00:00:00\", \"2022-01-07 01:00:00\", \"2022-01-07 02:00:00\", \"2022-01-07 03:00:00\", \"2022-01-07 04:00:00\", \"2022-01-07 05:00:00\", \"2022-01-07 06:00:00\", \"2022-01-07 07:00:00\", \"2022-01-07 08:00:00\", \"2022-01-07 09:00:00\", \"2022-01-07 10:00:00\", \"2022-01-07 11:00:00\", \"2022-01-07 12:00:00\", \"2022-01-07 13:00:00\", \"2022-01-07 14:00:00\", \"2022-01-07 15:00:00\", \"2022-01-07 16:00:00\", \"2022-01-07 17:00:00\", \"2022-01-07 18:00:00\", \"2022-01-07 19:00:00\", \"2022-01-07 20:00:00\", \"2022-01-07 21:00:00\", \"2022-01-07 22:00:00\", \"2022-01-07 23:00:00\", \"2022-01-08 00:00:00\", \"2022-01-08 01:00:00\", \"2022-01-08 02:00:00\", \"2022-01-08 03:00:00\", \"2022-01-08 04:00:00\", \"2022-01-08 05:00:00\", \"2022-01-08 06:00:00\", \"2022-01-08 07:00:00\", \"2022-01-08 08:00:00\", \"2022-01-08 09:00:00\", \"2022-01-08 10:00:00\", \"2022-01-08 11:00:00\", \"2022-01-08 12:00:00\", \"2022-01-08 13:00:00\", \"2022-01-08 14:00:00\", \"2022-01-08 15:00:00\", \"2022-01-08 16:00:00\", \"2022-01-08 17:00:00\", \"2022-01-08 18:00:00\", \"2022-01-08 19:00:00\", \"2022-01-08 20:00:00\", \"2022-01-08 21:00:00\", \"2022-01-08 22:00:00\", \"2022-01-08 23:00:00\", \"2022-01-09 00:00:00\", \"2022-01-09 01:00:00\", \"2022-01-09 02:00:00\"], \"xaxis\": \"x\", \"y\": [1.0, 0.9399076304409228, 0.942543521659192, 0.9393116326604086, 0.934685233599442, 0.9259561247145572, 0.9290432280426388, 0.9295417188171453, 0.9296206851682163, 0.9334467178496614, 0.9296430182244515, 0.9201116889053392, 0.9255534553888245, 0.9255128345101593, 0.927154188126295, 0.9313115928984574, 0.9267337366431432, 0.9274153585391841, 0.926097623627401, 0.9290936249029988, 0.9355043934448327, 0.9355043934448327, 0.9355043934448327, 0.9355043934448327, 0.9355043934448327, 0.9307144152472951, 0.9247626121800631, 0.9276449255575849, 0.9243569089505507, 0.9023678607360842, 0.898423420673976, 0.902477587713815, 0.8972254415541239, 0.8999998820086195, 0.9093747956206294, 0.9159458565627511, 0.9116705500749369, 0.9117323241823397, 0.9146517188481589, 0.8966602044002703, 0.9049759409611609, 0.8907834067206163, 0.9059792432149623, 0.9055396611415507, 0.9000796911059461, 0.9017680705542711, 0.9060309885081637, 0.9044723936228231, 0.8960560318818357, 0.8966711602310359, 0.9062171535334772, 0.9048816364427013, 0.9032730660917029, 0.9030000970802169, 0.904790787244299, 0.9060936053618214, 0.9050096512428639, 0.9043981467327648, 0.9061933035037785, 0.9093370401051211, 0.9045019744004117, 0.9053202072076629, 0.9035179712774909, 0.9043383109935298, 0.9023167053997798, 0.8979036924219957, 0.8943754900470382, 0.8834200698881547, 0.8804539864713897, 0.881431163267659, 0.8836455916727505, 0.9020958187627371, 0.9060801212491408, 0.9004092090988088, 0.9014420078598885, 0.9012201942062807], \"yaxis\": \"y\"}, {\"hovertemplate\": \"variable=random_positions<br>ds=%{x}<br>Portfolio Balance=%{y}<extra></extra>\", \"legendgroup\": \"random_positions\", \"line\": {\"color\": \"#EF553B\", \"dash\": \"solid\"}, \"mode\": \"lines\", \"name\": \"random_positions\", \"orientation\": \"v\", \"showlegend\": true, \"type\": \"scatter\", \"x\": [\"2022-01-05 23:00:00\", \"2022-01-06 00:00:00\", \"2022-01-06 01:00:00\", \"2022-01-06 02:00:00\", \"2022-01-06 03:00:00\", \"2022-01-06 04:00:00\", \"2022-01-06 05:00:00\", \"2022-01-06 06:00:00\", \"2022-01-06 07:00:00\", \"2022-01-06 08:00:00\", \"2022-01-06 09:00:00\", \"2022-01-06 10:00:00\", \"2022-01-06 11:00:00\", \"2022-01-06 12:00:00\", \"2022-01-06 13:00:00\", \"2022-01-06 14:00:00\", \"2022-01-06 15:00:00\", \"2022-01-06 16:00:00\", \"2022-01-06 17:00:00\", \"2022-01-06 18:00:00\", \"2022-01-06 19:00:00\", \"2022-01-06 20:00:00\", \"2022-01-06 21:00:00\", \"2022-01-06 22:00:00\", \"2022-01-06 23:00:00\", \"2022-01-07 00:00:00\", \"2022-01-07 01:00:00\", \"2022-01-07 02:00:00\", \"2022-01-07 03:00:00\", \"2022-01-07 04:00:00\", \"2022-01-07 05:00:00\", \"2022-01-07 06:00:00\", \"2022-01-07 07:00:00\", \"2022-01-07 08:00:00\", \"2022-01-07 09:00:00\", \"2022-01-07 10:00:00\", \"2022-01-07 11:00:00\", \"2022-01-07 12:00:00\", \"2022-01-07 13:00:00\", \"2022-01-07 14:00:00\", \"2022-01-07 15:00:00\", \"2022-01-07 16:00:00\", \"2022-01-07 17:00:00\", \"2022-01-07 18:00:00\", \"2022-01-07 19:00:00\", \"2022-01-07 20:00:00\", \"2022-01-07 21:00:00\", \"2022-01-07 22:00:00\", \"2022-01-07 23:00:00\", \"2022-01-08 00:00:00\", \"2022-01-08 01:00:00\", \"2022-01-08 02:00:00\", \"2022-01-08 03:00:00\", \"2022-01-08 04:00:00\", \"2022-01-08 05:00:00\", \"2022-01-08 06:00:00\", \"2022-01-08 07:00:00\", \"2022-01-08 08:00:00\", \"2022-01-08 09:00:00\", \"2022-01-08 10:00:00\", \"2022-01-08 11:00:00\", \"2022-01-08 12:00:00\", \"2022-01-08 13:00:00\", \"2022-01-08 14:00:00\", \"2022-01-08 15:00:00\", \"2022-01-08 16:00:00\", \"2022-01-08 17:00:00\", \"2022-01-08 18:00:00\", \"2022-01-08 19:00:00\", \"2022-01-08 20:00:00\", \"2022-01-08 21:00:00\", \"2022-01-08 22:00:00\", \"2022-01-08 23:00:00\", \"2022-01-09 00:00:00\", \"2022-01-09 01:00:00\", \"2022-01-09 02:00:00\"], \"xaxis\": \"x\", \"y\": [1.0, 1.0, 1.0028044151711297, 1.0028044151711297, 1.0077679828385195, 0.9983563476305667, 1.0016848306127726, 1.002222298226713, 1.0021371647533344, 1.0021371647533344, 1.0062374792646631, 1.0062374792646631, 1.0003213332471554, 1.0003652374805585, 1.0021393383236488, 0.9976657562279378, 0.9927617365016862, 0.9920320870183985, 0.9920320870183985, 0.995241391655743, 1.0021085813922173, 1.0021085813922173, 1.0021085813922173, 1.0021085813922173, 1.0021085813922173, 1.0072659939967687, 1.0072659939967687, 1.0104054550984405, 1.006824095652956, 1.006824095652956, 1.0112444582648412, 1.0158077341741465, 1.0158077341741465, 1.0158077341741465, 1.0263889686216896, 1.033805563512613, 1.0289801302174508, 1.0290498531333376, 1.0290498531333376, 1.049697769935477, 1.0594327956235816, 1.0594327956235816, 1.0775056149167828, 1.0769828080689825, 1.0769828080689825, 1.0769828080689825, 1.0769828080689825, 1.0769828080689825, 1.0669611899793177, 1.066229240403418, 1.066229240403418, 1.0678028908300548, 1.065904702159046, 1.0655825858867811, 1.0676956845029766, 1.0692330711578601, 1.0679539543152419, 1.0679539543152419, 1.0679539543152419, 1.0679539543152419, 1.0736627616864378, 1.0726923800595376, 1.0705569535728938, 1.0705569535728938, 1.0681637740520649, 1.0629396431354128, 1.058762952244176, 1.045793910583738, 1.0422826568990338, 1.0422826568990338, 1.0396706817550145, 1.0613786610149678, 1.0567114648819507, 1.0500977916039929, 1.0488946751653039, 1.049152835337084], \"yaxis\": \"y\"}, {\"hovertemplate\": \"variable=fbp_positions<br>ds=%{x}<br>Portfolio Balance=%{y}<extra></extra>\", \"legendgroup\": \"fbp_positions\", \"line\": {\"color\": \"#00cc96\", \"dash\": \"solid\"}, \"mode\": \"lines\", \"name\": \"fbp_positions\", \"orientation\": \"v\", \"showlegend\": true, \"type\": \"scatter\", \"x\": [\"2022-01-05 23:00:00\", \"2022-01-06 00:00:00\", \"2022-01-06 01:00:00\", \"2022-01-06 02:00:00\", \"2022-01-06 03:00:00\", \"2022-01-06 04:00:00\", \"2022-01-06 05:00:00\", \"2022-01-06 06:00:00\", \"2022-01-06 07:00:00\", \"2022-01-06 08:00:00\", \"2022-01-06 09:00:00\", \"2022-01-06 10:00:00\", \"2022-01-06 11:00:00\", \"2022-01-06 12:00:00\", \"2022-01-06 13:00:00\", \"2022-01-06 14:00:00\", \"2022-01-06 15:00:00\", \"2022-01-06 16:00:00\", \"2022-01-06 17:00:00\", \"2022-01-06 18:00:00\", \"2022-01-06 19:00:00\", \"2022-01-06 20:00:00\", \"2022-01-06 21:00:00\", \"2022-01-06 22:00:00\", \"2022-01-06 23:00:00\", \"2022-01-07 00:00:00\", \"2022-01-07 01:00:00\", \"2022-01-07 02:00:00\", \"2022-01-07 03:00:00\", \"2022-01-07 04:00:00\", \"2022-01-07 05:00:00\", \"2022-01-07 06:00:00\", \"2022-01-07 07:00:00\", \"2022-01-07 08:00:00\", \"2022-01-07 09:00:00\", \"2022-01-07 10:00:00\", \"2022-01-07 11:00:00\", \"2022-01-07 12:00:00\", \"2022-01-07 13:00:00\", \"2022-01-07 14:00:00\", \"2022-01-07 15:00:00\", \"2022-01-07 16:00:00\", \"2022-01-07 17:00:00\", \"2022-01-07 18:00:00\", \"2022-01-07 19:00:00\", \"2022-01-07 20:00:00\", \"2022-01-07 21:00:00\", \"2022-01-07 22:00:00\", \"2022-01-07 23:00:00\", \"2022-01-08 00:00:00\", \"2022-01-08 01:00:00\", \"2022-01-08 02:00:00\", \"2022-01-08 03:00:00\", \"2022-01-08 04:00:00\", \"2022-01-08 05:00:00\", \"2022-01-08 06:00:00\", \"2022-01-08 07:00:00\", \"2022-01-08 08:00:00\", \"2022-01-08 09:00:00\", \"2022-01-08 10:00:00\", \"2022-01-08 11:00:00\", \"2022-01-08 12:00:00\", \"2022-01-08 13:00:00\", \"2022-01-08 14:00:00\", \"2022-01-08 15:00:00\", \"2022-01-08 16:00:00\", \"2022-01-08 17:00:00\", \"2022-01-08 18:00:00\", \"2022-01-08 19:00:00\", \"2022-01-08 20:00:00\", \"2022-01-08 21:00:00\", \"2022-01-08 22:00:00\", \"2022-01-08 23:00:00\", \"2022-01-09 00:00:00\", \"2022-01-09 01:00:00\", \"2022-01-09 02:00:00\"], \"xaxis\": \"x\", \"y\": [1.0, 1.0, 1.0028044151711297, 0.9993658974975715, 0.9944437126879895, 0.9944437126879895, 0.9911392911041877, 0.9906077670393023, 0.9905236201588017, 0.9864636393693238, 0.9904998245520177, 1.000760296331873, 1.000760296331873, 1.000760296331873, 1.000760296331873, 1.000760296331873, 1.005703827144971, 1.005703827144971, 1.005703827144971, 1.005703827144971, 1.005703827144971, 1.005703827144971, 1.005703827144971, 1.005703827144971, 1.005703827144971, 1.005703827144971, 0.9992724761042353, 1.002387022894654, 0.9988340846020501, 0.9988340846020501, 0.994467970348502, 0.9989555417706028, 0.9989555417706028, 0.9958760495142867, 0.985609378415167, 0.9785385463956883, 0.9831274323651187, 0.9830608209069234, 0.9799230773728647, 0.9799230773728647, 0.9890110040159572, 0.9735005667728811, 0.9901074718052663, 0.9901074718052663, 0.9961135590234353, 0.9942485366122744, 0.9895705509902433, 0.9912757877783771, 0.9912757877783771, 0.9912757877783771, 1.0018289453356766, 1.0018289453356766, 1.0018289453356766, 1.0018289453356766, 1.0018289453356766, 1.0018289453356766, 1.0018289453356766, 1.0018289453356766, 1.0018289453356766, 1.0018289453356766, 1.0018289453356766, 1.0018289453356766, 1.0018289453356766, 1.0018289453356766, 1.0018289453356766, 1.0018289453356766, 1.0018289453356766, 0.9895573019983729, 0.9862348627608676, 0.9873294410561219, 0.9848551794516262, 0.9647123062294067, 0.960470180670935, 0.9665193658220397, 0.9654120067297446, 0.9656496196525641], \"yaxis\": \"y\"}],                        {\"legend\": {\"title\": {\"text\": \"variable\"}, \"tracegroupgap\": 0}, \"template\": {\"data\": {\"bar\": [{\"error_x\": {\"color\": \"#2a3f5f\"}, \"error_y\": {\"color\": \"#2a3f5f\"}, \"marker\": {\"line\": {\"color\": \"#E5ECF6\", \"width\": 0.5}}, \"type\": \"bar\"}], \"barpolar\": [{\"marker\": {\"line\": {\"color\": \"#E5ECF6\", \"width\": 0.5}}, \"type\": \"barpolar\"}], \"carpet\": [{\"aaxis\": {\"endlinecolor\": \"#2a3f5f\", \"gridcolor\": \"white\", \"linecolor\": \"white\", \"minorgridcolor\": \"white\", \"startlinecolor\": \"#2a3f5f\"}, \"baxis\": {\"endlinecolor\": \"#2a3f5f\", \"gridcolor\": \"white\", \"linecolor\": \"white\", \"minorgridcolor\": \"white\", \"startlinecolor\": \"#2a3f5f\"}, \"type\": \"carpet\"}], \"choropleth\": [{\"colorbar\": {\"outlinewidth\": 0, \"ticks\": \"\"}, \"type\": \"choropleth\"}], \"contour\": [{\"colorbar\": {\"outlinewidth\": 0, \"ticks\": \"\"}, \"colorscale\": [[0.0, \"#0d0887\"], [0.1111111111111111, \"#46039f\"], [0.2222222222222222, \"#7201a8\"], [0.3333333333333333, \"#9c179e\"], [0.4444444444444444, \"#bd3786\"], [0.5555555555555556, \"#d8576b\"], [0.6666666666666666, \"#ed7953\"], [0.7777777777777778, \"#fb9f3a\"], [0.8888888888888888, \"#fdca26\"], [1.0, \"#f0f921\"]], \"type\": \"contour\"}], \"contourcarpet\": [{\"colorbar\": {\"outlinewidth\": 0, \"ticks\": \"\"}, \"type\": \"contourcarpet\"}], \"heatmap\": [{\"colorbar\": {\"outlinewidth\": 0, \"ticks\": \"\"}, \"colorscale\": [[0.0, \"#0d0887\"], [0.1111111111111111, \"#46039f\"], [0.2222222222222222, \"#7201a8\"], [0.3333333333333333, \"#9c179e\"], [0.4444444444444444, \"#bd3786\"], [0.5555555555555556, \"#d8576b\"], [0.6666666666666666, \"#ed7953\"], [0.7777777777777778, \"#fb9f3a\"], [0.8888888888888888, \"#fdca26\"], [1.0, \"#f0f921\"]], \"type\": \"heatmap\"}], \"heatmapgl\": [{\"colorbar\": {\"outlinewidth\": 0, \"ticks\": \"\"}, \"colorscale\": [[0.0, \"#0d0887\"], [0.1111111111111111, \"#46039f\"], [0.2222222222222222, \"#7201a8\"], [0.3333333333333333, \"#9c179e\"], [0.4444444444444444, \"#bd3786\"], [0.5555555555555556, \"#d8576b\"], [0.6666666666666666, \"#ed7953\"], [0.7777777777777778, \"#fb9f3a\"], [0.8888888888888888, \"#fdca26\"], [1.0, \"#f0f921\"]], \"type\": \"heatmapgl\"}], \"histogram\": [{\"marker\": {\"colorbar\": {\"outlinewidth\": 0, \"ticks\": \"\"}}, \"type\": \"histogram\"}], \"histogram2d\": [{\"colorbar\": {\"outlinewidth\": 0, \"ticks\": \"\"}, \"colorscale\": [[0.0, \"#0d0887\"], [0.1111111111111111, \"#46039f\"], [0.2222222222222222, \"#7201a8\"], [0.3333333333333333, \"#9c179e\"], [0.4444444444444444, \"#bd3786\"], [0.5555555555555556, \"#d8576b\"], [0.6666666666666666, \"#ed7953\"], [0.7777777777777778, \"#fb9f3a\"], [0.8888888888888888, \"#fdca26\"], [1.0, \"#f0f921\"]], \"type\": \"histogram2d\"}], \"histogram2dcontour\": [{\"colorbar\": {\"outlinewidth\": 0, \"ticks\": \"\"}, \"colorscale\": [[0.0, \"#0d0887\"], [0.1111111111111111, \"#46039f\"], [0.2222222222222222, \"#7201a8\"], [0.3333333333333333, \"#9c179e\"], [0.4444444444444444, \"#bd3786\"], [0.5555555555555556, \"#d8576b\"], [0.6666666666666666, \"#ed7953\"], [0.7777777777777778, \"#fb9f3a\"], [0.8888888888888888, \"#fdca26\"], [1.0, \"#f0f921\"]], \"type\": \"histogram2dcontour\"}], \"mesh3d\": [{\"colorbar\": {\"outlinewidth\": 0, \"ticks\": \"\"}, \"type\": \"mesh3d\"}], \"parcoords\": [{\"line\": {\"colorbar\": {\"outlinewidth\": 0, \"ticks\": \"\"}}, \"type\": \"parcoords\"}], \"pie\": [{\"automargin\": true, \"type\": \"pie\"}], \"scatter\": [{\"marker\": {\"colorbar\": {\"outlinewidth\": 0, \"ticks\": \"\"}}, \"type\": \"scatter\"}], \"scatter3d\": [{\"line\": {\"colorbar\": {\"outlinewidth\": 0, \"ticks\": \"\"}}, \"marker\": {\"colorbar\": {\"outlinewidth\": 0, \"ticks\": \"\"}}, \"type\": \"scatter3d\"}], \"scattercarpet\": [{\"marker\": {\"colorbar\": {\"outlinewidth\": 0, \"ticks\": \"\"}}, \"type\": \"scattercarpet\"}], \"scattergeo\": [{\"marker\": {\"colorbar\": {\"outlinewidth\": 0, \"ticks\": \"\"}}, \"type\": \"scattergeo\"}], \"scattergl\": [{\"marker\": {\"colorbar\": {\"outlinewidth\": 0, \"ticks\": \"\"}}, \"type\": \"scattergl\"}], \"scattermapbox\": [{\"marker\": {\"colorbar\": {\"outlinewidth\": 0, \"ticks\": \"\"}}, \"type\": \"scattermapbox\"}], \"scatterpolar\": [{\"marker\": {\"colorbar\": {\"outlinewidth\": 0, \"ticks\": \"\"}}, \"type\": \"scatterpolar\"}], \"scatterpolargl\": [{\"marker\": {\"colorbar\": {\"outlinewidth\": 0, \"ticks\": \"\"}}, \"type\": \"scatterpolargl\"}], \"scatterternary\": [{\"marker\": {\"colorbar\": {\"outlinewidth\": 0, \"ticks\": \"\"}}, \"type\": \"scatterternary\"}], \"surface\": [{\"colorbar\": {\"outlinewidth\": 0, \"ticks\": \"\"}, \"colorscale\": [[0.0, \"#0d0887\"], [0.1111111111111111, \"#46039f\"], [0.2222222222222222, \"#7201a8\"], [0.3333333333333333, \"#9c179e\"], [0.4444444444444444, \"#bd3786\"], [0.5555555555555556, \"#d8576b\"], [0.6666666666666666, \"#ed7953\"], [0.7777777777777778, \"#fb9f3a\"], [0.8888888888888888, \"#fdca26\"], [1.0, \"#f0f921\"]], \"type\": \"surface\"}], \"table\": [{\"cells\": {\"fill\": {\"color\": \"#EBF0F8\"}, \"line\": {\"color\": \"white\"}}, \"header\": {\"fill\": {\"color\": \"#C8D4E3\"}, \"line\": {\"color\": \"white\"}}, \"type\": \"table\"}]}, \"layout\": {\"annotationdefaults\": {\"arrowcolor\": \"#2a3f5f\", \"arrowhead\": 0, \"arrowwidth\": 1}, \"autotypenumbers\": \"strict\", \"coloraxis\": {\"colorbar\": {\"outlinewidth\": 0, \"ticks\": \"\"}}, \"colorscale\": {\"diverging\": [[0, \"#8e0152\"], [0.1, \"#c51b7d\"], [0.2, \"#de77ae\"], [0.3, \"#f1b6da\"], [0.4, \"#fde0ef\"], [0.5, \"#f7f7f7\"], [0.6, \"#e6f5d0\"], [0.7, \"#b8e186\"], [0.8, \"#7fbc41\"], [0.9, \"#4d9221\"], [1, \"#276419\"]], \"sequential\": [[0.0, \"#0d0887\"], [0.1111111111111111, \"#46039f\"], [0.2222222222222222, \"#7201a8\"], [0.3333333333333333, \"#9c179e\"], [0.4444444444444444, \"#bd3786\"], [0.5555555555555556, \"#d8576b\"], [0.6666666666666666, \"#ed7953\"], [0.7777777777777778, \"#fb9f3a\"], [0.8888888888888888, \"#fdca26\"], [1.0, \"#f0f921\"]], \"sequentialminus\": [[0.0, \"#0d0887\"], [0.1111111111111111, \"#46039f\"], [0.2222222222222222, \"#7201a8\"], [0.3333333333333333, \"#9c179e\"], [0.4444444444444444, \"#bd3786\"], [0.5555555555555556, \"#d8576b\"], [0.6666666666666666, \"#ed7953\"], [0.7777777777777778, \"#fb9f3a\"], [0.8888888888888888, \"#fdca26\"], [1.0, \"#f0f921\"]]}, \"colorway\": [\"#636efa\", \"#EF553B\", \"#00cc96\", \"#ab63fa\", \"#FFA15A\", \"#19d3f3\", \"#FF6692\", \"#B6E880\", \"#FF97FF\", \"#FECB52\"], \"font\": {\"color\": \"#2a3f5f\"}, \"geo\": {\"bgcolor\": \"white\", \"lakecolor\": \"white\", \"landcolor\": \"#E5ECF6\", \"showlakes\": true, \"showland\": true, \"subunitcolor\": \"white\"}, \"hoverlabel\": {\"align\": \"left\"}, \"hovermode\": \"closest\", \"mapbox\": {\"style\": \"light\"}, \"paper_bgcolor\": \"white\", \"plot_bgcolor\": \"#E5ECF6\", \"polar\": {\"angularaxis\": {\"gridcolor\": \"white\", \"linecolor\": \"white\", \"ticks\": \"\"}, \"bgcolor\": \"#E5ECF6\", \"radialaxis\": {\"gridcolor\": \"white\", \"linecolor\": \"white\", \"ticks\": \"\"}}, \"scene\": {\"xaxis\": {\"backgroundcolor\": \"#E5ECF6\", \"gridcolor\": \"white\", \"gridwidth\": 2, \"linecolor\": \"white\", \"showbackground\": true, \"ticks\": \"\", \"zerolinecolor\": \"white\"}, \"yaxis\": {\"backgroundcolor\": \"#E5ECF6\", \"gridcolor\": \"white\", \"gridwidth\": 2, \"linecolor\": \"white\", \"showbackground\": true, \"ticks\": \"\", \"zerolinecolor\": \"white\"}, \"zaxis\": {\"backgroundcolor\": \"#E5ECF6\", \"gridcolor\": \"white\", \"gridwidth\": 2, \"linecolor\": \"white\", \"showbackground\": true, \"ticks\": \"\", \"zerolinecolor\": \"white\"}}, \"shapedefaults\": {\"line\": {\"color\": \"#2a3f5f\"}}, \"ternary\": {\"aaxis\": {\"gridcolor\": \"white\", \"linecolor\": \"white\", \"ticks\": \"\"}, \"baxis\": {\"gridcolor\": \"white\", \"linecolor\": \"white\", \"ticks\": \"\"}, \"bgcolor\": \"#E5ECF6\", \"caxis\": {\"gridcolor\": \"white\", \"linecolor\": \"white\", \"ticks\": \"\"}}, \"title\": {\"x\": 0.05}, \"xaxis\": {\"automargin\": true, \"gridcolor\": \"white\", \"linecolor\": \"white\", \"ticks\": \"\", \"title\": {\"standoff\": 15}, \"zerolinecolor\": \"white\", \"zerolinewidth\": 2}, \"yaxis\": {\"automargin\": true, \"gridcolor\": \"white\", \"linecolor\": \"white\", \"ticks\": \"\", \"title\": {\"standoff\": 15}, \"zerolinecolor\": \"white\", \"zerolinewidth\": 2}}}, \"title\": {\"text\": \"FBProphet, Buy&Hold, Random Positions\"}, \"xaxis\": {\"anchor\": \"y\", \"domain\": [0.0, 1.0], \"title\": {\"text\": \"ds\"}}, \"yaxis\": {\"anchor\": \"x\", \"domain\": [0.0, 1.0], \"title\": {\"text\": \"Portfolio Balance\"}}},                        {\"responsive\": true}                    ).then(function(){\n",
       "                            \n",
       "var gd = document.getElementById('3af4e8e0-e8b9-4d3a-a7c7-38537b2507a5');\n",
       "var x = new MutationObserver(function (mutations, observer) {{\n",
       "        var display = window.getComputedStyle(gd).display;\n",
       "        if (!display || display === 'none') {{\n",
       "            console.log([gd, 'removed!']);\n",
       "            Plotly.purge(gd);\n",
       "            observer.disconnect();\n",
       "        }}\n",
       "}});\n",
       "\n",
       "// Listen for the removal of the full notebook cells\n",
       "var notebookContainer = gd.closest('#notebook-container');\n",
       "if (notebookContainer) {{\n",
       "    x.observe(notebookContainer, {childList: true});\n",
       "}}\n",
       "\n",
       "// Listen for the clearing of the current output cell\n",
       "var outputEl = gd.closest('.output');\n",
       "if (outputEl) {{\n",
       "    x.observe(outputEl, {childList: true});\n",
       "}}\n",
       "\n",
       "                        })                };                });            </script>        </div>"
      ]
     },
     "metadata": {},
     "output_type": "display_data"
    }
   ],
   "source": [
    "backtestPerformanceVis(\n",
    "    ticker=\"BTC\", \n",
    "    n_hours=300, \n",
    "    training_hours=100, \n",
    "    mov_avg=3, \n",
    "    forecast_hours=3\n",
    ")"
   ]
  },
  {
   "cell_type": "code",
   "execution_count": null,
   "metadata": {},
   "outputs": [],
   "source": []
  }
 ],
 "metadata": {
  "kernelspec": {
   "display_name": "Python 3",
   "language": "python",
   "name": "python3"
  },
  "language_info": {
   "codemirror_mode": {
    "name": "ipython",
    "version": 3
   },
   "file_extension": ".py",
   "mimetype": "text/x-python",
   "name": "python",
   "nbconvert_exporter": "python",
   "pygments_lexer": "ipython3",
   "version": "3.9.1"
  }
 },
 "nbformat": 4,
 "nbformat_minor": 4
}
