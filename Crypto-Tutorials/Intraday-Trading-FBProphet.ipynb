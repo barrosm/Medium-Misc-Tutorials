{
 "cells": [
  {
   "cell_type": "markdown",
   "metadata": {},
   "source": [
    "# Intra-day Trading with Facebook Prophet"
   ]
  },
  {
   "cell_type": "code",
   "execution_count": 8,
   "metadata": {},
   "outputs": [],
   "source": [
    "# Libraries\n",
    "from eod import EodHistoricalData\n",
    "import pandas as pd\n",
    "from datetime import datetime, timedelta\n",
    "import calendar\n",
    "from tqdm import tqdm\n",
    "import numpy as np\n",
    "import random\n",
    "import plotly.express as px\n",
    "from prophet import Prophet\n",
    "\n",
    "# Importing and assigning the api key\n",
    "with open(\"../../eodHistoricalData-API.txt\", \"r\") as f:\n",
    "    api_key = f.read()\n",
    "    \n",
    "# EOD Historical Data client\n",
    "client = EodHistoricalData(api_key)"
   ]
  },
  {
   "cell_type": "markdown",
   "metadata": {},
   "source": [
    "# Getting Price Data"
   ]
  },
  {
   "cell_type": "code",
   "execution_count": 12,
   "metadata": {},
   "outputs": [],
   "source": [
    "ago = datetime.utcnow() - timedelta(10)\n",
    "timestamp_unix = str(calendar.timegm(ago.utctimetuple()))"
   ]
  },
  {
   "cell_type": "code",
   "execution_count": 13,
   "metadata": {},
   "outputs": [],
   "source": [
    "resp = client.get_prices_intraday('BTC-USD.CC', interval='5m', from_=timestamp_unix)"
   ]
  },
  {
   "cell_type": "code",
   "execution_count": null,
   "metadata": {},
   "outputs": [],
   "source": [
    "def getPrices(ticker, training_days, sent_df, mov_avg):\n",
    "    \"\"\"\n",
    "    Using a sentiment DataFrame to find the first day and trains with the previous\n",
    "    N days to make predictions that coincide with the sentiment date range.\n",
    "    \n",
    "    In order to properly backtest with sentiment, a certain amount of training \n",
    "    days need to come before the initial date from the sentiment DF.\n",
    "    \n",
    "    Also prepares the price data for FBProphet.\n",
    "    \"\"\"\n",
    "    # The first day from the sentiment DF minus the amount of days to train with and moving avg\n",
    "    ago = datetime.strptime(\n",
    "        sent_df.index[0], \"%Y-%m-%d\"\n",
    "    ) - timedelta(\n",
    "        days=training_days+mov_avg\n",
    "    )\n",
    "    \n",
    "    # Getting prices\n",
    "    prices = pd.DataFrame(\n",
    "        client.get_prices_eod(\n",
    "            ticker+\"-USD.CC\", \n",
    "            from_=ago.strftime(\"%Y-%m-%d\")\n",
    "        )\n",
    "    )\n",
    "\n",
    "    # Set index\n",
    "    prices = prices.set_index('date', drop=True)\n",
    "    \n",
    "    # Getting the N Day Moving Average and rounding the values for some light data preprocessing\n",
    "    prices['MA'] = prices[['open']].rolling(\n",
    "        window=mov_avg\n",
    "    ).mean().apply(lambda x: round(x, 2))\n",
    "\n",
    "    # Dropping Nans\n",
    "    prices.dropna(inplace=True)\n",
    "\n",
    "    # Resetting format for FBP\n",
    "    prices = prices.reset_index().rename(\n",
    "        columns={\"date\": \"ds\", \"MA\": \"y\"}\n",
    "    )\n",
    "    \n",
    "    return prices"
   ]
  },
  {
   "cell_type": "code",
   "execution_count": null,
   "metadata": {},
   "outputs": [],
   "source": [
    "def getIntradayPrices(crypto, n_days, training_amt, mov_avg, intra_int=\"5m\"):\n",
    "    \"\"\"\n",
    "    Gets crypto prices from now to N days ago and training amount will be in addition \n",
    "    to the number of days to train. (According to the EOD documentation: The maximum \n",
    "    periods between ‘from’ and ‘to’ are 120 days for 1-minute interval, 600 days \n",
    "    for 5-minute interval and 7200 days for 1 hour interval.)\n",
    "    \"\"\""
   ]
  },
  {
   "cell_type": "code",
   "execution_count": null,
   "metadata": {},
   "outputs": [],
   "source": []
  },
  {
   "cell_type": "code",
   "execution_count": null,
   "metadata": {},
   "outputs": [],
   "source": []
  },
  {
   "cell_type": "code",
   "execution_count": null,
   "metadata": {},
   "outputs": [],
   "source": []
  },
  {
   "cell_type": "code",
   "execution_count": null,
   "metadata": {},
   "outputs": [],
   "source": []
  },
  {
   "cell_type": "code",
   "execution_count": null,
   "metadata": {},
   "outputs": [],
   "source": []
  }
 ],
 "metadata": {
  "kernelspec": {
   "display_name": "Python 3",
   "language": "python",
   "name": "python3"
  },
  "language_info": {
   "codemirror_mode": {
    "name": "ipython",
    "version": 3
   },
   "file_extension": ".py",
   "mimetype": "text/x-python",
   "name": "python",
   "nbconvert_exporter": "python",
   "pygments_lexer": "ipython3",
   "version": "3.9.1"
  }
 },
 "nbformat": 4,
 "nbformat_minor": 4
}
