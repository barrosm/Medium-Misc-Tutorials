{
 "cells": [
  {
   "cell_type": "markdown",
   "metadata": {},
   "source": [
    "# Intra-day Trading with Facebook Prophet"
   ]
  },
  {
   "cell_type": "code",
   "execution_count": 1,
   "metadata": {},
   "outputs": [],
   "source": [
    "# Libraries\n",
    "from eod import EodHistoricalData\n",
    "import pandas as pd\n",
    "from datetime import datetime, timedelta\n",
    "import calendar\n",
    "from tqdm import tqdm\n",
    "import numpy as np\n",
    "import random\n",
    "import plotly.express as px\n",
    "from prophet import Prophet\n",
    "\n",
    "# Importing and assigning the api key\n",
    "with open(\"../../eodHistoricalData-API.txt\", \"r\") as f:\n",
    "    api_key = f.read()\n",
    "    \n",
    "# EOD Historical Data client\n",
    "client = EodHistoricalData(api_key)"
   ]
  },
  {
   "cell_type": "markdown",
   "metadata": {},
   "source": [
    "# Getting Price Data"
   ]
  },
  {
   "cell_type": "code",
   "execution_count": 35,
   "metadata": {},
   "outputs": [],
   "source": [
    "def getIntradayPrices(crypto, n_hours, training_hours, mov_avg):\n",
    "    \"\"\"\n",
    "    Gets crypto prices from now to N days ago and training amount will be in addition \n",
    "    to the number of days to train. (According to the EOD documentation: The maximum \n",
    "    periods between ‘from’ and ‘to’ are 120 days for 1-minute interval, 600 days \n",
    "    for 5-minute interval and 7200 days for 1 hour interval.)\n",
    "    \"\"\"\n",
    "    \n",
    "    # Getting the date from N days ago\n",
    "    ago = datetime.utcnow() - timedelta(hours=n_hours+training_hours)\n",
    "    \n",
    "    # Getting the unix timestamp format for the intraday data from the API\n",
    "    timestamp_unix = str(calendar.timegm(ago.utctimetuple()))\n",
    "    \n",
    "    # Retrieving price data\n",
    "    resp = client.get_prices_intraday(\n",
    "        crypto+'-USD.CC', \n",
    "        interval=\"1h\", \n",
    "        from_=timestamp_unix\n",
    "    )\n",
    "    \n",
    "    # Removing the last time period for uniformity if necessary\n",
    "    if resp[-1]['datetime'][-5:-3] != \"00\":\n",
    "        resp = resp[:-1]\n",
    "    \n",
    "    # Price formatting for the dataframe\n",
    "    prices = pd.DataFrame(resp)\n",
    "        \n",
    "    # Filling NaNs with the most recent values for any missing data\n",
    "    prices = prices.fillna(method='ffill')\n",
    "    \n",
    "    # Getting the N Day Moving Average and rounding the values for some light data preprocessing\n",
    "    prices['MA'] = prices[['open']].rolling(\n",
    "        window=mov_avg\n",
    "    ).mean().apply(lambda x: round(x, 6))\n",
    "\n",
    "    # Resetting format for FBP\n",
    "    prices = prices.rename(\n",
    "        columns={\"datetime\": \"ds\", \"MA\": \"y\"}\n",
    "    )\n",
    "    \n",
    "    return prices"
   ]
  },
  {
   "cell_type": "code",
   "execution_count": 38,
   "metadata": {},
   "outputs": [],
   "source": [
    "prices = getIntradayPrices(\n",
    "    crypto=\"BTC\", \n",
    "    n_hours=100, \n",
    "    training_hours=50, \n",
    "    mov_avg=5\n",
    ")"
   ]
  },
  {
   "cell_type": "code",
   "execution_count": 39,
   "metadata": {},
   "outputs": [
    {
     "data": {
      "text/plain": [
       "(135, 9)"
      ]
     },
     "execution_count": 39,
     "metadata": {},
     "output_type": "execute_result"
    }
   ],
   "source": [
    "prices.shape"
   ]
  },
  {
   "cell_type": "markdown",
   "metadata": {},
   "source": [
    "# Time Series Analysis with Facebook Prophet"
   ]
  },
  {
   "cell_type": "code",
   "execution_count": 40,
   "metadata": {},
   "outputs": [],
   "source": [
    "def fbpTrainPredict(df, forecast_hours):\n",
    "    \"\"\"\n",
    "    Uses FB Prophet and fits to a appropriately formatted DF. Makes a prediction N days into \n",
    "    the future based on given forecast period. Returns predicted values as a DF.\n",
    "    \"\"\"\n",
    "    # Setting up prophet\n",
    "    m = Prophet(\n",
    "        yearly_seasonality=False,\n",
    "        weekly_seasonality=False,\n",
    "        daily_seasonality=False\n",
    "    )\n",
    "    \n",
    "    # Fitting to the prices\n",
    "    m.fit(df[['ds', 'y']])\n",
    "    \n",
    "    # Future DF\n",
    "    future = m.make_future_dataframe(\n",
    "        periods=forecast_hours,\n",
    "        freq=\"H\",\n",
    "        include_history=False\n",
    "    )\n",
    "        \n",
    "    # Predicting values\n",
    "    forecast = m.predict(future)\n",
    "\n",
    "    # Returning a set of predicted values\n",
    "    return forecast[['ds', 'yhat', 'yhat_lower', 'yhat_upper']]"
   ]
  },
  {
   "cell_type": "markdown",
   "metadata": {},
   "source": [
    "# Making Predictions over time"
   ]
  },
  {
   "cell_type": "code",
   "execution_count": 56,
   "metadata": {},
   "outputs": [],
   "source": [
    "def runningFBP(prices, forecast_hours, training_hours):\n",
    "    \"\"\"\n",
    "    Runs Facebook Prophet to get predictions over a set period \n",
    "    of time. Uses FBP to train and predict every hour and gets the \n",
    "    price forecasts in the next N hours.\n",
    "    \"\"\"\n",
    "    # DF for the predicted values\n",
    "    pred_df = pd.DataFrame()\n",
    "\n",
    "    # Running the model each day\n",
    "    for i in tqdm(range(training_hours, len(prices))):\n",
    "\n",
    "        # Training and Predicting the last hour on the forecast\n",
    "        forecast = fbpTrainPredict(\n",
    "            prices[i-training_hours:i], \n",
    "            forecast_hours\n",
    "        ).tail(1)[[\n",
    "            'ds',\n",
    "            'yhat',\n",
    "            'yhat_lower',\n",
    "            'yhat_upper'\n",
    "        ]]\n",
    "        \n",
    "        # Adding the forecast predicted\n",
    "        pred_df = pred_df.append(forecast, ignore_index=True)\n",
    "                \n",
    "    # Prepping for merge by converting date values to be the same type\n",
    "    pred_df['ds'] = pred_df['ds'].apply(str)\n",
    "\n",
    "    prices['ds'] = prices['ds'].apply(str)\n",
    "    \n",
    "    # Shifting the forecasts back in order to compare it to the 'current' open values\n",
    "    pred_df[['yhat', 'yhat_lower', 'yhat_upper']] = pred_df[['yhat', 'yhat_lower', 'yhat_upper']].shift(-forecast_hours)\n",
    "    \n",
    "    # Merging with the prices DF in order to compare values for positions later\n",
    "    merge_df = prices[['ds', 'open']].merge(\n",
    "        pred_df,\n",
    "        on='ds',\n",
    "        how='outer'\n",
    "    ).dropna().set_index('ds')\n",
    "\n",
    "    return merge_df"
   ]
  },
  {
   "cell_type": "markdown",
   "metadata": {},
   "source": [
    "# Running Both Functions\n",
    "Training hours should both be equal"
   ]
  },
  {
   "cell_type": "code",
   "execution_count": 57,
   "metadata": {},
   "outputs": [
    {
     "name": "stderr",
     "output_type": "stream",
     "text": [
      "  0%|          | 0/84 [00:00<?, ?it/s]"
     ]
    },
    {
     "name": "stdout",
     "output_type": "stream",
     "text": [
      "50\n"
     ]
    },
    {
     "name": "stderr",
     "output_type": "stream",
     "text": [
      "  1%|          | 1/84 [00:00<01:05,  1.26it/s]"
     ]
    },
    {
     "name": "stdout",
     "output_type": "stream",
     "text": [
      "51\n"
     ]
    },
    {
     "name": "stderr",
     "output_type": "stream",
     "text": [
      "  2%|▏         | 2/84 [00:01<01:04,  1.27it/s]"
     ]
    },
    {
     "name": "stdout",
     "output_type": "stream",
     "text": [
      "52\n"
     ]
    },
    {
     "name": "stderr",
     "output_type": "stream",
     "text": [
      "  4%|▎         | 3/84 [00:02<01:02,  1.30it/s]"
     ]
    },
    {
     "name": "stdout",
     "output_type": "stream",
     "text": [
      "53\n"
     ]
    },
    {
     "name": "stderr",
     "output_type": "stream",
     "text": [
      "  5%|▍         | 4/84 [00:03<01:00,  1.33it/s]"
     ]
    },
    {
     "name": "stdout",
     "output_type": "stream",
     "text": [
      "54\n"
     ]
    },
    {
     "name": "stderr",
     "output_type": "stream",
     "text": [
      "  6%|▌         | 5/84 [00:03<01:01,  1.29it/s]"
     ]
    },
    {
     "name": "stdout",
     "output_type": "stream",
     "text": [
      "55\n"
     ]
    },
    {
     "name": "stderr",
     "output_type": "stream",
     "text": [
      "  6%|▌         | 5/84 [00:04<01:08,  1.16it/s]\n"
     ]
    },
    {
     "ename": "KeyboardInterrupt",
     "evalue": "",
     "output_type": "error",
     "traceback": [
      "\u001b[0;31m---------------------------------------------------------------------------\u001b[0m",
      "\u001b[0;31mKeyboardInterrupt\u001b[0m                         Traceback (most recent call last)",
      "\u001b[0;32m<ipython-input-57-58e7a82debfe>\u001b[0m in \u001b[0;36m<module>\u001b[0;34m\u001b[0m\n\u001b[1;32m      8\u001b[0m \u001b[0;34m\u001b[0m\u001b[0m\n\u001b[1;32m      9\u001b[0m \u001b[0;31m# Predicting over time\u001b[0m\u001b[0;34m\u001b[0m\u001b[0;34m\u001b[0m\u001b[0;34m\u001b[0m\u001b[0m\n\u001b[0;32m---> 10\u001b[0;31m pred_df = runningFBP(\n\u001b[0m\u001b[1;32m     11\u001b[0m     \u001b[0mprices\u001b[0m\u001b[0;34m,\u001b[0m\u001b[0;34m\u001b[0m\u001b[0;34m\u001b[0m\u001b[0m\n\u001b[1;32m     12\u001b[0m     \u001b[0mforecast_hours\u001b[0m\u001b[0;34m=\u001b[0m\u001b[0;36m5\u001b[0m\u001b[0;34m,\u001b[0m\u001b[0;34m\u001b[0m\u001b[0;34m\u001b[0m\u001b[0m\n",
      "\u001b[0;32m<ipython-input-56-98d062c88ab9>\u001b[0m in \u001b[0;36mrunningFBP\u001b[0;34m(prices, forecast_hours, training_hours)\u001b[0m\n\u001b[1;32m     13\u001b[0m \u001b[0;34m\u001b[0m\u001b[0m\n\u001b[1;32m     14\u001b[0m         \u001b[0;31m# Training and Predicting the last hour on the forecast\u001b[0m\u001b[0;34m\u001b[0m\u001b[0;34m\u001b[0m\u001b[0;34m\u001b[0m\u001b[0m\n\u001b[0;32m---> 15\u001b[0;31m         forecast = fbpTrainPredict(\n\u001b[0m\u001b[1;32m     16\u001b[0m             \u001b[0mprices\u001b[0m\u001b[0;34m[\u001b[0m\u001b[0mi\u001b[0m\u001b[0;34m-\u001b[0m\u001b[0mtraining_hours\u001b[0m\u001b[0;34m:\u001b[0m\u001b[0mi\u001b[0m\u001b[0;34m]\u001b[0m\u001b[0;34m,\u001b[0m\u001b[0;34m\u001b[0m\u001b[0;34m\u001b[0m\u001b[0m\n\u001b[1;32m     17\u001b[0m             \u001b[0mforecast_hours\u001b[0m\u001b[0;34m\u001b[0m\u001b[0;34m\u001b[0m\u001b[0m\n",
      "\u001b[0;32m<ipython-input-40-c6fe51f8ca2c>\u001b[0m in \u001b[0;36mfbpTrainPredict\u001b[0;34m(df, forecast_hours)\u001b[0m\n\u001b[1;32m     22\u001b[0m \u001b[0;34m\u001b[0m\u001b[0m\n\u001b[1;32m     23\u001b[0m     \u001b[0;31m# Predicting values\u001b[0m\u001b[0;34m\u001b[0m\u001b[0;34m\u001b[0m\u001b[0;34m\u001b[0m\u001b[0m\n\u001b[0;32m---> 24\u001b[0;31m     \u001b[0mforecast\u001b[0m \u001b[0;34m=\u001b[0m \u001b[0mm\u001b[0m\u001b[0;34m.\u001b[0m\u001b[0mpredict\u001b[0m\u001b[0;34m(\u001b[0m\u001b[0mfuture\u001b[0m\u001b[0;34m)\u001b[0m\u001b[0;34m\u001b[0m\u001b[0;34m\u001b[0m\u001b[0m\n\u001b[0m\u001b[1;32m     25\u001b[0m \u001b[0;34m\u001b[0m\u001b[0m\n\u001b[1;32m     26\u001b[0m     \u001b[0;31m# Returning a set of predicted values\u001b[0m\u001b[0;34m\u001b[0m\u001b[0;34m\u001b[0m\u001b[0;34m\u001b[0m\u001b[0m\n",
      "\u001b[0;32m~/miniforge3/lib/python3.9/site-packages/prophet/forecaster.py\u001b[0m in \u001b[0;36mpredict\u001b[0;34m(self, df)\u001b[0m\n\u001b[1;32m   1208\u001b[0m         \u001b[0mseasonal_components\u001b[0m \u001b[0;34m=\u001b[0m \u001b[0mself\u001b[0m\u001b[0;34m.\u001b[0m\u001b[0mpredict_seasonal_components\u001b[0m\u001b[0;34m(\u001b[0m\u001b[0mdf\u001b[0m\u001b[0;34m)\u001b[0m\u001b[0;34m\u001b[0m\u001b[0;34m\u001b[0m\u001b[0m\n\u001b[1;32m   1209\u001b[0m         \u001b[0;32mif\u001b[0m \u001b[0mself\u001b[0m\u001b[0;34m.\u001b[0m\u001b[0muncertainty_samples\u001b[0m\u001b[0;34m:\u001b[0m\u001b[0;34m\u001b[0m\u001b[0;34m\u001b[0m\u001b[0m\n\u001b[0;32m-> 1210\u001b[0;31m             \u001b[0mintervals\u001b[0m \u001b[0;34m=\u001b[0m \u001b[0mself\u001b[0m\u001b[0;34m.\u001b[0m\u001b[0mpredict_uncertainty\u001b[0m\u001b[0;34m(\u001b[0m\u001b[0mdf\u001b[0m\u001b[0;34m)\u001b[0m\u001b[0;34m\u001b[0m\u001b[0;34m\u001b[0m\u001b[0m\n\u001b[0m\u001b[1;32m   1211\u001b[0m         \u001b[0;32melse\u001b[0m\u001b[0;34m:\u001b[0m\u001b[0;34m\u001b[0m\u001b[0;34m\u001b[0m\u001b[0m\n\u001b[1;32m   1212\u001b[0m             \u001b[0mintervals\u001b[0m \u001b[0;34m=\u001b[0m \u001b[0;32mNone\u001b[0m\u001b[0;34m\u001b[0m\u001b[0;34m\u001b[0m\u001b[0m\n",
      "\u001b[0;32m~/miniforge3/lib/python3.9/site-packages/prophet/forecaster.py\u001b[0m in \u001b[0;36mpredict_uncertainty\u001b[0;34m(self, df)\u001b[0m\n\u001b[1;32m   1439\u001b[0m         \u001b[0mDataframe\u001b[0m \u001b[0;32mwith\u001b[0m \u001b[0muncertainty\u001b[0m \u001b[0mintervals\u001b[0m\u001b[0;34m.\u001b[0m\u001b[0;34m\u001b[0m\u001b[0;34m\u001b[0m\u001b[0m\n\u001b[1;32m   1440\u001b[0m         \"\"\"\n\u001b[0;32m-> 1441\u001b[0;31m         \u001b[0msim_values\u001b[0m \u001b[0;34m=\u001b[0m \u001b[0mself\u001b[0m\u001b[0;34m.\u001b[0m\u001b[0msample_posterior_predictive\u001b[0m\u001b[0;34m(\u001b[0m\u001b[0mdf\u001b[0m\u001b[0;34m)\u001b[0m\u001b[0;34m\u001b[0m\u001b[0;34m\u001b[0m\u001b[0m\n\u001b[0m\u001b[1;32m   1442\u001b[0m \u001b[0;34m\u001b[0m\u001b[0m\n\u001b[1;32m   1443\u001b[0m         \u001b[0mlower_p\u001b[0m \u001b[0;34m=\u001b[0m \u001b[0;36m100\u001b[0m \u001b[0;34m*\u001b[0m \u001b[0;34m(\u001b[0m\u001b[0;36m1.0\u001b[0m \u001b[0;34m-\u001b[0m \u001b[0mself\u001b[0m\u001b[0;34m.\u001b[0m\u001b[0minterval_width\u001b[0m\u001b[0;34m)\u001b[0m \u001b[0;34m/\u001b[0m \u001b[0;36m2\u001b[0m\u001b[0;34m\u001b[0m\u001b[0;34m\u001b[0m\u001b[0m\n",
      "\u001b[0;32m~/miniforge3/lib/python3.9/site-packages/prophet/forecaster.py\u001b[0m in \u001b[0;36msample_posterior_predictive\u001b[0;34m(self, df)\u001b[0m\n\u001b[1;32m   1392\u001b[0m         \u001b[0;32mfor\u001b[0m \u001b[0mi\u001b[0m \u001b[0;32min\u001b[0m \u001b[0mrange\u001b[0m\u001b[0;34m(\u001b[0m\u001b[0mn_iterations\u001b[0m\u001b[0;34m)\u001b[0m\u001b[0;34m:\u001b[0m\u001b[0;34m\u001b[0m\u001b[0;34m\u001b[0m\u001b[0m\n\u001b[1;32m   1393\u001b[0m             \u001b[0;32mfor\u001b[0m \u001b[0m_j\u001b[0m \u001b[0;32min\u001b[0m \u001b[0mrange\u001b[0m\u001b[0;34m(\u001b[0m\u001b[0msamp_per_iter\u001b[0m\u001b[0;34m)\u001b[0m\u001b[0;34m:\u001b[0m\u001b[0;34m\u001b[0m\u001b[0;34m\u001b[0m\u001b[0m\n\u001b[0;32m-> 1394\u001b[0;31m                 sim = self.sample_model(\n\u001b[0m\u001b[1;32m   1395\u001b[0m                     \u001b[0mdf\u001b[0m\u001b[0;34m=\u001b[0m\u001b[0mdf\u001b[0m\u001b[0;34m,\u001b[0m\u001b[0;34m\u001b[0m\u001b[0;34m\u001b[0m\u001b[0m\n\u001b[1;32m   1396\u001b[0m                     \u001b[0mseasonal_features\u001b[0m\u001b[0;34m=\u001b[0m\u001b[0mseasonal_features\u001b[0m\u001b[0;34m,\u001b[0m\u001b[0;34m\u001b[0m\u001b[0;34m\u001b[0m\u001b[0m\n",
      "\u001b[0;32m~/miniforge3/lib/python3.9/site-packages/prophet/forecaster.py\u001b[0m in \u001b[0;36msample_model\u001b[0;34m(self, df, seasonal_features, iteration, s_a, s_m)\u001b[0m\n\u001b[1;32m   1468\u001b[0m         \u001b[0mDataframe\u001b[0m \u001b[0;32mwith\u001b[0m \u001b[0mtrend\u001b[0m \u001b[0;32mand\u001b[0m \u001b[0myhat\u001b[0m\u001b[0;34m,\u001b[0m \u001b[0meach\u001b[0m \u001b[0mlike\u001b[0m \u001b[0mdf\u001b[0m\u001b[0;34m[\u001b[0m\u001b[0;34m't'\u001b[0m\u001b[0;34m]\u001b[0m\u001b[0;34m.\u001b[0m\u001b[0;34m\u001b[0m\u001b[0;34m\u001b[0m\u001b[0m\n\u001b[1;32m   1469\u001b[0m         \"\"\"\n\u001b[0;32m-> 1470\u001b[0;31m         \u001b[0mtrend\u001b[0m \u001b[0;34m=\u001b[0m \u001b[0mself\u001b[0m\u001b[0;34m.\u001b[0m\u001b[0msample_predictive_trend\u001b[0m\u001b[0;34m(\u001b[0m\u001b[0mdf\u001b[0m\u001b[0;34m,\u001b[0m \u001b[0miteration\u001b[0m\u001b[0;34m)\u001b[0m\u001b[0;34m\u001b[0m\u001b[0;34m\u001b[0m\u001b[0m\n\u001b[0m\u001b[1;32m   1471\u001b[0m \u001b[0;34m\u001b[0m\u001b[0m\n\u001b[1;32m   1472\u001b[0m         \u001b[0mbeta\u001b[0m \u001b[0;34m=\u001b[0m \u001b[0mself\u001b[0m\u001b[0;34m.\u001b[0m\u001b[0mparams\u001b[0m\u001b[0;34m[\u001b[0m\u001b[0;34m'beta'\u001b[0m\u001b[0;34m]\u001b[0m\u001b[0;34m[\u001b[0m\u001b[0miteration\u001b[0m\u001b[0;34m]\u001b[0m\u001b[0;34m\u001b[0m\u001b[0;34m\u001b[0m\u001b[0m\n",
      "\u001b[0;32m~/miniforge3/lib/python3.9/site-packages/prophet/forecaster.py\u001b[0m in \u001b[0;36msample_predictive_trend\u001b[0;34m(self, df, iteration)\u001b[0m\n\u001b[1;32m   1534\u001b[0m             \u001b[0mtrend\u001b[0m \u001b[0;34m=\u001b[0m \u001b[0mself\u001b[0m\u001b[0;34m.\u001b[0m\u001b[0mflat_trend\u001b[0m\u001b[0;34m(\u001b[0m\u001b[0mt\u001b[0m\u001b[0;34m,\u001b[0m \u001b[0mm\u001b[0m\u001b[0;34m)\u001b[0m\u001b[0;34m\u001b[0m\u001b[0;34m\u001b[0m\u001b[0m\n\u001b[1;32m   1535\u001b[0m \u001b[0;34m\u001b[0m\u001b[0m\n\u001b[0;32m-> 1536\u001b[0;31m         \u001b[0;32mreturn\u001b[0m \u001b[0mtrend\u001b[0m \u001b[0;34m*\u001b[0m \u001b[0mself\u001b[0m\u001b[0;34m.\u001b[0m\u001b[0my_scale\u001b[0m \u001b[0;34m+\u001b[0m \u001b[0mdf\u001b[0m\u001b[0;34m[\u001b[0m\u001b[0;34m'floor'\u001b[0m\u001b[0;34m]\u001b[0m\u001b[0;34m\u001b[0m\u001b[0;34m\u001b[0m\u001b[0m\n\u001b[0m\u001b[1;32m   1537\u001b[0m \u001b[0;34m\u001b[0m\u001b[0m\n\u001b[1;32m   1538\u001b[0m     \u001b[0;32mdef\u001b[0m \u001b[0mpercentile\u001b[0m\u001b[0;34m(\u001b[0m\u001b[0mself\u001b[0m\u001b[0;34m,\u001b[0m \u001b[0ma\u001b[0m\u001b[0;34m,\u001b[0m \u001b[0;34m*\u001b[0m\u001b[0margs\u001b[0m\u001b[0;34m,\u001b[0m \u001b[0;34m**\u001b[0m\u001b[0mkwargs\u001b[0m\u001b[0;34m)\u001b[0m\u001b[0;34m:\u001b[0m\u001b[0;34m\u001b[0m\u001b[0;34m\u001b[0m\u001b[0m\n",
      "\u001b[0;32m~/miniforge3/lib/python3.9/site-packages/pandas/core/frame.py\u001b[0m in \u001b[0;36m__getitem__\u001b[0;34m(self, key)\u001b[0m\n\u001b[1;32m   2994\u001b[0m                 \u001b[0;32mif\u001b[0m \u001b[0misinstance\u001b[0m\u001b[0;34m(\u001b[0m\u001b[0mself\u001b[0m\u001b[0;34m.\u001b[0m\u001b[0mcolumns\u001b[0m\u001b[0;34m,\u001b[0m \u001b[0mMultiIndex\u001b[0m\u001b[0;34m)\u001b[0m\u001b[0;34m:\u001b[0m\u001b[0;34m\u001b[0m\u001b[0;34m\u001b[0m\u001b[0m\n\u001b[1;32m   2995\u001b[0m                     \u001b[0;32mreturn\u001b[0m \u001b[0mself\u001b[0m\u001b[0;34m.\u001b[0m\u001b[0m_getitem_multilevel\u001b[0m\u001b[0;34m(\u001b[0m\u001b[0mkey\u001b[0m\u001b[0;34m)\u001b[0m\u001b[0;34m\u001b[0m\u001b[0;34m\u001b[0m\u001b[0m\n\u001b[0;32m-> 2996\u001b[0;31m                 \u001b[0;32mreturn\u001b[0m \u001b[0mself\u001b[0m\u001b[0;34m.\u001b[0m\u001b[0m_get_item_cache\u001b[0m\u001b[0;34m(\u001b[0m\u001b[0mkey\u001b[0m\u001b[0;34m)\u001b[0m\u001b[0;34m\u001b[0m\u001b[0;34m\u001b[0m\u001b[0m\n\u001b[0m\u001b[1;32m   2997\u001b[0m \u001b[0;34m\u001b[0m\u001b[0m\n\u001b[1;32m   2998\u001b[0m         \u001b[0;31m# Do we have a slicer (on rows)?\u001b[0m\u001b[0;34m\u001b[0m\u001b[0;34m\u001b[0m\u001b[0;34m\u001b[0m\u001b[0m\n",
      "\u001b[0;31mKeyboardInterrupt\u001b[0m: "
     ]
    }
   ],
   "source": [
    "# Getting Price data\n",
    "prices = getIntradayPrices(\n",
    "    crypto=\"BTC\", \n",
    "    n_hours=100, \n",
    "    training_hours=50, \n",
    "    mov_avg=5\n",
    ")\n",
    "\n",
    "# Predicting over time\n",
    "pred_df = runningFBP(\n",
    "    prices, \n",
    "    forecast_hours=5, \n",
    "    training_hours=50\n",
    ")"
   ]
  },
  {
   "cell_type": "markdown",
   "metadata": {},
   "source": [
    "# Determining Positions"
   ]
  },
  {
   "cell_type": "code",
   "execution_count": 45,
   "metadata": {},
   "outputs": [],
   "source": [
    "def fbpPositions(pred_df, short=True):\n",
    "    \"\"\"\n",
    "    Gets positions based on the predictions and the actual values. This\n",
    "    is the logic of the trading strategy.\n",
    "    \"\"\"\n",
    "    if pred_df['open'] < pred_df['yhat_lower']:\n",
    "        return 1\n",
    "    elif pred_df['open'] > pred_df['yhat_upper'] and short:\n",
    "        return -1\n",
    "    else:\n",
    "        return 0"
   ]
  },
  {
   "cell_type": "markdown",
   "metadata": {},
   "source": [
    "## Getting Other Positions"
   ]
  },
  {
   "cell_type": "code",
   "execution_count": 46,
   "metadata": {},
   "outputs": [],
   "source": [
    "# Adding sentiment positions to the forecast DF\n",
    "positions = pred_df\n",
    "\n",
    "# Getting forecast prophet positions\n",
    "positions['fbp_positions'] = positions.apply(\n",
    "    lambda x: fbpPositions(x, short=True), \n",
    "    axis=1\n",
    ")\n",
    "\n",
    "# Buy and hold position\n",
    "positions['buy_hold'] = 1\n",
    "\n",
    "# Random positions\n",
    "positions['random_positions'] = random.choices(\n",
    "    [1,0,-1], k=len(positions)\n",
    ")"
   ]
  },
  {
   "cell_type": "markdown",
   "metadata": {},
   "source": [
    "# Performing Backtest"
   ]
  },
  {
   "cell_type": "code",
   "execution_count": 47,
   "metadata": {},
   "outputs": [],
   "source": [
    "# Getting returns each hour\n",
    "log_returns = prices[['ds', 'open']].set_index(\n",
    "    'ds'\n",
    ").loc[positions.index].apply(np.log).diff()"
   ]
  },
  {
   "cell_type": "code",
   "execution_count": 48,
   "metadata": {},
   "outputs": [],
   "source": [
    "# The positions to backtest (shifted ahead by 1 to prevent lookahead bias)\n",
    "bt_positions = positions[[\n",
    "    'buy_hold', \n",
    "    'random_positions',\n",
    "    'fbp_positions'\n",
    "]].shift(1)\n",
    "\n",
    "# The returns during the backtest\n",
    "returns = bt_positions.multiply(\n",
    "    log_returns['open'], \n",
    "    axis=0\n",
    ")\n",
    "\n",
    "# Inversing the log returns to get daily portfolio balance\n",
    "performance = returns.cumsum().apply(\n",
    "    np.exp\n",
    ").dropna().fillna(\n",
    "    method='ffill'\n",
    ")"
   ]
  },
  {
   "cell_type": "code",
   "execution_count": 49,
   "metadata": {},
   "outputs": [
    {
     "data": {
      "text/html": [
       "<div>\n",
       "<style scoped>\n",
       "    .dataframe tbody tr th:only-of-type {\n",
       "        vertical-align: middle;\n",
       "    }\n",
       "\n",
       "    .dataframe tbody tr th {\n",
       "        vertical-align: top;\n",
       "    }\n",
       "\n",
       "    .dataframe thead th {\n",
       "        text-align: right;\n",
       "    }\n",
       "</style>\n",
       "<table border=\"1\" class=\"dataframe\">\n",
       "  <thead>\n",
       "    <tr style=\"text-align: right;\">\n",
       "      <th></th>\n",
       "      <th>buy_hold</th>\n",
       "      <th>random_positions</th>\n",
       "      <th>fbp_positions</th>\n",
       "    </tr>\n",
       "    <tr>\n",
       "      <th>ds</th>\n",
       "      <th></th>\n",
       "      <th></th>\n",
       "      <th></th>\n",
       "    </tr>\n",
       "  </thead>\n",
       "  <tbody>\n",
       "    <tr>\n",
       "      <th>2022-01-09 02:00:00</th>\n",
       "      <td>0.90122</td>\n",
       "      <td>0.881062</td>\n",
       "      <td>0.986653</td>\n",
       "    </tr>\n",
       "  </tbody>\n",
       "</table>\n",
       "</div>"
      ],
      "text/plain": [
       "                     buy_hold  random_positions  fbp_positions\n",
       "ds                                                            \n",
       "2022-01-09 02:00:00   0.90122          0.881062       0.986653"
      ]
     },
     "execution_count": 49,
     "metadata": {},
     "output_type": "execute_result"
    }
   ],
   "source": [
    "# Displaying the final balance of the portfolio\n",
    "performance.tail(1)"
   ]
  },
  {
   "cell_type": "markdown",
   "metadata": {},
   "source": [
    "# Visualizing the Backtest Performance"
   ]
  },
  {
   "cell_type": "code",
   "execution_count": 51,
   "metadata": {},
   "outputs": [
    {
     "data": {
      "application/vnd.plotly.v1+json": {
       "config": {
        "plotlyServerURL": "https://plot.ly"
       },
       "data": [
        {
         "hovertemplate": "variable=buy_hold<br>ds=%{x}<br>Portfolio Balance=%{y}<extra></extra>",
         "legendgroup": "buy_hold",
         "line": {
          "color": "#636efa",
          "dash": "solid"
         },
         "mode": "lines",
         "name": "buy_hold",
         "orientation": "v",
         "showlegend": true,
         "type": "scatter",
         "x": [
          "2022-01-05 23:00:00",
          "2022-01-06 00:00:00",
          "2022-01-06 01:00:00",
          "2022-01-06 02:00:00",
          "2022-01-06 03:00:00",
          "2022-01-06 04:00:00",
          "2022-01-06 05:00:00",
          "2022-01-06 06:00:00",
          "2022-01-06 07:00:00",
          "2022-01-06 08:00:00",
          "2022-01-06 09:00:00",
          "2022-01-06 10:00:00",
          "2022-01-06 11:00:00",
          "2022-01-06 12:00:00",
          "2022-01-06 13:00:00",
          "2022-01-06 14:00:00",
          "2022-01-06 15:00:00",
          "2022-01-06 16:00:00",
          "2022-01-06 17:00:00",
          "2022-01-06 18:00:00",
          "2022-01-06 19:00:00",
          "2022-01-06 20:00:00",
          "2022-01-06 21:00:00",
          "2022-01-06 22:00:00",
          "2022-01-06 23:00:00",
          "2022-01-07 00:00:00",
          "2022-01-07 01:00:00",
          "2022-01-07 02:00:00",
          "2022-01-07 03:00:00",
          "2022-01-07 04:00:00",
          "2022-01-07 05:00:00",
          "2022-01-07 06:00:00",
          "2022-01-07 07:00:00",
          "2022-01-07 08:00:00",
          "2022-01-07 09:00:00",
          "2022-01-07 10:00:00",
          "2022-01-07 11:00:00",
          "2022-01-07 12:00:00",
          "2022-01-07 13:00:00",
          "2022-01-07 14:00:00",
          "2022-01-07 15:00:00",
          "2022-01-07 16:00:00",
          "2022-01-07 17:00:00",
          "2022-01-07 18:00:00",
          "2022-01-07 19:00:00",
          "2022-01-07 20:00:00",
          "2022-01-07 21:00:00",
          "2022-01-07 22:00:00",
          "2022-01-07 23:00:00",
          "2022-01-08 00:00:00",
          "2022-01-08 01:00:00",
          "2022-01-08 02:00:00",
          "2022-01-08 03:00:00",
          "2022-01-08 04:00:00",
          "2022-01-08 05:00:00",
          "2022-01-08 06:00:00",
          "2022-01-08 07:00:00",
          "2022-01-08 08:00:00",
          "2022-01-08 09:00:00",
          "2022-01-08 10:00:00",
          "2022-01-08 11:00:00",
          "2022-01-08 12:00:00",
          "2022-01-08 13:00:00",
          "2022-01-08 14:00:00",
          "2022-01-08 15:00:00",
          "2022-01-08 16:00:00",
          "2022-01-08 17:00:00",
          "2022-01-08 18:00:00",
          "2022-01-08 19:00:00",
          "2022-01-08 20:00:00",
          "2022-01-08 21:00:00",
          "2022-01-08 22:00:00",
          "2022-01-08 23:00:00",
          "2022-01-09 00:00:00",
          "2022-01-09 01:00:00",
          "2022-01-09 02:00:00"
         ],
         "xaxis": "x",
         "y": [
          1,
          0.9399076304409228,
          0.942543521659192,
          0.9393116326604086,
          0.934685233599442,
          0.9259561247145572,
          0.9290432280426388,
          0.9295417188171453,
          0.9296206851682163,
          0.9334467178496614,
          0.9296430182244515,
          0.9201116889053392,
          0.9255534553888245,
          0.9255128345101593,
          0.927154188126295,
          0.9313115928984574,
          0.9267337366431432,
          0.9274153585391841,
          0.926097623627401,
          0.9290936249029988,
          0.9355043934448327,
          0.9355043934448327,
          0.9355043934448327,
          0.9355043934448327,
          0.9355043934448327,
          0.9307144152472951,
          0.9247626121800631,
          0.9276449255575849,
          0.9243569089505507,
          0.9023678607360842,
          0.898423420673976,
          0.902477587713815,
          0.8972254415541239,
          0.8999998820086195,
          0.9093747956206294,
          0.9159458565627511,
          0.9116705500749369,
          0.9117323241823397,
          0.9146517188481589,
          0.8966602044002703,
          0.9049759409611609,
          0.8907834067206163,
          0.9059792432149623,
          0.9055396611415507,
          0.9000796911059461,
          0.9017680705542711,
          0.9060309885081637,
          0.9044723936228231,
          0.8960560318818357,
          0.8966711602310359,
          0.9062171535334772,
          0.9048816364427013,
          0.9032730660917029,
          0.9030000970802169,
          0.904790787244299,
          0.9060936053618214,
          0.9050096512428639,
          0.9043981467327648,
          0.9061933035037785,
          0.9093370401051211,
          0.9045019744004117,
          0.9053202072076629,
          0.9035179712774909,
          0.9043383109935298,
          0.9023167053997798,
          0.8979036924219957,
          0.8943754900470382,
          0.8834200698881547,
          0.8804539864713897,
          0.881431163267659,
          0.8836455916727505,
          0.9020958187627371,
          0.9060801212491408,
          0.9004092090988088,
          0.9014420078598885,
          0.9012201942062807
         ],
         "yaxis": "y"
        },
        {
         "hovertemplate": "variable=random_positions<br>ds=%{x}<br>Portfolio Balance=%{y}<extra></extra>",
         "legendgroup": "random_positions",
         "line": {
          "color": "#EF553B",
          "dash": "solid"
         },
         "mode": "lines",
         "name": "random_positions",
         "orientation": "v",
         "showlegend": true,
         "type": "scatter",
         "x": [
          "2022-01-05 23:00:00",
          "2022-01-06 00:00:00",
          "2022-01-06 01:00:00",
          "2022-01-06 02:00:00",
          "2022-01-06 03:00:00",
          "2022-01-06 04:00:00",
          "2022-01-06 05:00:00",
          "2022-01-06 06:00:00",
          "2022-01-06 07:00:00",
          "2022-01-06 08:00:00",
          "2022-01-06 09:00:00",
          "2022-01-06 10:00:00",
          "2022-01-06 11:00:00",
          "2022-01-06 12:00:00",
          "2022-01-06 13:00:00",
          "2022-01-06 14:00:00",
          "2022-01-06 15:00:00",
          "2022-01-06 16:00:00",
          "2022-01-06 17:00:00",
          "2022-01-06 18:00:00",
          "2022-01-06 19:00:00",
          "2022-01-06 20:00:00",
          "2022-01-06 21:00:00",
          "2022-01-06 22:00:00",
          "2022-01-06 23:00:00",
          "2022-01-07 00:00:00",
          "2022-01-07 01:00:00",
          "2022-01-07 02:00:00",
          "2022-01-07 03:00:00",
          "2022-01-07 04:00:00",
          "2022-01-07 05:00:00",
          "2022-01-07 06:00:00",
          "2022-01-07 07:00:00",
          "2022-01-07 08:00:00",
          "2022-01-07 09:00:00",
          "2022-01-07 10:00:00",
          "2022-01-07 11:00:00",
          "2022-01-07 12:00:00",
          "2022-01-07 13:00:00",
          "2022-01-07 14:00:00",
          "2022-01-07 15:00:00",
          "2022-01-07 16:00:00",
          "2022-01-07 17:00:00",
          "2022-01-07 18:00:00",
          "2022-01-07 19:00:00",
          "2022-01-07 20:00:00",
          "2022-01-07 21:00:00",
          "2022-01-07 22:00:00",
          "2022-01-07 23:00:00",
          "2022-01-08 00:00:00",
          "2022-01-08 01:00:00",
          "2022-01-08 02:00:00",
          "2022-01-08 03:00:00",
          "2022-01-08 04:00:00",
          "2022-01-08 05:00:00",
          "2022-01-08 06:00:00",
          "2022-01-08 07:00:00",
          "2022-01-08 08:00:00",
          "2022-01-08 09:00:00",
          "2022-01-08 10:00:00",
          "2022-01-08 11:00:00",
          "2022-01-08 12:00:00",
          "2022-01-08 13:00:00",
          "2022-01-08 14:00:00",
          "2022-01-08 15:00:00",
          "2022-01-08 16:00:00",
          "2022-01-08 17:00:00",
          "2022-01-08 18:00:00",
          "2022-01-08 19:00:00",
          "2022-01-08 20:00:00",
          "2022-01-08 21:00:00",
          "2022-01-08 22:00:00",
          "2022-01-08 23:00:00",
          "2022-01-09 00:00:00",
          "2022-01-09 01:00:00",
          "2022-01-09 02:00:00"
         ],
         "xaxis": "x",
         "y": [
          1,
          0.9399076304409228,
          0.9399076304409228,
          0.9431415700889296,
          0.9384963074066612,
          0.9384963074066612,
          0.9416252192380729,
          0.9416252192380729,
          0.9415452331654456,
          0.9454203436170788,
          0.9415678526950836,
          0.951321443904215,
          0.956947792543061,
          0.956947792543061,
          0.9586448945833314,
          0.9586448945833314,
          0.9586448945833314,
          0.9593499874539575,
          0.9593499874539575,
          0.9593499874539575,
          0.9593499874539575,
          0.9593499874539575,
          0.9593499874539575,
          0.9593499874539575,
          0.9593499874539575,
          0.9544379148267075,
          0.9544379148267075,
          0.9574127206132799,
          0.9608183195704363,
          0.9379619097250621,
          0.9338618805746077,
          0.938075964901514,
          0.9326166469709302,
          0.9326166469709302,
          0.9230021287980268,
          0.9230021287980268,
          0.9230021287980268,
          0.9230021287980268,
          0.9259576097214098,
          0.9259576097214098,
          0.9259576097214098,
          0.9407105619902947,
          0.9249321829649851,
          0.9253811788778095,
          0.9198015740023964,
          0.9215269479769768,
          0.9258832718476061,
          0.9242905261797121,
          0.9156897513225195,
          0.9156897513225195,
          0.9060439747013689,
          0.9073812072901141,
          0.9089970935175373,
          0.9089970935175373,
          0.9071980785656957,
          0.9085043629682332,
          0.9074175248750133,
          0.9068043933926672,
          0.9068043933926672,
          0.9099502499673565,
          0.905111923744441,
          0.9042938791847971,
          0.902493686382818,
          0.902493686382818,
          0.902493686382818,
          0.8980798078338101,
          0.8945509134349535,
          0.8835933444728641,
          0.8835933444728641,
          0.8835933444728641,
          0.8858132049476138,
          0.8858132049476138,
          0.8858132049476138,
          0.880269137983716,
          0.8812788354256558,
          0.8810619832303638
         ],
         "yaxis": "y"
        },
        {
         "hovertemplate": "variable=fbp_positions<br>ds=%{x}<br>Portfolio Balance=%{y}<extra></extra>",
         "legendgroup": "fbp_positions",
         "line": {
          "color": "#00cc96",
          "dash": "solid"
         },
         "mode": "lines",
         "name": "fbp_positions",
         "orientation": "v",
         "showlegend": true,
         "type": "scatter",
         "x": [
          "2022-01-05 23:00:00",
          "2022-01-06 00:00:00",
          "2022-01-06 01:00:00",
          "2022-01-06 02:00:00",
          "2022-01-06 03:00:00",
          "2022-01-06 04:00:00",
          "2022-01-06 05:00:00",
          "2022-01-06 06:00:00",
          "2022-01-06 07:00:00",
          "2022-01-06 08:00:00",
          "2022-01-06 09:00:00",
          "2022-01-06 10:00:00",
          "2022-01-06 11:00:00",
          "2022-01-06 12:00:00",
          "2022-01-06 13:00:00",
          "2022-01-06 14:00:00",
          "2022-01-06 15:00:00",
          "2022-01-06 16:00:00",
          "2022-01-06 17:00:00",
          "2022-01-06 18:00:00",
          "2022-01-06 19:00:00",
          "2022-01-06 20:00:00",
          "2022-01-06 21:00:00",
          "2022-01-06 22:00:00",
          "2022-01-06 23:00:00",
          "2022-01-07 00:00:00",
          "2022-01-07 01:00:00",
          "2022-01-07 02:00:00",
          "2022-01-07 03:00:00",
          "2022-01-07 04:00:00",
          "2022-01-07 05:00:00",
          "2022-01-07 06:00:00",
          "2022-01-07 07:00:00",
          "2022-01-07 08:00:00",
          "2022-01-07 09:00:00",
          "2022-01-07 10:00:00",
          "2022-01-07 11:00:00",
          "2022-01-07 12:00:00",
          "2022-01-07 13:00:00",
          "2022-01-07 14:00:00",
          "2022-01-07 15:00:00",
          "2022-01-07 16:00:00",
          "2022-01-07 17:00:00",
          "2022-01-07 18:00:00",
          "2022-01-07 19:00:00",
          "2022-01-07 20:00:00",
          "2022-01-07 21:00:00",
          "2022-01-07 22:00:00",
          "2022-01-07 23:00:00",
          "2022-01-08 00:00:00",
          "2022-01-08 01:00:00",
          "2022-01-08 02:00:00",
          "2022-01-08 03:00:00",
          "2022-01-08 04:00:00",
          "2022-01-08 05:00:00",
          "2022-01-08 06:00:00",
          "2022-01-08 07:00:00",
          "2022-01-08 08:00:00",
          "2022-01-08 09:00:00",
          "2022-01-08 10:00:00",
          "2022-01-08 11:00:00",
          "2022-01-08 12:00:00",
          "2022-01-08 13:00:00",
          "2022-01-08 14:00:00",
          "2022-01-08 15:00:00",
          "2022-01-08 16:00:00",
          "2022-01-08 17:00:00",
          "2022-01-08 18:00:00",
          "2022-01-08 19:00:00",
          "2022-01-08 20:00:00",
          "2022-01-08 21:00:00",
          "2022-01-08 22:00:00",
          "2022-01-08 23:00:00",
          "2022-01-09 00:00:00",
          "2022-01-09 01:00:00",
          "2022-01-09 02:00:00"
         ],
         "xaxis": "x",
         "y": [
          1,
          1,
          1.0028044151711297,
          0.9993658974975715,
          0.9944437126879895,
          0.9851565140291278,
          0.9851565140291278,
          0.9846281983830981,
          0.9845445594352686,
          0.980509085756154,
          0.9845209074650169,
          0.9947194443423868,
          0.9888710182993773,
          0.9889144199769684,
          0.9871637313859389,
          0.9871637313859389,
          0.9871637313859389,
          0.9871637313859389,
          0.9871637313859389,
          0.9871637313859389,
          0.9871637313859389,
          0.9871637313859389,
          0.9871637313859389,
          0.9871637313859389,
          0.9871637313859389,
          0.9871637313859389,
          0.9871637313859389,
          0.9902405374670914,
          0.9867306521193187,
          0.9632578272028293,
          0.9590472242668394,
          0.9633749583360993,
          0.9577684079279222,
          0.9577684079279222,
          0.9577684079279222,
          0.9508973090176099,
          0.9553565705722953,
          0.9552918407192088,
          0.9522427304987543,
          0.9713495100341795,
          0.9713495100341795,
          0.9713495100341795,
          0.9879197202805541,
          0.9879197202805541,
          0.9879197202805541,
          0.9879197202805541,
          0.9879197202805541,
          0.9879197202805541,
          0.9879197202805541,
          0.9879197202805541,
          0.9879197202805541,
          0.9879197202805541,
          0.9879197202805541,
          0.9879197202805541,
          0.9879197202805541,
          0.9879197202805541,
          0.9879197202805541,
          0.9879197202805541,
          0.9879197202805541,
          0.9879197202805541,
          0.9879197202805541,
          0.9879197202805541,
          0.9879197202805541,
          0.9879197202805541,
          0.9879197202805541,
          0.9879197202805541,
          0.9879197202805541,
          0.9879197202805541,
          0.9846027792246527,
          0.9856955461428383,
          0.9856955461428383,
          0.9856955461428383,
          0.9813611510675776,
          0.9875419106813347,
          0.986410465671037,
          0.9866532468589796
         ],
         "yaxis": "y"
        }
       ],
       "layout": {
        "autosize": true,
        "legend": {
         "title": {
          "text": "variable"
         },
         "tracegroupgap": 0
        },
        "template": {
         "data": {
          "bar": [
           {
            "error_x": {
             "color": "#2a3f5f"
            },
            "error_y": {
             "color": "#2a3f5f"
            },
            "marker": {
             "line": {
              "color": "#E5ECF6",
              "width": 0.5
             }
            },
            "type": "bar"
           }
          ],
          "barpolar": [
           {
            "marker": {
             "line": {
              "color": "#E5ECF6",
              "width": 0.5
             }
            },
            "type": "barpolar"
           }
          ],
          "carpet": [
           {
            "aaxis": {
             "endlinecolor": "#2a3f5f",
             "gridcolor": "white",
             "linecolor": "white",
             "minorgridcolor": "white",
             "startlinecolor": "#2a3f5f"
            },
            "baxis": {
             "endlinecolor": "#2a3f5f",
             "gridcolor": "white",
             "linecolor": "white",
             "minorgridcolor": "white",
             "startlinecolor": "#2a3f5f"
            },
            "type": "carpet"
           }
          ],
          "choropleth": [
           {
            "colorbar": {
             "outlinewidth": 0,
             "ticks": ""
            },
            "type": "choropleth"
           }
          ],
          "contour": [
           {
            "colorbar": {
             "outlinewidth": 0,
             "ticks": ""
            },
            "colorscale": [
             [
              0,
              "#0d0887"
             ],
             [
              0.1111111111111111,
              "#46039f"
             ],
             [
              0.2222222222222222,
              "#7201a8"
             ],
             [
              0.3333333333333333,
              "#9c179e"
             ],
             [
              0.4444444444444444,
              "#bd3786"
             ],
             [
              0.5555555555555556,
              "#d8576b"
             ],
             [
              0.6666666666666666,
              "#ed7953"
             ],
             [
              0.7777777777777778,
              "#fb9f3a"
             ],
             [
              0.8888888888888888,
              "#fdca26"
             ],
             [
              1,
              "#f0f921"
             ]
            ],
            "type": "contour"
           }
          ],
          "contourcarpet": [
           {
            "colorbar": {
             "outlinewidth": 0,
             "ticks": ""
            },
            "type": "contourcarpet"
           }
          ],
          "heatmap": [
           {
            "colorbar": {
             "outlinewidth": 0,
             "ticks": ""
            },
            "colorscale": [
             [
              0,
              "#0d0887"
             ],
             [
              0.1111111111111111,
              "#46039f"
             ],
             [
              0.2222222222222222,
              "#7201a8"
             ],
             [
              0.3333333333333333,
              "#9c179e"
             ],
             [
              0.4444444444444444,
              "#bd3786"
             ],
             [
              0.5555555555555556,
              "#d8576b"
             ],
             [
              0.6666666666666666,
              "#ed7953"
             ],
             [
              0.7777777777777778,
              "#fb9f3a"
             ],
             [
              0.8888888888888888,
              "#fdca26"
             ],
             [
              1,
              "#f0f921"
             ]
            ],
            "type": "heatmap"
           }
          ],
          "heatmapgl": [
           {
            "colorbar": {
             "outlinewidth": 0,
             "ticks": ""
            },
            "colorscale": [
             [
              0,
              "#0d0887"
             ],
             [
              0.1111111111111111,
              "#46039f"
             ],
             [
              0.2222222222222222,
              "#7201a8"
             ],
             [
              0.3333333333333333,
              "#9c179e"
             ],
             [
              0.4444444444444444,
              "#bd3786"
             ],
             [
              0.5555555555555556,
              "#d8576b"
             ],
             [
              0.6666666666666666,
              "#ed7953"
             ],
             [
              0.7777777777777778,
              "#fb9f3a"
             ],
             [
              0.8888888888888888,
              "#fdca26"
             ],
             [
              1,
              "#f0f921"
             ]
            ],
            "type": "heatmapgl"
           }
          ],
          "histogram": [
           {
            "marker": {
             "colorbar": {
              "outlinewidth": 0,
              "ticks": ""
             }
            },
            "type": "histogram"
           }
          ],
          "histogram2d": [
           {
            "colorbar": {
             "outlinewidth": 0,
             "ticks": ""
            },
            "colorscale": [
             [
              0,
              "#0d0887"
             ],
             [
              0.1111111111111111,
              "#46039f"
             ],
             [
              0.2222222222222222,
              "#7201a8"
             ],
             [
              0.3333333333333333,
              "#9c179e"
             ],
             [
              0.4444444444444444,
              "#bd3786"
             ],
             [
              0.5555555555555556,
              "#d8576b"
             ],
             [
              0.6666666666666666,
              "#ed7953"
             ],
             [
              0.7777777777777778,
              "#fb9f3a"
             ],
             [
              0.8888888888888888,
              "#fdca26"
             ],
             [
              1,
              "#f0f921"
             ]
            ],
            "type": "histogram2d"
           }
          ],
          "histogram2dcontour": [
           {
            "colorbar": {
             "outlinewidth": 0,
             "ticks": ""
            },
            "colorscale": [
             [
              0,
              "#0d0887"
             ],
             [
              0.1111111111111111,
              "#46039f"
             ],
             [
              0.2222222222222222,
              "#7201a8"
             ],
             [
              0.3333333333333333,
              "#9c179e"
             ],
             [
              0.4444444444444444,
              "#bd3786"
             ],
             [
              0.5555555555555556,
              "#d8576b"
             ],
             [
              0.6666666666666666,
              "#ed7953"
             ],
             [
              0.7777777777777778,
              "#fb9f3a"
             ],
             [
              0.8888888888888888,
              "#fdca26"
             ],
             [
              1,
              "#f0f921"
             ]
            ],
            "type": "histogram2dcontour"
           }
          ],
          "mesh3d": [
           {
            "colorbar": {
             "outlinewidth": 0,
             "ticks": ""
            },
            "type": "mesh3d"
           }
          ],
          "parcoords": [
           {
            "line": {
             "colorbar": {
              "outlinewidth": 0,
              "ticks": ""
             }
            },
            "type": "parcoords"
           }
          ],
          "pie": [
           {
            "automargin": true,
            "type": "pie"
           }
          ],
          "scatter": [
           {
            "marker": {
             "colorbar": {
              "outlinewidth": 0,
              "ticks": ""
             }
            },
            "type": "scatter"
           }
          ],
          "scatter3d": [
           {
            "line": {
             "colorbar": {
              "outlinewidth": 0,
              "ticks": ""
             }
            },
            "marker": {
             "colorbar": {
              "outlinewidth": 0,
              "ticks": ""
             }
            },
            "type": "scatter3d"
           }
          ],
          "scattercarpet": [
           {
            "marker": {
             "colorbar": {
              "outlinewidth": 0,
              "ticks": ""
             }
            },
            "type": "scattercarpet"
           }
          ],
          "scattergeo": [
           {
            "marker": {
             "colorbar": {
              "outlinewidth": 0,
              "ticks": ""
             }
            },
            "type": "scattergeo"
           }
          ],
          "scattergl": [
           {
            "marker": {
             "colorbar": {
              "outlinewidth": 0,
              "ticks": ""
             }
            },
            "type": "scattergl"
           }
          ],
          "scattermapbox": [
           {
            "marker": {
             "colorbar": {
              "outlinewidth": 0,
              "ticks": ""
             }
            },
            "type": "scattermapbox"
           }
          ],
          "scatterpolar": [
           {
            "marker": {
             "colorbar": {
              "outlinewidth": 0,
              "ticks": ""
             }
            },
            "type": "scatterpolar"
           }
          ],
          "scatterpolargl": [
           {
            "marker": {
             "colorbar": {
              "outlinewidth": 0,
              "ticks": ""
             }
            },
            "type": "scatterpolargl"
           }
          ],
          "scatterternary": [
           {
            "marker": {
             "colorbar": {
              "outlinewidth": 0,
              "ticks": ""
             }
            },
            "type": "scatterternary"
           }
          ],
          "surface": [
           {
            "colorbar": {
             "outlinewidth": 0,
             "ticks": ""
            },
            "colorscale": [
             [
              0,
              "#0d0887"
             ],
             [
              0.1111111111111111,
              "#46039f"
             ],
             [
              0.2222222222222222,
              "#7201a8"
             ],
             [
              0.3333333333333333,
              "#9c179e"
             ],
             [
              0.4444444444444444,
              "#bd3786"
             ],
             [
              0.5555555555555556,
              "#d8576b"
             ],
             [
              0.6666666666666666,
              "#ed7953"
             ],
             [
              0.7777777777777778,
              "#fb9f3a"
             ],
             [
              0.8888888888888888,
              "#fdca26"
             ],
             [
              1,
              "#f0f921"
             ]
            ],
            "type": "surface"
           }
          ],
          "table": [
           {
            "cells": {
             "fill": {
              "color": "#EBF0F8"
             },
             "line": {
              "color": "white"
             }
            },
            "header": {
             "fill": {
              "color": "#C8D4E3"
             },
             "line": {
              "color": "white"
             }
            },
            "type": "table"
           }
          ]
         },
         "layout": {
          "annotationdefaults": {
           "arrowcolor": "#2a3f5f",
           "arrowhead": 0,
           "arrowwidth": 1
          },
          "autotypenumbers": "strict",
          "coloraxis": {
           "colorbar": {
            "outlinewidth": 0,
            "ticks": ""
           }
          },
          "colorscale": {
           "diverging": [
            [
             0,
             "#8e0152"
            ],
            [
             0.1,
             "#c51b7d"
            ],
            [
             0.2,
             "#de77ae"
            ],
            [
             0.3,
             "#f1b6da"
            ],
            [
             0.4,
             "#fde0ef"
            ],
            [
             0.5,
             "#f7f7f7"
            ],
            [
             0.6,
             "#e6f5d0"
            ],
            [
             0.7,
             "#b8e186"
            ],
            [
             0.8,
             "#7fbc41"
            ],
            [
             0.9,
             "#4d9221"
            ],
            [
             1,
             "#276419"
            ]
           ],
           "sequential": [
            [
             0,
             "#0d0887"
            ],
            [
             0.1111111111111111,
             "#46039f"
            ],
            [
             0.2222222222222222,
             "#7201a8"
            ],
            [
             0.3333333333333333,
             "#9c179e"
            ],
            [
             0.4444444444444444,
             "#bd3786"
            ],
            [
             0.5555555555555556,
             "#d8576b"
            ],
            [
             0.6666666666666666,
             "#ed7953"
            ],
            [
             0.7777777777777778,
             "#fb9f3a"
            ],
            [
             0.8888888888888888,
             "#fdca26"
            ],
            [
             1,
             "#f0f921"
            ]
           ],
           "sequentialminus": [
            [
             0,
             "#0d0887"
            ],
            [
             0.1111111111111111,
             "#46039f"
            ],
            [
             0.2222222222222222,
             "#7201a8"
            ],
            [
             0.3333333333333333,
             "#9c179e"
            ],
            [
             0.4444444444444444,
             "#bd3786"
            ],
            [
             0.5555555555555556,
             "#d8576b"
            ],
            [
             0.6666666666666666,
             "#ed7953"
            ],
            [
             0.7777777777777778,
             "#fb9f3a"
            ],
            [
             0.8888888888888888,
             "#fdca26"
            ],
            [
             1,
             "#f0f921"
            ]
           ]
          },
          "colorway": [
           "#636efa",
           "#EF553B",
           "#00cc96",
           "#ab63fa",
           "#FFA15A",
           "#19d3f3",
           "#FF6692",
           "#B6E880",
           "#FF97FF",
           "#FECB52"
          ],
          "font": {
           "color": "#2a3f5f"
          },
          "geo": {
           "bgcolor": "white",
           "lakecolor": "white",
           "landcolor": "#E5ECF6",
           "showlakes": true,
           "showland": true,
           "subunitcolor": "white"
          },
          "hoverlabel": {
           "align": "left"
          },
          "hovermode": "closest",
          "mapbox": {
           "style": "light"
          },
          "paper_bgcolor": "white",
          "plot_bgcolor": "#E5ECF6",
          "polar": {
           "angularaxis": {
            "gridcolor": "white",
            "linecolor": "white",
            "ticks": ""
           },
           "bgcolor": "#E5ECF6",
           "radialaxis": {
            "gridcolor": "white",
            "linecolor": "white",
            "ticks": ""
           }
          },
          "scene": {
           "xaxis": {
            "backgroundcolor": "#E5ECF6",
            "gridcolor": "white",
            "gridwidth": 2,
            "linecolor": "white",
            "showbackground": true,
            "ticks": "",
            "zerolinecolor": "white"
           },
           "yaxis": {
            "backgroundcolor": "#E5ECF6",
            "gridcolor": "white",
            "gridwidth": 2,
            "linecolor": "white",
            "showbackground": true,
            "ticks": "",
            "zerolinecolor": "white"
           },
           "zaxis": {
            "backgroundcolor": "#E5ECF6",
            "gridcolor": "white",
            "gridwidth": 2,
            "linecolor": "white",
            "showbackground": true,
            "ticks": "",
            "zerolinecolor": "white"
           }
          },
          "shapedefaults": {
           "line": {
            "color": "#2a3f5f"
           }
          },
          "ternary": {
           "aaxis": {
            "gridcolor": "white",
            "linecolor": "white",
            "ticks": ""
           },
           "baxis": {
            "gridcolor": "white",
            "linecolor": "white",
            "ticks": ""
           },
           "bgcolor": "#E5ECF6",
           "caxis": {
            "gridcolor": "white",
            "linecolor": "white",
            "ticks": ""
           }
          },
          "title": {
           "x": 0.05
          },
          "xaxis": {
           "automargin": true,
           "gridcolor": "white",
           "linecolor": "white",
           "ticks": "",
           "title": {
            "standoff": 15
           },
           "zerolinecolor": "white",
           "zerolinewidth": 2
          },
          "yaxis": {
           "automargin": true,
           "gridcolor": "white",
           "linecolor": "white",
           "ticks": "",
           "title": {
            "standoff": 15
           },
           "zerolinecolor": "white",
           "zerolinewidth": 2
          }
         }
        },
        "title": {
         "text": "FBProphet, Buy&Hold, Random Positions"
        },
        "xaxis": {
         "anchor": "y",
         "autorange": true,
         "domain": [
          0,
          1
         ],
         "range": [
          "2022-01-05 23:00",
          "2022-01-09 02:00"
         ],
         "title": {
          "text": "ds"
         },
         "type": "date"
        },
        "yaxis": {
         "anchor": "x",
         "autorange": true,
         "domain": [
          0,
          1
         ],
         "range": [
          0.8734616225844152,
          1.0096119305704305
         ],
         "title": {
          "text": "Portfolio Balance"
         },
         "type": "linear"
        }
       }
      },
      "image/png": "[encoded data removed]",
      "text/html": [
       "<div>                            <div id=\"5f08b5d9-f7de-4267-a178-630d99168e4d\" class=\"plotly-graph-div\" style=\"height:525px; width:100%;\"></div>            <script type=\"text/javascript\">                require([\"plotly\"], function(Plotly) {                    window.PLOTLYENV=window.PLOTLYENV || {};                                    if (document.getElementById(\"5f08b5d9-f7de-4267-a178-630d99168e4d\")) {                    Plotly.newPlot(                        \"5f08b5d9-f7de-4267-a178-630d99168e4d\",                        [{\"hovertemplate\": \"variable=buy_hold<br>ds=%{x}<br>Portfolio Balance=%{y}<extra></extra>\", \"legendgroup\": \"buy_hold\", \"line\": {\"color\": \"#636efa\", \"dash\": \"solid\"}, \"mode\": \"lines\", \"name\": \"buy_hold\", \"orientation\": \"v\", \"showlegend\": true, \"type\": \"scatter\", \"x\": [\"2022-01-05 23:00:00\", \"2022-01-06 00:00:00\", \"2022-01-06 01:00:00\", \"2022-01-06 02:00:00\", \"2022-01-06 03:00:00\", \"2022-01-06 04:00:00\", \"2022-01-06 05:00:00\", \"2022-01-06 06:00:00\", \"2022-01-06 07:00:00\", \"2022-01-06 08:00:00\", \"2022-01-06 09:00:00\", \"2022-01-06 10:00:00\", \"2022-01-06 11:00:00\", \"2022-01-06 12:00:00\", \"2022-01-06 13:00:00\", \"2022-01-06 14:00:00\", \"2022-01-06 15:00:00\", \"2022-01-06 16:00:00\", \"2022-01-06 17:00:00\", \"2022-01-06 18:00:00\", \"2022-01-06 19:00:00\", \"2022-01-06 20:00:00\", \"2022-01-06 21:00:00\", \"2022-01-06 22:00:00\", \"2022-01-06 23:00:00\", \"2022-01-07 00:00:00\", \"2022-01-07 01:00:00\", \"2022-01-07 02:00:00\", \"2022-01-07 03:00:00\", \"2022-01-07 04:00:00\", \"2022-01-07 05:00:00\", \"2022-01-07 06:00:00\", \"2022-01-07 07:00:00\", \"2022-01-07 08:00:00\", \"2022-01-07 09:00:00\", \"2022-01-07 10:00:00\", \"2022-01-07 11:00:00\", \"2022-01-07 12:00:00\", \"2022-01-07 13:00:00\", \"2022-01-07 14:00:00\", \"2022-01-07 15:00:00\", \"2022-01-07 16:00:00\", \"2022-01-07 17:00:00\", \"2022-01-07 18:00:00\", \"2022-01-07 19:00:00\", \"2022-01-07 20:00:00\", \"2022-01-07 21:00:00\", \"2022-01-07 22:00:00\", \"2022-01-07 23:00:00\", \"2022-01-08 00:00:00\", \"2022-01-08 01:00:00\", \"2022-01-08 02:00:00\", \"2022-01-08 03:00:00\", \"2022-01-08 04:00:00\", \"2022-01-08 05:00:00\", \"2022-01-08 06:00:00\", \"2022-01-08 07:00:00\", \"2022-01-08 08:00:00\", \"2022-01-08 09:00:00\", \"2022-01-08 10:00:00\", \"2022-01-08 11:00:00\", \"2022-01-08 12:00:00\", \"2022-01-08 13:00:00\", \"2022-01-08 14:00:00\", \"2022-01-08 15:00:00\", \"2022-01-08 16:00:00\", \"2022-01-08 17:00:00\", \"2022-01-08 18:00:00\", \"2022-01-08 19:00:00\", \"2022-01-08 20:00:00\", \"2022-01-08 21:00:00\", \"2022-01-08 22:00:00\", \"2022-01-08 23:00:00\", \"2022-01-09 00:00:00\", \"2022-01-09 01:00:00\", \"2022-01-09 02:00:00\"], \"xaxis\": \"x\", \"y\": [1.0, 0.9399076304409228, 0.942543521659192, 0.9393116326604086, 0.934685233599442, 0.9259561247145572, 0.9290432280426388, 0.9295417188171453, 0.9296206851682163, 0.9334467178496614, 0.9296430182244515, 0.9201116889053392, 0.9255534553888245, 0.9255128345101593, 0.927154188126295, 0.9313115928984574, 0.9267337366431432, 0.9274153585391841, 0.926097623627401, 0.9290936249029988, 0.9355043934448327, 0.9355043934448327, 0.9355043934448327, 0.9355043934448327, 0.9355043934448327, 0.9307144152472951, 0.9247626121800631, 0.9276449255575849, 0.9243569089505507, 0.9023678607360842, 0.898423420673976, 0.902477587713815, 0.8972254415541239, 0.8999998820086195, 0.9093747956206294, 0.9159458565627511, 0.9116705500749369, 0.9117323241823397, 0.9146517188481589, 0.8966602044002703, 0.9049759409611609, 0.8907834067206163, 0.9059792432149623, 0.9055396611415507, 0.9000796911059461, 0.9017680705542711, 0.9060309885081637, 0.9044723936228231, 0.8960560318818357, 0.8966711602310359, 0.9062171535334772, 0.9048816364427013, 0.9032730660917029, 0.9030000970802169, 0.904790787244299, 0.9060936053618214, 0.9050096512428639, 0.9043981467327648, 0.9061933035037785, 0.9093370401051211, 0.9045019744004117, 0.9053202072076629, 0.9035179712774909, 0.9043383109935298, 0.9023167053997798, 0.8979036924219957, 0.8943754900470382, 0.8834200698881547, 0.8804539864713897, 0.881431163267659, 0.8836455916727505, 0.9020958187627371, 0.9060801212491408, 0.9004092090988088, 0.9014420078598885, 0.9012201942062807], \"yaxis\": \"y\"}, {\"hovertemplate\": \"variable=random_positions<br>ds=%{x}<br>Portfolio Balance=%{y}<extra></extra>\", \"legendgroup\": \"random_positions\", \"line\": {\"color\": \"#EF553B\", \"dash\": \"solid\"}, \"mode\": \"lines\", \"name\": \"random_positions\", \"orientation\": \"v\", \"showlegend\": true, \"type\": \"scatter\", \"x\": [\"2022-01-05 23:00:00\", \"2022-01-06 00:00:00\", \"2022-01-06 01:00:00\", \"2022-01-06 02:00:00\", \"2022-01-06 03:00:00\", \"2022-01-06 04:00:00\", \"2022-01-06 05:00:00\", \"2022-01-06 06:00:00\", \"2022-01-06 07:00:00\", \"2022-01-06 08:00:00\", \"2022-01-06 09:00:00\", \"2022-01-06 10:00:00\", \"2022-01-06 11:00:00\", \"2022-01-06 12:00:00\", \"2022-01-06 13:00:00\", \"2022-01-06 14:00:00\", \"2022-01-06 15:00:00\", \"2022-01-06 16:00:00\", \"2022-01-06 17:00:00\", \"2022-01-06 18:00:00\", \"2022-01-06 19:00:00\", \"2022-01-06 20:00:00\", \"2022-01-06 21:00:00\", \"2022-01-06 22:00:00\", \"2022-01-06 23:00:00\", \"2022-01-07 00:00:00\", \"2022-01-07 01:00:00\", \"2022-01-07 02:00:00\", \"2022-01-07 03:00:00\", \"2022-01-07 04:00:00\", \"2022-01-07 05:00:00\", \"2022-01-07 06:00:00\", \"2022-01-07 07:00:00\", \"2022-01-07 08:00:00\", \"2022-01-07 09:00:00\", \"2022-01-07 10:00:00\", \"2022-01-07 11:00:00\", \"2022-01-07 12:00:00\", \"2022-01-07 13:00:00\", \"2022-01-07 14:00:00\", \"2022-01-07 15:00:00\", \"2022-01-07 16:00:00\", \"2022-01-07 17:00:00\", \"2022-01-07 18:00:00\", \"2022-01-07 19:00:00\", \"2022-01-07 20:00:00\", \"2022-01-07 21:00:00\", \"2022-01-07 22:00:00\", \"2022-01-07 23:00:00\", \"2022-01-08 00:00:00\", \"2022-01-08 01:00:00\", \"2022-01-08 02:00:00\", \"2022-01-08 03:00:00\", \"2022-01-08 04:00:00\", \"2022-01-08 05:00:00\", \"2022-01-08 06:00:00\", \"2022-01-08 07:00:00\", \"2022-01-08 08:00:00\", \"2022-01-08 09:00:00\", \"2022-01-08 10:00:00\", \"2022-01-08 11:00:00\", \"2022-01-08 12:00:00\", \"2022-01-08 13:00:00\", \"2022-01-08 14:00:00\", \"2022-01-08 15:00:00\", \"2022-01-08 16:00:00\", \"2022-01-08 17:00:00\", \"2022-01-08 18:00:00\", \"2022-01-08 19:00:00\", \"2022-01-08 20:00:00\", \"2022-01-08 21:00:00\", \"2022-01-08 22:00:00\", \"2022-01-08 23:00:00\", \"2022-01-09 00:00:00\", \"2022-01-09 01:00:00\", \"2022-01-09 02:00:00\"], \"xaxis\": \"x\", \"y\": [1.0, 0.9399076304409228, 0.9399076304409228, 0.9431415700889296, 0.9384963074066612, 0.9384963074066612, 0.9416252192380729, 0.9416252192380729, 0.9415452331654456, 0.9454203436170788, 0.9415678526950836, 0.951321443904215, 0.956947792543061, 0.956947792543061, 0.9586448945833314, 0.9586448945833314, 0.9586448945833314, 0.9593499874539575, 0.9593499874539575, 0.9593499874539575, 0.9593499874539575, 0.9593499874539575, 0.9593499874539575, 0.9593499874539575, 0.9593499874539575, 0.9544379148267075, 0.9544379148267075, 0.9574127206132799, 0.9608183195704363, 0.9379619097250621, 0.9338618805746077, 0.938075964901514, 0.9326166469709302, 0.9326166469709302, 0.9230021287980268, 0.9230021287980268, 0.9230021287980268, 0.9230021287980268, 0.9259576097214098, 0.9259576097214098, 0.9259576097214098, 0.9407105619902947, 0.9249321829649851, 0.9253811788778095, 0.9198015740023964, 0.9215269479769768, 0.9258832718476061, 0.9242905261797121, 0.9156897513225195, 0.9156897513225195, 0.9060439747013689, 0.9073812072901141, 0.9089970935175373, 0.9089970935175373, 0.9071980785656957, 0.9085043629682332, 0.9074175248750133, 0.9068043933926672, 0.9068043933926672, 0.9099502499673565, 0.905111923744441, 0.9042938791847971, 0.902493686382818, 0.902493686382818, 0.902493686382818, 0.8980798078338101, 0.8945509134349535, 0.8835933444728641, 0.8835933444728641, 0.8835933444728641, 0.8858132049476138, 0.8858132049476138, 0.8858132049476138, 0.880269137983716, 0.8812788354256558, 0.8810619832303638], \"yaxis\": \"y\"}, {\"hovertemplate\": \"variable=fbp_positions<br>ds=%{x}<br>Portfolio Balance=%{y}<extra></extra>\", \"legendgroup\": \"fbp_positions\", \"line\": {\"color\": \"#00cc96\", \"dash\": \"solid\"}, \"mode\": \"lines\", \"name\": \"fbp_positions\", \"orientation\": \"v\", \"showlegend\": true, \"type\": \"scatter\", \"x\": [\"2022-01-05 23:00:00\", \"2022-01-06 00:00:00\", \"2022-01-06 01:00:00\", \"2022-01-06 02:00:00\", \"2022-01-06 03:00:00\", \"2022-01-06 04:00:00\", \"2022-01-06 05:00:00\", \"2022-01-06 06:00:00\", \"2022-01-06 07:00:00\", \"2022-01-06 08:00:00\", \"2022-01-06 09:00:00\", \"2022-01-06 10:00:00\", \"2022-01-06 11:00:00\", \"2022-01-06 12:00:00\", \"2022-01-06 13:00:00\", \"2022-01-06 14:00:00\", \"2022-01-06 15:00:00\", \"2022-01-06 16:00:00\", \"2022-01-06 17:00:00\", \"2022-01-06 18:00:00\", \"2022-01-06 19:00:00\", \"2022-01-06 20:00:00\", \"2022-01-06 21:00:00\", \"2022-01-06 22:00:00\", \"2022-01-06 23:00:00\", \"2022-01-07 00:00:00\", \"2022-01-07 01:00:00\", \"2022-01-07 02:00:00\", \"2022-01-07 03:00:00\", \"2022-01-07 04:00:00\", \"2022-01-07 05:00:00\", \"2022-01-07 06:00:00\", \"2022-01-07 07:00:00\", \"2022-01-07 08:00:00\", \"2022-01-07 09:00:00\", \"2022-01-07 10:00:00\", \"2022-01-07 11:00:00\", \"2022-01-07 12:00:00\", \"2022-01-07 13:00:00\", \"2022-01-07 14:00:00\", \"2022-01-07 15:00:00\", \"2022-01-07 16:00:00\", \"2022-01-07 17:00:00\", \"2022-01-07 18:00:00\", \"2022-01-07 19:00:00\", \"2022-01-07 20:00:00\", \"2022-01-07 21:00:00\", \"2022-01-07 22:00:00\", \"2022-01-07 23:00:00\", \"2022-01-08 00:00:00\", \"2022-01-08 01:00:00\", \"2022-01-08 02:00:00\", \"2022-01-08 03:00:00\", \"2022-01-08 04:00:00\", \"2022-01-08 05:00:00\", \"2022-01-08 06:00:00\", \"2022-01-08 07:00:00\", \"2022-01-08 08:00:00\", \"2022-01-08 09:00:00\", \"2022-01-08 10:00:00\", \"2022-01-08 11:00:00\", \"2022-01-08 12:00:00\", \"2022-01-08 13:00:00\", \"2022-01-08 14:00:00\", \"2022-01-08 15:00:00\", \"2022-01-08 16:00:00\", \"2022-01-08 17:00:00\", \"2022-01-08 18:00:00\", \"2022-01-08 19:00:00\", \"2022-01-08 20:00:00\", \"2022-01-08 21:00:00\", \"2022-01-08 22:00:00\", \"2022-01-08 23:00:00\", \"2022-01-09 00:00:00\", \"2022-01-09 01:00:00\", \"2022-01-09 02:00:00\"], \"xaxis\": \"x\", \"y\": [1.0, 1.0, 1.0028044151711297, 0.9993658974975715, 0.9944437126879895, 0.9851565140291278, 0.9851565140291278, 0.9846281983830981, 0.9845445594352686, 0.980509085756154, 0.9845209074650169, 0.9947194443423868, 0.9888710182993773, 0.9889144199769684, 0.9871637313859389, 0.9871637313859389, 0.9871637313859389, 0.9871637313859389, 0.9871637313859389, 0.9871637313859389, 0.9871637313859389, 0.9871637313859389, 0.9871637313859389, 0.9871637313859389, 0.9871637313859389, 0.9871637313859389, 0.9871637313859389, 0.9902405374670914, 0.9867306521193187, 0.9632578272028293, 0.9590472242668394, 0.9633749583360993, 0.9577684079279222, 0.9577684079279222, 0.9577684079279222, 0.9508973090176099, 0.9553565705722953, 0.9552918407192088, 0.9522427304987543, 0.9713495100341795, 0.9713495100341795, 0.9713495100341795, 0.9879197202805541, 0.9879197202805541, 0.9879197202805541, 0.9879197202805541, 0.9879197202805541, 0.9879197202805541, 0.9879197202805541, 0.9879197202805541, 0.9879197202805541, 0.9879197202805541, 0.9879197202805541, 0.9879197202805541, 0.9879197202805541, 0.9879197202805541, 0.9879197202805541, 0.9879197202805541, 0.9879197202805541, 0.9879197202805541, 0.9879197202805541, 0.9879197202805541, 0.9879197202805541, 0.9879197202805541, 0.9879197202805541, 0.9879197202805541, 0.9879197202805541, 0.9879197202805541, 0.9846027792246527, 0.9856955461428383, 0.9856955461428383, 0.9856955461428383, 0.9813611510675776, 0.9875419106813347, 0.986410465671037, 0.9866532468589796], \"yaxis\": \"y\"}],                        {\"legend\": {\"title\": {\"text\": \"variable\"}, \"tracegroupgap\": 0}, \"template\": {\"data\": {\"bar\": [{\"error_x\": {\"color\": \"#2a3f5f\"}, \"error_y\": {\"color\": \"#2a3f5f\"}, \"marker\": {\"line\": {\"color\": \"#E5ECF6\", \"width\": 0.5}}, \"type\": \"bar\"}], \"barpolar\": [{\"marker\": {\"line\": {\"color\": \"#E5ECF6\", \"width\": 0.5}}, \"type\": \"barpolar\"}], \"carpet\": [{\"aaxis\": {\"endlinecolor\": \"#2a3f5f\", \"gridcolor\": \"white\", \"linecolor\": \"white\", \"minorgridcolor\": \"white\", \"startlinecolor\": \"#2a3f5f\"}, \"baxis\": {\"endlinecolor\": \"#2a3f5f\", \"gridcolor\": \"white\", \"linecolor\": \"white\", \"minorgridcolor\": \"white\", \"startlinecolor\": \"#2a3f5f\"}, \"type\": \"carpet\"}], \"choropleth\": [{\"colorbar\": {\"outlinewidth\": 0, \"ticks\": \"\"}, \"type\": \"choropleth\"}], \"contour\": [{\"colorbar\": {\"outlinewidth\": 0, \"ticks\": \"\"}, \"colorscale\": [[0.0, \"#0d0887\"], [0.1111111111111111, \"#46039f\"], [0.2222222222222222, \"#7201a8\"], [0.3333333333333333, \"#9c179e\"], [0.4444444444444444, \"#bd3786\"], [0.5555555555555556, \"#d8576b\"], [0.6666666666666666, \"#ed7953\"], [0.7777777777777778, \"#fb9f3a\"], [0.8888888888888888, \"#fdca26\"], [1.0, \"#f0f921\"]], \"type\": \"contour\"}], \"contourcarpet\": [{\"colorbar\": {\"outlinewidth\": 0, \"ticks\": \"\"}, \"type\": \"contourcarpet\"}], \"heatmap\": [{\"colorbar\": {\"outlinewidth\": 0, \"ticks\": \"\"}, \"colorscale\": [[0.0, \"#0d0887\"], [0.1111111111111111, \"#46039f\"], [0.2222222222222222, \"#7201a8\"], [0.3333333333333333, \"#9c179e\"], [0.4444444444444444, \"#bd3786\"], [0.5555555555555556, \"#d8576b\"], [0.6666666666666666, \"#ed7953\"], [0.7777777777777778, \"#fb9f3a\"], [0.8888888888888888, \"#fdca26\"], [1.0, \"#f0f921\"]], \"type\": \"heatmap\"}], \"heatmapgl\": [{\"colorbar\": {\"outlinewidth\": 0, \"ticks\": \"\"}, \"colorscale\": [[0.0, \"#0d0887\"], [0.1111111111111111, \"#46039f\"], [0.2222222222222222, \"#7201a8\"], [0.3333333333333333, \"#9c179e\"], [0.4444444444444444, \"#bd3786\"], [0.5555555555555556, \"#d8576b\"], [0.6666666666666666, \"#ed7953\"], [0.7777777777777778, \"#fb9f3a\"], [0.8888888888888888, \"#fdca26\"], [1.0, \"#f0f921\"]], \"type\": \"heatmapgl\"}], \"histogram\": [{\"marker\": {\"colorbar\": {\"outlinewidth\": 0, \"ticks\": \"\"}}, \"type\": \"histogram\"}], \"histogram2d\": [{\"colorbar\": {\"outlinewidth\": 0, \"ticks\": \"\"}, \"colorscale\": [[0.0, \"#0d0887\"], [0.1111111111111111, \"#46039f\"], [0.2222222222222222, \"#7201a8\"], [0.3333333333333333, \"#9c179e\"], [0.4444444444444444, \"#bd3786\"], [0.5555555555555556, \"#d8576b\"], [0.6666666666666666, \"#ed7953\"], [0.7777777777777778, \"#fb9f3a\"], [0.8888888888888888, \"#fdca26\"], [1.0, \"#f0f921\"]], \"type\": \"histogram2d\"}], \"histogram2dcontour\": [{\"colorbar\": {\"outlinewidth\": 0, \"ticks\": \"\"}, \"colorscale\": [[0.0, \"#0d0887\"], [0.1111111111111111, \"#46039f\"], [0.2222222222222222, \"#7201a8\"], [0.3333333333333333, \"#9c179e\"], [0.4444444444444444, \"#bd3786\"], [0.5555555555555556, \"#d8576b\"], [0.6666666666666666, \"#ed7953\"], [0.7777777777777778, \"#fb9f3a\"], [0.8888888888888888, \"#fdca26\"], [1.0, \"#f0f921\"]], \"type\": \"histogram2dcontour\"}], \"mesh3d\": [{\"colorbar\": {\"outlinewidth\": 0, \"ticks\": \"\"}, \"type\": \"mesh3d\"}], \"parcoords\": [{\"line\": {\"colorbar\": {\"outlinewidth\": 0, \"ticks\": \"\"}}, \"type\": \"parcoords\"}], \"pie\": [{\"automargin\": true, \"type\": \"pie\"}], \"scatter\": [{\"marker\": {\"colorbar\": {\"outlinewidth\": 0, \"ticks\": \"\"}}, \"type\": \"scatter\"}], \"scatter3d\": [{\"line\": {\"colorbar\": {\"outlinewidth\": 0, \"ticks\": \"\"}}, \"marker\": {\"colorbar\": {\"outlinewidth\": 0, \"ticks\": \"\"}}, \"type\": \"scatter3d\"}], \"scattercarpet\": [{\"marker\": {\"colorbar\": {\"outlinewidth\": 0, \"ticks\": \"\"}}, \"type\": \"scattercarpet\"}], \"scattergeo\": [{\"marker\": {\"colorbar\": {\"outlinewidth\": 0, \"ticks\": \"\"}}, \"type\": \"scattergeo\"}], \"scattergl\": [{\"marker\": {\"colorbar\": {\"outlinewidth\": 0, \"ticks\": \"\"}}, \"type\": \"scattergl\"}], \"scattermapbox\": [{\"marker\": {\"colorbar\": {\"outlinewidth\": 0, \"ticks\": \"\"}}, \"type\": \"scattermapbox\"}], \"scatterpolar\": [{\"marker\": {\"colorbar\": {\"outlinewidth\": 0, \"ticks\": \"\"}}, \"type\": \"scatterpolar\"}], \"scatterpolargl\": [{\"marker\": {\"colorbar\": {\"outlinewidth\": 0, \"ticks\": \"\"}}, \"type\": \"scatterpolargl\"}], \"scatterternary\": [{\"marker\": {\"colorbar\": {\"outlinewidth\": 0, \"ticks\": \"\"}}, \"type\": \"scatterternary\"}], \"surface\": [{\"colorbar\": {\"outlinewidth\": 0, \"ticks\": \"\"}, \"colorscale\": [[0.0, \"#0d0887\"], [0.1111111111111111, \"#46039f\"], [0.2222222222222222, \"#7201a8\"], [0.3333333333333333, \"#9c179e\"], [0.4444444444444444, \"#bd3786\"], [0.5555555555555556, \"#d8576b\"], [0.6666666666666666, \"#ed7953\"], [0.7777777777777778, \"#fb9f3a\"], [0.8888888888888888, \"#fdca26\"], [1.0, \"#f0f921\"]], \"type\": \"surface\"}], \"table\": [{\"cells\": {\"fill\": {\"color\": \"#EBF0F8\"}, \"line\": {\"color\": \"white\"}}, \"header\": {\"fill\": {\"color\": \"#C8D4E3\"}, \"line\": {\"color\": \"white\"}}, \"type\": \"table\"}]}, \"layout\": {\"annotationdefaults\": {\"arrowcolor\": \"#2a3f5f\", \"arrowhead\": 0, \"arrowwidth\": 1}, \"autotypenumbers\": \"strict\", \"coloraxis\": {\"colorbar\": {\"outlinewidth\": 0, \"ticks\": \"\"}}, \"colorscale\": {\"diverging\": [[0, \"#8e0152\"], [0.1, \"#c51b7d\"], [0.2, \"#de77ae\"], [0.3, \"#f1b6da\"], [0.4, \"#fde0ef\"], [0.5, \"#f7f7f7\"], [0.6, \"#e6f5d0\"], [0.7, \"#b8e186\"], [0.8, \"#7fbc41\"], [0.9, \"#4d9221\"], [1, \"#276419\"]], \"sequential\": [[0.0, \"#0d0887\"], [0.1111111111111111, \"#46039f\"], [0.2222222222222222, \"#7201a8\"], [0.3333333333333333, \"#9c179e\"], [0.4444444444444444, \"#bd3786\"], [0.5555555555555556, \"#d8576b\"], [0.6666666666666666, \"#ed7953\"], [0.7777777777777778, \"#fb9f3a\"], [0.8888888888888888, \"#fdca26\"], [1.0, \"#f0f921\"]], \"sequentialminus\": [[0.0, \"#0d0887\"], [0.1111111111111111, \"#46039f\"], [0.2222222222222222, \"#7201a8\"], [0.3333333333333333, \"#9c179e\"], [0.4444444444444444, \"#bd3786\"], [0.5555555555555556, \"#d8576b\"], [0.6666666666666666, \"#ed7953\"], [0.7777777777777778, \"#fb9f3a\"], [0.8888888888888888, \"#fdca26\"], [1.0, \"#f0f921\"]]}, \"colorway\": [\"#636efa\", \"#EF553B\", \"#00cc96\", \"#ab63fa\", \"#FFA15A\", \"#19d3f3\", \"#FF6692\", \"#B6E880\", \"#FF97FF\", \"#FECB52\"], \"font\": {\"color\": \"#2a3f5f\"}, \"geo\": {\"bgcolor\": \"white\", \"lakecolor\": \"white\", \"landcolor\": \"#E5ECF6\", \"showlakes\": true, \"showland\": true, \"subunitcolor\": \"white\"}, \"hoverlabel\": {\"align\": \"left\"}, \"hovermode\": \"closest\", \"mapbox\": {\"style\": \"light\"}, \"paper_bgcolor\": \"white\", \"plot_bgcolor\": \"#E5ECF6\", \"polar\": {\"angularaxis\": {\"gridcolor\": \"white\", \"linecolor\": \"white\", \"ticks\": \"\"}, \"bgcolor\": \"#E5ECF6\", \"radialaxis\": {\"gridcolor\": \"white\", \"linecolor\": \"white\", \"ticks\": \"\"}}, \"scene\": {\"xaxis\": {\"backgroundcolor\": \"#E5ECF6\", \"gridcolor\": \"white\", \"gridwidth\": 2, \"linecolor\": \"white\", \"showbackground\": true, \"ticks\": \"\", \"zerolinecolor\": \"white\"}, \"yaxis\": {\"backgroundcolor\": \"#E5ECF6\", \"gridcolor\": \"white\", \"gridwidth\": 2, \"linecolor\": \"white\", \"showbackground\": true, \"ticks\": \"\", \"zerolinecolor\": \"white\"}, \"zaxis\": {\"backgroundcolor\": \"#E5ECF6\", \"gridcolor\": \"white\", \"gridwidth\": 2, \"linecolor\": \"white\", \"showbackground\": true, \"ticks\": \"\", \"zerolinecolor\": \"white\"}}, \"shapedefaults\": {\"line\": {\"color\": \"#2a3f5f\"}}, \"ternary\": {\"aaxis\": {\"gridcolor\": \"white\", \"linecolor\": \"white\", \"ticks\": \"\"}, \"baxis\": {\"gridcolor\": \"white\", \"linecolor\": \"white\", \"ticks\": \"\"}, \"bgcolor\": \"#E5ECF6\", \"caxis\": {\"gridcolor\": \"white\", \"linecolor\": \"white\", \"ticks\": \"\"}}, \"title\": {\"x\": 0.05}, \"xaxis\": {\"automargin\": true, \"gridcolor\": \"white\", \"linecolor\": \"white\", \"ticks\": \"\", \"title\": {\"standoff\": 15}, \"zerolinecolor\": \"white\", \"zerolinewidth\": 2}, \"yaxis\": {\"automargin\": true, \"gridcolor\": \"white\", \"linecolor\": \"white\", \"ticks\": \"\", \"title\": {\"standoff\": 15}, \"zerolinecolor\": \"white\", \"zerolinewidth\": 2}}}, \"title\": {\"text\": \"FBProphet, Buy&Hold, Random Positions\"}, \"xaxis\": {\"anchor\": \"y\", \"domain\": [0.0, 1.0], \"title\": {\"text\": \"ds\"}}, \"yaxis\": {\"anchor\": \"x\", \"domain\": [0.0, 1.0], \"title\": {\"text\": \"Portfolio Balance\"}}},                        {\"responsive\": true}                    ).then(function(){\n",
       "                            \n",
       "var gd = document.getElementById('5f08b5d9-f7de-4267-a178-630d99168e4d');\n",
       "var x = new MutationObserver(function (mutations, observer) {{\n",
       "        var display = window.getComputedStyle(gd).display;\n",
       "        if (!display || display === 'none') {{\n",
       "            console.log([gd, 'removed!']);\n",
       "            Plotly.purge(gd);\n",
       "            observer.disconnect();\n",
       "        }}\n",
       "}});\n",
       "\n",
       "// Listen for the removal of the full notebook cells\n",
       "var notebookContainer = gd.closest('#notebook-container');\n",
       "if (notebookContainer) {{\n",
       "    x.observe(notebookContainer, {childList: true});\n",
       "}}\n",
       "\n",
       "// Listen for the clearing of the current output cell\n",
       "var outputEl = gd.closest('.output');\n",
       "if (outputEl) {{\n",
       "    x.observe(outputEl, {childList: true});\n",
       "}}\n",
       "\n",
       "                        })                };                });            </script>        </div>"
      ]
     },
     "metadata": {},
     "output_type": "display_data"
    }
   ],
   "source": [
    "# Visualizing results\n",
    "fig = px.line(\n",
    "    performance,\n",
    "    x=performance.index,\n",
    "    y=performance.columns,\n",
    "    title='FBProphet, Buy&Hold, Random Positions',\n",
    "    labels={\"value\": \"Portfolio Balance\",\n",
    "            \"index\": \"Date\"}\n",
    ")\n",
    "\n",
    "fig.show()"
   ]
  },
  {
   "cell_type": "markdown",
   "metadata": {},
   "source": [
    "# Backtesting and Visualization Function"
   ]
  },
  {
   "cell_type": "code",
   "execution_count": 53,
   "metadata": {},
   "outputs": [],
   "source": [
    "def backtestPerformanceVis(ticker, n_hours, training_hours, mov_avg, forecast_hours):\n",
    "    \"\"\"\n",
    "    Consolidates the previous functions that support the backtesting process.\n",
    "    \"\"\"\n",
    "    # Getting Price data\n",
    "    print(\"Getting price data...\")\n",
    "    prices = getIntradayPrices(\n",
    "        crypto=ticker, \n",
    "        n_hours=n_hours, \n",
    "        training_hours=training_hours, \n",
    "        mov_avg=mov_avg\n",
    "    )\n",
    "\n",
    "    # Predicting over time\n",
    "    print(\"Running predictions...\")\n",
    "    pred_df = runningFBP(\n",
    "        prices, \n",
    "        forecast_hours=forecast_hours, \n",
    "        training_hours=training_hours\n",
    "    )\n",
    "    \n",
    "    # Adding sentiment positions to the prediction DF\n",
    "    print(\"Getting positions...\")\n",
    "    positions = pred_df\n",
    "\n",
    "    # Getting forecast prophet positions\n",
    "    positions['fbp_positions'] = positions.apply(\n",
    "        lambda x: fbpPositions(x, short=True), \n",
    "        axis=1\n",
    "    )\n",
    "\n",
    "    # Buy and hold position\n",
    "    positions['buy_hold'] = 1\n",
    "\n",
    "    # Random positions\n",
    "    positions['random_positions'] = random.choices(\n",
    "        [1,0,-1], k=len(positions)\n",
    "    )\n",
    "    \n",
    "    # Getting returns each hour\n",
    "    print(\"Performing the backtest...\")\n",
    "    log_returns = prices[['ds', 'open']].set_index(\n",
    "        'ds'\n",
    "    ).loc[positions.index].apply(np.log).diff()\n",
    "    \n",
    "    # The positions to backtest (shifted ahead by 1 to prevent lookahead bias)\n",
    "    bt_positions = positions[[\n",
    "        'buy_hold', \n",
    "        'random_positions',\n",
    "        'fbp_positions'\n",
    "    ]].shift(1)\n",
    "\n",
    "    # The returns during the backtest\n",
    "    returns = bt_positions.multiply(\n",
    "        log_returns['open'], \n",
    "        axis=0\n",
    "    )\n",
    "\n",
    "    # Inversing the log returns to get daily portfolio balance\n",
    "    performance = returns.cumsum().apply(\n",
    "        np.exp\n",
    "    ).dropna().fillna(\n",
    "        method='ffill'\n",
    "    )\n",
    "    \n",
    "    # Displaying the final balance of the portfolio\n",
    "    print(\"Final Performance:\")\n",
    "    display(performance.tail(1))\n",
    "    \n",
    "    # Visualizing results\n",
    "    fig = px.line(\n",
    "        performance,\n",
    "        x=performance.index,\n",
    "        y=performance.columns,\n",
    "        title='FBProphet, Buy&Hold, Random Positions',\n",
    "        labels={\"value\": \"Portfolio Balance\",\n",
    "                \"index\": \"Date\"}\n",
    "    )\n",
    "\n",
    "    return fig.show()"
   ]
  },
  {
   "cell_type": "code",
   "execution_count": 55,
   "metadata": {},
   "outputs": [
    {
     "name": "stdout",
     "output_type": "stream",
     "text": [
      "Getting price data...\n"
     ]
    },
    {
     "name": "stderr",
     "output_type": "stream",
     "text": [
      "  0%|          | 0/63 [00:00<?, ?it/s]"
     ]
    },
    {
     "name": "stdout",
     "output_type": "stream",
     "text": [
      "Running predictions...\n"
     ]
    },
    {
     "name": "stderr",
     "output_type": "stream",
     "text": [
      "100%|██████████| 63/63 [00:59<00:00,  1.06it/s]"
     ]
    },
    {
     "name": "stdout",
     "output_type": "stream",
     "text": [
      "Getting positions...\n",
      "Performing the backtest...\n",
      "Final Performance:\n"
     ]
    },
    {
     "name": "stderr",
     "output_type": "stream",
     "text": [
      "\n"
     ]
    },
    {
     "data": {
      "text/html": [
       "<div>\n",
       "<style scoped>\n",
       "    .dataframe tbody tr th:only-of-type {\n",
       "        vertical-align: middle;\n",
       "    }\n",
       "\n",
       "    .dataframe tbody tr th {\n",
       "        vertical-align: top;\n",
       "    }\n",
       "\n",
       "    .dataframe thead th {\n",
       "        text-align: right;\n",
       "    }\n",
       "</style>\n",
       "<table border=\"1\" class=\"dataframe\">\n",
       "  <thead>\n",
       "    <tr style=\"text-align: right;\">\n",
       "      <th></th>\n",
       "      <th>buy_hold</th>\n",
       "      <th>random_positions</th>\n",
       "      <th>fbp_positions</th>\n",
       "    </tr>\n",
       "    <tr>\n",
       "      <th>ds</th>\n",
       "      <th></th>\n",
       "      <th></th>\n",
       "      <th></th>\n",
       "    </tr>\n",
       "  </thead>\n",
       "  <tbody>\n",
       "    <tr>\n",
       "      <th>2022-01-09 02:00:00</th>\n",
       "      <td>0.973137</td>\n",
       "      <td>1.032958</td>\n",
       "      <td>0.96184</td>\n",
       "    </tr>\n",
       "  </tbody>\n",
       "</table>\n",
       "</div>"
      ],
      "text/plain": [
       "                     buy_hold  random_positions  fbp_positions\n",
       "ds                                                            \n",
       "2022-01-09 02:00:00  0.973137          1.032958        0.96184"
      ]
     },
     "metadata": {},
     "output_type": "display_data"
    },
    {
     "data": {
      "application/vnd.plotly.v1+json": {
       "config": {
        "plotlyServerURL": "https://plot.ly"
       },
       "data": [
        {
         "hovertemplate": "variable=buy_hold<br>ds=%{x}<br>Portfolio Balance=%{y}<extra></extra>",
         "legendgroup": "buy_hold",
         "line": {
          "color": "#636efa",
          "dash": "solid"
         },
         "mode": "lines",
         "name": "buy_hold",
         "orientation": "v",
         "showlegend": true,
         "type": "scatter",
         "x": [
          "2022-01-06 18:00:00",
          "2022-01-06 19:00:00",
          "2022-01-06 20:00:00",
          "2022-01-06 21:00:00",
          "2022-01-06 22:00:00",
          "2022-01-06 23:00:00",
          "2022-01-07 00:00:00",
          "2022-01-07 01:00:00",
          "2022-01-07 02:00:00",
          "2022-01-07 03:00:00",
          "2022-01-07 04:00:00",
          "2022-01-07 05:00:00",
          "2022-01-07 06:00:00",
          "2022-01-07 07:00:00",
          "2022-01-07 08:00:00",
          "2022-01-07 09:00:00",
          "2022-01-07 10:00:00",
          "2022-01-07 11:00:00",
          "2022-01-07 12:00:00",
          "2022-01-07 13:00:00",
          "2022-01-07 14:00:00",
          "2022-01-07 15:00:00",
          "2022-01-07 16:00:00",
          "2022-01-07 17:00:00",
          "2022-01-07 18:00:00",
          "2022-01-07 19:00:00",
          "2022-01-07 20:00:00",
          "2022-01-07 21:00:00",
          "2022-01-07 22:00:00",
          "2022-01-07 23:00:00",
          "2022-01-08 00:00:00",
          "2022-01-08 01:00:00",
          "2022-01-08 02:00:00",
          "2022-01-08 03:00:00",
          "2022-01-08 04:00:00",
          "2022-01-08 05:00:00",
          "2022-01-08 06:00:00",
          "2022-01-08 07:00:00",
          "2022-01-08 08:00:00",
          "2022-01-08 09:00:00",
          "2022-01-08 10:00:00",
          "2022-01-08 11:00:00",
          "2022-01-08 12:00:00",
          "2022-01-08 13:00:00",
          "2022-01-08 14:00:00",
          "2022-01-08 15:00:00",
          "2022-01-08 16:00:00",
          "2022-01-08 17:00:00",
          "2022-01-08 18:00:00",
          "2022-01-08 19:00:00",
          "2022-01-08 20:00:00",
          "2022-01-08 21:00:00",
          "2022-01-08 22:00:00",
          "2022-01-08 23:00:00",
          "2022-01-09 00:00:00",
          "2022-01-09 01:00:00",
          "2022-01-09 02:00:00"
         ],
         "xaxis": "x",
         "y": [
          1.003235081485106,
          1.0101574278752457,
          1.0101574278752457,
          1.0101574278752457,
          1.0101574278752457,
          1.0101574278752457,
          1.0049852105243622,
          0.9985584549476448,
          1.0016707762666783,
          0.9981203766941631,
          0.9743766075131794,
          0.9701174020455545,
          0.9744950906783786,
          0.9688238244687545,
          0.9718196646304305,
          0.9819426941824226,
          0.9890381242693542,
          0.9844216493117053,
          0.9844883529786047,
          0.9876407146641732,
          0.9682134815206325,
          0.9771928119375695,
          0.9618677167440906,
          0.9782761774793918,
          0.9778015168580959,
          0.9719058424752823,
          0.9737289542134507,
          0.9783320520350338,
          0.9766490816379867,
          0.9675610961748327,
          0.9682253116241617,
          0.9785330729863504,
          0.9770909819403276,
          0.9753540480470112,
          0.9750592961714833,
          0.9769928829968854,
          0.9783996656991446,
          0.977229212291963,
          0.976568909863258,
          0.9785073197297927,
          0.981901925785501,
          0.9766810229547916,
          0.977564550550993,
          0.975618496610035,
          0.9765042992458582,
          0.9743213699928583,
          0.9695561995991596,
          0.9657464474899402,
          0.9539167873338407,
          0.9507140111457891,
          0.951769166424605,
          0.954160305704736,
          0.9740828566532198,
          0.9783851055573879,
          0.972261655927834,
          0.9733768717913995,
          0.9731373574594883
         ],
         "yaxis": "y"
        },
        {
         "hovertemplate": "variable=random_positions<br>ds=%{x}<br>Portfolio Balance=%{y}<extra></extra>",
         "legendgroup": "random_positions",
         "line": {
          "color": "#EF553B",
          "dash": "solid"
         },
         "mode": "lines",
         "name": "random_positions",
         "orientation": "v",
         "showlegend": true,
         "type": "scatter",
         "x": [
          "2022-01-06 18:00:00",
          "2022-01-06 19:00:00",
          "2022-01-06 20:00:00",
          "2022-01-06 21:00:00",
          "2022-01-06 22:00:00",
          "2022-01-06 23:00:00",
          "2022-01-07 00:00:00",
          "2022-01-07 01:00:00",
          "2022-01-07 02:00:00",
          "2022-01-07 03:00:00",
          "2022-01-07 04:00:00",
          "2022-01-07 05:00:00",
          "2022-01-07 06:00:00",
          "2022-01-07 07:00:00",
          "2022-01-07 08:00:00",
          "2022-01-07 09:00:00",
          "2022-01-07 10:00:00",
          "2022-01-07 11:00:00",
          "2022-01-07 12:00:00",
          "2022-01-07 13:00:00",
          "2022-01-07 14:00:00",
          "2022-01-07 15:00:00",
          "2022-01-07 16:00:00",
          "2022-01-07 17:00:00",
          "2022-01-07 18:00:00",
          "2022-01-07 19:00:00",
          "2022-01-07 20:00:00",
          "2022-01-07 21:00:00",
          "2022-01-07 22:00:00",
          "2022-01-07 23:00:00",
          "2022-01-08 00:00:00",
          "2022-01-08 01:00:00",
          "2022-01-08 02:00:00",
          "2022-01-08 03:00:00",
          "2022-01-08 04:00:00",
          "2022-01-08 05:00:00",
          "2022-01-08 06:00:00",
          "2022-01-08 07:00:00",
          "2022-01-08 08:00:00",
          "2022-01-08 09:00:00",
          "2022-01-08 10:00:00",
          "2022-01-08 11:00:00",
          "2022-01-08 12:00:00",
          "2022-01-08 13:00:00",
          "2022-01-08 14:00:00",
          "2022-01-08 15:00:00",
          "2022-01-08 16:00:00",
          "2022-01-08 17:00:00",
          "2022-01-08 18:00:00",
          "2022-01-08 19:00:00",
          "2022-01-08 20:00:00",
          "2022-01-08 21:00:00",
          "2022-01-08 22:00:00",
          "2022-01-08 23:00:00",
          "2022-01-09 00:00:00",
          "2022-01-09 01:00:00",
          "2022-01-09 02:00:00"
         ],
         "xaxis": "x",
         "y": [
          1,
          0.9931472598239466,
          0.9931472598239466,
          0.9931472598239466,
          0.9931472598239466,
          0.9931472598239466,
          0.9880621380919324,
          0.9880621380919324,
          0.9880621380919324,
          0.9845599740318259,
          1.0085518931604167,
          1.0129798414980866,
          1.0129798414980866,
          1.0129798414980866,
          1.0161122228614292,
          1.005636933294016,
          1.005636933294016,
          1.005636933294016,
          1.0057050744925229,
          1.008925372766464,
          1.0291694912540357,
          1.0291694912540357,
          1.0291694912540357,
          1.0119074055813346,
          1.0114164270530988,
          1.0175517764447097,
          1.0194605113311117,
          1.0194605113311117,
          1.0177067899254193,
          1.0177067899254193,
          1.017008629523455,
          1.0278357398360634,
          1.0293527251983232,
          1.0293527251983232,
          1.0293527251983232,
          1.0293527251983232,
          1.030834901408134,
          1.0296017200560812,
          1.030297880367438,
          1.0282568740954303,
          1.0282568740954303,
          1.0227894958535897,
          1.021865093731825,
          1.021865093731825,
          1.0209381435953202,
          1.0209381435953202,
          1.025955845733339,
          1.0219244781356025,
          1.0094066797911574,
          1.0060175962557567,
          1.0071341305287624,
          1.0071341305287624,
          1.028162757382608,
          1.0327038619365407,
          1.0327038619365407,
          1.0327038619365407,
          1.0329580371294442
         ],
         "yaxis": "y"
        },
        {
         "hovertemplate": "variable=fbp_positions<br>ds=%{x}<br>Portfolio Balance=%{y}<extra></extra>",
         "legendgroup": "fbp_positions",
         "line": {
          "color": "#00cc96",
          "dash": "solid"
         },
         "mode": "lines",
         "name": "fbp_positions",
         "orientation": "v",
         "showlegend": true,
         "type": "scatter",
         "x": [
          "2022-01-06 18:00:00",
          "2022-01-06 19:00:00",
          "2022-01-06 20:00:00",
          "2022-01-06 21:00:00",
          "2022-01-06 22:00:00",
          "2022-01-06 23:00:00",
          "2022-01-07 00:00:00",
          "2022-01-07 01:00:00",
          "2022-01-07 02:00:00",
          "2022-01-07 03:00:00",
          "2022-01-07 04:00:00",
          "2022-01-07 05:00:00",
          "2022-01-07 06:00:00",
          "2022-01-07 07:00:00",
          "2022-01-07 08:00:00",
          "2022-01-07 09:00:00",
          "2022-01-07 10:00:00",
          "2022-01-07 11:00:00",
          "2022-01-07 12:00:00",
          "2022-01-07 13:00:00",
          "2022-01-07 14:00:00",
          "2022-01-07 15:00:00",
          "2022-01-07 16:00:00",
          "2022-01-07 17:00:00",
          "2022-01-07 18:00:00",
          "2022-01-07 19:00:00",
          "2022-01-07 20:00:00",
          "2022-01-07 21:00:00",
          "2022-01-07 22:00:00",
          "2022-01-07 23:00:00",
          "2022-01-08 00:00:00",
          "2022-01-08 01:00:00",
          "2022-01-08 02:00:00",
          "2022-01-08 03:00:00",
          "2022-01-08 04:00:00",
          "2022-01-08 05:00:00",
          "2022-01-08 06:00:00",
          "2022-01-08 07:00:00",
          "2022-01-08 08:00:00",
          "2022-01-08 09:00:00",
          "2022-01-08 10:00:00",
          "2022-01-08 11:00:00",
          "2022-01-08 12:00:00",
          "2022-01-08 13:00:00",
          "2022-01-08 14:00:00",
          "2022-01-08 15:00:00",
          "2022-01-08 16:00:00",
          "2022-01-08 17:00:00",
          "2022-01-08 18:00:00",
          "2022-01-08 19:00:00",
          "2022-01-08 20:00:00",
          "2022-01-08 21:00:00",
          "2022-01-08 22:00:00",
          "2022-01-08 23:00:00",
          "2022-01-09 00:00:00",
          "2022-01-09 01:00:00",
          "2022-01-09 02:00:00"
         ],
         "xaxis": "x",
         "y": [
          1,
          1,
          1,
          1,
          1,
          1,
          1,
          0.9936051242252968,
          0.9967020069320678,
          0.9931692190508781,
          0.9931692190508781,
          0.9888278671183286,
          0.9932899873777695,
          0.9932899873777695,
          0.9902279603940816,
          0.980019516494385,
          0.9729887865432505,
          0.9775516467467932,
          0.9774854130740185,
          0.9743654651834291,
          0.9743654651834291,
          0.9834018498503659,
          0.9679793797111126,
          0.9844920990467141,
          0.9844920990467141,
          0.9904641228732708,
          0.9886096778957117,
          0.9839582233662891,
          0.9856537889414692,
          0.9856537889414692,
          0.9856537889414692,
          0.9856537889414692,
          0.9856537889414692,
          0.9856537889414692,
          0.9856537889414692,
          0.9856537889414692,
          0.9856537889414692,
          0.9856537889414692,
          0.9856537889414692,
          0.9856537889414692,
          0.9856537889414692,
          0.9856537889414692,
          0.9856537889414692,
          0.9856537889414692,
          0.9856537889414692,
          0.9856537889414692,
          0.9856537889414692,
          0.9856537889414692,
          0.9856537889414692,
          0.9823444557514036,
          0.9834347162566132,
          0.9809702148877903,
          0.9609067993871881,
          0.9566814077687047,
          0.9627067306602177,
          0.9616037397744598,
          0.9618404153840537
         ],
         "yaxis": "y"
        }
       ],
       "layout": {
        "autosize": true,
        "legend": {
         "title": {
          "text": "variable"
         },
         "tracegroupgap": 0
        },
        "template": {
         "data": {
          "bar": [
           {
            "error_x": {
             "color": "#2a3f5f"
            },
            "error_y": {
             "color": "#2a3f5f"
            },
            "marker": {
             "line": {
              "color": "#E5ECF6",
              "width": 0.5
             }
            },
            "type": "bar"
           }
          ],
          "barpolar": [
           {
            "marker": {
             "line": {
              "color": "#E5ECF6",
              "width": 0.5
             }
            },
            "type": "barpolar"
           }
          ],
          "carpet": [
           {
            "aaxis": {
             "endlinecolor": "#2a3f5f",
             "gridcolor": "white",
             "linecolor": "white",
             "minorgridcolor": "white",
             "startlinecolor": "#2a3f5f"
            },
            "baxis": {
             "endlinecolor": "#2a3f5f",
             "gridcolor": "white",
             "linecolor": "white",
             "minorgridcolor": "white",
             "startlinecolor": "#2a3f5f"
            },
            "type": "carpet"
           }
          ],
          "choropleth": [
           {
            "colorbar": {
             "outlinewidth": 0,
             "ticks": ""
            },
            "type": "choropleth"
           }
          ],
          "contour": [
           {
            "colorbar": {
             "outlinewidth": 0,
             "ticks": ""
            },
            "colorscale": [
             [
              0,
              "#0d0887"
             ],
             [
              0.1111111111111111,
              "#46039f"
             ],
             [
              0.2222222222222222,
              "#7201a8"
             ],
             [
              0.3333333333333333,
              "#9c179e"
             ],
             [
              0.4444444444444444,
              "#bd3786"
             ],
             [
              0.5555555555555556,
              "#d8576b"
             ],
             [
              0.6666666666666666,
              "#ed7953"
             ],
             [
              0.7777777777777778,
              "#fb9f3a"
             ],
             [
              0.8888888888888888,
              "#fdca26"
             ],
             [
              1,
              "#f0f921"
             ]
            ],
            "type": "contour"
           }
          ],
          "contourcarpet": [
           {
            "colorbar": {
             "outlinewidth": 0,
             "ticks": ""
            },
            "type": "contourcarpet"
           }
          ],
          "heatmap": [
           {
            "colorbar": {
             "outlinewidth": 0,
             "ticks": ""
            },
            "colorscale": [
             [
              0,
              "#0d0887"
             ],
             [
              0.1111111111111111,
              "#46039f"
             ],
             [
              0.2222222222222222,
              "#7201a8"
             ],
             [
              0.3333333333333333,
              "#9c179e"
             ],
             [
              0.4444444444444444,
              "#bd3786"
             ],
             [
              0.5555555555555556,
              "#d8576b"
             ],
             [
              0.6666666666666666,
              "#ed7953"
             ],
             [
              0.7777777777777778,
              "#fb9f3a"
             ],
             [
              0.8888888888888888,
              "#fdca26"
             ],
             [
              1,
              "#f0f921"
             ]
            ],
            "type": "heatmap"
           }
          ],
          "heatmapgl": [
           {
            "colorbar": {
             "outlinewidth": 0,
             "ticks": ""
            },
            "colorscale": [
             [
              0,
              "#0d0887"
             ],
             [
              0.1111111111111111,
              "#46039f"
             ],
             [
              0.2222222222222222,
              "#7201a8"
             ],
             [
              0.3333333333333333,
              "#9c179e"
             ],
             [
              0.4444444444444444,
              "#bd3786"
             ],
             [
              0.5555555555555556,
              "#d8576b"
             ],
             [
              0.6666666666666666,
              "#ed7953"
             ],
             [
              0.7777777777777778,
              "#fb9f3a"
             ],
             [
              0.8888888888888888,
              "#fdca26"
             ],
             [
              1,
              "#f0f921"
             ]
            ],
            "type": "heatmapgl"
           }
          ],
          "histogram": [
           {
            "marker": {
             "colorbar": {
              "outlinewidth": 0,
              "ticks": ""
             }
            },
            "type": "histogram"
           }
          ],
          "histogram2d": [
           {
            "colorbar": {
             "outlinewidth": 0,
             "ticks": ""
            },
            "colorscale": [
             [
              0,
              "#0d0887"
             ],
             [
              0.1111111111111111,
              "#46039f"
             ],
             [
              0.2222222222222222,
              "#7201a8"
             ],
             [
              0.3333333333333333,
              "#9c179e"
             ],
             [
              0.4444444444444444,
              "#bd3786"
             ],
             [
              0.5555555555555556,
              "#d8576b"
             ],
             [
              0.6666666666666666,
              "#ed7953"
             ],
             [
              0.7777777777777778,
              "#fb9f3a"
             ],
             [
              0.8888888888888888,
              "#fdca26"
             ],
             [
              1,
              "#f0f921"
             ]
            ],
            "type": "histogram2d"
           }
          ],
          "histogram2dcontour": [
           {
            "colorbar": {
             "outlinewidth": 0,
             "ticks": ""
            },
            "colorscale": [
             [
              0,
              "#0d0887"
             ],
             [
              0.1111111111111111,
              "#46039f"
             ],
             [
              0.2222222222222222,
              "#7201a8"
             ],
             [
              0.3333333333333333,
              "#9c179e"
             ],
             [
              0.4444444444444444,
              "#bd3786"
             ],
             [
              0.5555555555555556,
              "#d8576b"
             ],
             [
              0.6666666666666666,
              "#ed7953"
             ],
             [
              0.7777777777777778,
              "#fb9f3a"
             ],
             [
              0.8888888888888888,
              "#fdca26"
             ],
             [
              1,
              "#f0f921"
             ]
            ],
            "type": "histogram2dcontour"
           }
          ],
          "mesh3d": [
           {
            "colorbar": {
             "outlinewidth": 0,
             "ticks": ""
            },
            "type": "mesh3d"
           }
          ],
          "parcoords": [
           {
            "line": {
             "colorbar": {
              "outlinewidth": 0,
              "ticks": ""
             }
            },
            "type": "parcoords"
           }
          ],
          "pie": [
           {
            "automargin": true,
            "type": "pie"
           }
          ],
          "scatter": [
           {
            "marker": {
             "colorbar": {
              "outlinewidth": 0,
              "ticks": ""
             }
            },
            "type": "scatter"
           }
          ],
          "scatter3d": [
           {
            "line": {
             "colorbar": {
              "outlinewidth": 0,
              "ticks": ""
             }
            },
            "marker": {
             "colorbar": {
              "outlinewidth": 0,
              "ticks": ""
             }
            },
            "type": "scatter3d"
           }
          ],
          "scattercarpet": [
           {
            "marker": {
             "colorbar": {
              "outlinewidth": 0,
              "ticks": ""
             }
            },
            "type": "scattercarpet"
           }
          ],
          "scattergeo": [
           {
            "marker": {
             "colorbar": {
              "outlinewidth": 0,
              "ticks": ""
             }
            },
            "type": "scattergeo"
           }
          ],
          "scattergl": [
           {
            "marker": {
             "colorbar": {
              "outlinewidth": 0,
              "ticks": ""
             }
            },
            "type": "scattergl"
           }
          ],
          "scattermapbox": [
           {
            "marker": {
             "colorbar": {
              "outlinewidth": 0,
              "ticks": ""
             }
            },
            "type": "scattermapbox"
           }
          ],
          "scatterpolar": [
           {
            "marker": {
             "colorbar": {
              "outlinewidth": 0,
              "ticks": ""
             }
            },
            "type": "scatterpolar"
           }
          ],
          "scatterpolargl": [
           {
            "marker": {
             "colorbar": {
              "outlinewidth": 0,
              "ticks": ""
             }
            },
            "type": "scatterpolargl"
           }
          ],
          "scatterternary": [
           {
            "marker": {
             "colorbar": {
              "outlinewidth": 0,
              "ticks": ""
             }
            },
            "type": "scatterternary"
           }
          ],
          "surface": [
           {
            "colorbar": {
             "outlinewidth": 0,
             "ticks": ""
            },
            "colorscale": [
             [
              0,
              "#0d0887"
             ],
             [
              0.1111111111111111,
              "#46039f"
             ],
             [
              0.2222222222222222,
              "#7201a8"
             ],
             [
              0.3333333333333333,
              "#9c179e"
             ],
             [
              0.4444444444444444,
              "#bd3786"
             ],
             [
              0.5555555555555556,
              "#d8576b"
             ],
             [
              0.6666666666666666,
              "#ed7953"
             ],
             [
              0.7777777777777778,
              "#fb9f3a"
             ],
             [
              0.8888888888888888,
              "#fdca26"
             ],
             [
              1,
              "#f0f921"
             ]
            ],
            "type": "surface"
           }
          ],
          "table": [
           {
            "cells": {
             "fill": {
              "color": "#EBF0F8"
             },
             "line": {
              "color": "white"
             }
            },
            "header": {
             "fill": {
              "color": "#C8D4E3"
             },
             "line": {
              "color": "white"
             }
            },
            "type": "table"
           }
          ]
         },
         "layout": {
          "annotationdefaults": {
           "arrowcolor": "#2a3f5f",
           "arrowhead": 0,
           "arrowwidth": 1
          },
          "autotypenumbers": "strict",
          "coloraxis": {
           "colorbar": {
            "outlinewidth": 0,
            "ticks": ""
           }
          },
          "colorscale": {
           "diverging": [
            [
             0,
             "#8e0152"
            ],
            [
             0.1,
             "#c51b7d"
            ],
            [
             0.2,
             "#de77ae"
            ],
            [
             0.3,
             "#f1b6da"
            ],
            [
             0.4,
             "#fde0ef"
            ],
            [
             0.5,
             "#f7f7f7"
            ],
            [
             0.6,
             "#e6f5d0"
            ],
            [
             0.7,
             "#b8e186"
            ],
            [
             0.8,
             "#7fbc41"
            ],
            [
             0.9,
             "#4d9221"
            ],
            [
             1,
             "#276419"
            ]
           ],
           "sequential": [
            [
             0,
             "#0d0887"
            ],
            [
             0.1111111111111111,
             "#46039f"
            ],
            [
             0.2222222222222222,
             "#7201a8"
            ],
            [
             0.3333333333333333,
             "#9c179e"
            ],
            [
             0.4444444444444444,
             "#bd3786"
            ],
            [
             0.5555555555555556,
             "#d8576b"
            ],
            [
             0.6666666666666666,
             "#ed7953"
            ],
            [
             0.7777777777777778,
             "#fb9f3a"
            ],
            [
             0.8888888888888888,
             "#fdca26"
            ],
            [
             1,
             "#f0f921"
            ]
           ],
           "sequentialminus": [
            [
             0,
             "#0d0887"
            ],
            [
             0.1111111111111111,
             "#46039f"
            ],
            [
             0.2222222222222222,
             "#7201a8"
            ],
            [
             0.3333333333333333,
             "#9c179e"
            ],
            [
             0.4444444444444444,
             "#bd3786"
            ],
            [
             0.5555555555555556,
             "#d8576b"
            ],
            [
             0.6666666666666666,
             "#ed7953"
            ],
            [
             0.7777777777777778,
             "#fb9f3a"
            ],
            [
             0.8888888888888888,
             "#fdca26"
            ],
            [
             1,
             "#f0f921"
            ]
           ]
          },
          "colorway": [
           "#636efa",
           "#EF553B",
           "#00cc96",
           "#ab63fa",
           "#FFA15A",
           "#19d3f3",
           "#FF6692",
           "#B6E880",
           "#FF97FF",
           "#FECB52"
          ],
          "font": {
           "color": "#2a3f5f"
          },
          "geo": {
           "bgcolor": "white",
           "lakecolor": "white",
           "landcolor": "#E5ECF6",
           "showlakes": true,
           "showland": true,
           "subunitcolor": "white"
          },
          "hoverlabel": {
           "align": "left"
          },
          "hovermode": "closest",
          "mapbox": {
           "style": "light"
          },
          "paper_bgcolor": "white",
          "plot_bgcolor": "#E5ECF6",
          "polar": {
           "angularaxis": {
            "gridcolor": "white",
            "linecolor": "white",
            "ticks": ""
           },
           "bgcolor": "#E5ECF6",
           "radialaxis": {
            "gridcolor": "white",
            "linecolor": "white",
            "ticks": ""
           }
          },
          "scene": {
           "xaxis": {
            "backgroundcolor": "#E5ECF6",
            "gridcolor": "white",
            "gridwidth": 2,
            "linecolor": "white",
            "showbackground": true,
            "ticks": "",
            "zerolinecolor": "white"
           },
           "yaxis": {
            "backgroundcolor": "#E5ECF6",
            "gridcolor": "white",
            "gridwidth": 2,
            "linecolor": "white",
            "showbackground": true,
            "ticks": "",
            "zerolinecolor": "white"
           },
           "zaxis": {
            "backgroundcolor": "#E5ECF6",
            "gridcolor": "white",
            "gridwidth": 2,
            "linecolor": "white",
            "showbackground": true,
            "ticks": "",
            "zerolinecolor": "white"
           }
          },
          "shapedefaults": {
           "line": {
            "color": "#2a3f5f"
           }
          },
          "ternary": {
           "aaxis": {
            "gridcolor": "white",
            "linecolor": "white",
            "ticks": ""
           },
           "baxis": {
            "gridcolor": "white",
            "linecolor": "white",
            "ticks": ""
           },
           "bgcolor": "#E5ECF6",
           "caxis": {
            "gridcolor": "white",
            "linecolor": "white",
            "ticks": ""
           }
          },
          "title": {
           "x": 0.05
          },
          "xaxis": {
           "automargin": true,
           "gridcolor": "white",
           "linecolor": "white",
           "ticks": "",
           "title": {
            "standoff": 15
           },
           "zerolinecolor": "white",
           "zerolinewidth": 2
          },
          "yaxis": {
           "automargin": true,
           "gridcolor": "white",
           "linecolor": "white",
           "ticks": "",
           "title": {
            "standoff": 15
           },
           "zerolinecolor": "white",
           "zerolinewidth": 2
          }
         }
        },
        "title": {
         "text": "FBProphet, Buy&Hold, Random Positions"
        },
        "xaxis": {
         "anchor": "y",
         "autorange": true,
         "domain": [
          0,
          1
         ],
         "range": [
          "2022-01-06 18:00",
          "2022-01-09 02:00"
         ],
         "title": {
          "text": "ds"
         },
         "type": "date"
        },
        "yaxis": {
         "anchor": "x",
         "autorange": true,
         "domain": [
          0,
          1
         ],
         "range": [
          0.9461448985911416,
          1.0375271496840917
         ],
         "title": {
          "text": "Portfolio Balance"
         },
         "type": "linear"
        }
       }
      },
      "image/png": "[encoded data removed]",
      "text/html": [
       "<div>                            <div id=\"dddf8c01-e26d-4961-ab4c-a6865c1aacc8\" class=\"plotly-graph-div\" style=\"height:525px; width:100%;\"></div>            <script type=\"text/javascript\">                require([\"plotly\"], function(Plotly) {                    window.PLOTLYENV=window.PLOTLYENV || {};                                    if (document.getElementById(\"dddf8c01-e26d-4961-ab4c-a6865c1aacc8\")) {                    Plotly.newPlot(                        \"dddf8c01-e26d-4961-ab4c-a6865c1aacc8\",                        [{\"hovertemplate\": \"variable=buy_hold<br>ds=%{x}<br>Portfolio Balance=%{y}<extra></extra>\", \"legendgroup\": \"buy_hold\", \"line\": {\"color\": \"#636efa\", \"dash\": \"solid\"}, \"mode\": \"lines\", \"name\": \"buy_hold\", \"orientation\": \"v\", \"showlegend\": true, \"type\": \"scatter\", \"x\": [\"2022-01-06 18:00:00\", \"2022-01-06 19:00:00\", \"2022-01-06 20:00:00\", \"2022-01-06 21:00:00\", \"2022-01-06 22:00:00\", \"2022-01-06 23:00:00\", \"2022-01-07 00:00:00\", \"2022-01-07 01:00:00\", \"2022-01-07 02:00:00\", \"2022-01-07 03:00:00\", \"2022-01-07 04:00:00\", \"2022-01-07 05:00:00\", \"2022-01-07 06:00:00\", \"2022-01-07 07:00:00\", \"2022-01-07 08:00:00\", \"2022-01-07 09:00:00\", \"2022-01-07 10:00:00\", \"2022-01-07 11:00:00\", \"2022-01-07 12:00:00\", \"2022-01-07 13:00:00\", \"2022-01-07 14:00:00\", \"2022-01-07 15:00:00\", \"2022-01-07 16:00:00\", \"2022-01-07 17:00:00\", \"2022-01-07 18:00:00\", \"2022-01-07 19:00:00\", \"2022-01-07 20:00:00\", \"2022-01-07 21:00:00\", \"2022-01-07 22:00:00\", \"2022-01-07 23:00:00\", \"2022-01-08 00:00:00\", \"2022-01-08 01:00:00\", \"2022-01-08 02:00:00\", \"2022-01-08 03:00:00\", \"2022-01-08 04:00:00\", \"2022-01-08 05:00:00\", \"2022-01-08 06:00:00\", \"2022-01-08 07:00:00\", \"2022-01-08 08:00:00\", \"2022-01-08 09:00:00\", \"2022-01-08 10:00:00\", \"2022-01-08 11:00:00\", \"2022-01-08 12:00:00\", \"2022-01-08 13:00:00\", \"2022-01-08 14:00:00\", \"2022-01-08 15:00:00\", \"2022-01-08 16:00:00\", \"2022-01-08 17:00:00\", \"2022-01-08 18:00:00\", \"2022-01-08 19:00:00\", \"2022-01-08 20:00:00\", \"2022-01-08 21:00:00\", \"2022-01-08 22:00:00\", \"2022-01-08 23:00:00\", \"2022-01-09 00:00:00\", \"2022-01-09 01:00:00\", \"2022-01-09 02:00:00\"], \"xaxis\": \"x\", \"y\": [1.003235081485106, 1.0101574278752457, 1.0101574278752457, 1.0101574278752457, 1.0101574278752457, 1.0101574278752457, 1.0049852105243622, 0.9985584549476448, 1.0016707762666783, 0.9981203766941631, 0.9743766075131794, 0.9701174020455545, 0.9744950906783786, 0.9688238244687545, 0.9718196646304305, 0.9819426941824226, 0.9890381242693542, 0.9844216493117053, 0.9844883529786047, 0.9876407146641732, 0.9682134815206325, 0.9771928119375695, 0.9618677167440906, 0.9782761774793918, 0.9778015168580959, 0.9719058424752823, 0.9737289542134507, 0.9783320520350338, 0.9766490816379867, 0.9675610961748327, 0.9682253116241617, 0.9785330729863504, 0.9770909819403276, 0.9753540480470112, 0.9750592961714833, 0.9769928829968854, 0.9783996656991446, 0.977229212291963, 0.976568909863258, 0.9785073197297927, 0.981901925785501, 0.9766810229547916, 0.977564550550993, 0.975618496610035, 0.9765042992458582, 0.9743213699928583, 0.9695561995991596, 0.9657464474899402, 0.9539167873338407, 0.9507140111457891, 0.951769166424605, 0.954160305704736, 0.9740828566532198, 0.9783851055573879, 0.972261655927834, 0.9733768717913995, 0.9731373574594883], \"yaxis\": \"y\"}, {\"hovertemplate\": \"variable=random_positions<br>ds=%{x}<br>Portfolio Balance=%{y}<extra></extra>\", \"legendgroup\": \"random_positions\", \"line\": {\"color\": \"#EF553B\", \"dash\": \"solid\"}, \"mode\": \"lines\", \"name\": \"random_positions\", \"orientation\": \"v\", \"showlegend\": true, \"type\": \"scatter\", \"x\": [\"2022-01-06 18:00:00\", \"2022-01-06 19:00:00\", \"2022-01-06 20:00:00\", \"2022-01-06 21:00:00\", \"2022-01-06 22:00:00\", \"2022-01-06 23:00:00\", \"2022-01-07 00:00:00\", \"2022-01-07 01:00:00\", \"2022-01-07 02:00:00\", \"2022-01-07 03:00:00\", \"2022-01-07 04:00:00\", \"2022-01-07 05:00:00\", \"2022-01-07 06:00:00\", \"2022-01-07 07:00:00\", \"2022-01-07 08:00:00\", \"2022-01-07 09:00:00\", \"2022-01-07 10:00:00\", \"2022-01-07 11:00:00\", \"2022-01-07 12:00:00\", \"2022-01-07 13:00:00\", \"2022-01-07 14:00:00\", \"2022-01-07 15:00:00\", \"2022-01-07 16:00:00\", \"2022-01-07 17:00:00\", \"2022-01-07 18:00:00\", \"2022-01-07 19:00:00\", \"2022-01-07 20:00:00\", \"2022-01-07 21:00:00\", \"2022-01-07 22:00:00\", \"2022-01-07 23:00:00\", \"2022-01-08 00:00:00\", \"2022-01-08 01:00:00\", \"2022-01-08 02:00:00\", \"2022-01-08 03:00:00\", \"2022-01-08 04:00:00\", \"2022-01-08 05:00:00\", \"2022-01-08 06:00:00\", \"2022-01-08 07:00:00\", \"2022-01-08 08:00:00\", \"2022-01-08 09:00:00\", \"2022-01-08 10:00:00\", \"2022-01-08 11:00:00\", \"2022-01-08 12:00:00\", \"2022-01-08 13:00:00\", \"2022-01-08 14:00:00\", \"2022-01-08 15:00:00\", \"2022-01-08 16:00:00\", \"2022-01-08 17:00:00\", \"2022-01-08 18:00:00\", \"2022-01-08 19:00:00\", \"2022-01-08 20:00:00\", \"2022-01-08 21:00:00\", \"2022-01-08 22:00:00\", \"2022-01-08 23:00:00\", \"2022-01-09 00:00:00\", \"2022-01-09 01:00:00\", \"2022-01-09 02:00:00\"], \"xaxis\": \"x\", \"y\": [1.0, 0.9931472598239466, 0.9931472598239466, 0.9931472598239466, 0.9931472598239466, 0.9931472598239466, 0.9880621380919324, 0.9880621380919324, 0.9880621380919324, 0.9845599740318259, 1.0085518931604167, 1.0129798414980866, 1.0129798414980866, 1.0129798414980866, 1.0161122228614292, 1.005636933294016, 1.005636933294016, 1.005636933294016, 1.0057050744925229, 1.008925372766464, 1.0291694912540357, 1.0291694912540357, 1.0291694912540357, 1.0119074055813346, 1.0114164270530988, 1.0175517764447097, 1.0194605113311117, 1.0194605113311117, 1.0177067899254193, 1.0177067899254193, 1.017008629523455, 1.0278357398360634, 1.0293527251983232, 1.0293527251983232, 1.0293527251983232, 1.0293527251983232, 1.030834901408134, 1.0296017200560812, 1.030297880367438, 1.0282568740954303, 1.0282568740954303, 1.0227894958535897, 1.021865093731825, 1.021865093731825, 1.0209381435953202, 1.0209381435953202, 1.025955845733339, 1.0219244781356025, 1.0094066797911574, 1.0060175962557567, 1.0071341305287624, 1.0071341305287624, 1.028162757382608, 1.0327038619365407, 1.0327038619365407, 1.0327038619365407, 1.0329580371294442], \"yaxis\": \"y\"}, {\"hovertemplate\": \"variable=fbp_positions<br>ds=%{x}<br>Portfolio Balance=%{y}<extra></extra>\", \"legendgroup\": \"fbp_positions\", \"line\": {\"color\": \"#00cc96\", \"dash\": \"solid\"}, \"mode\": \"lines\", \"name\": \"fbp_positions\", \"orientation\": \"v\", \"showlegend\": true, \"type\": \"scatter\", \"x\": [\"2022-01-06 18:00:00\", \"2022-01-06 19:00:00\", \"2022-01-06 20:00:00\", \"2022-01-06 21:00:00\", \"2022-01-06 22:00:00\", \"2022-01-06 23:00:00\", \"2022-01-07 00:00:00\", \"2022-01-07 01:00:00\", \"2022-01-07 02:00:00\", \"2022-01-07 03:00:00\", \"2022-01-07 04:00:00\", \"2022-01-07 05:00:00\", \"2022-01-07 06:00:00\", \"2022-01-07 07:00:00\", \"2022-01-07 08:00:00\", \"2022-01-07 09:00:00\", \"2022-01-07 10:00:00\", \"2022-01-07 11:00:00\", \"2022-01-07 12:00:00\", \"2022-01-07 13:00:00\", \"2022-01-07 14:00:00\", \"2022-01-07 15:00:00\", \"2022-01-07 16:00:00\", \"2022-01-07 17:00:00\", \"2022-01-07 18:00:00\", \"2022-01-07 19:00:00\", \"2022-01-07 20:00:00\", \"2022-01-07 21:00:00\", \"2022-01-07 22:00:00\", \"2022-01-07 23:00:00\", \"2022-01-08 00:00:00\", \"2022-01-08 01:00:00\", \"2022-01-08 02:00:00\", \"2022-01-08 03:00:00\", \"2022-01-08 04:00:00\", \"2022-01-08 05:00:00\", \"2022-01-08 06:00:00\", \"2022-01-08 07:00:00\", \"2022-01-08 08:00:00\", \"2022-01-08 09:00:00\", \"2022-01-08 10:00:00\", \"2022-01-08 11:00:00\", \"2022-01-08 12:00:00\", \"2022-01-08 13:00:00\", \"2022-01-08 14:00:00\", \"2022-01-08 15:00:00\", \"2022-01-08 16:00:00\", \"2022-01-08 17:00:00\", \"2022-01-08 18:00:00\", \"2022-01-08 19:00:00\", \"2022-01-08 20:00:00\", \"2022-01-08 21:00:00\", \"2022-01-08 22:00:00\", \"2022-01-08 23:00:00\", \"2022-01-09 00:00:00\", \"2022-01-09 01:00:00\", \"2022-01-09 02:00:00\"], \"xaxis\": \"x\", \"y\": [1.0, 1.0, 1.0, 1.0, 1.0, 1.0, 1.0, 0.9936051242252968, 0.9967020069320678, 0.9931692190508781, 0.9931692190508781, 0.9888278671183286, 0.9932899873777695, 0.9932899873777695, 0.9902279603940816, 0.980019516494385, 0.9729887865432505, 0.9775516467467932, 0.9774854130740185, 0.9743654651834291, 0.9743654651834291, 0.9834018498503659, 0.9679793797111126, 0.9844920990467141, 0.9844920990467141, 0.9904641228732708, 0.9886096778957117, 0.9839582233662891, 0.9856537889414692, 0.9856537889414692, 0.9856537889414692, 0.9856537889414692, 0.9856537889414692, 0.9856537889414692, 0.9856537889414692, 0.9856537889414692, 0.9856537889414692, 0.9856537889414692, 0.9856537889414692, 0.9856537889414692, 0.9856537889414692, 0.9856537889414692, 0.9856537889414692, 0.9856537889414692, 0.9856537889414692, 0.9856537889414692, 0.9856537889414692, 0.9856537889414692, 0.9856537889414692, 0.9823444557514036, 0.9834347162566132, 0.9809702148877903, 0.9609067993871881, 0.9566814077687047, 0.9627067306602177, 0.9616037397744598, 0.9618404153840537], \"yaxis\": \"y\"}],                        {\"legend\": {\"title\": {\"text\": \"variable\"}, \"tracegroupgap\": 0}, \"template\": {\"data\": {\"bar\": [{\"error_x\": {\"color\": \"#2a3f5f\"}, \"error_y\": {\"color\": \"#2a3f5f\"}, \"marker\": {\"line\": {\"color\": \"#E5ECF6\", \"width\": 0.5}}, \"type\": \"bar\"}], \"barpolar\": [{\"marker\": {\"line\": {\"color\": \"#E5ECF6\", \"width\": 0.5}}, \"type\": \"barpolar\"}], \"carpet\": [{\"aaxis\": {\"endlinecolor\": \"#2a3f5f\", \"gridcolor\": \"white\", \"linecolor\": \"white\", \"minorgridcolor\": \"white\", \"startlinecolor\": \"#2a3f5f\"}, \"baxis\": {\"endlinecolor\": \"#2a3f5f\", \"gridcolor\": \"white\", \"linecolor\": \"white\", \"minorgridcolor\": \"white\", \"startlinecolor\": \"#2a3f5f\"}, \"type\": \"carpet\"}], \"choropleth\": [{\"colorbar\": {\"outlinewidth\": 0, \"ticks\": \"\"}, \"type\": \"choropleth\"}], \"contour\": [{\"colorbar\": {\"outlinewidth\": 0, \"ticks\": \"\"}, \"colorscale\": [[0.0, \"#0d0887\"], [0.1111111111111111, \"#46039f\"], [0.2222222222222222, \"#7201a8\"], [0.3333333333333333, \"#9c179e\"], [0.4444444444444444, \"#bd3786\"], [0.5555555555555556, \"#d8576b\"], [0.6666666666666666, \"#ed7953\"], [0.7777777777777778, \"#fb9f3a\"], [0.8888888888888888, \"#fdca26\"], [1.0, \"#f0f921\"]], \"type\": \"contour\"}], \"contourcarpet\": [{\"colorbar\": {\"outlinewidth\": 0, \"ticks\": \"\"}, \"type\": \"contourcarpet\"}], \"heatmap\": [{\"colorbar\": {\"outlinewidth\": 0, \"ticks\": \"\"}, \"colorscale\": [[0.0, \"#0d0887\"], [0.1111111111111111, \"#46039f\"], [0.2222222222222222, \"#7201a8\"], [0.3333333333333333, \"#9c179e\"], [0.4444444444444444, \"#bd3786\"], [0.5555555555555556, \"#d8576b\"], [0.6666666666666666, \"#ed7953\"], [0.7777777777777778, \"#fb9f3a\"], [0.8888888888888888, \"#fdca26\"], [1.0, \"#f0f921\"]], \"type\": \"heatmap\"}], \"heatmapgl\": [{\"colorbar\": {\"outlinewidth\": 0, \"ticks\": \"\"}, \"colorscale\": [[0.0, \"#0d0887\"], [0.1111111111111111, \"#46039f\"], [0.2222222222222222, \"#7201a8\"], [0.3333333333333333, \"#9c179e\"], [0.4444444444444444, \"#bd3786\"], [0.5555555555555556, \"#d8576b\"], [0.6666666666666666, \"#ed7953\"], [0.7777777777777778, \"#fb9f3a\"], [0.8888888888888888, \"#fdca26\"], [1.0, \"#f0f921\"]], \"type\": \"heatmapgl\"}], \"histogram\": [{\"marker\": {\"colorbar\": {\"outlinewidth\": 0, \"ticks\": \"\"}}, \"type\": \"histogram\"}], \"histogram2d\": [{\"colorbar\": {\"outlinewidth\": 0, \"ticks\": \"\"}, \"colorscale\": [[0.0, \"#0d0887\"], [0.1111111111111111, \"#46039f\"], [0.2222222222222222, \"#7201a8\"], [0.3333333333333333, \"#9c179e\"], [0.4444444444444444, \"#bd3786\"], [0.5555555555555556, \"#d8576b\"], [0.6666666666666666, \"#ed7953\"], [0.7777777777777778, \"#fb9f3a\"], [0.8888888888888888, \"#fdca26\"], [1.0, \"#f0f921\"]], \"type\": \"histogram2d\"}], \"histogram2dcontour\": [{\"colorbar\": {\"outlinewidth\": 0, \"ticks\": \"\"}, \"colorscale\": [[0.0, \"#0d0887\"], [0.1111111111111111, \"#46039f\"], [0.2222222222222222, \"#7201a8\"], [0.3333333333333333, \"#9c179e\"], [0.4444444444444444, \"#bd3786\"], [0.5555555555555556, \"#d8576b\"], [0.6666666666666666, \"#ed7953\"], [0.7777777777777778, \"#fb9f3a\"], [0.8888888888888888, \"#fdca26\"], [1.0, \"#f0f921\"]], \"type\": \"histogram2dcontour\"}], \"mesh3d\": [{\"colorbar\": {\"outlinewidth\": 0, \"ticks\": \"\"}, \"type\": \"mesh3d\"}], \"parcoords\": [{\"line\": {\"colorbar\": {\"outlinewidth\": 0, \"ticks\": \"\"}}, \"type\": \"parcoords\"}], \"pie\": [{\"automargin\": true, \"type\": \"pie\"}], \"scatter\": [{\"marker\": {\"colorbar\": {\"outlinewidth\": 0, \"ticks\": \"\"}}, \"type\": \"scatter\"}], \"scatter3d\": [{\"line\": {\"colorbar\": {\"outlinewidth\": 0, \"ticks\": \"\"}}, \"marker\": {\"colorbar\": {\"outlinewidth\": 0, \"ticks\": \"\"}}, \"type\": \"scatter3d\"}], \"scattercarpet\": [{\"marker\": {\"colorbar\": {\"outlinewidth\": 0, \"ticks\": \"\"}}, \"type\": \"scattercarpet\"}], \"scattergeo\": [{\"marker\": {\"colorbar\": {\"outlinewidth\": 0, \"ticks\": \"\"}}, \"type\": \"scattergeo\"}], \"scattergl\": [{\"marker\": {\"colorbar\": {\"outlinewidth\": 0, \"ticks\": \"\"}}, \"type\": \"scattergl\"}], \"scattermapbox\": [{\"marker\": {\"colorbar\": {\"outlinewidth\": 0, \"ticks\": \"\"}}, \"type\": \"scattermapbox\"}], \"scatterpolar\": [{\"marker\": {\"colorbar\": {\"outlinewidth\": 0, \"ticks\": \"\"}}, \"type\": \"scatterpolar\"}], \"scatterpolargl\": [{\"marker\": {\"colorbar\": {\"outlinewidth\": 0, \"ticks\": \"\"}}, \"type\": \"scatterpolargl\"}], \"scatterternary\": [{\"marker\": {\"colorbar\": {\"outlinewidth\": 0, \"ticks\": \"\"}}, \"type\": \"scatterternary\"}], \"surface\": [{\"colorbar\": {\"outlinewidth\": 0, \"ticks\": \"\"}, \"colorscale\": [[0.0, \"#0d0887\"], [0.1111111111111111, \"#46039f\"], [0.2222222222222222, \"#7201a8\"], [0.3333333333333333, \"#9c179e\"], [0.4444444444444444, \"#bd3786\"], [0.5555555555555556, \"#d8576b\"], [0.6666666666666666, \"#ed7953\"], [0.7777777777777778, \"#fb9f3a\"], [0.8888888888888888, \"#fdca26\"], [1.0, \"#f0f921\"]], \"type\": \"surface\"}], \"table\": [{\"cells\": {\"fill\": {\"color\": \"#EBF0F8\"}, \"line\": {\"color\": \"white\"}}, \"header\": {\"fill\": {\"color\": \"#C8D4E3\"}, \"line\": {\"color\": \"white\"}}, \"type\": \"table\"}]}, \"layout\": {\"annotationdefaults\": {\"arrowcolor\": \"#2a3f5f\", \"arrowhead\": 0, \"arrowwidth\": 1}, \"autotypenumbers\": \"strict\", \"coloraxis\": {\"colorbar\": {\"outlinewidth\": 0, \"ticks\": \"\"}}, \"colorscale\": {\"diverging\": [[0, \"#8e0152\"], [0.1, \"#c51b7d\"], [0.2, \"#de77ae\"], [0.3, \"#f1b6da\"], [0.4, \"#fde0ef\"], [0.5, \"#f7f7f7\"], [0.6, \"#e6f5d0\"], [0.7, \"#b8e186\"], [0.8, \"#7fbc41\"], [0.9, \"#4d9221\"], [1, \"#276419\"]], \"sequential\": [[0.0, \"#0d0887\"], [0.1111111111111111, \"#46039f\"], [0.2222222222222222, \"#7201a8\"], [0.3333333333333333, \"#9c179e\"], [0.4444444444444444, \"#bd3786\"], [0.5555555555555556, \"#d8576b\"], [0.6666666666666666, \"#ed7953\"], [0.7777777777777778, \"#fb9f3a\"], [0.8888888888888888, \"#fdca26\"], [1.0, \"#f0f921\"]], \"sequentialminus\": [[0.0, \"#0d0887\"], [0.1111111111111111, \"#46039f\"], [0.2222222222222222, \"#7201a8\"], [0.3333333333333333, \"#9c179e\"], [0.4444444444444444, \"#bd3786\"], [0.5555555555555556, \"#d8576b\"], [0.6666666666666666, \"#ed7953\"], [0.7777777777777778, \"#fb9f3a\"], [0.8888888888888888, \"#fdca26\"], [1.0, \"#f0f921\"]]}, \"colorway\": [\"#636efa\", \"#EF553B\", \"#00cc96\", \"#ab63fa\", \"#FFA15A\", \"#19d3f3\", \"#FF6692\", \"#B6E880\", \"#FF97FF\", \"#FECB52\"], \"font\": {\"color\": \"#2a3f5f\"}, \"geo\": {\"bgcolor\": \"white\", \"lakecolor\": \"white\", \"landcolor\": \"#E5ECF6\", \"showlakes\": true, \"showland\": true, \"subunitcolor\": \"white\"}, \"hoverlabel\": {\"align\": \"left\"}, \"hovermode\": \"closest\", \"mapbox\": {\"style\": \"light\"}, \"paper_bgcolor\": \"white\", \"plot_bgcolor\": \"#E5ECF6\", \"polar\": {\"angularaxis\": {\"gridcolor\": \"white\", \"linecolor\": \"white\", \"ticks\": \"\"}, \"bgcolor\": \"#E5ECF6\", \"radialaxis\": {\"gridcolor\": \"white\", \"linecolor\": \"white\", \"ticks\": \"\"}}, \"scene\": {\"xaxis\": {\"backgroundcolor\": \"#E5ECF6\", \"gridcolor\": \"white\", \"gridwidth\": 2, \"linecolor\": \"white\", \"showbackground\": true, \"ticks\": \"\", \"zerolinecolor\": \"white\"}, \"yaxis\": {\"backgroundcolor\": \"#E5ECF6\", \"gridcolor\": \"white\", \"gridwidth\": 2, \"linecolor\": \"white\", \"showbackground\": true, \"ticks\": \"\", \"zerolinecolor\": \"white\"}, \"zaxis\": {\"backgroundcolor\": \"#E5ECF6\", \"gridcolor\": \"white\", \"gridwidth\": 2, \"linecolor\": \"white\", \"showbackground\": true, \"ticks\": \"\", \"zerolinecolor\": \"white\"}}, \"shapedefaults\": {\"line\": {\"color\": \"#2a3f5f\"}}, \"ternary\": {\"aaxis\": {\"gridcolor\": \"white\", \"linecolor\": \"white\", \"ticks\": \"\"}, \"baxis\": {\"gridcolor\": \"white\", \"linecolor\": \"white\", \"ticks\": \"\"}, \"bgcolor\": \"#E5ECF6\", \"caxis\": {\"gridcolor\": \"white\", \"linecolor\": \"white\", \"ticks\": \"\"}}, \"title\": {\"x\": 0.05}, \"xaxis\": {\"automargin\": true, \"gridcolor\": \"white\", \"linecolor\": \"white\", \"ticks\": \"\", \"title\": {\"standoff\": 15}, \"zerolinecolor\": \"white\", \"zerolinewidth\": 2}, \"yaxis\": {\"automargin\": true, \"gridcolor\": \"white\", \"linecolor\": \"white\", \"ticks\": \"\", \"title\": {\"standoff\": 15}, \"zerolinecolor\": \"white\", \"zerolinewidth\": 2}}}, \"title\": {\"text\": \"FBProphet, Buy&Hold, Random Positions\"}, \"xaxis\": {\"anchor\": \"y\", \"domain\": [0.0, 1.0], \"title\": {\"text\": \"ds\"}}, \"yaxis\": {\"anchor\": \"x\", \"domain\": [0.0, 1.0], \"title\": {\"text\": \"Portfolio Balance\"}}},                        {\"responsive\": true}                    ).then(function(){\n",
       "                            \n",
       "var gd = document.getElementById('dddf8c01-e26d-4961-ab4c-a6865c1aacc8');\n",
       "var x = new MutationObserver(function (mutations, observer) {{\n",
       "        var display = window.getComputedStyle(gd).display;\n",
       "        if (!display || display === 'none') {{\n",
       "            console.log([gd, 'removed!']);\n",
       "            Plotly.purge(gd);\n",
       "            observer.disconnect();\n",
       "        }}\n",
       "}});\n",
       "\n",
       "// Listen for the removal of the full notebook cells\n",
       "var notebookContainer = gd.closest('#notebook-container');\n",
       "if (notebookContainer) {{\n",
       "    x.observe(notebookContainer, {childList: true});\n",
       "}}\n",
       "\n",
       "// Listen for the clearing of the current output cell\n",
       "var outputEl = gd.closest('.output');\n",
       "if (outputEl) {{\n",
       "    x.observe(outputEl, {childList: true});\n",
       "}}\n",
       "\n",
       "                        })                };                });            </script>        </div>"
      ]
     },
     "metadata": {},
     "output_type": "display_data"
    }
   ],
   "source": [
    "backtestPerformanceVis(\n",
    "    ticker=\"BTC\", \n",
    "    n_hours=80, \n",
    "    training_hours=40, \n",
    "    mov_avg=3, \n",
    "    forecast_hours=3\n",
    ")"
   ]
  },
  {
   "cell_type": "code",
   "execution_count": null,
   "metadata": {},
   "outputs": [],
   "source": []
  }
 ],
 "metadata": {
  "kernelspec": {
   "display_name": "Python 3",
   "language": "python",
   "name": "python3"
  },
  "language_info": {
   "codemirror_mode": {
    "name": "ipython",
    "version": 3
   },
   "file_extension": ".py",
   "mimetype": "text/x-python",
   "name": "python",
   "nbconvert_exporter": "python",
   "pygments_lexer": "ipython3",
   "version": "3.9.1"
  }
 },
 "nbformat": 4,
 "nbformat_minor": 4
}
