{
 "cells": [
  {
   "cell_type": "markdown",
   "metadata": {},
   "source": [
    "# Sentiment and Time Series ML with Crypto"
   ]
  },
  {
   "cell_type": "code",
   "execution_count": 1,
   "metadata": {},
   "outputs": [],
   "source": [
    "# Libraries\n",
    "from eod import EodHistoricalData\n",
    "import pandas as pd\n",
    "from datetime import datetime, timedelta\n",
    "from tqdm import tqdm\n",
    "import nltk\n",
    "from textblob import TextBlob\n",
    "import numpy as np\n",
    "import random\n",
    "import plotly.express as px\n",
    "from prophet import Prophet\n",
    "\n",
    "# Importing and assigning the api key\n",
    "with open(\"../../eodHistoricalData-API.txt\", \"r\") as f:\n",
    "    api_key = f.read()\n",
    "    \n",
    "# EOD Historical Data client\n",
    "client = EodHistoricalData(api_key)"
   ]
  },
  {
   "cell_type": "markdown",
   "metadata": {},
   "source": [
    "# News and Price Data"
   ]
  },
  {
   "cell_type": "code",
   "execution_count": 2,
   "metadata": {},
   "outputs": [],
   "source": [
    "def getNews(ticker, days):\n",
    "    \"\"\"\n",
    "    Retrieves financial news over the course of a specified number of days for\n",
    "    a given stock ticker.\n",
    "    \"\"\"\n",
    "\n",
    "    # List of news\n",
    "    news = []\n",
    "    \n",
    "    # How many days back to retrieve\n",
    "    ago = datetime.now() - timedelta(days=days)\n",
    "\n",
    "    # Getting news over the course of a year\n",
    "    for i in tqdm(range(10, days, 10)):\n",
    "\n",
    "        # Grabbing the news\n",
    "        resp = client.get_financial_news(\n",
    "            s=ticker+\".CC\",\n",
    "            from_=(ago+timedelta(days=i-10)).strftime(\"%Y-%m-%d\"),\n",
    "            to=(ago+timedelta(days=i)).strftime(\"%Y-%m-%d\"),\n",
    "            limit=100\n",
    "        )\n",
    "\n",
    "        # Adding to the news list\n",
    "        news.extend(resp)\n",
    "                \n",
    "    # Filtering out irrelevant news\n",
    "    lst = [i for i in news if sum(x in {ticker.lower()} for x in nltk.word_tokenize(i['title'].lower()))>=1]\n",
    "    \n",
    "    # Formatting the date\n",
    "    news = pd.DataFrame(lst)\n",
    "    \n",
    "    news['date'] = news['date'].apply(lambda x: x[:10])\n",
    "    \n",
    "    return news"
   ]
  },
  {
   "cell_type": "code",
   "execution_count": 3,
   "metadata": {},
   "outputs": [
    {
     "name": "stderr",
     "output_type": "stream",
     "text": [
      "100%|██████████| 9/9 [00:08<00:00,  1.01it/s]\n"
     ]
    }
   ],
   "source": [
    "# Retrieving financial news\n",
    "news = getNews(\"BTC\", 100)"
   ]
  },
  {
   "cell_type": "markdown",
   "metadata": {},
   "source": [
    "# Sentiment Analysis"
   ]
  },
  {
   "cell_type": "code",
   "execution_count": 4,
   "metadata": {},
   "outputs": [],
   "source": [
    "def sentimentPositions(val, thresh=0.1):\n",
    "    \"\"\"\n",
    "    Returns position as 1, -1, or 0 for Buy, Sell, \n",
    "    and Do Nothing respectively based on the given \n",
    "    sentiment value and threshold.\n",
    "    \"\"\"\n",
    "    if val > thresh:\n",
    "        return 1\n",
    "    elif val< -thresh:\n",
    "        return -1\n",
    "    else:\n",
    "        return 0"
   ]
  },
  {
   "cell_type": "code",
   "execution_count": 142,
   "metadata": {},
   "outputs": [],
   "source": [
    "# Getting sentiment values for the news headlines/titles\n",
    "news['sentiment'] = news['title'].apply(\n",
    "    lambda x: TextBlob(x.lower()).sentiment[0]\n",
    ")\n",
    "\n",
    "# Grouping together dates and aggregating sentiment scores from the same day\n",
    "sent_df = news.groupby('date')[['sentiment']].mean()\n",
    "\n",
    "# Applying the position function\n",
    "sent_df['sentiment_positions'] = sent_df['sentiment'].apply(\n",
    "    lambda x: sentimentPositions(x, thresh=0)\n",
    ")\n",
    "\n",
    "# Filling in missing days with the most recent position value\n",
    "date_index = [str(i)[:10] for i in pd.date_range(sent_df.index[0], sent_df.index[-1])]\n",
    "\n",
    "sent_df = sent_df.reindex(date_index).fillna(method='ffill')"
   ]
  },
  {
   "cell_type": "code",
   "execution_count": 143,
   "metadata": {},
   "outputs": [
    {
     "data": {
      "text/html": [
       "<div>\n",
       "<style scoped>\n",
       "    .dataframe tbody tr th:only-of-type {\n",
       "        vertical-align: middle;\n",
       "    }\n",
       "\n",
       "    .dataframe tbody tr th {\n",
       "        vertical-align: top;\n",
       "    }\n",
       "\n",
       "    .dataframe thead th {\n",
       "        text-align: right;\n",
       "    }\n",
       "</style>\n",
       "<table border=\"1\" class=\"dataframe\">\n",
       "  <thead>\n",
       "    <tr style=\"text-align: right;\">\n",
       "      <th></th>\n",
       "      <th>sentiment</th>\n",
       "      <th>sentiment_positions</th>\n",
       "    </tr>\n",
       "    <tr>\n",
       "      <th>date</th>\n",
       "      <th></th>\n",
       "      <th></th>\n",
       "    </tr>\n",
       "  </thead>\n",
       "  <tbody>\n",
       "    <tr>\n",
       "      <th>2021-09-19</th>\n",
       "      <td>0.132955</td>\n",
       "      <td>1.0</td>\n",
       "    </tr>\n",
       "    <tr>\n",
       "      <th>2021-09-20</th>\n",
       "      <td>0.125000</td>\n",
       "      <td>1.0</td>\n",
       "    </tr>\n",
       "    <tr>\n",
       "      <th>2021-09-21</th>\n",
       "      <td>0.000000</td>\n",
       "      <td>0.0</td>\n",
       "    </tr>\n",
       "    <tr>\n",
       "      <th>2021-09-22</th>\n",
       "      <td>0.000000</td>\n",
       "      <td>0.0</td>\n",
       "    </tr>\n",
       "    <tr>\n",
       "      <th>2021-09-23</th>\n",
       "      <td>0.000000</td>\n",
       "      <td>0.0</td>\n",
       "    </tr>\n",
       "    <tr>\n",
       "      <th>...</th>\n",
       "      <td>...</td>\n",
       "      <td>...</td>\n",
       "    </tr>\n",
       "    <tr>\n",
       "      <th>2021-12-06</th>\n",
       "      <td>-0.079167</td>\n",
       "      <td>-1.0</td>\n",
       "    </tr>\n",
       "    <tr>\n",
       "      <th>2021-12-07</th>\n",
       "      <td>-0.079167</td>\n",
       "      <td>-1.0</td>\n",
       "    </tr>\n",
       "    <tr>\n",
       "      <th>2021-12-08</th>\n",
       "      <td>0.055556</td>\n",
       "      <td>1.0</td>\n",
       "    </tr>\n",
       "    <tr>\n",
       "      <th>2021-12-09</th>\n",
       "      <td>0.000000</td>\n",
       "      <td>0.0</td>\n",
       "    </tr>\n",
       "    <tr>\n",
       "      <th>2021-12-10</th>\n",
       "      <td>0.000000</td>\n",
       "      <td>0.0</td>\n",
       "    </tr>\n",
       "  </tbody>\n",
       "</table>\n",
       "<p>83 rows × 2 columns</p>\n",
       "</div>"
      ],
      "text/plain": [
       "            sentiment  sentiment_positions\n",
       "date                                      \n",
       "2021-09-19   0.132955                  1.0\n",
       "2021-09-20   0.125000                  1.0\n",
       "2021-09-21   0.000000                  0.0\n",
       "2021-09-22   0.000000                  0.0\n",
       "2021-09-23   0.000000                  0.0\n",
       "...               ...                  ...\n",
       "2021-12-06  -0.079167                 -1.0\n",
       "2021-12-07  -0.079167                 -1.0\n",
       "2021-12-08   0.055556                  1.0\n",
       "2021-12-09   0.000000                  0.0\n",
       "2021-12-10   0.000000                  0.0\n",
       "\n",
       "[83 rows x 2 columns]"
      ]
     },
     "execution_count": 143,
     "metadata": {},
     "output_type": "execute_result"
    }
   ],
   "source": [
    "sent_df"
   ]
  },
  {
   "cell_type": "markdown",
   "metadata": {},
   "source": [
    "# FBProphet Time Series Analysis\n",
    "In order to properly backtest with sentiment, a certain amount of training days need to come before the first date from the sentiment DF"
   ]
  },
  {
   "cell_type": "code",
   "execution_count": 56,
   "metadata": {},
   "outputs": [],
   "source": [
    "def getPrices(ticker, training_days, sent_df, mov_avg):\n",
    "    \"\"\"\n",
    "    Using a sentiment DataFrame to find the first day and trains with the previous\n",
    "    N days to make predictions that cooperate with sentiment.\n",
    "    \n",
    "    Also prepares the price data for FBProphet.\n",
    "    \"\"\"\n",
    "    # The first day from the sentiment DF minus the amount of days to train with\n",
    "    ago = datetime.strptime(\n",
    "        sent_df.index[0], \"%Y-%m-%d\"\n",
    "    ) - timedelta(\n",
    "        days=training_days+mov_avg\n",
    "    )\n",
    "    \n",
    "    # Getting prices\n",
    "    prices = pd.DataFrame(\n",
    "        client.get_prices_eod(\n",
    "            ticker+\"-USD.CC\", \n",
    "            from_=ago.strftime(\"%Y-%m-%d\")\n",
    "        )\n",
    "    )\n",
    "\n",
    "    # Set index\n",
    "    prices = prices.set_index('date', drop=True)\n",
    "    \n",
    "    # Getting the N Day Moving Average and rounding the values for some light data preprocessing\n",
    "    prices['MA'] = prices[['open']].rolling(\n",
    "        window=mov_avg\n",
    "    ).mean().apply(lambda x: round(x, 2))\n",
    "\n",
    "    # Dropping Nans\n",
    "    prices.dropna(inplace=True)\n",
    "\n",
    "    # Resetting format for FBP\n",
    "    prices = prices.reset_index().rename(\n",
    "        columns={\"date\": \"ds\", \"MA\": \"y\"}\n",
    "    )\n",
    "    \n",
    "    return prices"
   ]
  },
  {
   "cell_type": "code",
   "execution_count": 87,
   "metadata": {},
   "outputs": [
    {
     "data": {
      "text/html": [
       "<div>\n",
       "<style scoped>\n",
       "    .dataframe tbody tr th:only-of-type {\n",
       "        vertical-align: middle;\n",
       "    }\n",
       "\n",
       "    .dataframe tbody tr th {\n",
       "        vertical-align: top;\n",
       "    }\n",
       "\n",
       "    .dataframe thead th {\n",
       "        text-align: right;\n",
       "    }\n",
       "</style>\n",
       "<table border=\"1\" class=\"dataframe\">\n",
       "  <thead>\n",
       "    <tr style=\"text-align: right;\">\n",
       "      <th></th>\n",
       "      <th>ds</th>\n",
       "      <th>open</th>\n",
       "      <th>high</th>\n",
       "      <th>low</th>\n",
       "      <th>close</th>\n",
       "      <th>adjusted_close</th>\n",
       "      <th>volume</th>\n",
       "      <th>y</th>\n",
       "    </tr>\n",
       "  </thead>\n",
       "  <tbody>\n",
       "    <tr>\n",
       "      <th>0</th>\n",
       "      <td>2020-09-18</td>\n",
       "      <td>10946.2442</td>\n",
       "      <td>11035.4876</td>\n",
       "      <td>10836.4234</td>\n",
       "      <td>10935.3768</td>\n",
       "      <td>10935.3768</td>\n",
       "      <td>17023995991</td>\n",
       "      <td>10744.65</td>\n",
       "    </tr>\n",
       "    <tr>\n",
       "      <th>1</th>\n",
       "      <td>2020-09-19</td>\n",
       "      <td>10949.5601</td>\n",
       "      <td>11142.1776</td>\n",
       "      <td>10920.7426</td>\n",
       "      <td>11095.1677</td>\n",
       "      <td>11095.1677</td>\n",
       "      <td>13759271061</td>\n",
       "      <td>10868.20</td>\n",
       "    </tr>\n",
       "    <tr>\n",
       "      <th>2</th>\n",
       "      <td>2020-09-20</td>\n",
       "      <td>11095.1629</td>\n",
       "      <td>11095.1629</td>\n",
       "      <td>10814.1651</td>\n",
       "      <td>10930.4456</td>\n",
       "      <td>10930.4456</td>\n",
       "      <td>14629736360</td>\n",
       "      <td>10950.36</td>\n",
       "    </tr>\n",
       "    <tr>\n",
       "      <th>3</th>\n",
       "      <td>2020-09-21</td>\n",
       "      <td>10932.2450</td>\n",
       "      <td>10988.3972</td>\n",
       "      <td>10391.1061</td>\n",
       "      <td>10455.8932</td>\n",
       "      <td>10455.8932</td>\n",
       "      <td>17829479597</td>\n",
       "      <td>10976.97</td>\n",
       "    </tr>\n",
       "    <tr>\n",
       "      <th>4</th>\n",
       "      <td>2020-09-22</td>\n",
       "      <td>10452.4406</td>\n",
       "      <td>10572.7500</td>\n",
       "      <td>10390.4856</td>\n",
       "      <td>10549.9413</td>\n",
       "      <td>10549.9413</td>\n",
       "      <td>14486593090</td>\n",
       "      <td>10875.13</td>\n",
       "    </tr>\n",
       "    <tr>\n",
       "      <th>...</th>\n",
       "      <td>...</td>\n",
       "      <td>...</td>\n",
       "      <td>...</td>\n",
       "      <td>...</td>\n",
       "      <td>...</td>\n",
       "      <td>...</td>\n",
       "      <td>...</td>\n",
       "      <td>...</td>\n",
       "    </tr>\n",
       "    <tr>\n",
       "      <th>455</th>\n",
       "      <td>2021-12-17</td>\n",
       "      <td>47666.5634</td>\n",
       "      <td>47959.7768</td>\n",
       "      <td>45918.0921</td>\n",
       "      <td>46342.6802</td>\n",
       "      <td>46342.6802</td>\n",
       "      <td>38541915812</td>\n",
       "      <td>48378.82</td>\n",
       "    </tr>\n",
       "    <tr>\n",
       "      <th>456</th>\n",
       "      <td>2021-12-18</td>\n",
       "      <td>46250.2676</td>\n",
       "      <td>47215.8890</td>\n",
       "      <td>45712.3787</td>\n",
       "      <td>46981.3627</td>\n",
       "      <td>46981.3627</td>\n",
       "      <td>29878025147</td>\n",
       "      <td>47611.26</td>\n",
       "    </tr>\n",
       "    <tr>\n",
       "      <th>457</th>\n",
       "      <td>2021-12-19</td>\n",
       "      <td>46906.1835</td>\n",
       "      <td>47990.6863</td>\n",
       "      <td>46582.4147</td>\n",
       "      <td>46826.6224</td>\n",
       "      <td>46826.6224</td>\n",
       "      <td>30169729900</td>\n",
       "      <td>47630.41</td>\n",
       "    </tr>\n",
       "    <tr>\n",
       "      <th>458</th>\n",
       "      <td>2021-12-20</td>\n",
       "      <td>46770.0877</td>\n",
       "      <td>47210.1084</td>\n",
       "      <td>45708.6317</td>\n",
       "      <td>47059.1094</td>\n",
       "      <td>47059.1094</td>\n",
       "      <td>37688401232</td>\n",
       "      <td>47298.42</td>\n",
       "    </tr>\n",
       "    <tr>\n",
       "      <th>459</th>\n",
       "      <td>2021-12-21</td>\n",
       "      <td>46924.8392</td>\n",
       "      <td>47185.4177</td>\n",
       "      <td>46794.8403</td>\n",
       "      <td>46946.7560</td>\n",
       "      <td>46946.7560</td>\n",
       "      <td>34584493127</td>\n",
       "      <td>46903.59</td>\n",
       "    </tr>\n",
       "  </tbody>\n",
       "</table>\n",
       "<p>460 rows × 8 columns</p>\n",
       "</div>"
      ],
      "text/plain": [
       "             ds        open        high         low       close  \\\n",
       "0    2020-09-18  10946.2442  11035.4876  10836.4234  10935.3768   \n",
       "1    2020-09-19  10949.5601  11142.1776  10920.7426  11095.1677   \n",
       "2    2020-09-20  11095.1629  11095.1629  10814.1651  10930.4456   \n",
       "3    2020-09-21  10932.2450  10988.3972  10391.1061  10455.8932   \n",
       "4    2020-09-22  10452.4406  10572.7500  10390.4856  10549.9413   \n",
       "..          ...         ...         ...         ...         ...   \n",
       "455  2021-12-17  47666.5634  47959.7768  45918.0921  46342.6802   \n",
       "456  2021-12-18  46250.2676  47215.8890  45712.3787  46981.3627   \n",
       "457  2021-12-19  46906.1835  47990.6863  46582.4147  46826.6224   \n",
       "458  2021-12-20  46770.0877  47210.1084  45708.6317  47059.1094   \n",
       "459  2021-12-21  46924.8392  47185.4177  46794.8403  46946.7560   \n",
       "\n",
       "     adjusted_close       volume         y  \n",
       "0        10935.3768  17023995991  10744.65  \n",
       "1        11095.1677  13759271061  10868.20  \n",
       "2        10930.4456  14629736360  10950.36  \n",
       "3        10455.8932  17829479597  10976.97  \n",
       "4        10549.9413  14486593090  10875.13  \n",
       "..              ...          ...       ...  \n",
       "455      46342.6802  38541915812  48378.82  \n",
       "456      46981.3627  29878025147  47611.26  \n",
       "457      46826.6224  30169729900  47630.41  \n",
       "458      47059.1094  37688401232  47298.42  \n",
       "459      46946.7560  34584493127  46903.59  \n",
       "\n",
       "[460 rows x 8 columns]"
      ]
     },
     "execution_count": 87,
     "metadata": {},
     "output_type": "execute_result"
    }
   ],
   "source": [
    "prices = getPrices(\"BTC\", 365, sent_df, 5)\n",
    "\n",
    "prices"
   ]
  },
  {
   "cell_type": "markdown",
   "metadata": {},
   "source": [
    "## Function to Make Predictions"
   ]
  },
  {
   "cell_type": "code",
   "execution_count": 88,
   "metadata": {},
   "outputs": [],
   "source": [
    "def fbpTrainPredict(df, forecast_period):\n",
    "    \"\"\"\n",
    "    Uses FB Prophet and fits to a appropriately formatted DF. Makes a prediction N days into \n",
    "    the future based on given forecast period. Returns predicted values as a DF.\n",
    "    \"\"\"\n",
    "    # Setting up prophet\n",
    "    m = Prophet(\n",
    "        daily_seasonality=True, \n",
    "        yearly_seasonality=True, \n",
    "        weekly_seasonality=True\n",
    "    )\n",
    "    \n",
    "    # Fitting to the prices\n",
    "    m.fit(df[['ds', 'y']])\n",
    "    \n",
    "    # Future DF\n",
    "    future = m.make_future_dataframe(periods=forecast_period)\n",
    "        \n",
    "    # Predicting values\n",
    "    forecast = m.predict(future)\n",
    "\n",
    "    # Returning a set of predicted values\n",
    "    return forecast[['ds', 'yhat', 'yhat_lower', 'yhat_upper']]"
   ]
  },
  {
   "cell_type": "markdown",
   "metadata": {},
   "source": [
    "## Making Predictions over time"
   ]
  },
  {
   "cell_type": "code",
   "execution_count": 150,
   "metadata": {},
   "outputs": [],
   "source": [
    "def runningFBP(prices, forecast_period, training_days):\n",
    "    \"\"\"\n",
    "    Runs Facebook Prophet to get predictions over a set period \n",
    "    of time. Uses FBP to train and predict everyday and gets the \n",
    "    prediction made for the nth day.\n",
    "    \"\"\"\n",
    "    # DF for the predicted values\n",
    "    pred_df = pd.DataFrame()\n",
    "    \n",
    "    # Training amount\n",
    "    train = training_days - forecast_period\n",
    "\n",
    "    # Running the model on each day\n",
    "    for i in tqdm(range(train, len(prices))):\n",
    "\n",
    "        # Training and Predicting the last day on the forecast\n",
    "        forecast = fbpTrainPredict(\n",
    "            prices[i-train:i], \n",
    "            forecast_period\n",
    "        ).tail(1)[\n",
    "            [\n",
    "                'ds',\n",
    "                'yhat',\n",
    "                'yhat_lower',\n",
    "                'yhat_upper'\n",
    "            ]\n",
    "        ]\n",
    "\n",
    "        # Adding the last day predicted\n",
    "        pred_df = pred_df.append(forecast, ignore_index=True)\n",
    "        \n",
    "    # Prepping for merge by converting date values to be the same type\n",
    "    pred_df['ds'] = pred_df['ds'].apply(lambda x: str(x)[:10])\n",
    "\n",
    "    prices['ds'] = prices['ds'].apply(lambda x: str(x)[:10])\n",
    "    \n",
    "    # Getting the price values from N days ago\n",
    "    prices['previous_open'] = prices['open'].shift(forecast_period)\n",
    "    \n",
    "    # Merging with the prices DF in order to compare values for positions later\n",
    "    merge_df = prices[['ds', 'previous_open']].merge(\n",
    "        pred_df,\n",
    "        on='ds',\n",
    "        how='outer').dropna().set_index('ds')\n",
    "\n",
    "    return merge_df"
   ]
  },
  {
   "cell_type": "code",
   "execution_count": 117,
   "metadata": {},
   "outputs": [
    {
     "name": "stderr",
     "output_type": "stream",
     "text": [
      "100%|██████████| 105/105 [01:11<00:00,  1.47it/s]\n"
     ]
    }
   ],
   "source": [
    "pred_df = runningFBP(prices, 10, 365)"
   ]
  },
  {
   "cell_type": "code",
   "execution_count": 118,
   "metadata": {},
   "outputs": [
    {
     "data": {
      "text/html": [
       "<div>\n",
       "<style scoped>\n",
       "    .dataframe tbody tr th:only-of-type {\n",
       "        vertical-align: middle;\n",
       "    }\n",
       "\n",
       "    .dataframe tbody tr th {\n",
       "        vertical-align: top;\n",
       "    }\n",
       "\n",
       "    .dataframe thead th {\n",
       "        text-align: right;\n",
       "    }\n",
       "</style>\n",
       "<table border=\"1\" class=\"dataframe\">\n",
       "  <thead>\n",
       "    <tr style=\"text-align: right;\">\n",
       "      <th></th>\n",
       "      <th>open</th>\n",
       "      <th>yhat</th>\n",
       "      <th>yhat_lower</th>\n",
       "      <th>yhat_upper</th>\n",
       "    </tr>\n",
       "    <tr>\n",
       "      <th>ds</th>\n",
       "      <th></th>\n",
       "      <th></th>\n",
       "      <th></th>\n",
       "      <th></th>\n",
       "    </tr>\n",
       "  </thead>\n",
       "  <tbody>\n",
       "    <tr>\n",
       "      <th>2021-09-17</th>\n",
       "      <td>52665.7536</td>\n",
       "      <td>51980.555864</td>\n",
       "      <td>49654.978931</td>\n",
       "      <td>54332.194924</td>\n",
       "    </tr>\n",
       "    <tr>\n",
       "      <th>2021-09-18</th>\n",
       "      <td>46948.0736</td>\n",
       "      <td>52059.054515</td>\n",
       "      <td>49732.122871</td>\n",
       "      <td>54424.366432</td>\n",
       "    </tr>\n",
       "    <tr>\n",
       "      <th>2021-09-19</th>\n",
       "      <td>46152.1959</td>\n",
       "      <td>51917.492103</td>\n",
       "      <td>49652.212609</td>\n",
       "      <td>54346.334594</td>\n",
       "    </tr>\n",
       "    <tr>\n",
       "      <th>2021-09-20</th>\n",
       "      <td>46458.1044</td>\n",
       "      <td>51616.571020</td>\n",
       "      <td>49257.076771</td>\n",
       "      <td>53869.370923</td>\n",
       "    </tr>\n",
       "    <tr>\n",
       "      <th>2021-09-21</th>\n",
       "      <td>44925.6059</td>\n",
       "      <td>50655.963306</td>\n",
       "      <td>48378.114998</td>\n",
       "      <td>53048.559617</td>\n",
       "    </tr>\n",
       "    <tr>\n",
       "      <th>...</th>\n",
       "      <td>...</td>\n",
       "      <td>...</td>\n",
       "      <td>...</td>\n",
       "      <td>...</td>\n",
       "    </tr>\n",
       "    <tr>\n",
       "      <th>2021-12-17</th>\n",
       "      <td>50625.3074</td>\n",
       "      <td>44794.001622</td>\n",
       "      <td>42173.073526</td>\n",
       "      <td>47498.745393</td>\n",
       "    </tr>\n",
       "    <tr>\n",
       "      <th>2021-12-18</th>\n",
       "      <td>50689.6758</td>\n",
       "      <td>44280.915980</td>\n",
       "      <td>41746.182973</td>\n",
       "      <td>47065.187215</td>\n",
       "    </tr>\n",
       "    <tr>\n",
       "      <th>2021-12-19</th>\n",
       "      <td>50470.5845</td>\n",
       "      <td>43920.001436</td>\n",
       "      <td>41222.267100</td>\n",
       "      <td>46512.243993</td>\n",
       "    </tr>\n",
       "    <tr>\n",
       "      <th>2021-12-20</th>\n",
       "      <td>47879.7594</td>\n",
       "      <td>45332.570452</td>\n",
       "      <td>42697.328162</td>\n",
       "      <td>47885.994201</td>\n",
       "    </tr>\n",
       "    <tr>\n",
       "      <th>2021-12-21</th>\n",
       "      <td>47485.2681</td>\n",
       "      <td>47866.907464</td>\n",
       "      <td>45233.933233</td>\n",
       "      <td>50677.579220</td>\n",
       "    </tr>\n",
       "  </tbody>\n",
       "</table>\n",
       "<p>96 rows × 4 columns</p>\n",
       "</div>"
      ],
      "text/plain": [
       "                  open          yhat    yhat_lower    yhat_upper\n",
       "ds                                                              \n",
       "2021-09-17  52665.7536  51980.555864  49654.978931  54332.194924\n",
       "2021-09-18  46948.0736  52059.054515  49732.122871  54424.366432\n",
       "2021-09-19  46152.1959  51917.492103  49652.212609  54346.334594\n",
       "2021-09-20  46458.1044  51616.571020  49257.076771  53869.370923\n",
       "2021-09-21  44925.6059  50655.963306  48378.114998  53048.559617\n",
       "...                ...           ...           ...           ...\n",
       "2021-12-17  50625.3074  44794.001622  42173.073526  47498.745393\n",
       "2021-12-18  50689.6758  44280.915980  41746.182973  47065.187215\n",
       "2021-12-19  50470.5845  43920.001436  41222.267100  46512.243993\n",
       "2021-12-20  47879.7594  45332.570452  42697.328162  47885.994201\n",
       "2021-12-21  47485.2681  47866.907464  45233.933233  50677.579220\n",
       "\n",
       "[96 rows x 4 columns]"
      ]
     },
     "execution_count": 118,
     "metadata": {},
     "output_type": "execute_result"
    }
   ],
   "source": [
    "pred_df"
   ]
  },
  {
   "cell_type": "markdown",
   "metadata": {},
   "source": [
    "# Getting Positions\n",
    "Gets sentiment and time series positions as well as random and buy & hold positions consolidated."
   ]
  },
  {
   "cell_type": "code",
   "execution_count": 146,
   "metadata": {},
   "outputs": [],
   "source": [
    "def fbpPositions(pred_df, short=True):\n",
    "    \"\"\"\n",
    "    Gets positions based on the predictions and the actual values.\n",
    "    \"\"\"\n",
    "    if pred_df['open'] < pred_df['yhat_upper']:\n",
    "        return 1\n",
    "    elif pred_df['open'] > pred_df['yhat_lower'] and short:\n",
    "        return -1\n",
    "    else:\n",
    "        return 0"
   ]
  },
  {
   "cell_type": "code",
   "execution_count": 148,
   "metadata": {},
   "outputs": [],
   "source": [
    "def overallPosition(df):\n",
    "    \"\"\"\n",
    "    Returns the position if both values in the DF are the same.\n",
    "    Otherwise, the position will be to do nothing.\n",
    "    \"\"\"\n",
    "    if df['sentiment_positions']==df['fbp_positions']:\n",
    "        return df['sentiment_positions']\n",
    "    else:\n",
    "        return 0"
   ]
  },
  {
   "cell_type": "code",
   "execution_count": 153,
   "metadata": {},
   "outputs": [
    {
     "data": {
      "text/html": [
       "<div>\n",
       "<style scoped>\n",
       "    .dataframe tbody tr th:only-of-type {\n",
       "        vertical-align: middle;\n",
       "    }\n",
       "\n",
       "    .dataframe tbody tr th {\n",
       "        vertical-align: top;\n",
       "    }\n",
       "\n",
       "    .dataframe thead th {\n",
       "        text-align: right;\n",
       "    }\n",
       "</style>\n",
       "<table border=\"1\" class=\"dataframe\">\n",
       "  <thead>\n",
       "    <tr style=\"text-align: right;\">\n",
       "      <th></th>\n",
       "      <th>open</th>\n",
       "      <th>yhat</th>\n",
       "      <th>yhat_lower</th>\n",
       "      <th>yhat_upper</th>\n",
       "      <th>sentiment</th>\n",
       "      <th>sentiment_positions</th>\n",
       "      <th>fbp_positions</th>\n",
       "      <th>overall_positions</th>\n",
       "      <th>buy_hold</th>\n",
       "      <th>random_positions</th>\n",
       "    </tr>\n",
       "  </thead>\n",
       "  <tbody>\n",
       "    <tr>\n",
       "      <th>2021-09-19</th>\n",
       "      <td>46152.1959</td>\n",
       "      <td>51917.492103</td>\n",
       "      <td>49652.212609</td>\n",
       "      <td>54346.334594</td>\n",
       "      <td>0.132955</td>\n",
       "      <td>1.0</td>\n",
       "      <td>1</td>\n",
       "      <td>1.0</td>\n",
       "      <td>1</td>\n",
       "      <td>-1</td>\n",
       "    </tr>\n",
       "    <tr>\n",
       "      <th>2021-09-20</th>\n",
       "      <td>46458.1044</td>\n",
       "      <td>51616.571020</td>\n",
       "      <td>49257.076771</td>\n",
       "      <td>53869.370923</td>\n",
       "      <td>0.125000</td>\n",
       "      <td>1.0</td>\n",
       "      <td>1</td>\n",
       "      <td>1.0</td>\n",
       "      <td>1</td>\n",
       "      <td>-1</td>\n",
       "    </tr>\n",
       "    <tr>\n",
       "      <th>2021-09-21</th>\n",
       "      <td>44925.6059</td>\n",
       "      <td>50655.963306</td>\n",
       "      <td>48378.114998</td>\n",
       "      <td>53048.559617</td>\n",
       "      <td>0.000000</td>\n",
       "      <td>0.0</td>\n",
       "      <td>1</td>\n",
       "      <td>0.0</td>\n",
       "      <td>1</td>\n",
       "      <td>0</td>\n",
       "    </tr>\n",
       "    <tr>\n",
       "      <th>2021-09-22</th>\n",
       "      <td>45199.7642</td>\n",
       "      <td>49575.979562</td>\n",
       "      <td>47201.910107</td>\n",
       "      <td>52041.790967</td>\n",
       "      <td>0.000000</td>\n",
       "      <td>0.0</td>\n",
       "      <td>1</td>\n",
       "      <td>0.0</td>\n",
       "      <td>1</td>\n",
       "      <td>0</td>\n",
       "    </tr>\n",
       "    <tr>\n",
       "      <th>2021-09-23</th>\n",
       "      <td>46124.5916</td>\n",
       "      <td>48453.154246</td>\n",
       "      <td>46066.749619</td>\n",
       "      <td>51003.598977</td>\n",
       "      <td>0.000000</td>\n",
       "      <td>0.0</td>\n",
       "      <td>1</td>\n",
       "      <td>0.0</td>\n",
       "      <td>1</td>\n",
       "      <td>1</td>\n",
       "    </tr>\n",
       "    <tr>\n",
       "      <th>...</th>\n",
       "      <td>...</td>\n",
       "      <td>...</td>\n",
       "      <td>...</td>\n",
       "      <td>...</td>\n",
       "      <td>...</td>\n",
       "      <td>...</td>\n",
       "      <td>...</td>\n",
       "      <td>...</td>\n",
       "      <td>...</td>\n",
       "      <td>...</td>\n",
       "    </tr>\n",
       "    <tr>\n",
       "      <th>2021-12-06</th>\n",
       "      <td>58644.8662</td>\n",
       "      <td>52595.337736</td>\n",
       "      <td>49750.556626</td>\n",
       "      <td>54994.213286</td>\n",
       "      <td>-0.079167</td>\n",
       "      <td>-1.0</td>\n",
       "      <td>-1</td>\n",
       "      <td>-1.0</td>\n",
       "      <td>1</td>\n",
       "      <td>-1</td>\n",
       "    </tr>\n",
       "    <tr>\n",
       "      <th>2021-12-07</th>\n",
       "      <td>53744.2450</td>\n",
       "      <td>49357.322216</td>\n",
       "      <td>46871.716287</td>\n",
       "      <td>51933.039226</td>\n",
       "      <td>-0.079167</td>\n",
       "      <td>-1.0</td>\n",
       "      <td>-1</td>\n",
       "      <td>-1.0</td>\n",
       "      <td>1</td>\n",
       "      <td>0</td>\n",
       "    </tr>\n",
       "    <tr>\n",
       "      <th>2021-12-08</th>\n",
       "      <td>54780.2920</td>\n",
       "      <td>48142.238473</td>\n",
       "      <td>45317.028892</td>\n",
       "      <td>50514.854792</td>\n",
       "      <td>0.055556</td>\n",
       "      <td>1.0</td>\n",
       "      <td>-1</td>\n",
       "      <td>0.0</td>\n",
       "      <td>1</td>\n",
       "      <td>-1</td>\n",
       "    </tr>\n",
       "    <tr>\n",
       "      <th>2021-12-09</th>\n",
       "      <td>57263.1518</td>\n",
       "      <td>46663.817723</td>\n",
       "      <td>44015.931669</td>\n",
       "      <td>49446.939236</td>\n",
       "      <td>0.000000</td>\n",
       "      <td>0.0</td>\n",
       "      <td>-1</td>\n",
       "      <td>0.0</td>\n",
       "      <td>1</td>\n",
       "      <td>1</td>\n",
       "    </tr>\n",
       "    <tr>\n",
       "      <th>2021-12-10</th>\n",
       "      <td>57799.5130</td>\n",
       "      <td>44406.402709</td>\n",
       "      <td>41751.710615</td>\n",
       "      <td>47239.559499</td>\n",
       "      <td>0.000000</td>\n",
       "      <td>0.0</td>\n",
       "      <td>-1</td>\n",
       "      <td>0.0</td>\n",
       "      <td>1</td>\n",
       "      <td>0</td>\n",
       "    </tr>\n",
       "  </tbody>\n",
       "</table>\n",
       "<p>83 rows × 10 columns</p>\n",
       "</div>"
      ],
      "text/plain": [
       "                  open          yhat    yhat_lower    yhat_upper  sentiment  \\\n",
       "2021-09-19  46152.1959  51917.492103  49652.212609  54346.334594   0.132955   \n",
       "2021-09-20  46458.1044  51616.571020  49257.076771  53869.370923   0.125000   \n",
       "2021-09-21  44925.6059  50655.963306  48378.114998  53048.559617   0.000000   \n",
       "2021-09-22  45199.7642  49575.979562  47201.910107  52041.790967   0.000000   \n",
       "2021-09-23  46124.5916  48453.154246  46066.749619  51003.598977   0.000000   \n",
       "...                ...           ...           ...           ...        ...   \n",
       "2021-12-06  58644.8662  52595.337736  49750.556626  54994.213286  -0.079167   \n",
       "2021-12-07  53744.2450  49357.322216  46871.716287  51933.039226  -0.079167   \n",
       "2021-12-08  54780.2920  48142.238473  45317.028892  50514.854792   0.055556   \n",
       "2021-12-09  57263.1518  46663.817723  44015.931669  49446.939236   0.000000   \n",
       "2021-12-10  57799.5130  44406.402709  41751.710615  47239.559499   0.000000   \n",
       "\n",
       "            sentiment_positions  fbp_positions  overall_positions  buy_hold  \\\n",
       "2021-09-19                  1.0              1                1.0         1   \n",
       "2021-09-20                  1.0              1                1.0         1   \n",
       "2021-09-21                  0.0              1                0.0         1   \n",
       "2021-09-22                  0.0              1                0.0         1   \n",
       "2021-09-23                  0.0              1                0.0         1   \n",
       "...                         ...            ...                ...       ...   \n",
       "2021-12-06                 -1.0             -1               -1.0         1   \n",
       "2021-12-07                 -1.0             -1               -1.0         1   \n",
       "2021-12-08                  1.0             -1                0.0         1   \n",
       "2021-12-09                  0.0             -1                0.0         1   \n",
       "2021-12-10                  0.0             -1                0.0         1   \n",
       "\n",
       "            random_positions  \n",
       "2021-09-19                -1  \n",
       "2021-09-20                -1  \n",
       "2021-09-21                 0  \n",
       "2021-09-22                 0  \n",
       "2021-09-23                 1  \n",
       "...                      ...  \n",
       "2021-12-06                -1  \n",
       "2021-12-07                 0  \n",
       "2021-12-08                -1  \n",
       "2021-12-09                 1  \n",
       "2021-12-10                 0  \n",
       "\n",
       "[83 rows x 10 columns]"
      ]
     },
     "execution_count": 153,
     "metadata": {},
     "output_type": "execute_result"
    }
   ],
   "source": [
    "# Adding sentiment positions to the forecast DF\n",
    "positions = pred_df.merge(\n",
    "    sent_df, \n",
    "    right_index=True, \n",
    "    left_index=True, \n",
    "    how='inner'\n",
    ")\n",
    "\n",
    "# Getting forecast positions\n",
    "positions['fbp_positions'] = positions.apply(lambda x: fbpPositions(x), axis=1)\n",
    "\n",
    "# Getting the overall positions\n",
    "positions['overall_positions'] = positions.apply(lambda x: overallPosition(x), axis=1)\n",
    "\n",
    "# Buy and hold position\n",
    "positions['buy_hold'] = 1\n",
    "\n",
    "# Random positions\n",
    "positions['random_positions'] = random.choices(\n",
    "    [1,0,-1], k=len(positions)\n",
    ")\n",
    "\n",
    "positions"
   ]
  },
  {
   "cell_type": "markdown",
   "metadata": {},
   "source": [
    "## Returns each Day\n",
    "Getting the log returns each day for backtesting"
   ]
  },
  {
   "cell_type": "code",
   "execution_count": 157,
   "metadata": {},
   "outputs": [],
   "source": [
    "# Getting log returns during the time period set by the positions before\n",
    "log_returns = prices[['ds', 'close']].set_index(\n",
    "    'ds'\n",
    ").loc[positions.index].apply(np.log).diff()"
   ]
  },
  {
   "cell_type": "code",
   "execution_count": 163,
   "metadata": {},
   "outputs": [
    {
     "data": {
      "text/html": [
       "<div>\n",
       "<style scoped>\n",
       "    .dataframe tbody tr th:only-of-type {\n",
       "        vertical-align: middle;\n",
       "    }\n",
       "\n",
       "    .dataframe tbody tr th {\n",
       "        vertical-align: top;\n",
       "    }\n",
       "\n",
       "    .dataframe thead th {\n",
       "        text-align: right;\n",
       "    }\n",
       "</style>\n",
       "<table border=\"1\" class=\"dataframe\">\n",
       "  <thead>\n",
       "    <tr style=\"text-align: right;\">\n",
       "      <th></th>\n",
       "      <th>close</th>\n",
       "    </tr>\n",
       "  </thead>\n",
       "  <tbody>\n",
       "    <tr>\n",
       "      <th>2021-09-19</th>\n",
       "      <td>NaN</td>\n",
       "    </tr>\n",
       "    <tr>\n",
       "      <th>2021-09-20</th>\n",
       "      <td>-0.094820</td>\n",
       "    </tr>\n",
       "    <tr>\n",
       "      <th>2021-09-21</th>\n",
       "      <td>-0.056875</td>\n",
       "    </tr>\n",
       "    <tr>\n",
       "      <th>2021-09-22</th>\n",
       "      <td>0.071670</td>\n",
       "    </tr>\n",
       "    <tr>\n",
       "      <th>2021-09-23</th>\n",
       "      <td>0.028066</td>\n",
       "    </tr>\n",
       "    <tr>\n",
       "      <th>...</th>\n",
       "      <td>...</td>\n",
       "    </tr>\n",
       "    <tr>\n",
       "      <th>2021-12-06</th>\n",
       "      <td>0.025271</td>\n",
       "    </tr>\n",
       "    <tr>\n",
       "      <th>2021-12-07</th>\n",
       "      <td>0.001011</td>\n",
       "    </tr>\n",
       "    <tr>\n",
       "      <th>2021-12-08</th>\n",
       "      <td>-0.004468</td>\n",
       "    </tr>\n",
       "    <tr>\n",
       "      <th>2021-12-09</th>\n",
       "      <td>-0.050237</td>\n",
       "    </tr>\n",
       "    <tr>\n",
       "      <th>2021-12-10</th>\n",
       "      <td>-0.010618</td>\n",
       "    </tr>\n",
       "  </tbody>\n",
       "</table>\n",
       "<p>83 rows × 1 columns</p>\n",
       "</div>"
      ],
      "text/plain": [
       "               close\n",
       "2021-09-19       NaN\n",
       "2021-09-20 -0.094820\n",
       "2021-09-21 -0.056875\n",
       "2021-09-22  0.071670\n",
       "2021-09-23  0.028066\n",
       "...              ...\n",
       "2021-12-06  0.025271\n",
       "2021-12-07  0.001011\n",
       "2021-12-08 -0.004468\n",
       "2021-12-09 -0.050237\n",
       "2021-12-10 -0.010618\n",
       "\n",
       "[83 rows x 1 columns]"
      ]
     },
     "execution_count": 163,
     "metadata": {},
     "output_type": "execute_result"
    }
   ],
   "source": [
    "log_returns"
   ]
  },
  {
   "cell_type": "markdown",
   "metadata": {},
   "source": [
    "# Performing the Backtest"
   ]
  },
  {
   "cell_type": "code",
   "execution_count": 168,
   "metadata": {},
   "outputs": [],
   "source": [
    "# The positions to backtest (shifted ahead by 1 to prevent lookahead bias)\n",
    "bt_positions = positions[['overall_positions', 'buy_hold', 'random_positions']].shift(1)\n",
    "\n",
    "# The returns during the backtest\n",
    "returns = bt_positions.multiply(\n",
    "    log_returns['close'], \n",
    "    axis=0\n",
    ")\n",
    "\n",
    "# Inversing the log returns to get daily portfolio balance\n",
    "performance = returns.cumsum().apply(\n",
    "    np.exp\n",
    ").dropna().fillna(\n",
    "    method='ffill'\n",
    ")"
   ]
  },
  {
   "cell_type": "code",
   "execution_count": 169,
   "metadata": {},
   "outputs": [
    {
     "data": {
      "text/html": [
       "<div>\n",
       "<style scoped>\n",
       "    .dataframe tbody tr th:only-of-type {\n",
       "        vertical-align: middle;\n",
       "    }\n",
       "\n",
       "    .dataframe tbody tr th {\n",
       "        vertical-align: top;\n",
       "    }\n",
       "\n",
       "    .dataframe thead th {\n",
       "        text-align: right;\n",
       "    }\n",
       "</style>\n",
       "<table border=\"1\" class=\"dataframe\">\n",
       "  <thead>\n",
       "    <tr style=\"text-align: right;\">\n",
       "      <th></th>\n",
       "      <th>overall_positions</th>\n",
       "      <th>buy_hold</th>\n",
       "      <th>random_positions</th>\n",
       "    </tr>\n",
       "  </thead>\n",
       "  <tbody>\n",
       "    <tr>\n",
       "      <th>2021-09-20</th>\n",
       "      <td>0.909536</td>\n",
       "      <td>0.909536</td>\n",
       "      <td>1.099461</td>\n",
       "    </tr>\n",
       "    <tr>\n",
       "      <th>2021-09-21</th>\n",
       "      <td>0.909536</td>\n",
       "      <td>0.859250</td>\n",
       "      <td>1.099461</td>\n",
       "    </tr>\n",
       "    <tr>\n",
       "      <th>2021-09-22</th>\n",
       "      <td>0.909536</td>\n",
       "      <td>0.923093</td>\n",
       "      <td>1.099461</td>\n",
       "    </tr>\n",
       "    <tr>\n",
       "      <th>2021-09-23</th>\n",
       "      <td>0.909536</td>\n",
       "      <td>0.949368</td>\n",
       "      <td>1.130756</td>\n",
       "    </tr>\n",
       "    <tr>\n",
       "      <th>2021-09-24</th>\n",
       "      <td>0.909536</td>\n",
       "      <td>0.905722</td>\n",
       "      <td>1.130756</td>\n",
       "    </tr>\n",
       "    <tr>\n",
       "      <th>...</th>\n",
       "      <td>...</td>\n",
       "      <td>...</td>\n",
       "      <td>...</td>\n",
       "    </tr>\n",
       "    <tr>\n",
       "      <th>2021-12-06</th>\n",
       "      <td>1.080443</td>\n",
       "      <td>1.070013</td>\n",
       "      <td>1.453593</td>\n",
       "    </tr>\n",
       "    <tr>\n",
       "      <th>2021-12-07</th>\n",
       "      <td>1.079351</td>\n",
       "      <td>1.071096</td>\n",
       "      <td>1.453593</td>\n",
       "    </tr>\n",
       "    <tr>\n",
       "      <th>2021-12-08</th>\n",
       "      <td>1.079351</td>\n",
       "      <td>1.066321</td>\n",
       "      <td>1.460102</td>\n",
       "    </tr>\n",
       "    <tr>\n",
       "      <th>2021-12-09</th>\n",
       "      <td>1.079351</td>\n",
       "      <td>1.014075</td>\n",
       "      <td>1.388562</td>\n",
       "    </tr>\n",
       "    <tr>\n",
       "      <th>2021-12-10</th>\n",
       "      <td>1.079351</td>\n",
       "      <td>1.003364</td>\n",
       "      <td>1.388562</td>\n",
       "    </tr>\n",
       "  </tbody>\n",
       "</table>\n",
       "<p>82 rows × 3 columns</p>\n",
       "</div>"
      ],
      "text/plain": [
       "            overall_positions  buy_hold  random_positions\n",
       "2021-09-20           0.909536  0.909536          1.099461\n",
       "2021-09-21           0.909536  0.859250          1.099461\n",
       "2021-09-22           0.909536  0.923093          1.099461\n",
       "2021-09-23           0.909536  0.949368          1.130756\n",
       "2021-09-24           0.909536  0.905722          1.130756\n",
       "...                       ...       ...               ...\n",
       "2021-12-06           1.080443  1.070013          1.453593\n",
       "2021-12-07           1.079351  1.071096          1.453593\n",
       "2021-12-08           1.079351  1.066321          1.460102\n",
       "2021-12-09           1.079351  1.014075          1.388562\n",
       "2021-12-10           1.079351  1.003364          1.388562\n",
       "\n",
       "[82 rows x 3 columns]"
      ]
     },
     "execution_count": 169,
     "metadata": {},
     "output_type": "execute_result"
    }
   ],
   "source": [
    "# Displaying performance\n",
    "performance"
   ]
  },
  {
   "cell_type": "markdown",
   "metadata": {},
   "source": [
    "# Visualizing Backtest Performance"
   ]
  },
  {
   "cell_type": "code",
   "execution_count": 170,
   "metadata": {},
   "outputs": [
    {
     "data": {
      "application/vnd.plotly.v1+json": {
       "config": {
        "plotlyServerURL": "https://plot.ly"
       },
       "data": [
        {
         "hovertemplate": "variable=overall_positions<br>index=%{x}<br>Portfolio Balance=%{y}<extra></extra>",
         "legendgroup": "overall_positions",
         "line": {
          "color": "#636efa",
          "dash": "solid"
         },
         "mode": "lines",
         "name": "overall_positions",
         "orientation": "v",
         "showlegend": true,
         "type": "scatter",
         "x": [
          "2021-09-20",
          "2021-09-21",
          "2021-09-22",
          "2021-09-23",
          "2021-09-24",
          "2021-09-25",
          "2021-09-26",
          "2021-09-27",
          "2021-09-28",
          "2021-09-29",
          "2021-09-30",
          "2021-10-01",
          "2021-10-02",
          "2021-10-03",
          "2021-10-04",
          "2021-10-05",
          "2021-10-06",
          "2021-10-07",
          "2021-10-08",
          "2021-10-09",
          "2021-10-10",
          "2021-10-11",
          "2021-10-12",
          "2021-10-13",
          "2021-10-14",
          "2021-10-15",
          "2021-10-16",
          "2021-10-17",
          "2021-10-18",
          "2021-10-19",
          "2021-10-20",
          "2021-10-21",
          "2021-10-22",
          "2021-10-23",
          "2021-10-24",
          "2021-10-25",
          "2021-10-26",
          "2021-10-27",
          "2021-10-28",
          "2021-10-29",
          "2021-10-30",
          "2021-10-31",
          "2021-11-01",
          "2021-11-02",
          "2021-11-03",
          "2021-11-04",
          "2021-11-05",
          "2021-11-06",
          "2021-11-07",
          "2021-11-08",
          "2021-11-09",
          "2021-11-10",
          "2021-11-11",
          "2021-11-12",
          "2021-11-13",
          "2021-11-14",
          "2021-11-15",
          "2021-11-16",
          "2021-11-17",
          "2021-11-18",
          "2021-11-19",
          "2021-11-20",
          "2021-11-21",
          "2021-11-22",
          "2021-11-23",
          "2021-11-24",
          "2021-11-25",
          "2021-11-26",
          "2021-11-27",
          "2021-11-28",
          "2021-11-29",
          "2021-11-30",
          "2021-12-01",
          "2021-12-02",
          "2021-12-03",
          "2021-12-04",
          "2021-12-05",
          "2021-12-06",
          "2021-12-07",
          "2021-12-08",
          "2021-12-09",
          "2021-12-10"
         ],
         "xaxis": "x",
         "y": [
          0.9095364575768726,
          0.9095364575768726,
          0.9095364575768726,
          0.9095364575768726,
          0.9095364575768726,
          0.9095364575768726,
          0.9095364575768726,
          0.9095364575768726,
          0.9382630510926945,
          0.9382630510926945,
          0.9382630510926945,
          0.9382630510926945,
          0.9382630510926945,
          0.9382630510926945,
          0.9382630510926945,
          0.9815423100333862,
          0.9815423100333862,
          0.9815423100333862,
          0.9815423100333862,
          0.9815423100333862,
          0.9815423100333862,
          0.9815423100333862,
          0.9815423100333862,
          0.9815423100333862,
          0.9815423100333862,
          1.0510381255769776,
          1.0411055594791103,
          1.0411055594791103,
          1.0476979603594276,
          1.0871595019271998,
          1.1173451155313294,
          1.1173451155313294,
          1.1173451155313294,
          1.1173451155313294,
          1.1173451155313294,
          1.1173451155313294,
          1.1261852377288053,
          1.1261852377288053,
          1.1648297474727116,
          1.1648297474727116,
          1.1648297474727116,
          1.1648297474727116,
          1.1648297474727116,
          1.1648297474727116,
          1.1648297474727116,
          1.1648297474727116,
          1.1648297474727116,
          1.1648297474727116,
          1.1648297474727116,
          1.1648297474727116,
          1.1648297474727116,
          1.1648297474727116,
          1.1648297474727116,
          1.1648297474727116,
          1.1648297474727116,
          1.1648297474727116,
          1.1648297474727116,
          1.1648297474727116,
          1.1648297474727116,
          1.1648297474727116,
          1.1411977936349396,
          1.1069044534542243,
          1.1069044534542243,
          1.1069044534542243,
          1.1069044534542243,
          1.1069044534542243,
          1.1339674058459464,
          1.0416644728361102,
          1.05599031047404,
          1.1080944527310819,
          1.1080944527310819,
          1.1080944527310819,
          1.1080944527310819,
          1.1080944527310819,
          1.1080944527310819,
          1.1080944527310819,
          1.1080944527310819,
          1.0804429773254025,
          1.0793512791795496,
          1.0793512791795496,
          1.0793512791795496,
          1.0793512791795496
         ],
         "yaxis": "y"
        },
        {
         "hovertemplate": "variable=buy_hold<br>index=%{x}<br>Portfolio Balance=%{y}<extra></extra>",
         "legendgroup": "buy_hold",
         "line": {
          "color": "#EF553B",
          "dash": "solid"
         },
         "mode": "lines",
         "name": "buy_hold",
         "orientation": "v",
         "showlegend": true,
         "type": "scatter",
         "x": [
          "2021-09-20",
          "2021-09-21",
          "2021-09-22",
          "2021-09-23",
          "2021-09-24",
          "2021-09-25",
          "2021-09-26",
          "2021-09-27",
          "2021-09-28",
          "2021-09-29",
          "2021-09-30",
          "2021-10-01",
          "2021-10-02",
          "2021-10-03",
          "2021-10-04",
          "2021-10-05",
          "2021-10-06",
          "2021-10-07",
          "2021-10-08",
          "2021-10-09",
          "2021-10-10",
          "2021-10-11",
          "2021-10-12",
          "2021-10-13",
          "2021-10-14",
          "2021-10-15",
          "2021-10-16",
          "2021-10-17",
          "2021-10-18",
          "2021-10-19",
          "2021-10-20",
          "2021-10-21",
          "2021-10-22",
          "2021-10-23",
          "2021-10-24",
          "2021-10-25",
          "2021-10-26",
          "2021-10-27",
          "2021-10-28",
          "2021-10-29",
          "2021-10-30",
          "2021-10-31",
          "2021-11-01",
          "2021-11-02",
          "2021-11-03",
          "2021-11-04",
          "2021-11-05",
          "2021-11-06",
          "2021-11-07",
          "2021-11-08",
          "2021-11-09",
          "2021-11-10",
          "2021-11-11",
          "2021-11-12",
          "2021-11-13",
          "2021-11-14",
          "2021-11-15",
          "2021-11-16",
          "2021-11-17",
          "2021-11-18",
          "2021-11-19",
          "2021-11-20",
          "2021-11-21",
          "2021-11-22",
          "2021-11-23",
          "2021-11-24",
          "2021-11-25",
          "2021-11-26",
          "2021-11-27",
          "2021-11-28",
          "2021-11-29",
          "2021-11-30",
          "2021-12-01",
          "2021-12-02",
          "2021-12-03",
          "2021-12-04",
          "2021-12-05",
          "2021-12-06",
          "2021-12-07",
          "2021-12-08",
          "2021-12-09",
          "2021-12-10"
         ],
         "xaxis": "x",
         "y": [
          0.9095364575768726,
          0.8592503561932954,
          0.9230930913616541,
          0.9493678914630456,
          0.9057222380179548,
          0.9053334822941459,
          0.9151443120084526,
          0.8973145987559427,
          0.8698417150009496,
          0.8798923184651305,
          0.9281137555266883,
          1.0183420527847014,
          1.0098439116608209,
          1.020603094740867,
          1.0438023213161494,
          1.0919497900825323,
          1.17306457926504,
          1.1392327308567656,
          1.1415671866738966,
          1.1667606496135499,
          1.1575002630282454,
          1.2152352430277933,
          1.1885828266746363,
          1.2153812264014447,
          1.2154225063560693,
          1.3014776640867411,
          1.2891783833957167,
          1.3035200536969946,
          1.311774093521547,
          1.3611820621132473,
          1.3989760709031132,
          1.3202474586312407,
          1.2859132716681452,
          1.2992626740284863,
          1.2911705649676546,
          1.3309422532774233,
          1.3414722963171348,
          1.2409185634040818,
          1.283500092541841,
          1.3182203709819187,
          1.307868108752583,
          1.2995404582640817,
          1.2939671586271435,
          1.3377968249770602,
          1.3341585536330063,
          1.3003540185160791,
          1.2938792025070815,
          1.3018512300061555,
          1.3359944630560112,
          1.4303083944636201,
          1.4197154337220095,
          1.374642793593028,
          1.373616446993697,
          1.3599174865616481,
          1.3668329613778125,
          1.3812560361643818,
          1.3510234942257813,
          1.276410701025472,
          1.278996996943083,
          1.204263574095288,
          1.2292014957686928,
          1.2672837574431264,
          1.2495223665679687,
          1.1948332830512287,
          1.2213763044561938,
          1.2103737120615017,
          1.2399664072968424,
          1.139035343813774,
          1.1547003067887633,
          1.2116749479880407,
          1.2250447924646315,
          1.2068954775169807,
          1.210817906973871,
          1.1945386457086145,
          1.138959991549237,
          1.0396602174075351,
          1.0433122120563396,
          1.0700134101552303,
          1.0710956636147269,
          1.0663207111476205,
          1.0140748435478713,
          1.0033642602237038
         ],
         "yaxis": "y"
        },
        {
         "hovertemplate": "variable=random_positions<br>index=%{x}<br>Portfolio Balance=%{y}<extra></extra>",
         "legendgroup": "random_positions",
         "line": {
          "color": "#00cc96",
          "dash": "solid"
         },
         "mode": "lines",
         "name": "random_positions",
         "orientation": "v",
         "showlegend": true,
         "type": "scatter",
         "x": [
          "2021-09-20",
          "2021-09-21",
          "2021-09-22",
          "2021-09-23",
          "2021-09-24",
          "2021-09-25",
          "2021-09-26",
          "2021-09-27",
          "2021-09-28",
          "2021-09-29",
          "2021-09-30",
          "2021-10-01",
          "2021-10-02",
          "2021-10-03",
          "2021-10-04",
          "2021-10-05",
          "2021-10-06",
          "2021-10-07",
          "2021-10-08",
          "2021-10-09",
          "2021-10-10",
          "2021-10-11",
          "2021-10-12",
          "2021-10-13",
          "2021-10-14",
          "2021-10-15",
          "2021-10-16",
          "2021-10-17",
          "2021-10-18",
          "2021-10-19",
          "2021-10-20",
          "2021-10-21",
          "2021-10-22",
          "2021-10-23",
          "2021-10-24",
          "2021-10-25",
          "2021-10-26",
          "2021-10-27",
          "2021-10-28",
          "2021-10-29",
          "2021-10-30",
          "2021-10-31",
          "2021-11-01",
          "2021-11-02",
          "2021-11-03",
          "2021-11-04",
          "2021-11-05",
          "2021-11-06",
          "2021-11-07",
          "2021-11-08",
          "2021-11-09",
          "2021-11-10",
          "2021-11-11",
          "2021-11-12",
          "2021-11-13",
          "2021-11-14",
          "2021-11-15",
          "2021-11-16",
          "2021-11-17",
          "2021-11-18",
          "2021-11-19",
          "2021-11-20",
          "2021-11-21",
          "2021-11-22",
          "2021-11-23",
          "2021-11-24",
          "2021-11-25",
          "2021-11-26",
          "2021-11-27",
          "2021-11-28",
          "2021-11-29",
          "2021-11-30",
          "2021-12-01",
          "2021-12-02",
          "2021-12-03",
          "2021-12-04",
          "2021-12-05",
          "2021-12-06",
          "2021-12-07",
          "2021-12-08",
          "2021-12-09",
          "2021-12-10"
         ],
         "xaxis": "x",
         "y": [
          1.0994611504239582,
          1.0994611504239582,
          1.0994611504239582,
          1.1307560677155855,
          1.1307560677155855,
          1.1302707225676976,
          1.1302707225676976,
          1.1527292927381028,
          1.1174364334619074,
          1.1046724733119369,
          1.1046724733119369,
          1.1046724733119369,
          1.1046724733119369,
          1.1046724733119369,
          1.1297826724989655,
          1.1818961568494846,
          1.1001706838507799,
          1.0684411367677138,
          1.0662562205787187,
          1.0662562205787187,
          1.0577935210483438,
          1.0577935210483438,
          1.0577935210483438,
          1.0577935210483438,
          1.0577575947195794,
          0.9878174803663431,
          0.997241656740232,
          0.986269741877008,
          0.9800638640757857,
          0.9444896628268068,
          0.9707139656679677,
          0.9707139656679677,
          0.9707139656679677,
          0.9707139656679677,
          0.9767976880592494,
          1.0068858067364037,
          1.0068858067364037,
          1.0068858067364037,
          1.0068858067364037,
          1.0068858067364037,
          0.998978520416312,
          0.998978520416312,
          0.998978520416312,
          0.998978520416312,
          1.0017027505419285,
          0.9763218872890502,
          0.9763218872890502,
          0.9763218872890502,
          1.0019275670787657,
          1.0726581954233667,
          1.0726581954233667,
          1.1078291773315827,
          1.1078291773315827,
          1.1189887573911825,
          1.1246790574628989,
          1.1246790574628989,
          1.149846574473177,
          1.149846574473177,
          1.1521764229295162,
          1.0848532876791188,
          1.107318458009959,
          1.107318458009959,
          1.091799032435001,
          1.1417721034193098,
          1.167136379599547,
          1.1777459340915055,
          1.1777459340915055,
          1.2821071817791367,
          1.2821071817791367,
          1.3453682688607094,
          1.3453682688607094,
          1.3655999400261065,
          1.3655999400261065,
          1.3655999400261065,
          1.3655999400261065,
          1.4960307897807037,
          1.4907941057127987,
          1.4535927133157434,
          1.4535927133157434,
          1.4601018583037884,
          1.3885621352414959,
          1.3885621352414959
         ],
         "yaxis": "y"
        }
       ],
       "layout": {
        "autosize": true,
        "legend": {
         "title": {
          "text": "variable"
         },
         "tracegroupgap": 0
        },
        "template": {
         "data": {
          "bar": [
           {
            "error_x": {
             "color": "#2a3f5f"
            },
            "error_y": {
             "color": "#2a3f5f"
            },
            "marker": {
             "line": {
              "color": "#E5ECF6",
              "width": 0.5
             }
            },
            "type": "bar"
           }
          ],
          "barpolar": [
           {
            "marker": {
             "line": {
              "color": "#E5ECF6",
              "width": 0.5
             }
            },
            "type": "barpolar"
           }
          ],
          "carpet": [
           {
            "aaxis": {
             "endlinecolor": "#2a3f5f",
             "gridcolor": "white",
             "linecolor": "white",
             "minorgridcolor": "white",
             "startlinecolor": "#2a3f5f"
            },
            "baxis": {
             "endlinecolor": "#2a3f5f",
             "gridcolor": "white",
             "linecolor": "white",
             "minorgridcolor": "white",
             "startlinecolor": "#2a3f5f"
            },
            "type": "carpet"
           }
          ],
          "choropleth": [
           {
            "colorbar": {
             "outlinewidth": 0,
             "ticks": ""
            },
            "type": "choropleth"
           }
          ],
          "contour": [
           {
            "colorbar": {
             "outlinewidth": 0,
             "ticks": ""
            },
            "colorscale": [
             [
              0,
              "#0d0887"
             ],
             [
              0.1111111111111111,
              "#46039f"
             ],
             [
              0.2222222222222222,
              "#7201a8"
             ],
             [
              0.3333333333333333,
              "#9c179e"
             ],
             [
              0.4444444444444444,
              "#bd3786"
             ],
             [
              0.5555555555555556,
              "#d8576b"
             ],
             [
              0.6666666666666666,
              "#ed7953"
             ],
             [
              0.7777777777777778,
              "#fb9f3a"
             ],
             [
              0.8888888888888888,
              "#fdca26"
             ],
             [
              1,
              "#f0f921"
             ]
            ],
            "type": "contour"
           }
          ],
          "contourcarpet": [
           {
            "colorbar": {
             "outlinewidth": 0,
             "ticks": ""
            },
            "type": "contourcarpet"
           }
          ],
          "heatmap": [
           {
            "colorbar": {
             "outlinewidth": 0,
             "ticks": ""
            },
            "colorscale": [
             [
              0,
              "#0d0887"
             ],
             [
              0.1111111111111111,
              "#46039f"
             ],
             [
              0.2222222222222222,
              "#7201a8"
             ],
             [
              0.3333333333333333,
              "#9c179e"
             ],
             [
              0.4444444444444444,
              "#bd3786"
             ],
             [
              0.5555555555555556,
              "#d8576b"
             ],
             [
              0.6666666666666666,
              "#ed7953"
             ],
             [
              0.7777777777777778,
              "#fb9f3a"
             ],
             [
              0.8888888888888888,
              "#fdca26"
             ],
             [
              1,
              "#f0f921"
             ]
            ],
            "type": "heatmap"
           }
          ],
          "heatmapgl": [
           {
            "colorbar": {
             "outlinewidth": 0,
             "ticks": ""
            },
            "colorscale": [
             [
              0,
              "#0d0887"
             ],
             [
              0.1111111111111111,
              "#46039f"
             ],
             [
              0.2222222222222222,
              "#7201a8"
             ],
             [
              0.3333333333333333,
              "#9c179e"
             ],
             [
              0.4444444444444444,
              "#bd3786"
             ],
             [
              0.5555555555555556,
              "#d8576b"
             ],
             [
              0.6666666666666666,
              "#ed7953"
             ],
             [
              0.7777777777777778,
              "#fb9f3a"
             ],
             [
              0.8888888888888888,
              "#fdca26"
             ],
             [
              1,
              "#f0f921"
             ]
            ],
            "type": "heatmapgl"
           }
          ],
          "histogram": [
           {
            "marker": {
             "colorbar": {
              "outlinewidth": 0,
              "ticks": ""
             }
            },
            "type": "histogram"
           }
          ],
          "histogram2d": [
           {
            "colorbar": {
             "outlinewidth": 0,
             "ticks": ""
            },
            "colorscale": [
             [
              0,
              "#0d0887"
             ],
             [
              0.1111111111111111,
              "#46039f"
             ],
             [
              0.2222222222222222,
              "#7201a8"
             ],
             [
              0.3333333333333333,
              "#9c179e"
             ],
             [
              0.4444444444444444,
              "#bd3786"
             ],
             [
              0.5555555555555556,
              "#d8576b"
             ],
             [
              0.6666666666666666,
              "#ed7953"
             ],
             [
              0.7777777777777778,
              "#fb9f3a"
             ],
             [
              0.8888888888888888,
              "#fdca26"
             ],
             [
              1,
              "#f0f921"
             ]
            ],
            "type": "histogram2d"
           }
          ],
          "histogram2dcontour": [
           {
            "colorbar": {
             "outlinewidth": 0,
             "ticks": ""
            },
            "colorscale": [
             [
              0,
              "#0d0887"
             ],
             [
              0.1111111111111111,
              "#46039f"
             ],
             [
              0.2222222222222222,
              "#7201a8"
             ],
             [
              0.3333333333333333,
              "#9c179e"
             ],
             [
              0.4444444444444444,
              "#bd3786"
             ],
             [
              0.5555555555555556,
              "#d8576b"
             ],
             [
              0.6666666666666666,
              "#ed7953"
             ],
             [
              0.7777777777777778,
              "#fb9f3a"
             ],
             [
              0.8888888888888888,
              "#fdca26"
             ],
             [
              1,
              "#f0f921"
             ]
            ],
            "type": "histogram2dcontour"
           }
          ],
          "mesh3d": [
           {
            "colorbar": {
             "outlinewidth": 0,
             "ticks": ""
            },
            "type": "mesh3d"
           }
          ],
          "parcoords": [
           {
            "line": {
             "colorbar": {
              "outlinewidth": 0,
              "ticks": ""
             }
            },
            "type": "parcoords"
           }
          ],
          "pie": [
           {
            "automargin": true,
            "type": "pie"
           }
          ],
          "scatter": [
           {
            "marker": {
             "colorbar": {
              "outlinewidth": 0,
              "ticks": ""
             }
            },
            "type": "scatter"
           }
          ],
          "scatter3d": [
           {
            "line": {
             "colorbar": {
              "outlinewidth": 0,
              "ticks": ""
             }
            },
            "marker": {
             "colorbar": {
              "outlinewidth": 0,
              "ticks": ""
             }
            },
            "type": "scatter3d"
           }
          ],
          "scattercarpet": [
           {
            "marker": {
             "colorbar": {
              "outlinewidth": 0,
              "ticks": ""
             }
            },
            "type": "scattercarpet"
           }
          ],
          "scattergeo": [
           {
            "marker": {
             "colorbar": {
              "outlinewidth": 0,
              "ticks": ""
             }
            },
            "type": "scattergeo"
           }
          ],
          "scattergl": [
           {
            "marker": {
             "colorbar": {
              "outlinewidth": 0,
              "ticks": ""
             }
            },
            "type": "scattergl"
           }
          ],
          "scattermapbox": [
           {
            "marker": {
             "colorbar": {
              "outlinewidth": 0,
              "ticks": ""
             }
            },
            "type": "scattermapbox"
           }
          ],
          "scatterpolar": [
           {
            "marker": {
             "colorbar": {
              "outlinewidth": 0,
              "ticks": ""
             }
            },
            "type": "scatterpolar"
           }
          ],
          "scatterpolargl": [
           {
            "marker": {
             "colorbar": {
              "outlinewidth": 0,
              "ticks": ""
             }
            },
            "type": "scatterpolargl"
           }
          ],
          "scatterternary": [
           {
            "marker": {
             "colorbar": {
              "outlinewidth": 0,
              "ticks": ""
             }
            },
            "type": "scatterternary"
           }
          ],
          "surface": [
           {
            "colorbar": {
             "outlinewidth": 0,
             "ticks": ""
            },
            "colorscale": [
             [
              0,
              "#0d0887"
             ],
             [
              0.1111111111111111,
              "#46039f"
             ],
             [
              0.2222222222222222,
              "#7201a8"
             ],
             [
              0.3333333333333333,
              "#9c179e"
             ],
             [
              0.4444444444444444,
              "#bd3786"
             ],
             [
              0.5555555555555556,
              "#d8576b"
             ],
             [
              0.6666666666666666,
              "#ed7953"
             ],
             [
              0.7777777777777778,
              "#fb9f3a"
             ],
             [
              0.8888888888888888,
              "#fdca26"
             ],
             [
              1,
              "#f0f921"
             ]
            ],
            "type": "surface"
           }
          ],
          "table": [
           {
            "cells": {
             "fill": {
              "color": "#EBF0F8"
             },
             "line": {
              "color": "white"
             }
            },
            "header": {
             "fill": {
              "color": "#C8D4E3"
             },
             "line": {
              "color": "white"
             }
            },
            "type": "table"
           }
          ]
         },
         "layout": {
          "annotationdefaults": {
           "arrowcolor": "#2a3f5f",
           "arrowhead": 0,
           "arrowwidth": 1
          },
          "autotypenumbers": "strict",
          "coloraxis": {
           "colorbar": {
            "outlinewidth": 0,
            "ticks": ""
           }
          },
          "colorscale": {
           "diverging": [
            [
             0,
             "#8e0152"
            ],
            [
             0.1,
             "#c51b7d"
            ],
            [
             0.2,
             "#de77ae"
            ],
            [
             0.3,
             "#f1b6da"
            ],
            [
             0.4,
             "#fde0ef"
            ],
            [
             0.5,
             "#f7f7f7"
            ],
            [
             0.6,
             "#e6f5d0"
            ],
            [
             0.7,
             "#b8e186"
            ],
            [
             0.8,
             "#7fbc41"
            ],
            [
             0.9,
             "#4d9221"
            ],
            [
             1,
             "#276419"
            ]
           ],
           "sequential": [
            [
             0,
             "#0d0887"
            ],
            [
             0.1111111111111111,
             "#46039f"
            ],
            [
             0.2222222222222222,
             "#7201a8"
            ],
            [
             0.3333333333333333,
             "#9c179e"
            ],
            [
             0.4444444444444444,
             "#bd3786"
            ],
            [
             0.5555555555555556,
             "#d8576b"
            ],
            [
             0.6666666666666666,
             "#ed7953"
            ],
            [
             0.7777777777777778,
             "#fb9f3a"
            ],
            [
             0.8888888888888888,
             "#fdca26"
            ],
            [
             1,
             "#f0f921"
            ]
           ],
           "sequentialminus": [
            [
             0,
             "#0d0887"
            ],
            [
             0.1111111111111111,
             "#46039f"
            ],
            [
             0.2222222222222222,
             "#7201a8"
            ],
            [
             0.3333333333333333,
             "#9c179e"
            ],
            [
             0.4444444444444444,
             "#bd3786"
            ],
            [
             0.5555555555555556,
             "#d8576b"
            ],
            [
             0.6666666666666666,
             "#ed7953"
            ],
            [
             0.7777777777777778,
             "#fb9f3a"
            ],
            [
             0.8888888888888888,
             "#fdca26"
            ],
            [
             1,
             "#f0f921"
            ]
           ]
          },
          "colorway": [
           "#636efa",
           "#EF553B",
           "#00cc96",
           "#ab63fa",
           "#FFA15A",
           "#19d3f3",
           "#FF6692",
           "#B6E880",
           "#FF97FF",
           "#FECB52"
          ],
          "font": {
           "color": "#2a3f5f"
          },
          "geo": {
           "bgcolor": "white",
           "lakecolor": "white",
           "landcolor": "#E5ECF6",
           "showlakes": true,
           "showland": true,
           "subunitcolor": "white"
          },
          "hoverlabel": {
           "align": "left"
          },
          "hovermode": "closest",
          "mapbox": {
           "style": "light"
          },
          "paper_bgcolor": "white",
          "plot_bgcolor": "#E5ECF6",
          "polar": {
           "angularaxis": {
            "gridcolor": "white",
            "linecolor": "white",
            "ticks": ""
           },
           "bgcolor": "#E5ECF6",
           "radialaxis": {
            "gridcolor": "white",
            "linecolor": "white",
            "ticks": ""
           }
          },
          "scene": {
           "xaxis": {
            "backgroundcolor": "#E5ECF6",
            "gridcolor": "white",
            "gridwidth": 2,
            "linecolor": "white",
            "showbackground": true,
            "ticks": "",
            "zerolinecolor": "white"
           },
           "yaxis": {
            "backgroundcolor": "#E5ECF6",
            "gridcolor": "white",
            "gridwidth": 2,
            "linecolor": "white",
            "showbackground": true,
            "ticks": "",
            "zerolinecolor": "white"
           },
           "zaxis": {
            "backgroundcolor": "#E5ECF6",
            "gridcolor": "white",
            "gridwidth": 2,
            "linecolor": "white",
            "showbackground": true,
            "ticks": "",
            "zerolinecolor": "white"
           }
          },
          "shapedefaults": {
           "line": {
            "color": "#2a3f5f"
           }
          },
          "ternary": {
           "aaxis": {
            "gridcolor": "white",
            "linecolor": "white",
            "ticks": ""
           },
           "baxis": {
            "gridcolor": "white",
            "linecolor": "white",
            "ticks": ""
           },
           "bgcolor": "#E5ECF6",
           "caxis": {
            "gridcolor": "white",
            "linecolor": "white",
            "ticks": ""
           }
          },
          "title": {
           "x": 0.05
          },
          "xaxis": {
           "automargin": true,
           "gridcolor": "white",
           "linecolor": "white",
           "ticks": "",
           "title": {
            "standoff": 15
           },
           "zerolinecolor": "white",
           "zerolinewidth": 2
          },
          "yaxis": {
           "automargin": true,
           "gridcolor": "white",
           "linecolor": "white",
           "ticks": "",
           "title": {
            "standoff": 15
           },
           "zerolinecolor": "white",
           "zerolinewidth": 2
          }
         }
        },
        "title": {
         "text": "Trading with the News vs Random vs Buy & Hold Strategies"
        },
        "xaxis": {
         "anchor": "y",
         "autorange": true,
         "domain": [
          0,
          1
         ],
         "range": [
          "2021-09-20",
          "2021-12-10"
         ],
         "title": {
          "text": "index"
         },
         "type": "date"
        },
        "yaxis": {
         "anchor": "x",
         "autorange": true,
         "domain": [
          0,
          1
         ],
         "range": [
          0.8238736654384393,
          1.5314074805355598
         ],
         "title": {
          "text": "Portfolio Balance"
         },
         "type": "linear"
        }
       }
      },
      "image/png": "[encoded data removed]",
      "text/html": [
       "<div>                            <div id=\"cd3bed5e-4b63-411b-a121-5326c1fc03ff\" class=\"plotly-graph-div\" style=\"height:525px; width:100%;\"></div>            <script type=\"text/javascript\">                require([\"plotly\"], function(Plotly) {                    window.PLOTLYENV=window.PLOTLYENV || {};                                    if (document.getElementById(\"cd3bed5e-4b63-411b-a121-5326c1fc03ff\")) {                    Plotly.newPlot(                        \"cd3bed5e-4b63-411b-a121-5326c1fc03ff\",                        [{\"hovertemplate\": \"variable=overall_positions<br>index=%{x}<br>Portfolio Balance=%{y}<extra></extra>\", \"legendgroup\": \"overall_positions\", \"line\": {\"color\": \"#636efa\", \"dash\": \"solid\"}, \"mode\": \"lines\", \"name\": \"overall_positions\", \"orientation\": \"v\", \"showlegend\": true, \"type\": \"scatter\", \"x\": [\"2021-09-20\", \"2021-09-21\", \"2021-09-22\", \"2021-09-23\", \"2021-09-24\", \"2021-09-25\", \"2021-09-26\", \"2021-09-27\", \"2021-09-28\", \"2021-09-29\", \"2021-09-30\", \"2021-10-01\", \"2021-10-02\", \"2021-10-03\", \"2021-10-04\", \"2021-10-05\", \"2021-10-06\", \"2021-10-07\", \"2021-10-08\", \"2021-10-09\", \"2021-10-10\", \"2021-10-11\", \"2021-10-12\", \"2021-10-13\", \"2021-10-14\", \"2021-10-15\", \"2021-10-16\", \"2021-10-17\", \"2021-10-18\", \"2021-10-19\", \"2021-10-20\", \"2021-10-21\", \"2021-10-22\", \"2021-10-23\", \"2021-10-24\", \"2021-10-25\", \"2021-10-26\", \"2021-10-27\", \"2021-10-28\", \"2021-10-29\", \"2021-10-30\", \"2021-10-31\", \"2021-11-01\", \"2021-11-02\", \"2021-11-03\", \"2021-11-04\", \"2021-11-05\", \"2021-11-06\", \"2021-11-07\", \"2021-11-08\", \"2021-11-09\", \"2021-11-10\", \"2021-11-11\", \"2021-11-12\", \"2021-11-13\", \"2021-11-14\", \"2021-11-15\", \"2021-11-16\", \"2021-11-17\", \"2021-11-18\", \"2021-11-19\", \"2021-11-20\", \"2021-11-21\", \"2021-11-22\", \"2021-11-23\", \"2021-11-24\", \"2021-11-25\", \"2021-11-26\", \"2021-11-27\", \"2021-11-28\", \"2021-11-29\", \"2021-11-30\", \"2021-12-01\", \"2021-12-02\", \"2021-12-03\", \"2021-12-04\", \"2021-12-05\", \"2021-12-06\", \"2021-12-07\", \"2021-12-08\", \"2021-12-09\", \"2021-12-10\"], \"xaxis\": \"x\", \"y\": [0.9095364575768726, 0.9095364575768726, 0.9095364575768726, 0.9095364575768726, 0.9095364575768726, 0.9095364575768726, 0.9095364575768726, 0.9095364575768726, 0.9382630510926945, 0.9382630510926945, 0.9382630510926945, 0.9382630510926945, 0.9382630510926945, 0.9382630510926945, 0.9382630510926945, 0.9815423100333862, 0.9815423100333862, 0.9815423100333862, 0.9815423100333862, 0.9815423100333862, 0.9815423100333862, 0.9815423100333862, 0.9815423100333862, 0.9815423100333862, 0.9815423100333862, 1.0510381255769776, 1.0411055594791103, 1.0411055594791103, 1.0476979603594276, 1.0871595019271998, 1.1173451155313294, 1.1173451155313294, 1.1173451155313294, 1.1173451155313294, 1.1173451155313294, 1.1173451155313294, 1.1261852377288053, 1.1261852377288053, 1.1648297474727116, 1.1648297474727116, 1.1648297474727116, 1.1648297474727116, 1.1648297474727116, 1.1648297474727116, 1.1648297474727116, 1.1648297474727116, 1.1648297474727116, 1.1648297474727116, 1.1648297474727116, 1.1648297474727116, 1.1648297474727116, 1.1648297474727116, 1.1648297474727116, 1.1648297474727116, 1.1648297474727116, 1.1648297474727116, 1.1648297474727116, 1.1648297474727116, 1.1648297474727116, 1.1648297474727116, 1.1411977936349396, 1.1069044534542243, 1.1069044534542243, 1.1069044534542243, 1.1069044534542243, 1.1069044534542243, 1.1339674058459464, 1.0416644728361102, 1.05599031047404, 1.1080944527310819, 1.1080944527310819, 1.1080944527310819, 1.1080944527310819, 1.1080944527310819, 1.1080944527310819, 1.1080944527310819, 1.1080944527310819, 1.0804429773254025, 1.0793512791795496, 1.0793512791795496, 1.0793512791795496, 1.0793512791795496], \"yaxis\": \"y\"}, {\"hovertemplate\": \"variable=buy_hold<br>index=%{x}<br>Portfolio Balance=%{y}<extra></extra>\", \"legendgroup\": \"buy_hold\", \"line\": {\"color\": \"#EF553B\", \"dash\": \"solid\"}, \"mode\": \"lines\", \"name\": \"buy_hold\", \"orientation\": \"v\", \"showlegend\": true, \"type\": \"scatter\", \"x\": [\"2021-09-20\", \"2021-09-21\", \"2021-09-22\", \"2021-09-23\", \"2021-09-24\", \"2021-09-25\", \"2021-09-26\", \"2021-09-27\", \"2021-09-28\", \"2021-09-29\", \"2021-09-30\", \"2021-10-01\", \"2021-10-02\", \"2021-10-03\", \"2021-10-04\", \"2021-10-05\", \"2021-10-06\", \"2021-10-07\", \"2021-10-08\", \"2021-10-09\", \"2021-10-10\", \"2021-10-11\", \"2021-10-12\", \"2021-10-13\", \"2021-10-14\", \"2021-10-15\", \"2021-10-16\", \"2021-10-17\", \"2021-10-18\", \"2021-10-19\", \"2021-10-20\", \"2021-10-21\", \"2021-10-22\", \"2021-10-23\", \"2021-10-24\", \"2021-10-25\", \"2021-10-26\", \"2021-10-27\", \"2021-10-28\", \"2021-10-29\", \"2021-10-30\", \"2021-10-31\", \"2021-11-01\", \"2021-11-02\", \"2021-11-03\", \"2021-11-04\", \"2021-11-05\", \"2021-11-06\", \"2021-11-07\", \"2021-11-08\", \"2021-11-09\", \"2021-11-10\", \"2021-11-11\", \"2021-11-12\", \"2021-11-13\", \"2021-11-14\", \"2021-11-15\", \"2021-11-16\", \"2021-11-17\", \"2021-11-18\", \"2021-11-19\", \"2021-11-20\", \"2021-11-21\", \"2021-11-22\", \"2021-11-23\", \"2021-11-24\", \"2021-11-25\", \"2021-11-26\", \"2021-11-27\", \"2021-11-28\", \"2021-11-29\", \"2021-11-30\", \"2021-12-01\", \"2021-12-02\", \"2021-12-03\", \"2021-12-04\", \"2021-12-05\", \"2021-12-06\", \"2021-12-07\", \"2021-12-08\", \"2021-12-09\", \"2021-12-10\"], \"xaxis\": \"x\", \"y\": [0.9095364575768726, 0.8592503561932954, 0.9230930913616541, 0.9493678914630456, 0.9057222380179548, 0.9053334822941459, 0.9151443120084526, 0.8973145987559427, 0.8698417150009496, 0.8798923184651305, 0.9281137555266883, 1.0183420527847014, 1.0098439116608209, 1.020603094740867, 1.0438023213161494, 1.0919497900825323, 1.17306457926504, 1.1392327308567656, 1.1415671866738966, 1.1667606496135499, 1.1575002630282454, 1.2152352430277933, 1.1885828266746363, 1.2153812264014447, 1.2154225063560693, 1.3014776640867411, 1.2891783833957167, 1.3035200536969946, 1.311774093521547, 1.3611820621132473, 1.3989760709031132, 1.3202474586312407, 1.2859132716681452, 1.2992626740284863, 1.2911705649676546, 1.3309422532774233, 1.3414722963171348, 1.2409185634040818, 1.283500092541841, 1.3182203709819187, 1.307868108752583, 1.2995404582640817, 1.2939671586271435, 1.3377968249770602, 1.3341585536330063, 1.3003540185160791, 1.2938792025070815, 1.3018512300061555, 1.3359944630560112, 1.4303083944636201, 1.4197154337220095, 1.374642793593028, 1.373616446993697, 1.3599174865616481, 1.3668329613778125, 1.3812560361643818, 1.3510234942257813, 1.276410701025472, 1.278996996943083, 1.204263574095288, 1.2292014957686928, 1.2672837574431264, 1.2495223665679687, 1.1948332830512287, 1.2213763044561938, 1.2103737120615017, 1.2399664072968424, 1.139035343813774, 1.1547003067887633, 1.2116749479880407, 1.2250447924646315, 1.2068954775169807, 1.210817906973871, 1.1945386457086145, 1.138959991549237, 1.0396602174075351, 1.0433122120563396, 1.0700134101552303, 1.0710956636147269, 1.0663207111476205, 1.0140748435478713, 1.0033642602237038], \"yaxis\": \"y\"}, {\"hovertemplate\": \"variable=random_positions<br>index=%{x}<br>Portfolio Balance=%{y}<extra></extra>\", \"legendgroup\": \"random_positions\", \"line\": {\"color\": \"#00cc96\", \"dash\": \"solid\"}, \"mode\": \"lines\", \"name\": \"random_positions\", \"orientation\": \"v\", \"showlegend\": true, \"type\": \"scatter\", \"x\": [\"2021-09-20\", \"2021-09-21\", \"2021-09-22\", \"2021-09-23\", \"2021-09-24\", \"2021-09-25\", \"2021-09-26\", \"2021-09-27\", \"2021-09-28\", \"2021-09-29\", \"2021-09-30\", \"2021-10-01\", \"2021-10-02\", \"2021-10-03\", \"2021-10-04\", \"2021-10-05\", \"2021-10-06\", \"2021-10-07\", \"2021-10-08\", \"2021-10-09\", \"2021-10-10\", \"2021-10-11\", \"2021-10-12\", \"2021-10-13\", \"2021-10-14\", \"2021-10-15\", \"2021-10-16\", \"2021-10-17\", \"2021-10-18\", \"2021-10-19\", \"2021-10-20\", \"2021-10-21\", \"2021-10-22\", \"2021-10-23\", \"2021-10-24\", \"2021-10-25\", \"2021-10-26\", \"2021-10-27\", \"2021-10-28\", \"2021-10-29\", \"2021-10-30\", \"2021-10-31\", \"2021-11-01\", \"2021-11-02\", \"2021-11-03\", \"2021-11-04\", \"2021-11-05\", \"2021-11-06\", \"2021-11-07\", \"2021-11-08\", \"2021-11-09\", \"2021-11-10\", \"2021-11-11\", \"2021-11-12\", \"2021-11-13\", \"2021-11-14\", \"2021-11-15\", \"2021-11-16\", \"2021-11-17\", \"2021-11-18\", \"2021-11-19\", \"2021-11-20\", \"2021-11-21\", \"2021-11-22\", \"2021-11-23\", \"2021-11-24\", \"2021-11-25\", \"2021-11-26\", \"2021-11-27\", \"2021-11-28\", \"2021-11-29\", \"2021-11-30\", \"2021-12-01\", \"2021-12-02\", \"2021-12-03\", \"2021-12-04\", \"2021-12-05\", \"2021-12-06\", \"2021-12-07\", \"2021-12-08\", \"2021-12-09\", \"2021-12-10\"], \"xaxis\": \"x\", \"y\": [1.0994611504239582, 1.0994611504239582, 1.0994611504239582, 1.1307560677155855, 1.1307560677155855, 1.1302707225676976, 1.1302707225676976, 1.1527292927381028, 1.1174364334619074, 1.1046724733119369, 1.1046724733119369, 1.1046724733119369, 1.1046724733119369, 1.1046724733119369, 1.1297826724989655, 1.1818961568494846, 1.1001706838507799, 1.0684411367677138, 1.0662562205787187, 1.0662562205787187, 1.0577935210483438, 1.0577935210483438, 1.0577935210483438, 1.0577935210483438, 1.0577575947195794, 0.9878174803663431, 0.997241656740232, 0.986269741877008, 0.9800638640757857, 0.9444896628268068, 0.9707139656679677, 0.9707139656679677, 0.9707139656679677, 0.9707139656679677, 0.9767976880592494, 1.0068858067364037, 1.0068858067364037, 1.0068858067364037, 1.0068858067364037, 1.0068858067364037, 0.998978520416312, 0.998978520416312, 0.998978520416312, 0.998978520416312, 1.0017027505419285, 0.9763218872890502, 0.9763218872890502, 0.9763218872890502, 1.0019275670787657, 1.0726581954233667, 1.0726581954233667, 1.1078291773315827, 1.1078291773315827, 1.1189887573911825, 1.1246790574628989, 1.1246790574628989, 1.149846574473177, 1.149846574473177, 1.1521764229295162, 1.0848532876791188, 1.107318458009959, 1.107318458009959, 1.091799032435001, 1.1417721034193098, 1.167136379599547, 1.1777459340915055, 1.1777459340915055, 1.2821071817791367, 1.2821071817791367, 1.3453682688607094, 1.3453682688607094, 1.3655999400261065, 1.3655999400261065, 1.3655999400261065, 1.3655999400261065, 1.4960307897807037, 1.4907941057127987, 1.4535927133157434, 1.4535927133157434, 1.4601018583037884, 1.3885621352414959, 1.3885621352414959], \"yaxis\": \"y\"}],                        {\"legend\": {\"title\": {\"text\": \"variable\"}, \"tracegroupgap\": 0}, \"template\": {\"data\": {\"bar\": [{\"error_x\": {\"color\": \"#2a3f5f\"}, \"error_y\": {\"color\": \"#2a3f5f\"}, \"marker\": {\"line\": {\"color\": \"#E5ECF6\", \"width\": 0.5}}, \"type\": \"bar\"}], \"barpolar\": [{\"marker\": {\"line\": {\"color\": \"#E5ECF6\", \"width\": 0.5}}, \"type\": \"barpolar\"}], \"carpet\": [{\"aaxis\": {\"endlinecolor\": \"#2a3f5f\", \"gridcolor\": \"white\", \"linecolor\": \"white\", \"minorgridcolor\": \"white\", \"startlinecolor\": \"#2a3f5f\"}, \"baxis\": {\"endlinecolor\": \"#2a3f5f\", \"gridcolor\": \"white\", \"linecolor\": \"white\", \"minorgridcolor\": \"white\", \"startlinecolor\": \"#2a3f5f\"}, \"type\": \"carpet\"}], \"choropleth\": [{\"colorbar\": {\"outlinewidth\": 0, \"ticks\": \"\"}, \"type\": \"choropleth\"}], \"contour\": [{\"colorbar\": {\"outlinewidth\": 0, \"ticks\": \"\"}, \"colorscale\": [[0.0, \"#0d0887\"], [0.1111111111111111, \"#46039f\"], [0.2222222222222222, \"#7201a8\"], [0.3333333333333333, \"#9c179e\"], [0.4444444444444444, \"#bd3786\"], [0.5555555555555556, \"#d8576b\"], [0.6666666666666666, \"#ed7953\"], [0.7777777777777778, \"#fb9f3a\"], [0.8888888888888888, \"#fdca26\"], [1.0, \"#f0f921\"]], \"type\": \"contour\"}], \"contourcarpet\": [{\"colorbar\": {\"outlinewidth\": 0, \"ticks\": \"\"}, \"type\": \"contourcarpet\"}], \"heatmap\": [{\"colorbar\": {\"outlinewidth\": 0, \"ticks\": \"\"}, \"colorscale\": [[0.0, \"#0d0887\"], [0.1111111111111111, \"#46039f\"], [0.2222222222222222, \"#7201a8\"], [0.3333333333333333, \"#9c179e\"], [0.4444444444444444, \"#bd3786\"], [0.5555555555555556, \"#d8576b\"], [0.6666666666666666, \"#ed7953\"], [0.7777777777777778, \"#fb9f3a\"], [0.8888888888888888, \"#fdca26\"], [1.0, \"#f0f921\"]], \"type\": \"heatmap\"}], \"heatmapgl\": [{\"colorbar\": {\"outlinewidth\": 0, \"ticks\": \"\"}, \"colorscale\": [[0.0, \"#0d0887\"], [0.1111111111111111, \"#46039f\"], [0.2222222222222222, \"#7201a8\"], [0.3333333333333333, \"#9c179e\"], [0.4444444444444444, \"#bd3786\"], [0.5555555555555556, \"#d8576b\"], [0.6666666666666666, \"#ed7953\"], [0.7777777777777778, \"#fb9f3a\"], [0.8888888888888888, \"#fdca26\"], [1.0, \"#f0f921\"]], \"type\": \"heatmapgl\"}], \"histogram\": [{\"marker\": {\"colorbar\": {\"outlinewidth\": 0, \"ticks\": \"\"}}, \"type\": \"histogram\"}], \"histogram2d\": [{\"colorbar\": {\"outlinewidth\": 0, \"ticks\": \"\"}, \"colorscale\": [[0.0, \"#0d0887\"], [0.1111111111111111, \"#46039f\"], [0.2222222222222222, \"#7201a8\"], [0.3333333333333333, \"#9c179e\"], [0.4444444444444444, \"#bd3786\"], [0.5555555555555556, \"#d8576b\"], [0.6666666666666666, \"#ed7953\"], [0.7777777777777778, \"#fb9f3a\"], [0.8888888888888888, \"#fdca26\"], [1.0, \"#f0f921\"]], \"type\": \"histogram2d\"}], \"histogram2dcontour\": [{\"colorbar\": {\"outlinewidth\": 0, \"ticks\": \"\"}, \"colorscale\": [[0.0, \"#0d0887\"], [0.1111111111111111, \"#46039f\"], [0.2222222222222222, \"#7201a8\"], [0.3333333333333333, \"#9c179e\"], [0.4444444444444444, \"#bd3786\"], [0.5555555555555556, \"#d8576b\"], [0.6666666666666666, \"#ed7953\"], [0.7777777777777778, \"#fb9f3a\"], [0.8888888888888888, \"#fdca26\"], [1.0, \"#f0f921\"]], \"type\": \"histogram2dcontour\"}], \"mesh3d\": [{\"colorbar\": {\"outlinewidth\": 0, \"ticks\": \"\"}, \"type\": \"mesh3d\"}], \"parcoords\": [{\"line\": {\"colorbar\": {\"outlinewidth\": 0, \"ticks\": \"\"}}, \"type\": \"parcoords\"}], \"pie\": [{\"automargin\": true, \"type\": \"pie\"}], \"scatter\": [{\"marker\": {\"colorbar\": {\"outlinewidth\": 0, \"ticks\": \"\"}}, \"type\": \"scatter\"}], \"scatter3d\": [{\"line\": {\"colorbar\": {\"outlinewidth\": 0, \"ticks\": \"\"}}, \"marker\": {\"colorbar\": {\"outlinewidth\": 0, \"ticks\": \"\"}}, \"type\": \"scatter3d\"}], \"scattercarpet\": [{\"marker\": {\"colorbar\": {\"outlinewidth\": 0, \"ticks\": \"\"}}, \"type\": \"scattercarpet\"}], \"scattergeo\": [{\"marker\": {\"colorbar\": {\"outlinewidth\": 0, \"ticks\": \"\"}}, \"type\": \"scattergeo\"}], \"scattergl\": [{\"marker\": {\"colorbar\": {\"outlinewidth\": 0, \"ticks\": \"\"}}, \"type\": \"scattergl\"}], \"scattermapbox\": [{\"marker\": {\"colorbar\": {\"outlinewidth\": 0, \"ticks\": \"\"}}, \"type\": \"scattermapbox\"}], \"scatterpolar\": [{\"marker\": {\"colorbar\": {\"outlinewidth\": 0, \"ticks\": \"\"}}, \"type\": \"scatterpolar\"}], \"scatterpolargl\": [{\"marker\": {\"colorbar\": {\"outlinewidth\": 0, \"ticks\": \"\"}}, \"type\": \"scatterpolargl\"}], \"scatterternary\": [{\"marker\": {\"colorbar\": {\"outlinewidth\": 0, \"ticks\": \"\"}}, \"type\": \"scatterternary\"}], \"surface\": [{\"colorbar\": {\"outlinewidth\": 0, \"ticks\": \"\"}, \"colorscale\": [[0.0, \"#0d0887\"], [0.1111111111111111, \"#46039f\"], [0.2222222222222222, \"#7201a8\"], [0.3333333333333333, \"#9c179e\"], [0.4444444444444444, \"#bd3786\"], [0.5555555555555556, \"#d8576b\"], [0.6666666666666666, \"#ed7953\"], [0.7777777777777778, \"#fb9f3a\"], [0.8888888888888888, \"#fdca26\"], [1.0, \"#f0f921\"]], \"type\": \"surface\"}], \"table\": [{\"cells\": {\"fill\": {\"color\": \"#EBF0F8\"}, \"line\": {\"color\": \"white\"}}, \"header\": {\"fill\": {\"color\": \"#C8D4E3\"}, \"line\": {\"color\": \"white\"}}, \"type\": \"table\"}]}, \"layout\": {\"annotationdefaults\": {\"arrowcolor\": \"#2a3f5f\", \"arrowhead\": 0, \"arrowwidth\": 1}, \"autotypenumbers\": \"strict\", \"coloraxis\": {\"colorbar\": {\"outlinewidth\": 0, \"ticks\": \"\"}}, \"colorscale\": {\"diverging\": [[0, \"#8e0152\"], [0.1, \"#c51b7d\"], [0.2, \"#de77ae\"], [0.3, \"#f1b6da\"], [0.4, \"#fde0ef\"], [0.5, \"#f7f7f7\"], [0.6, \"#e6f5d0\"], [0.7, \"#b8e186\"], [0.8, \"#7fbc41\"], [0.9, \"#4d9221\"], [1, \"#276419\"]], \"sequential\": [[0.0, \"#0d0887\"], [0.1111111111111111, \"#46039f\"], [0.2222222222222222, \"#7201a8\"], [0.3333333333333333, \"#9c179e\"], [0.4444444444444444, \"#bd3786\"], [0.5555555555555556, \"#d8576b\"], [0.6666666666666666, \"#ed7953\"], [0.7777777777777778, \"#fb9f3a\"], [0.8888888888888888, \"#fdca26\"], [1.0, \"#f0f921\"]], \"sequentialminus\": [[0.0, \"#0d0887\"], [0.1111111111111111, \"#46039f\"], [0.2222222222222222, \"#7201a8\"], [0.3333333333333333, \"#9c179e\"], [0.4444444444444444, \"#bd3786\"], [0.5555555555555556, \"#d8576b\"], [0.6666666666666666, \"#ed7953\"], [0.7777777777777778, \"#fb9f3a\"], [0.8888888888888888, \"#fdca26\"], [1.0, \"#f0f921\"]]}, \"colorway\": [\"#636efa\", \"#EF553B\", \"#00cc96\", \"#ab63fa\", \"#FFA15A\", \"#19d3f3\", \"#FF6692\", \"#B6E880\", \"#FF97FF\", \"#FECB52\"], \"font\": {\"color\": \"#2a3f5f\"}, \"geo\": {\"bgcolor\": \"white\", \"lakecolor\": \"white\", \"landcolor\": \"#E5ECF6\", \"showlakes\": true, \"showland\": true, \"subunitcolor\": \"white\"}, \"hoverlabel\": {\"align\": \"left\"}, \"hovermode\": \"closest\", \"mapbox\": {\"style\": \"light\"}, \"paper_bgcolor\": \"white\", \"plot_bgcolor\": \"#E5ECF6\", \"polar\": {\"angularaxis\": {\"gridcolor\": \"white\", \"linecolor\": \"white\", \"ticks\": \"\"}, \"bgcolor\": \"#E5ECF6\", \"radialaxis\": {\"gridcolor\": \"white\", \"linecolor\": \"white\", \"ticks\": \"\"}}, \"scene\": {\"xaxis\": {\"backgroundcolor\": \"#E5ECF6\", \"gridcolor\": \"white\", \"gridwidth\": 2, \"linecolor\": \"white\", \"showbackground\": true, \"ticks\": \"\", \"zerolinecolor\": \"white\"}, \"yaxis\": {\"backgroundcolor\": \"#E5ECF6\", \"gridcolor\": \"white\", \"gridwidth\": 2, \"linecolor\": \"white\", \"showbackground\": true, \"ticks\": \"\", \"zerolinecolor\": \"white\"}, \"zaxis\": {\"backgroundcolor\": \"#E5ECF6\", \"gridcolor\": \"white\", \"gridwidth\": 2, \"linecolor\": \"white\", \"showbackground\": true, \"ticks\": \"\", \"zerolinecolor\": \"white\"}}, \"shapedefaults\": {\"line\": {\"color\": \"#2a3f5f\"}}, \"ternary\": {\"aaxis\": {\"gridcolor\": \"white\", \"linecolor\": \"white\", \"ticks\": \"\"}, \"baxis\": {\"gridcolor\": \"white\", \"linecolor\": \"white\", \"ticks\": \"\"}, \"bgcolor\": \"#E5ECF6\", \"caxis\": {\"gridcolor\": \"white\", \"linecolor\": \"white\", \"ticks\": \"\"}}, \"title\": {\"x\": 0.05}, \"xaxis\": {\"automargin\": true, \"gridcolor\": \"white\", \"linecolor\": \"white\", \"ticks\": \"\", \"title\": {\"standoff\": 15}, \"zerolinecolor\": \"white\", \"zerolinewidth\": 2}, \"yaxis\": {\"automargin\": true, \"gridcolor\": \"white\", \"linecolor\": \"white\", \"ticks\": \"\", \"title\": {\"standoff\": 15}, \"zerolinecolor\": \"white\", \"zerolinewidth\": 2}}}, \"title\": {\"text\": \"Trading with the News vs Random vs Buy & Hold Strategies\"}, \"xaxis\": {\"anchor\": \"y\", \"domain\": [0.0, 1.0], \"title\": {\"text\": \"index\"}}, \"yaxis\": {\"anchor\": \"x\", \"domain\": [0.0, 1.0], \"title\": {\"text\": \"Portfolio Balance\"}}},                        {\"responsive\": true}                    ).then(function(){\n",
       "                            \n",
       "var gd = document.getElementById('cd3bed5e-4b63-411b-a121-5326c1fc03ff');\n",
       "var x = new MutationObserver(function (mutations, observer) {{\n",
       "        var display = window.getComputedStyle(gd).display;\n",
       "        if (!display || display === 'none') {{\n",
       "            console.log([gd, 'removed!']);\n",
       "            Plotly.purge(gd);\n",
       "            observer.disconnect();\n",
       "        }}\n",
       "}});\n",
       "\n",
       "// Listen for the removal of the full notebook cells\n",
       "var notebookContainer = gd.closest('#notebook-container');\n",
       "if (notebookContainer) {{\n",
       "    x.observe(notebookContainer, {childList: true});\n",
       "}}\n",
       "\n",
       "// Listen for the clearing of the current output cell\n",
       "var outputEl = gd.closest('.output');\n",
       "if (outputEl) {{\n",
       "    x.observe(outputEl, {childList: true});\n",
       "}}\n",
       "\n",
       "                        })                };                });            </script>        </div>"
      ]
     },
     "metadata": {},
     "output_type": "display_data"
    }
   ],
   "source": [
    "# Visualizing results\n",
    "fig = px.line(\n",
    "    performance,\n",
    "    x=performance.index,\n",
    "    y=performance.columns,\n",
    "    title='Trading with the News vs Random vs Buy & Hold Strategies',\n",
    "    labels={\"value\": \"Portfolio Balance\",\n",
    "            \"date\": \"Date\"}\n",
    ")\n",
    "\n",
    "fig.show()"
   ]
  },
  {
   "cell_type": "code",
   "execution_count": null,
   "metadata": {},
   "outputs": [],
   "source": []
  },
  {
   "cell_type": "code",
   "execution_count": null,
   "metadata": {},
   "outputs": [],
   "source": []
  },
  {
   "cell_type": "code",
   "execution_count": null,
   "metadata": {},
   "outputs": [],
   "source": []
  },
  {
   "cell_type": "code",
   "execution_count": null,
   "metadata": {},
   "outputs": [],
   "source": []
  }
 ],
 "metadata": {
  "kernelspec": {
   "display_name": "Python 3",
   "language": "python",
   "name": "python3"
  },
  "language_info": {
   "codemirror_mode": {
    "name": "ipython",
    "version": 3
   },
   "file_extension": ".py",
   "mimetype": "text/x-python",
   "name": "python",
   "nbconvert_exporter": "python",
   "pygments_lexer": "ipython3",
   "version": "3.9.1"
  }
 },
 "nbformat": 4,
 "nbformat_minor": 4
}
