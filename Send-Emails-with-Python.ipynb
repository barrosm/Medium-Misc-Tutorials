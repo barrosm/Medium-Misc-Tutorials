{
 "cells": [
  {
   "cell_type": "markdown",
   "metadata": {},
   "source": [
    "# Use Python to Send an Email"
   ]
  },
  {
   "cell_type": "markdown",
   "metadata": {},
   "source": [
    "## 1. Install SendGrid"
   ]
  },
  {
   "cell_type": "code",
   "execution_count": 1,
   "metadata": {},
   "outputs": [
    {
     "name": "stdout",
     "output_type": "stream",
     "text": [
      "Requirement already satisfied: sendgrid in /Users/marcosantos/miniforge3/lib/python3.9/site-packages (6.8.0)\n",
      "Requirement already satisfied: starkbank-ecdsa>=1.0.0 in /Users/marcosantos/miniforge3/lib/python3.9/site-packages (from sendgrid) (1.1.1)\n",
      "Requirement already satisfied: python-http-client>=3.2.1 in /Users/marcosantos/miniforge3/lib/python3.9/site-packages (from sendgrid) (3.3.2)\n"
     ]
    }
   ],
   "source": [
    "# Installing sendgrid\n",
    "!pip install sendgrid"
   ]
  },
  {
   "cell_type": "markdown",
   "metadata": {},
   "source": [
    "## 2. Import SendGrid Libraries and Setting the API Key"
   ]
  },
  {
   "cell_type": "code",
   "execution_count": 3,
   "metadata": {},
   "outputs": [],
   "source": [
    "from sendgrid import SendGridAPIClient\n",
    "from sendgrid.helpers.mail import Mail\n",
    "\n",
    "# Importing and assigning the api key\n",
    "with open(\"../sendGrid-API.txt\", \"r\") as f:\n",
    "    api_key = f.read()\n",
    "    \n",
    "# Using the api key with the sendgrid client\n",
    "sg = SendGridAPIClient(api_key)"
   ]
  },
  {
   "cell_type": "markdown",
   "metadata": {},
   "source": [
    "## 3. Setting the Email Variables"
   ]
  },
  {
   "cell_type": "code",
   "execution_count": 4,
   "metadata": {},
   "outputs": [],
   "source": [
    "sender = \"example@yahoo.com\"\n",
    "\n",
    "recipient = \"example@gmail.com\"\n",
    "\n",
    "subject = \"Hey Check Out This Test Email!\"\n",
    "\n",
    "content = \"I just sent this email with Python. So cool!\""
   ]
  },
  {
   "cell_type": "markdown",
   "metadata": {},
   "source": [
    "## 4. Constructing the Email"
   ]
  },
  {
   "cell_type": "code",
   "execution_count": 15,
   "metadata": {},
   "outputs": [],
   "source": [
    "email = Mail(\n",
    "    from_email=sender,\n",
    "    to_emails=recipient,\n",
    "    subject=subject,\n",
    "    html_content=content\n",
    ")"
   ]
  },
  {
   "cell_type": "markdown",
   "metadata": {},
   "source": [
    "## 5. Sending the Email"
   ]
  },
  {
   "cell_type": "code",
   "execution_count": 17,
   "metadata": {},
   "outputs": [
    {
     "name": "stdout",
     "output_type": "stream",
     "text": [
      "<python_http_client.client.Response object at 0x10a80d430>\n"
     ]
    }
   ],
   "source": [
    "response = sg.send(email)\n",
    "\n",
    "# Printing out the response \n",
    "print(response.status_code)"
   ]
  },
  {
   "cell_type": "markdown",
   "metadata": {},
   "source": [
    "## 6. Putting it all together"
   ]
  },
  {
   "cell_type": "code",
   "execution_count": 6,
   "metadata": {},
   "outputs": [],
   "source": [
    "def sendMyEmail(sender, recipient, subject, content):\n",
    "    \"\"\"\n",
    "    Takes in email details to send an email to whoever.\n",
    "    \"\"\"\n",
    "    # Sendgrid client\n",
    "    email = Mail(\n",
    "        from_email=sender,\n",
    "        to_emails=recipient,\n",
    "        subject=subject,\n",
    "        html_content=content\n",
    "    )\n",
    "    \n",
    "    # Sending the email \n",
    "    response = sg.send(email)\n",
    "    \n",
    "    # Returning either a successful message or not\n",
    "    if response.status_code==202:\n",
    "        return \"Email sent successfully!\"\n",
    "    \n",
    "    return \"Email wasn't sent\""
   ]
  },
  {
   "cell_type": "code",
   "execution_count": 10,
   "metadata": {},
   "outputs": [
    {
     "data": {
      "text/plain": [
       "'Email sent successfully!'"
      ]
     },
     "execution_count": 10,
     "metadata": {},
     "output_type": "execute_result"
    }
   ],
   "source": [
    "# New Variables\n",
    "sender = \"example@yahoo.com\"\n",
    "\n",
    "recipient = \"example@gmail.com\"\n",
    "\n",
    "subject = \"Hey Check Out This New Test Email!\"\n",
    "\n",
    "# With some html formatting\n",
    "content = \"\"\"\n",
    "    Hey!\n",
    "    \n",
    "    <p>I just sent this email by using <b>Python</b>.</p> \n",
    "    \n",
    "    <p><i>It's so cool!<i/></p>\n",
    "\"\"\"\n",
    "\n",
    "# Testing the function\n",
    "sendMyEmail(sender, recipient, subject, content)"
   ]
  },
  {
   "cell_type": "markdown",
   "metadata": {},
   "source": [
    "## 7. Sending emails with automatically changing variables"
   ]
  },
  {
   "cell_type": "code",
   "execution_count": 11,
   "metadata": {},
   "outputs": [],
   "source": [
    "# Email repeatedly over a specific time interval\n",
    "import time\n",
    "\n",
    "# Sending a different email at three separate times\n",
    "for i in [\"Hey\", \"Hi\", \"Hello\"]:\n",
    "    \n",
    "    # Setting the variables to dynamically change\n",
    "    sender = \"example@yahoo.com\"\n",
    "\n",
    "    recipient = \"example@gmail.com\"\n",
    "\n",
    "    subject = f\"{i} Check Out My Email!\"\n",
    "\n",
    "    # With some html formatting\n",
    "    content = f\"\"\"\n",
    "        {i}!\n",
    "\n",
    "        <p>I just sent this email by using <b>Python</b>.</p> \n",
    "\n",
    "        <p><i>It's so cool!<i/></p>\n",
    "    \"\"\"\n",
    "\n",
    "    # Testing the function\n",
    "    sendMyEmail(sender, recipient, subject, content)\n",
    "    \n",
    "    # Waiting a bit before sending the next\n",
    "    time.sleep(3)"
   ]
  },
  {
   "cell_type": "code",
   "execution_count": null,
   "metadata": {},
   "outputs": [],
   "source": []
  },
  {
   "cell_type": "code",
   "execution_count": null,
   "metadata": {},
   "outputs": [],
   "source": []
  },
  {
   "cell_type": "code",
   "execution_count": null,
   "metadata": {},
   "outputs": [],
   "source": []
  },
  {
   "cell_type": "code",
   "execution_count": null,
   "metadata": {},
   "outputs": [],
   "source": []
  }
 ],
 "metadata": {
  "kernelspec": {
   "display_name": "Python 3",
   "language": "python",
   "name": "python3"
  },
  "language_info": {
   "codemirror_mode": {
    "name": "ipython",
    "version": 3
   },
   "file_extension": ".py",
   "mimetype": "text/x-python",
   "name": "python",
   "nbconvert_exporter": "python",
   "pygments_lexer": "ipython3",
   "version": "3.9.1"
  }
 },
 "nbformat": 4,
 "nbformat_minor": 4
}
