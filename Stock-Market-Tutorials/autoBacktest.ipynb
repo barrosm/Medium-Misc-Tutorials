{
 "cells": [
  {
   "cell_type": "markdown",
   "metadata": {},
   "source": [
    "# AutoBacktest\n",
    "Given a specific ticker, will return the backtest results of using Facebook Prophet as a trading strategy."
   ]
  },
  {
   "cell_type": "code",
   "execution_count": 41,
   "metadata": {},
   "outputs": [],
   "source": [
    "# Libraries\n",
    "import pandas as pd\n",
    "from datetime import datetime, timedelta\n",
    "from tqdm.notebook import tqdm\n",
    "import numpy as np\n",
    "import plotly.express as px\n",
    "from prophet import Prophet\n",
    "import yfinance as yf\n",
    "import itertools\n",
    "import time\n",
    "import random\n",
    "from scipy import stats\n",
    "from statsmodels.stats.weightstats import ztest"
   ]
  },
  {
   "cell_type": "markdown",
   "metadata": {},
   "source": [
    "# Get Price Data"
   ]
  },
  {
   "cell_type": "code",
   "execution_count": 15,
   "metadata": {},
   "outputs": [],
   "source": [
    "def getStockPrices(stock, n_days, training_days, mov_avg):\n",
    "    \"\"\"\n",
    "    Gets stock prices from now to N days ago and training amount will be in addition \n",
    "    to the number of days to train.\n",
    "    \"\"\"\n",
    "    \n",
    "    # Designating the Ticker\n",
    "    ticker = yf.Ticker(stock)\n",
    "\n",
    "    # Getting all price history\n",
    "    prices = ticker.history(period=\"max\")\n",
    "    \n",
    "    # Check on length\n",
    "    if len(prices)<n_days+training_days+mov_avg:\n",
    "        return pd.DataFrame()\n",
    "    \n",
    "    # Getting relevant length\n",
    "    prices = prices.tail(n_days+training_days+mov_avg)\n",
    "        \n",
    "    # Filling NaNs with the most recent values for any missing data\n",
    "    prices = prices.fillna(method='ffill')\n",
    "    \n",
    "    # Getting the N Day Moving Average and rounding the values for some light data preprocessing\n",
    "    prices['MA'] = prices[['Close']].rolling(\n",
    "        window=mov_avg\n",
    "    ).mean().apply(lambda x: round(x, 2))\n",
    "\n",
    "    # Resetting format for FBP\n",
    "    prices = prices.reset_index().rename(\n",
    "        columns={\"Date\": \"ds\", \"MA\": \"y\"}\n",
    "    )\n",
    "    \n",
    "    # Dropping the Nans\n",
    "    prices.dropna(inplace=True, subset=['y'])\n",
    "    \n",
    "    return prices"
   ]
  },
  {
   "cell_type": "code",
   "execution_count": 16,
   "metadata": {},
   "outputs": [],
   "source": [
    "def fbpTrainPredict(df, forecast_period):\n",
    "    \"\"\"\n",
    "    Uses FB Prophet and fits to a appropriately formatted DF. Makes a prediction N days into \n",
    "    the future based on given forecast period. Returns predicted values as a DF.\n",
    "    \"\"\"\n",
    "    # Setting up prophet\n",
    "    m = Prophet(\n",
    "        daily_seasonality=True, \n",
    "        yearly_seasonality=True, \n",
    "        weekly_seasonality=True\n",
    "    )\n",
    "    \n",
    "    # Fitting to the prices\n",
    "    m.fit(df[['ds', 'y']])\n",
    "    \n",
    "    # Future DF\n",
    "    future = m.make_future_dataframe(\n",
    "        periods=forecast_period,\n",
    "        freq='B',\n",
    "        include_history=False\n",
    "    )\n",
    "            \n",
    "    # Predicting values\n",
    "    forecast = m.predict(future)\n",
    "\n",
    "    # Returning a set of predicted values\n",
    "    return forecast[['ds', 'yhat', 'yhat_lower', 'yhat_upper']]"
   ]
  },
  {
   "cell_type": "code",
   "execution_count": 17,
   "metadata": {},
   "outputs": [],
   "source": [
    "def runningFBP(prices, forecast_period, training_days):\n",
    "    \"\"\"\n",
    "    Runs Facebook Prophet to get predictions over a set period \n",
    "    of time. Uses FBP to train and predict every N days and gets the \n",
    "    price forecasts.\n",
    "    \"\"\"\n",
    "    # DF for the predicted values\n",
    "    pred_df = pd.DataFrame()\n",
    "\n",
    "    # Running the model each day\n",
    "    for i in tqdm(range(training_days, len(prices)+1), leave=False):\n",
    "        \n",
    "        # Training and Predicting the last day on the forecast\n",
    "        forecast = fbpTrainPredict(\n",
    "            prices[i-training_days:i], \n",
    "            forecast_period\n",
    "        ).tail(1)\n",
    "        \n",
    "        # Adding the forecast predicted\n",
    "        pred_df = pred_df.append(forecast, ignore_index=True)\n",
    "        \n",
    "    # Prepping for merge by converting date values to be the same type\n",
    "    pred_df['ds'] = pred_df['ds'].apply(lambda x: str(x)[:10])\n",
    "\n",
    "    prices['ds'] = prices['ds'].apply(lambda x: str(x)[:10])\n",
    "    \n",
    "    # Shifting the forecasts back in order to compare it to the 'current' open values\n",
    "    pred_df[['yhat', 'yhat_lower', 'yhat_upper']] = pred_df[['yhat', 'yhat_lower', 'yhat_upper']].shift(-forecast_period)\n",
    "    \n",
    "    # Merging with the prices DF in order to compare values for positions later\n",
    "    merge_df = prices[['ds', 'Open']].merge(\n",
    "        pred_df,\n",
    "        on='ds',\n",
    "        how='outer'\n",
    "    ).dropna().set_index('ds')\n",
    "\n",
    "    return merge_df"
   ]
  },
  {
   "cell_type": "markdown",
   "metadata": {},
   "source": [
    "## Testing Functions"
   ]
  },
  {
   "cell_type": "code",
   "execution_count": 18,
   "metadata": {},
   "outputs": [],
   "source": [
    "# Pricing Data Parameters\n",
    "n_days = 31\n",
    "\n",
    "training_days = 300\n",
    "\n",
    "forecast_period = 5\n",
    "\n",
    "mov_avg = 5\n",
    "\n",
    "# Retrieving prices with the above parameters\n",
    "prices = getStockPrices(\n",
    "    \"TSLA\", \n",
    "    n_days=n_days,\n",
    "    training_days=training_days,\n",
    "    mov_avg=mov_avg\n",
    ")"
   ]
  },
  {
   "cell_type": "code",
   "execution_count": 19,
   "metadata": {},
   "outputs": [
    {
     "data": {
      "application/vnd.jupyter.widget-view+json": {
       "model_id": "",
       "version_major": 2,
       "version_minor": 0
      },
      "text/plain": [
       "  0%|          | 0/33 [00:00<?, ?it/s]"
      ]
     },
     "metadata": {},
     "output_type": "display_data"
    }
   ],
   "source": [
    "# Running Facebook Prophet with the set parameters\n",
    "pred_df = runningFBP(\n",
    "    prices, \n",
    "    forecast_period, \n",
    "    training_days\n",
    ")"
   ]
  },
  {
   "cell_type": "markdown",
   "metadata": {},
   "source": [
    "# Getting Positions"
   ]
  },
  {
   "cell_type": "code",
   "execution_count": 20,
   "metadata": {},
   "outputs": [],
   "source": [
    "def fbpPositions(pred_df, short=True):\n",
    "    \"\"\"\n",
    "    Gets positions based on the predictions and the actual values.\n",
    "    \"\"\"\n",
    "    if pred_df['Open'] < pred_df['yhat_lower']:\n",
    "        return 1\n",
    "    elif pred_df['Open'] > pred_df['yhat_upper'] and short:\n",
    "        return -1\n",
    "    else:\n",
    "        return 0"
   ]
  },
  {
   "cell_type": "markdown",
   "metadata": {},
   "source": [
    "## Testing Function Positions"
   ]
  },
  {
   "cell_type": "code",
   "execution_count": 21,
   "metadata": {},
   "outputs": [],
   "source": [
    "# Adding sentiment positions to the forecast DF\n",
    "positions = pred_df\n",
    "\n",
    "# Getting forecast prophet positions\n",
    "positions['fbp_positions'] = positions.apply(\n",
    "    lambda x: fbpPositions(x, short=True), \n",
    "    axis=1\n",
    ")\n",
    "\n",
    "# Buy and hold position\n",
    "positions['buy_hold'] = 1"
   ]
  },
  {
   "cell_type": "markdown",
   "metadata": {},
   "source": [
    "# Backtest with Functions"
   ]
  },
  {
   "cell_type": "code",
   "execution_count": 22,
   "metadata": {},
   "outputs": [],
   "source": [
    "# Getting daily returns\n",
    "log_returns = prices[['ds', 'Close']].set_index(\n",
    "    'ds'\n",
    ").loc[positions.index].apply(np.log).diff()"
   ]
  },
  {
   "cell_type": "code",
   "execution_count": 23,
   "metadata": {},
   "outputs": [],
   "source": [
    "# The positions to backtest (shifted ahead by 1 to prevent lookahead bias)\n",
    "bt_positions = positions[[\n",
    "    'buy_hold', \n",
    "    'fbp_positions'\n",
    "]].shift(1)\n",
    "\n",
    "# The returns during the backtest\n",
    "returns = bt_positions.multiply(\n",
    "    log_returns['Close'], \n",
    "    axis=0\n",
    ")\n",
    "\n",
    "# Inversing the log returns to get daily portfolio balance\n",
    "performance = returns.cumsum().apply(\n",
    "    np.exp\n",
    ").dropna().fillna(\n",
    "    method='ffill'\n",
    ")"
   ]
  },
  {
   "cell_type": "markdown",
   "metadata": {},
   "source": [
    "# Calculating Backtest Performance"
   ]
  },
  {
   "cell_type": "code",
   "execution_count": 54,
   "metadata": {},
   "outputs": [],
   "source": [
    "def riskAnalysis(performance):\n",
    "    \"\"\"\n",
    "    Analyzes the performance DataFrame to calculate various\n",
    "    evaluation metrics on the backtest to determine if\n",
    "    the backtest performance was favorable.\n",
    "    \"\"\"\n",
    "    \n",
    "    # Average returns hypothesis testing\n",
    "    if len(performance)<=30:\n",
    "        # T-testing\n",
    "        stat_test = stats.ttest_ind(performance['fbp_positions'], performance['buy_hold'])\n",
    "    else:\n",
    "        # Z-testing\n",
    "        stat_test = ztest(performance['fbp_positions'], performance['buy_hold'])\n",
    "\n",
    "    # Ending portfolio balance\n",
    "    bal = performance.tail(1)\n",
    "    \n",
    "    # Moving Average returns\n",
    "    ma_ret = performance.rolling(window=3).mean().dropna()\n",
    "    \n",
    "    # Calculating if fbp beats buy and hold on average\n",
    "    ma_ret['diff'] = ma_ret['fbp_positions'] > ma_ret['buy_hold']\n",
    "    \n",
    "    diff = ma_ret['diff'].sum() / ma_ret['diff'].shape[0]\n",
    "\n",
    "    # Calculating how often FBP MA returns were above the initial balance\n",
    "    ma_ret['beat_bal'] = ma_ret['fbp_positions'] > 1\n",
    "    \n",
    "    beat_bal = ma_ret['beat_bal'].sum() / ma_ret['beat_bal'].shape[0]\n",
    "    \n",
    "    # Calculating how often MA returns were positive (trending upwards)\n",
    "    ma_ret['uptrend'] = ma_ret['fbp_positions'].diff().dropna()>=0\n",
    "    \n",
    "    uptrend = ma_ret['uptrend'].sum() / ma_ret['uptrend'].shape[0]\n",
    "    \n",
    "    # Performance score\n",
    "    score = 0\n",
    "    \n",
    "    # P-value check\n",
    "    if stat_test[1]<0.05:\n",
    "        score += 1\n",
    "    \n",
    "    # Checking ending portfolio balance\n",
    "    if bal['fbp_positions'][0]>bal['buy_hold'][0] and bal['fbp_positions'][0]>1: \n",
    "        score += 1\n",
    "    \n",
    "    # How often fbp outperformed buy and hold\n",
    "    if diff>.8: \n",
    "        score += 1\n",
    "        \n",
    "    # How often fbp had returns greater than the initial portfolio balance\n",
    "    if beat_bal>.6: \n",
    "        score += 1\n",
    "        \n",
    "    # How often fbp had positive upward trend\n",
    "    if uptrend>.55:\n",
    "        score += 1\n",
    "        \n",
    "    # Dictionary containing values\n",
    "    score_res = {\n",
    "        \"result\": True,\n",
    "        \"score\": score,\n",
    "        \"endingBalance\": {\n",
    "            \"prophet\": bal['fbp_positions'][0],\n",
    "            \"buyHold\": bal['buy_hold'][0]\n",
    "        },\n",
    "        \"betterThanBuyHold\": diff,\n",
    "        \"greaterPortfolioBalance\": beat_bal,\n",
    "        \"upwardTrend\": uptrend,\n",
    "        \"pValue\": stat_test[1]\n",
    "    }\n",
    "                \n",
    "    if score>=5:\n",
    "                \n",
    "        return score_res\n",
    "    \n",
    "    else:\n",
    "        # Backtest result is bad\n",
    "        score_res['result'] = False\n",
    "        \n",
    "        return score_res"
   ]
  },
  {
   "cell_type": "markdown",
   "metadata": {},
   "source": [
    "# Visualization"
   ]
  },
  {
   "cell_type": "code",
   "execution_count": 47,
   "metadata": {},
   "outputs": [
    {
     "data": {
      "application/vnd.plotly.v1+json": {
       "config": {
        "plotlyServerURL": "https://plot.ly"
       },
       "data": [
        {
         "hovertemplate": "variable=buy_hold<br>ds=%{x}<br>Portfolio Balance=%{y}<extra></extra>",
         "legendgroup": "buy_hold",
         "line": {
          "color": "#636efa",
          "dash": "solid"
         },
         "mode": "lines",
         "name": "buy_hold",
         "orientation": "v",
         "showlegend": true,
         "type": "scatter",
         "x": [
          "2022-02-18",
          "2022-02-22",
          "2022-02-23",
          "2022-02-24",
          "2022-02-25",
          "2022-03-01",
          "2022-03-02",
          "2022-03-03",
          "2022-03-04",
          "2022-03-07",
          "2022-03-08",
          "2022-03-09",
          "2022-03-10",
          "2022-03-11",
          "2022-03-14",
          "2022-03-15",
          "2022-03-16",
          "2022-03-17",
          "2022-03-18",
          "2022-03-21",
          "2022-03-22",
          "2022-03-23",
          "2022-03-24",
          "2022-03-25",
          "2022-03-28",
          "2022-03-29"
         ],
         "xaxis": "x",
         "y": [
          0.9778969639335742,
          0.9374451442730869,
          0.8718434407629191,
          0.9137559671817718,
          0.9241399186160747,
          0.9863296847121606,
          1.0040395266287685,
          0.9577109618405423,
          0.9565698652149258,
          0.9181035425394887,
          0.9407200860168444,
          0.980167735075029,
          0.9565812873247038,
          0.9075711733250835,
          0.874502215401768,
          0.9150339898307011,
          0.958783595454502,
          0.9945797910283231,
          1.0331374905819832,
          1.051132537007984,
          1.1342272016430006,
          1.1400810329041737,
          1.15698067114367,
          1.153237910428094,
          1.2458949007105256,
          1.2547155553394949
         ],
         "yaxis": "y"
        },
        {
         "hovertemplate": "variable=fbp_positions<br>ds=%{x}<br>Portfolio Balance=%{y}<extra></extra>",
         "legendgroup": "fbp_positions",
         "line": {
          "color": "#EF553B",
          "dash": "solid"
         },
         "mode": "lines",
         "name": "fbp_positions",
         "orientation": "v",
         "showlegend": true,
         "type": "scatter",
         "x": [
          "2022-02-18",
          "2022-02-22",
          "2022-02-23",
          "2022-02-24",
          "2022-02-25",
          "2022-03-01",
          "2022-03-02",
          "2022-03-03",
          "2022-03-04",
          "2022-03-07",
          "2022-03-08",
          "2022-03-09",
          "2022-03-10",
          "2022-03-11",
          "2022-03-14",
          "2022-03-15",
          "2022-03-16",
          "2022-03-17",
          "2022-03-18",
          "2022-03-21",
          "2022-03-22",
          "2022-03-23",
          "2022-03-24",
          "2022-03-25",
          "2022-03-28",
          "2022-03-29"
         ],
         "xaxis": "x",
         "y": [
          1.0226026226500557,
          1.0667290839459405,
          1.1469949227638114,
          1.0943840980696675,
          1.0943840980696675,
          1.0253813172215067,
          1.0072950362030602,
          1.0560221941922596,
          1.0572819279620433,
          1.101579489092679,
          1.0750956063956303,
          1.0750956063956303,
          1.1016042645544921,
          1.1610924371354703,
          1.2049986917709405,
          1.2049986917709405,
          1.2049986917709405,
          1.2049986917709405,
          1.1600269644419046,
          1.1401676809114336,
          1.0566378105858227,
          1.0512124247853165,
          1.0358577087258212,
          1.0392195194190772,
          0.961932941829577,
          0.9551705499711202
         ],
         "yaxis": "y"
        }
       ],
       "layout": {
        "autosize": true,
        "legend": {
         "title": {
          "text": "variable"
         },
         "tracegroupgap": 0
        },
        "template": {
         "data": {
          "bar": [
           {
            "error_x": {
             "color": "#2a3f5f"
            },
            "error_y": {
             "color": "#2a3f5f"
            },
            "marker": {
             "line": {
              "color": "#E5ECF6",
              "width": 0.5
             }
            },
            "type": "bar"
           }
          ],
          "barpolar": [
           {
            "marker": {
             "line": {
              "color": "#E5ECF6",
              "width": 0.5
             }
            },
            "type": "barpolar"
           }
          ],
          "carpet": [
           {
            "aaxis": {
             "endlinecolor": "#2a3f5f",
             "gridcolor": "white",
             "linecolor": "white",
             "minorgridcolor": "white",
             "startlinecolor": "#2a3f5f"
            },
            "baxis": {
             "endlinecolor": "#2a3f5f",
             "gridcolor": "white",
             "linecolor": "white",
             "minorgridcolor": "white",
             "startlinecolor": "#2a3f5f"
            },
            "type": "carpet"
           }
          ],
          "choropleth": [
           {
            "colorbar": {
             "outlinewidth": 0,
             "ticks": ""
            },
            "type": "choropleth"
           }
          ],
          "contour": [
           {
            "colorbar": {
             "outlinewidth": 0,
             "ticks": ""
            },
            "colorscale": [
             [
              0,
              "#0d0887"
             ],
             [
              0.1111111111111111,
              "#46039f"
             ],
             [
              0.2222222222222222,
              "#7201a8"
             ],
             [
              0.3333333333333333,
              "#9c179e"
             ],
             [
              0.4444444444444444,
              "#bd3786"
             ],
             [
              0.5555555555555556,
              "#d8576b"
             ],
             [
              0.6666666666666666,
              "#ed7953"
             ],
             [
              0.7777777777777778,
              "#fb9f3a"
             ],
             [
              0.8888888888888888,
              "#fdca26"
             ],
             [
              1,
              "#f0f921"
             ]
            ],
            "type": "contour"
           }
          ],
          "contourcarpet": [
           {
            "colorbar": {
             "outlinewidth": 0,
             "ticks": ""
            },
            "type": "contourcarpet"
           }
          ],
          "heatmap": [
           {
            "colorbar": {
             "outlinewidth": 0,
             "ticks": ""
            },
            "colorscale": [
             [
              0,
              "#0d0887"
             ],
             [
              0.1111111111111111,
              "#46039f"
             ],
             [
              0.2222222222222222,
              "#7201a8"
             ],
             [
              0.3333333333333333,
              "#9c179e"
             ],
             [
              0.4444444444444444,
              "#bd3786"
             ],
             [
              0.5555555555555556,
              "#d8576b"
             ],
             [
              0.6666666666666666,
              "#ed7953"
             ],
             [
              0.7777777777777778,
              "#fb9f3a"
             ],
             [
              0.8888888888888888,
              "#fdca26"
             ],
             [
              1,
              "#f0f921"
             ]
            ],
            "type": "heatmap"
           }
          ],
          "heatmapgl": [
           {
            "colorbar": {
             "outlinewidth": 0,
             "ticks": ""
            },
            "colorscale": [
             [
              0,
              "#0d0887"
             ],
             [
              0.1111111111111111,
              "#46039f"
             ],
             [
              0.2222222222222222,
              "#7201a8"
             ],
             [
              0.3333333333333333,
              "#9c179e"
             ],
             [
              0.4444444444444444,
              "#bd3786"
             ],
             [
              0.5555555555555556,
              "#d8576b"
             ],
             [
              0.6666666666666666,
              "#ed7953"
             ],
             [
              0.7777777777777778,
              "#fb9f3a"
             ],
             [
              0.8888888888888888,
              "#fdca26"
             ],
             [
              1,
              "#f0f921"
             ]
            ],
            "type": "heatmapgl"
           }
          ],
          "histogram": [
           {
            "marker": {
             "colorbar": {
              "outlinewidth": 0,
              "ticks": ""
             }
            },
            "type": "histogram"
           }
          ],
          "histogram2d": [
           {
            "colorbar": {
             "outlinewidth": 0,
             "ticks": ""
            },
            "colorscale": [
             [
              0,
              "#0d0887"
             ],
             [
              0.1111111111111111,
              "#46039f"
             ],
             [
              0.2222222222222222,
              "#7201a8"
             ],
             [
              0.3333333333333333,
              "#9c179e"
             ],
             [
              0.4444444444444444,
              "#bd3786"
             ],
             [
              0.5555555555555556,
              "#d8576b"
             ],
             [
              0.6666666666666666,
              "#ed7953"
             ],
             [
              0.7777777777777778,
              "#fb9f3a"
             ],
             [
              0.8888888888888888,
              "#fdca26"
             ],
             [
              1,
              "#f0f921"
             ]
            ],
            "type": "histogram2d"
           }
          ],
          "histogram2dcontour": [
           {
            "colorbar": {
             "outlinewidth": 0,
             "ticks": ""
            },
            "colorscale": [
             [
              0,
              "#0d0887"
             ],
             [
              0.1111111111111111,
              "#46039f"
             ],
             [
              0.2222222222222222,
              "#7201a8"
             ],
             [
              0.3333333333333333,
              "#9c179e"
             ],
             [
              0.4444444444444444,
              "#bd3786"
             ],
             [
              0.5555555555555556,
              "#d8576b"
             ],
             [
              0.6666666666666666,
              "#ed7953"
             ],
             [
              0.7777777777777778,
              "#fb9f3a"
             ],
             [
              0.8888888888888888,
              "#fdca26"
             ],
             [
              1,
              "#f0f921"
             ]
            ],
            "type": "histogram2dcontour"
           }
          ],
          "mesh3d": [
           {
            "colorbar": {
             "outlinewidth": 0,
             "ticks": ""
            },
            "type": "mesh3d"
           }
          ],
          "parcoords": [
           {
            "line": {
             "colorbar": {
              "outlinewidth": 0,
              "ticks": ""
             }
            },
            "type": "parcoords"
           }
          ],
          "pie": [
           {
            "automargin": true,
            "type": "pie"
           }
          ],
          "scatter": [
           {
            "marker": {
             "colorbar": {
              "outlinewidth": 0,
              "ticks": ""
             }
            },
            "type": "scatter"
           }
          ],
          "scatter3d": [
           {
            "line": {
             "colorbar": {
              "outlinewidth": 0,
              "ticks": ""
             }
            },
            "marker": {
             "colorbar": {
              "outlinewidth": 0,
              "ticks": ""
             }
            },
            "type": "scatter3d"
           }
          ],
          "scattercarpet": [
           {
            "marker": {
             "colorbar": {
              "outlinewidth": 0,
              "ticks": ""
             }
            },
            "type": "scattercarpet"
           }
          ],
          "scattergeo": [
           {
            "marker": {
             "colorbar": {
              "outlinewidth": 0,
              "ticks": ""
             }
            },
            "type": "scattergeo"
           }
          ],
          "scattergl": [
           {
            "marker": {
             "colorbar": {
              "outlinewidth": 0,
              "ticks": ""
             }
            },
            "type": "scattergl"
           }
          ],
          "scattermapbox": [
           {
            "marker": {
             "colorbar": {
              "outlinewidth": 0,
              "ticks": ""
             }
            },
            "type": "scattermapbox"
           }
          ],
          "scatterpolar": [
           {
            "marker": {
             "colorbar": {
              "outlinewidth": 0,
              "ticks": ""
             }
            },
            "type": "scatterpolar"
           }
          ],
          "scatterpolargl": [
           {
            "marker": {
             "colorbar": {
              "outlinewidth": 0,
              "ticks": ""
             }
            },
            "type": "scatterpolargl"
           }
          ],
          "scatterternary": [
           {
            "marker": {
             "colorbar": {
              "outlinewidth": 0,
              "ticks": ""
             }
            },
            "type": "scatterternary"
           }
          ],
          "surface": [
           {
            "colorbar": {
             "outlinewidth": 0,
             "ticks": ""
            },
            "colorscale": [
             [
              0,
              "#0d0887"
             ],
             [
              0.1111111111111111,
              "#46039f"
             ],
             [
              0.2222222222222222,
              "#7201a8"
             ],
             [
              0.3333333333333333,
              "#9c179e"
             ],
             [
              0.4444444444444444,
              "#bd3786"
             ],
             [
              0.5555555555555556,
              "#d8576b"
             ],
             [
              0.6666666666666666,
              "#ed7953"
             ],
             [
              0.7777777777777778,
              "#fb9f3a"
             ],
             [
              0.8888888888888888,
              "#fdca26"
             ],
             [
              1,
              "#f0f921"
             ]
            ],
            "type": "surface"
           }
          ],
          "table": [
           {
            "cells": {
             "fill": {
              "color": "#EBF0F8"
             },
             "line": {
              "color": "white"
             }
            },
            "header": {
             "fill": {
              "color": "#C8D4E3"
             },
             "line": {
              "color": "white"
             }
            },
            "type": "table"
           }
          ]
         },
         "layout": {
          "annotationdefaults": {
           "arrowcolor": "#2a3f5f",
           "arrowhead": 0,
           "arrowwidth": 1
          },
          "autotypenumbers": "strict",
          "coloraxis": {
           "colorbar": {
            "outlinewidth": 0,
            "ticks": ""
           }
          },
          "colorscale": {
           "diverging": [
            [
             0,
             "#8e0152"
            ],
            [
             0.1,
             "#c51b7d"
            ],
            [
             0.2,
             "#de77ae"
            ],
            [
             0.3,
             "#f1b6da"
            ],
            [
             0.4,
             "#fde0ef"
            ],
            [
             0.5,
             "#f7f7f7"
            ],
            [
             0.6,
             "#e6f5d0"
            ],
            [
             0.7,
             "#b8e186"
            ],
            [
             0.8,
             "#7fbc41"
            ],
            [
             0.9,
             "#4d9221"
            ],
            [
             1,
             "#276419"
            ]
           ],
           "sequential": [
            [
             0,
             "#0d0887"
            ],
            [
             0.1111111111111111,
             "#46039f"
            ],
            [
             0.2222222222222222,
             "#7201a8"
            ],
            [
             0.3333333333333333,
             "#9c179e"
            ],
            [
             0.4444444444444444,
             "#bd3786"
            ],
            [
             0.5555555555555556,
             "#d8576b"
            ],
            [
             0.6666666666666666,
             "#ed7953"
            ],
            [
             0.7777777777777778,
             "#fb9f3a"
            ],
            [
             0.8888888888888888,
             "#fdca26"
            ],
            [
             1,
             "#f0f921"
            ]
           ],
           "sequentialminus": [
            [
             0,
             "#0d0887"
            ],
            [
             0.1111111111111111,
             "#46039f"
            ],
            [
             0.2222222222222222,
             "#7201a8"
            ],
            [
             0.3333333333333333,
             "#9c179e"
            ],
            [
             0.4444444444444444,
             "#bd3786"
            ],
            [
             0.5555555555555556,
             "#d8576b"
            ],
            [
             0.6666666666666666,
             "#ed7953"
            ],
            [
             0.7777777777777778,
             "#fb9f3a"
            ],
            [
             0.8888888888888888,
             "#fdca26"
            ],
            [
             1,
             "#f0f921"
            ]
           ]
          },
          "colorway": [
           "#636efa",
           "#EF553B",
           "#00cc96",
           "#ab63fa",
           "#FFA15A",
           "#19d3f3",
           "#FF6692",
           "#B6E880",
           "#FF97FF",
           "#FECB52"
          ],
          "font": {
           "color": "#2a3f5f"
          },
          "geo": {
           "bgcolor": "white",
           "lakecolor": "white",
           "landcolor": "#E5ECF6",
           "showlakes": true,
           "showland": true,
           "subunitcolor": "white"
          },
          "hoverlabel": {
           "align": "left"
          },
          "hovermode": "closest",
          "mapbox": {
           "style": "light"
          },
          "paper_bgcolor": "white",
          "plot_bgcolor": "#E5ECF6",
          "polar": {
           "angularaxis": {
            "gridcolor": "white",
            "linecolor": "white",
            "ticks": ""
           },
           "bgcolor": "#E5ECF6",
           "radialaxis": {
            "gridcolor": "white",
            "linecolor": "white",
            "ticks": ""
           }
          },
          "scene": {
           "xaxis": {
            "backgroundcolor": "#E5ECF6",
            "gridcolor": "white",
            "gridwidth": 2,
            "linecolor": "white",
            "showbackground": true,
            "ticks": "",
            "zerolinecolor": "white"
           },
           "yaxis": {
            "backgroundcolor": "#E5ECF6",
            "gridcolor": "white",
            "gridwidth": 2,
            "linecolor": "white",
            "showbackground": true,
            "ticks": "",
            "zerolinecolor": "white"
           },
           "zaxis": {
            "backgroundcolor": "#E5ECF6",
            "gridcolor": "white",
            "gridwidth": 2,
            "linecolor": "white",
            "showbackground": true,
            "ticks": "",
            "zerolinecolor": "white"
           }
          },
          "shapedefaults": {
           "line": {
            "color": "#2a3f5f"
           }
          },
          "ternary": {
           "aaxis": {
            "gridcolor": "white",
            "linecolor": "white",
            "ticks": ""
           },
           "baxis": {
            "gridcolor": "white",
            "linecolor": "white",
            "ticks": ""
           },
           "bgcolor": "#E5ECF6",
           "caxis": {
            "gridcolor": "white",
            "linecolor": "white",
            "ticks": ""
           }
          },
          "title": {
           "x": 0.05
          },
          "xaxis": {
           "automargin": true,
           "gridcolor": "white",
           "linecolor": "white",
           "ticks": "",
           "title": {
            "standoff": 15
           },
           "zerolinecolor": "white",
           "zerolinewidth": 2
          },
          "yaxis": {
           "automargin": true,
           "gridcolor": "white",
           "linecolor": "white",
           "ticks": "",
           "title": {
            "standoff": 15
           },
           "zerolinecolor": "white",
           "zerolinewidth": 2
          }
         }
        },
        "title": {
         "text": "FBProphet vs Buy&Hold"
        },
        "xaxis": {
         "anchor": "y",
         "autorange": true,
         "domain": [
          0,
          1
         ],
         "range": [
          "2022-02-18",
          "2022-03-29"
         ],
         "title": {
          "text": "ds"
         },
         "type": "date"
        },
        "yaxis": {
         "anchor": "x",
         "autorange": true,
         "domain": [
          0,
          1
         ],
         "range": [
          0.8505727677308871,
          1.2759862283715269
         ],
         "title": {
          "text": "Portfolio Balance"
         },
         "type": "linear"
        }
       }
      },
      "image/png": "[encoded data removed]",
      "text/html": [
       "<div>                            <div id=\"dc788d89-80f3-4ac1-90db-2b0a14e238c4\" class=\"plotly-graph-div\" style=\"height:525px; width:100%;\"></div>            <script type=\"text/javascript\">                require([\"plotly\"], function(Plotly) {                    window.PLOTLYENV=window.PLOTLYENV || {};                                    if (document.getElementById(\"dc788d89-80f3-4ac1-90db-2b0a14e238c4\")) {                    Plotly.newPlot(                        \"dc788d89-80f3-4ac1-90db-2b0a14e238c4\",                        [{\"hovertemplate\": \"variable=buy_hold<br>ds=%{x}<br>Portfolio Balance=%{y}<extra></extra>\", \"legendgroup\": \"buy_hold\", \"line\": {\"color\": \"#636efa\", \"dash\": \"solid\"}, \"mode\": \"lines\", \"name\": \"buy_hold\", \"orientation\": \"v\", \"showlegend\": true, \"type\": \"scatter\", \"x\": [\"2022-02-18\", \"2022-02-22\", \"2022-02-23\", \"2022-02-24\", \"2022-02-25\", \"2022-03-01\", \"2022-03-02\", \"2022-03-03\", \"2022-03-04\", \"2022-03-07\", \"2022-03-08\", \"2022-03-09\", \"2022-03-10\", \"2022-03-11\", \"2022-03-14\", \"2022-03-15\", \"2022-03-16\", \"2022-03-17\", \"2022-03-18\", \"2022-03-21\", \"2022-03-22\", \"2022-03-23\", \"2022-03-24\", \"2022-03-25\", \"2022-03-28\", \"2022-03-29\"], \"xaxis\": \"x\", \"y\": [0.9778969639335742, 0.9374451442730869, 0.8718434407629191, 0.9137559671817718, 0.9241399186160747, 0.9863296847121606, 1.0040395266287685, 0.9577109618405423, 0.9565698652149258, 0.9181035425394887, 0.9407200860168444, 0.980167735075029, 0.9565812873247038, 0.9075711733250835, 0.874502215401768, 0.9150339898307011, 0.958783595454502, 0.9945797910283231, 1.0331374905819832, 1.051132537007984, 1.1342272016430006, 1.1400810329041737, 1.15698067114367, 1.153237910428094, 1.2458949007105256, 1.2547155553394949], \"yaxis\": \"y\"}, {\"hovertemplate\": \"variable=fbp_positions<br>ds=%{x}<br>Portfolio Balance=%{y}<extra></extra>\", \"legendgroup\": \"fbp_positions\", \"line\": {\"color\": \"#EF553B\", \"dash\": \"solid\"}, \"mode\": \"lines\", \"name\": \"fbp_positions\", \"orientation\": \"v\", \"showlegend\": true, \"type\": \"scatter\", \"x\": [\"2022-02-18\", \"2022-02-22\", \"2022-02-23\", \"2022-02-24\", \"2022-02-25\", \"2022-03-01\", \"2022-03-02\", \"2022-03-03\", \"2022-03-04\", \"2022-03-07\", \"2022-03-08\", \"2022-03-09\", \"2022-03-10\", \"2022-03-11\", \"2022-03-14\", \"2022-03-15\", \"2022-03-16\", \"2022-03-17\", \"2022-03-18\", \"2022-03-21\", \"2022-03-22\", \"2022-03-23\", \"2022-03-24\", \"2022-03-25\", \"2022-03-28\", \"2022-03-29\"], \"xaxis\": \"x\", \"y\": [1.0226026226500557, 1.0667290839459405, 1.1469949227638114, 1.0943840980696675, 1.0943840980696675, 1.0253813172215067, 1.0072950362030602, 1.0560221941922596, 1.0572819279620433, 1.101579489092679, 1.0750956063956303, 1.0750956063956303, 1.1016042645544921, 1.1610924371354703, 1.2049986917709405, 1.2049986917709405, 1.2049986917709405, 1.2049986917709405, 1.1600269644419046, 1.1401676809114336, 1.0566378105858227, 1.0512124247853165, 1.0358577087258212, 1.0392195194190772, 0.961932941829577, 0.9551705499711202], \"yaxis\": \"y\"}],                        {\"legend\": {\"title\": {\"text\": \"variable\"}, \"tracegroupgap\": 0}, \"template\": {\"data\": {\"bar\": [{\"error_x\": {\"color\": \"#2a3f5f\"}, \"error_y\": {\"color\": \"#2a3f5f\"}, \"marker\": {\"line\": {\"color\": \"#E5ECF6\", \"width\": 0.5}}, \"type\": \"bar\"}], \"barpolar\": [{\"marker\": {\"line\": {\"color\": \"#E5ECF6\", \"width\": 0.5}}, \"type\": \"barpolar\"}], \"carpet\": [{\"aaxis\": {\"endlinecolor\": \"#2a3f5f\", \"gridcolor\": \"white\", \"linecolor\": \"white\", \"minorgridcolor\": \"white\", \"startlinecolor\": \"#2a3f5f\"}, \"baxis\": {\"endlinecolor\": \"#2a3f5f\", \"gridcolor\": \"white\", \"linecolor\": \"white\", \"minorgridcolor\": \"white\", \"startlinecolor\": \"#2a3f5f\"}, \"type\": \"carpet\"}], \"choropleth\": [{\"colorbar\": {\"outlinewidth\": 0, \"ticks\": \"\"}, \"type\": \"choropleth\"}], \"contour\": [{\"colorbar\": {\"outlinewidth\": 0, \"ticks\": \"\"}, \"colorscale\": [[0.0, \"#0d0887\"], [0.1111111111111111, \"#46039f\"], [0.2222222222222222, \"#7201a8\"], [0.3333333333333333, \"#9c179e\"], [0.4444444444444444, \"#bd3786\"], [0.5555555555555556, \"#d8576b\"], [0.6666666666666666, \"#ed7953\"], [0.7777777777777778, \"#fb9f3a\"], [0.8888888888888888, \"#fdca26\"], [1.0, \"#f0f921\"]], \"type\": \"contour\"}], \"contourcarpet\": [{\"colorbar\": {\"outlinewidth\": 0, \"ticks\": \"\"}, \"type\": \"contourcarpet\"}], \"heatmap\": [{\"colorbar\": {\"outlinewidth\": 0, \"ticks\": \"\"}, \"colorscale\": [[0.0, \"#0d0887\"], [0.1111111111111111, \"#46039f\"], [0.2222222222222222, \"#7201a8\"], [0.3333333333333333, \"#9c179e\"], [0.4444444444444444, \"#bd3786\"], [0.5555555555555556, \"#d8576b\"], [0.6666666666666666, \"#ed7953\"], [0.7777777777777778, \"#fb9f3a\"], [0.8888888888888888, \"#fdca26\"], [1.0, \"#f0f921\"]], \"type\": \"heatmap\"}], \"heatmapgl\": [{\"colorbar\": {\"outlinewidth\": 0, \"ticks\": \"\"}, \"colorscale\": [[0.0, \"#0d0887\"], [0.1111111111111111, \"#46039f\"], [0.2222222222222222, \"#7201a8\"], [0.3333333333333333, \"#9c179e\"], [0.4444444444444444, \"#bd3786\"], [0.5555555555555556, \"#d8576b\"], [0.6666666666666666, \"#ed7953\"], [0.7777777777777778, \"#fb9f3a\"], [0.8888888888888888, \"#fdca26\"], [1.0, \"#f0f921\"]], \"type\": \"heatmapgl\"}], \"histogram\": [{\"marker\": {\"colorbar\": {\"outlinewidth\": 0, \"ticks\": \"\"}}, \"type\": \"histogram\"}], \"histogram2d\": [{\"colorbar\": {\"outlinewidth\": 0, \"ticks\": \"\"}, \"colorscale\": [[0.0, \"#0d0887\"], [0.1111111111111111, \"#46039f\"], [0.2222222222222222, \"#7201a8\"], [0.3333333333333333, \"#9c179e\"], [0.4444444444444444, \"#bd3786\"], [0.5555555555555556, \"#d8576b\"], [0.6666666666666666, \"#ed7953\"], [0.7777777777777778, \"#fb9f3a\"], [0.8888888888888888, \"#fdca26\"], [1.0, \"#f0f921\"]], \"type\": \"histogram2d\"}], \"histogram2dcontour\": [{\"colorbar\": {\"outlinewidth\": 0, \"ticks\": \"\"}, \"colorscale\": [[0.0, \"#0d0887\"], [0.1111111111111111, \"#46039f\"], [0.2222222222222222, \"#7201a8\"], [0.3333333333333333, \"#9c179e\"], [0.4444444444444444, \"#bd3786\"], [0.5555555555555556, \"#d8576b\"], [0.6666666666666666, \"#ed7953\"], [0.7777777777777778, \"#fb9f3a\"], [0.8888888888888888, \"#fdca26\"], [1.0, \"#f0f921\"]], \"type\": \"histogram2dcontour\"}], \"mesh3d\": [{\"colorbar\": {\"outlinewidth\": 0, \"ticks\": \"\"}, \"type\": \"mesh3d\"}], \"parcoords\": [{\"line\": {\"colorbar\": {\"outlinewidth\": 0, \"ticks\": \"\"}}, \"type\": \"parcoords\"}], \"pie\": [{\"automargin\": true, \"type\": \"pie\"}], \"scatter\": [{\"marker\": {\"colorbar\": {\"outlinewidth\": 0, \"ticks\": \"\"}}, \"type\": \"scatter\"}], \"scatter3d\": [{\"line\": {\"colorbar\": {\"outlinewidth\": 0, \"ticks\": \"\"}}, \"marker\": {\"colorbar\": {\"outlinewidth\": 0, \"ticks\": \"\"}}, \"type\": \"scatter3d\"}], \"scattercarpet\": [{\"marker\": {\"colorbar\": {\"outlinewidth\": 0, \"ticks\": \"\"}}, \"type\": \"scattercarpet\"}], \"scattergeo\": [{\"marker\": {\"colorbar\": {\"outlinewidth\": 0, \"ticks\": \"\"}}, \"type\": \"scattergeo\"}], \"scattergl\": [{\"marker\": {\"colorbar\": {\"outlinewidth\": 0, \"ticks\": \"\"}}, \"type\": \"scattergl\"}], \"scattermapbox\": [{\"marker\": {\"colorbar\": {\"outlinewidth\": 0, \"ticks\": \"\"}}, \"type\": \"scattermapbox\"}], \"scatterpolar\": [{\"marker\": {\"colorbar\": {\"outlinewidth\": 0, \"ticks\": \"\"}}, \"type\": \"scatterpolar\"}], \"scatterpolargl\": [{\"marker\": {\"colorbar\": {\"outlinewidth\": 0, \"ticks\": \"\"}}, \"type\": \"scatterpolargl\"}], \"scatterternary\": [{\"marker\": {\"colorbar\": {\"outlinewidth\": 0, \"ticks\": \"\"}}, \"type\": \"scatterternary\"}], \"surface\": [{\"colorbar\": {\"outlinewidth\": 0, \"ticks\": \"\"}, \"colorscale\": [[0.0, \"#0d0887\"], [0.1111111111111111, \"#46039f\"], [0.2222222222222222, \"#7201a8\"], [0.3333333333333333, \"#9c179e\"], [0.4444444444444444, \"#bd3786\"], [0.5555555555555556, \"#d8576b\"], [0.6666666666666666, \"#ed7953\"], [0.7777777777777778, \"#fb9f3a\"], [0.8888888888888888, \"#fdca26\"], [1.0, \"#f0f921\"]], \"type\": \"surface\"}], \"table\": [{\"cells\": {\"fill\": {\"color\": \"#EBF0F8\"}, \"line\": {\"color\": \"white\"}}, \"header\": {\"fill\": {\"color\": \"#C8D4E3\"}, \"line\": {\"color\": \"white\"}}, \"type\": \"table\"}]}, \"layout\": {\"annotationdefaults\": {\"arrowcolor\": \"#2a3f5f\", \"arrowhead\": 0, \"arrowwidth\": 1}, \"autotypenumbers\": \"strict\", \"coloraxis\": {\"colorbar\": {\"outlinewidth\": 0, \"ticks\": \"\"}}, \"colorscale\": {\"diverging\": [[0, \"#8e0152\"], [0.1, \"#c51b7d\"], [0.2, \"#de77ae\"], [0.3, \"#f1b6da\"], [0.4, \"#fde0ef\"], [0.5, \"#f7f7f7\"], [0.6, \"#e6f5d0\"], [0.7, \"#b8e186\"], [0.8, \"#7fbc41\"], [0.9, \"#4d9221\"], [1, \"#276419\"]], \"sequential\": [[0.0, \"#0d0887\"], [0.1111111111111111, \"#46039f\"], [0.2222222222222222, \"#7201a8\"], [0.3333333333333333, \"#9c179e\"], [0.4444444444444444, \"#bd3786\"], [0.5555555555555556, \"#d8576b\"], [0.6666666666666666, \"#ed7953\"], [0.7777777777777778, \"#fb9f3a\"], [0.8888888888888888, \"#fdca26\"], [1.0, \"#f0f921\"]], \"sequentialminus\": [[0.0, \"#0d0887\"], [0.1111111111111111, \"#46039f\"], [0.2222222222222222, \"#7201a8\"], [0.3333333333333333, \"#9c179e\"], [0.4444444444444444, \"#bd3786\"], [0.5555555555555556, \"#d8576b\"], [0.6666666666666666, \"#ed7953\"], [0.7777777777777778, \"#fb9f3a\"], [0.8888888888888888, \"#fdca26\"], [1.0, \"#f0f921\"]]}, \"colorway\": [\"#636efa\", \"#EF553B\", \"#00cc96\", \"#ab63fa\", \"#FFA15A\", \"#19d3f3\", \"#FF6692\", \"#B6E880\", \"#FF97FF\", \"#FECB52\"], \"font\": {\"color\": \"#2a3f5f\"}, \"geo\": {\"bgcolor\": \"white\", \"lakecolor\": \"white\", \"landcolor\": \"#E5ECF6\", \"showlakes\": true, \"showland\": true, \"subunitcolor\": \"white\"}, \"hoverlabel\": {\"align\": \"left\"}, \"hovermode\": \"closest\", \"mapbox\": {\"style\": \"light\"}, \"paper_bgcolor\": \"white\", \"plot_bgcolor\": \"#E5ECF6\", \"polar\": {\"angularaxis\": {\"gridcolor\": \"white\", \"linecolor\": \"white\", \"ticks\": \"\"}, \"bgcolor\": \"#E5ECF6\", \"radialaxis\": {\"gridcolor\": \"white\", \"linecolor\": \"white\", \"ticks\": \"\"}}, \"scene\": {\"xaxis\": {\"backgroundcolor\": \"#E5ECF6\", \"gridcolor\": \"white\", \"gridwidth\": 2, \"linecolor\": \"white\", \"showbackground\": true, \"ticks\": \"\", \"zerolinecolor\": \"white\"}, \"yaxis\": {\"backgroundcolor\": \"#E5ECF6\", \"gridcolor\": \"white\", \"gridwidth\": 2, \"linecolor\": \"white\", \"showbackground\": true, \"ticks\": \"\", \"zerolinecolor\": \"white\"}, \"zaxis\": {\"backgroundcolor\": \"#E5ECF6\", \"gridcolor\": \"white\", \"gridwidth\": 2, \"linecolor\": \"white\", \"showbackground\": true, \"ticks\": \"\", \"zerolinecolor\": \"white\"}}, \"shapedefaults\": {\"line\": {\"color\": \"#2a3f5f\"}}, \"ternary\": {\"aaxis\": {\"gridcolor\": \"white\", \"linecolor\": \"white\", \"ticks\": \"\"}, \"baxis\": {\"gridcolor\": \"white\", \"linecolor\": \"white\", \"ticks\": \"\"}, \"bgcolor\": \"#E5ECF6\", \"caxis\": {\"gridcolor\": \"white\", \"linecolor\": \"white\", \"ticks\": \"\"}}, \"title\": {\"x\": 0.05}, \"xaxis\": {\"automargin\": true, \"gridcolor\": \"white\", \"linecolor\": \"white\", \"ticks\": \"\", \"title\": {\"standoff\": 15}, \"zerolinecolor\": \"white\", \"zerolinewidth\": 2}, \"yaxis\": {\"automargin\": true, \"gridcolor\": \"white\", \"linecolor\": \"white\", \"ticks\": \"\", \"title\": {\"standoff\": 15}, \"zerolinecolor\": \"white\", \"zerolinewidth\": 2}}}, \"title\": {\"text\": \"FBProphet vs Buy&Hold\"}, \"xaxis\": {\"anchor\": \"y\", \"domain\": [0.0, 1.0], \"title\": {\"text\": \"ds\"}}, \"yaxis\": {\"anchor\": \"x\", \"domain\": [0.0, 1.0], \"title\": {\"text\": \"Portfolio Balance\"}}},                        {\"responsive\": true}                    ).then(function(){\n",
       "                            \n",
       "var gd = document.getElementById('dc788d89-80f3-4ac1-90db-2b0a14e238c4');\n",
       "var x = new MutationObserver(function (mutations, observer) {{\n",
       "        var display = window.getComputedStyle(gd).display;\n",
       "        if (!display || display === 'none') {{\n",
       "            console.log([gd, 'removed!']);\n",
       "            Plotly.purge(gd);\n",
       "            observer.disconnect();\n",
       "        }}\n",
       "}});\n",
       "\n",
       "// Listen for the removal of the full notebook cells\n",
       "var notebookContainer = gd.closest('#notebook-container');\n",
       "if (notebookContainer) {{\n",
       "    x.observe(notebookContainer, {childList: true});\n",
       "}}\n",
       "\n",
       "// Listen for the clearing of the current output cell\n",
       "var outputEl = gd.closest('.output');\n",
       "if (outputEl) {{\n",
       "    x.observe(outputEl, {childList: true});\n",
       "}}\n",
       "\n",
       "                        })                };                });            </script>        </div>"
      ]
     },
     "metadata": {},
     "output_type": "display_data"
    }
   ],
   "source": [
    "# Visualizing results\n",
    "fig = px.line(\n",
    "    performance,\n",
    "    x=performance.index,\n",
    "    y=performance.columns,\n",
    "    title='FBProphet vs Buy&Hold',\n",
    "    labels={\"value\": \"Portfolio Balance\",\n",
    "            \"index\": \"Date\"}\n",
    ")\n",
    "\n",
    "fig.show()"
   ]
  },
  {
   "cell_type": "markdown",
   "metadata": {},
   "source": [
    "# Consolidating Backtest Functions"
   ]
  },
  {
   "cell_type": "code",
   "execution_count": 48,
   "metadata": {},
   "outputs": [],
   "source": [
    "def backtestStock(stock, pred_df, prices, visualize=True):\n",
    "    \n",
    "    # Adding positions to the forecast DF\n",
    "    positions = pred_df\n",
    "\n",
    "    # Getting forecast prophet positions \n",
    "    positions['fbp_positions'] = positions.apply(\n",
    "        lambda x: fbpPositions(x, short=True), \n",
    "        axis=1\n",
    "    )\n",
    "\n",
    "    # Buy and hold position\n",
    "    positions['buy_hold'] = 1\n",
    "    \n",
    "    # Getting daily returns\n",
    "    log_returns = prices[['ds', 'Close']].set_index(\n",
    "        'ds'\n",
    "    ).loc[positions.index].apply(np.log).diff()\n",
    "    \n",
    "    # The positions to backtest (shifted ahead by 1 to prevent lookahead bias)\n",
    "    bt_positions = positions[[\n",
    "        'buy_hold', \n",
    "        'fbp_positions'\n",
    "    ]].shift(1)\n",
    "\n",
    "    # The returns during the backtest\n",
    "    returns = bt_positions.multiply(\n",
    "        log_returns['Close'], \n",
    "        axis=0\n",
    "    )\n",
    "\n",
    "    # Inversing the log returns to get daily portfolio balance\n",
    "    performance = returns.cumsum().apply(\n",
    "        np.exp\n",
    "    ).dropna().fillna(\n",
    "        method='ffill'\n",
    "    )\n",
    "    \n",
    "    # Performing risk analysis\n",
    "    risk = riskAnalysis(performance)\n",
    "    \n",
    "    # Visualizing results\n",
    "    if risk['result']==True:\n",
    "        fig = px.line(\n",
    "            performance,\n",
    "            x=performance.index,\n",
    "            y=performance.columns,\n",
    "            title=f'FBProphet vs Buy&Hold for {stock}',\n",
    "            labels={\"value\": \"Portfolio Balance\",\n",
    "                    \"index\": \"Date\"}\n",
    "        )\n",
    "\n",
    "        fig.show()\n",
    "                \n",
    "    return risk"
   ]
  },
  {
   "cell_type": "markdown",
   "metadata": {},
   "source": [
    "# Parameter Tuning"
   ]
  },
  {
   "cell_type": "code",
   "execution_count": 49,
   "metadata": {},
   "outputs": [],
   "source": [
    "def parameterTuning(stock, n_days_lst, training_days_lst, mov_avg_lst, forecast_period_lst, stop_early=True):\n",
    "    \"\"\"\n",
    "    Given a list of parameters for a specific stock. Iterates through\n",
    "    different combination of parameters until a successful backtest\n",
    "    performance is found.\n",
    "    \n",
    "    Optional stop_early variable for stopping tuning immediately \n",
    "    when a positive backtest result is found\n",
    "    \"\"\"\n",
    "    \n",
    "    # Tuning the stock with FB Prophet\n",
    "    print(f\"Tuning FBP parameters for {stock}. . .\")\n",
    "    \n",
    "    # All combinations of the parameters\n",
    "    params = [n_days_lst, training_days_lst, mov_avg_lst, forecast_period_lst]\n",
    "    \n",
    "    lst_params = list(itertools.product(*params))\n",
    "    \n",
    "    # Randomizing order of params\n",
    "    random.shuffle(lst_params)\n",
    "    \n",
    "    # List of tested params\n",
    "    param_lst = []\n",
    "    \n",
    "    # Iterating through combos\n",
    "    for param in tqdm(lst_params):\n",
    "\n",
    "        # Retrieving prices with the given parameters\n",
    "        prices = getStockPrices(\n",
    "            stock, \n",
    "            n_days=param[0],\n",
    "            training_days=param[1], \n",
    "            mov_avg=param[2]\n",
    "        )\n",
    "\n",
    "        # Checking if the prices retrieved are empty\n",
    "        if prices.empty:\n",
    "            print(f\"Not enough price history for {stock}; skipping backtest...\")\n",
    "            continue\n",
    "\n",
    "        # Running Facebook Prophet with the set parameters\n",
    "        pred_df = runningFBP(\n",
    "            prices, \n",
    "            forecast_period=param[3], \n",
    "            training_days=param[1]\n",
    "        )\n",
    "\n",
    "        # Running backtest\n",
    "        backtest = backtestStock(stock, pred_df, prices, visualize=False)\n",
    "        \n",
    "        # Creating param dictionary to record results\n",
    "        res = {\n",
    "            \"n_days\": param[0],\n",
    "            \"training_days\": param[1],\n",
    "            \"mov_avg\": param[2],\n",
    "            \"forecast_period\": param[3],\n",
    "            \"backtestAnalysis\": backtest\n",
    "        }\n",
    "        \n",
    "        # Appending the results\n",
    "        param_lst.append(res)\n",
    "                \n",
    "        # Checking backtest result\n",
    "        if backtest['result']==True and stop_early==True:\n",
    "                        \n",
    "            return {\n",
    "                \"optimumParamLst\": sorted(\n",
    "                    param_lst, \n",
    "                    key=lambda x: x['backtestAnalysis']['endingBalance']['prophet'],\n",
    "                    reverse=True),\n",
    "                \"optimumResultFound\": True\n",
    "            }\n",
    "        \n",
    "    return {\n",
    "        \"optimumParamLst\": sorted(\n",
    "            param_lst, \n",
    "            key=lambda x: x['backtestAnalysis']['endingBalance']['prophet'],\n",
    "            reverse=True),\n",
    "        \"optimumResultFound\": False\n",
    "    }"
   ]
  },
  {
   "cell_type": "markdown",
   "metadata": {},
   "source": [
    "## Tuning Parameters"
   ]
  },
  {
   "cell_type": "code",
   "execution_count": 11,
   "metadata": {
    "collapsed": true,
    "jupyter": {
     "outputs_hidden": true
    }
   },
   "outputs": [
    {
     "name": "stdout",
     "output_type": "stream",
     "text": [
      "Tuning FBP parameters for TSLA. . .\n"
     ]
    },
    {
     "data": {
      "application/vnd.jupyter.widget-view+json": {
       "model_id": "8fb89728a0ed4e088b6a62d868d54f1d",
       "version_major": 2,
       "version_minor": 0
      },
      "text/plain": [
       "  0%|          | 0/36 [00:00<?, ?it/s]"
      ]
     },
     "metadata": {},
     "output_type": "display_data"
    },
    {
     "data": {
      "application/vnd.jupyter.widget-view+json": {
       "model_id": "",
       "version_major": 2,
       "version_minor": 0
      },
      "text/plain": [
       "  0%|          | 0/62 [00:00<?, ?it/s]"
      ]
     },
     "metadata": {},
     "output_type": "display_data"
    },
    {
     "name": "stderr",
     "output_type": "stream",
     "text": [
      "WARNING:prophet.models:Optimization terminated abnormally. Falling back to Newton.\n",
      "WARNING:prophet.models:Optimization terminated abnormally. Falling back to Newton.\n"
     ]
    },
    {
     "data": {
      "application/vnd.jupyter.widget-view+json": {
       "model_id": "",
       "version_major": 2,
       "version_minor": 0
      },
      "text/plain": [
       "  0%|          | 0/32 [00:00<?, ?it/s]"
      ]
     },
     "metadata": {},
     "output_type": "display_data"
    },
    {
     "data": {
      "application/vnd.jupyter.widget-view+json": {
       "model_id": "",
       "version_major": 2,
       "version_minor": 0
      },
      "text/plain": [
       "  0%|          | 0/62 [00:00<?, ?it/s]"
      ]
     },
     "metadata": {},
     "output_type": "display_data"
    },
    {
     "data": {
      "application/vnd.jupyter.widget-view+json": {
       "model_id": "",
       "version_major": 2,
       "version_minor": 0
      },
      "text/plain": [
       "  0%|          | 0/32 [00:00<?, ?it/s]"
      ]
     },
     "metadata": {},
     "output_type": "display_data"
    },
    {
     "data": {
      "application/vnd.jupyter.widget-view+json": {
       "model_id": "",
       "version_major": 2,
       "version_minor": 0
      },
      "text/plain": [
       "  0%|          | 0/62 [00:00<?, ?it/s]"
      ]
     },
     "metadata": {},
     "output_type": "display_data"
    },
    {
     "data": {
      "application/vnd.jupyter.widget-view+json": {
       "model_id": "",
       "version_major": 2,
       "version_minor": 0
      },
      "text/plain": [
       "  0%|          | 0/62 [00:00<?, ?it/s]"
      ]
     },
     "metadata": {},
     "output_type": "display_data"
    },
    {
     "name": "stderr",
     "output_type": "stream",
     "text": [
      "WARNING:prophet.models:Optimization terminated abnormally. Falling back to Newton.\n",
      "WARNING:prophet.models:Optimization terminated abnormally. Falling back to Newton.\n"
     ]
    },
    {
     "data": {
      "application/vnd.jupyter.widget-view+json": {
       "model_id": "",
       "version_major": 2,
       "version_minor": 0
      },
      "text/plain": [
       "  0%|          | 0/32 [00:00<?, ?it/s]"
      ]
     },
     "metadata": {},
     "output_type": "display_data"
    },
    {
     "data": {
      "application/vnd.jupyter.widget-view+json": {
       "model_id": "",
       "version_major": 2,
       "version_minor": 0
      },
      "text/plain": [
       "  0%|          | 0/32 [00:00<?, ?it/s]"
      ]
     },
     "metadata": {},
     "output_type": "display_data"
    },
    {
     "data": {
      "application/vnd.jupyter.widget-view+json": {
       "model_id": "",
       "version_major": 2,
       "version_minor": 0
      },
      "text/plain": [
       "  0%|          | 0/62 [00:00<?, ?it/s]"
      ]
     },
     "metadata": {},
     "output_type": "display_data"
    },
    {
     "data": {
      "application/vnd.jupyter.widget-view+json": {
       "model_id": "",
       "version_major": 2,
       "version_minor": 0
      },
      "text/plain": [
       "  0%|          | 0/32 [00:00<?, ?it/s]"
      ]
     },
     "metadata": {},
     "output_type": "display_data"
    },
    {
     "data": {
      "application/vnd.jupyter.widget-view+json": {
       "model_id": "",
       "version_major": 2,
       "version_minor": 0
      },
      "text/plain": [
       "  0%|          | 0/32 [00:00<?, ?it/s]"
      ]
     },
     "metadata": {},
     "output_type": "display_data"
    },
    {
     "data": {
      "application/vnd.jupyter.widget-view+json": {
       "model_id": "",
       "version_major": 2,
       "version_minor": 0
      },
      "text/plain": [
       "  0%|          | 0/62 [00:00<?, ?it/s]"
      ]
     },
     "metadata": {},
     "output_type": "display_data"
    },
    {
     "name": "stderr",
     "output_type": "stream",
     "text": [
      "WARNING:prophet.models:Optimization terminated abnormally. Falling back to Newton.\n",
      "WARNING:prophet.models:Optimization terminated abnormally. Falling back to Newton.\n"
     ]
    },
    {
     "data": {
      "application/vnd.jupyter.widget-view+json": {
       "model_id": "",
       "version_major": 2,
       "version_minor": 0
      },
      "text/plain": [
       "  0%|          | 0/32 [00:00<?, ?it/s]"
      ]
     },
     "metadata": {},
     "output_type": "display_data"
    },
    {
     "data": {
      "application/vnd.jupyter.widget-view+json": {
       "model_id": "",
       "version_major": 2,
       "version_minor": 0
      },
      "text/plain": [
       "  0%|          | 0/32 [00:00<?, ?it/s]"
      ]
     },
     "metadata": {},
     "output_type": "display_data"
    },
    {
     "data": {
      "application/vnd.jupyter.widget-view+json": {
       "model_id": "",
       "version_major": 2,
       "version_minor": 0
      },
      "text/plain": [
       "  0%|          | 0/32 [00:00<?, ?it/s]"
      ]
     },
     "metadata": {},
     "output_type": "display_data"
    },
    {
     "data": {
      "application/vnd.jupyter.widget-view+json": {
       "model_id": "",
       "version_major": 2,
       "version_minor": 0
      },
      "text/plain": [
       "  0%|          | 0/62 [00:00<?, ?it/s]"
      ]
     },
     "metadata": {},
     "output_type": "display_data"
    },
    {
     "data": {
      "application/vnd.jupyter.widget-view+json": {
       "model_id": "ff76595889324fa2b041a73089edc957",
       "version_major": 2,
       "version_minor": 0
      },
      "text/plain": [
       "  0%|          | 0/62 [00:00<?, ?it/s]"
      ]
     },
     "metadata": {},
     "output_type": "display_data"
    },
    {
     "name": "stderr",
     "output_type": "stream",
     "text": [
      "WARNING:prophet.models:Optimization terminated abnormally. Falling back to Newton.\n"
     ]
    },
    {
     "ename": "SystemError",
     "evalue": "<class 'stanfit4anon_model_dfdaf2b8ece8a02eb11f050ec701c0ec_7128984508780535170.PyStanHolder'> returned a result with an error set",
     "output_type": "error",
     "traceback": [
      "\u001b[0;31m---------------------------------------------------------------------------\u001b[0m",
      "\u001b[0;31mRuntimeError\u001b[0m                              Traceback (most recent call last)",
      "\u001b[0;32m~/miniforge3/lib/python3.9/site-packages/prophet/models.py\u001b[0m in \u001b[0;36mfit\u001b[0;34m(self, stan_init, stan_data, **kwargs)\u001b[0m\n\u001b[1;32m    263\u001b[0m         \u001b[0;32mtry\u001b[0m\u001b[0;34m:\u001b[0m\u001b[0;34m\u001b[0m\u001b[0;34m\u001b[0m\u001b[0m\n\u001b[0;32m--> 264\u001b[0;31m             \u001b[0mself\u001b[0m\u001b[0;34m.\u001b[0m\u001b[0mstan_fit\u001b[0m \u001b[0;34m=\u001b[0m \u001b[0mself\u001b[0m\u001b[0;34m.\u001b[0m\u001b[0mmodel\u001b[0m\u001b[0;34m.\u001b[0m\u001b[0moptimizing\u001b[0m\u001b[0;34m(\u001b[0m\u001b[0;34m**\u001b[0m\u001b[0margs\u001b[0m\u001b[0;34m)\u001b[0m\u001b[0;34m\u001b[0m\u001b[0;34m\u001b[0m\u001b[0m\n\u001b[0m\u001b[1;32m    265\u001b[0m         \u001b[0;32mexcept\u001b[0m \u001b[0mRuntimeError\u001b[0m \u001b[0;32mas\u001b[0m \u001b[0me\u001b[0m\u001b[0;34m:\u001b[0m\u001b[0;34m\u001b[0m\u001b[0;34m\u001b[0m\u001b[0m\n",
      "\u001b[0;32m~/miniforge3/lib/python3.9/site-packages/pystan/model.py\u001b[0m in \u001b[0;36moptimizing\u001b[0;34m(self, data, seed, init, sample_file, algorithm, verbose, as_vector, **kwargs)\u001b[0m\n\u001b[1;32m    580\u001b[0m \u001b[0;34m\u001b[0m\u001b[0m\n\u001b[0;32m--> 581\u001b[0;31m         \u001b[0mret\u001b[0m\u001b[0;34m,\u001b[0m \u001b[0msample\u001b[0m \u001b[0;34m=\u001b[0m \u001b[0mfit\u001b[0m\u001b[0;34m.\u001b[0m\u001b[0m_call_sampler\u001b[0m\u001b[0;34m(\u001b[0m\u001b[0mstan_args\u001b[0m\u001b[0;34m)\u001b[0m\u001b[0;34m\u001b[0m\u001b[0;34m\u001b[0m\u001b[0m\n\u001b[0m\u001b[1;32m    582\u001b[0m         \u001b[0mpars\u001b[0m \u001b[0;34m=\u001b[0m \u001b[0mpystan\u001b[0m\u001b[0;34m.\u001b[0m\u001b[0mmisc\u001b[0m\u001b[0;34m.\u001b[0m\u001b[0m_par_vector2dict\u001b[0m\u001b[0;34m(\u001b[0m\u001b[0msample\u001b[0m\u001b[0;34m[\u001b[0m\u001b[0;34m'par'\u001b[0m\u001b[0;34m]\u001b[0m\u001b[0;34m,\u001b[0m \u001b[0mm_pars\u001b[0m\u001b[0;34m,\u001b[0m \u001b[0mp_dims\u001b[0m\u001b[0;34m)\u001b[0m\u001b[0;34m\u001b[0m\u001b[0;34m\u001b[0m\u001b[0m\n",
      "\u001b[0;32mstanfit4anon_model_dfdaf2b8ece8a02eb11f050ec701c0ec_7128984508780535170.pyx\u001b[0m in \u001b[0;36mstanfit4anon_model_dfdaf2b8ece8a02eb11f050ec701c0ec_7128984508780535170.StanFit4Model._call_sampler\u001b[0;34m()\u001b[0m\n",
      "\u001b[0;32mstanfit4anon_model_dfdaf2b8ece8a02eb11f050ec701c0ec_7128984508780535170.pyx\u001b[0m in \u001b[0;36mstanfit4anon_model_dfdaf2b8ece8a02eb11f050ec701c0ec_7128984508780535170._call_sampler\u001b[0;34m()\u001b[0m\n",
      "\u001b[0;31mRuntimeError\u001b[0m: Something went wrong after call_sampler.",
      "\nDuring handling of the above exception, another exception occurred:\n",
      "\u001b[0;31mKeyboardInterrupt\u001b[0m                         Traceback (most recent call last)",
      "\u001b[0;31mKeyboardInterrupt\u001b[0m: ",
      "\nThe above exception was the direct cause of the following exception:\n",
      "\u001b[0;31mSystemError\u001b[0m                               Traceback (most recent call last)",
      "\u001b[0;32m<ipython-input-11-f1b1246a6675>\u001b[0m in \u001b[0;36m<module>\u001b[0;34m\u001b[0m\n\u001b[1;32m      9\u001b[0m \u001b[0;34m\u001b[0m\u001b[0m\n\u001b[1;32m     10\u001b[0m \u001b[0;31m# Using function to tune params\u001b[0m\u001b[0;34m\u001b[0m\u001b[0;34m\u001b[0m\u001b[0;34m\u001b[0m\u001b[0m\n\u001b[0;32m---> 11\u001b[0;31m results = parameterTuning(\n\u001b[0m\u001b[1;32m     12\u001b[0m     \u001b[0;34m\"TSLA\"\u001b[0m\u001b[0;34m,\u001b[0m\u001b[0;34m\u001b[0m\u001b[0;34m\u001b[0m\u001b[0m\n\u001b[1;32m     13\u001b[0m     \u001b[0mn_days_lst\u001b[0m\u001b[0;34m,\u001b[0m\u001b[0;34m\u001b[0m\u001b[0;34m\u001b[0m\u001b[0m\n",
      "\u001b[0;32m<ipython-input-10-93f7ce84d546>\u001b[0m in \u001b[0;36mparameterTuning\u001b[0;34m(stock, n_days_lst, training_days_lst, mov_avg_lst, forecast_period_lst, stop_early)\u001b[0m\n\u001b[1;32m     40\u001b[0m \u001b[0;34m\u001b[0m\u001b[0m\n\u001b[1;32m     41\u001b[0m         \u001b[0;31m# Running Facebook Prophet with the set parameters\u001b[0m\u001b[0;34m\u001b[0m\u001b[0;34m\u001b[0m\u001b[0;34m\u001b[0m\u001b[0m\n\u001b[0;32m---> 42\u001b[0;31m         pred_df = runningFBP(\n\u001b[0m\u001b[1;32m     43\u001b[0m             \u001b[0mprices\u001b[0m\u001b[0;34m,\u001b[0m\u001b[0;34m\u001b[0m\u001b[0;34m\u001b[0m\u001b[0m\n\u001b[1;32m     44\u001b[0m             \u001b[0mforecast_period\u001b[0m\u001b[0;34m=\u001b[0m\u001b[0mparam\u001b[0m\u001b[0;34m[\u001b[0m\u001b[0;36m3\u001b[0m\u001b[0;34m]\u001b[0m\u001b[0;34m,\u001b[0m\u001b[0;34m\u001b[0m\u001b[0;34m\u001b[0m\u001b[0m\n",
      "\u001b[0;32m<ipython-input-6-0b3a136a3afa>\u001b[0m in \u001b[0;36mrunningFBP\u001b[0;34m(prices, forecast_period, training_days)\u001b[0m\n\u001b[1;32m     12\u001b[0m \u001b[0;34m\u001b[0m\u001b[0m\n\u001b[1;32m     13\u001b[0m         \u001b[0;31m# Training and Predicting the last day on the forecast\u001b[0m\u001b[0;34m\u001b[0m\u001b[0;34m\u001b[0m\u001b[0;34m\u001b[0m\u001b[0m\n\u001b[0;32m---> 14\u001b[0;31m         forecast = fbpTrainPredict(\n\u001b[0m\u001b[1;32m     15\u001b[0m             \u001b[0mprices\u001b[0m\u001b[0;34m[\u001b[0m\u001b[0mi\u001b[0m\u001b[0;34m-\u001b[0m\u001b[0mtraining_days\u001b[0m\u001b[0;34m:\u001b[0m\u001b[0mi\u001b[0m\u001b[0;34m]\u001b[0m\u001b[0;34m,\u001b[0m\u001b[0;34m\u001b[0m\u001b[0;34m\u001b[0m\u001b[0m\n\u001b[1;32m     16\u001b[0m             \u001b[0mforecast_period\u001b[0m\u001b[0;34m\u001b[0m\u001b[0;34m\u001b[0m\u001b[0m\n",
      "\u001b[0;32m<ipython-input-5-858d98701afd>\u001b[0m in \u001b[0;36mfbpTrainPredict\u001b[0;34m(df, forecast_period)\u001b[0m\n\u001b[1;32m     12\u001b[0m \u001b[0;34m\u001b[0m\u001b[0m\n\u001b[1;32m     13\u001b[0m     \u001b[0;31m# Fitting to the prices\u001b[0m\u001b[0;34m\u001b[0m\u001b[0;34m\u001b[0m\u001b[0;34m\u001b[0m\u001b[0m\n\u001b[0;32m---> 14\u001b[0;31m     \u001b[0mm\u001b[0m\u001b[0;34m.\u001b[0m\u001b[0mfit\u001b[0m\u001b[0;34m(\u001b[0m\u001b[0mdf\u001b[0m\u001b[0;34m[\u001b[0m\u001b[0;34m[\u001b[0m\u001b[0;34m'ds'\u001b[0m\u001b[0;34m,\u001b[0m \u001b[0;34m'y'\u001b[0m\u001b[0;34m]\u001b[0m\u001b[0;34m]\u001b[0m\u001b[0;34m)\u001b[0m\u001b[0;34m\u001b[0m\u001b[0;34m\u001b[0m\u001b[0m\n\u001b[0m\u001b[1;32m     15\u001b[0m \u001b[0;34m\u001b[0m\u001b[0m\n\u001b[1;32m     16\u001b[0m     \u001b[0;31m# Future DF\u001b[0m\u001b[0;34m\u001b[0m\u001b[0;34m\u001b[0m\u001b[0;34m\u001b[0m\u001b[0m\n",
      "\u001b[0;32m~/miniforge3/lib/python3.9/site-packages/prophet/forecaster.py\u001b[0m in \u001b[0;36mfit\u001b[0;34m(self, df, **kwargs)\u001b[0m\n\u001b[1;32m   1169\u001b[0m             \u001b[0mself\u001b[0m\u001b[0;34m.\u001b[0m\u001b[0mparams\u001b[0m \u001b[0;34m=\u001b[0m \u001b[0mself\u001b[0m\u001b[0;34m.\u001b[0m\u001b[0mstan_backend\u001b[0m\u001b[0;34m.\u001b[0m\u001b[0msampling\u001b[0m\u001b[0;34m(\u001b[0m\u001b[0mstan_init\u001b[0m\u001b[0;34m,\u001b[0m \u001b[0mdat\u001b[0m\u001b[0;34m,\u001b[0m \u001b[0mself\u001b[0m\u001b[0;34m.\u001b[0m\u001b[0mmcmc_samples\u001b[0m\u001b[0;34m,\u001b[0m \u001b[0;34m**\u001b[0m\u001b[0mkwargs\u001b[0m\u001b[0;34m)\u001b[0m\u001b[0;34m\u001b[0m\u001b[0;34m\u001b[0m\u001b[0m\n\u001b[1;32m   1170\u001b[0m         \u001b[0;32melse\u001b[0m\u001b[0;34m:\u001b[0m\u001b[0;34m\u001b[0m\u001b[0;34m\u001b[0m\u001b[0m\n\u001b[0;32m-> 1171\u001b[0;31m             \u001b[0mself\u001b[0m\u001b[0;34m.\u001b[0m\u001b[0mparams\u001b[0m \u001b[0;34m=\u001b[0m \u001b[0mself\u001b[0m\u001b[0;34m.\u001b[0m\u001b[0mstan_backend\u001b[0m\u001b[0;34m.\u001b[0m\u001b[0mfit\u001b[0m\u001b[0;34m(\u001b[0m\u001b[0mstan_init\u001b[0m\u001b[0;34m,\u001b[0m \u001b[0mdat\u001b[0m\u001b[0;34m,\u001b[0m \u001b[0;34m**\u001b[0m\u001b[0mkwargs\u001b[0m\u001b[0;34m)\u001b[0m\u001b[0;34m\u001b[0m\u001b[0;34m\u001b[0m\u001b[0m\n\u001b[0m\u001b[1;32m   1172\u001b[0m \u001b[0;34m\u001b[0m\u001b[0m\n\u001b[1;32m   1173\u001b[0m         \u001b[0mself\u001b[0m\u001b[0;34m.\u001b[0m\u001b[0mstan_fit\u001b[0m \u001b[0;34m=\u001b[0m \u001b[0mself\u001b[0m\u001b[0;34m.\u001b[0m\u001b[0mstan_backend\u001b[0m\u001b[0;34m.\u001b[0m\u001b[0mstan_fit\u001b[0m\u001b[0;34m\u001b[0m\u001b[0;34m\u001b[0m\u001b[0m\n",
      "\u001b[0;32m~/miniforge3/lib/python3.9/site-packages/prophet/models.py\u001b[0m in \u001b[0;36mfit\u001b[0;34m(self, stan_init, stan_data, **kwargs)\u001b[0m\n\u001b[1;32m    270\u001b[0m                 )\n\u001b[1;32m    271\u001b[0m                 \u001b[0margs\u001b[0m\u001b[0;34m[\u001b[0m\u001b[0;34m'algorithm'\u001b[0m\u001b[0;34m]\u001b[0m \u001b[0;34m=\u001b[0m \u001b[0;34m'Newton'\u001b[0m\u001b[0;34m\u001b[0m\u001b[0;34m\u001b[0m\u001b[0m\n\u001b[0;32m--> 272\u001b[0;31m                 \u001b[0mself\u001b[0m\u001b[0;34m.\u001b[0m\u001b[0mstan_fit\u001b[0m \u001b[0;34m=\u001b[0m \u001b[0mself\u001b[0m\u001b[0;34m.\u001b[0m\u001b[0mmodel\u001b[0m\u001b[0;34m.\u001b[0m\u001b[0moptimizing\u001b[0m\u001b[0;34m(\u001b[0m\u001b[0;34m**\u001b[0m\u001b[0margs\u001b[0m\u001b[0;34m)\u001b[0m\u001b[0;34m\u001b[0m\u001b[0;34m\u001b[0m\u001b[0m\n\u001b[0m\u001b[1;32m    273\u001b[0m             \u001b[0;32melse\u001b[0m\u001b[0;34m:\u001b[0m\u001b[0;34m\u001b[0m\u001b[0;34m\u001b[0m\u001b[0m\n\u001b[1;32m    274\u001b[0m                 \u001b[0;32mraise\u001b[0m \u001b[0me\u001b[0m\u001b[0;34m\u001b[0m\u001b[0;34m\u001b[0m\u001b[0m\n",
      "\u001b[0;32m~/miniforge3/lib/python3.9/site-packages/pystan/model.py\u001b[0m in \u001b[0;36moptimizing\u001b[0;34m(self, data, seed, init, sample_file, algorithm, verbose, as_vector, **kwargs)\u001b[0m\n\u001b[1;32m    579\u001b[0m         \u001b[0mstan_args\u001b[0m \u001b[0;34m=\u001b[0m \u001b[0mpystan\u001b[0m\u001b[0;34m.\u001b[0m\u001b[0mmisc\u001b[0m\u001b[0;34m.\u001b[0m\u001b[0m_get_valid_stan_args\u001b[0m\u001b[0;34m(\u001b[0m\u001b[0mstan_args\u001b[0m\u001b[0;34m)\u001b[0m\u001b[0;34m\u001b[0m\u001b[0;34m\u001b[0m\u001b[0m\n\u001b[1;32m    580\u001b[0m \u001b[0;34m\u001b[0m\u001b[0m\n\u001b[0;32m--> 581\u001b[0;31m         \u001b[0mret\u001b[0m\u001b[0;34m,\u001b[0m \u001b[0msample\u001b[0m \u001b[0;34m=\u001b[0m \u001b[0mfit\u001b[0m\u001b[0;34m.\u001b[0m\u001b[0m_call_sampler\u001b[0m\u001b[0;34m(\u001b[0m\u001b[0mstan_args\u001b[0m\u001b[0;34m)\u001b[0m\u001b[0;34m\u001b[0m\u001b[0;34m\u001b[0m\u001b[0m\n\u001b[0m\u001b[1;32m    582\u001b[0m         \u001b[0mpars\u001b[0m \u001b[0;34m=\u001b[0m \u001b[0mpystan\u001b[0m\u001b[0;34m.\u001b[0m\u001b[0mmisc\u001b[0m\u001b[0;34m.\u001b[0m\u001b[0m_par_vector2dict\u001b[0m\u001b[0;34m(\u001b[0m\u001b[0msample\u001b[0m\u001b[0;34m[\u001b[0m\u001b[0;34m'par'\u001b[0m\u001b[0;34m]\u001b[0m\u001b[0;34m,\u001b[0m \u001b[0mm_pars\u001b[0m\u001b[0;34m,\u001b[0m \u001b[0mp_dims\u001b[0m\u001b[0;34m)\u001b[0m\u001b[0;34m\u001b[0m\u001b[0;34m\u001b[0m\u001b[0m\n\u001b[1;32m    583\u001b[0m         \u001b[0;32mif\u001b[0m \u001b[0;32mnot\u001b[0m \u001b[0mas_vector\u001b[0m\u001b[0;34m:\u001b[0m\u001b[0;34m\u001b[0m\u001b[0;34m\u001b[0m\u001b[0m\n",
      "\u001b[0;32mstanfit4anon_model_dfdaf2b8ece8a02eb11f050ec701c0ec_7128984508780535170.pyx\u001b[0m in \u001b[0;36mstanfit4anon_model_dfdaf2b8ece8a02eb11f050ec701c0ec_7128984508780535170.StanFit4Model._call_sampler\u001b[0;34m()\u001b[0m\n",
      "\u001b[0;32mstanfit4anon_model_dfdaf2b8ece8a02eb11f050ec701c0ec_7128984508780535170.pyx\u001b[0m in \u001b[0;36mstanfit4anon_model_dfdaf2b8ece8a02eb11f050ec701c0ec_7128984508780535170._call_sampler\u001b[0;34m()\u001b[0m\n",
      "\u001b[0;32mstanfit4anon_model_dfdaf2b8ece8a02eb11f050ec701c0ec_7128984508780535170.pyx\u001b[0m in \u001b[0;36mstanfit4anon_model_dfdaf2b8ece8a02eb11f050ec701c0ec_7128984508780535170._pystanholder_from_stanholder\u001b[0;34m()\u001b[0m\n",
      "\u001b[0;31mSystemError\u001b[0m: <class 'stanfit4anon_model_dfdaf2b8ece8a02eb11f050ec701c0ec_7128984508780535170.PyStanHolder'> returned a result with an error set"
     ]
    }
   ],
   "source": [
    "# Lists of different params to test\n",
    "n_days_lst = [20, 40]\n",
    "\n",
    "training_days_lst = [50,100,150]\n",
    "\n",
    "mov_avg_lst = [3, 5]\n",
    "\n",
    "forecast_period_lst = [3, 5]\n",
    "\n",
    "# Using function to tune params\n",
    "results = parameterTuning(\n",
    "    \"TSLA\", \n",
    "    n_days_lst, \n",
    "    training_days_lst, \n",
    "    mov_avg_lst, \n",
    "    forecast_period_lst, \n",
    "    stop_early=True\n",
    ")"
   ]
  },
  {
   "cell_type": "markdown",
   "metadata": {},
   "source": [
    "# Getting Stock and Backtest"
   ]
  },
  {
   "cell_type": "code",
   "execution_count": 50,
   "metadata": {},
   "outputs": [],
   "source": [
    "def getStockAndBacktest(stock, n_days_lst, training_days_lst, mov_avg_lst, forecast_period_lst):\n",
    "    \n",
    "    # Printing the stock\n",
    "    print(f\"Backtesting {stock}. . .\")\n",
    "\n",
    "    # Tuning parameters for stock\n",
    "    results = parameterTuning(\n",
    "        stock, \n",
    "        n_days_lst, \n",
    "        training_days_lst, \n",
    "        mov_avg_lst, \n",
    "        forecast_period_lst, \n",
    "        stop_early=True\n",
    "    )\n",
    "    \n",
    "    # Optimum Parameters\n",
    "    opt_params = results['optimumParamLst'][0]\n",
    "    \n",
    "    if results['optimumResultFound']==False:\n",
    "        print(f\"***No optimum params found for {stock}***\")\n",
    "    \n",
    "    # Retrieving prices with the given parameters\n",
    "    prices = getStockPrices(\n",
    "        stock, \n",
    "        n_days=opt_params['n_days'],\n",
    "        training_days=opt_params['training_days'], \n",
    "        mov_avg=opt_params['mov_avg']\n",
    "    )\n",
    "            \n",
    "    # Run Prophet for current prediction\n",
    "    preds = fbpTrainPredict(\n",
    "        prices.tail(opt_params['training_days']), \n",
    "        opt_params['forecast_period']\n",
    "    ).tail(1)\n",
    "\n",
    "    preds['Open'] = prices.tail(1)['Open'].values\n",
    "\n",
    "    # Getting forecast prophet positions\n",
    "    trade_decision = fbpPositions(preds.to_dict('records')[0], short=True)\n",
    "\n",
    "    trade_dict = {\n",
    "        1 : f\"Buy {stock}\",\n",
    "        0 : f\"Exit {stock}/Do nothing\",\n",
    "        -1: f\"Short {stock}\"\n",
    "    }\n",
    "\n",
    "    # Printing trade decision\n",
    "    print(trade_dict[trade_decision])\n",
    "    \n",
    "    # Printing the optimum params\n",
    "    print(\"Best Optimum Parameters Found:\\n\", opt_params)\n",
    "\n",
    "    return "
   ]
  },
  {
   "cell_type": "code",
   "execution_count": 55,
   "metadata": {},
   "outputs": [
    {
     "name": "stdout",
     "output_type": "stream",
     "text": [
      "Backtesting FB. . .\n",
      "Tuning FBP parameters for FB. . .\n"
     ]
    },
    {
     "data": {
      "application/vnd.jupyter.widget-view+json": {
       "model_id": "785fae58dac94059939ad72875b48be3",
       "version_major": 2,
       "version_minor": 0
      },
      "text/plain": [
       "  0%|          | 0/4 [00:00<?, ?it/s]"
      ]
     },
     "metadata": {},
     "output_type": "display_data"
    },
    {
     "data": {
      "application/vnd.jupyter.widget-view+json": {
       "model_id": "",
       "version_major": 2,
       "version_minor": 0
      },
      "text/plain": [
       "  0%|          | 0/62 [00:00<?, ?it/s]"
      ]
     },
     "metadata": {},
     "output_type": "display_data"
    },
    {
     "data": {
      "application/vnd.jupyter.widget-view+json": {
       "model_id": "",
       "version_major": 2,
       "version_minor": 0
      },
      "text/plain": [
       "  0%|          | 0/62 [00:00<?, ?it/s]"
      ]
     },
     "metadata": {},
     "output_type": "display_data"
    },
    {
     "name": "stderr",
     "output_type": "stream",
     "text": [
      "WARNING:prophet.models:Optimization terminated abnormally. Falling back to Newton.\n",
      "WARNING:prophet.models:Optimization terminated abnormally. Falling back to Newton.\n"
     ]
    },
    {
     "data": {
      "application/vnd.jupyter.widget-view+json": {
       "model_id": "",
       "version_major": 2,
       "version_minor": 0
      },
      "text/plain": [
       "  0%|          | 0/62 [00:00<?, ?it/s]"
      ]
     },
     "metadata": {},
     "output_type": "display_data"
    },
    {
     "data": {
      "application/vnd.jupyter.widget-view+json": {
       "model_id": "",
       "version_major": 2,
       "version_minor": 0
      },
      "text/plain": [
       "  0%|          | 0/62 [00:00<?, ?it/s]"
      ]
     },
     "metadata": {},
     "output_type": "display_data"
    },
    {
     "data": {
      "application/vnd.plotly.v1+json": {
       "config": {
        "plotlyServerURL": "https://plot.ly"
       },
       "data": [
        {
         "hovertemplate": "variable=buy_hold<br>ds=%{x}<br>Portfolio Balance=%{y}<extra></extra>",
         "legendgroup": "buy_hold",
         "line": {
          "color": "#636efa",
          "dash": "solid"
         },
         "mode": "lines",
         "name": "buy_hold",
         "orientation": "v",
         "showlegend": true,
         "type": "scatter",
         "x": [
          "2022-01-07",
          "2022-01-10",
          "2022-01-11",
          "2022-01-12",
          "2022-01-13",
          "2022-01-14",
          "2022-01-18",
          "2022-01-19",
          "2022-01-20",
          "2022-01-21",
          "2022-01-25",
          "2022-01-26",
          "2022-01-27",
          "2022-01-28",
          "2022-01-31",
          "2022-02-01",
          "2022-02-02",
          "2022-02-03",
          "2022-02-04",
          "2022-02-07",
          "2022-02-08",
          "2022-02-09",
          "2022-02-10",
          "2022-02-11",
          "2022-02-14",
          "2022-02-15",
          "2022-02-16",
          "2022-02-17",
          "2022-02-18",
          "2022-02-22",
          "2022-02-23",
          "2022-02-24",
          "2022-02-25",
          "2022-03-01",
          "2022-03-02",
          "2022-03-03",
          "2022-03-04",
          "2022-03-07",
          "2022-03-08",
          "2022-03-09",
          "2022-03-10",
          "2022-03-11",
          "2022-03-14",
          "2022-03-15",
          "2022-03-16",
          "2022-03-17",
          "2022-03-18",
          "2022-03-21",
          "2022-03-22",
          "2022-03-23",
          "2022-03-24",
          "2022-03-25",
          "2022-03-28",
          "2022-03-29"
         ],
         "xaxis": "x",
         "y": [
          0.9979847713187265,
          0.9867954513514668,
          1.0057450631991833,
          1.0024063596556243,
          0.9820129320145338,
          0.99831559413768,
          0.956957234174364,
          0.9612885897612542,
          0.9521747148374307,
          0.9118992396674547,
          0.902815381131478,
          0.8862119125772242,
          0.8862420207583052,
          0.9075076677184025,
          0.9422487451635293,
          0.959513951148925,
          0.9715454740473441,
          0.7151537045592506,
          0.7131384299813591,
          0.6765024647860497,
          0.6622751559131044,
          0.6978283281083092,
          0.6860073788909891,
          0.6603802222663029,
          0.6548156245671376,
          0.6647416401376564,
          0.6513264719114078,
          0.6247669255021706,
          0.62010470119971,
          0.6078325423357285,
          0.5969139206184951,
          0.6244360567865994,
          0.6330987220637616,
          0.6120736651726092,
          0.6259700594333655,
          0.6105095543447618,
          0.6017566104209738,
          0.5638874031133878,
          0.5723696028905322,
          0.5970643238340492,
          0.5871684164446112,
          0.5643085045789675,
          0.5613607943199079,
          0.5776033318741268,
          0.6124947666381894,
          0.6251579187866697,
          0.6511761145924712,
          0.6361367109694473,
          0.6516573406269788,
          0.6420622396686484,
          0.6604403927318482,
          0.6672081243622088,
          0.6725320401991948,
          0.6913914651935199
         ],
         "yaxis": "y"
        },
        {
         "hovertemplate": "variable=fbp_positions<br>ds=%{x}<br>Portfolio Balance=%{y}<extra></extra>",
         "legendgroup": "fbp_positions",
         "line": {
          "color": "#EF553B",
          "dash": "solid"
         },
         "mode": "lines",
         "name": "fbp_positions",
         "orientation": "v",
         "showlegend": true,
         "type": "scatter",
         "x": [
          "2022-01-07",
          "2022-01-10",
          "2022-01-11",
          "2022-01-12",
          "2022-01-13",
          "2022-01-14",
          "2022-01-18",
          "2022-01-19",
          "2022-01-20",
          "2022-01-21",
          "2022-01-25",
          "2022-01-26",
          "2022-01-27",
          "2022-01-28",
          "2022-01-31",
          "2022-02-01",
          "2022-02-02",
          "2022-02-03",
          "2022-02-04",
          "2022-02-07",
          "2022-02-08",
          "2022-02-09",
          "2022-02-10",
          "2022-02-11",
          "2022-02-14",
          "2022-02-15",
          "2022-02-16",
          "2022-02-17",
          "2022-02-18",
          "2022-02-22",
          "2022-02-23",
          "2022-02-24",
          "2022-02-25",
          "2022-03-01",
          "2022-03-02",
          "2022-03-03",
          "2022-03-04",
          "2022-03-07",
          "2022-03-08",
          "2022-03-09",
          "2022-03-10",
          "2022-03-11",
          "2022-03-14",
          "2022-03-15",
          "2022-03-16",
          "2022-03-17",
          "2022-03-18",
          "2022-03-21",
          "2022-03-22",
          "2022-03-23",
          "2022-03-24",
          "2022-03-25",
          "2022-03-28",
          "2022-03-29"
         ],
         "xaxis": "x",
         "y": [
          1,
          1.0113390469645307,
          1.0113390469645307,
          1.0147075025088474,
          1.0357798971328518,
          1.0188654366195011,
          1.0188654366195011,
          1.0188654366195011,
          1.0188654366195011,
          1.0188654366195011,
          1.0087160373318969,
          0.9901649743393486,
          0.99019861422381,
          1.0139587312767608,
          1.052774952960057,
          1.0720653754863996,
          1.0720653754863996,
          1.4564145536777888,
          1.4523104356312957,
          1.3777010858393295,
          1.3487270910601272,
          1.4211313267991017,
          1.3970578970333964,
          1.3448680479986694,
          1.3335357133931722,
          1.3537501000974197,
          1.3264300343266837,
          1.272341368235898,
          1.262846722143281,
          1.237854401386775,
          1.2156185666652286,
          1.2716675522301324,
          1.2893091189351162,
          1.2893091189351162,
          1.2893091189351162,
          1.2893091189351162,
          1.2893091189351162,
          1.2893091189351162,
          1.2893091189351162,
          1.344935987904473,
          1.344935987904473,
          1.344935987904473,
          1.344935987904473,
          1.344935987904473,
          1.344935987904473,
          1.344935987904473,
          1.291198132514204,
          1.3217243535879446,
          1.2902446280904287,
          1.3095262906810525,
          1.2730859474263476,
          1.260172579438209,
          1.2501967680983963,
          1.216094536058983
         ],
         "yaxis": "y"
        }
       ],
       "layout": {
        "autosize": true,
        "legend": {
         "title": {
          "text": "variable"
         },
         "tracegroupgap": 0
        },
        "template": {
         "data": {
          "bar": [
           {
            "error_x": {
             "color": "#2a3f5f"
            },
            "error_y": {
             "color": "#2a3f5f"
            },
            "marker": {
             "line": {
              "color": "#E5ECF6",
              "width": 0.5
             }
            },
            "type": "bar"
           }
          ],
          "barpolar": [
           {
            "marker": {
             "line": {
              "color": "#E5ECF6",
              "width": 0.5
             }
            },
            "type": "barpolar"
           }
          ],
          "carpet": [
           {
            "aaxis": {
             "endlinecolor": "#2a3f5f",
             "gridcolor": "white",
             "linecolor": "white",
             "minorgridcolor": "white",
             "startlinecolor": "#2a3f5f"
            },
            "baxis": {
             "endlinecolor": "#2a3f5f",
             "gridcolor": "white",
             "linecolor": "white",
             "minorgridcolor": "white",
             "startlinecolor": "#2a3f5f"
            },
            "type": "carpet"
           }
          ],
          "choropleth": [
           {
            "colorbar": {
             "outlinewidth": 0,
             "ticks": ""
            },
            "type": "choropleth"
           }
          ],
          "contour": [
           {
            "colorbar": {
             "outlinewidth": 0,
             "ticks": ""
            },
            "colorscale": [
             [
              0,
              "#0d0887"
             ],
             [
              0.1111111111111111,
              "#46039f"
             ],
             [
              0.2222222222222222,
              "#7201a8"
             ],
             [
              0.3333333333333333,
              "#9c179e"
             ],
             [
              0.4444444444444444,
              "#bd3786"
             ],
             [
              0.5555555555555556,
              "#d8576b"
             ],
             [
              0.6666666666666666,
              "#ed7953"
             ],
             [
              0.7777777777777778,
              "#fb9f3a"
             ],
             [
              0.8888888888888888,
              "#fdca26"
             ],
             [
              1,
              "#f0f921"
             ]
            ],
            "type": "contour"
           }
          ],
          "contourcarpet": [
           {
            "colorbar": {
             "outlinewidth": 0,
             "ticks": ""
            },
            "type": "contourcarpet"
           }
          ],
          "heatmap": [
           {
            "colorbar": {
             "outlinewidth": 0,
             "ticks": ""
            },
            "colorscale": [
             [
              0,
              "#0d0887"
             ],
             [
              0.1111111111111111,
              "#46039f"
             ],
             [
              0.2222222222222222,
              "#7201a8"
             ],
             [
              0.3333333333333333,
              "#9c179e"
             ],
             [
              0.4444444444444444,
              "#bd3786"
             ],
             [
              0.5555555555555556,
              "#d8576b"
             ],
             [
              0.6666666666666666,
              "#ed7953"
             ],
             [
              0.7777777777777778,
              "#fb9f3a"
             ],
             [
              0.8888888888888888,
              "#fdca26"
             ],
             [
              1,
              "#f0f921"
             ]
            ],
            "type": "heatmap"
           }
          ],
          "heatmapgl": [
           {
            "colorbar": {
             "outlinewidth": 0,
             "ticks": ""
            },
            "colorscale": [
             [
              0,
              "#0d0887"
             ],
             [
              0.1111111111111111,
              "#46039f"
             ],
             [
              0.2222222222222222,
              "#7201a8"
             ],
             [
              0.3333333333333333,
              "#9c179e"
             ],
             [
              0.4444444444444444,
              "#bd3786"
             ],
             [
              0.5555555555555556,
              "#d8576b"
             ],
             [
              0.6666666666666666,
              "#ed7953"
             ],
             [
              0.7777777777777778,
              "#fb9f3a"
             ],
             [
              0.8888888888888888,
              "#fdca26"
             ],
             [
              1,
              "#f0f921"
             ]
            ],
            "type": "heatmapgl"
           }
          ],
          "histogram": [
           {
            "marker": {
             "colorbar": {
              "outlinewidth": 0,
              "ticks": ""
             }
            },
            "type": "histogram"
           }
          ],
          "histogram2d": [
           {
            "colorbar": {
             "outlinewidth": 0,
             "ticks": ""
            },
            "colorscale": [
             [
              0,
              "#0d0887"
             ],
             [
              0.1111111111111111,
              "#46039f"
             ],
             [
              0.2222222222222222,
              "#7201a8"
             ],
             [
              0.3333333333333333,
              "#9c179e"
             ],
             [
              0.4444444444444444,
              "#bd3786"
             ],
             [
              0.5555555555555556,
              "#d8576b"
             ],
             [
              0.6666666666666666,
              "#ed7953"
             ],
             [
              0.7777777777777778,
              "#fb9f3a"
             ],
             [
              0.8888888888888888,
              "#fdca26"
             ],
             [
              1,
              "#f0f921"
             ]
            ],
            "type": "histogram2d"
           }
          ],
          "histogram2dcontour": [
           {
            "colorbar": {
             "outlinewidth": 0,
             "ticks": ""
            },
            "colorscale": [
             [
              0,
              "#0d0887"
             ],
             [
              0.1111111111111111,
              "#46039f"
             ],
             [
              0.2222222222222222,
              "#7201a8"
             ],
             [
              0.3333333333333333,
              "#9c179e"
             ],
             [
              0.4444444444444444,
              "#bd3786"
             ],
             [
              0.5555555555555556,
              "#d8576b"
             ],
             [
              0.6666666666666666,
              "#ed7953"
             ],
             [
              0.7777777777777778,
              "#fb9f3a"
             ],
             [
              0.8888888888888888,
              "#fdca26"
             ],
             [
              1,
              "#f0f921"
             ]
            ],
            "type": "histogram2dcontour"
           }
          ],
          "mesh3d": [
           {
            "colorbar": {
             "outlinewidth": 0,
             "ticks": ""
            },
            "type": "mesh3d"
           }
          ],
          "parcoords": [
           {
            "line": {
             "colorbar": {
              "outlinewidth": 0,
              "ticks": ""
             }
            },
            "type": "parcoords"
           }
          ],
          "pie": [
           {
            "automargin": true,
            "type": "pie"
           }
          ],
          "scatter": [
           {
            "marker": {
             "colorbar": {
              "outlinewidth": 0,
              "ticks": ""
             }
            },
            "type": "scatter"
           }
          ],
          "scatter3d": [
           {
            "line": {
             "colorbar": {
              "outlinewidth": 0,
              "ticks": ""
             }
            },
            "marker": {
             "colorbar": {
              "outlinewidth": 0,
              "ticks": ""
             }
            },
            "type": "scatter3d"
           }
          ],
          "scattercarpet": [
           {
            "marker": {
             "colorbar": {
              "outlinewidth": 0,
              "ticks": ""
             }
            },
            "type": "scattercarpet"
           }
          ],
          "scattergeo": [
           {
            "marker": {
             "colorbar": {
              "outlinewidth": 0,
              "ticks": ""
             }
            },
            "type": "scattergeo"
           }
          ],
          "scattergl": [
           {
            "marker": {
             "colorbar": {
              "outlinewidth": 0,
              "ticks": ""
             }
            },
            "type": "scattergl"
           }
          ],
          "scattermapbox": [
           {
            "marker": {
             "colorbar": {
              "outlinewidth": 0,
              "ticks": ""
             }
            },
            "type": "scattermapbox"
           }
          ],
          "scatterpolar": [
           {
            "marker": {
             "colorbar": {
              "outlinewidth": 0,
              "ticks": ""
             }
            },
            "type": "scatterpolar"
           }
          ],
          "scatterpolargl": [
           {
            "marker": {
             "colorbar": {
              "outlinewidth": 0,
              "ticks": ""
             }
            },
            "type": "scatterpolargl"
           }
          ],
          "scatterternary": [
           {
            "marker": {
             "colorbar": {
              "outlinewidth": 0,
              "ticks": ""
             }
            },
            "type": "scatterternary"
           }
          ],
          "surface": [
           {
            "colorbar": {
             "outlinewidth": 0,
             "ticks": ""
            },
            "colorscale": [
             [
              0,
              "#0d0887"
             ],
             [
              0.1111111111111111,
              "#46039f"
             ],
             [
              0.2222222222222222,
              "#7201a8"
             ],
             [
              0.3333333333333333,
              "#9c179e"
             ],
             [
              0.4444444444444444,
              "#bd3786"
             ],
             [
              0.5555555555555556,
              "#d8576b"
             ],
             [
              0.6666666666666666,
              "#ed7953"
             ],
             [
              0.7777777777777778,
              "#fb9f3a"
             ],
             [
              0.8888888888888888,
              "#fdca26"
             ],
             [
              1,
              "#f0f921"
             ]
            ],
            "type": "surface"
           }
          ],
          "table": [
           {
            "cells": {
             "fill": {
              "color": "#EBF0F8"
             },
             "line": {
              "color": "white"
             }
            },
            "header": {
             "fill": {
              "color": "#C8D4E3"
             },
             "line": {
              "color": "white"
             }
            },
            "type": "table"
           }
          ]
         },
         "layout": {
          "annotationdefaults": {
           "arrowcolor": "#2a3f5f",
           "arrowhead": 0,
           "arrowwidth": 1
          },
          "autotypenumbers": "strict",
          "coloraxis": {
           "colorbar": {
            "outlinewidth": 0,
            "ticks": ""
           }
          },
          "colorscale": {
           "diverging": [
            [
             0,
             "#8e0152"
            ],
            [
             0.1,
             "#c51b7d"
            ],
            [
             0.2,
             "#de77ae"
            ],
            [
             0.3,
             "#f1b6da"
            ],
            [
             0.4,
             "#fde0ef"
            ],
            [
             0.5,
             "#f7f7f7"
            ],
            [
             0.6,
             "#e6f5d0"
            ],
            [
             0.7,
             "#b8e186"
            ],
            [
             0.8,
             "#7fbc41"
            ],
            [
             0.9,
             "#4d9221"
            ],
            [
             1,
             "#276419"
            ]
           ],
           "sequential": [
            [
             0,
             "#0d0887"
            ],
            [
             0.1111111111111111,
             "#46039f"
            ],
            [
             0.2222222222222222,
             "#7201a8"
            ],
            [
             0.3333333333333333,
             "#9c179e"
            ],
            [
             0.4444444444444444,
             "#bd3786"
            ],
            [
             0.5555555555555556,
             "#d8576b"
            ],
            [
             0.6666666666666666,
             "#ed7953"
            ],
            [
             0.7777777777777778,
             "#fb9f3a"
            ],
            [
             0.8888888888888888,
             "#fdca26"
            ],
            [
             1,
             "#f0f921"
            ]
           ],
           "sequentialminus": [
            [
             0,
             "#0d0887"
            ],
            [
             0.1111111111111111,
             "#46039f"
            ],
            [
             0.2222222222222222,
             "#7201a8"
            ],
            [
             0.3333333333333333,
             "#9c179e"
            ],
            [
             0.4444444444444444,
             "#bd3786"
            ],
            [
             0.5555555555555556,
             "#d8576b"
            ],
            [
             0.6666666666666666,
             "#ed7953"
            ],
            [
             0.7777777777777778,
             "#fb9f3a"
            ],
            [
             0.8888888888888888,
             "#fdca26"
            ],
            [
             1,
             "#f0f921"
            ]
           ]
          },
          "colorway": [
           "#636efa",
           "#EF553B",
           "#00cc96",
           "#ab63fa",
           "#FFA15A",
           "#19d3f3",
           "#FF6692",
           "#B6E880",
           "#FF97FF",
           "#FECB52"
          ],
          "font": {
           "color": "#2a3f5f"
          },
          "geo": {
           "bgcolor": "white",
           "lakecolor": "white",
           "landcolor": "#E5ECF6",
           "showlakes": true,
           "showland": true,
           "subunitcolor": "white"
          },
          "hoverlabel": {
           "align": "left"
          },
          "hovermode": "closest",
          "mapbox": {
           "style": "light"
          },
          "paper_bgcolor": "white",
          "plot_bgcolor": "#E5ECF6",
          "polar": {
           "angularaxis": {
            "gridcolor": "white",
            "linecolor": "white",
            "ticks": ""
           },
           "bgcolor": "#E5ECF6",
           "radialaxis": {
            "gridcolor": "white",
            "linecolor": "white",
            "ticks": ""
           }
          },
          "scene": {
           "xaxis": {
            "backgroundcolor": "#E5ECF6",
            "gridcolor": "white",
            "gridwidth": 2,
            "linecolor": "white",
            "showbackground": true,
            "ticks": "",
            "zerolinecolor": "white"
           },
           "yaxis": {
            "backgroundcolor": "#E5ECF6",
            "gridcolor": "white",
            "gridwidth": 2,
            "linecolor": "white",
            "showbackground": true,
            "ticks": "",
            "zerolinecolor": "white"
           },
           "zaxis": {
            "backgroundcolor": "#E5ECF6",
            "gridcolor": "white",
            "gridwidth": 2,
            "linecolor": "white",
            "showbackground": true,
            "ticks": "",
            "zerolinecolor": "white"
           }
          },
          "shapedefaults": {
           "line": {
            "color": "#2a3f5f"
           }
          },
          "ternary": {
           "aaxis": {
            "gridcolor": "white",
            "linecolor": "white",
            "ticks": ""
           },
           "baxis": {
            "gridcolor": "white",
            "linecolor": "white",
            "ticks": ""
           },
           "bgcolor": "#E5ECF6",
           "caxis": {
            "gridcolor": "white",
            "linecolor": "white",
            "ticks": ""
           }
          },
          "title": {
           "x": 0.05
          },
          "xaxis": {
           "automargin": true,
           "gridcolor": "white",
           "linecolor": "white",
           "ticks": "",
           "title": {
            "standoff": 15
           },
           "zerolinecolor": "white",
           "zerolinewidth": 2
          },
          "yaxis": {
           "automargin": true,
           "gridcolor": "white",
           "linecolor": "white",
           "ticks": "",
           "title": {
            "standoff": 15
           },
           "zerolinecolor": "white",
           "zerolinewidth": 2
          }
         }
        },
        "title": {
         "text": "FBProphet vs Buy&Hold for FB"
        },
        "xaxis": {
         "anchor": "y",
         "autorange": true,
         "domain": [
          0,
          1
         ],
         "range": [
          "2022-01-07",
          "2022-03-29"
         ],
         "title": {
          "text": "ds"
         },
         "type": "date"
        },
        "yaxis": {
         "anchor": "x",
         "autorange": true,
         "domain": [
          0,
          1
         ],
         "range": [
          0.5116355854666923,
          1.5061397625310045
         ],
         "title": {
          "text": "Portfolio Balance"
         },
         "type": "linear"
        }
       }
      },
      "image/png": "[encoded data removed]",
      "text/html": [
       "<div>                            <div id=\"78d6aca3-8a5f-47ed-a62a-26610e4c0d7b\" class=\"plotly-graph-div\" style=\"height:525px; width:100%;\"></div>            <script type=\"text/javascript\">                require([\"plotly\"], function(Plotly) {                    window.PLOTLYENV=window.PLOTLYENV || {};                                    if (document.getElementById(\"78d6aca3-8a5f-47ed-a62a-26610e4c0d7b\")) {                    Plotly.newPlot(                        \"78d6aca3-8a5f-47ed-a62a-26610e4c0d7b\",                        [{\"hovertemplate\": \"variable=buy_hold<br>ds=%{x}<br>Portfolio Balance=%{y}<extra></extra>\", \"legendgroup\": \"buy_hold\", \"line\": {\"color\": \"#636efa\", \"dash\": \"solid\"}, \"mode\": \"lines\", \"name\": \"buy_hold\", \"orientation\": \"v\", \"showlegend\": true, \"type\": \"scatter\", \"x\": [\"2022-01-07\", \"2022-01-10\", \"2022-01-11\", \"2022-01-12\", \"2022-01-13\", \"2022-01-14\", \"2022-01-18\", \"2022-01-19\", \"2022-01-20\", \"2022-01-21\", \"2022-01-25\", \"2022-01-26\", \"2022-01-27\", \"2022-01-28\", \"2022-01-31\", \"2022-02-01\", \"2022-02-02\", \"2022-02-03\", \"2022-02-04\", \"2022-02-07\", \"2022-02-08\", \"2022-02-09\", \"2022-02-10\", \"2022-02-11\", \"2022-02-14\", \"2022-02-15\", \"2022-02-16\", \"2022-02-17\", \"2022-02-18\", \"2022-02-22\", \"2022-02-23\", \"2022-02-24\", \"2022-02-25\", \"2022-03-01\", \"2022-03-02\", \"2022-03-03\", \"2022-03-04\", \"2022-03-07\", \"2022-03-08\", \"2022-03-09\", \"2022-03-10\", \"2022-03-11\", \"2022-03-14\", \"2022-03-15\", \"2022-03-16\", \"2022-03-17\", \"2022-03-18\", \"2022-03-21\", \"2022-03-22\", \"2022-03-23\", \"2022-03-24\", \"2022-03-25\", \"2022-03-28\", \"2022-03-29\"], \"xaxis\": \"x\", \"y\": [0.9979847713187265, 0.9867954513514668, 1.0057450631991833, 1.0024063596556243, 0.9820129320145338, 0.99831559413768, 0.956957234174364, 0.9612885897612542, 0.9521747148374307, 0.9118992396674547, 0.902815381131478, 0.8862119125772242, 0.8862420207583052, 0.9075076677184025, 0.9422487451635293, 0.959513951148925, 0.9715454740473441, 0.7151537045592506, 0.7131384299813591, 0.6765024647860497, 0.6622751559131044, 0.6978283281083092, 0.6860073788909891, 0.6603802222663029, 0.6548156245671376, 0.6647416401376564, 0.6513264719114078, 0.6247669255021706, 0.62010470119971, 0.6078325423357285, 0.5969139206184951, 0.6244360567865994, 0.6330987220637616, 0.6120736651726092, 0.6259700594333655, 0.6105095543447618, 0.6017566104209738, 0.5638874031133878, 0.5723696028905322, 0.5970643238340492, 0.5871684164446112, 0.5643085045789675, 0.5613607943199079, 0.5776033318741268, 0.6124947666381894, 0.6251579187866697, 0.6511761145924712, 0.6361367109694473, 0.6516573406269788, 0.6420622396686484, 0.6604403927318482, 0.6672081243622088, 0.6725320401991948, 0.6913914651935199], \"yaxis\": \"y\"}, {\"hovertemplate\": \"variable=fbp_positions<br>ds=%{x}<br>Portfolio Balance=%{y}<extra></extra>\", \"legendgroup\": \"fbp_positions\", \"line\": {\"color\": \"#EF553B\", \"dash\": \"solid\"}, \"mode\": \"lines\", \"name\": \"fbp_positions\", \"orientation\": \"v\", \"showlegend\": true, \"type\": \"scatter\", \"x\": [\"2022-01-07\", \"2022-01-10\", \"2022-01-11\", \"2022-01-12\", \"2022-01-13\", \"2022-01-14\", \"2022-01-18\", \"2022-01-19\", \"2022-01-20\", \"2022-01-21\", \"2022-01-25\", \"2022-01-26\", \"2022-01-27\", \"2022-01-28\", \"2022-01-31\", \"2022-02-01\", \"2022-02-02\", \"2022-02-03\", \"2022-02-04\", \"2022-02-07\", \"2022-02-08\", \"2022-02-09\", \"2022-02-10\", \"2022-02-11\", \"2022-02-14\", \"2022-02-15\", \"2022-02-16\", \"2022-02-17\", \"2022-02-18\", \"2022-02-22\", \"2022-02-23\", \"2022-02-24\", \"2022-02-25\", \"2022-03-01\", \"2022-03-02\", \"2022-03-03\", \"2022-03-04\", \"2022-03-07\", \"2022-03-08\", \"2022-03-09\", \"2022-03-10\", \"2022-03-11\", \"2022-03-14\", \"2022-03-15\", \"2022-03-16\", \"2022-03-17\", \"2022-03-18\", \"2022-03-21\", \"2022-03-22\", \"2022-03-23\", \"2022-03-24\", \"2022-03-25\", \"2022-03-28\", \"2022-03-29\"], \"xaxis\": \"x\", \"y\": [1.0, 1.0113390469645307, 1.0113390469645307, 1.0147075025088474, 1.0357798971328518, 1.0188654366195011, 1.0188654366195011, 1.0188654366195011, 1.0188654366195011, 1.0188654366195011, 1.0087160373318969, 0.9901649743393486, 0.99019861422381, 1.0139587312767608, 1.052774952960057, 1.0720653754863996, 1.0720653754863996, 1.4564145536777888, 1.4523104356312957, 1.3777010858393295, 1.3487270910601272, 1.4211313267991017, 1.3970578970333964, 1.3448680479986694, 1.3335357133931722, 1.3537501000974197, 1.3264300343266837, 1.272341368235898, 1.262846722143281, 1.237854401386775, 1.2156185666652286, 1.2716675522301324, 1.2893091189351162, 1.2893091189351162, 1.2893091189351162, 1.2893091189351162, 1.2893091189351162, 1.2893091189351162, 1.2893091189351162, 1.344935987904473, 1.344935987904473, 1.344935987904473, 1.344935987904473, 1.344935987904473, 1.344935987904473, 1.344935987904473, 1.291198132514204, 1.3217243535879446, 1.2902446280904287, 1.3095262906810525, 1.2730859474263476, 1.260172579438209, 1.2501967680983963, 1.216094536058983], \"yaxis\": \"y\"}],                        {\"legend\": {\"title\": {\"text\": \"variable\"}, \"tracegroupgap\": 0}, \"template\": {\"data\": {\"bar\": [{\"error_x\": {\"color\": \"#2a3f5f\"}, \"error_y\": {\"color\": \"#2a3f5f\"}, \"marker\": {\"line\": {\"color\": \"#E5ECF6\", \"width\": 0.5}}, \"type\": \"bar\"}], \"barpolar\": [{\"marker\": {\"line\": {\"color\": \"#E5ECF6\", \"width\": 0.5}}, \"type\": \"barpolar\"}], \"carpet\": [{\"aaxis\": {\"endlinecolor\": \"#2a3f5f\", \"gridcolor\": \"white\", \"linecolor\": \"white\", \"minorgridcolor\": \"white\", \"startlinecolor\": \"#2a3f5f\"}, \"baxis\": {\"endlinecolor\": \"#2a3f5f\", \"gridcolor\": \"white\", \"linecolor\": \"white\", \"minorgridcolor\": \"white\", \"startlinecolor\": \"#2a3f5f\"}, \"type\": \"carpet\"}], \"choropleth\": [{\"colorbar\": {\"outlinewidth\": 0, \"ticks\": \"\"}, \"type\": \"choropleth\"}], \"contour\": [{\"colorbar\": {\"outlinewidth\": 0, \"ticks\": \"\"}, \"colorscale\": [[0.0, \"#0d0887\"], [0.1111111111111111, \"#46039f\"], [0.2222222222222222, \"#7201a8\"], [0.3333333333333333, \"#9c179e\"], [0.4444444444444444, \"#bd3786\"], [0.5555555555555556, \"#d8576b\"], [0.6666666666666666, \"#ed7953\"], [0.7777777777777778, \"#fb9f3a\"], [0.8888888888888888, \"#fdca26\"], [1.0, \"#f0f921\"]], \"type\": \"contour\"}], \"contourcarpet\": [{\"colorbar\": {\"outlinewidth\": 0, \"ticks\": \"\"}, \"type\": \"contourcarpet\"}], \"heatmap\": [{\"colorbar\": {\"outlinewidth\": 0, \"ticks\": \"\"}, \"colorscale\": [[0.0, \"#0d0887\"], [0.1111111111111111, \"#46039f\"], [0.2222222222222222, \"#7201a8\"], [0.3333333333333333, \"#9c179e\"], [0.4444444444444444, \"#bd3786\"], [0.5555555555555556, \"#d8576b\"], [0.6666666666666666, \"#ed7953\"], [0.7777777777777778, \"#fb9f3a\"], [0.8888888888888888, \"#fdca26\"], [1.0, \"#f0f921\"]], \"type\": \"heatmap\"}], \"heatmapgl\": [{\"colorbar\": {\"outlinewidth\": 0, \"ticks\": \"\"}, \"colorscale\": [[0.0, \"#0d0887\"], [0.1111111111111111, \"#46039f\"], [0.2222222222222222, \"#7201a8\"], [0.3333333333333333, \"#9c179e\"], [0.4444444444444444, \"#bd3786\"], [0.5555555555555556, \"#d8576b\"], [0.6666666666666666, \"#ed7953\"], [0.7777777777777778, \"#fb9f3a\"], [0.8888888888888888, \"#fdca26\"], [1.0, \"#f0f921\"]], \"type\": \"heatmapgl\"}], \"histogram\": [{\"marker\": {\"colorbar\": {\"outlinewidth\": 0, \"ticks\": \"\"}}, \"type\": \"histogram\"}], \"histogram2d\": [{\"colorbar\": {\"outlinewidth\": 0, \"ticks\": \"\"}, \"colorscale\": [[0.0, \"#0d0887\"], [0.1111111111111111, \"#46039f\"], [0.2222222222222222, \"#7201a8\"], [0.3333333333333333, \"#9c179e\"], [0.4444444444444444, \"#bd3786\"], [0.5555555555555556, \"#d8576b\"], [0.6666666666666666, \"#ed7953\"], [0.7777777777777778, \"#fb9f3a\"], [0.8888888888888888, \"#fdca26\"], [1.0, \"#f0f921\"]], \"type\": \"histogram2d\"}], \"histogram2dcontour\": [{\"colorbar\": {\"outlinewidth\": 0, \"ticks\": \"\"}, \"colorscale\": [[0.0, \"#0d0887\"], [0.1111111111111111, \"#46039f\"], [0.2222222222222222, \"#7201a8\"], [0.3333333333333333, \"#9c179e\"], [0.4444444444444444, \"#bd3786\"], [0.5555555555555556, \"#d8576b\"], [0.6666666666666666, \"#ed7953\"], [0.7777777777777778, \"#fb9f3a\"], [0.8888888888888888, \"#fdca26\"], [1.0, \"#f0f921\"]], \"type\": \"histogram2dcontour\"}], \"mesh3d\": [{\"colorbar\": {\"outlinewidth\": 0, \"ticks\": \"\"}, \"type\": \"mesh3d\"}], \"parcoords\": [{\"line\": {\"colorbar\": {\"outlinewidth\": 0, \"ticks\": \"\"}}, \"type\": \"parcoords\"}], \"pie\": [{\"automargin\": true, \"type\": \"pie\"}], \"scatter\": [{\"marker\": {\"colorbar\": {\"outlinewidth\": 0, \"ticks\": \"\"}}, \"type\": \"scatter\"}], \"scatter3d\": [{\"line\": {\"colorbar\": {\"outlinewidth\": 0, \"ticks\": \"\"}}, \"marker\": {\"colorbar\": {\"outlinewidth\": 0, \"ticks\": \"\"}}, \"type\": \"scatter3d\"}], \"scattercarpet\": [{\"marker\": {\"colorbar\": {\"outlinewidth\": 0, \"ticks\": \"\"}}, \"type\": \"scattercarpet\"}], \"scattergeo\": [{\"marker\": {\"colorbar\": {\"outlinewidth\": 0, \"ticks\": \"\"}}, \"type\": \"scattergeo\"}], \"scattergl\": [{\"marker\": {\"colorbar\": {\"outlinewidth\": 0, \"ticks\": \"\"}}, \"type\": \"scattergl\"}], \"scattermapbox\": [{\"marker\": {\"colorbar\": {\"outlinewidth\": 0, \"ticks\": \"\"}}, \"type\": \"scattermapbox\"}], \"scatterpolar\": [{\"marker\": {\"colorbar\": {\"outlinewidth\": 0, \"ticks\": \"\"}}, \"type\": \"scatterpolar\"}], \"scatterpolargl\": [{\"marker\": {\"colorbar\": {\"outlinewidth\": 0, \"ticks\": \"\"}}, \"type\": \"scatterpolargl\"}], \"scatterternary\": [{\"marker\": {\"colorbar\": {\"outlinewidth\": 0, \"ticks\": \"\"}}, \"type\": \"scatterternary\"}], \"surface\": [{\"colorbar\": {\"outlinewidth\": 0, \"ticks\": \"\"}, \"colorscale\": [[0.0, \"#0d0887\"], [0.1111111111111111, \"#46039f\"], [0.2222222222222222, \"#7201a8\"], [0.3333333333333333, \"#9c179e\"], [0.4444444444444444, \"#bd3786\"], [0.5555555555555556, \"#d8576b\"], [0.6666666666666666, \"#ed7953\"], [0.7777777777777778, \"#fb9f3a\"], [0.8888888888888888, \"#fdca26\"], [1.0, \"#f0f921\"]], \"type\": \"surface\"}], \"table\": [{\"cells\": {\"fill\": {\"color\": \"#EBF0F8\"}, \"line\": {\"color\": \"white\"}}, \"header\": {\"fill\": {\"color\": \"#C8D4E3\"}, \"line\": {\"color\": \"white\"}}, \"type\": \"table\"}]}, \"layout\": {\"annotationdefaults\": {\"arrowcolor\": \"#2a3f5f\", \"arrowhead\": 0, \"arrowwidth\": 1}, \"autotypenumbers\": \"strict\", \"coloraxis\": {\"colorbar\": {\"outlinewidth\": 0, \"ticks\": \"\"}}, \"colorscale\": {\"diverging\": [[0, \"#8e0152\"], [0.1, \"#c51b7d\"], [0.2, \"#de77ae\"], [0.3, \"#f1b6da\"], [0.4, \"#fde0ef\"], [0.5, \"#f7f7f7\"], [0.6, \"#e6f5d0\"], [0.7, \"#b8e186\"], [0.8, \"#7fbc41\"], [0.9, \"#4d9221\"], [1, \"#276419\"]], \"sequential\": [[0.0, \"#0d0887\"], [0.1111111111111111, \"#46039f\"], [0.2222222222222222, \"#7201a8\"], [0.3333333333333333, \"#9c179e\"], [0.4444444444444444, \"#bd3786\"], [0.5555555555555556, \"#d8576b\"], [0.6666666666666666, \"#ed7953\"], [0.7777777777777778, \"#fb9f3a\"], [0.8888888888888888, \"#fdca26\"], [1.0, \"#f0f921\"]], \"sequentialminus\": [[0.0, \"#0d0887\"], [0.1111111111111111, \"#46039f\"], [0.2222222222222222, \"#7201a8\"], [0.3333333333333333, \"#9c179e\"], [0.4444444444444444, \"#bd3786\"], [0.5555555555555556, \"#d8576b\"], [0.6666666666666666, \"#ed7953\"], [0.7777777777777778, \"#fb9f3a\"], [0.8888888888888888, \"#fdca26\"], [1.0, \"#f0f921\"]]}, \"colorway\": [\"#636efa\", \"#EF553B\", \"#00cc96\", \"#ab63fa\", \"#FFA15A\", \"#19d3f3\", \"#FF6692\", \"#B6E880\", \"#FF97FF\", \"#FECB52\"], \"font\": {\"color\": \"#2a3f5f\"}, \"geo\": {\"bgcolor\": \"white\", \"lakecolor\": \"white\", \"landcolor\": \"#E5ECF6\", \"showlakes\": true, \"showland\": true, \"subunitcolor\": \"white\"}, \"hoverlabel\": {\"align\": \"left\"}, \"hovermode\": \"closest\", \"mapbox\": {\"style\": \"light\"}, \"paper_bgcolor\": \"white\", \"plot_bgcolor\": \"#E5ECF6\", \"polar\": {\"angularaxis\": {\"gridcolor\": \"white\", \"linecolor\": \"white\", \"ticks\": \"\"}, \"bgcolor\": \"#E5ECF6\", \"radialaxis\": {\"gridcolor\": \"white\", \"linecolor\": \"white\", \"ticks\": \"\"}}, \"scene\": {\"xaxis\": {\"backgroundcolor\": \"#E5ECF6\", \"gridcolor\": \"white\", \"gridwidth\": 2, \"linecolor\": \"white\", \"showbackground\": true, \"ticks\": \"\", \"zerolinecolor\": \"white\"}, \"yaxis\": {\"backgroundcolor\": \"#E5ECF6\", \"gridcolor\": \"white\", \"gridwidth\": 2, \"linecolor\": \"white\", \"showbackground\": true, \"ticks\": \"\", \"zerolinecolor\": \"white\"}, \"zaxis\": {\"backgroundcolor\": \"#E5ECF6\", \"gridcolor\": \"white\", \"gridwidth\": 2, \"linecolor\": \"white\", \"showbackground\": true, \"ticks\": \"\", \"zerolinecolor\": \"white\"}}, \"shapedefaults\": {\"line\": {\"color\": \"#2a3f5f\"}}, \"ternary\": {\"aaxis\": {\"gridcolor\": \"white\", \"linecolor\": \"white\", \"ticks\": \"\"}, \"baxis\": {\"gridcolor\": \"white\", \"linecolor\": \"white\", \"ticks\": \"\"}, \"bgcolor\": \"#E5ECF6\", \"caxis\": {\"gridcolor\": \"white\", \"linecolor\": \"white\", \"ticks\": \"\"}}, \"title\": {\"x\": 0.05}, \"xaxis\": {\"automargin\": true, \"gridcolor\": \"white\", \"linecolor\": \"white\", \"ticks\": \"\", \"title\": {\"standoff\": 15}, \"zerolinecolor\": \"white\", \"zerolinewidth\": 2}, \"yaxis\": {\"automargin\": true, \"gridcolor\": \"white\", \"linecolor\": \"white\", \"ticks\": \"\", \"title\": {\"standoff\": 15}, \"zerolinecolor\": \"white\", \"zerolinewidth\": 2}}}, \"title\": {\"text\": \"FBProphet vs Buy&Hold for FB\"}, \"xaxis\": {\"anchor\": \"y\", \"domain\": [0.0, 1.0], \"title\": {\"text\": \"ds\"}}, \"yaxis\": {\"anchor\": \"x\", \"domain\": [0.0, 1.0], \"title\": {\"text\": \"Portfolio Balance\"}}},                        {\"responsive\": true}                    ).then(function(){\n",
       "                            \n",
       "var gd = document.getElementById('78d6aca3-8a5f-47ed-a62a-26610e4c0d7b');\n",
       "var x = new MutationObserver(function (mutations, observer) {{\n",
       "        var display = window.getComputedStyle(gd).display;\n",
       "        if (!display || display === 'none') {{\n",
       "            console.log([gd, 'removed!']);\n",
       "            Plotly.purge(gd);\n",
       "            observer.disconnect();\n",
       "        }}\n",
       "}});\n",
       "\n",
       "// Listen for the removal of the full notebook cells\n",
       "var notebookContainer = gd.closest('#notebook-container');\n",
       "if (notebookContainer) {{\n",
       "    x.observe(notebookContainer, {childList: true});\n",
       "}}\n",
       "\n",
       "// Listen for the clearing of the current output cell\n",
       "var outputEl = gd.closest('.output');\n",
       "if (outputEl) {{\n",
       "    x.observe(outputEl, {childList: true});\n",
       "}}\n",
       "\n",
       "                        })                };                });            </script>        </div>"
      ]
     },
     "metadata": {},
     "output_type": "display_data"
    },
    {
     "name": "stdout",
     "output_type": "stream",
     "text": [
      "Short FB\n",
      "Best Optimum Parameters Found:\n",
      " {'n_days': 60, 'training_days': 500, 'mov_avg': 5, 'forecast_period': 5, 'backtestAnalysis': {'result': False, 'score': 4, 'endingBalance': {'prophet': 1.2234235764602617, 'buyHold': 0.6913914651935199}, 'betterThanBuyHold': 1.0, 'greaterPortfolioBalance': 0.9423076923076923, 'upwardTrend': 0.46153846153846156, 'pValue': 3.022886142318865e-58}}\n",
      "Backtesting AAPL. . .\n",
      "Tuning FBP parameters for AAPL. . .\n"
     ]
    },
    {
     "data": {
      "application/vnd.jupyter.widget-view+json": {
       "model_id": "55b76e7eba11408fb00e346a998b36b7",
       "version_major": 2,
       "version_minor": 0
      },
      "text/plain": [
       "  0%|          | 0/4 [00:00<?, ?it/s]"
      ]
     },
     "metadata": {},
     "output_type": "display_data"
    },
    {
     "data": {
      "application/vnd.jupyter.widget-view+json": {
       "model_id": "",
       "version_major": 2,
       "version_minor": 0
      },
      "text/plain": [
       "  0%|          | 0/62 [00:00<?, ?it/s]"
      ]
     },
     "metadata": {},
     "output_type": "display_data"
    },
    {
     "data": {
      "application/vnd.jupyter.widget-view+json": {
       "model_id": "",
       "version_major": 2,
       "version_minor": 0
      },
      "text/plain": [
       "  0%|          | 0/62 [00:00<?, ?it/s]"
      ]
     },
     "metadata": {},
     "output_type": "display_data"
    },
    {
     "name": "stderr",
     "output_type": "stream",
     "text": [
      "WARNING:prophet.models:Optimization terminated abnormally. Falling back to Newton.\n"
     ]
    },
    {
     "data": {
      "application/vnd.plotly.v1+json": {
       "config": {
        "plotlyServerURL": "https://plot.ly"
       },
       "data": [
        {
         "hovertemplate": "variable=buy_hold<br>ds=%{x}<br>Portfolio Balance=%{y}<extra></extra>",
         "legendgroup": "buy_hold",
         "line": {
          "color": "#636efa",
          "dash": "solid"
         },
         "mode": "lines",
         "name": "buy_hold",
         "orientation": "v",
         "showlegend": true,
         "type": "scatter",
         "x": [
          "2022-01-07",
          "2022-01-10",
          "2022-01-11",
          "2022-01-12",
          "2022-01-13",
          "2022-01-14",
          "2022-01-18",
          "2022-01-19",
          "2022-01-20",
          "2022-01-21",
          "2022-01-25",
          "2022-01-26",
          "2022-01-27",
          "2022-01-28",
          "2022-01-31",
          "2022-02-01",
          "2022-02-02",
          "2022-02-03",
          "2022-02-04",
          "2022-02-07",
          "2022-02-08",
          "2022-02-09",
          "2022-02-10",
          "2022-02-11",
          "2022-02-14",
          "2022-02-15",
          "2022-02-16",
          "2022-02-17",
          "2022-02-18",
          "2022-02-22",
          "2022-02-23",
          "2022-02-24",
          "2022-02-25",
          "2022-03-01",
          "2022-03-02",
          "2022-03-03",
          "2022-03-04",
          "2022-03-07",
          "2022-03-08",
          "2022-03-09",
          "2022-03-10",
          "2022-03-11",
          "2022-03-14",
          "2022-03-15",
          "2022-03-16",
          "2022-03-17",
          "2022-03-18",
          "2022-03-21",
          "2022-03-22",
          "2022-03-23",
          "2022-03-24",
          "2022-03-25",
          "2022-03-28",
          "2022-03-29"
         ],
         "xaxis": "x",
         "y": [
          1.000988377086955,
          1.001104651519131,
          1.0179069731704515,
          1.020523192307873,
          1.001104651519131,
          1.0062209930156283,
          0.9872092794991294,
          0.9664534494999891,
          0.9564534041982623,
          0.9442442335121034,
          0.9289534794790725,
          0.9284302001208219,
          0.9256977065512246,
          0.9902906851921708,
          1.0161627678608938,
          1.0151743907739392,
          1.0223255792469768,
          1.005232527101758,
          1.0035443715757775,
          0.9992948031191394,
          1.0177485059534903,
          1.0261894612372215,
          1.0019725793088892,
          0.9817142688625505,
          0.9831114274138871,
          1.0058728803344223,
          1.0044758106100016,
          0.9831114274138871,
          0.9739136668114842,
          0.9565660367269091,
          0.931825253651919,
          0.9473682761245067,
          0.9596513508042258,
          0.9500460523142564,
          0.9696058278983843,
          0.9676847682003907,
          0.949871418598704,
          0.9273427810232661,
          0.9165150465244294,
          0.9485907121333743,
          0.9228021267650681,
          0.900739119879828,
          0.8768133237530544,
          0.9028348132933741,
          0.9290309365492467,
          0.9350269309883268,
          0.9545867065724544,
          0.9627366648815414,
          0.9827621599827817,
          0.9908538478354082,
          1.0133243037812998,
          1.0171081527208257,
          1.0222309785821433,
          1.041790754166271
         ],
         "yaxis": "y"
        },
        {
         "hovertemplate": "variable=fbp_positions<br>ds=%{x}<br>Portfolio Balance=%{y}<extra></extra>",
         "legendgroup": "fbp_positions",
         "line": {
          "color": "#EF553B",
          "dash": "solid"
         },
         "mode": "lines",
         "name": "fbp_positions",
         "orientation": "v",
         "showlegend": true,
         "type": "scatter",
         "x": [
          "2022-01-07",
          "2022-01-10",
          "2022-01-11",
          "2022-01-12",
          "2022-01-13",
          "2022-01-14",
          "2022-01-18",
          "2022-01-19",
          "2022-01-20",
          "2022-01-21",
          "2022-01-25",
          "2022-01-26",
          "2022-01-27",
          "2022-01-28",
          "2022-01-31",
          "2022-02-01",
          "2022-02-02",
          "2022-02-03",
          "2022-02-04",
          "2022-02-07",
          "2022-02-08",
          "2022-02-09",
          "2022-02-10",
          "2022-02-11",
          "2022-02-14",
          "2022-02-15",
          "2022-02-16",
          "2022-02-17",
          "2022-02-18",
          "2022-02-22",
          "2022-02-23",
          "2022-02-24",
          "2022-02-25",
          "2022-03-01",
          "2022-03-02",
          "2022-03-03",
          "2022-03-04",
          "2022-03-07",
          "2022-03-08",
          "2022-03-09",
          "2022-03-10",
          "2022-03-11",
          "2022-03-14",
          "2022-03-15",
          "2022-03-16",
          "2022-03-17",
          "2022-03-18",
          "2022-03-21",
          "2022-03-22",
          "2022-03-23",
          "2022-03-24",
          "2022-03-25",
          "2022-03-28",
          "2022-03-29"
         ],
         "xaxis": "x",
         "y": [
          1.000988377086955,
          1.001104651519131,
          1.0179069731704515,
          1.020523192307873,
          1.020523192307873,
          1.020523192307873,
          1.001241250563691,
          0.9801904018567478,
          0.9700482181561707,
          0.9576655090589087,
          0.9421574156809158,
          0.9416266985473463,
          0.9388553659276114,
          1.0043664546654598,
          1.0043664546654598,
          1.005344309110685,
          0.9983119049718374,
          1.015287278319609,
          1.0169951876835583,
          1.021320028217746,
          1.0028015669385089,
          0.9945529895512706,
          1.0185905458844446,
          1.039609822216387,
          1.038132370411169,
          1.0146409317449414,
          1.0160521395728714,
          1.038132370411169,
          1.0479366203586085,
          1.0669412851115667,
          1.0952695180986465,
          1.077299950020023,
          1.0912676498808263,
          1.1023007482069749,
          1.08006412932456,
          1.082208285911785,
          1.1025034060315462,
          1.129287352775342,
          1.1426287852756754,
          1.1826178492530126,
          1.1826178492530126,
          1.1826178492530126,
          1.1826178492530126,
          1.217714804512328,
          1.2530473001580624,
          1.2530473001580624,
          1.2530473001580624,
          1.2530473001580624,
          1.2275142733559548,
          1.2174899268225698,
          1.1904921002993663,
          1.1860632278543057,
          1.1801193702486232,
          1.1579624544262919
         ],
         "yaxis": "y"
        }
       ],
       "layout": {
        "autosize": true,
        "legend": {
         "title": {
          "text": "variable"
         },
         "tracegroupgap": 0
        },
        "template": {
         "data": {
          "bar": [
           {
            "error_x": {
             "color": "#2a3f5f"
            },
            "error_y": {
             "color": "#2a3f5f"
            },
            "marker": {
             "line": {
              "color": "#E5ECF6",
              "width": 0.5
             }
            },
            "type": "bar"
           }
          ],
          "barpolar": [
           {
            "marker": {
             "line": {
              "color": "#E5ECF6",
              "width": 0.5
             }
            },
            "type": "barpolar"
           }
          ],
          "carpet": [
           {
            "aaxis": {
             "endlinecolor": "#2a3f5f",
             "gridcolor": "white",
             "linecolor": "white",
             "minorgridcolor": "white",
             "startlinecolor": "#2a3f5f"
            },
            "baxis": {
             "endlinecolor": "#2a3f5f",
             "gridcolor": "white",
             "linecolor": "white",
             "minorgridcolor": "white",
             "startlinecolor": "#2a3f5f"
            },
            "type": "carpet"
           }
          ],
          "choropleth": [
           {
            "colorbar": {
             "outlinewidth": 0,
             "ticks": ""
            },
            "type": "choropleth"
           }
          ],
          "contour": [
           {
            "colorbar": {
             "outlinewidth": 0,
             "ticks": ""
            },
            "colorscale": [
             [
              0,
              "#0d0887"
             ],
             [
              0.1111111111111111,
              "#46039f"
             ],
             [
              0.2222222222222222,
              "#7201a8"
             ],
             [
              0.3333333333333333,
              "#9c179e"
             ],
             [
              0.4444444444444444,
              "#bd3786"
             ],
             [
              0.5555555555555556,
              "#d8576b"
             ],
             [
              0.6666666666666666,
              "#ed7953"
             ],
             [
              0.7777777777777778,
              "#fb9f3a"
             ],
             [
              0.8888888888888888,
              "#fdca26"
             ],
             [
              1,
              "#f0f921"
             ]
            ],
            "type": "contour"
           }
          ],
          "contourcarpet": [
           {
            "colorbar": {
             "outlinewidth": 0,
             "ticks": ""
            },
            "type": "contourcarpet"
           }
          ],
          "heatmap": [
           {
            "colorbar": {
             "outlinewidth": 0,
             "ticks": ""
            },
            "colorscale": [
             [
              0,
              "#0d0887"
             ],
             [
              0.1111111111111111,
              "#46039f"
             ],
             [
              0.2222222222222222,
              "#7201a8"
             ],
             [
              0.3333333333333333,
              "#9c179e"
             ],
             [
              0.4444444444444444,
              "#bd3786"
             ],
             [
              0.5555555555555556,
              "#d8576b"
             ],
             [
              0.6666666666666666,
              "#ed7953"
             ],
             [
              0.7777777777777778,
              "#fb9f3a"
             ],
             [
              0.8888888888888888,
              "#fdca26"
             ],
             [
              1,
              "#f0f921"
             ]
            ],
            "type": "heatmap"
           }
          ],
          "heatmapgl": [
           {
            "colorbar": {
             "outlinewidth": 0,
             "ticks": ""
            },
            "colorscale": [
             [
              0,
              "#0d0887"
             ],
             [
              0.1111111111111111,
              "#46039f"
             ],
             [
              0.2222222222222222,
              "#7201a8"
             ],
             [
              0.3333333333333333,
              "#9c179e"
             ],
             [
              0.4444444444444444,
              "#bd3786"
             ],
             [
              0.5555555555555556,
              "#d8576b"
             ],
             [
              0.6666666666666666,
              "#ed7953"
             ],
             [
              0.7777777777777778,
              "#fb9f3a"
             ],
             [
              0.8888888888888888,
              "#fdca26"
             ],
             [
              1,
              "#f0f921"
             ]
            ],
            "type": "heatmapgl"
           }
          ],
          "histogram": [
           {
            "marker": {
             "colorbar": {
              "outlinewidth": 0,
              "ticks": ""
             }
            },
            "type": "histogram"
           }
          ],
          "histogram2d": [
           {
            "colorbar": {
             "outlinewidth": 0,
             "ticks": ""
            },
            "colorscale": [
             [
              0,
              "#0d0887"
             ],
             [
              0.1111111111111111,
              "#46039f"
             ],
             [
              0.2222222222222222,
              "#7201a8"
             ],
             [
              0.3333333333333333,
              "#9c179e"
             ],
             [
              0.4444444444444444,
              "#bd3786"
             ],
             [
              0.5555555555555556,
              "#d8576b"
             ],
             [
              0.6666666666666666,
              "#ed7953"
             ],
             [
              0.7777777777777778,
              "#fb9f3a"
             ],
             [
              0.8888888888888888,
              "#fdca26"
             ],
             [
              1,
              "#f0f921"
             ]
            ],
            "type": "histogram2d"
           }
          ],
          "histogram2dcontour": [
           {
            "colorbar": {
             "outlinewidth": 0,
             "ticks": ""
            },
            "colorscale": [
             [
              0,
              "#0d0887"
             ],
             [
              0.1111111111111111,
              "#46039f"
             ],
             [
              0.2222222222222222,
              "#7201a8"
             ],
             [
              0.3333333333333333,
              "#9c179e"
             ],
             [
              0.4444444444444444,
              "#bd3786"
             ],
             [
              0.5555555555555556,
              "#d8576b"
             ],
             [
              0.6666666666666666,
              "#ed7953"
             ],
             [
              0.7777777777777778,
              "#fb9f3a"
             ],
             [
              0.8888888888888888,
              "#fdca26"
             ],
             [
              1,
              "#f0f921"
             ]
            ],
            "type": "histogram2dcontour"
           }
          ],
          "mesh3d": [
           {
            "colorbar": {
             "outlinewidth": 0,
             "ticks": ""
            },
            "type": "mesh3d"
           }
          ],
          "parcoords": [
           {
            "line": {
             "colorbar": {
              "outlinewidth": 0,
              "ticks": ""
             }
            },
            "type": "parcoords"
           }
          ],
          "pie": [
           {
            "automargin": true,
            "type": "pie"
           }
          ],
          "scatter": [
           {
            "marker": {
             "colorbar": {
              "outlinewidth": 0,
              "ticks": ""
             }
            },
            "type": "scatter"
           }
          ],
          "scatter3d": [
           {
            "line": {
             "colorbar": {
              "outlinewidth": 0,
              "ticks": ""
             }
            },
            "marker": {
             "colorbar": {
              "outlinewidth": 0,
              "ticks": ""
             }
            },
            "type": "scatter3d"
           }
          ],
          "scattercarpet": [
           {
            "marker": {
             "colorbar": {
              "outlinewidth": 0,
              "ticks": ""
             }
            },
            "type": "scattercarpet"
           }
          ],
          "scattergeo": [
           {
            "marker": {
             "colorbar": {
              "outlinewidth": 0,
              "ticks": ""
             }
            },
            "type": "scattergeo"
           }
          ],
          "scattergl": [
           {
            "marker": {
             "colorbar": {
              "outlinewidth": 0,
              "ticks": ""
             }
            },
            "type": "scattergl"
           }
          ],
          "scattermapbox": [
           {
            "marker": {
             "colorbar": {
              "outlinewidth": 0,
              "ticks": ""
             }
            },
            "type": "scattermapbox"
           }
          ],
          "scatterpolar": [
           {
            "marker": {
             "colorbar": {
              "outlinewidth": 0,
              "ticks": ""
             }
            },
            "type": "scatterpolar"
           }
          ],
          "scatterpolargl": [
           {
            "marker": {
             "colorbar": {
              "outlinewidth": 0,
              "ticks": ""
             }
            },
            "type": "scatterpolargl"
           }
          ],
          "scatterternary": [
           {
            "marker": {
             "colorbar": {
              "outlinewidth": 0,
              "ticks": ""
             }
            },
            "type": "scatterternary"
           }
          ],
          "surface": [
           {
            "colorbar": {
             "outlinewidth": 0,
             "ticks": ""
            },
            "colorscale": [
             [
              0,
              "#0d0887"
             ],
             [
              0.1111111111111111,
              "#46039f"
             ],
             [
              0.2222222222222222,
              "#7201a8"
             ],
             [
              0.3333333333333333,
              "#9c179e"
             ],
             [
              0.4444444444444444,
              "#bd3786"
             ],
             [
              0.5555555555555556,
              "#d8576b"
             ],
             [
              0.6666666666666666,
              "#ed7953"
             ],
             [
              0.7777777777777778,
              "#fb9f3a"
             ],
             [
              0.8888888888888888,
              "#fdca26"
             ],
             [
              1,
              "#f0f921"
             ]
            ],
            "type": "surface"
           }
          ],
          "table": [
           {
            "cells": {
             "fill": {
              "color": "#EBF0F8"
             },
             "line": {
              "color": "white"
             }
            },
            "header": {
             "fill": {
              "color": "#C8D4E3"
             },
             "line": {
              "color": "white"
             }
            },
            "type": "table"
           }
          ]
         },
         "layout": {
          "annotationdefaults": {
           "arrowcolor": "#2a3f5f",
           "arrowhead": 0,
           "arrowwidth": 1
          },
          "autotypenumbers": "strict",
          "coloraxis": {
           "colorbar": {
            "outlinewidth": 0,
            "ticks": ""
           }
          },
          "colorscale": {
           "diverging": [
            [
             0,
             "#8e0152"
            ],
            [
             0.1,
             "#c51b7d"
            ],
            [
             0.2,
             "#de77ae"
            ],
            [
             0.3,
             "#f1b6da"
            ],
            [
             0.4,
             "#fde0ef"
            ],
            [
             0.5,
             "#f7f7f7"
            ],
            [
             0.6,
             "#e6f5d0"
            ],
            [
             0.7,
             "#b8e186"
            ],
            [
             0.8,
             "#7fbc41"
            ],
            [
             0.9,
             "#4d9221"
            ],
            [
             1,
             "#276419"
            ]
           ],
           "sequential": [
            [
             0,
             "#0d0887"
            ],
            [
             0.1111111111111111,
             "#46039f"
            ],
            [
             0.2222222222222222,
             "#7201a8"
            ],
            [
             0.3333333333333333,
             "#9c179e"
            ],
            [
             0.4444444444444444,
             "#bd3786"
            ],
            [
             0.5555555555555556,
             "#d8576b"
            ],
            [
             0.6666666666666666,
             "#ed7953"
            ],
            [
             0.7777777777777778,
             "#fb9f3a"
            ],
            [
             0.8888888888888888,
             "#fdca26"
            ],
            [
             1,
             "#f0f921"
            ]
           ],
           "sequentialminus": [
            [
             0,
             "#0d0887"
            ],
            [
             0.1111111111111111,
             "#46039f"
            ],
            [
             0.2222222222222222,
             "#7201a8"
            ],
            [
             0.3333333333333333,
             "#9c179e"
            ],
            [
             0.4444444444444444,
             "#bd3786"
            ],
            [
             0.5555555555555556,
             "#d8576b"
            ],
            [
             0.6666666666666666,
             "#ed7953"
            ],
            [
             0.7777777777777778,
             "#fb9f3a"
            ],
            [
             0.8888888888888888,
             "#fdca26"
            ],
            [
             1,
             "#f0f921"
            ]
           ]
          },
          "colorway": [
           "#636efa",
           "#EF553B",
           "#00cc96",
           "#ab63fa",
           "#FFA15A",
           "#19d3f3",
           "#FF6692",
           "#B6E880",
           "#FF97FF",
           "#FECB52"
          ],
          "font": {
           "color": "#2a3f5f"
          },
          "geo": {
           "bgcolor": "white",
           "lakecolor": "white",
           "landcolor": "#E5ECF6",
           "showlakes": true,
           "showland": true,
           "subunitcolor": "white"
          },
          "hoverlabel": {
           "align": "left"
          },
          "hovermode": "closest",
          "mapbox": {
           "style": "light"
          },
          "paper_bgcolor": "white",
          "plot_bgcolor": "#E5ECF6",
          "polar": {
           "angularaxis": {
            "gridcolor": "white",
            "linecolor": "white",
            "ticks": ""
           },
           "bgcolor": "#E5ECF6",
           "radialaxis": {
            "gridcolor": "white",
            "linecolor": "white",
            "ticks": ""
           }
          },
          "scene": {
           "xaxis": {
            "backgroundcolor": "#E5ECF6",
            "gridcolor": "white",
            "gridwidth": 2,
            "linecolor": "white",
            "showbackground": true,
            "ticks": "",
            "zerolinecolor": "white"
           },
           "yaxis": {
            "backgroundcolor": "#E5ECF6",
            "gridcolor": "white",
            "gridwidth": 2,
            "linecolor": "white",
            "showbackground": true,
            "ticks": "",
            "zerolinecolor": "white"
           },
           "zaxis": {
            "backgroundcolor": "#E5ECF6",
            "gridcolor": "white",
            "gridwidth": 2,
            "linecolor": "white",
            "showbackground": true,
            "ticks": "",
            "zerolinecolor": "white"
           }
          },
          "shapedefaults": {
           "line": {
            "color": "#2a3f5f"
           }
          },
          "ternary": {
           "aaxis": {
            "gridcolor": "white",
            "linecolor": "white",
            "ticks": ""
           },
           "baxis": {
            "gridcolor": "white",
            "linecolor": "white",
            "ticks": ""
           },
           "bgcolor": "#E5ECF6",
           "caxis": {
            "gridcolor": "white",
            "linecolor": "white",
            "ticks": ""
           }
          },
          "title": {
           "x": 0.05
          },
          "xaxis": {
           "automargin": true,
           "gridcolor": "white",
           "linecolor": "white",
           "ticks": "",
           "title": {
            "standoff": 15
           },
           "zerolinecolor": "white",
           "zerolinewidth": 2
          },
          "yaxis": {
           "automargin": true,
           "gridcolor": "white",
           "linecolor": "white",
           "ticks": "",
           "title": {
            "standoff": 15
           },
           "zerolinecolor": "white",
           "zerolinewidth": 2
          }
         }
        },
        "title": {
         "text": "FBProphet vs Buy&Hold for AAPL"
        },
        "xaxis": {
         "anchor": "y",
         "autorange": true,
         "domain": [
          0,
          1
         ],
         "range": [
          "2022-01-07",
          "2022-03-29"
         ],
         "title": {
          "text": "ds"
         },
         "type": "date"
        },
        "yaxis": {
         "anchor": "x",
         "autorange": true,
         "domain": [
          0,
          1
         ],
         "range": [
          0.8559114361749984,
          1.2739491877361184
         ],
         "title": {
          "text": "Portfolio Balance"
         },
         "type": "linear"
        }
       }
      },
      "image/png": "[encoded data removed]",
      "text/html": [
       "<div>                            <div id=\"be9c177d-a0ea-4118-ad89-829a0074d21a\" class=\"plotly-graph-div\" style=\"height:525px; width:100%;\"></div>            <script type=\"text/javascript\">                require([\"plotly\"], function(Plotly) {                    window.PLOTLYENV=window.PLOTLYENV || {};                                    if (document.getElementById(\"be9c177d-a0ea-4118-ad89-829a0074d21a\")) {                    Plotly.newPlot(                        \"be9c177d-a0ea-4118-ad89-829a0074d21a\",                        [{\"hovertemplate\": \"variable=buy_hold<br>ds=%{x}<br>Portfolio Balance=%{y}<extra></extra>\", \"legendgroup\": \"buy_hold\", \"line\": {\"color\": \"#636efa\", \"dash\": \"solid\"}, \"mode\": \"lines\", \"name\": \"buy_hold\", \"orientation\": \"v\", \"showlegend\": true, \"type\": \"scatter\", \"x\": [\"2022-01-07\", \"2022-01-10\", \"2022-01-11\", \"2022-01-12\", \"2022-01-13\", \"2022-01-14\", \"2022-01-18\", \"2022-01-19\", \"2022-01-20\", \"2022-01-21\", \"2022-01-25\", \"2022-01-26\", \"2022-01-27\", \"2022-01-28\", \"2022-01-31\", \"2022-02-01\", \"2022-02-02\", \"2022-02-03\", \"2022-02-04\", \"2022-02-07\", \"2022-02-08\", \"2022-02-09\", \"2022-02-10\", \"2022-02-11\", \"2022-02-14\", \"2022-02-15\", \"2022-02-16\", \"2022-02-17\", \"2022-02-18\", \"2022-02-22\", \"2022-02-23\", \"2022-02-24\", \"2022-02-25\", \"2022-03-01\", \"2022-03-02\", \"2022-03-03\", \"2022-03-04\", \"2022-03-07\", \"2022-03-08\", \"2022-03-09\", \"2022-03-10\", \"2022-03-11\", \"2022-03-14\", \"2022-03-15\", \"2022-03-16\", \"2022-03-17\", \"2022-03-18\", \"2022-03-21\", \"2022-03-22\", \"2022-03-23\", \"2022-03-24\", \"2022-03-25\", \"2022-03-28\", \"2022-03-29\"], \"xaxis\": \"x\", \"y\": [1.000988377086955, 1.001104651519131, 1.0179069731704515, 1.020523192307873, 1.001104651519131, 1.0062209930156283, 0.9872092794991294, 0.9664534494999891, 0.9564534041982623, 0.9442442335121034, 0.9289534794790725, 0.9284302001208219, 0.9256977065512246, 0.9902906851921708, 1.0161627678608938, 1.0151743907739392, 1.0223255792469768, 1.005232527101758, 1.0035443715757775, 0.9992948031191394, 1.0177485059534903, 1.0261894612372215, 1.0019725793088892, 0.9817142688625505, 0.9831114274138871, 1.0058728803344223, 1.0044758106100016, 0.9831114274138871, 0.9739136668114842, 0.9565660367269091, 0.931825253651919, 0.9473682761245067, 0.9596513508042258, 0.9500460523142564, 0.9696058278983843, 0.9676847682003907, 0.949871418598704, 0.9273427810232661, 0.9165150465244294, 0.9485907121333743, 0.9228021267650681, 0.900739119879828, 0.8768133237530544, 0.9028348132933741, 0.9290309365492467, 0.9350269309883268, 0.9545867065724544, 0.9627366648815414, 0.9827621599827817, 0.9908538478354082, 1.0133243037812998, 1.0171081527208257, 1.0222309785821433, 1.041790754166271], \"yaxis\": \"y\"}, {\"hovertemplate\": \"variable=fbp_positions<br>ds=%{x}<br>Portfolio Balance=%{y}<extra></extra>\", \"legendgroup\": \"fbp_positions\", \"line\": {\"color\": \"#EF553B\", \"dash\": \"solid\"}, \"mode\": \"lines\", \"name\": \"fbp_positions\", \"orientation\": \"v\", \"showlegend\": true, \"type\": \"scatter\", \"x\": [\"2022-01-07\", \"2022-01-10\", \"2022-01-11\", \"2022-01-12\", \"2022-01-13\", \"2022-01-14\", \"2022-01-18\", \"2022-01-19\", \"2022-01-20\", \"2022-01-21\", \"2022-01-25\", \"2022-01-26\", \"2022-01-27\", \"2022-01-28\", \"2022-01-31\", \"2022-02-01\", \"2022-02-02\", \"2022-02-03\", \"2022-02-04\", \"2022-02-07\", \"2022-02-08\", \"2022-02-09\", \"2022-02-10\", \"2022-02-11\", \"2022-02-14\", \"2022-02-15\", \"2022-02-16\", \"2022-02-17\", \"2022-02-18\", \"2022-02-22\", \"2022-02-23\", \"2022-02-24\", \"2022-02-25\", \"2022-03-01\", \"2022-03-02\", \"2022-03-03\", \"2022-03-04\", \"2022-03-07\", \"2022-03-08\", \"2022-03-09\", \"2022-03-10\", \"2022-03-11\", \"2022-03-14\", \"2022-03-15\", \"2022-03-16\", \"2022-03-17\", \"2022-03-18\", \"2022-03-21\", \"2022-03-22\", \"2022-03-23\", \"2022-03-24\", \"2022-03-25\", \"2022-03-28\", \"2022-03-29\"], \"xaxis\": \"x\", \"y\": [1.000988377086955, 1.001104651519131, 1.0179069731704515, 1.020523192307873, 1.020523192307873, 1.020523192307873, 1.001241250563691, 0.9801904018567478, 0.9700482181561707, 0.9576655090589087, 0.9421574156809158, 0.9416266985473463, 0.9388553659276114, 1.0043664546654598, 1.0043664546654598, 1.005344309110685, 0.9983119049718374, 1.015287278319609, 1.0169951876835583, 1.021320028217746, 1.0028015669385089, 0.9945529895512706, 1.0185905458844446, 1.039609822216387, 1.038132370411169, 1.0146409317449414, 1.0160521395728714, 1.038132370411169, 1.0479366203586085, 1.0669412851115667, 1.0952695180986465, 1.077299950020023, 1.0912676498808263, 1.1023007482069749, 1.08006412932456, 1.082208285911785, 1.1025034060315462, 1.129287352775342, 1.1426287852756754, 1.1826178492530126, 1.1826178492530126, 1.1826178492530126, 1.1826178492530126, 1.217714804512328, 1.2530473001580624, 1.2530473001580624, 1.2530473001580624, 1.2530473001580624, 1.2275142733559548, 1.2174899268225698, 1.1904921002993663, 1.1860632278543057, 1.1801193702486232, 1.1579624544262919], \"yaxis\": \"y\"}],                        {\"legend\": {\"title\": {\"text\": \"variable\"}, \"tracegroupgap\": 0}, \"template\": {\"data\": {\"bar\": [{\"error_x\": {\"color\": \"#2a3f5f\"}, \"error_y\": {\"color\": \"#2a3f5f\"}, \"marker\": {\"line\": {\"color\": \"#E5ECF6\", \"width\": 0.5}}, \"type\": \"bar\"}], \"barpolar\": [{\"marker\": {\"line\": {\"color\": \"#E5ECF6\", \"width\": 0.5}}, \"type\": \"barpolar\"}], \"carpet\": [{\"aaxis\": {\"endlinecolor\": \"#2a3f5f\", \"gridcolor\": \"white\", \"linecolor\": \"white\", \"minorgridcolor\": \"white\", \"startlinecolor\": \"#2a3f5f\"}, \"baxis\": {\"endlinecolor\": \"#2a3f5f\", \"gridcolor\": \"white\", \"linecolor\": \"white\", \"minorgridcolor\": \"white\", \"startlinecolor\": \"#2a3f5f\"}, \"type\": \"carpet\"}], \"choropleth\": [{\"colorbar\": {\"outlinewidth\": 0, \"ticks\": \"\"}, \"type\": \"choropleth\"}], \"contour\": [{\"colorbar\": {\"outlinewidth\": 0, \"ticks\": \"\"}, \"colorscale\": [[0.0, \"#0d0887\"], [0.1111111111111111, \"#46039f\"], [0.2222222222222222, \"#7201a8\"], [0.3333333333333333, \"#9c179e\"], [0.4444444444444444, \"#bd3786\"], [0.5555555555555556, \"#d8576b\"], [0.6666666666666666, \"#ed7953\"], [0.7777777777777778, \"#fb9f3a\"], [0.8888888888888888, \"#fdca26\"], [1.0, \"#f0f921\"]], \"type\": \"contour\"}], \"contourcarpet\": [{\"colorbar\": {\"outlinewidth\": 0, \"ticks\": \"\"}, \"type\": \"contourcarpet\"}], \"heatmap\": [{\"colorbar\": {\"outlinewidth\": 0, \"ticks\": \"\"}, \"colorscale\": [[0.0, \"#0d0887\"], [0.1111111111111111, \"#46039f\"], [0.2222222222222222, \"#7201a8\"], [0.3333333333333333, \"#9c179e\"], [0.4444444444444444, \"#bd3786\"], [0.5555555555555556, \"#d8576b\"], [0.6666666666666666, \"#ed7953\"], [0.7777777777777778, \"#fb9f3a\"], [0.8888888888888888, \"#fdca26\"], [1.0, \"#f0f921\"]], \"type\": \"heatmap\"}], \"heatmapgl\": [{\"colorbar\": {\"outlinewidth\": 0, \"ticks\": \"\"}, \"colorscale\": [[0.0, \"#0d0887\"], [0.1111111111111111, \"#46039f\"], [0.2222222222222222, \"#7201a8\"], [0.3333333333333333, \"#9c179e\"], [0.4444444444444444, \"#bd3786\"], [0.5555555555555556, \"#d8576b\"], [0.6666666666666666, \"#ed7953\"], [0.7777777777777778, \"#fb9f3a\"], [0.8888888888888888, \"#fdca26\"], [1.0, \"#f0f921\"]], \"type\": \"heatmapgl\"}], \"histogram\": [{\"marker\": {\"colorbar\": {\"outlinewidth\": 0, \"ticks\": \"\"}}, \"type\": \"histogram\"}], \"histogram2d\": [{\"colorbar\": {\"outlinewidth\": 0, \"ticks\": \"\"}, \"colorscale\": [[0.0, \"#0d0887\"], [0.1111111111111111, \"#46039f\"], [0.2222222222222222, \"#7201a8\"], [0.3333333333333333, \"#9c179e\"], [0.4444444444444444, \"#bd3786\"], [0.5555555555555556, \"#d8576b\"], [0.6666666666666666, \"#ed7953\"], [0.7777777777777778, \"#fb9f3a\"], [0.8888888888888888, \"#fdca26\"], [1.0, \"#f0f921\"]], \"type\": \"histogram2d\"}], \"histogram2dcontour\": [{\"colorbar\": {\"outlinewidth\": 0, \"ticks\": \"\"}, \"colorscale\": [[0.0, \"#0d0887\"], [0.1111111111111111, \"#46039f\"], [0.2222222222222222, \"#7201a8\"], [0.3333333333333333, \"#9c179e\"], [0.4444444444444444, \"#bd3786\"], [0.5555555555555556, \"#d8576b\"], [0.6666666666666666, \"#ed7953\"], [0.7777777777777778, \"#fb9f3a\"], [0.8888888888888888, \"#fdca26\"], [1.0, \"#f0f921\"]], \"type\": \"histogram2dcontour\"}], \"mesh3d\": [{\"colorbar\": {\"outlinewidth\": 0, \"ticks\": \"\"}, \"type\": \"mesh3d\"}], \"parcoords\": [{\"line\": {\"colorbar\": {\"outlinewidth\": 0, \"ticks\": \"\"}}, \"type\": \"parcoords\"}], \"pie\": [{\"automargin\": true, \"type\": \"pie\"}], \"scatter\": [{\"marker\": {\"colorbar\": {\"outlinewidth\": 0, \"ticks\": \"\"}}, \"type\": \"scatter\"}], \"scatter3d\": [{\"line\": {\"colorbar\": {\"outlinewidth\": 0, \"ticks\": \"\"}}, \"marker\": {\"colorbar\": {\"outlinewidth\": 0, \"ticks\": \"\"}}, \"type\": \"scatter3d\"}], \"scattercarpet\": [{\"marker\": {\"colorbar\": {\"outlinewidth\": 0, \"ticks\": \"\"}}, \"type\": \"scattercarpet\"}], \"scattergeo\": [{\"marker\": {\"colorbar\": {\"outlinewidth\": 0, \"ticks\": \"\"}}, \"type\": \"scattergeo\"}], \"scattergl\": [{\"marker\": {\"colorbar\": {\"outlinewidth\": 0, \"ticks\": \"\"}}, \"type\": \"scattergl\"}], \"scattermapbox\": [{\"marker\": {\"colorbar\": {\"outlinewidth\": 0, \"ticks\": \"\"}}, \"type\": \"scattermapbox\"}], \"scatterpolar\": [{\"marker\": {\"colorbar\": {\"outlinewidth\": 0, \"ticks\": \"\"}}, \"type\": \"scatterpolar\"}], \"scatterpolargl\": [{\"marker\": {\"colorbar\": {\"outlinewidth\": 0, \"ticks\": \"\"}}, \"type\": \"scatterpolargl\"}], \"scatterternary\": [{\"marker\": {\"colorbar\": {\"outlinewidth\": 0, \"ticks\": \"\"}}, \"type\": \"scatterternary\"}], \"surface\": [{\"colorbar\": {\"outlinewidth\": 0, \"ticks\": \"\"}, \"colorscale\": [[0.0, \"#0d0887\"], [0.1111111111111111, \"#46039f\"], [0.2222222222222222, \"#7201a8\"], [0.3333333333333333, \"#9c179e\"], [0.4444444444444444, \"#bd3786\"], [0.5555555555555556, \"#d8576b\"], [0.6666666666666666, \"#ed7953\"], [0.7777777777777778, \"#fb9f3a\"], [0.8888888888888888, \"#fdca26\"], [1.0, \"#f0f921\"]], \"type\": \"surface\"}], \"table\": [{\"cells\": {\"fill\": {\"color\": \"#EBF0F8\"}, \"line\": {\"color\": \"white\"}}, \"header\": {\"fill\": {\"color\": \"#C8D4E3\"}, \"line\": {\"color\": \"white\"}}, \"type\": \"table\"}]}, \"layout\": {\"annotationdefaults\": {\"arrowcolor\": \"#2a3f5f\", \"arrowhead\": 0, \"arrowwidth\": 1}, \"autotypenumbers\": \"strict\", \"coloraxis\": {\"colorbar\": {\"outlinewidth\": 0, \"ticks\": \"\"}}, \"colorscale\": {\"diverging\": [[0, \"#8e0152\"], [0.1, \"#c51b7d\"], [0.2, \"#de77ae\"], [0.3, \"#f1b6da\"], [0.4, \"#fde0ef\"], [0.5, \"#f7f7f7\"], [0.6, \"#e6f5d0\"], [0.7, \"#b8e186\"], [0.8, \"#7fbc41\"], [0.9, \"#4d9221\"], [1, \"#276419\"]], \"sequential\": [[0.0, \"#0d0887\"], [0.1111111111111111, \"#46039f\"], [0.2222222222222222, \"#7201a8\"], [0.3333333333333333, \"#9c179e\"], [0.4444444444444444, \"#bd3786\"], [0.5555555555555556, \"#d8576b\"], [0.6666666666666666, \"#ed7953\"], [0.7777777777777778, \"#fb9f3a\"], [0.8888888888888888, \"#fdca26\"], [1.0, \"#f0f921\"]], \"sequentialminus\": [[0.0, \"#0d0887\"], [0.1111111111111111, \"#46039f\"], [0.2222222222222222, \"#7201a8\"], [0.3333333333333333, \"#9c179e\"], [0.4444444444444444, \"#bd3786\"], [0.5555555555555556, \"#d8576b\"], [0.6666666666666666, \"#ed7953\"], [0.7777777777777778, \"#fb9f3a\"], [0.8888888888888888, \"#fdca26\"], [1.0, \"#f0f921\"]]}, \"colorway\": [\"#636efa\", \"#EF553B\", \"#00cc96\", \"#ab63fa\", \"#FFA15A\", \"#19d3f3\", \"#FF6692\", \"#B6E880\", \"#FF97FF\", \"#FECB52\"], \"font\": {\"color\": \"#2a3f5f\"}, \"geo\": {\"bgcolor\": \"white\", \"lakecolor\": \"white\", \"landcolor\": \"#E5ECF6\", \"showlakes\": true, \"showland\": true, \"subunitcolor\": \"white\"}, \"hoverlabel\": {\"align\": \"left\"}, \"hovermode\": \"closest\", \"mapbox\": {\"style\": \"light\"}, \"paper_bgcolor\": \"white\", \"plot_bgcolor\": \"#E5ECF6\", \"polar\": {\"angularaxis\": {\"gridcolor\": \"white\", \"linecolor\": \"white\", \"ticks\": \"\"}, \"bgcolor\": \"#E5ECF6\", \"radialaxis\": {\"gridcolor\": \"white\", \"linecolor\": \"white\", \"ticks\": \"\"}}, \"scene\": {\"xaxis\": {\"backgroundcolor\": \"#E5ECF6\", \"gridcolor\": \"white\", \"gridwidth\": 2, \"linecolor\": \"white\", \"showbackground\": true, \"ticks\": \"\", \"zerolinecolor\": \"white\"}, \"yaxis\": {\"backgroundcolor\": \"#E5ECF6\", \"gridcolor\": \"white\", \"gridwidth\": 2, \"linecolor\": \"white\", \"showbackground\": true, \"ticks\": \"\", \"zerolinecolor\": \"white\"}, \"zaxis\": {\"backgroundcolor\": \"#E5ECF6\", \"gridcolor\": \"white\", \"gridwidth\": 2, \"linecolor\": \"white\", \"showbackground\": true, \"ticks\": \"\", \"zerolinecolor\": \"white\"}}, \"shapedefaults\": {\"line\": {\"color\": \"#2a3f5f\"}}, \"ternary\": {\"aaxis\": {\"gridcolor\": \"white\", \"linecolor\": \"white\", \"ticks\": \"\"}, \"baxis\": {\"gridcolor\": \"white\", \"linecolor\": \"white\", \"ticks\": \"\"}, \"bgcolor\": \"#E5ECF6\", \"caxis\": {\"gridcolor\": \"white\", \"linecolor\": \"white\", \"ticks\": \"\"}}, \"title\": {\"x\": 0.05}, \"xaxis\": {\"automargin\": true, \"gridcolor\": \"white\", \"linecolor\": \"white\", \"ticks\": \"\", \"title\": {\"standoff\": 15}, \"zerolinecolor\": \"white\", \"zerolinewidth\": 2}, \"yaxis\": {\"automargin\": true, \"gridcolor\": \"white\", \"linecolor\": \"white\", \"ticks\": \"\", \"title\": {\"standoff\": 15}, \"zerolinecolor\": \"white\", \"zerolinewidth\": 2}}}, \"title\": {\"text\": \"FBProphet vs Buy&Hold for AAPL\"}, \"xaxis\": {\"anchor\": \"y\", \"domain\": [0.0, 1.0], \"title\": {\"text\": \"ds\"}}, \"yaxis\": {\"anchor\": \"x\", \"domain\": [0.0, 1.0], \"title\": {\"text\": \"Portfolio Balance\"}}},                        {\"responsive\": true}                    ).then(function(){\n",
       "                            \n",
       "var gd = document.getElementById('be9c177d-a0ea-4118-ad89-829a0074d21a');\n",
       "var x = new MutationObserver(function (mutations, observer) {{\n",
       "        var display = window.getComputedStyle(gd).display;\n",
       "        if (!display || display === 'none') {{\n",
       "            console.log([gd, 'removed!']);\n",
       "            Plotly.purge(gd);\n",
       "            observer.disconnect();\n",
       "        }}\n",
       "}});\n",
       "\n",
       "// Listen for the removal of the full notebook cells\n",
       "var notebookContainer = gd.closest('#notebook-container');\n",
       "if (notebookContainer) {{\n",
       "    x.observe(notebookContainer, {childList: true});\n",
       "}}\n",
       "\n",
       "// Listen for the clearing of the current output cell\n",
       "var outputEl = gd.closest('.output');\n",
       "if (outputEl) {{\n",
       "    x.observe(outputEl, {childList: true});\n",
       "}}\n",
       "\n",
       "                        })                };                });            </script>        </div>"
      ]
     },
     "metadata": {},
     "output_type": "display_data"
    },
    {
     "name": "stdout",
     "output_type": "stream",
     "text": [
      "Short AAPL\n",
      "Best Optimum Parameters Found:\n",
      " {'n_days': 60, 'training_days': 400, 'mov_avg': 5, 'forecast_period': 5, 'backtestAnalysis': {'result': False, 'score': 4, 'endingBalance': {'prophet': 1.1616843661229574, 'buyHold': 1.041790754166271}, 'betterThanBuyHold': 0.7307692307692307, 'greaterPortfolioBalance': 0.8269230769230769, 'upwardTrend': 0.6346153846153846, 'pValue': 1.2813715844279519e-15}}\n",
      "Backtesting NFLX. . .\n",
      "Tuning FBP parameters for NFLX. . .\n"
     ]
    },
    {
     "data": {
      "application/vnd.jupyter.widget-view+json": {
       "model_id": "fd704bd924bc4a79abbe1cdbb0dbaaeb",
       "version_major": 2,
       "version_minor": 0
      },
      "text/plain": [
       "  0%|          | 0/4 [00:00<?, ?it/s]"
      ]
     },
     "metadata": {},
     "output_type": "display_data"
    },
    {
     "data": {
      "application/vnd.jupyter.widget-view+json": {
       "model_id": "",
       "version_major": 2,
       "version_minor": 0
      },
      "text/plain": [
       "  0%|          | 0/62 [00:00<?, ?it/s]"
      ]
     },
     "metadata": {},
     "output_type": "display_data"
    },
    {
     "data": {
      "application/vnd.jupyter.widget-view+json": {
       "model_id": "",
       "version_major": 2,
       "version_minor": 0
      },
      "text/plain": [
       "  0%|          | 0/62 [00:00<?, ?it/s]"
      ]
     },
     "metadata": {},
     "output_type": "display_data"
    },
    {
     "data": {
      "application/vnd.jupyter.widget-view+json": {
       "model_id": "",
       "version_major": 2,
       "version_minor": 0
      },
      "text/plain": [
       "  0%|          | 0/62 [00:00<?, ?it/s]"
      ]
     },
     "metadata": {},
     "output_type": "display_data"
    },
    {
     "data": {
      "application/vnd.jupyter.widget-view+json": {
       "model_id": "",
       "version_major": 2,
       "version_minor": 0
      },
      "text/plain": [
       "  0%|          | 0/62 [00:00<?, ?it/s]"
      ]
     },
     "metadata": {},
     "output_type": "display_data"
    },
    {
     "name": "stderr",
     "output_type": "stream",
     "text": [
      "WARNING:prophet.models:Optimization terminated abnormally. Falling back to Newton.\n"
     ]
    },
    {
     "data": {
      "application/vnd.plotly.v1+json": {
       "config": {
        "plotlyServerURL": "https://plot.ly"
       },
       "data": [
        {
         "hovertemplate": "variable=buy_hold<br>ds=%{x}<br>Portfolio Balance=%{y}<extra></extra>",
         "legendgroup": "buy_hold",
         "line": {
          "color": "#636efa",
          "dash": "solid"
         },
         "mode": "lines",
         "name": "buy_hold",
         "orientation": "v",
         "showlegend": true,
         "type": "scatter",
         "x": [
          "2022-01-07",
          "2022-01-10",
          "2022-01-11",
          "2022-01-12",
          "2022-01-13",
          "2022-01-14",
          "2022-01-18",
          "2022-01-19",
          "2022-01-20",
          "2022-01-21",
          "2022-01-25",
          "2022-01-26",
          "2022-01-27",
          "2022-01-28",
          "2022-01-31",
          "2022-02-01",
          "2022-02-02",
          "2022-02-03",
          "2022-02-04",
          "2022-02-07",
          "2022-02-08",
          "2022-02-09",
          "2022-02-10",
          "2022-02-11",
          "2022-02-14",
          "2022-02-15",
          "2022-02-16",
          "2022-02-17",
          "2022-02-18",
          "2022-02-22",
          "2022-02-23",
          "2022-02-24",
          "2022-02-25",
          "2022-03-01",
          "2022-03-02",
          "2022-03-03",
          "2022-03-04",
          "2022-03-07",
          "2022-03-08",
          "2022-03-09",
          "2022-03-10",
          "2022-03-11",
          "2022-03-14",
          "2022-03-15",
          "2022-03-16",
          "2022-03-17",
          "2022-03-18",
          "2022-03-21",
          "2022-03-22",
          "2022-03-23",
          "2022-03-24",
          "2022-03-25",
          "2022-03-28",
          "2022-03-29"
         ],
         "xaxis": "x",
         "y": [
          0.9778958937366734,
          0.9757089356844599,
          0.9774983251707127,
          0.9709555423694577,
          0.9383868004588586,
          0.9501166175387088,
          0.9232048438942176,
          0.9323501343558925,
          0.9185960711091757,
          0.7184297850780076,
          0.6622567333211772,
          0.6501112011634069,
          0.6989102054328564,
          0.694680909858388,
          0.7720002740178465,
          0.8262032985174024,
          0.7762295144357433,
          0.7330694973901565,
          0.7413291939429705,
          0.7267437005404132,
          0.7293282271585885,
          0.7462452439867481,
          0.7342804047565706,
          0.7072421570940784,
          0.7167489437240814,
          0.7364311800980088,
          0.7194780357156453,
          0.6988559865232643,
          0.7072060295398742,
          0.6820654988696764,
          0.6641363589580834,
          0.7049287250238636,
          0.7063203804744412,
          0.6980787752770158,
          0.6868550197388821,
          0.6652388836618844,
          0.653780161129995,
          0.6330496189618585,
          0.6176869694696245,
          0.6484664873636851,
          0.6448155635959129,
          0.6150843514960616,
          0.5982577362882697,
          0.6212836191712331,
          0.6461891828476746,
          0.6712574032528922,
          0.6878852341777036,
          0.677022919651327,
          0.692078347041396,
          0.6768421715671624,
          0.6790471658181932,
          0.6756854831103407,
          0.6841078363919307,
          0.7081639337137152
         ],
         "yaxis": "y"
        },
        {
         "hovertemplate": "variable=fbp_positions<br>ds=%{x}<br>Portfolio Balance=%{y}<extra></extra>",
         "legendgroup": "fbp_positions",
         "line": {
          "color": "#EF553B",
          "dash": "solid"
         },
         "mode": "lines",
         "name": "fbp_positions",
         "orientation": "v",
         "showlegend": true,
         "type": "scatter",
         "x": [
          "2022-01-07",
          "2022-01-10",
          "2022-01-11",
          "2022-01-12",
          "2022-01-13",
          "2022-01-14",
          "2022-01-18",
          "2022-01-19",
          "2022-01-20",
          "2022-01-21",
          "2022-01-25",
          "2022-01-26",
          "2022-01-27",
          "2022-01-28",
          "2022-01-31",
          "2022-02-01",
          "2022-02-02",
          "2022-02-03",
          "2022-02-04",
          "2022-02-07",
          "2022-02-08",
          "2022-02-09",
          "2022-02-10",
          "2022-02-11",
          "2022-02-14",
          "2022-02-15",
          "2022-02-16",
          "2022-02-17",
          "2022-02-18",
          "2022-02-22",
          "2022-02-23",
          "2022-02-24",
          "2022-02-25",
          "2022-03-01",
          "2022-03-02",
          "2022-03-03",
          "2022-03-04",
          "2022-03-07",
          "2022-03-08",
          "2022-03-09",
          "2022-03-10",
          "2022-03-11",
          "2022-03-14",
          "2022-03-15",
          "2022-03-16",
          "2022-03-17",
          "2022-03-18",
          "2022-03-21",
          "2022-03-22",
          "2022-03-23",
          "2022-03-24",
          "2022-03-25",
          "2022-03-28",
          "2022-03-29"
         ],
         "xaxis": "x",
         "y": [
          0.9778958937366734,
          0.9757089356844599,
          0.9774983251707127,
          0.9709555423694577,
          0.9709555423694577,
          0.9709555423694577,
          0.9434535123104515,
          0.9434535123104515,
          0.9295356516264718,
          0.9295356516264718,
          0.8568565181145401,
          0.8411421012249378,
          0.9042803719014527,
          0.8988083256425307,
          0.9988474763571726,
          1.0689777030610246,
          1.0689777030610246,
          1.1319145679145224,
          1.1319145679145224,
          1.1319145679145224,
          1.1319145679145224,
          1.1319145679145224,
          1.1503587150545826,
          1.1503587150545826,
          1.1351006320846015,
          1.1047633520336535,
          1.130795019000027,
          1.1641628529429386,
          1.1504174810224852,
          1.192821188603513,
          1.2250227955348612,
          1.154133957358077,
          1.15185997963231,
          1.1654589823968289,
          1.184503506105947,
          1.222992520504391,
          1.2444277563592294,
          1.2851791624191689,
          1.2851791624191689,
          1.2851791624191689,
          1.2851791624191689,
          1.2851791624191689,
          1.3213261504602554,
          1.3213261504602554,
          1.3213261504602554,
          1.3213261504602554,
          1.2893865379569447,
          1.3100737580123267,
          1.281574498609533,
          1.281574498609533,
          1.281574498609533,
          1.281574498609533,
          1.281574498609533,
          1.281574498609533
         ],
         "yaxis": "y"
        }
       ],
       "layout": {
        "autosize": true,
        "legend": {
         "title": {
          "text": "variable"
         },
         "tracegroupgap": 0
        },
        "template": {
         "data": {
          "bar": [
           {
            "error_x": {
             "color": "#2a3f5f"
            },
            "error_y": {
             "color": "#2a3f5f"
            },
            "marker": {
             "line": {
              "color": "#E5ECF6",
              "width": 0.5
             }
            },
            "type": "bar"
           }
          ],
          "barpolar": [
           {
            "marker": {
             "line": {
              "color": "#E5ECF6",
              "width": 0.5
             }
            },
            "type": "barpolar"
           }
          ],
          "carpet": [
           {
            "aaxis": {
             "endlinecolor": "#2a3f5f",
             "gridcolor": "white",
             "linecolor": "white",
             "minorgridcolor": "white",
             "startlinecolor": "#2a3f5f"
            },
            "baxis": {
             "endlinecolor": "#2a3f5f",
             "gridcolor": "white",
             "linecolor": "white",
             "minorgridcolor": "white",
             "startlinecolor": "#2a3f5f"
            },
            "type": "carpet"
           }
          ],
          "choropleth": [
           {
            "colorbar": {
             "outlinewidth": 0,
             "ticks": ""
            },
            "type": "choropleth"
           }
          ],
          "contour": [
           {
            "colorbar": {
             "outlinewidth": 0,
             "ticks": ""
            },
            "colorscale": [
             [
              0,
              "#0d0887"
             ],
             [
              0.1111111111111111,
              "#46039f"
             ],
             [
              0.2222222222222222,
              "#7201a8"
             ],
             [
              0.3333333333333333,
              "#9c179e"
             ],
             [
              0.4444444444444444,
              "#bd3786"
             ],
             [
              0.5555555555555556,
              "#d8576b"
             ],
             [
              0.6666666666666666,
              "#ed7953"
             ],
             [
              0.7777777777777778,
              "#fb9f3a"
             ],
             [
              0.8888888888888888,
              "#fdca26"
             ],
             [
              1,
              "#f0f921"
             ]
            ],
            "type": "contour"
           }
          ],
          "contourcarpet": [
           {
            "colorbar": {
             "outlinewidth": 0,
             "ticks": ""
            },
            "type": "contourcarpet"
           }
          ],
          "heatmap": [
           {
            "colorbar": {
             "outlinewidth": 0,
             "ticks": ""
            },
            "colorscale": [
             [
              0,
              "#0d0887"
             ],
             [
              0.1111111111111111,
              "#46039f"
             ],
             [
              0.2222222222222222,
              "#7201a8"
             ],
             [
              0.3333333333333333,
              "#9c179e"
             ],
             [
              0.4444444444444444,
              "#bd3786"
             ],
             [
              0.5555555555555556,
              "#d8576b"
             ],
             [
              0.6666666666666666,
              "#ed7953"
             ],
             [
              0.7777777777777778,
              "#fb9f3a"
             ],
             [
              0.8888888888888888,
              "#fdca26"
             ],
             [
              1,
              "#f0f921"
             ]
            ],
            "type": "heatmap"
           }
          ],
          "heatmapgl": [
           {
            "colorbar": {
             "outlinewidth": 0,
             "ticks": ""
            },
            "colorscale": [
             [
              0,
              "#0d0887"
             ],
             [
              0.1111111111111111,
              "#46039f"
             ],
             [
              0.2222222222222222,
              "#7201a8"
             ],
             [
              0.3333333333333333,
              "#9c179e"
             ],
             [
              0.4444444444444444,
              "#bd3786"
             ],
             [
              0.5555555555555556,
              "#d8576b"
             ],
             [
              0.6666666666666666,
              "#ed7953"
             ],
             [
              0.7777777777777778,
              "#fb9f3a"
             ],
             [
              0.8888888888888888,
              "#fdca26"
             ],
             [
              1,
              "#f0f921"
             ]
            ],
            "type": "heatmapgl"
           }
          ],
          "histogram": [
           {
            "marker": {
             "colorbar": {
              "outlinewidth": 0,
              "ticks": ""
             }
            },
            "type": "histogram"
           }
          ],
          "histogram2d": [
           {
            "colorbar": {
             "outlinewidth": 0,
             "ticks": ""
            },
            "colorscale": [
             [
              0,
              "#0d0887"
             ],
             [
              0.1111111111111111,
              "#46039f"
             ],
             [
              0.2222222222222222,
              "#7201a8"
             ],
             [
              0.3333333333333333,
              "#9c179e"
             ],
             [
              0.4444444444444444,
              "#bd3786"
             ],
             [
              0.5555555555555556,
              "#d8576b"
             ],
             [
              0.6666666666666666,
              "#ed7953"
             ],
             [
              0.7777777777777778,
              "#fb9f3a"
             ],
             [
              0.8888888888888888,
              "#fdca26"
             ],
             [
              1,
              "#f0f921"
             ]
            ],
            "type": "histogram2d"
           }
          ],
          "histogram2dcontour": [
           {
            "colorbar": {
             "outlinewidth": 0,
             "ticks": ""
            },
            "colorscale": [
             [
              0,
              "#0d0887"
             ],
             [
              0.1111111111111111,
              "#46039f"
             ],
             [
              0.2222222222222222,
              "#7201a8"
             ],
             [
              0.3333333333333333,
              "#9c179e"
             ],
             [
              0.4444444444444444,
              "#bd3786"
             ],
             [
              0.5555555555555556,
              "#d8576b"
             ],
             [
              0.6666666666666666,
              "#ed7953"
             ],
             [
              0.7777777777777778,
              "#fb9f3a"
             ],
             [
              0.8888888888888888,
              "#fdca26"
             ],
             [
              1,
              "#f0f921"
             ]
            ],
            "type": "histogram2dcontour"
           }
          ],
          "mesh3d": [
           {
            "colorbar": {
             "outlinewidth": 0,
             "ticks": ""
            },
            "type": "mesh3d"
           }
          ],
          "parcoords": [
           {
            "line": {
             "colorbar": {
              "outlinewidth": 0,
              "ticks": ""
             }
            },
            "type": "parcoords"
           }
          ],
          "pie": [
           {
            "automargin": true,
            "type": "pie"
           }
          ],
          "scatter": [
           {
            "marker": {
             "colorbar": {
              "outlinewidth": 0,
              "ticks": ""
             }
            },
            "type": "scatter"
           }
          ],
          "scatter3d": [
           {
            "line": {
             "colorbar": {
              "outlinewidth": 0,
              "ticks": ""
             }
            },
            "marker": {
             "colorbar": {
              "outlinewidth": 0,
              "ticks": ""
             }
            },
            "type": "scatter3d"
           }
          ],
          "scattercarpet": [
           {
            "marker": {
             "colorbar": {
              "outlinewidth": 0,
              "ticks": ""
             }
            },
            "type": "scattercarpet"
           }
          ],
          "scattergeo": [
           {
            "marker": {
             "colorbar": {
              "outlinewidth": 0,
              "ticks": ""
             }
            },
            "type": "scattergeo"
           }
          ],
          "scattergl": [
           {
            "marker": {
             "colorbar": {
              "outlinewidth": 0,
              "ticks": ""
             }
            },
            "type": "scattergl"
           }
          ],
          "scattermapbox": [
           {
            "marker": {
             "colorbar": {
              "outlinewidth": 0,
              "ticks": ""
             }
            },
            "type": "scattermapbox"
           }
          ],
          "scatterpolar": [
           {
            "marker": {
             "colorbar": {
              "outlinewidth": 0,
              "ticks": ""
             }
            },
            "type": "scatterpolar"
           }
          ],
          "scatterpolargl": [
           {
            "marker": {
             "colorbar": {
              "outlinewidth": 0,
              "ticks": ""
             }
            },
            "type": "scatterpolargl"
           }
          ],
          "scatterternary": [
           {
            "marker": {
             "colorbar": {
              "outlinewidth": 0,
              "ticks": ""
             }
            },
            "type": "scatterternary"
           }
          ],
          "surface": [
           {
            "colorbar": {
             "outlinewidth": 0,
             "ticks": ""
            },
            "colorscale": [
             [
              0,
              "#0d0887"
             ],
             [
              0.1111111111111111,
              "#46039f"
             ],
             [
              0.2222222222222222,
              "#7201a8"
             ],
             [
              0.3333333333333333,
              "#9c179e"
             ],
             [
              0.4444444444444444,
              "#bd3786"
             ],
             [
              0.5555555555555556,
              "#d8576b"
             ],
             [
              0.6666666666666666,
              "#ed7953"
             ],
             [
              0.7777777777777778,
              "#fb9f3a"
             ],
             [
              0.8888888888888888,
              "#fdca26"
             ],
             [
              1,
              "#f0f921"
             ]
            ],
            "type": "surface"
           }
          ],
          "table": [
           {
            "cells": {
             "fill": {
              "color": "#EBF0F8"
             },
             "line": {
              "color": "white"
             }
            },
            "header": {
             "fill": {
              "color": "#C8D4E3"
             },
             "line": {
              "color": "white"
             }
            },
            "type": "table"
           }
          ]
         },
         "layout": {
          "annotationdefaults": {
           "arrowcolor": "#2a3f5f",
           "arrowhead": 0,
           "arrowwidth": 1
          },
          "autotypenumbers": "strict",
          "coloraxis": {
           "colorbar": {
            "outlinewidth": 0,
            "ticks": ""
           }
          },
          "colorscale": {
           "diverging": [
            [
             0,
             "#8e0152"
            ],
            [
             0.1,
             "#c51b7d"
            ],
            [
             0.2,
             "#de77ae"
            ],
            [
             0.3,
             "#f1b6da"
            ],
            [
             0.4,
             "#fde0ef"
            ],
            [
             0.5,
             "#f7f7f7"
            ],
            [
             0.6,
             "#e6f5d0"
            ],
            [
             0.7,
             "#b8e186"
            ],
            [
             0.8,
             "#7fbc41"
            ],
            [
             0.9,
             "#4d9221"
            ],
            [
             1,
             "#276419"
            ]
           ],
           "sequential": [
            [
             0,
             "#0d0887"
            ],
            [
             0.1111111111111111,
             "#46039f"
            ],
            [
             0.2222222222222222,
             "#7201a8"
            ],
            [
             0.3333333333333333,
             "#9c179e"
            ],
            [
             0.4444444444444444,
             "#bd3786"
            ],
            [
             0.5555555555555556,
             "#d8576b"
            ],
            [
             0.6666666666666666,
             "#ed7953"
            ],
            [
             0.7777777777777778,
             "#fb9f3a"
            ],
            [
             0.8888888888888888,
             "#fdca26"
            ],
            [
             1,
             "#f0f921"
            ]
           ],
           "sequentialminus": [
            [
             0,
             "#0d0887"
            ],
            [
             0.1111111111111111,
             "#46039f"
            ],
            [
             0.2222222222222222,
             "#7201a8"
            ],
            [
             0.3333333333333333,
             "#9c179e"
            ],
            [
             0.4444444444444444,
             "#bd3786"
            ],
            [
             0.5555555555555556,
             "#d8576b"
            ],
            [
             0.6666666666666666,
             "#ed7953"
            ],
            [
             0.7777777777777778,
             "#fb9f3a"
            ],
            [
             0.8888888888888888,
             "#fdca26"
            ],
            [
             1,
             "#f0f921"
            ]
           ]
          },
          "colorway": [
           "#636efa",
           "#EF553B",
           "#00cc96",
           "#ab63fa",
           "#FFA15A",
           "#19d3f3",
           "#FF6692",
           "#B6E880",
           "#FF97FF",
           "#FECB52"
          ],
          "font": {
           "color": "#2a3f5f"
          },
          "geo": {
           "bgcolor": "white",
           "lakecolor": "white",
           "landcolor": "#E5ECF6",
           "showlakes": true,
           "showland": true,
           "subunitcolor": "white"
          },
          "hoverlabel": {
           "align": "left"
          },
          "hovermode": "closest",
          "mapbox": {
           "style": "light"
          },
          "paper_bgcolor": "white",
          "plot_bgcolor": "#E5ECF6",
          "polar": {
           "angularaxis": {
            "gridcolor": "white",
            "linecolor": "white",
            "ticks": ""
           },
           "bgcolor": "#E5ECF6",
           "radialaxis": {
            "gridcolor": "white",
            "linecolor": "white",
            "ticks": ""
           }
          },
          "scene": {
           "xaxis": {
            "backgroundcolor": "#E5ECF6",
            "gridcolor": "white",
            "gridwidth": 2,
            "linecolor": "white",
            "showbackground": true,
            "ticks": "",
            "zerolinecolor": "white"
           },
           "yaxis": {
            "backgroundcolor": "#E5ECF6",
            "gridcolor": "white",
            "gridwidth": 2,
            "linecolor": "white",
            "showbackground": true,
            "ticks": "",
            "zerolinecolor": "white"
           },
           "zaxis": {
            "backgroundcolor": "#E5ECF6",
            "gridcolor": "white",
            "gridwidth": 2,
            "linecolor": "white",
            "showbackground": true,
            "ticks": "",
            "zerolinecolor": "white"
           }
          },
          "shapedefaults": {
           "line": {
            "color": "#2a3f5f"
           }
          },
          "ternary": {
           "aaxis": {
            "gridcolor": "white",
            "linecolor": "white",
            "ticks": ""
           },
           "baxis": {
            "gridcolor": "white",
            "linecolor": "white",
            "ticks": ""
           },
           "bgcolor": "#E5ECF6",
           "caxis": {
            "gridcolor": "white",
            "linecolor": "white",
            "ticks": ""
           }
          },
          "title": {
           "x": 0.05
          },
          "xaxis": {
           "automargin": true,
           "gridcolor": "white",
           "linecolor": "white",
           "ticks": "",
           "title": {
            "standoff": 15
           },
           "zerolinecolor": "white",
           "zerolinewidth": 2
          },
          "yaxis": {
           "automargin": true,
           "gridcolor": "white",
           "linecolor": "white",
           "ticks": "",
           "title": {
            "standoff": 15
           },
           "zerolinecolor": "white",
           "zerolinewidth": 2
          }
         }
        },
        "title": {
         "text": "FBProphet vs Buy&Hold for NFLX"
        },
        "xaxis": {
         "anchor": "y",
         "autorange": true,
         "domain": [
          0,
          1
         ],
         "range": [
          "2022-01-07",
          "2022-03-29"
         ],
         "title": {
          "text": "ds"
         },
         "type": "date"
        },
        "yaxis": {
         "anchor": "x",
         "autorange": true,
         "domain": [
          0,
          1
         ],
         "range": [
          0.5580872688342705,
          1.3614966179142545
         ],
         "title": {
          "text": "Portfolio Balance"
         },
         "type": "linear"
        }
       }
      },
      "image/png": "[encoded data removed]",
      "text/html": [
       "<div>                            <div id=\"68a073b3-bd1b-48ce-ac31-a2f019393996\" class=\"plotly-graph-div\" style=\"height:525px; width:100%;\"></div>            <script type=\"text/javascript\">                require([\"plotly\"], function(Plotly) {                    window.PLOTLYENV=window.PLOTLYENV || {};                                    if (document.getElementById(\"68a073b3-bd1b-48ce-ac31-a2f019393996\")) {                    Plotly.newPlot(                        \"68a073b3-bd1b-48ce-ac31-a2f019393996\",                        [{\"hovertemplate\": \"variable=buy_hold<br>ds=%{x}<br>Portfolio Balance=%{y}<extra></extra>\", \"legendgroup\": \"buy_hold\", \"line\": {\"color\": \"#636efa\", \"dash\": \"solid\"}, \"mode\": \"lines\", \"name\": \"buy_hold\", \"orientation\": \"v\", \"showlegend\": true, \"type\": \"scatter\", \"x\": [\"2022-01-07\", \"2022-01-10\", \"2022-01-11\", \"2022-01-12\", \"2022-01-13\", \"2022-01-14\", \"2022-01-18\", \"2022-01-19\", \"2022-01-20\", \"2022-01-21\", \"2022-01-25\", \"2022-01-26\", \"2022-01-27\", \"2022-01-28\", \"2022-01-31\", \"2022-02-01\", \"2022-02-02\", \"2022-02-03\", \"2022-02-04\", \"2022-02-07\", \"2022-02-08\", \"2022-02-09\", \"2022-02-10\", \"2022-02-11\", \"2022-02-14\", \"2022-02-15\", \"2022-02-16\", \"2022-02-17\", \"2022-02-18\", \"2022-02-22\", \"2022-02-23\", \"2022-02-24\", \"2022-02-25\", \"2022-03-01\", \"2022-03-02\", \"2022-03-03\", \"2022-03-04\", \"2022-03-07\", \"2022-03-08\", \"2022-03-09\", \"2022-03-10\", \"2022-03-11\", \"2022-03-14\", \"2022-03-15\", \"2022-03-16\", \"2022-03-17\", \"2022-03-18\", \"2022-03-21\", \"2022-03-22\", \"2022-03-23\", \"2022-03-24\", \"2022-03-25\", \"2022-03-28\", \"2022-03-29\"], \"xaxis\": \"x\", \"y\": [0.9778958937366734, 0.9757089356844599, 0.9774983251707127, 0.9709555423694577, 0.9383868004588586, 0.9501166175387088, 0.9232048438942176, 0.9323501343558925, 0.9185960711091757, 0.7184297850780076, 0.6622567333211772, 0.6501112011634069, 0.6989102054328564, 0.694680909858388, 0.7720002740178465, 0.8262032985174024, 0.7762295144357433, 0.7330694973901565, 0.7413291939429705, 0.7267437005404132, 0.7293282271585885, 0.7462452439867481, 0.7342804047565706, 0.7072421570940784, 0.7167489437240814, 0.7364311800980088, 0.7194780357156453, 0.6988559865232643, 0.7072060295398742, 0.6820654988696764, 0.6641363589580834, 0.7049287250238636, 0.7063203804744412, 0.6980787752770158, 0.6868550197388821, 0.6652388836618844, 0.653780161129995, 0.6330496189618585, 0.6176869694696245, 0.6484664873636851, 0.6448155635959129, 0.6150843514960616, 0.5982577362882697, 0.6212836191712331, 0.6461891828476746, 0.6712574032528922, 0.6878852341777036, 0.677022919651327, 0.692078347041396, 0.6768421715671624, 0.6790471658181932, 0.6756854831103407, 0.6841078363919307, 0.7081639337137152], \"yaxis\": \"y\"}, {\"hovertemplate\": \"variable=fbp_positions<br>ds=%{x}<br>Portfolio Balance=%{y}<extra></extra>\", \"legendgroup\": \"fbp_positions\", \"line\": {\"color\": \"#EF553B\", \"dash\": \"solid\"}, \"mode\": \"lines\", \"name\": \"fbp_positions\", \"orientation\": \"v\", \"showlegend\": true, \"type\": \"scatter\", \"x\": [\"2022-01-07\", \"2022-01-10\", \"2022-01-11\", \"2022-01-12\", \"2022-01-13\", \"2022-01-14\", \"2022-01-18\", \"2022-01-19\", \"2022-01-20\", \"2022-01-21\", \"2022-01-25\", \"2022-01-26\", \"2022-01-27\", \"2022-01-28\", \"2022-01-31\", \"2022-02-01\", \"2022-02-02\", \"2022-02-03\", \"2022-02-04\", \"2022-02-07\", \"2022-02-08\", \"2022-02-09\", \"2022-02-10\", \"2022-02-11\", \"2022-02-14\", \"2022-02-15\", \"2022-02-16\", \"2022-02-17\", \"2022-02-18\", \"2022-02-22\", \"2022-02-23\", \"2022-02-24\", \"2022-02-25\", \"2022-03-01\", \"2022-03-02\", \"2022-03-03\", \"2022-03-04\", \"2022-03-07\", \"2022-03-08\", \"2022-03-09\", \"2022-03-10\", \"2022-03-11\", \"2022-03-14\", \"2022-03-15\", \"2022-03-16\", \"2022-03-17\", \"2022-03-18\", \"2022-03-21\", \"2022-03-22\", \"2022-03-23\", \"2022-03-24\", \"2022-03-25\", \"2022-03-28\", \"2022-03-29\"], \"xaxis\": \"x\", \"y\": [0.9778958937366734, 0.9757089356844599, 0.9774983251707127, 0.9709555423694577, 0.9709555423694577, 0.9709555423694577, 0.9434535123104515, 0.9434535123104515, 0.9295356516264718, 0.9295356516264718, 0.8568565181145401, 0.8411421012249378, 0.9042803719014527, 0.8988083256425307, 0.9988474763571726, 1.0689777030610246, 1.0689777030610246, 1.1319145679145224, 1.1319145679145224, 1.1319145679145224, 1.1319145679145224, 1.1319145679145224, 1.1503587150545826, 1.1503587150545826, 1.1351006320846015, 1.1047633520336535, 1.130795019000027, 1.1641628529429386, 1.1504174810224852, 1.192821188603513, 1.2250227955348612, 1.154133957358077, 1.15185997963231, 1.1654589823968289, 1.184503506105947, 1.222992520504391, 1.2444277563592294, 1.2851791624191689, 1.2851791624191689, 1.2851791624191689, 1.2851791624191689, 1.2851791624191689, 1.3213261504602554, 1.3213261504602554, 1.3213261504602554, 1.3213261504602554, 1.2893865379569447, 1.3100737580123267, 1.281574498609533, 1.281574498609533, 1.281574498609533, 1.281574498609533, 1.281574498609533, 1.281574498609533], \"yaxis\": \"y\"}],                        {\"legend\": {\"title\": {\"text\": \"variable\"}, \"tracegroupgap\": 0}, \"template\": {\"data\": {\"bar\": [{\"error_x\": {\"color\": \"#2a3f5f\"}, \"error_y\": {\"color\": \"#2a3f5f\"}, \"marker\": {\"line\": {\"color\": \"#E5ECF6\", \"width\": 0.5}}, \"type\": \"bar\"}], \"barpolar\": [{\"marker\": {\"line\": {\"color\": \"#E5ECF6\", \"width\": 0.5}}, \"type\": \"barpolar\"}], \"carpet\": [{\"aaxis\": {\"endlinecolor\": \"#2a3f5f\", \"gridcolor\": \"white\", \"linecolor\": \"white\", \"minorgridcolor\": \"white\", \"startlinecolor\": \"#2a3f5f\"}, \"baxis\": {\"endlinecolor\": \"#2a3f5f\", \"gridcolor\": \"white\", \"linecolor\": \"white\", \"minorgridcolor\": \"white\", \"startlinecolor\": \"#2a3f5f\"}, \"type\": \"carpet\"}], \"choropleth\": [{\"colorbar\": {\"outlinewidth\": 0, \"ticks\": \"\"}, \"type\": \"choropleth\"}], \"contour\": [{\"colorbar\": {\"outlinewidth\": 0, \"ticks\": \"\"}, \"colorscale\": [[0.0, \"#0d0887\"], [0.1111111111111111, \"#46039f\"], [0.2222222222222222, \"#7201a8\"], [0.3333333333333333, \"#9c179e\"], [0.4444444444444444, \"#bd3786\"], [0.5555555555555556, \"#d8576b\"], [0.6666666666666666, \"#ed7953\"], [0.7777777777777778, \"#fb9f3a\"], [0.8888888888888888, \"#fdca26\"], [1.0, \"#f0f921\"]], \"type\": \"contour\"}], \"contourcarpet\": [{\"colorbar\": {\"outlinewidth\": 0, \"ticks\": \"\"}, \"type\": \"contourcarpet\"}], \"heatmap\": [{\"colorbar\": {\"outlinewidth\": 0, \"ticks\": \"\"}, \"colorscale\": [[0.0, \"#0d0887\"], [0.1111111111111111, \"#46039f\"], [0.2222222222222222, \"#7201a8\"], [0.3333333333333333, \"#9c179e\"], [0.4444444444444444, \"#bd3786\"], [0.5555555555555556, \"#d8576b\"], [0.6666666666666666, \"#ed7953\"], [0.7777777777777778, \"#fb9f3a\"], [0.8888888888888888, \"#fdca26\"], [1.0, \"#f0f921\"]], \"type\": \"heatmap\"}], \"heatmapgl\": [{\"colorbar\": {\"outlinewidth\": 0, \"ticks\": \"\"}, \"colorscale\": [[0.0, \"#0d0887\"], [0.1111111111111111, \"#46039f\"], [0.2222222222222222, \"#7201a8\"], [0.3333333333333333, \"#9c179e\"], [0.4444444444444444, \"#bd3786\"], [0.5555555555555556, \"#d8576b\"], [0.6666666666666666, \"#ed7953\"], [0.7777777777777778, \"#fb9f3a\"], [0.8888888888888888, \"#fdca26\"], [1.0, \"#f0f921\"]], \"type\": \"heatmapgl\"}], \"histogram\": [{\"marker\": {\"colorbar\": {\"outlinewidth\": 0, \"ticks\": \"\"}}, \"type\": \"histogram\"}], \"histogram2d\": [{\"colorbar\": {\"outlinewidth\": 0, \"ticks\": \"\"}, \"colorscale\": [[0.0, \"#0d0887\"], [0.1111111111111111, \"#46039f\"], [0.2222222222222222, \"#7201a8\"], [0.3333333333333333, \"#9c179e\"], [0.4444444444444444, \"#bd3786\"], [0.5555555555555556, \"#d8576b\"], [0.6666666666666666, \"#ed7953\"], [0.7777777777777778, \"#fb9f3a\"], [0.8888888888888888, \"#fdca26\"], [1.0, \"#f0f921\"]], \"type\": \"histogram2d\"}], \"histogram2dcontour\": [{\"colorbar\": {\"outlinewidth\": 0, \"ticks\": \"\"}, \"colorscale\": [[0.0, \"#0d0887\"], [0.1111111111111111, \"#46039f\"], [0.2222222222222222, \"#7201a8\"], [0.3333333333333333, \"#9c179e\"], [0.4444444444444444, \"#bd3786\"], [0.5555555555555556, \"#d8576b\"], [0.6666666666666666, \"#ed7953\"], [0.7777777777777778, \"#fb9f3a\"], [0.8888888888888888, \"#fdca26\"], [1.0, \"#f0f921\"]], \"type\": \"histogram2dcontour\"}], \"mesh3d\": [{\"colorbar\": {\"outlinewidth\": 0, \"ticks\": \"\"}, \"type\": \"mesh3d\"}], \"parcoords\": [{\"line\": {\"colorbar\": {\"outlinewidth\": 0, \"ticks\": \"\"}}, \"type\": \"parcoords\"}], \"pie\": [{\"automargin\": true, \"type\": \"pie\"}], \"scatter\": [{\"marker\": {\"colorbar\": {\"outlinewidth\": 0, \"ticks\": \"\"}}, \"type\": \"scatter\"}], \"scatter3d\": [{\"line\": {\"colorbar\": {\"outlinewidth\": 0, \"ticks\": \"\"}}, \"marker\": {\"colorbar\": {\"outlinewidth\": 0, \"ticks\": \"\"}}, \"type\": \"scatter3d\"}], \"scattercarpet\": [{\"marker\": {\"colorbar\": {\"outlinewidth\": 0, \"ticks\": \"\"}}, \"type\": \"scattercarpet\"}], \"scattergeo\": [{\"marker\": {\"colorbar\": {\"outlinewidth\": 0, \"ticks\": \"\"}}, \"type\": \"scattergeo\"}], \"scattergl\": [{\"marker\": {\"colorbar\": {\"outlinewidth\": 0, \"ticks\": \"\"}}, \"type\": \"scattergl\"}], \"scattermapbox\": [{\"marker\": {\"colorbar\": {\"outlinewidth\": 0, \"ticks\": \"\"}}, \"type\": \"scattermapbox\"}], \"scatterpolar\": [{\"marker\": {\"colorbar\": {\"outlinewidth\": 0, \"ticks\": \"\"}}, \"type\": \"scatterpolar\"}], \"scatterpolargl\": [{\"marker\": {\"colorbar\": {\"outlinewidth\": 0, \"ticks\": \"\"}}, \"type\": \"scatterpolargl\"}], \"scatterternary\": [{\"marker\": {\"colorbar\": {\"outlinewidth\": 0, \"ticks\": \"\"}}, \"type\": \"scatterternary\"}], \"surface\": [{\"colorbar\": {\"outlinewidth\": 0, \"ticks\": \"\"}, \"colorscale\": [[0.0, \"#0d0887\"], [0.1111111111111111, \"#46039f\"], [0.2222222222222222, \"#7201a8\"], [0.3333333333333333, \"#9c179e\"], [0.4444444444444444, \"#bd3786\"], [0.5555555555555556, \"#d8576b\"], [0.6666666666666666, \"#ed7953\"], [0.7777777777777778, \"#fb9f3a\"], [0.8888888888888888, \"#fdca26\"], [1.0, \"#f0f921\"]], \"type\": \"surface\"}], \"table\": [{\"cells\": {\"fill\": {\"color\": \"#EBF0F8\"}, \"line\": {\"color\": \"white\"}}, \"header\": {\"fill\": {\"color\": \"#C8D4E3\"}, \"line\": {\"color\": \"white\"}}, \"type\": \"table\"}]}, \"layout\": {\"annotationdefaults\": {\"arrowcolor\": \"#2a3f5f\", \"arrowhead\": 0, \"arrowwidth\": 1}, \"autotypenumbers\": \"strict\", \"coloraxis\": {\"colorbar\": {\"outlinewidth\": 0, \"ticks\": \"\"}}, \"colorscale\": {\"diverging\": [[0, \"#8e0152\"], [0.1, \"#c51b7d\"], [0.2, \"#de77ae\"], [0.3, \"#f1b6da\"], [0.4, \"#fde0ef\"], [0.5, \"#f7f7f7\"], [0.6, \"#e6f5d0\"], [0.7, \"#b8e186\"], [0.8, \"#7fbc41\"], [0.9, \"#4d9221\"], [1, \"#276419\"]], \"sequential\": [[0.0, \"#0d0887\"], [0.1111111111111111, \"#46039f\"], [0.2222222222222222, \"#7201a8\"], [0.3333333333333333, \"#9c179e\"], [0.4444444444444444, \"#bd3786\"], [0.5555555555555556, \"#d8576b\"], [0.6666666666666666, \"#ed7953\"], [0.7777777777777778, \"#fb9f3a\"], [0.8888888888888888, \"#fdca26\"], [1.0, \"#f0f921\"]], \"sequentialminus\": [[0.0, \"#0d0887\"], [0.1111111111111111, \"#46039f\"], [0.2222222222222222, \"#7201a8\"], [0.3333333333333333, \"#9c179e\"], [0.4444444444444444, \"#bd3786\"], [0.5555555555555556, \"#d8576b\"], [0.6666666666666666, \"#ed7953\"], [0.7777777777777778, \"#fb9f3a\"], [0.8888888888888888, \"#fdca26\"], [1.0, \"#f0f921\"]]}, \"colorway\": [\"#636efa\", \"#EF553B\", \"#00cc96\", \"#ab63fa\", \"#FFA15A\", \"#19d3f3\", \"#FF6692\", \"#B6E880\", \"#FF97FF\", \"#FECB52\"], \"font\": {\"color\": \"#2a3f5f\"}, \"geo\": {\"bgcolor\": \"white\", \"lakecolor\": \"white\", \"landcolor\": \"#E5ECF6\", \"showlakes\": true, \"showland\": true, \"subunitcolor\": \"white\"}, \"hoverlabel\": {\"align\": \"left\"}, \"hovermode\": \"closest\", \"mapbox\": {\"style\": \"light\"}, \"paper_bgcolor\": \"white\", \"plot_bgcolor\": \"#E5ECF6\", \"polar\": {\"angularaxis\": {\"gridcolor\": \"white\", \"linecolor\": \"white\", \"ticks\": \"\"}, \"bgcolor\": \"#E5ECF6\", \"radialaxis\": {\"gridcolor\": \"white\", \"linecolor\": \"white\", \"ticks\": \"\"}}, \"scene\": {\"xaxis\": {\"backgroundcolor\": \"#E5ECF6\", \"gridcolor\": \"white\", \"gridwidth\": 2, \"linecolor\": \"white\", \"showbackground\": true, \"ticks\": \"\", \"zerolinecolor\": \"white\"}, \"yaxis\": {\"backgroundcolor\": \"#E5ECF6\", \"gridcolor\": \"white\", \"gridwidth\": 2, \"linecolor\": \"white\", \"showbackground\": true, \"ticks\": \"\", \"zerolinecolor\": \"white\"}, \"zaxis\": {\"backgroundcolor\": \"#E5ECF6\", \"gridcolor\": \"white\", \"gridwidth\": 2, \"linecolor\": \"white\", \"showbackground\": true, \"ticks\": \"\", \"zerolinecolor\": \"white\"}}, \"shapedefaults\": {\"line\": {\"color\": \"#2a3f5f\"}}, \"ternary\": {\"aaxis\": {\"gridcolor\": \"white\", \"linecolor\": \"white\", \"ticks\": \"\"}, \"baxis\": {\"gridcolor\": \"white\", \"linecolor\": \"white\", \"ticks\": \"\"}, \"bgcolor\": \"#E5ECF6\", \"caxis\": {\"gridcolor\": \"white\", \"linecolor\": \"white\", \"ticks\": \"\"}}, \"title\": {\"x\": 0.05}, \"xaxis\": {\"automargin\": true, \"gridcolor\": \"white\", \"linecolor\": \"white\", \"ticks\": \"\", \"title\": {\"standoff\": 15}, \"zerolinecolor\": \"white\", \"zerolinewidth\": 2}, \"yaxis\": {\"automargin\": true, \"gridcolor\": \"white\", \"linecolor\": \"white\", \"ticks\": \"\", \"title\": {\"standoff\": 15}, \"zerolinecolor\": \"white\", \"zerolinewidth\": 2}}}, \"title\": {\"text\": \"FBProphet vs Buy&Hold for NFLX\"}, \"xaxis\": {\"anchor\": \"y\", \"domain\": [0.0, 1.0], \"title\": {\"text\": \"ds\"}}, \"yaxis\": {\"anchor\": \"x\", \"domain\": [0.0, 1.0], \"title\": {\"text\": \"Portfolio Balance\"}}},                        {\"responsive\": true}                    ).then(function(){\n",
       "                            \n",
       "var gd = document.getElementById('68a073b3-bd1b-48ce-ac31-a2f019393996');\n",
       "var x = new MutationObserver(function (mutations, observer) {{\n",
       "        var display = window.getComputedStyle(gd).display;\n",
       "        if (!display || display === 'none') {{\n",
       "            console.log([gd, 'removed!']);\n",
       "            Plotly.purge(gd);\n",
       "            observer.disconnect();\n",
       "        }}\n",
       "}});\n",
       "\n",
       "// Listen for the removal of the full notebook cells\n",
       "var notebookContainer = gd.closest('#notebook-container');\n",
       "if (notebookContainer) {{\n",
       "    x.observe(notebookContainer, {childList: true});\n",
       "}}\n",
       "\n",
       "// Listen for the clearing of the current output cell\n",
       "var outputEl = gd.closest('.output');\n",
       "if (outputEl) {{\n",
       "    x.observe(outputEl, {childList: true});\n",
       "}}\n",
       "\n",
       "                        })                };                });            </script>        </div>"
      ]
     },
     "metadata": {},
     "output_type": "display_data"
    },
    {
     "name": "stdout",
     "output_type": "stream",
     "text": [
      "Exit NFLX/Do nothing\n",
      "Best Optimum Parameters Found:\n",
      " {'n_days': 60, 'training_days': 300, 'mov_avg': 5, 'forecast_period': 5, 'backtestAnalysis': {'result': True, 'score': 5, 'endingBalance': {'prophet': 1.281574498609533, 'buyHold': 0.7081639337137152}, 'betterThanBuyHold': 0.9615384615384616, 'greaterPortfolioBalance': 0.7307692307692307, 'upwardTrend': 0.6153846153846154, 'pValue': 1.2707230359857512e-61}}\n",
      "Backtesting AMZN. . .\n",
      "Tuning FBP parameters for AMZN. . .\n"
     ]
    },
    {
     "data": {
      "application/vnd.jupyter.widget-view+json": {
       "model_id": "5d45a4c41f554e3eaecbf06edf8850fe",
       "version_major": 2,
       "version_minor": 0
      },
      "text/plain": [
       "  0%|          | 0/4 [00:00<?, ?it/s]"
      ]
     },
     "metadata": {},
     "output_type": "display_data"
    },
    {
     "data": {
      "application/vnd.jupyter.widget-view+json": {
       "model_id": "",
       "version_major": 2,
       "version_minor": 0
      },
      "text/plain": [
       "  0%|          | 0/62 [00:00<?, ?it/s]"
      ]
     },
     "metadata": {},
     "output_type": "display_data"
    },
    {
     "data": {
      "application/vnd.jupyter.widget-view+json": {
       "model_id": "",
       "version_major": 2,
       "version_minor": 0
      },
      "text/plain": [
       "  0%|          | 0/62 [00:00<?, ?it/s]"
      ]
     },
     "metadata": {},
     "output_type": "display_data"
    },
    {
     "data": {
      "application/vnd.plotly.v1+json": {
       "config": {
        "plotlyServerURL": "https://plot.ly"
       },
       "data": [
        {
         "hovertemplate": "variable=buy_hold<br>ds=%{x}<br>Portfolio Balance=%{y}<extra></extra>",
         "legendgroup": "buy_hold",
         "line": {
          "color": "#636efa",
          "dash": "solid"
         },
         "mode": "lines",
         "name": "buy_hold",
         "orientation": "v",
         "showlegend": true,
         "type": "scatter",
         "x": [
          "2022-01-07",
          "2022-01-10",
          "2022-01-11",
          "2022-01-12",
          "2022-01-13",
          "2022-01-14",
          "2022-01-18",
          "2022-01-19",
          "2022-01-20",
          "2022-01-21",
          "2022-01-25",
          "2022-01-26",
          "2022-01-27",
          "2022-01-28",
          "2022-01-31",
          "2022-02-01",
          "2022-02-02",
          "2022-02-03",
          "2022-02-04",
          "2022-02-07",
          "2022-02-08",
          "2022-02-09",
          "2022-02-10",
          "2022-02-11",
          "2022-02-14",
          "2022-02-15",
          "2022-02-16",
          "2022-02-17",
          "2022-02-18",
          "2022-02-22",
          "2022-02-23",
          "2022-02-24",
          "2022-02-25",
          "2022-03-01",
          "2022-03-02",
          "2022-03-03",
          "2022-03-04",
          "2022-03-07",
          "2022-03-08",
          "2022-03-09",
          "2022-03-10",
          "2022-03-11",
          "2022-03-14",
          "2022-03-15",
          "2022-03-16",
          "2022-03-17",
          "2022-03-18",
          "2022-03-21",
          "2022-03-22",
          "2022-03-23",
          "2022-03-24",
          "2022-03-25",
          "2022-03-28",
          "2022-03-29"
         ],
         "xaxis": "x",
         "y": [
          0.9957122031726582,
          0.9891702173987172,
          1.012912366955969,
          1.0119628963206189,
          0.9875041200056699,
          0.9931640058359021,
          0.9734371046364799,
          0.9573976458990456,
          0.9290277803532999,
          0.8737488941037412,
          0.8574736005589448,
          0.8506529349095929,
          0.8553388992541218,
          0.8819263202412364,
          0.9162011035334248,
          0.9261243353406454,
          0.922565428082796,
          0.85048753649682,
          0.9656087947689831,
          0.9674218963571066,
          0.9887261391105334,
          0.987354050107643,
          0.9739638821310495,
          0.9389877258226706,
          0.950463698787058,
          0.958693167101448,
          0.9684326062782013,
          0.9473121561552432,
          0.9347489054692737,
          0.9200233621519379,
          0.8871267992685382,
          0.9271319047855479,
          0.9420197808127078,
          0.9258088670298447,
          0.9313860536536896,
          0.9059410182680002,
          0.8921129034091214,
          0.8419579283863752,
          0.8331464999243291,
          0.8531429586635566,
          0.8993194737638633,
          0.8913992675811331,
          0.8689097941582358,
          0.902682325579448,
          0.9378269460035497,
          0.9631555594504112,
          0.9877276920012371,
          0.9892039401311579,
          1.0100150533492136,
          1.0009432644562106,
          1.0024225782890797,
          1.0093075489271242,
          1.0351384890182027,
          1.0371261861279475
         ],
         "yaxis": "y"
        },
        {
         "hovertemplate": "variable=fbp_positions<br>ds=%{x}<br>Portfolio Balance=%{y}<extra></extra>",
         "legendgroup": "fbp_positions",
         "line": {
          "color": "#EF553B",
          "dash": "solid"
         },
         "mode": "lines",
         "name": "fbp_positions",
         "orientation": "v",
         "showlegend": true,
         "type": "scatter",
         "x": [
          "2022-01-07",
          "2022-01-10",
          "2022-01-11",
          "2022-01-12",
          "2022-01-13",
          "2022-01-14",
          "2022-01-18",
          "2022-01-19",
          "2022-01-20",
          "2022-01-21",
          "2022-01-25",
          "2022-01-26",
          "2022-01-27",
          "2022-01-28",
          "2022-01-31",
          "2022-02-01",
          "2022-02-02",
          "2022-02-03",
          "2022-02-04",
          "2022-02-07",
          "2022-02-08",
          "2022-02-09",
          "2022-02-10",
          "2022-02-11",
          "2022-02-14",
          "2022-02-15",
          "2022-02-16",
          "2022-02-17",
          "2022-02-18",
          "2022-02-22",
          "2022-02-23",
          "2022-02-24",
          "2022-02-25",
          "2022-03-01",
          "2022-03-02",
          "2022-03-03",
          "2022-03-04",
          "2022-03-07",
          "2022-03-08",
          "2022-03-09",
          "2022-03-10",
          "2022-03-11",
          "2022-03-14",
          "2022-03-15",
          "2022-03-16",
          "2022-03-17",
          "2022-03-18",
          "2022-03-21",
          "2022-03-22",
          "2022-03-23",
          "2022-03-24",
          "2022-03-25",
          "2022-03-28",
          "2022-03-29"
         ],
         "xaxis": "x",
         "y": [
          1,
          1,
          1.0240020869407978,
          1.0240020869407978,
          1.0493648550377874,
          1.0493648550377874,
          1.0285216542211675,
          1.0115745596889547,
          0.9815993092057309,
          0.923192318904974,
          0.9059960442202523,
          0.898789412910281,
          0.9037405451162556,
          0.9318324866345047,
          0.9680468004734232,
          0.9785315649692188,
          0.9785315649692188,
          1.0614610483850766,
          1.2051394989833195,
          1.2028808770235055,
          1.176962207339484,
          1.1785977877083824,
          1.1948012862608401,
          1.2393061880784846,
          1.2243427083294562,
          1.2138328915602234,
          1.2016254838981388,
          1.2284158833818195,
          1.2449260890629963,
          1.264851901608125,
          1.3117553207740744,
          1.2551539787760295,
          1.2753092304015643,
          1.2976398957438124,
          1.289869562657205,
          1.3260979439788543,
          1.3466530044576208,
          1.4268723901605647,
          1.4268723901605647,
          1.4611189420918038,
          1.4611189420918038,
          1.4611189420918038,
          1.4989362113144375,
          1.4428557178113506,
          1.4428557178113506,
          1.4049121744476067,
          1.3699615615890657,
          1.3679170861160999,
          1.3397314890225955,
          1.3518737968569208,
          1.3498787843229882,
          1.3406706140235962,
          1.3072153974703413,
          1.3072153974703413
         ],
         "yaxis": "y"
        }
       ],
       "layout": {
        "autosize": true,
        "legend": {
         "title": {
          "text": "variable"
         },
         "tracegroupgap": 0
        },
        "template": {
         "data": {
          "bar": [
           {
            "error_x": {
             "color": "#2a3f5f"
            },
            "error_y": {
             "color": "#2a3f5f"
            },
            "marker": {
             "line": {
              "color": "#E5ECF6",
              "width": 0.5
             }
            },
            "type": "bar"
           }
          ],
          "barpolar": [
           {
            "marker": {
             "line": {
              "color": "#E5ECF6",
              "width": 0.5
             }
            },
            "type": "barpolar"
           }
          ],
          "carpet": [
           {
            "aaxis": {
             "endlinecolor": "#2a3f5f",
             "gridcolor": "white",
             "linecolor": "white",
             "minorgridcolor": "white",
             "startlinecolor": "#2a3f5f"
            },
            "baxis": {
             "endlinecolor": "#2a3f5f",
             "gridcolor": "white",
             "linecolor": "white",
             "minorgridcolor": "white",
             "startlinecolor": "#2a3f5f"
            },
            "type": "carpet"
           }
          ],
          "choropleth": [
           {
            "colorbar": {
             "outlinewidth": 0,
             "ticks": ""
            },
            "type": "choropleth"
           }
          ],
          "contour": [
           {
            "colorbar": {
             "outlinewidth": 0,
             "ticks": ""
            },
            "colorscale": [
             [
              0,
              "#0d0887"
             ],
             [
              0.1111111111111111,
              "#46039f"
             ],
             [
              0.2222222222222222,
              "#7201a8"
             ],
             [
              0.3333333333333333,
              "#9c179e"
             ],
             [
              0.4444444444444444,
              "#bd3786"
             ],
             [
              0.5555555555555556,
              "#d8576b"
             ],
             [
              0.6666666666666666,
              "#ed7953"
             ],
             [
              0.7777777777777778,
              "#fb9f3a"
             ],
             [
              0.8888888888888888,
              "#fdca26"
             ],
             [
              1,
              "#f0f921"
             ]
            ],
            "type": "contour"
           }
          ],
          "contourcarpet": [
           {
            "colorbar": {
             "outlinewidth": 0,
             "ticks": ""
            },
            "type": "contourcarpet"
           }
          ],
          "heatmap": [
           {
            "colorbar": {
             "outlinewidth": 0,
             "ticks": ""
            },
            "colorscale": [
             [
              0,
              "#0d0887"
             ],
             [
              0.1111111111111111,
              "#46039f"
             ],
             [
              0.2222222222222222,
              "#7201a8"
             ],
             [
              0.3333333333333333,
              "#9c179e"
             ],
             [
              0.4444444444444444,
              "#bd3786"
             ],
             [
              0.5555555555555556,
              "#d8576b"
             ],
             [
              0.6666666666666666,
              "#ed7953"
             ],
             [
              0.7777777777777778,
              "#fb9f3a"
             ],
             [
              0.8888888888888888,
              "#fdca26"
             ],
             [
              1,
              "#f0f921"
             ]
            ],
            "type": "heatmap"
           }
          ],
          "heatmapgl": [
           {
            "colorbar": {
             "outlinewidth": 0,
             "ticks": ""
            },
            "colorscale": [
             [
              0,
              "#0d0887"
             ],
             [
              0.1111111111111111,
              "#46039f"
             ],
             [
              0.2222222222222222,
              "#7201a8"
             ],
             [
              0.3333333333333333,
              "#9c179e"
             ],
             [
              0.4444444444444444,
              "#bd3786"
             ],
             [
              0.5555555555555556,
              "#d8576b"
             ],
             [
              0.6666666666666666,
              "#ed7953"
             ],
             [
              0.7777777777777778,
              "#fb9f3a"
             ],
             [
              0.8888888888888888,
              "#fdca26"
             ],
             [
              1,
              "#f0f921"
             ]
            ],
            "type": "heatmapgl"
           }
          ],
          "histogram": [
           {
            "marker": {
             "colorbar": {
              "outlinewidth": 0,
              "ticks": ""
             }
            },
            "type": "histogram"
           }
          ],
          "histogram2d": [
           {
            "colorbar": {
             "outlinewidth": 0,
             "ticks": ""
            },
            "colorscale": [
             [
              0,
              "#0d0887"
             ],
             [
              0.1111111111111111,
              "#46039f"
             ],
             [
              0.2222222222222222,
              "#7201a8"
             ],
             [
              0.3333333333333333,
              "#9c179e"
             ],
             [
              0.4444444444444444,
              "#bd3786"
             ],
             [
              0.5555555555555556,
              "#d8576b"
             ],
             [
              0.6666666666666666,
              "#ed7953"
             ],
             [
              0.7777777777777778,
              "#fb9f3a"
             ],
             [
              0.8888888888888888,
              "#fdca26"
             ],
             [
              1,
              "#f0f921"
             ]
            ],
            "type": "histogram2d"
           }
          ],
          "histogram2dcontour": [
           {
            "colorbar": {
             "outlinewidth": 0,
             "ticks": ""
            },
            "colorscale": [
             [
              0,
              "#0d0887"
             ],
             [
              0.1111111111111111,
              "#46039f"
             ],
             [
              0.2222222222222222,
              "#7201a8"
             ],
             [
              0.3333333333333333,
              "#9c179e"
             ],
             [
              0.4444444444444444,
              "#bd3786"
             ],
             [
              0.5555555555555556,
              "#d8576b"
             ],
             [
              0.6666666666666666,
              "#ed7953"
             ],
             [
              0.7777777777777778,
              "#fb9f3a"
             ],
             [
              0.8888888888888888,
              "#fdca26"
             ],
             [
              1,
              "#f0f921"
             ]
            ],
            "type": "histogram2dcontour"
           }
          ],
          "mesh3d": [
           {
            "colorbar": {
             "outlinewidth": 0,
             "ticks": ""
            },
            "type": "mesh3d"
           }
          ],
          "parcoords": [
           {
            "line": {
             "colorbar": {
              "outlinewidth": 0,
              "ticks": ""
             }
            },
            "type": "parcoords"
           }
          ],
          "pie": [
           {
            "automargin": true,
            "type": "pie"
           }
          ],
          "scatter": [
           {
            "marker": {
             "colorbar": {
              "outlinewidth": 0,
              "ticks": ""
             }
            },
            "type": "scatter"
           }
          ],
          "scatter3d": [
           {
            "line": {
             "colorbar": {
              "outlinewidth": 0,
              "ticks": ""
             }
            },
            "marker": {
             "colorbar": {
              "outlinewidth": 0,
              "ticks": ""
             }
            },
            "type": "scatter3d"
           }
          ],
          "scattercarpet": [
           {
            "marker": {
             "colorbar": {
              "outlinewidth": 0,
              "ticks": ""
             }
            },
            "type": "scattercarpet"
           }
          ],
          "scattergeo": [
           {
            "marker": {
             "colorbar": {
              "outlinewidth": 0,
              "ticks": ""
             }
            },
            "type": "scattergeo"
           }
          ],
          "scattergl": [
           {
            "marker": {
             "colorbar": {
              "outlinewidth": 0,
              "ticks": ""
             }
            },
            "type": "scattergl"
           }
          ],
          "scattermapbox": [
           {
            "marker": {
             "colorbar": {
              "outlinewidth": 0,
              "ticks": ""
             }
            },
            "type": "scattermapbox"
           }
          ],
          "scatterpolar": [
           {
            "marker": {
             "colorbar": {
              "outlinewidth": 0,
              "ticks": ""
             }
            },
            "type": "scatterpolar"
           }
          ],
          "scatterpolargl": [
           {
            "marker": {
             "colorbar": {
              "outlinewidth": 0,
              "ticks": ""
             }
            },
            "type": "scatterpolargl"
           }
          ],
          "scatterternary": [
           {
            "marker": {
             "colorbar": {
              "outlinewidth": 0,
              "ticks": ""
             }
            },
            "type": "scatterternary"
           }
          ],
          "surface": [
           {
            "colorbar": {
             "outlinewidth": 0,
             "ticks": ""
            },
            "colorscale": [
             [
              0,
              "#0d0887"
             ],
             [
              0.1111111111111111,
              "#46039f"
             ],
             [
              0.2222222222222222,
              "#7201a8"
             ],
             [
              0.3333333333333333,
              "#9c179e"
             ],
             [
              0.4444444444444444,
              "#bd3786"
             ],
             [
              0.5555555555555556,
              "#d8576b"
             ],
             [
              0.6666666666666666,
              "#ed7953"
             ],
             [
              0.7777777777777778,
              "#fb9f3a"
             ],
             [
              0.8888888888888888,
              "#fdca26"
             ],
             [
              1,
              "#f0f921"
             ]
            ],
            "type": "surface"
           }
          ],
          "table": [
           {
            "cells": {
             "fill": {
              "color": "#EBF0F8"
             },
             "line": {
              "color": "white"
             }
            },
            "header": {
             "fill": {
              "color": "#C8D4E3"
             },
             "line": {
              "color": "white"
             }
            },
            "type": "table"
           }
          ]
         },
         "layout": {
          "annotationdefaults": {
           "arrowcolor": "#2a3f5f",
           "arrowhead": 0,
           "arrowwidth": 1
          },
          "autotypenumbers": "strict",
          "coloraxis": {
           "colorbar": {
            "outlinewidth": 0,
            "ticks": ""
           }
          },
          "colorscale": {
           "diverging": [
            [
             0,
             "#8e0152"
            ],
            [
             0.1,
             "#c51b7d"
            ],
            [
             0.2,
             "#de77ae"
            ],
            [
             0.3,
             "#f1b6da"
            ],
            [
             0.4,
             "#fde0ef"
            ],
            [
             0.5,
             "#f7f7f7"
            ],
            [
             0.6,
             "#e6f5d0"
            ],
            [
             0.7,
             "#b8e186"
            ],
            [
             0.8,
             "#7fbc41"
            ],
            [
             0.9,
             "#4d9221"
            ],
            [
             1,
             "#276419"
            ]
           ],
           "sequential": [
            [
             0,
             "#0d0887"
            ],
            [
             0.1111111111111111,
             "#46039f"
            ],
            [
             0.2222222222222222,
             "#7201a8"
            ],
            [
             0.3333333333333333,
             "#9c179e"
            ],
            [
             0.4444444444444444,
             "#bd3786"
            ],
            [
             0.5555555555555556,
             "#d8576b"
            ],
            [
             0.6666666666666666,
             "#ed7953"
            ],
            [
             0.7777777777777778,
             "#fb9f3a"
            ],
            [
             0.8888888888888888,
             "#fdca26"
            ],
            [
             1,
             "#f0f921"
            ]
           ],
           "sequentialminus": [
            [
             0,
             "#0d0887"
            ],
            [
             0.1111111111111111,
             "#46039f"
            ],
            [
             0.2222222222222222,
             "#7201a8"
            ],
            [
             0.3333333333333333,
             "#9c179e"
            ],
            [
             0.4444444444444444,
             "#bd3786"
            ],
            [
             0.5555555555555556,
             "#d8576b"
            ],
            [
             0.6666666666666666,
             "#ed7953"
            ],
            [
             0.7777777777777778,
             "#fb9f3a"
            ],
            [
             0.8888888888888888,
             "#fdca26"
            ],
            [
             1,
             "#f0f921"
            ]
           ]
          },
          "colorway": [
           "#636efa",
           "#EF553B",
           "#00cc96",
           "#ab63fa",
           "#FFA15A",
           "#19d3f3",
           "#FF6692",
           "#B6E880",
           "#FF97FF",
           "#FECB52"
          ],
          "font": {
           "color": "#2a3f5f"
          },
          "geo": {
           "bgcolor": "white",
           "lakecolor": "white",
           "landcolor": "#E5ECF6",
           "showlakes": true,
           "showland": true,
           "subunitcolor": "white"
          },
          "hoverlabel": {
           "align": "left"
          },
          "hovermode": "closest",
          "mapbox": {
           "style": "light"
          },
          "paper_bgcolor": "white",
          "plot_bgcolor": "#E5ECF6",
          "polar": {
           "angularaxis": {
            "gridcolor": "white",
            "linecolor": "white",
            "ticks": ""
           },
           "bgcolor": "#E5ECF6",
           "radialaxis": {
            "gridcolor": "white",
            "linecolor": "white",
            "ticks": ""
           }
          },
          "scene": {
           "xaxis": {
            "backgroundcolor": "#E5ECF6",
            "gridcolor": "white",
            "gridwidth": 2,
            "linecolor": "white",
            "showbackground": true,
            "ticks": "",
            "zerolinecolor": "white"
           },
           "yaxis": {
            "backgroundcolor": "#E5ECF6",
            "gridcolor": "white",
            "gridwidth": 2,
            "linecolor": "white",
            "showbackground": true,
            "ticks": "",
            "zerolinecolor": "white"
           },
           "zaxis": {
            "backgroundcolor": "#E5ECF6",
            "gridcolor": "white",
            "gridwidth": 2,
            "linecolor": "white",
            "showbackground": true,
            "ticks": "",
            "zerolinecolor": "white"
           }
          },
          "shapedefaults": {
           "line": {
            "color": "#2a3f5f"
           }
          },
          "ternary": {
           "aaxis": {
            "gridcolor": "white",
            "linecolor": "white",
            "ticks": ""
           },
           "baxis": {
            "gridcolor": "white",
            "linecolor": "white",
            "ticks": ""
           },
           "bgcolor": "#E5ECF6",
           "caxis": {
            "gridcolor": "white",
            "linecolor": "white",
            "ticks": ""
           }
          },
          "title": {
           "x": 0.05
          },
          "xaxis": {
           "automargin": true,
           "gridcolor": "white",
           "linecolor": "white",
           "ticks": "",
           "title": {
            "standoff": 15
           },
           "zerolinecolor": "white",
           "zerolinewidth": 2
          },
          "yaxis": {
           "automargin": true,
           "gridcolor": "white",
           "linecolor": "white",
           "ticks": "",
           "title": {
            "standoff": 15
           },
           "zerolinecolor": "white",
           "zerolinewidth": 2
          }
         }
        },
        "title": {
         "text": "FBProphet vs Buy&Hold for AMZN"
        },
        "xaxis": {
         "anchor": "y",
         "autorange": true,
         "domain": [
          0,
          1
         ],
         "range": [
          "2022-01-07",
          "2022-03-29"
         ],
         "title": {
          "text": "ds"
         },
         "type": "date"
        },
        "yaxis": {
         "anchor": "x",
         "autorange": true,
         "domain": [
          0,
          1
         ],
         "range": [
          0.7961581826248786,
          1.535924528613888
         ],
         "title": {
          "text": "Portfolio Balance"
         },
         "type": "linear"
        }
       }
      },
      "image/png": "[encoded data removed]",
      "text/html": [
       "<div>                            <div id=\"f34820ff-92df-48da-beaf-dba1aecf8b16\" class=\"plotly-graph-div\" style=\"height:525px; width:100%;\"></div>            <script type=\"text/javascript\">                require([\"plotly\"], function(Plotly) {                    window.PLOTLYENV=window.PLOTLYENV || {};                                    if (document.getElementById(\"f34820ff-92df-48da-beaf-dba1aecf8b16\")) {                    Plotly.newPlot(                        \"f34820ff-92df-48da-beaf-dba1aecf8b16\",                        [{\"hovertemplate\": \"variable=buy_hold<br>ds=%{x}<br>Portfolio Balance=%{y}<extra></extra>\", \"legendgroup\": \"buy_hold\", \"line\": {\"color\": \"#636efa\", \"dash\": \"solid\"}, \"mode\": \"lines\", \"name\": \"buy_hold\", \"orientation\": \"v\", \"showlegend\": true, \"type\": \"scatter\", \"x\": [\"2022-01-07\", \"2022-01-10\", \"2022-01-11\", \"2022-01-12\", \"2022-01-13\", \"2022-01-14\", \"2022-01-18\", \"2022-01-19\", \"2022-01-20\", \"2022-01-21\", \"2022-01-25\", \"2022-01-26\", \"2022-01-27\", \"2022-01-28\", \"2022-01-31\", \"2022-02-01\", \"2022-02-02\", \"2022-02-03\", \"2022-02-04\", \"2022-02-07\", \"2022-02-08\", \"2022-02-09\", \"2022-02-10\", \"2022-02-11\", \"2022-02-14\", \"2022-02-15\", \"2022-02-16\", \"2022-02-17\", \"2022-02-18\", \"2022-02-22\", \"2022-02-23\", \"2022-02-24\", \"2022-02-25\", \"2022-03-01\", \"2022-03-02\", \"2022-03-03\", \"2022-03-04\", \"2022-03-07\", \"2022-03-08\", \"2022-03-09\", \"2022-03-10\", \"2022-03-11\", \"2022-03-14\", \"2022-03-15\", \"2022-03-16\", \"2022-03-17\", \"2022-03-18\", \"2022-03-21\", \"2022-03-22\", \"2022-03-23\", \"2022-03-24\", \"2022-03-25\", \"2022-03-28\", \"2022-03-29\"], \"xaxis\": \"x\", \"y\": [0.9957122031726582, 0.9891702173987172, 1.012912366955969, 1.0119628963206189, 0.9875041200056699, 0.9931640058359021, 0.9734371046364799, 0.9573976458990456, 0.9290277803532999, 0.8737488941037412, 0.8574736005589448, 0.8506529349095929, 0.8553388992541218, 0.8819263202412364, 0.9162011035334248, 0.9261243353406454, 0.922565428082796, 0.85048753649682, 0.9656087947689831, 0.9674218963571066, 0.9887261391105334, 0.987354050107643, 0.9739638821310495, 0.9389877258226706, 0.950463698787058, 0.958693167101448, 0.9684326062782013, 0.9473121561552432, 0.9347489054692737, 0.9200233621519379, 0.8871267992685382, 0.9271319047855479, 0.9420197808127078, 0.9258088670298447, 0.9313860536536896, 0.9059410182680002, 0.8921129034091214, 0.8419579283863752, 0.8331464999243291, 0.8531429586635566, 0.8993194737638633, 0.8913992675811331, 0.8689097941582358, 0.902682325579448, 0.9378269460035497, 0.9631555594504112, 0.9877276920012371, 0.9892039401311579, 1.0100150533492136, 1.0009432644562106, 1.0024225782890797, 1.0093075489271242, 1.0351384890182027, 1.0371261861279475], \"yaxis\": \"y\"}, {\"hovertemplate\": \"variable=fbp_positions<br>ds=%{x}<br>Portfolio Balance=%{y}<extra></extra>\", \"legendgroup\": \"fbp_positions\", \"line\": {\"color\": \"#EF553B\", \"dash\": \"solid\"}, \"mode\": \"lines\", \"name\": \"fbp_positions\", \"orientation\": \"v\", \"showlegend\": true, \"type\": \"scatter\", \"x\": [\"2022-01-07\", \"2022-01-10\", \"2022-01-11\", \"2022-01-12\", \"2022-01-13\", \"2022-01-14\", \"2022-01-18\", \"2022-01-19\", \"2022-01-20\", \"2022-01-21\", \"2022-01-25\", \"2022-01-26\", \"2022-01-27\", \"2022-01-28\", \"2022-01-31\", \"2022-02-01\", \"2022-02-02\", \"2022-02-03\", \"2022-02-04\", \"2022-02-07\", \"2022-02-08\", \"2022-02-09\", \"2022-02-10\", \"2022-02-11\", \"2022-02-14\", \"2022-02-15\", \"2022-02-16\", \"2022-02-17\", \"2022-02-18\", \"2022-02-22\", \"2022-02-23\", \"2022-02-24\", \"2022-02-25\", \"2022-03-01\", \"2022-03-02\", \"2022-03-03\", \"2022-03-04\", \"2022-03-07\", \"2022-03-08\", \"2022-03-09\", \"2022-03-10\", \"2022-03-11\", \"2022-03-14\", \"2022-03-15\", \"2022-03-16\", \"2022-03-17\", \"2022-03-18\", \"2022-03-21\", \"2022-03-22\", \"2022-03-23\", \"2022-03-24\", \"2022-03-25\", \"2022-03-28\", \"2022-03-29\"], \"xaxis\": \"x\", \"y\": [1.0, 1.0, 1.0240020869407978, 1.0240020869407978, 1.0493648550377874, 1.0493648550377874, 1.0285216542211675, 1.0115745596889547, 0.9815993092057309, 0.923192318904974, 0.9059960442202523, 0.898789412910281, 0.9037405451162556, 0.9318324866345047, 0.9680468004734232, 0.9785315649692188, 0.9785315649692188, 1.0614610483850766, 1.2051394989833195, 1.2028808770235055, 1.176962207339484, 1.1785977877083824, 1.1948012862608401, 1.2393061880784846, 1.2243427083294562, 1.2138328915602234, 1.2016254838981388, 1.2284158833818195, 1.2449260890629963, 1.264851901608125, 1.3117553207740744, 1.2551539787760295, 1.2753092304015643, 1.2976398957438124, 1.289869562657205, 1.3260979439788543, 1.3466530044576208, 1.4268723901605647, 1.4268723901605647, 1.4611189420918038, 1.4611189420918038, 1.4611189420918038, 1.4989362113144375, 1.4428557178113506, 1.4428557178113506, 1.4049121744476067, 1.3699615615890657, 1.3679170861160999, 1.3397314890225955, 1.3518737968569208, 1.3498787843229882, 1.3406706140235962, 1.3072153974703413, 1.3072153974703413], \"yaxis\": \"y\"}],                        {\"legend\": {\"title\": {\"text\": \"variable\"}, \"tracegroupgap\": 0}, \"template\": {\"data\": {\"bar\": [{\"error_x\": {\"color\": \"#2a3f5f\"}, \"error_y\": {\"color\": \"#2a3f5f\"}, \"marker\": {\"line\": {\"color\": \"#E5ECF6\", \"width\": 0.5}}, \"type\": \"bar\"}], \"barpolar\": [{\"marker\": {\"line\": {\"color\": \"#E5ECF6\", \"width\": 0.5}}, \"type\": \"barpolar\"}], \"carpet\": [{\"aaxis\": {\"endlinecolor\": \"#2a3f5f\", \"gridcolor\": \"white\", \"linecolor\": \"white\", \"minorgridcolor\": \"white\", \"startlinecolor\": \"#2a3f5f\"}, \"baxis\": {\"endlinecolor\": \"#2a3f5f\", \"gridcolor\": \"white\", \"linecolor\": \"white\", \"minorgridcolor\": \"white\", \"startlinecolor\": \"#2a3f5f\"}, \"type\": \"carpet\"}], \"choropleth\": [{\"colorbar\": {\"outlinewidth\": 0, \"ticks\": \"\"}, \"type\": \"choropleth\"}], \"contour\": [{\"colorbar\": {\"outlinewidth\": 0, \"ticks\": \"\"}, \"colorscale\": [[0.0, \"#0d0887\"], [0.1111111111111111, \"#46039f\"], [0.2222222222222222, \"#7201a8\"], [0.3333333333333333, \"#9c179e\"], [0.4444444444444444, \"#bd3786\"], [0.5555555555555556, \"#d8576b\"], [0.6666666666666666, \"#ed7953\"], [0.7777777777777778, \"#fb9f3a\"], [0.8888888888888888, \"#fdca26\"], [1.0, \"#f0f921\"]], \"type\": \"contour\"}], \"contourcarpet\": [{\"colorbar\": {\"outlinewidth\": 0, \"ticks\": \"\"}, \"type\": \"contourcarpet\"}], \"heatmap\": [{\"colorbar\": {\"outlinewidth\": 0, \"ticks\": \"\"}, \"colorscale\": [[0.0, \"#0d0887\"], [0.1111111111111111, \"#46039f\"], [0.2222222222222222, \"#7201a8\"], [0.3333333333333333, \"#9c179e\"], [0.4444444444444444, \"#bd3786\"], [0.5555555555555556, \"#d8576b\"], [0.6666666666666666, \"#ed7953\"], [0.7777777777777778, \"#fb9f3a\"], [0.8888888888888888, \"#fdca26\"], [1.0, \"#f0f921\"]], \"type\": \"heatmap\"}], \"heatmapgl\": [{\"colorbar\": {\"outlinewidth\": 0, \"ticks\": \"\"}, \"colorscale\": [[0.0, \"#0d0887\"], [0.1111111111111111, \"#46039f\"], [0.2222222222222222, \"#7201a8\"], [0.3333333333333333, \"#9c179e\"], [0.4444444444444444, \"#bd3786\"], [0.5555555555555556, \"#d8576b\"], [0.6666666666666666, \"#ed7953\"], [0.7777777777777778, \"#fb9f3a\"], [0.8888888888888888, \"#fdca26\"], [1.0, \"#f0f921\"]], \"type\": \"heatmapgl\"}], \"histogram\": [{\"marker\": {\"colorbar\": {\"outlinewidth\": 0, \"ticks\": \"\"}}, \"type\": \"histogram\"}], \"histogram2d\": [{\"colorbar\": {\"outlinewidth\": 0, \"ticks\": \"\"}, \"colorscale\": [[0.0, \"#0d0887\"], [0.1111111111111111, \"#46039f\"], [0.2222222222222222, \"#7201a8\"], [0.3333333333333333, \"#9c179e\"], [0.4444444444444444, \"#bd3786\"], [0.5555555555555556, \"#d8576b\"], [0.6666666666666666, \"#ed7953\"], [0.7777777777777778, \"#fb9f3a\"], [0.8888888888888888, \"#fdca26\"], [1.0, \"#f0f921\"]], \"type\": \"histogram2d\"}], \"histogram2dcontour\": [{\"colorbar\": {\"outlinewidth\": 0, \"ticks\": \"\"}, \"colorscale\": [[0.0, \"#0d0887\"], [0.1111111111111111, \"#46039f\"], [0.2222222222222222, \"#7201a8\"], [0.3333333333333333, \"#9c179e\"], [0.4444444444444444, \"#bd3786\"], [0.5555555555555556, \"#d8576b\"], [0.6666666666666666, \"#ed7953\"], [0.7777777777777778, \"#fb9f3a\"], [0.8888888888888888, \"#fdca26\"], [1.0, \"#f0f921\"]], \"type\": \"histogram2dcontour\"}], \"mesh3d\": [{\"colorbar\": {\"outlinewidth\": 0, \"ticks\": \"\"}, \"type\": \"mesh3d\"}], \"parcoords\": [{\"line\": {\"colorbar\": {\"outlinewidth\": 0, \"ticks\": \"\"}}, \"type\": \"parcoords\"}], \"pie\": [{\"automargin\": true, \"type\": \"pie\"}], \"scatter\": [{\"marker\": {\"colorbar\": {\"outlinewidth\": 0, \"ticks\": \"\"}}, \"type\": \"scatter\"}], \"scatter3d\": [{\"line\": {\"colorbar\": {\"outlinewidth\": 0, \"ticks\": \"\"}}, \"marker\": {\"colorbar\": {\"outlinewidth\": 0, \"ticks\": \"\"}}, \"type\": \"scatter3d\"}], \"scattercarpet\": [{\"marker\": {\"colorbar\": {\"outlinewidth\": 0, \"ticks\": \"\"}}, \"type\": \"scattercarpet\"}], \"scattergeo\": [{\"marker\": {\"colorbar\": {\"outlinewidth\": 0, \"ticks\": \"\"}}, \"type\": \"scattergeo\"}], \"scattergl\": [{\"marker\": {\"colorbar\": {\"outlinewidth\": 0, \"ticks\": \"\"}}, \"type\": \"scattergl\"}], \"scattermapbox\": [{\"marker\": {\"colorbar\": {\"outlinewidth\": 0, \"ticks\": \"\"}}, \"type\": \"scattermapbox\"}], \"scatterpolar\": [{\"marker\": {\"colorbar\": {\"outlinewidth\": 0, \"ticks\": \"\"}}, \"type\": \"scatterpolar\"}], \"scatterpolargl\": [{\"marker\": {\"colorbar\": {\"outlinewidth\": 0, \"ticks\": \"\"}}, \"type\": \"scatterpolargl\"}], \"scatterternary\": [{\"marker\": {\"colorbar\": {\"outlinewidth\": 0, \"ticks\": \"\"}}, \"type\": \"scatterternary\"}], \"surface\": [{\"colorbar\": {\"outlinewidth\": 0, \"ticks\": \"\"}, \"colorscale\": [[0.0, \"#0d0887\"], [0.1111111111111111, \"#46039f\"], [0.2222222222222222, \"#7201a8\"], [0.3333333333333333, \"#9c179e\"], [0.4444444444444444, \"#bd3786\"], [0.5555555555555556, \"#d8576b\"], [0.6666666666666666, \"#ed7953\"], [0.7777777777777778, \"#fb9f3a\"], [0.8888888888888888, \"#fdca26\"], [1.0, \"#f0f921\"]], \"type\": \"surface\"}], \"table\": [{\"cells\": {\"fill\": {\"color\": \"#EBF0F8\"}, \"line\": {\"color\": \"white\"}}, \"header\": {\"fill\": {\"color\": \"#C8D4E3\"}, \"line\": {\"color\": \"white\"}}, \"type\": \"table\"}]}, \"layout\": {\"annotationdefaults\": {\"arrowcolor\": \"#2a3f5f\", \"arrowhead\": 0, \"arrowwidth\": 1}, \"autotypenumbers\": \"strict\", \"coloraxis\": {\"colorbar\": {\"outlinewidth\": 0, \"ticks\": \"\"}}, \"colorscale\": {\"diverging\": [[0, \"#8e0152\"], [0.1, \"#c51b7d\"], [0.2, \"#de77ae\"], [0.3, \"#f1b6da\"], [0.4, \"#fde0ef\"], [0.5, \"#f7f7f7\"], [0.6, \"#e6f5d0\"], [0.7, \"#b8e186\"], [0.8, \"#7fbc41\"], [0.9, \"#4d9221\"], [1, \"#276419\"]], \"sequential\": [[0.0, \"#0d0887\"], [0.1111111111111111, \"#46039f\"], [0.2222222222222222, \"#7201a8\"], [0.3333333333333333, \"#9c179e\"], [0.4444444444444444, \"#bd3786\"], [0.5555555555555556, \"#d8576b\"], [0.6666666666666666, \"#ed7953\"], [0.7777777777777778, \"#fb9f3a\"], [0.8888888888888888, \"#fdca26\"], [1.0, \"#f0f921\"]], \"sequentialminus\": [[0.0, \"#0d0887\"], [0.1111111111111111, \"#46039f\"], [0.2222222222222222, \"#7201a8\"], [0.3333333333333333, \"#9c179e\"], [0.4444444444444444, \"#bd3786\"], [0.5555555555555556, \"#d8576b\"], [0.6666666666666666, \"#ed7953\"], [0.7777777777777778, \"#fb9f3a\"], [0.8888888888888888, \"#fdca26\"], [1.0, \"#f0f921\"]]}, \"colorway\": [\"#636efa\", \"#EF553B\", \"#00cc96\", \"#ab63fa\", \"#FFA15A\", \"#19d3f3\", \"#FF6692\", \"#B6E880\", \"#FF97FF\", \"#FECB52\"], \"font\": {\"color\": \"#2a3f5f\"}, \"geo\": {\"bgcolor\": \"white\", \"lakecolor\": \"white\", \"landcolor\": \"#E5ECF6\", \"showlakes\": true, \"showland\": true, \"subunitcolor\": \"white\"}, \"hoverlabel\": {\"align\": \"left\"}, \"hovermode\": \"closest\", \"mapbox\": {\"style\": \"light\"}, \"paper_bgcolor\": \"white\", \"plot_bgcolor\": \"#E5ECF6\", \"polar\": {\"angularaxis\": {\"gridcolor\": \"white\", \"linecolor\": \"white\", \"ticks\": \"\"}, \"bgcolor\": \"#E5ECF6\", \"radialaxis\": {\"gridcolor\": \"white\", \"linecolor\": \"white\", \"ticks\": \"\"}}, \"scene\": {\"xaxis\": {\"backgroundcolor\": \"#E5ECF6\", \"gridcolor\": \"white\", \"gridwidth\": 2, \"linecolor\": \"white\", \"showbackground\": true, \"ticks\": \"\", \"zerolinecolor\": \"white\"}, \"yaxis\": {\"backgroundcolor\": \"#E5ECF6\", \"gridcolor\": \"white\", \"gridwidth\": 2, \"linecolor\": \"white\", \"showbackground\": true, \"ticks\": \"\", \"zerolinecolor\": \"white\"}, \"zaxis\": {\"backgroundcolor\": \"#E5ECF6\", \"gridcolor\": \"white\", \"gridwidth\": 2, \"linecolor\": \"white\", \"showbackground\": true, \"ticks\": \"\", \"zerolinecolor\": \"white\"}}, \"shapedefaults\": {\"line\": {\"color\": \"#2a3f5f\"}}, \"ternary\": {\"aaxis\": {\"gridcolor\": \"white\", \"linecolor\": \"white\", \"ticks\": \"\"}, \"baxis\": {\"gridcolor\": \"white\", \"linecolor\": \"white\", \"ticks\": \"\"}, \"bgcolor\": \"#E5ECF6\", \"caxis\": {\"gridcolor\": \"white\", \"linecolor\": \"white\", \"ticks\": \"\"}}, \"title\": {\"x\": 0.05}, \"xaxis\": {\"automargin\": true, \"gridcolor\": \"white\", \"linecolor\": \"white\", \"ticks\": \"\", \"title\": {\"standoff\": 15}, \"zerolinecolor\": \"white\", \"zerolinewidth\": 2}, \"yaxis\": {\"automargin\": true, \"gridcolor\": \"white\", \"linecolor\": \"white\", \"ticks\": \"\", \"title\": {\"standoff\": 15}, \"zerolinecolor\": \"white\", \"zerolinewidth\": 2}}}, \"title\": {\"text\": \"FBProphet vs Buy&Hold for AMZN\"}, \"xaxis\": {\"anchor\": \"y\", \"domain\": [0.0, 1.0], \"title\": {\"text\": \"ds\"}}, \"yaxis\": {\"anchor\": \"x\", \"domain\": [0.0, 1.0], \"title\": {\"text\": \"Portfolio Balance\"}}},                        {\"responsive\": true}                    ).then(function(){\n",
       "                            \n",
       "var gd = document.getElementById('f34820ff-92df-48da-beaf-dba1aecf8b16');\n",
       "var x = new MutationObserver(function (mutations, observer) {{\n",
       "        var display = window.getComputedStyle(gd).display;\n",
       "        if (!display || display === 'none') {{\n",
       "            console.log([gd, 'removed!']);\n",
       "            Plotly.purge(gd);\n",
       "            observer.disconnect();\n",
       "        }}\n",
       "}});\n",
       "\n",
       "// Listen for the removal of the full notebook cells\n",
       "var notebookContainer = gd.closest('#notebook-container');\n",
       "if (notebookContainer) {{\n",
       "    x.observe(notebookContainer, {childList: true});\n",
       "}}\n",
       "\n",
       "// Listen for the clearing of the current output cell\n",
       "var outputEl = gd.closest('.output');\n",
       "if (outputEl) {{\n",
       "    x.observe(outputEl, {childList: true});\n",
       "}}\n",
       "\n",
       "                        })                };                });            </script>        </div>"
      ]
     },
     "metadata": {},
     "output_type": "display_data"
    },
    {
     "name": "stdout",
     "output_type": "stream",
     "text": [
      "Short AMZN\n",
      "Best Optimum Parameters Found:\n",
      " {'n_days': 60, 'training_days': 300, 'mov_avg': 5, 'forecast_period': 5, 'backtestAnalysis': {'result': True, 'score': 5, 'endingBalance': {'prophet': 1.3072153974703413, 'buyHold': 1.0371261861279475}, 'betterThanBuyHold': 1.0, 'greaterPortfolioBalance': 0.8461538461538461, 'upwardTrend': 0.5961538461538461, 'pValue': 9.333642814765415e-26}}\n",
      "Backtesting GOOG. . .\n",
      "Tuning FBP parameters for GOOG. . .\n"
     ]
    },
    {
     "data": {
      "application/vnd.jupyter.widget-view+json": {
       "model_id": "20ff7e7bfb744688bf093e73c6c2096b",
       "version_major": 2,
       "version_minor": 0
      },
      "text/plain": [
       "  0%|          | 0/4 [00:00<?, ?it/s]"
      ]
     },
     "metadata": {},
     "output_type": "display_data"
    },
    {
     "data": {
      "application/vnd.jupyter.widget-view+json": {
       "model_id": "",
       "version_major": 2,
       "version_minor": 0
      },
      "text/plain": [
       "  0%|          | 0/62 [00:00<?, ?it/s]"
      ]
     },
     "metadata": {},
     "output_type": "display_data"
    },
    {
     "data": {
      "application/vnd.plotly.v1+json": {
       "config": {
        "plotlyServerURL": "https://plot.ly"
       },
       "data": [
        {
         "hovertemplate": "variable=buy_hold<br>ds=%{x}<br>Portfolio Balance=%{y}<extra></extra>",
         "legendgroup": "buy_hold",
         "line": {
          "color": "#636efa",
          "dash": "solid"
         },
         "mode": "lines",
         "name": "buy_hold",
         "orientation": "v",
         "showlegend": true,
         "type": "scatter",
         "x": [
          "2022-01-07",
          "2022-01-10",
          "2022-01-11",
          "2022-01-12",
          "2022-01-13",
          "2022-01-14",
          "2022-01-18",
          "2022-01-19",
          "2022-01-20",
          "2022-01-21",
          "2022-01-25",
          "2022-01-26",
          "2022-01-27",
          "2022-01-28",
          "2022-01-31",
          "2022-02-01",
          "2022-02-02",
          "2022-02-03",
          "2022-02-04",
          "2022-02-07",
          "2022-02-08",
          "2022-02-09",
          "2022-02-10",
          "2022-02-11",
          "2022-02-14",
          "2022-02-15",
          "2022-02-16",
          "2022-02-17",
          "2022-02-18",
          "2022-02-22",
          "2022-02-23",
          "2022-02-24",
          "2022-02-25",
          "2022-03-01",
          "2022-03-02",
          "2022-03-03",
          "2022-03-04",
          "2022-03-07",
          "2022-03-08",
          "2022-03-09",
          "2022-03-10",
          "2022-03-11",
          "2022-03-14",
          "2022-03-15",
          "2022-03-16",
          "2022-03-17",
          "2022-03-18",
          "2022-03-21",
          "2022-03-22",
          "2022-03-23",
          "2022-03-24",
          "2022-03-25",
          "2022-03-28",
          "2022-03-29"
         ],
         "xaxis": "x",
         "y": [
          0.996026953070851,
          1.007437227207451,
          1.0179315591216251,
          1.0297852944815034,
          1.0114866840051693,
          1.0162521394319468,
          0.9908361405011525,
          0.9861942187991705,
          0.9705963111338847,
          0.945772865852847,
          0.9213709616585748,
          0.9395787854966433,
          0.9387136056956148,
          0.9690187712689661,
          0.986532250378011,
          1.0023809528035494,
          1.0762298927120244,
          1.0370735180079689,
          1.039730735527962,
          1.0100835290319337,
          1.0120827874746028,
          1.02836767399308,
          1.007644447931156,
          0.9751292533717519,
          0.9836351537932748,
          0.9918175768966374,
          0.9995383459508717,
          0.9618868285538266,
          0.9485027659307472,
          0.9407601654854933,
          0.9275468491889284,
          0.9645404075086491,
          0.977960855783428,
          0.9754055180881946,
          0.979647552603446,
          0.9764232513898871,
          0.960530974927801,
          0.9194008117372655,
          0.9253186273770254,
          0.9732099546173297,
          0.9646021743710471,
          0.948560894227975,
          0.9214109858754446,
          0.9426358014578754,
          0.971934060679552,
          0.9785497708680143,
          0.994551115539708,
          0.992202909822688,
          1.019821749354687,
          1.0069247219914348,
          1.0273425748155556,
          1.028865624948416,
          1.0319808579523684,
          1.0414318978631676
         ],
         "yaxis": "y"
        },
        {
         "hovertemplate": "variable=fbp_positions<br>ds=%{x}<br>Portfolio Balance=%{y}<extra></extra>",
         "legendgroup": "fbp_positions",
         "line": {
          "color": "#EF553B",
          "dash": "solid"
         },
         "mode": "lines",
         "name": "fbp_positions",
         "orientation": "v",
         "showlegend": true,
         "type": "scatter",
         "x": [
          "2022-01-07",
          "2022-01-10",
          "2022-01-11",
          "2022-01-12",
          "2022-01-13",
          "2022-01-14",
          "2022-01-18",
          "2022-01-19",
          "2022-01-20",
          "2022-01-21",
          "2022-01-25",
          "2022-01-26",
          "2022-01-27",
          "2022-01-28",
          "2022-01-31",
          "2022-02-01",
          "2022-02-02",
          "2022-02-03",
          "2022-02-04",
          "2022-02-07",
          "2022-02-08",
          "2022-02-09",
          "2022-02-10",
          "2022-02-11",
          "2022-02-14",
          "2022-02-15",
          "2022-02-16",
          "2022-02-17",
          "2022-02-18",
          "2022-02-22",
          "2022-02-23",
          "2022-02-24",
          "2022-02-25",
          "2022-03-01",
          "2022-03-02",
          "2022-03-03",
          "2022-03-04",
          "2022-03-07",
          "2022-03-08",
          "2022-03-09",
          "2022-03-10",
          "2022-03-11",
          "2022-03-14",
          "2022-03-15",
          "2022-03-16",
          "2022-03-17",
          "2022-03-18",
          "2022-03-21",
          "2022-03-22",
          "2022-03-23",
          "2022-03-24",
          "2022-03-25",
          "2022-03-28",
          "2022-03-29"
         ],
         "xaxis": "x",
         "y": [
          0.996026953070851,
          1.007437227207451,
          1.0179315591216251,
          1.0297852944815034,
          1.0297852944815034,
          1.0297852944815034,
          1.0040308375628497,
          0.9993271006442661,
          0.9835214798586902,
          0.9583674674665809,
          0.9336406097099474,
          0.952090902216523,
          0.9512142010499409,
          0.9819229323217968,
          0.9996696336982727,
          1.0157293890101342,
          1.0157293890101342,
          1.05407988187625,
          1.05138599255098,
          1.0822454776651116,
          1.0801076205302607,
          1.097487058502887,
          1.097487058502887,
          1.097487058502887,
          1.1070602669788479,
          1.1162694086716896,
          1.1162694086716896,
          1.1162694086716896,
          1.1162694086716896,
          1.1071573340093415,
          1.1071573340093415,
          1.1071573340093415,
          1.122562129513444,
          1.1255029836213946,
          1.1206293711769473,
          1.1243298633930967,
          1.1429322421711112,
          1.194062270594075,
          1.1864257223060553,
          1.1864257223060553,
          1.1970129801077563,
          1.2172558771802002,
          1.253123026599546,
          1.224907139720926,
          1.224907139720926,
          1.2166258740301847,
          1.1970515659401544,
          1.199884578525464,
          1.1673892727014954,
          1.1823415834996869,
          1.1588432130130273,
          1.1571277544859409,
          1.153634741468513,
          1.1431654558565834
         ],
         "yaxis": "y"
        }
       ],
       "layout": {
        "autosize": true,
        "legend": {
         "title": {
          "text": "variable"
         },
         "tracegroupgap": 0
        },
        "template": {
         "data": {
          "bar": [
           {
            "error_x": {
             "color": "#2a3f5f"
            },
            "error_y": {
             "color": "#2a3f5f"
            },
            "marker": {
             "line": {
              "color": "#E5ECF6",
              "width": 0.5
             }
            },
            "type": "bar"
           }
          ],
          "barpolar": [
           {
            "marker": {
             "line": {
              "color": "#E5ECF6",
              "width": 0.5
             }
            },
            "type": "barpolar"
           }
          ],
          "carpet": [
           {
            "aaxis": {
             "endlinecolor": "#2a3f5f",
             "gridcolor": "white",
             "linecolor": "white",
             "minorgridcolor": "white",
             "startlinecolor": "#2a3f5f"
            },
            "baxis": {
             "endlinecolor": "#2a3f5f",
             "gridcolor": "white",
             "linecolor": "white",
             "minorgridcolor": "white",
             "startlinecolor": "#2a3f5f"
            },
            "type": "carpet"
           }
          ],
          "choropleth": [
           {
            "colorbar": {
             "outlinewidth": 0,
             "ticks": ""
            },
            "type": "choropleth"
           }
          ],
          "contour": [
           {
            "colorbar": {
             "outlinewidth": 0,
             "ticks": ""
            },
            "colorscale": [
             [
              0,
              "#0d0887"
             ],
             [
              0.1111111111111111,
              "#46039f"
             ],
             [
              0.2222222222222222,
              "#7201a8"
             ],
             [
              0.3333333333333333,
              "#9c179e"
             ],
             [
              0.4444444444444444,
              "#bd3786"
             ],
             [
              0.5555555555555556,
              "#d8576b"
             ],
             [
              0.6666666666666666,
              "#ed7953"
             ],
             [
              0.7777777777777778,
              "#fb9f3a"
             ],
             [
              0.8888888888888888,
              "#fdca26"
             ],
             [
              1,
              "#f0f921"
             ]
            ],
            "type": "contour"
           }
          ],
          "contourcarpet": [
           {
            "colorbar": {
             "outlinewidth": 0,
             "ticks": ""
            },
            "type": "contourcarpet"
           }
          ],
          "heatmap": [
           {
            "colorbar": {
             "outlinewidth": 0,
             "ticks": ""
            },
            "colorscale": [
             [
              0,
              "#0d0887"
             ],
             [
              0.1111111111111111,
              "#46039f"
             ],
             [
              0.2222222222222222,
              "#7201a8"
             ],
             [
              0.3333333333333333,
              "#9c179e"
             ],
             [
              0.4444444444444444,
              "#bd3786"
             ],
             [
              0.5555555555555556,
              "#d8576b"
             ],
             [
              0.6666666666666666,
              "#ed7953"
             ],
             [
              0.7777777777777778,
              "#fb9f3a"
             ],
             [
              0.8888888888888888,
              "#fdca26"
             ],
             [
              1,
              "#f0f921"
             ]
            ],
            "type": "heatmap"
           }
          ],
          "heatmapgl": [
           {
            "colorbar": {
             "outlinewidth": 0,
             "ticks": ""
            },
            "colorscale": [
             [
              0,
              "#0d0887"
             ],
             [
              0.1111111111111111,
              "#46039f"
             ],
             [
              0.2222222222222222,
              "#7201a8"
             ],
             [
              0.3333333333333333,
              "#9c179e"
             ],
             [
              0.4444444444444444,
              "#bd3786"
             ],
             [
              0.5555555555555556,
              "#d8576b"
             ],
             [
              0.6666666666666666,
              "#ed7953"
             ],
             [
              0.7777777777777778,
              "#fb9f3a"
             ],
             [
              0.8888888888888888,
              "#fdca26"
             ],
             [
              1,
              "#f0f921"
             ]
            ],
            "type": "heatmapgl"
           }
          ],
          "histogram": [
           {
            "marker": {
             "colorbar": {
              "outlinewidth": 0,
              "ticks": ""
             }
            },
            "type": "histogram"
           }
          ],
          "histogram2d": [
           {
            "colorbar": {
             "outlinewidth": 0,
             "ticks": ""
            },
            "colorscale": [
             [
              0,
              "#0d0887"
             ],
             [
              0.1111111111111111,
              "#46039f"
             ],
             [
              0.2222222222222222,
              "#7201a8"
             ],
             [
              0.3333333333333333,
              "#9c179e"
             ],
             [
              0.4444444444444444,
              "#bd3786"
             ],
             [
              0.5555555555555556,
              "#d8576b"
             ],
             [
              0.6666666666666666,
              "#ed7953"
             ],
             [
              0.7777777777777778,
              "#fb9f3a"
             ],
             [
              0.8888888888888888,
              "#fdca26"
             ],
             [
              1,
              "#f0f921"
             ]
            ],
            "type": "histogram2d"
           }
          ],
          "histogram2dcontour": [
           {
            "colorbar": {
             "outlinewidth": 0,
             "ticks": ""
            },
            "colorscale": [
             [
              0,
              "#0d0887"
             ],
             [
              0.1111111111111111,
              "#46039f"
             ],
             [
              0.2222222222222222,
              "#7201a8"
             ],
             [
              0.3333333333333333,
              "#9c179e"
             ],
             [
              0.4444444444444444,
              "#bd3786"
             ],
             [
              0.5555555555555556,
              "#d8576b"
             ],
             [
              0.6666666666666666,
              "#ed7953"
             ],
             [
              0.7777777777777778,
              "#fb9f3a"
             ],
             [
              0.8888888888888888,
              "#fdca26"
             ],
             [
              1,
              "#f0f921"
             ]
            ],
            "type": "histogram2dcontour"
           }
          ],
          "mesh3d": [
           {
            "colorbar": {
             "outlinewidth": 0,
             "ticks": ""
            },
            "type": "mesh3d"
           }
          ],
          "parcoords": [
           {
            "line": {
             "colorbar": {
              "outlinewidth": 0,
              "ticks": ""
             }
            },
            "type": "parcoords"
           }
          ],
          "pie": [
           {
            "automargin": true,
            "type": "pie"
           }
          ],
          "scatter": [
           {
            "marker": {
             "colorbar": {
              "outlinewidth": 0,
              "ticks": ""
             }
            },
            "type": "scatter"
           }
          ],
          "scatter3d": [
           {
            "line": {
             "colorbar": {
              "outlinewidth": 0,
              "ticks": ""
             }
            },
            "marker": {
             "colorbar": {
              "outlinewidth": 0,
              "ticks": ""
             }
            },
            "type": "scatter3d"
           }
          ],
          "scattercarpet": [
           {
            "marker": {
             "colorbar": {
              "outlinewidth": 0,
              "ticks": ""
             }
            },
            "type": "scattercarpet"
           }
          ],
          "scattergeo": [
           {
            "marker": {
             "colorbar": {
              "outlinewidth": 0,
              "ticks": ""
             }
            },
            "type": "scattergeo"
           }
          ],
          "scattergl": [
           {
            "marker": {
             "colorbar": {
              "outlinewidth": 0,
              "ticks": ""
             }
            },
            "type": "scattergl"
           }
          ],
          "scattermapbox": [
           {
            "marker": {
             "colorbar": {
              "outlinewidth": 0,
              "ticks": ""
             }
            },
            "type": "scattermapbox"
           }
          ],
          "scatterpolar": [
           {
            "marker": {
             "colorbar": {
              "outlinewidth": 0,
              "ticks": ""
             }
            },
            "type": "scatterpolar"
           }
          ],
          "scatterpolargl": [
           {
            "marker": {
             "colorbar": {
              "outlinewidth": 0,
              "ticks": ""
             }
            },
            "type": "scatterpolargl"
           }
          ],
          "scatterternary": [
           {
            "marker": {
             "colorbar": {
              "outlinewidth": 0,
              "ticks": ""
             }
            },
            "type": "scatterternary"
           }
          ],
          "surface": [
           {
            "colorbar": {
             "outlinewidth": 0,
             "ticks": ""
            },
            "colorscale": [
             [
              0,
              "#0d0887"
             ],
             [
              0.1111111111111111,
              "#46039f"
             ],
             [
              0.2222222222222222,
              "#7201a8"
             ],
             [
              0.3333333333333333,
              "#9c179e"
             ],
             [
              0.4444444444444444,
              "#bd3786"
             ],
             [
              0.5555555555555556,
              "#d8576b"
             ],
             [
              0.6666666666666666,
              "#ed7953"
             ],
             [
              0.7777777777777778,
              "#fb9f3a"
             ],
             [
              0.8888888888888888,
              "#fdca26"
             ],
             [
              1,
              "#f0f921"
             ]
            ],
            "type": "surface"
           }
          ],
          "table": [
           {
            "cells": {
             "fill": {
              "color": "#EBF0F8"
             },
             "line": {
              "color": "white"
             }
            },
            "header": {
             "fill": {
              "color": "#C8D4E3"
             },
             "line": {
              "color": "white"
             }
            },
            "type": "table"
           }
          ]
         },
         "layout": {
          "annotationdefaults": {
           "arrowcolor": "#2a3f5f",
           "arrowhead": 0,
           "arrowwidth": 1
          },
          "autotypenumbers": "strict",
          "coloraxis": {
           "colorbar": {
            "outlinewidth": 0,
            "ticks": ""
           }
          },
          "colorscale": {
           "diverging": [
            [
             0,
             "#8e0152"
            ],
            [
             0.1,
             "#c51b7d"
            ],
            [
             0.2,
             "#de77ae"
            ],
            [
             0.3,
             "#f1b6da"
            ],
            [
             0.4,
             "#fde0ef"
            ],
            [
             0.5,
             "#f7f7f7"
            ],
            [
             0.6,
             "#e6f5d0"
            ],
            [
             0.7,
             "#b8e186"
            ],
            [
             0.8,
             "#7fbc41"
            ],
            [
             0.9,
             "#4d9221"
            ],
            [
             1,
             "#276419"
            ]
           ],
           "sequential": [
            [
             0,
             "#0d0887"
            ],
            [
             0.1111111111111111,
             "#46039f"
            ],
            [
             0.2222222222222222,
             "#7201a8"
            ],
            [
             0.3333333333333333,
             "#9c179e"
            ],
            [
             0.4444444444444444,
             "#bd3786"
            ],
            [
             0.5555555555555556,
             "#d8576b"
            ],
            [
             0.6666666666666666,
             "#ed7953"
            ],
            [
             0.7777777777777778,
             "#fb9f3a"
            ],
            [
             0.8888888888888888,
             "#fdca26"
            ],
            [
             1,
             "#f0f921"
            ]
           ],
           "sequentialminus": [
            [
             0,
             "#0d0887"
            ],
            [
             0.1111111111111111,
             "#46039f"
            ],
            [
             0.2222222222222222,
             "#7201a8"
            ],
            [
             0.3333333333333333,
             "#9c179e"
            ],
            [
             0.4444444444444444,
             "#bd3786"
            ],
            [
             0.5555555555555556,
             "#d8576b"
            ],
            [
             0.6666666666666666,
             "#ed7953"
            ],
            [
             0.7777777777777778,
             "#fb9f3a"
            ],
            [
             0.8888888888888888,
             "#fdca26"
            ],
            [
             1,
             "#f0f921"
            ]
           ]
          },
          "colorway": [
           "#636efa",
           "#EF553B",
           "#00cc96",
           "#ab63fa",
           "#FFA15A",
           "#19d3f3",
           "#FF6692",
           "#B6E880",
           "#FF97FF",
           "#FECB52"
          ],
          "font": {
           "color": "#2a3f5f"
          },
          "geo": {
           "bgcolor": "white",
           "lakecolor": "white",
           "landcolor": "#E5ECF6",
           "showlakes": true,
           "showland": true,
           "subunitcolor": "white"
          },
          "hoverlabel": {
           "align": "left"
          },
          "hovermode": "closest",
          "mapbox": {
           "style": "light"
          },
          "paper_bgcolor": "white",
          "plot_bgcolor": "#E5ECF6",
          "polar": {
           "angularaxis": {
            "gridcolor": "white",
            "linecolor": "white",
            "ticks": ""
           },
           "bgcolor": "#E5ECF6",
           "radialaxis": {
            "gridcolor": "white",
            "linecolor": "white",
            "ticks": ""
           }
          },
          "scene": {
           "xaxis": {
            "backgroundcolor": "#E5ECF6",
            "gridcolor": "white",
            "gridwidth": 2,
            "linecolor": "white",
            "showbackground": true,
            "ticks": "",
            "zerolinecolor": "white"
           },
           "yaxis": {
            "backgroundcolor": "#E5ECF6",
            "gridcolor": "white",
            "gridwidth": 2,
            "linecolor": "white",
            "showbackground": true,
            "ticks": "",
            "zerolinecolor": "white"
           },
           "zaxis": {
            "backgroundcolor": "#E5ECF6",
            "gridcolor": "white",
            "gridwidth": 2,
            "linecolor": "white",
            "showbackground": true,
            "ticks": "",
            "zerolinecolor": "white"
           }
          },
          "shapedefaults": {
           "line": {
            "color": "#2a3f5f"
           }
          },
          "ternary": {
           "aaxis": {
            "gridcolor": "white",
            "linecolor": "white",
            "ticks": ""
           },
           "baxis": {
            "gridcolor": "white",
            "linecolor": "white",
            "ticks": ""
           },
           "bgcolor": "#E5ECF6",
           "caxis": {
            "gridcolor": "white",
            "linecolor": "white",
            "ticks": ""
           }
          },
          "title": {
           "x": 0.05
          },
          "xaxis": {
           "automargin": true,
           "gridcolor": "white",
           "linecolor": "white",
           "ticks": "",
           "title": {
            "standoff": 15
           },
           "zerolinecolor": "white",
           "zerolinewidth": 2
          },
          "yaxis": {
           "automargin": true,
           "gridcolor": "white",
           "linecolor": "white",
           "ticks": "",
           "title": {
            "standoff": 15
           },
           "zerolinecolor": "white",
           "zerolinewidth": 2
          }
         }
        },
        "title": {
         "text": "FBProphet vs Buy&Hold for GOOG"
        },
        "xaxis": {
         "anchor": "y",
         "autorange": true,
         "domain": [
          0,
          1
         ],
         "range": [
          "2022-01-07",
          "2022-03-29"
         ],
         "title": {
          "text": "ds"
         },
         "type": "date"
        },
        "yaxis": {
         "anchor": "x",
         "autorange": true,
         "domain": [
          0,
          1
         ],
         "range": [
          0.9008606886893611,
          1.2716631496474506
         ],
         "title": {
          "text": "Portfolio Balance"
         },
         "type": "linear"
        }
       }
      },
      "image/png": "[encoded data removed]",
      "text/html": [
       "<div>                            <div id=\"f1a9e0a4-84f4-41d6-ad32-0621a35a44a2\" class=\"plotly-graph-div\" style=\"height:525px; width:100%;\"></div>            <script type=\"text/javascript\">                require([\"plotly\"], function(Plotly) {                    window.PLOTLYENV=window.PLOTLYENV || {};                                    if (document.getElementById(\"f1a9e0a4-84f4-41d6-ad32-0621a35a44a2\")) {                    Plotly.newPlot(                        \"f1a9e0a4-84f4-41d6-ad32-0621a35a44a2\",                        [{\"hovertemplate\": \"variable=buy_hold<br>ds=%{x}<br>Portfolio Balance=%{y}<extra></extra>\", \"legendgroup\": \"buy_hold\", \"line\": {\"color\": \"#636efa\", \"dash\": \"solid\"}, \"mode\": \"lines\", \"name\": \"buy_hold\", \"orientation\": \"v\", \"showlegend\": true, \"type\": \"scatter\", \"x\": [\"2022-01-07\", \"2022-01-10\", \"2022-01-11\", \"2022-01-12\", \"2022-01-13\", \"2022-01-14\", \"2022-01-18\", \"2022-01-19\", \"2022-01-20\", \"2022-01-21\", \"2022-01-25\", \"2022-01-26\", \"2022-01-27\", \"2022-01-28\", \"2022-01-31\", \"2022-02-01\", \"2022-02-02\", \"2022-02-03\", \"2022-02-04\", \"2022-02-07\", \"2022-02-08\", \"2022-02-09\", \"2022-02-10\", \"2022-02-11\", \"2022-02-14\", \"2022-02-15\", \"2022-02-16\", \"2022-02-17\", \"2022-02-18\", \"2022-02-22\", \"2022-02-23\", \"2022-02-24\", \"2022-02-25\", \"2022-03-01\", \"2022-03-02\", \"2022-03-03\", \"2022-03-04\", \"2022-03-07\", \"2022-03-08\", \"2022-03-09\", \"2022-03-10\", \"2022-03-11\", \"2022-03-14\", \"2022-03-15\", \"2022-03-16\", \"2022-03-17\", \"2022-03-18\", \"2022-03-21\", \"2022-03-22\", \"2022-03-23\", \"2022-03-24\", \"2022-03-25\", \"2022-03-28\", \"2022-03-29\"], \"xaxis\": \"x\", \"y\": [0.996026953070851, 1.007437227207451, 1.0179315591216251, 1.0297852944815034, 1.0114866840051693, 1.0162521394319468, 0.9908361405011525, 0.9861942187991705, 0.9705963111338847, 0.945772865852847, 0.9213709616585748, 0.9395787854966433, 0.9387136056956148, 0.9690187712689661, 0.986532250378011, 1.0023809528035494, 1.0762298927120244, 1.0370735180079689, 1.039730735527962, 1.0100835290319337, 1.0120827874746028, 1.02836767399308, 1.007644447931156, 0.9751292533717519, 0.9836351537932748, 0.9918175768966374, 0.9995383459508717, 0.9618868285538266, 0.9485027659307472, 0.9407601654854933, 0.9275468491889284, 0.9645404075086491, 0.977960855783428, 0.9754055180881946, 0.979647552603446, 0.9764232513898871, 0.960530974927801, 0.9194008117372655, 0.9253186273770254, 0.9732099546173297, 0.9646021743710471, 0.948560894227975, 0.9214109858754446, 0.9426358014578754, 0.971934060679552, 0.9785497708680143, 0.994551115539708, 0.992202909822688, 1.019821749354687, 1.0069247219914348, 1.0273425748155556, 1.028865624948416, 1.0319808579523684, 1.0414318978631676], \"yaxis\": \"y\"}, {\"hovertemplate\": \"variable=fbp_positions<br>ds=%{x}<br>Portfolio Balance=%{y}<extra></extra>\", \"legendgroup\": \"fbp_positions\", \"line\": {\"color\": \"#EF553B\", \"dash\": \"solid\"}, \"mode\": \"lines\", \"name\": \"fbp_positions\", \"orientation\": \"v\", \"showlegend\": true, \"type\": \"scatter\", \"x\": [\"2022-01-07\", \"2022-01-10\", \"2022-01-11\", \"2022-01-12\", \"2022-01-13\", \"2022-01-14\", \"2022-01-18\", \"2022-01-19\", \"2022-01-20\", \"2022-01-21\", \"2022-01-25\", \"2022-01-26\", \"2022-01-27\", \"2022-01-28\", \"2022-01-31\", \"2022-02-01\", \"2022-02-02\", \"2022-02-03\", \"2022-02-04\", \"2022-02-07\", \"2022-02-08\", \"2022-02-09\", \"2022-02-10\", \"2022-02-11\", \"2022-02-14\", \"2022-02-15\", \"2022-02-16\", \"2022-02-17\", \"2022-02-18\", \"2022-02-22\", \"2022-02-23\", \"2022-02-24\", \"2022-02-25\", \"2022-03-01\", \"2022-03-02\", \"2022-03-03\", \"2022-03-04\", \"2022-03-07\", \"2022-03-08\", \"2022-03-09\", \"2022-03-10\", \"2022-03-11\", \"2022-03-14\", \"2022-03-15\", \"2022-03-16\", \"2022-03-17\", \"2022-03-18\", \"2022-03-21\", \"2022-03-22\", \"2022-03-23\", \"2022-03-24\", \"2022-03-25\", \"2022-03-28\", \"2022-03-29\"], \"xaxis\": \"x\", \"y\": [0.996026953070851, 1.007437227207451, 1.0179315591216251, 1.0297852944815034, 1.0297852944815034, 1.0297852944815034, 1.0040308375628497, 0.9993271006442661, 0.9835214798586902, 0.9583674674665809, 0.9336406097099474, 0.952090902216523, 0.9512142010499409, 0.9819229323217968, 0.9996696336982727, 1.0157293890101342, 1.0157293890101342, 1.05407988187625, 1.05138599255098, 1.0822454776651116, 1.0801076205302607, 1.097487058502887, 1.097487058502887, 1.097487058502887, 1.1070602669788479, 1.1162694086716896, 1.1162694086716896, 1.1162694086716896, 1.1162694086716896, 1.1071573340093415, 1.1071573340093415, 1.1071573340093415, 1.122562129513444, 1.1255029836213946, 1.1206293711769473, 1.1243298633930967, 1.1429322421711112, 1.194062270594075, 1.1864257223060553, 1.1864257223060553, 1.1970129801077563, 1.2172558771802002, 1.253123026599546, 1.224907139720926, 1.224907139720926, 1.2166258740301847, 1.1970515659401544, 1.199884578525464, 1.1673892727014954, 1.1823415834996869, 1.1588432130130273, 1.1571277544859409, 1.153634741468513, 1.1431654558565834], \"yaxis\": \"y\"}],                        {\"legend\": {\"title\": {\"text\": \"variable\"}, \"tracegroupgap\": 0}, \"template\": {\"data\": {\"bar\": [{\"error_x\": {\"color\": \"#2a3f5f\"}, \"error_y\": {\"color\": \"#2a3f5f\"}, \"marker\": {\"line\": {\"color\": \"#E5ECF6\", \"width\": 0.5}}, \"type\": \"bar\"}], \"barpolar\": [{\"marker\": {\"line\": {\"color\": \"#E5ECF6\", \"width\": 0.5}}, \"type\": \"barpolar\"}], \"carpet\": [{\"aaxis\": {\"endlinecolor\": \"#2a3f5f\", \"gridcolor\": \"white\", \"linecolor\": \"white\", \"minorgridcolor\": \"white\", \"startlinecolor\": \"#2a3f5f\"}, \"baxis\": {\"endlinecolor\": \"#2a3f5f\", \"gridcolor\": \"white\", \"linecolor\": \"white\", \"minorgridcolor\": \"white\", \"startlinecolor\": \"#2a3f5f\"}, \"type\": \"carpet\"}], \"choropleth\": [{\"colorbar\": {\"outlinewidth\": 0, \"ticks\": \"\"}, \"type\": \"choropleth\"}], \"contour\": [{\"colorbar\": {\"outlinewidth\": 0, \"ticks\": \"\"}, \"colorscale\": [[0.0, \"#0d0887\"], [0.1111111111111111, \"#46039f\"], [0.2222222222222222, \"#7201a8\"], [0.3333333333333333, \"#9c179e\"], [0.4444444444444444, \"#bd3786\"], [0.5555555555555556, \"#d8576b\"], [0.6666666666666666, \"#ed7953\"], [0.7777777777777778, \"#fb9f3a\"], [0.8888888888888888, \"#fdca26\"], [1.0, \"#f0f921\"]], \"type\": \"contour\"}], \"contourcarpet\": [{\"colorbar\": {\"outlinewidth\": 0, \"ticks\": \"\"}, \"type\": \"contourcarpet\"}], \"heatmap\": [{\"colorbar\": {\"outlinewidth\": 0, \"ticks\": \"\"}, \"colorscale\": [[0.0, \"#0d0887\"], [0.1111111111111111, \"#46039f\"], [0.2222222222222222, \"#7201a8\"], [0.3333333333333333, \"#9c179e\"], [0.4444444444444444, \"#bd3786\"], [0.5555555555555556, \"#d8576b\"], [0.6666666666666666, \"#ed7953\"], [0.7777777777777778, \"#fb9f3a\"], [0.8888888888888888, \"#fdca26\"], [1.0, \"#f0f921\"]], \"type\": \"heatmap\"}], \"heatmapgl\": [{\"colorbar\": {\"outlinewidth\": 0, \"ticks\": \"\"}, \"colorscale\": [[0.0, \"#0d0887\"], [0.1111111111111111, \"#46039f\"], [0.2222222222222222, \"#7201a8\"], [0.3333333333333333, \"#9c179e\"], [0.4444444444444444, \"#bd3786\"], [0.5555555555555556, \"#d8576b\"], [0.6666666666666666, \"#ed7953\"], [0.7777777777777778, \"#fb9f3a\"], [0.8888888888888888, \"#fdca26\"], [1.0, \"#f0f921\"]], \"type\": \"heatmapgl\"}], \"histogram\": [{\"marker\": {\"colorbar\": {\"outlinewidth\": 0, \"ticks\": \"\"}}, \"type\": \"histogram\"}], \"histogram2d\": [{\"colorbar\": {\"outlinewidth\": 0, \"ticks\": \"\"}, \"colorscale\": [[0.0, \"#0d0887\"], [0.1111111111111111, \"#46039f\"], [0.2222222222222222, \"#7201a8\"], [0.3333333333333333, \"#9c179e\"], [0.4444444444444444, \"#bd3786\"], [0.5555555555555556, \"#d8576b\"], [0.6666666666666666, \"#ed7953\"], [0.7777777777777778, \"#fb9f3a\"], [0.8888888888888888, \"#fdca26\"], [1.0, \"#f0f921\"]], \"type\": \"histogram2d\"}], \"histogram2dcontour\": [{\"colorbar\": {\"outlinewidth\": 0, \"ticks\": \"\"}, \"colorscale\": [[0.0, \"#0d0887\"], [0.1111111111111111, \"#46039f\"], [0.2222222222222222, \"#7201a8\"], [0.3333333333333333, \"#9c179e\"], [0.4444444444444444, \"#bd3786\"], [0.5555555555555556, \"#d8576b\"], [0.6666666666666666, \"#ed7953\"], [0.7777777777777778, \"#fb9f3a\"], [0.8888888888888888, \"#fdca26\"], [1.0, \"#f0f921\"]], \"type\": \"histogram2dcontour\"}], \"mesh3d\": [{\"colorbar\": {\"outlinewidth\": 0, \"ticks\": \"\"}, \"type\": \"mesh3d\"}], \"parcoords\": [{\"line\": {\"colorbar\": {\"outlinewidth\": 0, \"ticks\": \"\"}}, \"type\": \"parcoords\"}], \"pie\": [{\"automargin\": true, \"type\": \"pie\"}], \"scatter\": [{\"marker\": {\"colorbar\": {\"outlinewidth\": 0, \"ticks\": \"\"}}, \"type\": \"scatter\"}], \"scatter3d\": [{\"line\": {\"colorbar\": {\"outlinewidth\": 0, \"ticks\": \"\"}}, \"marker\": {\"colorbar\": {\"outlinewidth\": 0, \"ticks\": \"\"}}, \"type\": \"scatter3d\"}], \"scattercarpet\": [{\"marker\": {\"colorbar\": {\"outlinewidth\": 0, \"ticks\": \"\"}}, \"type\": \"scattercarpet\"}], \"scattergeo\": [{\"marker\": {\"colorbar\": {\"outlinewidth\": 0, \"ticks\": \"\"}}, \"type\": \"scattergeo\"}], \"scattergl\": [{\"marker\": {\"colorbar\": {\"outlinewidth\": 0, \"ticks\": \"\"}}, \"type\": \"scattergl\"}], \"scattermapbox\": [{\"marker\": {\"colorbar\": {\"outlinewidth\": 0, \"ticks\": \"\"}}, \"type\": \"scattermapbox\"}], \"scatterpolar\": [{\"marker\": {\"colorbar\": {\"outlinewidth\": 0, \"ticks\": \"\"}}, \"type\": \"scatterpolar\"}], \"scatterpolargl\": [{\"marker\": {\"colorbar\": {\"outlinewidth\": 0, \"ticks\": \"\"}}, \"type\": \"scatterpolargl\"}], \"scatterternary\": [{\"marker\": {\"colorbar\": {\"outlinewidth\": 0, \"ticks\": \"\"}}, \"type\": \"scatterternary\"}], \"surface\": [{\"colorbar\": {\"outlinewidth\": 0, \"ticks\": \"\"}, \"colorscale\": [[0.0, \"#0d0887\"], [0.1111111111111111, \"#46039f\"], [0.2222222222222222, \"#7201a8\"], [0.3333333333333333, \"#9c179e\"], [0.4444444444444444, \"#bd3786\"], [0.5555555555555556, \"#d8576b\"], [0.6666666666666666, \"#ed7953\"], [0.7777777777777778, \"#fb9f3a\"], [0.8888888888888888, \"#fdca26\"], [1.0, \"#f0f921\"]], \"type\": \"surface\"}], \"table\": [{\"cells\": {\"fill\": {\"color\": \"#EBF0F8\"}, \"line\": {\"color\": \"white\"}}, \"header\": {\"fill\": {\"color\": \"#C8D4E3\"}, \"line\": {\"color\": \"white\"}}, \"type\": \"table\"}]}, \"layout\": {\"annotationdefaults\": {\"arrowcolor\": \"#2a3f5f\", \"arrowhead\": 0, \"arrowwidth\": 1}, \"autotypenumbers\": \"strict\", \"coloraxis\": {\"colorbar\": {\"outlinewidth\": 0, \"ticks\": \"\"}}, \"colorscale\": {\"diverging\": [[0, \"#8e0152\"], [0.1, \"#c51b7d\"], [0.2, \"#de77ae\"], [0.3, \"#f1b6da\"], [0.4, \"#fde0ef\"], [0.5, \"#f7f7f7\"], [0.6, \"#e6f5d0\"], [0.7, \"#b8e186\"], [0.8, \"#7fbc41\"], [0.9, \"#4d9221\"], [1, \"#276419\"]], \"sequential\": [[0.0, \"#0d0887\"], [0.1111111111111111, \"#46039f\"], [0.2222222222222222, \"#7201a8\"], [0.3333333333333333, \"#9c179e\"], [0.4444444444444444, \"#bd3786\"], [0.5555555555555556, \"#d8576b\"], [0.6666666666666666, \"#ed7953\"], [0.7777777777777778, \"#fb9f3a\"], [0.8888888888888888, \"#fdca26\"], [1.0, \"#f0f921\"]], \"sequentialminus\": [[0.0, \"#0d0887\"], [0.1111111111111111, \"#46039f\"], [0.2222222222222222, \"#7201a8\"], [0.3333333333333333, \"#9c179e\"], [0.4444444444444444, \"#bd3786\"], [0.5555555555555556, \"#d8576b\"], [0.6666666666666666, \"#ed7953\"], [0.7777777777777778, \"#fb9f3a\"], [0.8888888888888888, \"#fdca26\"], [1.0, \"#f0f921\"]]}, \"colorway\": [\"#636efa\", \"#EF553B\", \"#00cc96\", \"#ab63fa\", \"#FFA15A\", \"#19d3f3\", \"#FF6692\", \"#B6E880\", \"#FF97FF\", \"#FECB52\"], \"font\": {\"color\": \"#2a3f5f\"}, \"geo\": {\"bgcolor\": \"white\", \"lakecolor\": \"white\", \"landcolor\": \"#E5ECF6\", \"showlakes\": true, \"showland\": true, \"subunitcolor\": \"white\"}, \"hoverlabel\": {\"align\": \"left\"}, \"hovermode\": \"closest\", \"mapbox\": {\"style\": \"light\"}, \"paper_bgcolor\": \"white\", \"plot_bgcolor\": \"#E5ECF6\", \"polar\": {\"angularaxis\": {\"gridcolor\": \"white\", \"linecolor\": \"white\", \"ticks\": \"\"}, \"bgcolor\": \"#E5ECF6\", \"radialaxis\": {\"gridcolor\": \"white\", \"linecolor\": \"white\", \"ticks\": \"\"}}, \"scene\": {\"xaxis\": {\"backgroundcolor\": \"#E5ECF6\", \"gridcolor\": \"white\", \"gridwidth\": 2, \"linecolor\": \"white\", \"showbackground\": true, \"ticks\": \"\", \"zerolinecolor\": \"white\"}, \"yaxis\": {\"backgroundcolor\": \"#E5ECF6\", \"gridcolor\": \"white\", \"gridwidth\": 2, \"linecolor\": \"white\", \"showbackground\": true, \"ticks\": \"\", \"zerolinecolor\": \"white\"}, \"zaxis\": {\"backgroundcolor\": \"#E5ECF6\", \"gridcolor\": \"white\", \"gridwidth\": 2, \"linecolor\": \"white\", \"showbackground\": true, \"ticks\": \"\", \"zerolinecolor\": \"white\"}}, \"shapedefaults\": {\"line\": {\"color\": \"#2a3f5f\"}}, \"ternary\": {\"aaxis\": {\"gridcolor\": \"white\", \"linecolor\": \"white\", \"ticks\": \"\"}, \"baxis\": {\"gridcolor\": \"white\", \"linecolor\": \"white\", \"ticks\": \"\"}, \"bgcolor\": \"#E5ECF6\", \"caxis\": {\"gridcolor\": \"white\", \"linecolor\": \"white\", \"ticks\": \"\"}}, \"title\": {\"x\": 0.05}, \"xaxis\": {\"automargin\": true, \"gridcolor\": \"white\", \"linecolor\": \"white\", \"ticks\": \"\", \"title\": {\"standoff\": 15}, \"zerolinecolor\": \"white\", \"zerolinewidth\": 2}, \"yaxis\": {\"automargin\": true, \"gridcolor\": \"white\", \"linecolor\": \"white\", \"ticks\": \"\", \"title\": {\"standoff\": 15}, \"zerolinecolor\": \"white\", \"zerolinewidth\": 2}}}, \"title\": {\"text\": \"FBProphet vs Buy&Hold for GOOG\"}, \"xaxis\": {\"anchor\": \"y\", \"domain\": [0.0, 1.0], \"title\": {\"text\": \"ds\"}}, \"yaxis\": {\"anchor\": \"x\", \"domain\": [0.0, 1.0], \"title\": {\"text\": \"Portfolio Balance\"}}},                        {\"responsive\": true}                    ).then(function(){\n",
       "                            \n",
       "var gd = document.getElementById('f1a9e0a4-84f4-41d6-ad32-0621a35a44a2');\n",
       "var x = new MutationObserver(function (mutations, observer) {{\n",
       "        var display = window.getComputedStyle(gd).display;\n",
       "        if (!display || display === 'none') {{\n",
       "            console.log([gd, 'removed!']);\n",
       "            Plotly.purge(gd);\n",
       "            observer.disconnect();\n",
       "        }}\n",
       "}});\n",
       "\n",
       "// Listen for the removal of the full notebook cells\n",
       "var notebookContainer = gd.closest('#notebook-container');\n",
       "if (notebookContainer) {{\n",
       "    x.observe(notebookContainer, {childList: true});\n",
       "}}\n",
       "\n",
       "// Listen for the clearing of the current output cell\n",
       "var outputEl = gd.closest('.output');\n",
       "if (outputEl) {{\n",
       "    x.observe(outputEl, {childList: true});\n",
       "}}\n",
       "\n",
       "                        })                };                });            </script>        </div>"
      ]
     },
     "metadata": {},
     "output_type": "display_data"
    },
    {
     "name": "stdout",
     "output_type": "stream",
     "text": [
      "Short GOOG\n",
      "Best Optimum Parameters Found:\n",
      " {'n_days': 60, 'training_days': 500, 'mov_avg': 5, 'forecast_period': 5, 'backtestAnalysis': {'result': True, 'score': 5, 'endingBalance': {'prophet': 1.1431654558565834, 'buyHold': 1.0414318978631676}, 'betterThanBuyHold': 0.9038461538461539, 'greaterPortfolioBalance': 0.8461538461538461, 'upwardTrend': 0.6153846153846154, 'pValue': 1.4339855682443516e-19}}\n"
     ]
    }
   ],
   "source": [
    "# Lists of different params to test\n",
    "n_days_lst = [30]\n",
    "\n",
    "training_days_lst = [200,300,400,500]\n",
    "\n",
    "mov_avg_lst = [5]\n",
    "\n",
    "forecast_period_lst = [5]\n",
    "\n",
    "for i in [\"FB\", \"AAPL\", \"NFLX\", \"AMZN\", \"GOOG\"]:\n",
    "\n",
    "    getStockAndBacktest(\n",
    "        stock=i, \n",
    "        n_days_lst=n_days_lst, \n",
    "        training_days_lst=training_days_lst, \n",
    "        mov_avg_lst=mov_avg_lst,\n",
    "        forecast_period_lst=forecast_period_lst\n",
    "    )"
   ]
  },
  {
   "cell_type": "code",
   "execution_count": null,
   "metadata": {},
   "outputs": [],
   "source": []
  }
 ],
 "metadata": {
  "kernelspec": {
   "display_name": "Python 3",
   "language": "python",
   "name": "python3"
  },
  "language_info": {
   "codemirror_mode": {
    "name": "ipython",
    "version": 3
   },
   "file_extension": ".py",
   "mimetype": "text/x-python",
   "name": "python",
   "nbconvert_exporter": "python",
   "pygments_lexer": "ipython3",
   "version": "3.9.1"
  }
 },
 "nbformat": 4,
 "nbformat_minor": 4
}
