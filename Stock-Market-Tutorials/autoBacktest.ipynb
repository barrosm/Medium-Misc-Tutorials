{
 "cells": [
  {
   "cell_type": "markdown",
   "metadata": {},
   "source": [
    "# AutoBacktest\n",
    "Given a specific ticker, will return the backtest results of using Facebook Prophet as a trading strategy."
   ]
  },
  {
   "cell_type": "code",
   "execution_count": 125,
   "metadata": {},
   "outputs": [],
   "source": [
    "# Libraries\n",
    "import pandas as pd\n",
    "from datetime import datetime, timedelta\n",
    "from tqdm import tqdm\n",
    "import numpy as np\n",
    "import plotly.express as px\n",
    "from prophet import Prophet\n",
    "import yfinance as yf"
   ]
  },
  {
   "cell_type": "markdown",
   "metadata": {},
   "source": [
    "# Get Price Data"
   ]
  },
  {
   "cell_type": "code",
   "execution_count": 126,
   "metadata": {},
   "outputs": [],
   "source": [
    "def getStockPrices(stock, n_days, training_days, mov_avg):\n",
    "    \"\"\"\n",
    "    Gets stock prices from now to N days ago and training amount will be in addition \n",
    "    to the number of days to train.\n",
    "    \"\"\"\n",
    "    \n",
    "    # Designating the Ticker\n",
    "    ticker = yf.Ticker(stock)\n",
    "\n",
    "    # Getting all price history\n",
    "    prices = ticker.history(period=\"max\")\n",
    "    \n",
    "    # Check on length\n",
    "    if len(prices)<n_days+training_days+mov_avg:\n",
    "        return pd.DataFrame()\n",
    "    \n",
    "    # Getting relevant length\n",
    "    prices = prices.tail(n_days+training_days+mov_avg)\n",
    "        \n",
    "    # Filling NaNs with the most recent values for any missing data\n",
    "    prices = prices.fillna(method='ffill')\n",
    "    \n",
    "    # Getting the N Day Moving Average and rounding the values for some light data preprocessing\n",
    "    prices['MA'] = prices[['Close']].rolling(\n",
    "        window=mov_avg\n",
    "    ).mean().apply(lambda x: round(x, 2))\n",
    "\n",
    "    # Resetting format for FBP\n",
    "    prices = prices.reset_index().rename(\n",
    "        columns={\"Date\": \"ds\", \"MA\": \"y\"}\n",
    "    )\n",
    "    \n",
    "    # Dropping the Nans\n",
    "    prices.dropna(inplace=True, subset=['y'])\n",
    "    \n",
    "    return prices"
   ]
  },
  {
   "cell_type": "code",
   "execution_count": 127,
   "metadata": {},
   "outputs": [],
   "source": [
    "def fbpTrainPredict(df, forecast_period):\n",
    "    \"\"\"\n",
    "    Uses FB Prophet and fits to a appropriately formatted DF. Makes a prediction N days into \n",
    "    the future based on given forecast period. Returns predicted values as a DF.\n",
    "    \"\"\"\n",
    "    # Setting up prophet\n",
    "    m = Prophet(\n",
    "        daily_seasonality=True, \n",
    "        yearly_seasonality=True, \n",
    "        weekly_seasonality=True\n",
    "    )\n",
    "    \n",
    "    # Fitting to the prices\n",
    "    m.fit(df[['ds', 'y']])\n",
    "    \n",
    "    # Future DF\n",
    "    future = m.make_future_dataframe(\n",
    "        periods=forecast_period,\n",
    "        freq='B',\n",
    "        include_history=False\n",
    "    )\n",
    "            \n",
    "    # Predicting values\n",
    "    forecast = m.predict(future)\n",
    "\n",
    "    # Returning a set of predicted values\n",
    "    return forecast[['ds', 'yhat', 'yhat_lower', 'yhat_upper']]"
   ]
  },
  {
   "cell_type": "code",
   "execution_count": 128,
   "metadata": {},
   "outputs": [],
   "source": [
    "def runningFBP(prices, forecast_period, training_days):\n",
    "    \"\"\"\n",
    "    Runs Facebook Prophet to get predictions over a set period \n",
    "    of time. Uses FBP to train and predict every N days and gets the \n",
    "    price forecasts.\n",
    "    \"\"\"\n",
    "    # DF for the predicted values\n",
    "    pred_df = pd.DataFrame()\n",
    "\n",
    "    # Running the model each day\n",
    "    for i in tqdm(range(training_days, len(prices)+1)):\n",
    "        \n",
    "        # Training and Predicting the last day on the forecast\n",
    "        forecast = fbpTrainPredict(\n",
    "            prices[i-training_days:i], \n",
    "            forecast_period\n",
    "        ).tail(1)\n",
    "        \n",
    "        # Adding the forecast predicted\n",
    "        pred_df = pred_df.append(forecast, ignore_index=True)\n",
    "        \n",
    "    # Prepping for merge by converting date values to be the same type\n",
    "    pred_df['ds'] = pred_df['ds'].apply(lambda x: str(x)[:10])\n",
    "\n",
    "    prices['ds'] = prices['ds'].apply(lambda x: str(x)[:10])\n",
    "    \n",
    "    # Shifting the forecasts back in order to compare it to the 'current' open values\n",
    "    pred_df[['yhat', 'yhat_lower', 'yhat_upper']] = pred_df[['yhat', 'yhat_lower', 'yhat_upper']].shift(-forecast_period)\n",
    "    \n",
    "    # Merging with the prices DF in order to compare values for positions later\n",
    "    merge_df = prices[['ds', 'Open']].merge(\n",
    "        pred_df,\n",
    "        on='ds',\n",
    "        how='outer'\n",
    "    ).dropna().set_index('ds')\n",
    "\n",
    "    return merge_df"
   ]
  },
  {
   "cell_type": "markdown",
   "metadata": {},
   "source": [
    "## Testing Functions"
   ]
  },
  {
   "cell_type": "code",
   "execution_count": 156,
   "metadata": {},
   "outputs": [],
   "source": [
    "# Pricing Data Parameters\n",
    "n_days = 31\n",
    "\n",
    "training_days = 200\n",
    "\n",
    "forecast_period = 3\n",
    "\n",
    "mov_avg = 10\n",
    "\n",
    "# Retrieving prices with the above parameters\n",
    "prices = getStockPrices(\n",
    "    \"TSLA\", \n",
    "    n_days=n_days,\n",
    "    training_days=training_days,\n",
    "    mov_avg=mov_avg\n",
    ")"
   ]
  },
  {
   "cell_type": "code",
   "execution_count": 157,
   "metadata": {},
   "outputs": [
    {
     "name": "stderr",
     "output_type": "stream",
     "text": [
      "100%|██████████| 133/133 [01:07<00:00,  1.97it/s]\n"
     ]
    }
   ],
   "source": [
    "# Running Facebook Prophet with the set parameters\n",
    "pred_df = runningFBP(\n",
    "    prices, \n",
    "    forecast_period, \n",
    "    training_weeks\n",
    ")"
   ]
  },
  {
   "cell_type": "markdown",
   "metadata": {},
   "source": [
    "# Getting Positions"
   ]
  },
  {
   "cell_type": "code",
   "execution_count": 158,
   "metadata": {},
   "outputs": [],
   "source": [
    "def fbpPositions(pred_df, short=True):\n",
    "    \"\"\"\n",
    "    Gets positions based on the predictions and the actual values.\n",
    "    \"\"\"\n",
    "    if pred_df['Open'] < pred_df['yhat_lower']:\n",
    "        return 1\n",
    "    elif pred_df['Open'] > pred_df['yhat_upper'] and short:\n",
    "        return -1\n",
    "    else:\n",
    "        return 0"
   ]
  },
  {
   "cell_type": "code",
   "execution_count": 159,
   "metadata": {},
   "outputs": [],
   "source": [
    "# Adding sentiment positions to the forecast DF\n",
    "positions = pred_df\n",
    "\n",
    "# Getting forecast prophet positions\n",
    "positions['fbp_positions'] = positions.apply(\n",
    "    lambda x: fbpPositions(x, short=True), \n",
    "    axis=1\n",
    ")\n",
    "\n",
    "# Buy and hold position\n",
    "positions['buy_hold'] = 1"
   ]
  },
  {
   "cell_type": "markdown",
   "metadata": {},
   "source": [
    "# Backtest"
   ]
  },
  {
   "cell_type": "code",
   "execution_count": 160,
   "metadata": {},
   "outputs": [],
   "source": [
    "# Getting daily returns\n",
    "log_returns = prices[['ds', 'Close']].set_index(\n",
    "    'ds'\n",
    ").loc[positions.index].apply(np.log).diff()"
   ]
  },
  {
   "cell_type": "code",
   "execution_count": 161,
   "metadata": {},
   "outputs": [],
   "source": [
    "# The positions to backtest (shifted ahead by 1 to prevent lookahead bias)\n",
    "bt_positions = positions[[\n",
    "    'buy_hold', \n",
    "    'fbp_positions'\n",
    "]].shift(1)\n",
    "\n",
    "# The returns during the backtest\n",
    "returns = bt_positions.multiply(\n",
    "    log_returns['Close'], \n",
    "    axis=0\n",
    ")\n",
    "\n",
    "# Inversing the log returns to get daily portfolio balance\n",
    "performance = returns.cumsum().apply(\n",
    "    np.exp\n",
    ").dropna().fillna(\n",
    "    method='ffill'\n",
    ")"
   ]
  },
  {
   "cell_type": "markdown",
   "metadata": {},
   "source": [
    "# Calculating Backtest Performance"
   ]
  },
  {
   "cell_type": "code",
   "execution_count": 167,
   "metadata": {},
   "outputs": [],
   "source": [
    "def riskAnalysis(performance):\n",
    "    \"\"\"\n",
    "    Analyzes the performance DataFrame to calculate various\n",
    "    evaluation metrics on the backtest to determine if\n",
    "    the backtest performance was favorable.\n",
    "    \"\"\"\n",
    "\n",
    "    # Ending portfolio balance\n",
    "    bal = performance.tail(1)\n",
    "    \n",
    "    # Moving Average returns\n",
    "    ma_ret = performance.rolling(window=5).mean().dropna()\n",
    "    \n",
    "    # Calculating if fbp beats buy and hold on average\n",
    "    ma_ret['diff'] = ma_ret['fbp_positions'] > ma_ret['buy_hold']\n",
    "    \n",
    "    diff = sum(ma_ret['diff'])/len(ma_ret['diff'])\n",
    "\n",
    "    # Calculating if fbp has positive returns on average\n",
    "    ma_ret['pos_ret'] = ma_ret['fbp_positions'] > 1\n",
    "    \n",
    "    pos_ret = sum(ma_ret['pos_ret']/len(ma_ret['pos_ret']))\n",
    "    \n",
    "    # Performance score\n",
    "    score = 0\n",
    "    \n",
    "    # Checking ending portfolio balance\n",
    "    if bal['fbp_positions'][0]>bal['buy_hold'][0] and bal['fbp_positions'][0]>1: score += 1\n",
    "    \n",
    "    # How often fbp outperformed buy and hold\n",
    "    if diff>.9: score += 1\n",
    "        \n",
    "    # How often fbp had positive returns\n",
    "    if pos_ret>.6: score += 1\n",
    "        \n",
    "    # Dictionary containing values\n",
    "    score_res = {\n",
    "        \"result\": True,\n",
    "        \"score\": score,\n",
    "        \"endingBalance\": {\n",
    "            \"prophet\": bal['fbp_positions'][0],\n",
    "            \"buyHold\": bal['buy_hold'][0]\n",
    "        },\n",
    "        \"differenceMovAvgScore\": diff,\n",
    "        \"positiveReturns\": pos_ret\n",
    "    }\n",
    "                \n",
    "    if score>=3:\n",
    "                \n",
    "        return score_res\n",
    "    \n",
    "    else:\n",
    "        # Backtest result is bad\n",
    "        score_res['result'] = False\n",
    "        \n",
    "        return score_res"
   ]
  },
  {
   "cell_type": "code",
   "execution_count": 168,
   "metadata": {},
   "outputs": [
    {
     "data": {
      "text/plain": [
       "{'result': False,\n",
       " 'score': 2,\n",
       " 'endingBalance': {'prophet': 1.477525063822707, 'buyHold': 1.216121138664886},\n",
       " 'differenceMovAvgScore': 0.3884297520661157,\n",
       " 'positiveReturns': 0.9669421487603282}"
      ]
     },
     "execution_count": 168,
     "metadata": {},
     "output_type": "execute_result"
    }
   ],
   "source": [
    "riskAnalysis(performance)"
   ]
  },
  {
   "cell_type": "markdown",
   "metadata": {},
   "source": [
    "# Visualization"
   ]
  },
  {
   "cell_type": "code",
   "execution_count": 169,
   "metadata": {},
   "outputs": [
    {
     "name": "stdout",
     "output_type": "stream",
     "text": [
      "0.28125\n",
      "0.9999999999999986\n"
     ]
    },
    {
     "data": {
      "image/png": "[encoded data removed]",
      "text/plain": [
       "<Figure size 432x288 with 1 Axes>"
      ]
     },
     "metadata": {
      "needs_background": "light"
     },
     "output_type": "display_data"
    }
   ],
   "source": [
    "perf = performance.rolling(window=30).mean().dropna()\n",
    "\n",
    "perf['diff'] = perf['fbp_positions'] > perf['buy_hold']\n",
    "\n",
    "perf['pos_ret'] = perf['fbp_positions'] > 1\n",
    "\n",
    "perf\n",
    "\n",
    "perf.plot()\n",
    "print(sum(perf['diff'])/len(perf['diff']))\n",
    "print(sum(perf['pos_ret']/len(perf['pos_ret'])))"
   ]
  },
  {
   "cell_type": "code",
   "execution_count": 165,
   "metadata": {},
   "outputs": [
    {
     "data": {
      "application/vnd.plotly.v1+json": {
       "config": {
        "plotlyServerURL": "https://plot.ly"
       },
       "data": [
        {
         "hovertemplate": "variable=buy_hold<br>ds=%{x}<br>Portfolio Balance=%{y}<extra></extra>",
         "legendgroup": "buy_hold",
         "line": {
          "color": "#636efa",
          "dash": "solid"
         },
         "mode": "lines",
         "name": "buy_hold",
         "orientation": "v",
         "showlegend": true,
         "type": "scatter",
         "x": [
          "2021-09-15",
          "2021-09-16",
          "2021-09-17",
          "2021-09-20",
          "2021-09-21",
          "2021-09-22",
          "2021-09-23",
          "2021-09-24",
          "2021-09-27",
          "2021-09-28",
          "2021-09-29",
          "2021-09-30",
          "2021-10-01",
          "2021-10-04",
          "2021-10-05",
          "2021-10-06",
          "2021-10-07",
          "2021-10-08",
          "2021-10-11",
          "2021-10-12",
          "2021-10-13",
          "2021-10-14",
          "2021-10-15",
          "2021-10-18",
          "2021-10-19",
          "2021-10-20",
          "2021-10-21",
          "2021-10-22",
          "2021-10-25",
          "2021-10-26",
          "2021-10-27",
          "2021-10-28",
          "2021-10-29",
          "2021-11-01",
          "2021-11-02",
          "2021-11-03",
          "2021-11-04",
          "2021-11-05",
          "2021-11-08",
          "2021-11-09",
          "2021-11-10",
          "2021-11-11",
          "2021-11-12",
          "2021-11-15",
          "2021-11-16",
          "2021-11-17",
          "2021-11-18",
          "2021-11-19",
          "2021-11-22",
          "2021-11-23",
          "2021-11-24",
          "2021-11-26",
          "2021-11-29",
          "2021-12-01",
          "2021-12-02",
          "2021-12-03",
          "2021-12-06",
          "2021-12-07",
          "2021-12-08",
          "2021-12-09",
          "2021-12-10",
          "2021-12-13",
          "2021-12-14",
          "2021-12-15",
          "2021-12-16",
          "2021-12-17",
          "2021-12-20",
          "2021-12-21",
          "2021-12-22",
          "2021-12-23",
          "2021-12-27",
          "2021-12-28",
          "2021-12-30",
          "2021-12-31",
          "2022-01-03",
          "2022-01-04",
          "2022-01-05",
          "2022-01-06",
          "2022-01-07",
          "2022-01-10",
          "2022-01-11",
          "2022-01-12",
          "2022-01-13",
          "2022-01-14",
          "2022-01-18",
          "2022-01-19",
          "2022-01-21",
          "2022-01-24",
          "2022-01-25",
          "2022-01-26",
          "2022-01-27",
          "2022-01-28",
          "2022-01-31",
          "2022-02-01",
          "2022-02-02",
          "2022-02-03",
          "2022-02-04",
          "2022-02-07",
          "2022-02-08",
          "2022-02-09",
          "2022-02-10",
          "2022-02-11",
          "2022-02-14",
          "2022-02-15",
          "2022-02-16",
          "2022-02-17",
          "2022-02-18",
          "2022-02-22",
          "2022-02-23",
          "2022-02-25",
          "2022-02-28",
          "2022-03-01",
          "2022-03-02",
          "2022-03-03",
          "2022-03-04",
          "2022-03-07",
          "2022-03-08",
          "2022-03-09",
          "2022-03-10",
          "2022-03-11",
          "2022-03-14",
          "2022-03-15",
          "2022-03-16",
          "2022-03-17",
          "2022-03-18"
         ],
         "xaxis": "x",
         "y": [
          1.0152319399914282,
          1.0167900175475366,
          1.020148021057043,
          0.9807653460596426,
          0.9931362605023694,
          1.010006866854833,
          1.0122903256378002,
          1.040161754766709,
          1.0629558432376403,
          1.0444196802616625,
          1.049456685525923,
          1.0416257983866501,
          1.04127655290446,
          1.0497522324656636,
          1.0484896198667888,
          1.0513908988266996,
          1.0659780463961972,
          1.055071257555918,
          1.0637349230069482,
          1.082244195720448,
          1.0894438175515369,
          1.0991685825978685,
          1.1323591187995405,
          1.168732953787117,
          1.1608887034991127,
          1.1629437590160263,
          1.2008220549997688,
          1.2218834431734975,
          1.376593371025611,
          1.36795659583706,
          1.394054989275049,
          1.446681692420652,
          1.496326363836402,
          1.6233797387119109,
          1.5742320452569676,
          1.6304584363443544,
          1.6520168844613965,
          1.6415129576632495,
          1.5620625618353077,
          1.374766636792241,
          1.4344718736052737,
          1.4285081380755955,
          1.3880912537453711,
          1.3611868902755957,
          1.416714790398603,
          1.4627597738725684,
          1.472659161659995,
          1.5273006669113023,
          1.5539094014588308,
          1.4896506922111046,
          1.4990127666440072,
          1.4532365218298107,
          1.5272065509926278,
          1.4708055371641473,
          1.4568362097715934,
          1.363309089466199,
          1.3553036615683394,
          1.4127120764496726,
          1.435828520140315,
          1.3483055527408234,
          1.3660761630612404,
          1.2980832325768323,
          1.2874719906762944,
          1.310951124980366,
          1.245040222257858,
          1.2526293429823467,
          1.2088006746176587,
          1.260634852862715,
          1.3551155936960046,
          1.4331958978576667,
          1.4693816649729086,
          1.4620343926457104,
          1.4376821446361638,
          1.4194684188624052,
          1.6115462196062154,
          1.544130855887542,
          1.4615643049473823,
          1.430106469042914,
          1.3794140611805945,
          1.4212682628332962,
          1.429703607000782,
          1.485876217563212,
          1.3855929188101,
          1.4098376057697326,
          1.384182491750101,
          1.3373585104893342,
          1.267847837842536,
          1.2491773055366724,
          1.2335962020455626,
          1.2591303918665482,
          1.1136482510999601,
          1.1368184753155592,
          1.258203579618625,
          1.2508563072914265,
          1.216483747295807,
          1.1969805186606952,
          1.2402047299971706,
          1.2187403977988034,
          1.2384316943062499,
          1.2518637083442783,
          1.214992813413388,
          1.1551532072704713,
          1.1763220745116059,
          1.2390092610719845,
          1.240298763933338,
          1.1771145174296453,
          1.1510967127965845,
          1.1034802886177788,
          1.026259571047845,
          1.0878185143392325,
          1.1691627880742346,
          1.161022990846489,
          1.1818695028679123,
          1.1273354766840114,
          1.1259922752802083,
          1.0807130084268182,
          1.1073352700880923,
          1.1537696704729512,
          1.1260057204114478,
          1.0683152037216128,
          1.0293892532738078,
          1.0770997933712887,
          1.1285980892828864,
          1.170734310761582,
          1.216121138664886
         ],
         "yaxis": "y"
        },
        {
         "hovertemplate": "variable=fbp_positions<br>ds=%{x}<br>Portfolio Balance=%{y}<extra></extra>",
         "legendgroup": "fbp_positions",
         "line": {
          "color": "#EF553B",
          "dash": "solid"
         },
         "mode": "lines",
         "name": "fbp_positions",
         "orientation": "v",
         "showlegend": true,
         "type": "scatter",
         "x": [
          "2021-09-15",
          "2021-09-16",
          "2021-09-17",
          "2021-09-20",
          "2021-09-21",
          "2021-09-22",
          "2021-09-23",
          "2021-09-24",
          "2021-09-27",
          "2021-09-28",
          "2021-09-29",
          "2021-09-30",
          "2021-10-01",
          "2021-10-04",
          "2021-10-05",
          "2021-10-06",
          "2021-10-07",
          "2021-10-08",
          "2021-10-11",
          "2021-10-12",
          "2021-10-13",
          "2021-10-14",
          "2021-10-15",
          "2021-10-18",
          "2021-10-19",
          "2021-10-20",
          "2021-10-21",
          "2021-10-22",
          "2021-10-25",
          "2021-10-26",
          "2021-10-27",
          "2021-10-28",
          "2021-10-29",
          "2021-11-01",
          "2021-11-02",
          "2021-11-03",
          "2021-11-04",
          "2021-11-05",
          "2021-11-08",
          "2021-11-09",
          "2021-11-10",
          "2021-11-11",
          "2021-11-12",
          "2021-11-15",
          "2021-11-16",
          "2021-11-17",
          "2021-11-18",
          "2021-11-19",
          "2021-11-22",
          "2021-11-23",
          "2021-11-24",
          "2021-11-26",
          "2021-11-29",
          "2021-12-01",
          "2021-12-02",
          "2021-12-03",
          "2021-12-06",
          "2021-12-07",
          "2021-12-08",
          "2021-12-09",
          "2021-12-10",
          "2021-12-13",
          "2021-12-14",
          "2021-12-15",
          "2021-12-16",
          "2021-12-17",
          "2021-12-20",
          "2021-12-21",
          "2021-12-22",
          "2021-12-23",
          "2021-12-27",
          "2021-12-28",
          "2021-12-30",
          "2021-12-31",
          "2022-01-03",
          "2022-01-04",
          "2022-01-05",
          "2022-01-06",
          "2022-01-07",
          "2022-01-10",
          "2022-01-11",
          "2022-01-12",
          "2022-01-13",
          "2022-01-14",
          "2022-01-18",
          "2022-01-19",
          "2022-01-21",
          "2022-01-24",
          "2022-01-25",
          "2022-01-26",
          "2022-01-27",
          "2022-01-28",
          "2022-01-31",
          "2022-02-01",
          "2022-02-02",
          "2022-02-03",
          "2022-02-04",
          "2022-02-07",
          "2022-02-08",
          "2022-02-09",
          "2022-02-10",
          "2022-02-11",
          "2022-02-14",
          "2022-02-15",
          "2022-02-16",
          "2022-02-17",
          "2022-02-18",
          "2022-02-22",
          "2022-02-23",
          "2022-02-25",
          "2022-02-28",
          "2022-03-01",
          "2022-03-02",
          "2022-03-03",
          "2022-03-04",
          "2022-03-07",
          "2022-03-08",
          "2022-03-09",
          "2022-03-10",
          "2022-03-11",
          "2022-03-14",
          "2022-03-15",
          "2022-03-16",
          "2022-03-17",
          "2022-03-18"
         ],
         "xaxis": "x",
         "y": [
          1,
          1.0015347010813327,
          1.0015347010813327,
          0.962870590758955,
          0.9750157891446375,
          0.9915785793883197,
          0.9938203748556687,
          1.0211832701072887,
          1.0435614643613937,
          1.06208239588387,
          1.0569847918636863,
          1.0490977311329575,
          1.0487459803952728,
          1.057282458861187,
          1.0585556599762322,
          1.05563461009116,
          1.0411890050536756,
          1.0519522862440354,
          1.0433845853240522,
          1.0255399159682894,
          1.01876260496913,
          1.0097492223741709,
          1.0097492223741709,
          1.0421845611140657,
          1.0492267146978083,
          1.0473726102909389,
          1.0814866329427586,
          1.1004549802397368,
          1.239790128406741,
          1.2476177076242538,
          1.22426079699714,
          1.1797252161061127,
          1.1405846434810982,
          1.237431916768396,
          1.2760646740546755,
          1.2320595587957648,
          1.2159814591557214,
          1.2237624396074738,
          1.164531466271394,
          1.0249006963227216,
          0.9822425306871725,
          0.9781589130249471,
          1.0066398472125486,
          1.0265364569478086,
          1.0684127152788618,
          1.1031374503856002,
          1.0957220309263611,
          1.0565209080538644,
          1.0384293228173467,
          1.0832238026763716,
          1.0900315878310882,
          1.056744644630815,
          1.1105331580674094,
          1.0695202407482456,
          1.0593622164422032,
          1.1320376634334453,
          1.1387243168744836,
          1.0924499492178539,
          1.0748618059391064,
          1.1446346364439812,
          1.129744649609048,
          1.1889200919060066,
          1.1889200919060066,
          1.2106019729230895,
          1.1497363408239483,
          1.1567445384193813,
          1.116270815652884,
          1.1641372519010331,
          1.2513857915883755,
          1.3234892960313491,
          1.3569051574061228,
          1.350120295479983,
          1.3729893729050011,
          1.3729893729050011,
          1.2093448084589025,
          1.2621437145960932,
          1.333444616617474,
          1.3627761963601501,
          1.4128571754621202,
          1.3712506676165326,
          1.3631601995890334,
          1.4167183403468593,
          1.519254364200117,
          1.4931280597794194,
          1.4931280597794194,
          1.4426186791827609,
          1.3676369940352695,
          1.3474969504766663,
          1.3306894970060708,
          1.358233419525451,
          1.2013007405831504,
          1.1768162620898266,
          1.3024721762230531,
          1.3101226295337387,
          1.3471410186288435,
          1.3690909157912914,
          1.3213747011602228,
          1.3446466182932293,
          1.3232664845480415,
          1.3090683463018182,
          1.3487941133359862,
          1.282364659911352,
          1.3058647524268119,
          1.3754553765694302,
          1.376886886163003,
          1.3067444632623053,
          1.2778614432612163,
          1.2250012518909892,
          1.2250012518909892,
          1.2984814753397604,
          1.2081398790733897,
          1.2081398790733897,
          1.186829994647445,
          1.2442420244669272,
          1.2457262865445857,
          1.2979192115070084,
          1.2667149811376595,
          1.2667149811376595,
          1.2979484028165593,
          1.2979484028165593,
          1.2506553613660225,
          1.308621230522723,
          1.3711890295144247,
          1.4223823862863547,
          1.477525063822707
         ],
         "yaxis": "y"
        }
       ],
       "layout": {
        "autosize": true,
        "legend": {
         "title": {
          "text": "variable"
         },
         "tracegroupgap": 0
        },
        "template": {
         "data": {
          "bar": [
           {
            "error_x": {
             "color": "#2a3f5f"
            },
            "error_y": {
             "color": "#2a3f5f"
            },
            "marker": {
             "line": {
              "color": "#E5ECF6",
              "width": 0.5
             }
            },
            "type": "bar"
           }
          ],
          "barpolar": [
           {
            "marker": {
             "line": {
              "color": "#E5ECF6",
              "width": 0.5
             }
            },
            "type": "barpolar"
           }
          ],
          "carpet": [
           {
            "aaxis": {
             "endlinecolor": "#2a3f5f",
             "gridcolor": "white",
             "linecolor": "white",
             "minorgridcolor": "white",
             "startlinecolor": "#2a3f5f"
            },
            "baxis": {
             "endlinecolor": "#2a3f5f",
             "gridcolor": "white",
             "linecolor": "white",
             "minorgridcolor": "white",
             "startlinecolor": "#2a3f5f"
            },
            "type": "carpet"
           }
          ],
          "choropleth": [
           {
            "colorbar": {
             "outlinewidth": 0,
             "ticks": ""
            },
            "type": "choropleth"
           }
          ],
          "contour": [
           {
            "colorbar": {
             "outlinewidth": 0,
             "ticks": ""
            },
            "colorscale": [
             [
              0,
              "#0d0887"
             ],
             [
              0.1111111111111111,
              "#46039f"
             ],
             [
              0.2222222222222222,
              "#7201a8"
             ],
             [
              0.3333333333333333,
              "#9c179e"
             ],
             [
              0.4444444444444444,
              "#bd3786"
             ],
             [
              0.5555555555555556,
              "#d8576b"
             ],
             [
              0.6666666666666666,
              "#ed7953"
             ],
             [
              0.7777777777777778,
              "#fb9f3a"
             ],
             [
              0.8888888888888888,
              "#fdca26"
             ],
             [
              1,
              "#f0f921"
             ]
            ],
            "type": "contour"
           }
          ],
          "contourcarpet": [
           {
            "colorbar": {
             "outlinewidth": 0,
             "ticks": ""
            },
            "type": "contourcarpet"
           }
          ],
          "heatmap": [
           {
            "colorbar": {
             "outlinewidth": 0,
             "ticks": ""
            },
            "colorscale": [
             [
              0,
              "#0d0887"
             ],
             [
              0.1111111111111111,
              "#46039f"
             ],
             [
              0.2222222222222222,
              "#7201a8"
             ],
             [
              0.3333333333333333,
              "#9c179e"
             ],
             [
              0.4444444444444444,
              "#bd3786"
             ],
             [
              0.5555555555555556,
              "#d8576b"
             ],
             [
              0.6666666666666666,
              "#ed7953"
             ],
             [
              0.7777777777777778,
              "#fb9f3a"
             ],
             [
              0.8888888888888888,
              "#fdca26"
             ],
             [
              1,
              "#f0f921"
             ]
            ],
            "type": "heatmap"
           }
          ],
          "heatmapgl": [
           {
            "colorbar": {
             "outlinewidth": 0,
             "ticks": ""
            },
            "colorscale": [
             [
              0,
              "#0d0887"
             ],
             [
              0.1111111111111111,
              "#46039f"
             ],
             [
              0.2222222222222222,
              "#7201a8"
             ],
             [
              0.3333333333333333,
              "#9c179e"
             ],
             [
              0.4444444444444444,
              "#bd3786"
             ],
             [
              0.5555555555555556,
              "#d8576b"
             ],
             [
              0.6666666666666666,
              "#ed7953"
             ],
             [
              0.7777777777777778,
              "#fb9f3a"
             ],
             [
              0.8888888888888888,
              "#fdca26"
             ],
             [
              1,
              "#f0f921"
             ]
            ],
            "type": "heatmapgl"
           }
          ],
          "histogram": [
           {
            "marker": {
             "colorbar": {
              "outlinewidth": 0,
              "ticks": ""
             }
            },
            "type": "histogram"
           }
          ],
          "histogram2d": [
           {
            "colorbar": {
             "outlinewidth": 0,
             "ticks": ""
            },
            "colorscale": [
             [
              0,
              "#0d0887"
             ],
             [
              0.1111111111111111,
              "#46039f"
             ],
             [
              0.2222222222222222,
              "#7201a8"
             ],
             [
              0.3333333333333333,
              "#9c179e"
             ],
             [
              0.4444444444444444,
              "#bd3786"
             ],
             [
              0.5555555555555556,
              "#d8576b"
             ],
             [
              0.6666666666666666,
              "#ed7953"
             ],
             [
              0.7777777777777778,
              "#fb9f3a"
             ],
             [
              0.8888888888888888,
              "#fdca26"
             ],
             [
              1,
              "#f0f921"
             ]
            ],
            "type": "histogram2d"
           }
          ],
          "histogram2dcontour": [
           {
            "colorbar": {
             "outlinewidth": 0,
             "ticks": ""
            },
            "colorscale": [
             [
              0,
              "#0d0887"
             ],
             [
              0.1111111111111111,
              "#46039f"
             ],
             [
              0.2222222222222222,
              "#7201a8"
             ],
             [
              0.3333333333333333,
              "#9c179e"
             ],
             [
              0.4444444444444444,
              "#bd3786"
             ],
             [
              0.5555555555555556,
              "#d8576b"
             ],
             [
              0.6666666666666666,
              "#ed7953"
             ],
             [
              0.7777777777777778,
              "#fb9f3a"
             ],
             [
              0.8888888888888888,
              "#fdca26"
             ],
             [
              1,
              "#f0f921"
             ]
            ],
            "type": "histogram2dcontour"
           }
          ],
          "mesh3d": [
           {
            "colorbar": {
             "outlinewidth": 0,
             "ticks": ""
            },
            "type": "mesh3d"
           }
          ],
          "parcoords": [
           {
            "line": {
             "colorbar": {
              "outlinewidth": 0,
              "ticks": ""
             }
            },
            "type": "parcoords"
           }
          ],
          "pie": [
           {
            "automargin": true,
            "type": "pie"
           }
          ],
          "scatter": [
           {
            "marker": {
             "colorbar": {
              "outlinewidth": 0,
              "ticks": ""
             }
            },
            "type": "scatter"
           }
          ],
          "scatter3d": [
           {
            "line": {
             "colorbar": {
              "outlinewidth": 0,
              "ticks": ""
             }
            },
            "marker": {
             "colorbar": {
              "outlinewidth": 0,
              "ticks": ""
             }
            },
            "type": "scatter3d"
           }
          ],
          "scattercarpet": [
           {
            "marker": {
             "colorbar": {
              "outlinewidth": 0,
              "ticks": ""
             }
            },
            "type": "scattercarpet"
           }
          ],
          "scattergeo": [
           {
            "marker": {
             "colorbar": {
              "outlinewidth": 0,
              "ticks": ""
             }
            },
            "type": "scattergeo"
           }
          ],
          "scattergl": [
           {
            "marker": {
             "colorbar": {
              "outlinewidth": 0,
              "ticks": ""
             }
            },
            "type": "scattergl"
           }
          ],
          "scattermapbox": [
           {
            "marker": {
             "colorbar": {
              "outlinewidth": 0,
              "ticks": ""
             }
            },
            "type": "scattermapbox"
           }
          ],
          "scatterpolar": [
           {
            "marker": {
             "colorbar": {
              "outlinewidth": 0,
              "ticks": ""
             }
            },
            "type": "scatterpolar"
           }
          ],
          "scatterpolargl": [
           {
            "marker": {
             "colorbar": {
              "outlinewidth": 0,
              "ticks": ""
             }
            },
            "type": "scatterpolargl"
           }
          ],
          "scatterternary": [
           {
            "marker": {
             "colorbar": {
              "outlinewidth": 0,
              "ticks": ""
             }
            },
            "type": "scatterternary"
           }
          ],
          "surface": [
           {
            "colorbar": {
             "outlinewidth": 0,
             "ticks": ""
            },
            "colorscale": [
             [
              0,
              "#0d0887"
             ],
             [
              0.1111111111111111,
              "#46039f"
             ],
             [
              0.2222222222222222,
              "#7201a8"
             ],
             [
              0.3333333333333333,
              "#9c179e"
             ],
             [
              0.4444444444444444,
              "#bd3786"
             ],
             [
              0.5555555555555556,
              "#d8576b"
             ],
             [
              0.6666666666666666,
              "#ed7953"
             ],
             [
              0.7777777777777778,
              "#fb9f3a"
             ],
             [
              0.8888888888888888,
              "#fdca26"
             ],
             [
              1,
              "#f0f921"
             ]
            ],
            "type": "surface"
           }
          ],
          "table": [
           {
            "cells": {
             "fill": {
              "color": "#EBF0F8"
             },
             "line": {
              "color": "white"
             }
            },
            "header": {
             "fill": {
              "color": "#C8D4E3"
             },
             "line": {
              "color": "white"
             }
            },
            "type": "table"
           }
          ]
         },
         "layout": {
          "annotationdefaults": {
           "arrowcolor": "#2a3f5f",
           "arrowhead": 0,
           "arrowwidth": 1
          },
          "autotypenumbers": "strict",
          "coloraxis": {
           "colorbar": {
            "outlinewidth": 0,
            "ticks": ""
           }
          },
          "colorscale": {
           "diverging": [
            [
             0,
             "#8e0152"
            ],
            [
             0.1,
             "#c51b7d"
            ],
            [
             0.2,
             "#de77ae"
            ],
            [
             0.3,
             "#f1b6da"
            ],
            [
             0.4,
             "#fde0ef"
            ],
            [
             0.5,
             "#f7f7f7"
            ],
            [
             0.6,
             "#e6f5d0"
            ],
            [
             0.7,
             "#b8e186"
            ],
            [
             0.8,
             "#7fbc41"
            ],
            [
             0.9,
             "#4d9221"
            ],
            [
             1,
             "#276419"
            ]
           ],
           "sequential": [
            [
             0,
             "#0d0887"
            ],
            [
             0.1111111111111111,
             "#46039f"
            ],
            [
             0.2222222222222222,
             "#7201a8"
            ],
            [
             0.3333333333333333,
             "#9c179e"
            ],
            [
             0.4444444444444444,
             "#bd3786"
            ],
            [
             0.5555555555555556,
             "#d8576b"
            ],
            [
             0.6666666666666666,
             "#ed7953"
            ],
            [
             0.7777777777777778,
             "#fb9f3a"
            ],
            [
             0.8888888888888888,
             "#fdca26"
            ],
            [
             1,
             "#f0f921"
            ]
           ],
           "sequentialminus": [
            [
             0,
             "#0d0887"
            ],
            [
             0.1111111111111111,
             "#46039f"
            ],
            [
             0.2222222222222222,
             "#7201a8"
            ],
            [
             0.3333333333333333,
             "#9c179e"
            ],
            [
             0.4444444444444444,
             "#bd3786"
            ],
            [
             0.5555555555555556,
             "#d8576b"
            ],
            [
             0.6666666666666666,
             "#ed7953"
            ],
            [
             0.7777777777777778,
             "#fb9f3a"
            ],
            [
             0.8888888888888888,
             "#fdca26"
            ],
            [
             1,
             "#f0f921"
            ]
           ]
          },
          "colorway": [
           "#636efa",
           "#EF553B",
           "#00cc96",
           "#ab63fa",
           "#FFA15A",
           "#19d3f3",
           "#FF6692",
           "#B6E880",
           "#FF97FF",
           "#FECB52"
          ],
          "font": {
           "color": "#2a3f5f"
          },
          "geo": {
           "bgcolor": "white",
           "lakecolor": "white",
           "landcolor": "#E5ECF6",
           "showlakes": true,
           "showland": true,
           "subunitcolor": "white"
          },
          "hoverlabel": {
           "align": "left"
          },
          "hovermode": "closest",
          "mapbox": {
           "style": "light"
          },
          "paper_bgcolor": "white",
          "plot_bgcolor": "#E5ECF6",
          "polar": {
           "angularaxis": {
            "gridcolor": "white",
            "linecolor": "white",
            "ticks": ""
           },
           "bgcolor": "#E5ECF6",
           "radialaxis": {
            "gridcolor": "white",
            "linecolor": "white",
            "ticks": ""
           }
          },
          "scene": {
           "xaxis": {
            "backgroundcolor": "#E5ECF6",
            "gridcolor": "white",
            "gridwidth": 2,
            "linecolor": "white",
            "showbackground": true,
            "ticks": "",
            "zerolinecolor": "white"
           },
           "yaxis": {
            "backgroundcolor": "#E5ECF6",
            "gridcolor": "white",
            "gridwidth": 2,
            "linecolor": "white",
            "showbackground": true,
            "ticks": "",
            "zerolinecolor": "white"
           },
           "zaxis": {
            "backgroundcolor": "#E5ECF6",
            "gridcolor": "white",
            "gridwidth": 2,
            "linecolor": "white",
            "showbackground": true,
            "ticks": "",
            "zerolinecolor": "white"
           }
          },
          "shapedefaults": {
           "line": {
            "color": "#2a3f5f"
           }
          },
          "ternary": {
           "aaxis": {
            "gridcolor": "white",
            "linecolor": "white",
            "ticks": ""
           },
           "baxis": {
            "gridcolor": "white",
            "linecolor": "white",
            "ticks": ""
           },
           "bgcolor": "#E5ECF6",
           "caxis": {
            "gridcolor": "white",
            "linecolor": "white",
            "ticks": ""
           }
          },
          "title": {
           "x": 0.05
          },
          "xaxis": {
           "automargin": true,
           "gridcolor": "white",
           "linecolor": "white",
           "ticks": "",
           "title": {
            "standoff": 15
           },
           "zerolinecolor": "white",
           "zerolinewidth": 2
          },
          "yaxis": {
           "automargin": true,
           "gridcolor": "white",
           "linecolor": "white",
           "ticks": "",
           "title": {
            "standoff": 15
           },
           "zerolinecolor": "white",
           "zerolinewidth": 2
          }
         }
        },
        "title": {
         "text": "FBProphet vs Buy&Hold"
        },
        "xaxis": {
         "anchor": "y",
         "autorange": true,
         "domain": [
          0,
          1
         ],
         "range": [
          "2021-09-15",
          "2022-03-18"
         ],
         "title": {
          "text": "ds"
         },
         "type": "date"
        },
        "yaxis": {
         "anchor": "x",
         "autorange": true,
         "domain": [
          0,
          1
         ],
         "range": [
          0.9245846855532638,
          1.6903027896670877
         ],
         "title": {
          "text": "Portfolio Balance"
         },
         "type": "linear"
        }
       }
      },
      "image/png": "[encoded data removed]",
      "text/html": [
       "<div>                            <div id=\"2039bf6a-1c1c-49d3-b49d-6c084f6f6e02\" class=\"plotly-graph-div\" style=\"height:525px; width:100%;\"></div>            <script type=\"text/javascript\">                require([\"plotly\"], function(Plotly) {                    window.PLOTLYENV=window.PLOTLYENV || {};                                    if (document.getElementById(\"2039bf6a-1c1c-49d3-b49d-6c084f6f6e02\")) {                    Plotly.newPlot(                        \"2039bf6a-1c1c-49d3-b49d-6c084f6f6e02\",                        [{\"hovertemplate\": \"variable=buy_hold<br>ds=%{x}<br>Portfolio Balance=%{y}<extra></extra>\", \"legendgroup\": \"buy_hold\", \"line\": {\"color\": \"#636efa\", \"dash\": \"solid\"}, \"mode\": \"lines\", \"name\": \"buy_hold\", \"orientation\": \"v\", \"showlegend\": true, \"type\": \"scatter\", \"x\": [\"2021-09-15\", \"2021-09-16\", \"2021-09-17\", \"2021-09-20\", \"2021-09-21\", \"2021-09-22\", \"2021-09-23\", \"2021-09-24\", \"2021-09-27\", \"2021-09-28\", \"2021-09-29\", \"2021-09-30\", \"2021-10-01\", \"2021-10-04\", \"2021-10-05\", \"2021-10-06\", \"2021-10-07\", \"2021-10-08\", \"2021-10-11\", \"2021-10-12\", \"2021-10-13\", \"2021-10-14\", \"2021-10-15\", \"2021-10-18\", \"2021-10-19\", \"2021-10-20\", \"2021-10-21\", \"2021-10-22\", \"2021-10-25\", \"2021-10-26\", \"2021-10-27\", \"2021-10-28\", \"2021-10-29\", \"2021-11-01\", \"2021-11-02\", \"2021-11-03\", \"2021-11-04\", \"2021-11-05\", \"2021-11-08\", \"2021-11-09\", \"2021-11-10\", \"2021-11-11\", \"2021-11-12\", \"2021-11-15\", \"2021-11-16\", \"2021-11-17\", \"2021-11-18\", \"2021-11-19\", \"2021-11-22\", \"2021-11-23\", \"2021-11-24\", \"2021-11-26\", \"2021-11-29\", \"2021-12-01\", \"2021-12-02\", \"2021-12-03\", \"2021-12-06\", \"2021-12-07\", \"2021-12-08\", \"2021-12-09\", \"2021-12-10\", \"2021-12-13\", \"2021-12-14\", \"2021-12-15\", \"2021-12-16\", \"2021-12-17\", \"2021-12-20\", \"2021-12-21\", \"2021-12-22\", \"2021-12-23\", \"2021-12-27\", \"2021-12-28\", \"2021-12-30\", \"2021-12-31\", \"2022-01-03\", \"2022-01-04\", \"2022-01-05\", \"2022-01-06\", \"2022-01-07\", \"2022-01-10\", \"2022-01-11\", \"2022-01-12\", \"2022-01-13\", \"2022-01-14\", \"2022-01-18\", \"2022-01-19\", \"2022-01-21\", \"2022-01-24\", \"2022-01-25\", \"2022-01-26\", \"2022-01-27\", \"2022-01-28\", \"2022-01-31\", \"2022-02-01\", \"2022-02-02\", \"2022-02-03\", \"2022-02-04\", \"2022-02-07\", \"2022-02-08\", \"2022-02-09\", \"2022-02-10\", \"2022-02-11\", \"2022-02-14\", \"2022-02-15\", \"2022-02-16\", \"2022-02-17\", \"2022-02-18\", \"2022-02-22\", \"2022-02-23\", \"2022-02-25\", \"2022-02-28\", \"2022-03-01\", \"2022-03-02\", \"2022-03-03\", \"2022-03-04\", \"2022-03-07\", \"2022-03-08\", \"2022-03-09\", \"2022-03-10\", \"2022-03-11\", \"2022-03-14\", \"2022-03-15\", \"2022-03-16\", \"2022-03-17\", \"2022-03-18\"], \"xaxis\": \"x\", \"y\": [1.0152319399914282, 1.0167900175475366, 1.020148021057043, 0.9807653460596426, 0.9931362605023694, 1.010006866854833, 1.0122903256378002, 1.040161754766709, 1.0629558432376403, 1.0444196802616625, 1.049456685525923, 1.0416257983866501, 1.04127655290446, 1.0497522324656636, 1.0484896198667888, 1.0513908988266996, 1.0659780463961972, 1.055071257555918, 1.0637349230069482, 1.082244195720448, 1.0894438175515369, 1.0991685825978685, 1.1323591187995405, 1.168732953787117, 1.1608887034991127, 1.1629437590160263, 1.2008220549997688, 1.2218834431734975, 1.376593371025611, 1.36795659583706, 1.394054989275049, 1.446681692420652, 1.496326363836402, 1.6233797387119109, 1.5742320452569676, 1.6304584363443544, 1.6520168844613965, 1.6415129576632495, 1.5620625618353077, 1.374766636792241, 1.4344718736052737, 1.4285081380755955, 1.3880912537453711, 1.3611868902755957, 1.416714790398603, 1.4627597738725684, 1.472659161659995, 1.5273006669113023, 1.5539094014588308, 1.4896506922111046, 1.4990127666440072, 1.4532365218298107, 1.5272065509926278, 1.4708055371641473, 1.4568362097715934, 1.363309089466199, 1.3553036615683394, 1.4127120764496726, 1.435828520140315, 1.3483055527408234, 1.3660761630612404, 1.2980832325768323, 1.2874719906762944, 1.310951124980366, 1.245040222257858, 1.2526293429823467, 1.2088006746176587, 1.260634852862715, 1.3551155936960046, 1.4331958978576667, 1.4693816649729086, 1.4620343926457104, 1.4376821446361638, 1.4194684188624052, 1.6115462196062154, 1.544130855887542, 1.4615643049473823, 1.430106469042914, 1.3794140611805945, 1.4212682628332962, 1.429703607000782, 1.485876217563212, 1.3855929188101, 1.4098376057697326, 1.384182491750101, 1.3373585104893342, 1.267847837842536, 1.2491773055366724, 1.2335962020455626, 1.2591303918665482, 1.1136482510999601, 1.1368184753155592, 1.258203579618625, 1.2508563072914265, 1.216483747295807, 1.1969805186606952, 1.2402047299971706, 1.2187403977988034, 1.2384316943062499, 1.2518637083442783, 1.214992813413388, 1.1551532072704713, 1.1763220745116059, 1.2390092610719845, 1.240298763933338, 1.1771145174296453, 1.1510967127965845, 1.1034802886177788, 1.026259571047845, 1.0878185143392325, 1.1691627880742346, 1.161022990846489, 1.1818695028679123, 1.1273354766840114, 1.1259922752802083, 1.0807130084268182, 1.1073352700880923, 1.1537696704729512, 1.1260057204114478, 1.0683152037216128, 1.0293892532738078, 1.0770997933712887, 1.1285980892828864, 1.170734310761582, 1.216121138664886], \"yaxis\": \"y\"}, {\"hovertemplate\": \"variable=fbp_positions<br>ds=%{x}<br>Portfolio Balance=%{y}<extra></extra>\", \"legendgroup\": \"fbp_positions\", \"line\": {\"color\": \"#EF553B\", \"dash\": \"solid\"}, \"mode\": \"lines\", \"name\": \"fbp_positions\", \"orientation\": \"v\", \"showlegend\": true, \"type\": \"scatter\", \"x\": [\"2021-09-15\", \"2021-09-16\", \"2021-09-17\", \"2021-09-20\", \"2021-09-21\", \"2021-09-22\", \"2021-09-23\", \"2021-09-24\", \"2021-09-27\", \"2021-09-28\", \"2021-09-29\", \"2021-09-30\", \"2021-10-01\", \"2021-10-04\", \"2021-10-05\", \"2021-10-06\", \"2021-10-07\", \"2021-10-08\", \"2021-10-11\", \"2021-10-12\", \"2021-10-13\", \"2021-10-14\", \"2021-10-15\", \"2021-10-18\", \"2021-10-19\", \"2021-10-20\", \"2021-10-21\", \"2021-10-22\", \"2021-10-25\", \"2021-10-26\", \"2021-10-27\", \"2021-10-28\", \"2021-10-29\", \"2021-11-01\", \"2021-11-02\", \"2021-11-03\", \"2021-11-04\", \"2021-11-05\", \"2021-11-08\", \"2021-11-09\", \"2021-11-10\", \"2021-11-11\", \"2021-11-12\", \"2021-11-15\", \"2021-11-16\", \"2021-11-17\", \"2021-11-18\", \"2021-11-19\", \"2021-11-22\", \"2021-11-23\", \"2021-11-24\", \"2021-11-26\", \"2021-11-29\", \"2021-12-01\", \"2021-12-02\", \"2021-12-03\", \"2021-12-06\", \"2021-12-07\", \"2021-12-08\", \"2021-12-09\", \"2021-12-10\", \"2021-12-13\", \"2021-12-14\", \"2021-12-15\", \"2021-12-16\", \"2021-12-17\", \"2021-12-20\", \"2021-12-21\", \"2021-12-22\", \"2021-12-23\", \"2021-12-27\", \"2021-12-28\", \"2021-12-30\", \"2021-12-31\", \"2022-01-03\", \"2022-01-04\", \"2022-01-05\", \"2022-01-06\", \"2022-01-07\", \"2022-01-10\", \"2022-01-11\", \"2022-01-12\", \"2022-01-13\", \"2022-01-14\", \"2022-01-18\", \"2022-01-19\", \"2022-01-21\", \"2022-01-24\", \"2022-01-25\", \"2022-01-26\", \"2022-01-27\", \"2022-01-28\", \"2022-01-31\", \"2022-02-01\", \"2022-02-02\", \"2022-02-03\", \"2022-02-04\", \"2022-02-07\", \"2022-02-08\", \"2022-02-09\", \"2022-02-10\", \"2022-02-11\", \"2022-02-14\", \"2022-02-15\", \"2022-02-16\", \"2022-02-17\", \"2022-02-18\", \"2022-02-22\", \"2022-02-23\", \"2022-02-25\", \"2022-02-28\", \"2022-03-01\", \"2022-03-02\", \"2022-03-03\", \"2022-03-04\", \"2022-03-07\", \"2022-03-08\", \"2022-03-09\", \"2022-03-10\", \"2022-03-11\", \"2022-03-14\", \"2022-03-15\", \"2022-03-16\", \"2022-03-17\", \"2022-03-18\"], \"xaxis\": \"x\", \"y\": [1.0, 1.0015347010813327, 1.0015347010813327, 0.962870590758955, 0.9750157891446375, 0.9915785793883197, 0.9938203748556687, 1.0211832701072887, 1.0435614643613937, 1.06208239588387, 1.0569847918636863, 1.0490977311329575, 1.0487459803952728, 1.057282458861187, 1.0585556599762322, 1.05563461009116, 1.0411890050536756, 1.0519522862440354, 1.0433845853240522, 1.0255399159682894, 1.01876260496913, 1.0097492223741709, 1.0097492223741709, 1.0421845611140657, 1.0492267146978083, 1.0473726102909389, 1.0814866329427586, 1.1004549802397368, 1.239790128406741, 1.2476177076242538, 1.22426079699714, 1.1797252161061127, 1.1405846434810982, 1.237431916768396, 1.2760646740546755, 1.2320595587957648, 1.2159814591557214, 1.2237624396074738, 1.164531466271394, 1.0249006963227216, 0.9822425306871725, 0.9781589130249471, 1.0066398472125486, 1.0265364569478086, 1.0684127152788618, 1.1031374503856002, 1.0957220309263611, 1.0565209080538644, 1.0384293228173467, 1.0832238026763716, 1.0900315878310882, 1.056744644630815, 1.1105331580674094, 1.0695202407482456, 1.0593622164422032, 1.1320376634334453, 1.1387243168744836, 1.0924499492178539, 1.0748618059391064, 1.1446346364439812, 1.129744649609048, 1.1889200919060066, 1.1889200919060066, 1.2106019729230895, 1.1497363408239483, 1.1567445384193813, 1.116270815652884, 1.1641372519010331, 1.2513857915883755, 1.3234892960313491, 1.3569051574061228, 1.350120295479983, 1.3729893729050011, 1.3729893729050011, 1.2093448084589025, 1.2621437145960932, 1.333444616617474, 1.3627761963601501, 1.4128571754621202, 1.3712506676165326, 1.3631601995890334, 1.4167183403468593, 1.519254364200117, 1.4931280597794194, 1.4931280597794194, 1.4426186791827609, 1.3676369940352695, 1.3474969504766663, 1.3306894970060708, 1.358233419525451, 1.2013007405831504, 1.1768162620898266, 1.3024721762230531, 1.3101226295337387, 1.3471410186288435, 1.3690909157912914, 1.3213747011602228, 1.3446466182932293, 1.3232664845480415, 1.3090683463018182, 1.3487941133359862, 1.282364659911352, 1.3058647524268119, 1.3754553765694302, 1.376886886163003, 1.3067444632623053, 1.2778614432612163, 1.2250012518909892, 1.2250012518909892, 1.2984814753397604, 1.2081398790733897, 1.2081398790733897, 1.186829994647445, 1.2442420244669272, 1.2457262865445857, 1.2979192115070084, 1.2667149811376595, 1.2667149811376595, 1.2979484028165593, 1.2979484028165593, 1.2506553613660225, 1.308621230522723, 1.3711890295144247, 1.4223823862863547, 1.477525063822707], \"yaxis\": \"y\"}],                        {\"legend\": {\"title\": {\"text\": \"variable\"}, \"tracegroupgap\": 0}, \"template\": {\"data\": {\"bar\": [{\"error_x\": {\"color\": \"#2a3f5f\"}, \"error_y\": {\"color\": \"#2a3f5f\"}, \"marker\": {\"line\": {\"color\": \"#E5ECF6\", \"width\": 0.5}}, \"type\": \"bar\"}], \"barpolar\": [{\"marker\": {\"line\": {\"color\": \"#E5ECF6\", \"width\": 0.5}}, \"type\": \"barpolar\"}], \"carpet\": [{\"aaxis\": {\"endlinecolor\": \"#2a3f5f\", \"gridcolor\": \"white\", \"linecolor\": \"white\", \"minorgridcolor\": \"white\", \"startlinecolor\": \"#2a3f5f\"}, \"baxis\": {\"endlinecolor\": \"#2a3f5f\", \"gridcolor\": \"white\", \"linecolor\": \"white\", \"minorgridcolor\": \"white\", \"startlinecolor\": \"#2a3f5f\"}, \"type\": \"carpet\"}], \"choropleth\": [{\"colorbar\": {\"outlinewidth\": 0, \"ticks\": \"\"}, \"type\": \"choropleth\"}], \"contour\": [{\"colorbar\": {\"outlinewidth\": 0, \"ticks\": \"\"}, \"colorscale\": [[0.0, \"#0d0887\"], [0.1111111111111111, \"#46039f\"], [0.2222222222222222, \"#7201a8\"], [0.3333333333333333, \"#9c179e\"], [0.4444444444444444, \"#bd3786\"], [0.5555555555555556, \"#d8576b\"], [0.6666666666666666, \"#ed7953\"], [0.7777777777777778, \"#fb9f3a\"], [0.8888888888888888, \"#fdca26\"], [1.0, \"#f0f921\"]], \"type\": \"contour\"}], \"contourcarpet\": [{\"colorbar\": {\"outlinewidth\": 0, \"ticks\": \"\"}, \"type\": \"contourcarpet\"}], \"heatmap\": [{\"colorbar\": {\"outlinewidth\": 0, \"ticks\": \"\"}, \"colorscale\": [[0.0, \"#0d0887\"], [0.1111111111111111, \"#46039f\"], [0.2222222222222222, \"#7201a8\"], [0.3333333333333333, \"#9c179e\"], [0.4444444444444444, \"#bd3786\"], [0.5555555555555556, \"#d8576b\"], [0.6666666666666666, \"#ed7953\"], [0.7777777777777778, \"#fb9f3a\"], [0.8888888888888888, \"#fdca26\"], [1.0, \"#f0f921\"]], \"type\": \"heatmap\"}], \"heatmapgl\": [{\"colorbar\": {\"outlinewidth\": 0, \"ticks\": \"\"}, \"colorscale\": [[0.0, \"#0d0887\"], [0.1111111111111111, \"#46039f\"], [0.2222222222222222, \"#7201a8\"], [0.3333333333333333, \"#9c179e\"], [0.4444444444444444, \"#bd3786\"], [0.5555555555555556, \"#d8576b\"], [0.6666666666666666, \"#ed7953\"], [0.7777777777777778, \"#fb9f3a\"], [0.8888888888888888, \"#fdca26\"], [1.0, \"#f0f921\"]], \"type\": \"heatmapgl\"}], \"histogram\": [{\"marker\": {\"colorbar\": {\"outlinewidth\": 0, \"ticks\": \"\"}}, \"type\": \"histogram\"}], \"histogram2d\": [{\"colorbar\": {\"outlinewidth\": 0, \"ticks\": \"\"}, \"colorscale\": [[0.0, \"#0d0887\"], [0.1111111111111111, \"#46039f\"], [0.2222222222222222, \"#7201a8\"], [0.3333333333333333, \"#9c179e\"], [0.4444444444444444, \"#bd3786\"], [0.5555555555555556, \"#d8576b\"], [0.6666666666666666, \"#ed7953\"], [0.7777777777777778, \"#fb9f3a\"], [0.8888888888888888, \"#fdca26\"], [1.0, \"#f0f921\"]], \"type\": \"histogram2d\"}], \"histogram2dcontour\": [{\"colorbar\": {\"outlinewidth\": 0, \"ticks\": \"\"}, \"colorscale\": [[0.0, \"#0d0887\"], [0.1111111111111111, \"#46039f\"], [0.2222222222222222, \"#7201a8\"], [0.3333333333333333, \"#9c179e\"], [0.4444444444444444, \"#bd3786\"], [0.5555555555555556, \"#d8576b\"], [0.6666666666666666, \"#ed7953\"], [0.7777777777777778, \"#fb9f3a\"], [0.8888888888888888, \"#fdca26\"], [1.0, \"#f0f921\"]], \"type\": \"histogram2dcontour\"}], \"mesh3d\": [{\"colorbar\": {\"outlinewidth\": 0, \"ticks\": \"\"}, \"type\": \"mesh3d\"}], \"parcoords\": [{\"line\": {\"colorbar\": {\"outlinewidth\": 0, \"ticks\": \"\"}}, \"type\": \"parcoords\"}], \"pie\": [{\"automargin\": true, \"type\": \"pie\"}], \"scatter\": [{\"marker\": {\"colorbar\": {\"outlinewidth\": 0, \"ticks\": \"\"}}, \"type\": \"scatter\"}], \"scatter3d\": [{\"line\": {\"colorbar\": {\"outlinewidth\": 0, \"ticks\": \"\"}}, \"marker\": {\"colorbar\": {\"outlinewidth\": 0, \"ticks\": \"\"}}, \"type\": \"scatter3d\"}], \"scattercarpet\": [{\"marker\": {\"colorbar\": {\"outlinewidth\": 0, \"ticks\": \"\"}}, \"type\": \"scattercarpet\"}], \"scattergeo\": [{\"marker\": {\"colorbar\": {\"outlinewidth\": 0, \"ticks\": \"\"}}, \"type\": \"scattergeo\"}], \"scattergl\": [{\"marker\": {\"colorbar\": {\"outlinewidth\": 0, \"ticks\": \"\"}}, \"type\": \"scattergl\"}], \"scattermapbox\": [{\"marker\": {\"colorbar\": {\"outlinewidth\": 0, \"ticks\": \"\"}}, \"type\": \"scattermapbox\"}], \"scatterpolar\": [{\"marker\": {\"colorbar\": {\"outlinewidth\": 0, \"ticks\": \"\"}}, \"type\": \"scatterpolar\"}], \"scatterpolargl\": [{\"marker\": {\"colorbar\": {\"outlinewidth\": 0, \"ticks\": \"\"}}, \"type\": \"scatterpolargl\"}], \"scatterternary\": [{\"marker\": {\"colorbar\": {\"outlinewidth\": 0, \"ticks\": \"\"}}, \"type\": \"scatterternary\"}], \"surface\": [{\"colorbar\": {\"outlinewidth\": 0, \"ticks\": \"\"}, \"colorscale\": [[0.0, \"#0d0887\"], [0.1111111111111111, \"#46039f\"], [0.2222222222222222, \"#7201a8\"], [0.3333333333333333, \"#9c179e\"], [0.4444444444444444, \"#bd3786\"], [0.5555555555555556, \"#d8576b\"], [0.6666666666666666, \"#ed7953\"], [0.7777777777777778, \"#fb9f3a\"], [0.8888888888888888, \"#fdca26\"], [1.0, \"#f0f921\"]], \"type\": \"surface\"}], \"table\": [{\"cells\": {\"fill\": {\"color\": \"#EBF0F8\"}, \"line\": {\"color\": \"white\"}}, \"header\": {\"fill\": {\"color\": \"#C8D4E3\"}, \"line\": {\"color\": \"white\"}}, \"type\": \"table\"}]}, \"layout\": {\"annotationdefaults\": {\"arrowcolor\": \"#2a3f5f\", \"arrowhead\": 0, \"arrowwidth\": 1}, \"autotypenumbers\": \"strict\", \"coloraxis\": {\"colorbar\": {\"outlinewidth\": 0, \"ticks\": \"\"}}, \"colorscale\": {\"diverging\": [[0, \"#8e0152\"], [0.1, \"#c51b7d\"], [0.2, \"#de77ae\"], [0.3, \"#f1b6da\"], [0.4, \"#fde0ef\"], [0.5, \"#f7f7f7\"], [0.6, \"#e6f5d0\"], [0.7, \"#b8e186\"], [0.8, \"#7fbc41\"], [0.9, \"#4d9221\"], [1, \"#276419\"]], \"sequential\": [[0.0, \"#0d0887\"], [0.1111111111111111, \"#46039f\"], [0.2222222222222222, \"#7201a8\"], [0.3333333333333333, \"#9c179e\"], [0.4444444444444444, \"#bd3786\"], [0.5555555555555556, \"#d8576b\"], [0.6666666666666666, \"#ed7953\"], [0.7777777777777778, \"#fb9f3a\"], [0.8888888888888888, \"#fdca26\"], [1.0, \"#f0f921\"]], \"sequentialminus\": [[0.0, \"#0d0887\"], [0.1111111111111111, \"#46039f\"], [0.2222222222222222, \"#7201a8\"], [0.3333333333333333, \"#9c179e\"], [0.4444444444444444, \"#bd3786\"], [0.5555555555555556, \"#d8576b\"], [0.6666666666666666, \"#ed7953\"], [0.7777777777777778, \"#fb9f3a\"], [0.8888888888888888, \"#fdca26\"], [1.0, \"#f0f921\"]]}, \"colorway\": [\"#636efa\", \"#EF553B\", \"#00cc96\", \"#ab63fa\", \"#FFA15A\", \"#19d3f3\", \"#FF6692\", \"#B6E880\", \"#FF97FF\", \"#FECB52\"], \"font\": {\"color\": \"#2a3f5f\"}, \"geo\": {\"bgcolor\": \"white\", \"lakecolor\": \"white\", \"landcolor\": \"#E5ECF6\", \"showlakes\": true, \"showland\": true, \"subunitcolor\": \"white\"}, \"hoverlabel\": {\"align\": \"left\"}, \"hovermode\": \"closest\", \"mapbox\": {\"style\": \"light\"}, \"paper_bgcolor\": \"white\", \"plot_bgcolor\": \"#E5ECF6\", \"polar\": {\"angularaxis\": {\"gridcolor\": \"white\", \"linecolor\": \"white\", \"ticks\": \"\"}, \"bgcolor\": \"#E5ECF6\", \"radialaxis\": {\"gridcolor\": \"white\", \"linecolor\": \"white\", \"ticks\": \"\"}}, \"scene\": {\"xaxis\": {\"backgroundcolor\": \"#E5ECF6\", \"gridcolor\": \"white\", \"gridwidth\": 2, \"linecolor\": \"white\", \"showbackground\": true, \"ticks\": \"\", \"zerolinecolor\": \"white\"}, \"yaxis\": {\"backgroundcolor\": \"#E5ECF6\", \"gridcolor\": \"white\", \"gridwidth\": 2, \"linecolor\": \"white\", \"showbackground\": true, \"ticks\": \"\", \"zerolinecolor\": \"white\"}, \"zaxis\": {\"backgroundcolor\": \"#E5ECF6\", \"gridcolor\": \"white\", \"gridwidth\": 2, \"linecolor\": \"white\", \"showbackground\": true, \"ticks\": \"\", \"zerolinecolor\": \"white\"}}, \"shapedefaults\": {\"line\": {\"color\": \"#2a3f5f\"}}, \"ternary\": {\"aaxis\": {\"gridcolor\": \"white\", \"linecolor\": \"white\", \"ticks\": \"\"}, \"baxis\": {\"gridcolor\": \"white\", \"linecolor\": \"white\", \"ticks\": \"\"}, \"bgcolor\": \"#E5ECF6\", \"caxis\": {\"gridcolor\": \"white\", \"linecolor\": \"white\", \"ticks\": \"\"}}, \"title\": {\"x\": 0.05}, \"xaxis\": {\"automargin\": true, \"gridcolor\": \"white\", \"linecolor\": \"white\", \"ticks\": \"\", \"title\": {\"standoff\": 15}, \"zerolinecolor\": \"white\", \"zerolinewidth\": 2}, \"yaxis\": {\"automargin\": true, \"gridcolor\": \"white\", \"linecolor\": \"white\", \"ticks\": \"\", \"title\": {\"standoff\": 15}, \"zerolinecolor\": \"white\", \"zerolinewidth\": 2}}}, \"title\": {\"text\": \"FBProphet vs Buy&Hold\"}, \"xaxis\": {\"anchor\": \"y\", \"domain\": [0.0, 1.0], \"title\": {\"text\": \"ds\"}}, \"yaxis\": {\"anchor\": \"x\", \"domain\": [0.0, 1.0], \"title\": {\"text\": \"Portfolio Balance\"}}},                        {\"responsive\": true}                    ).then(function(){\n",
       "                            \n",
       "var gd = document.getElementById('2039bf6a-1c1c-49d3-b49d-6c084f6f6e02');\n",
       "var x = new MutationObserver(function (mutations, observer) {{\n",
       "        var display = window.getComputedStyle(gd).display;\n",
       "        if (!display || display === 'none') {{\n",
       "            console.log([gd, 'removed!']);\n",
       "            Plotly.purge(gd);\n",
       "            observer.disconnect();\n",
       "        }}\n",
       "}});\n",
       "\n",
       "// Listen for the removal of the full notebook cells\n",
       "var notebookContainer = gd.closest('#notebook-container');\n",
       "if (notebookContainer) {{\n",
       "    x.observe(notebookContainer, {childList: true});\n",
       "}}\n",
       "\n",
       "// Listen for the clearing of the current output cell\n",
       "var outputEl = gd.closest('.output');\n",
       "if (outputEl) {{\n",
       "    x.observe(outputEl, {childList: true});\n",
       "}}\n",
       "\n",
       "                        })                };                });            </script>        </div>"
      ]
     },
     "metadata": {},
     "output_type": "display_data"
    }
   ],
   "source": [
    "# Visualizing results\n",
    "fig = px.line(\n",
    "    performance,\n",
    "    x=performance.index,\n",
    "    y=performance.columns,\n",
    "    title='FBProphet vs Buy&Hold',\n",
    "    labels={\"value\": \"Portfolio Balance\",\n",
    "            \"index\": \"Date\"}\n",
    ")\n",
    "\n",
    "fig.show()"
   ]
  },
  {
   "cell_type": "markdown",
   "metadata": {},
   "source": [
    "# Consolidating Backtest Functions"
   ]
  },
  {
   "cell_type": "code",
   "execution_count": 120,
   "metadata": {},
   "outputs": [],
   "source": [
    "def backtestStock(stock, pred_df, prices, inverse_pos=False):\n",
    "    \n",
    "    # Adding sentiment positions to the forecast DF\n",
    "    positions = pred_df\n",
    "\n",
    "    # Getting forecast prophet positions (inversing if needed)\n",
    "    if inverse_pos:\n",
    "        \n",
    "        positions['fbp_positions'] = positions.apply(\n",
    "            lambda x: -(fbpPositions(x, short=True)), \n",
    "            axis=1\n",
    "        )\n",
    "        \n",
    "    else:\n",
    "        positions['fbp_positions'] = positions.apply(\n",
    "            lambda x: fbpPositions(x, short=True), \n",
    "            axis=1\n",
    "        )\n",
    "\n",
    "    # Buy and hold position\n",
    "    positions['buy_hold'] = 1\n",
    "    \n",
    "    # Getting daily returns\n",
    "    log_returns = prices[['ds', 'Close']].set_index(\n",
    "        'ds'\n",
    "    ).loc[positions.index].apply(np.log).diff()\n",
    "    \n",
    "    # The positions to backtest (shifted ahead by 1 to prevent lookahead bias)\n",
    "    bt_positions = positions[[\n",
    "        'buy_hold', \n",
    "        'fbp_positions'\n",
    "    ]].shift(1)\n",
    "\n",
    "    # The returns during the backtest\n",
    "    returns = bt_positions.multiply(\n",
    "        log_returns['Close'], \n",
    "        axis=0\n",
    "    )\n",
    "\n",
    "    # Inversing the log returns to get daily portfolio balance\n",
    "    performance = returns.cumsum().apply(\n",
    "        np.exp\n",
    "    ).dropna().fillna(\n",
    "        method='ffill'\n",
    "    )\n",
    "    \n",
    "    # Performing risk analysis\n",
    "    risk = riskAnalysis(performance)\n",
    "    \n",
    "    # Retrying the backtest but with inversed prophet positions\n",
    "    if risk['result']==False and inverse_pos==False:\n",
    "        \n",
    "        print(\"retrying backtest with inversed positions\")\n",
    "        \n",
    "        return backtestStock(\n",
    "            stock, \n",
    "            pred_df,\n",
    "            prices,\n",
    "            inverse_pos=True\n",
    "        )\n",
    "        \n",
    "    # Printing risk analysis\n",
    "    print(risk)\n",
    "    \n",
    "    # Visualizing results\n",
    "    fig = px.line(\n",
    "        performance,\n",
    "        x=performance.index,\n",
    "        y=performance.columns,\n",
    "        title=f'FBProphet vs Buy&Hold for {stock}',\n",
    "        labels={\"value\": \"Portfolio Balance\",\n",
    "                \"index\": \"Date\"}\n",
    "    )\n",
    "\n",
    "    fig.show()\n",
    "    \n",
    "    if inverse_pos:\n",
    "        \n",
    "        return {\n",
    "            \"backtestResult\": risk['result'],\n",
    "            \"inversePosition\": -1\n",
    "        }\n",
    "    \n",
    "    else:\n",
    "        \n",
    "        return {\n",
    "            \"backtestResult\": risk['result'],\n",
    "            \"inversePosition\": 1\n",
    "        }"
   ]
  },
  {
   "cell_type": "markdown",
   "metadata": {},
   "source": [
    "# Getting Stock and Backtest"
   ]
  },
  {
   "cell_type": "code",
   "execution_count": 123,
   "metadata": {},
   "outputs": [],
   "source": [
    "def getStockAndBacktest(stock, n_days, training_days, mov_avg, forecast_period):\n",
    "    \n",
    "    # Printing the stock\n",
    "    print(f\"Backtesting {stock}. . .\")\n",
    "\n",
    "    # Retrieving prices with the given parameters\n",
    "    prices = getStockPrices(\n",
    "        stock, \n",
    "        n_days=n_days,\n",
    "        training_days=training_days, \n",
    "        mov_avg=mov_avg\n",
    "    )\n",
    "    \n",
    "    if prices.empty:\n",
    "        print(f\"Not enough price history for {stock}; skipping backtest...\")\n",
    "        return\n",
    "    \n",
    "    # Running Facebook Prophet with the set parameters\n",
    "    pred_df = runningFBP(\n",
    "        prices, \n",
    "        forecast_period=forecast_period, \n",
    "        training_days=training_days\n",
    "    )\n",
    "        \n",
    "    # Running backtest\n",
    "    backtest = backtestStock(stock, pred_df, prices, inverse_pos=False)\n",
    "    \n",
    "    if backtest['backtestResult']:\n",
    "        print(f\"{stock} backtest results were positive!\")\n",
    "        \n",
    "        # Run Prophet for current prediction\n",
    "        preds = fbpTrainPredict(\n",
    "            prices.tail(training_days), \n",
    "            forecast_period\n",
    "        ).tail(1)\n",
    "        \n",
    "        preds['Open'] = prices.tail(1)['Open'].values\n",
    "                \n",
    "        # Getting forecast prophet positions\n",
    "        trade_decision = fbpPositions(preds.to_dict('records')[0], short=True) * backtest['inversePosition']\n",
    "        \n",
    "        trade_dict = {\n",
    "            1 : f\"Buy {stock}\",\n",
    "            0 : f\"Exit {stock}/Do nothing\",\n",
    "            -1: f\"Short {stock}\"\n",
    "        }\n",
    "        \n",
    "        print(trade_dict[trade_decision])\n",
    "                \n",
    "        return trade_dict[trade_decision]\n",
    "        \n",
    "    else:\n",
    "        print(f\"Negative backtest results for {stock}.\")\n",
    "        return \n",
    "    "
   ]
  },
  {
   "cell_type": "code",
   "execution_count": 124,
   "metadata": {},
   "outputs": [
    {
     "name": "stderr",
     "output_type": "stream",
     "text": [
      "  0%|          | 0/52 [00:00<?, ?it/s]"
     ]
    },
    {
     "name": "stdout",
     "output_type": "stream",
     "text": [
      "Backtesting FB. . .\n"
     ]
    },
    {
     "name": "stderr",
     "output_type": "stream",
     "text": [
      "100%|██████████| 52/52 [00:24<00:00,  2.10it/s]\n"
     ]
    },
    {
     "data": {
      "application/vnd.plotly.v1+json": {
       "config": {
        "plotlyServerURL": "https://plot.ly"
       },
       "data": [
        {
         "hovertemplate": "variable=buy_hold<br>ds=%{x}<br>Portfolio Balance=%{y}<extra></extra>",
         "legendgroup": "buy_hold",
         "line": {
          "color": "#636efa",
          "dash": "solid"
         },
         "mode": "lines",
         "name": "buy_hold",
         "orientation": "v",
         "showlegend": true,
         "type": "scatter",
         "x": [
          "2022-01-05",
          "2022-01-06",
          "2022-01-07",
          "2022-01-10",
          "2022-01-11",
          "2022-01-12",
          "2022-01-13",
          "2022-01-14",
          "2022-01-18",
          "2022-01-19",
          "2022-01-21",
          "2022-01-24",
          "2022-01-25",
          "2022-01-26",
          "2022-01-27",
          "2022-01-28",
          "2022-01-31",
          "2022-02-01",
          "2022-02-02",
          "2022-02-03",
          "2022-02-04",
          "2022-02-07",
          "2022-02-08",
          "2022-02-09",
          "2022-02-10",
          "2022-02-11",
          "2022-02-14",
          "2022-02-15",
          "2022-02-16",
          "2022-02-17",
          "2022-02-18",
          "2022-02-22",
          "2022-02-23",
          "2022-02-25",
          "2022-02-28",
          "2022-03-01",
          "2022-03-02",
          "2022-03-03",
          "2022-03-04",
          "2022-03-07",
          "2022-03-08",
          "2022-03-09",
          "2022-03-10",
          "2022-03-11",
          "2022-03-14",
          "2022-03-15"
         ],
         "xaxis": "x",
         "y": [
          0.9632722628104592,
          0.9879059598283005,
          0.9859151034036535,
          0.974861107521572,
          0.993581542002364,
          0.9902832168735821,
          0.9701364281656216,
          0.9862419252381449,
          0.9453837549416608,
          0.9496627269400852,
          0.9008706936303743,
          0.9173327565889189,
          0.8918966956444457,
          0.8754940301058767,
          0.8755237741574061,
          0.8965322335288909,
          0.9308531509877882,
          0.9479095508784238,
          0.9597955640555829,
          0.7065046069273714,
          0.704513705161182,
          0.6683208168006736,
          0.6542655735727727,
          0.6893887642752174,
          0.6777107780925992,
          0.6523935573296185,
          0.6468962580985662,
          0.6567022280380302,
          0.6434493033952199,
          0.6172109692071982,
          0.612605130032741,
          0.600481391151054,
          0.5896948196834885,
          0.6254420006864709,
          0.6270763365666385,
          0.6046712216779724,
          0.6183995523882972,
          0.6031260272693099,
          0.594478941800957,
          0.5570677262078192,
          0.5654473419201145,
          0.5898434039165117,
          0.5800671780285768,
          0.5574837348553578,
          0.5545716743225859,
          0.5706177739751337
         ],
         "yaxis": "y"
        },
        {
         "hovertemplate": "variable=fbp_positions<br>ds=%{x}<br>Portfolio Balance=%{y}<extra></extra>",
         "legendgroup": "fbp_positions",
         "line": {
          "color": "#EF553B",
          "dash": "solid"
         },
         "mode": "lines",
         "name": "fbp_positions",
         "orientation": "v",
         "showlegend": true,
         "type": "scatter",
         "x": [
          "2022-01-05",
          "2022-01-06",
          "2022-01-07",
          "2022-01-10",
          "2022-01-11",
          "2022-01-12",
          "2022-01-13",
          "2022-01-14",
          "2022-01-18",
          "2022-01-19",
          "2022-01-21",
          "2022-01-24",
          "2022-01-25",
          "2022-01-26",
          "2022-01-27",
          "2022-01-28",
          "2022-01-31",
          "2022-02-01",
          "2022-02-02",
          "2022-02-03",
          "2022-02-04",
          "2022-02-07",
          "2022-02-08",
          "2022-02-09",
          "2022-02-10",
          "2022-02-11",
          "2022-02-14",
          "2022-02-15",
          "2022-02-16",
          "2022-02-17",
          "2022-02-18",
          "2022-02-22",
          "2022-02-23",
          "2022-02-25",
          "2022-02-28",
          "2022-03-01",
          "2022-03-02",
          "2022-03-03",
          "2022-03-04",
          "2022-03-07",
          "2022-03-08",
          "2022-03-09",
          "2022-03-10",
          "2022-03-11",
          "2022-03-14",
          "2022-03-15"
         ],
         "xaxis": "x",
         "y": [
          1,
          1.0255729329794774,
          1.0235061689901994,
          1.0235061689901994,
          1.0235061689901994,
          1.0201085051106547,
          1.0201085051106547,
          1.0201085051106547,
          0.977847305342009,
          0.9734413398138313,
          1.026163869931715,
          1.0077487701641943,
          1.0364888240962171,
          1.0559077794876766,
          1.0558719072745735,
          1.0311296378548145,
          0.9931114873520376,
          0.9931114873520376,
          1.005564295970872,
          0.7401949272021825,
          0.7381090874589709,
          0.7001903080163943,
          0.7152321281617646,
          0.6787922618109516,
          0.6904888836008642,
          0.7172844570765766,
          0.7233799124837896,
          0.7125783019915874,
          0.7272550550606567,
          0.7272550550606567,
          0.721828029311709,
          0.707542718732625,
          0.707542718732625,
          0.707542718732625,
          0.707542718732625,
          0.707542718732625,
          0.707542718732625,
          0.707542718732625,
          0.707542718732625,
          0.707542718732625,
          0.697057328416917,
          0.6682268732720645,
          0.6794889082654912,
          0.7070147322263063,
          0.710727272540089,
          0.6907412132880008
         ],
         "yaxis": "y"
        }
       ],
       "layout": {
        "autosize": true,
        "legend": {
         "title": {
          "text": "variable"
         },
         "tracegroupgap": 0
        },
        "template": {
         "data": {
          "bar": [
           {
            "error_x": {
             "color": "#2a3f5f"
            },
            "error_y": {
             "color": "#2a3f5f"
            },
            "marker": {
             "line": {
              "color": "#E5ECF6",
              "width": 0.5
             }
            },
            "type": "bar"
           }
          ],
          "barpolar": [
           {
            "marker": {
             "line": {
              "color": "#E5ECF6",
              "width": 0.5
             }
            },
            "type": "barpolar"
           }
          ],
          "carpet": [
           {
            "aaxis": {
             "endlinecolor": "#2a3f5f",
             "gridcolor": "white",
             "linecolor": "white",
             "minorgridcolor": "white",
             "startlinecolor": "#2a3f5f"
            },
            "baxis": {
             "endlinecolor": "#2a3f5f",
             "gridcolor": "white",
             "linecolor": "white",
             "minorgridcolor": "white",
             "startlinecolor": "#2a3f5f"
            },
            "type": "carpet"
           }
          ],
          "choropleth": [
           {
            "colorbar": {
             "outlinewidth": 0,
             "ticks": ""
            },
            "type": "choropleth"
           }
          ],
          "contour": [
           {
            "colorbar": {
             "outlinewidth": 0,
             "ticks": ""
            },
            "colorscale": [
             [
              0,
              "#0d0887"
             ],
             [
              0.1111111111111111,
              "#46039f"
             ],
             [
              0.2222222222222222,
              "#7201a8"
             ],
             [
              0.3333333333333333,
              "#9c179e"
             ],
             [
              0.4444444444444444,
              "#bd3786"
             ],
             [
              0.5555555555555556,
              "#d8576b"
             ],
             [
              0.6666666666666666,
              "#ed7953"
             ],
             [
              0.7777777777777778,
              "#fb9f3a"
             ],
             [
              0.8888888888888888,
              "#fdca26"
             ],
             [
              1,
              "#f0f921"
             ]
            ],
            "type": "contour"
           }
          ],
          "contourcarpet": [
           {
            "colorbar": {
             "outlinewidth": 0,
             "ticks": ""
            },
            "type": "contourcarpet"
           }
          ],
          "heatmap": [
           {
            "colorbar": {
             "outlinewidth": 0,
             "ticks": ""
            },
            "colorscale": [
             [
              0,
              "#0d0887"
             ],
             [
              0.1111111111111111,
              "#46039f"
             ],
             [
              0.2222222222222222,
              "#7201a8"
             ],
             [
              0.3333333333333333,
              "#9c179e"
             ],
             [
              0.4444444444444444,
              "#bd3786"
             ],
             [
              0.5555555555555556,
              "#d8576b"
             ],
             [
              0.6666666666666666,
              "#ed7953"
             ],
             [
              0.7777777777777778,
              "#fb9f3a"
             ],
             [
              0.8888888888888888,
              "#fdca26"
             ],
             [
              1,
              "#f0f921"
             ]
            ],
            "type": "heatmap"
           }
          ],
          "heatmapgl": [
           {
            "colorbar": {
             "outlinewidth": 0,
             "ticks": ""
            },
            "colorscale": [
             [
              0,
              "#0d0887"
             ],
             [
              0.1111111111111111,
              "#46039f"
             ],
             [
              0.2222222222222222,
              "#7201a8"
             ],
             [
              0.3333333333333333,
              "#9c179e"
             ],
             [
              0.4444444444444444,
              "#bd3786"
             ],
             [
              0.5555555555555556,
              "#d8576b"
             ],
             [
              0.6666666666666666,
              "#ed7953"
             ],
             [
              0.7777777777777778,
              "#fb9f3a"
             ],
             [
              0.8888888888888888,
              "#fdca26"
             ],
             [
              1,
              "#f0f921"
             ]
            ],
            "type": "heatmapgl"
           }
          ],
          "histogram": [
           {
            "marker": {
             "colorbar": {
              "outlinewidth": 0,
              "ticks": ""
             }
            },
            "type": "histogram"
           }
          ],
          "histogram2d": [
           {
            "colorbar": {
             "outlinewidth": 0,
             "ticks": ""
            },
            "colorscale": [
             [
              0,
              "#0d0887"
             ],
             [
              0.1111111111111111,
              "#46039f"
             ],
             [
              0.2222222222222222,
              "#7201a8"
             ],
             [
              0.3333333333333333,
              "#9c179e"
             ],
             [
              0.4444444444444444,
              "#bd3786"
             ],
             [
              0.5555555555555556,
              "#d8576b"
             ],
             [
              0.6666666666666666,
              "#ed7953"
             ],
             [
              0.7777777777777778,
              "#fb9f3a"
             ],
             [
              0.8888888888888888,
              "#fdca26"
             ],
             [
              1,
              "#f0f921"
             ]
            ],
            "type": "histogram2d"
           }
          ],
          "histogram2dcontour": [
           {
            "colorbar": {
             "outlinewidth": 0,
             "ticks": ""
            },
            "colorscale": [
             [
              0,
              "#0d0887"
             ],
             [
              0.1111111111111111,
              "#46039f"
             ],
             [
              0.2222222222222222,
              "#7201a8"
             ],
             [
              0.3333333333333333,
              "#9c179e"
             ],
             [
              0.4444444444444444,
              "#bd3786"
             ],
             [
              0.5555555555555556,
              "#d8576b"
             ],
             [
              0.6666666666666666,
              "#ed7953"
             ],
             [
              0.7777777777777778,
              "#fb9f3a"
             ],
             [
              0.8888888888888888,
              "#fdca26"
             ],
             [
              1,
              "#f0f921"
             ]
            ],
            "type": "histogram2dcontour"
           }
          ],
          "mesh3d": [
           {
            "colorbar": {
             "outlinewidth": 0,
             "ticks": ""
            },
            "type": "mesh3d"
           }
          ],
          "parcoords": [
           {
            "line": {
             "colorbar": {
              "outlinewidth": 0,
              "ticks": ""
             }
            },
            "type": "parcoords"
           }
          ],
          "pie": [
           {
            "automargin": true,
            "type": "pie"
           }
          ],
          "scatter": [
           {
            "marker": {
             "colorbar": {
              "outlinewidth": 0,
              "ticks": ""
             }
            },
            "type": "scatter"
           }
          ],
          "scatter3d": [
           {
            "line": {
             "colorbar": {
              "outlinewidth": 0,
              "ticks": ""
             }
            },
            "marker": {
             "colorbar": {
              "outlinewidth": 0,
              "ticks": ""
             }
            },
            "type": "scatter3d"
           }
          ],
          "scattercarpet": [
           {
            "marker": {
             "colorbar": {
              "outlinewidth": 0,
              "ticks": ""
             }
            },
            "type": "scattercarpet"
           }
          ],
          "scattergeo": [
           {
            "marker": {
             "colorbar": {
              "outlinewidth": 0,
              "ticks": ""
             }
            },
            "type": "scattergeo"
           }
          ],
          "scattergl": [
           {
            "marker": {
             "colorbar": {
              "outlinewidth": 0,
              "ticks": ""
             }
            },
            "type": "scattergl"
           }
          ],
          "scattermapbox": [
           {
            "marker": {
             "colorbar": {
              "outlinewidth": 0,
              "ticks": ""
             }
            },
            "type": "scattermapbox"
           }
          ],
          "scatterpolar": [
           {
            "marker": {
             "colorbar": {
              "outlinewidth": 0,
              "ticks": ""
             }
            },
            "type": "scatterpolar"
           }
          ],
          "scatterpolargl": [
           {
            "marker": {
             "colorbar": {
              "outlinewidth": 0,
              "ticks": ""
             }
            },
            "type": "scatterpolargl"
           }
          ],
          "scatterternary": [
           {
            "marker": {
             "colorbar": {
              "outlinewidth": 0,
              "ticks": ""
             }
            },
            "type": "scatterternary"
           }
          ],
          "surface": [
           {
            "colorbar": {
             "outlinewidth": 0,
             "ticks": ""
            },
            "colorscale": [
             [
              0,
              "#0d0887"
             ],
             [
              0.1111111111111111,
              "#46039f"
             ],
             [
              0.2222222222222222,
              "#7201a8"
             ],
             [
              0.3333333333333333,
              "#9c179e"
             ],
             [
              0.4444444444444444,
              "#bd3786"
             ],
             [
              0.5555555555555556,
              "#d8576b"
             ],
             [
              0.6666666666666666,
              "#ed7953"
             ],
             [
              0.7777777777777778,
              "#fb9f3a"
             ],
             [
              0.8888888888888888,
              "#fdca26"
             ],
             [
              1,
              "#f0f921"
             ]
            ],
            "type": "surface"
           }
          ],
          "table": [
           {
            "cells": {
             "fill": {
              "color": "#EBF0F8"
             },
             "line": {
              "color": "white"
             }
            },
            "header": {
             "fill": {
              "color": "#C8D4E3"
             },
             "line": {
              "color": "white"
             }
            },
            "type": "table"
           }
          ]
         },
         "layout": {
          "annotationdefaults": {
           "arrowcolor": "#2a3f5f",
           "arrowhead": 0,
           "arrowwidth": 1
          },
          "autotypenumbers": "strict",
          "coloraxis": {
           "colorbar": {
            "outlinewidth": 0,
            "ticks": ""
           }
          },
          "colorscale": {
           "diverging": [
            [
             0,
             "#8e0152"
            ],
            [
             0.1,
             "#c51b7d"
            ],
            [
             0.2,
             "#de77ae"
            ],
            [
             0.3,
             "#f1b6da"
            ],
            [
             0.4,
             "#fde0ef"
            ],
            [
             0.5,
             "#f7f7f7"
            ],
            [
             0.6,
             "#e6f5d0"
            ],
            [
             0.7,
             "#b8e186"
            ],
            [
             0.8,
             "#7fbc41"
            ],
            [
             0.9,
             "#4d9221"
            ],
            [
             1,
             "#276419"
            ]
           ],
           "sequential": [
            [
             0,
             "#0d0887"
            ],
            [
             0.1111111111111111,
             "#46039f"
            ],
            [
             0.2222222222222222,
             "#7201a8"
            ],
            [
             0.3333333333333333,
             "#9c179e"
            ],
            [
             0.4444444444444444,
             "#bd3786"
            ],
            [
             0.5555555555555556,
             "#d8576b"
            ],
            [
             0.6666666666666666,
             "#ed7953"
            ],
            [
             0.7777777777777778,
             "#fb9f3a"
            ],
            [
             0.8888888888888888,
             "#fdca26"
            ],
            [
             1,
             "#f0f921"
            ]
           ],
           "sequentialminus": [
            [
             0,
             "#0d0887"
            ],
            [
             0.1111111111111111,
             "#46039f"
            ],
            [
             0.2222222222222222,
             "#7201a8"
            ],
            [
             0.3333333333333333,
             "#9c179e"
            ],
            [
             0.4444444444444444,
             "#bd3786"
            ],
            [
             0.5555555555555556,
             "#d8576b"
            ],
            [
             0.6666666666666666,
             "#ed7953"
            ],
            [
             0.7777777777777778,
             "#fb9f3a"
            ],
            [
             0.8888888888888888,
             "#fdca26"
            ],
            [
             1,
             "#f0f921"
            ]
           ]
          },
          "colorway": [
           "#636efa",
           "#EF553B",
           "#00cc96",
           "#ab63fa",
           "#FFA15A",
           "#19d3f3",
           "#FF6692",
           "#B6E880",
           "#FF97FF",
           "#FECB52"
          ],
          "font": {
           "color": "#2a3f5f"
          },
          "geo": {
           "bgcolor": "white",
           "lakecolor": "white",
           "landcolor": "#E5ECF6",
           "showlakes": true,
           "showland": true,
           "subunitcolor": "white"
          },
          "hoverlabel": {
           "align": "left"
          },
          "hovermode": "closest",
          "mapbox": {
           "style": "light"
          },
          "paper_bgcolor": "white",
          "plot_bgcolor": "#E5ECF6",
          "polar": {
           "angularaxis": {
            "gridcolor": "white",
            "linecolor": "white",
            "ticks": ""
           },
           "bgcolor": "#E5ECF6",
           "radialaxis": {
            "gridcolor": "white",
            "linecolor": "white",
            "ticks": ""
           }
          },
          "scene": {
           "xaxis": {
            "backgroundcolor": "#E5ECF6",
            "gridcolor": "white",
            "gridwidth": 2,
            "linecolor": "white",
            "showbackground": true,
            "ticks": "",
            "zerolinecolor": "white"
           },
           "yaxis": {
            "backgroundcolor": "#E5ECF6",
            "gridcolor": "white",
            "gridwidth": 2,
            "linecolor": "white",
            "showbackground": true,
            "ticks": "",
            "zerolinecolor": "white"
           },
           "zaxis": {
            "backgroundcolor": "#E5ECF6",
            "gridcolor": "white",
            "gridwidth": 2,
            "linecolor": "white",
            "showbackground": true,
            "ticks": "",
            "zerolinecolor": "white"
           }
          },
          "shapedefaults": {
           "line": {
            "color": "#2a3f5f"
           }
          },
          "ternary": {
           "aaxis": {
            "gridcolor": "white",
            "linecolor": "white",
            "ticks": ""
           },
           "baxis": {
            "gridcolor": "white",
            "linecolor": "white",
            "ticks": ""
           },
           "bgcolor": "#E5ECF6",
           "caxis": {
            "gridcolor": "white",
            "linecolor": "white",
            "ticks": ""
           }
          },
          "title": {
           "x": 0.05
          },
          "xaxis": {
           "automargin": true,
           "gridcolor": "white",
           "linecolor": "white",
           "ticks": "",
           "title": {
            "standoff": 15
           },
           "zerolinecolor": "white",
           "zerolinewidth": 2
          },
          "yaxis": {
           "automargin": true,
           "gridcolor": "white",
           "linecolor": "white",
           "ticks": "",
           "title": {
            "standoff": 15
           },
           "zerolinecolor": "white",
           "zerolinewidth": 2
          }
         }
        },
        "title": {
         "text": "FBProphet vs Buy&Hold for FB"
        },
        "xaxis": {
         "anchor": "y",
         "autorange": true,
         "domain": [
          0,
          1
         ],
         "range": [
          "2022-01-05",
          "2022-03-15"
         ],
         "title": {
          "text": "ds"
         },
         "type": "date"
        },
        "yaxis": {
         "anchor": "x",
         "autorange": true,
         "domain": [
          0,
          1
         ],
         "range": [
          0.5267196684800809,
          1.0837597853301817
         ],
         "title": {
          "text": "Portfolio Balance"
         },
         "type": "linear"
        }
       }
      },
      "image/png": "[encoded data removed]",
      "text/html": [
       "<div>                            <div id=\"0ae7b882-e825-4f48-8240-2e990d28d5ad\" class=\"plotly-graph-div\" style=\"height:525px; width:100%;\"></div>            <script type=\"text/javascript\">                require([\"plotly\"], function(Plotly) {                    window.PLOTLYENV=window.PLOTLYENV || {};                                    if (document.getElementById(\"0ae7b882-e825-4f48-8240-2e990d28d5ad\")) {                    Plotly.newPlot(                        \"0ae7b882-e825-4f48-8240-2e990d28d5ad\",                        [{\"hovertemplate\": \"variable=buy_hold<br>ds=%{x}<br>Portfolio Balance=%{y}<extra></extra>\", \"legendgroup\": \"buy_hold\", \"line\": {\"color\": \"#636efa\", \"dash\": \"solid\"}, \"mode\": \"lines\", \"name\": \"buy_hold\", \"orientation\": \"v\", \"showlegend\": true, \"type\": \"scatter\", \"x\": [\"2022-01-05\", \"2022-01-06\", \"2022-01-07\", \"2022-01-10\", \"2022-01-11\", \"2022-01-12\", \"2022-01-13\", \"2022-01-14\", \"2022-01-18\", \"2022-01-19\", \"2022-01-21\", \"2022-01-24\", \"2022-01-25\", \"2022-01-26\", \"2022-01-27\", \"2022-01-28\", \"2022-01-31\", \"2022-02-01\", \"2022-02-02\", \"2022-02-03\", \"2022-02-04\", \"2022-02-07\", \"2022-02-08\", \"2022-02-09\", \"2022-02-10\", \"2022-02-11\", \"2022-02-14\", \"2022-02-15\", \"2022-02-16\", \"2022-02-17\", \"2022-02-18\", \"2022-02-22\", \"2022-02-23\", \"2022-02-25\", \"2022-02-28\", \"2022-03-01\", \"2022-03-02\", \"2022-03-03\", \"2022-03-04\", \"2022-03-07\", \"2022-03-08\", \"2022-03-09\", \"2022-03-10\", \"2022-03-11\", \"2022-03-14\", \"2022-03-15\"], \"xaxis\": \"x\", \"y\": [0.9632722628104592, 0.9879059598283005, 0.9859151034036535, 0.974861107521572, 0.993581542002364, 0.9902832168735821, 0.9701364281656216, 0.9862419252381449, 0.9453837549416608, 0.9496627269400852, 0.9008706936303743, 0.9173327565889189, 0.8918966956444457, 0.8754940301058767, 0.8755237741574061, 0.8965322335288909, 0.9308531509877882, 0.9479095508784238, 0.9597955640555829, 0.7065046069273714, 0.704513705161182, 0.6683208168006736, 0.6542655735727727, 0.6893887642752174, 0.6777107780925992, 0.6523935573296185, 0.6468962580985662, 0.6567022280380302, 0.6434493033952199, 0.6172109692071982, 0.612605130032741, 0.600481391151054, 0.5896948196834885, 0.6254420006864709, 0.6270763365666385, 0.6046712216779724, 0.6183995523882972, 0.6031260272693099, 0.594478941800957, 0.5570677262078192, 0.5654473419201145, 0.5898434039165117, 0.5800671780285768, 0.5574837348553578, 0.5545716743225859, 0.5706177739751337], \"yaxis\": \"y\"}, {\"hovertemplate\": \"variable=fbp_positions<br>ds=%{x}<br>Portfolio Balance=%{y}<extra></extra>\", \"legendgroup\": \"fbp_positions\", \"line\": {\"color\": \"#EF553B\", \"dash\": \"solid\"}, \"mode\": \"lines\", \"name\": \"fbp_positions\", \"orientation\": \"v\", \"showlegend\": true, \"type\": \"scatter\", \"x\": [\"2022-01-05\", \"2022-01-06\", \"2022-01-07\", \"2022-01-10\", \"2022-01-11\", \"2022-01-12\", \"2022-01-13\", \"2022-01-14\", \"2022-01-18\", \"2022-01-19\", \"2022-01-21\", \"2022-01-24\", \"2022-01-25\", \"2022-01-26\", \"2022-01-27\", \"2022-01-28\", \"2022-01-31\", \"2022-02-01\", \"2022-02-02\", \"2022-02-03\", \"2022-02-04\", \"2022-02-07\", \"2022-02-08\", \"2022-02-09\", \"2022-02-10\", \"2022-02-11\", \"2022-02-14\", \"2022-02-15\", \"2022-02-16\", \"2022-02-17\", \"2022-02-18\", \"2022-02-22\", \"2022-02-23\", \"2022-02-25\", \"2022-02-28\", \"2022-03-01\", \"2022-03-02\", \"2022-03-03\", \"2022-03-04\", \"2022-03-07\", \"2022-03-08\", \"2022-03-09\", \"2022-03-10\", \"2022-03-11\", \"2022-03-14\", \"2022-03-15\"], \"xaxis\": \"x\", \"y\": [1.0, 1.0255729329794774, 1.0235061689901994, 1.0235061689901994, 1.0235061689901994, 1.0201085051106547, 1.0201085051106547, 1.0201085051106547, 0.977847305342009, 0.9734413398138313, 1.026163869931715, 1.0077487701641943, 1.0364888240962171, 1.0559077794876766, 1.0558719072745735, 1.0311296378548145, 0.9931114873520376, 0.9931114873520376, 1.005564295970872, 0.7401949272021825, 0.7381090874589709, 0.7001903080163943, 0.7152321281617646, 0.6787922618109516, 0.6904888836008642, 0.7172844570765766, 0.7233799124837896, 0.7125783019915874, 0.7272550550606567, 0.7272550550606567, 0.721828029311709, 0.707542718732625, 0.707542718732625, 0.707542718732625, 0.707542718732625, 0.707542718732625, 0.707542718732625, 0.707542718732625, 0.707542718732625, 0.707542718732625, 0.697057328416917, 0.6682268732720645, 0.6794889082654912, 0.7070147322263063, 0.710727272540089, 0.6907412132880008], \"yaxis\": \"y\"}],                        {\"legend\": {\"title\": {\"text\": \"variable\"}, \"tracegroupgap\": 0}, \"template\": {\"data\": {\"bar\": [{\"error_x\": {\"color\": \"#2a3f5f\"}, \"error_y\": {\"color\": \"#2a3f5f\"}, \"marker\": {\"line\": {\"color\": \"#E5ECF6\", \"width\": 0.5}}, \"type\": \"bar\"}], \"barpolar\": [{\"marker\": {\"line\": {\"color\": \"#E5ECF6\", \"width\": 0.5}}, \"type\": \"barpolar\"}], \"carpet\": [{\"aaxis\": {\"endlinecolor\": \"#2a3f5f\", \"gridcolor\": \"white\", \"linecolor\": \"white\", \"minorgridcolor\": \"white\", \"startlinecolor\": \"#2a3f5f\"}, \"baxis\": {\"endlinecolor\": \"#2a3f5f\", \"gridcolor\": \"white\", \"linecolor\": \"white\", \"minorgridcolor\": \"white\", \"startlinecolor\": \"#2a3f5f\"}, \"type\": \"carpet\"}], \"choropleth\": [{\"colorbar\": {\"outlinewidth\": 0, \"ticks\": \"\"}, \"type\": \"choropleth\"}], \"contour\": [{\"colorbar\": {\"outlinewidth\": 0, \"ticks\": \"\"}, \"colorscale\": [[0.0, \"#0d0887\"], [0.1111111111111111, \"#46039f\"], [0.2222222222222222, \"#7201a8\"], [0.3333333333333333, \"#9c179e\"], [0.4444444444444444, \"#bd3786\"], [0.5555555555555556, \"#d8576b\"], [0.6666666666666666, \"#ed7953\"], [0.7777777777777778, \"#fb9f3a\"], [0.8888888888888888, \"#fdca26\"], [1.0, \"#f0f921\"]], \"type\": \"contour\"}], \"contourcarpet\": [{\"colorbar\": {\"outlinewidth\": 0, \"ticks\": \"\"}, \"type\": \"contourcarpet\"}], \"heatmap\": [{\"colorbar\": {\"outlinewidth\": 0, \"ticks\": \"\"}, \"colorscale\": [[0.0, \"#0d0887\"], [0.1111111111111111, \"#46039f\"], [0.2222222222222222, \"#7201a8\"], [0.3333333333333333, \"#9c179e\"], [0.4444444444444444, \"#bd3786\"], [0.5555555555555556, \"#d8576b\"], [0.6666666666666666, \"#ed7953\"], [0.7777777777777778, \"#fb9f3a\"], [0.8888888888888888, \"#fdca26\"], [1.0, \"#f0f921\"]], \"type\": \"heatmap\"}], \"heatmapgl\": [{\"colorbar\": {\"outlinewidth\": 0, \"ticks\": \"\"}, \"colorscale\": [[0.0, \"#0d0887\"], [0.1111111111111111, \"#46039f\"], [0.2222222222222222, \"#7201a8\"], [0.3333333333333333, \"#9c179e\"], [0.4444444444444444, \"#bd3786\"], [0.5555555555555556, \"#d8576b\"], [0.6666666666666666, \"#ed7953\"], [0.7777777777777778, \"#fb9f3a\"], [0.8888888888888888, \"#fdca26\"], [1.0, \"#f0f921\"]], \"type\": \"heatmapgl\"}], \"histogram\": [{\"marker\": {\"colorbar\": {\"outlinewidth\": 0, \"ticks\": \"\"}}, \"type\": \"histogram\"}], \"histogram2d\": [{\"colorbar\": {\"outlinewidth\": 0, \"ticks\": \"\"}, \"colorscale\": [[0.0, \"#0d0887\"], [0.1111111111111111, \"#46039f\"], [0.2222222222222222, \"#7201a8\"], [0.3333333333333333, \"#9c179e\"], [0.4444444444444444, \"#bd3786\"], [0.5555555555555556, \"#d8576b\"], [0.6666666666666666, \"#ed7953\"], [0.7777777777777778, \"#fb9f3a\"], [0.8888888888888888, \"#fdca26\"], [1.0, \"#f0f921\"]], \"type\": \"histogram2d\"}], \"histogram2dcontour\": [{\"colorbar\": {\"outlinewidth\": 0, \"ticks\": \"\"}, \"colorscale\": [[0.0, \"#0d0887\"], [0.1111111111111111, \"#46039f\"], [0.2222222222222222, \"#7201a8\"], [0.3333333333333333, \"#9c179e\"], [0.4444444444444444, \"#bd3786\"], [0.5555555555555556, \"#d8576b\"], [0.6666666666666666, \"#ed7953\"], [0.7777777777777778, \"#fb9f3a\"], [0.8888888888888888, \"#fdca26\"], [1.0, \"#f0f921\"]], \"type\": \"histogram2dcontour\"}], \"mesh3d\": [{\"colorbar\": {\"outlinewidth\": 0, \"ticks\": \"\"}, \"type\": \"mesh3d\"}], \"parcoords\": [{\"line\": {\"colorbar\": {\"outlinewidth\": 0, \"ticks\": \"\"}}, \"type\": \"parcoords\"}], \"pie\": [{\"automargin\": true, \"type\": \"pie\"}], \"scatter\": [{\"marker\": {\"colorbar\": {\"outlinewidth\": 0, \"ticks\": \"\"}}, \"type\": \"scatter\"}], \"scatter3d\": [{\"line\": {\"colorbar\": {\"outlinewidth\": 0, \"ticks\": \"\"}}, \"marker\": {\"colorbar\": {\"outlinewidth\": 0, \"ticks\": \"\"}}, \"type\": \"scatter3d\"}], \"scattercarpet\": [{\"marker\": {\"colorbar\": {\"outlinewidth\": 0, \"ticks\": \"\"}}, \"type\": \"scattercarpet\"}], \"scattergeo\": [{\"marker\": {\"colorbar\": {\"outlinewidth\": 0, \"ticks\": \"\"}}, \"type\": \"scattergeo\"}], \"scattergl\": [{\"marker\": {\"colorbar\": {\"outlinewidth\": 0, \"ticks\": \"\"}}, \"type\": \"scattergl\"}], \"scattermapbox\": [{\"marker\": {\"colorbar\": {\"outlinewidth\": 0, \"ticks\": \"\"}}, \"type\": \"scattermapbox\"}], \"scatterpolar\": [{\"marker\": {\"colorbar\": {\"outlinewidth\": 0, \"ticks\": \"\"}}, \"type\": \"scatterpolar\"}], \"scatterpolargl\": [{\"marker\": {\"colorbar\": {\"outlinewidth\": 0, \"ticks\": \"\"}}, \"type\": \"scatterpolargl\"}], \"scatterternary\": [{\"marker\": {\"colorbar\": {\"outlinewidth\": 0, \"ticks\": \"\"}}, \"type\": \"scatterternary\"}], \"surface\": [{\"colorbar\": {\"outlinewidth\": 0, \"ticks\": \"\"}, \"colorscale\": [[0.0, \"#0d0887\"], [0.1111111111111111, \"#46039f\"], [0.2222222222222222, \"#7201a8\"], [0.3333333333333333, \"#9c179e\"], [0.4444444444444444, \"#bd3786\"], [0.5555555555555556, \"#d8576b\"], [0.6666666666666666, \"#ed7953\"], [0.7777777777777778, \"#fb9f3a\"], [0.8888888888888888, \"#fdca26\"], [1.0, \"#f0f921\"]], \"type\": \"surface\"}], \"table\": [{\"cells\": {\"fill\": {\"color\": \"#EBF0F8\"}, \"line\": {\"color\": \"white\"}}, \"header\": {\"fill\": {\"color\": \"#C8D4E3\"}, \"line\": {\"color\": \"white\"}}, \"type\": \"table\"}]}, \"layout\": {\"annotationdefaults\": {\"arrowcolor\": \"#2a3f5f\", \"arrowhead\": 0, \"arrowwidth\": 1}, \"autotypenumbers\": \"strict\", \"coloraxis\": {\"colorbar\": {\"outlinewidth\": 0, \"ticks\": \"\"}}, \"colorscale\": {\"diverging\": [[0, \"#8e0152\"], [0.1, \"#c51b7d\"], [0.2, \"#de77ae\"], [0.3, \"#f1b6da\"], [0.4, \"#fde0ef\"], [0.5, \"#f7f7f7\"], [0.6, \"#e6f5d0\"], [0.7, \"#b8e186\"], [0.8, \"#7fbc41\"], [0.9, \"#4d9221\"], [1, \"#276419\"]], \"sequential\": [[0.0, \"#0d0887\"], [0.1111111111111111, \"#46039f\"], [0.2222222222222222, \"#7201a8\"], [0.3333333333333333, \"#9c179e\"], [0.4444444444444444, \"#bd3786\"], [0.5555555555555556, \"#d8576b\"], [0.6666666666666666, \"#ed7953\"], [0.7777777777777778, \"#fb9f3a\"], [0.8888888888888888, \"#fdca26\"], [1.0, \"#f0f921\"]], \"sequentialminus\": [[0.0, \"#0d0887\"], [0.1111111111111111, \"#46039f\"], [0.2222222222222222, \"#7201a8\"], [0.3333333333333333, \"#9c179e\"], [0.4444444444444444, \"#bd3786\"], [0.5555555555555556, \"#d8576b\"], [0.6666666666666666, \"#ed7953\"], [0.7777777777777778, \"#fb9f3a\"], [0.8888888888888888, \"#fdca26\"], [1.0, \"#f0f921\"]]}, \"colorway\": [\"#636efa\", \"#EF553B\", \"#00cc96\", \"#ab63fa\", \"#FFA15A\", \"#19d3f3\", \"#FF6692\", \"#B6E880\", \"#FF97FF\", \"#FECB52\"], \"font\": {\"color\": \"#2a3f5f\"}, \"geo\": {\"bgcolor\": \"white\", \"lakecolor\": \"white\", \"landcolor\": \"#E5ECF6\", \"showlakes\": true, \"showland\": true, \"subunitcolor\": \"white\"}, \"hoverlabel\": {\"align\": \"left\"}, \"hovermode\": \"closest\", \"mapbox\": {\"style\": \"light\"}, \"paper_bgcolor\": \"white\", \"plot_bgcolor\": \"#E5ECF6\", \"polar\": {\"angularaxis\": {\"gridcolor\": \"white\", \"linecolor\": \"white\", \"ticks\": \"\"}, \"bgcolor\": \"#E5ECF6\", \"radialaxis\": {\"gridcolor\": \"white\", \"linecolor\": \"white\", \"ticks\": \"\"}}, \"scene\": {\"xaxis\": {\"backgroundcolor\": \"#E5ECF6\", \"gridcolor\": \"white\", \"gridwidth\": 2, \"linecolor\": \"white\", \"showbackground\": true, \"ticks\": \"\", \"zerolinecolor\": \"white\"}, \"yaxis\": {\"backgroundcolor\": \"#E5ECF6\", \"gridcolor\": \"white\", \"gridwidth\": 2, \"linecolor\": \"white\", \"showbackground\": true, \"ticks\": \"\", \"zerolinecolor\": \"white\"}, \"zaxis\": {\"backgroundcolor\": \"#E5ECF6\", \"gridcolor\": \"white\", \"gridwidth\": 2, \"linecolor\": \"white\", \"showbackground\": true, \"ticks\": \"\", \"zerolinecolor\": \"white\"}}, \"shapedefaults\": {\"line\": {\"color\": \"#2a3f5f\"}}, \"ternary\": {\"aaxis\": {\"gridcolor\": \"white\", \"linecolor\": \"white\", \"ticks\": \"\"}, \"baxis\": {\"gridcolor\": \"white\", \"linecolor\": \"white\", \"ticks\": \"\"}, \"bgcolor\": \"#E5ECF6\", \"caxis\": {\"gridcolor\": \"white\", \"linecolor\": \"white\", \"ticks\": \"\"}}, \"title\": {\"x\": 0.05}, \"xaxis\": {\"automargin\": true, \"gridcolor\": \"white\", \"linecolor\": \"white\", \"ticks\": \"\", \"title\": {\"standoff\": 15}, \"zerolinecolor\": \"white\", \"zerolinewidth\": 2}, \"yaxis\": {\"automargin\": true, \"gridcolor\": \"white\", \"linecolor\": \"white\", \"ticks\": \"\", \"title\": {\"standoff\": 15}, \"zerolinecolor\": \"white\", \"zerolinewidth\": 2}}}, \"title\": {\"text\": \"FBProphet vs Buy&Hold for FB\"}, \"xaxis\": {\"anchor\": \"y\", \"domain\": [0.0, 1.0], \"title\": {\"text\": \"ds\"}}, \"yaxis\": {\"anchor\": \"x\", \"domain\": [0.0, 1.0], \"title\": {\"text\": \"Portfolio Balance\"}}},                        {\"responsive\": true}                    ).then(function(){\n",
       "                            \n",
       "var gd = document.getElementById('0ae7b882-e825-4f48-8240-2e990d28d5ad');\n",
       "var x = new MutationObserver(function (mutations, observer) {{\n",
       "        var display = window.getComputedStyle(gd).display;\n",
       "        if (!display || display === 'none') {{\n",
       "            console.log([gd, 'removed!']);\n",
       "            Plotly.purge(gd);\n",
       "            observer.disconnect();\n",
       "        }}\n",
       "}});\n",
       "\n",
       "// Listen for the removal of the full notebook cells\n",
       "var notebookContainer = gd.closest('#notebook-container');\n",
       "if (notebookContainer) {{\n",
       "    x.observe(notebookContainer, {childList: true});\n",
       "}}\n",
       "\n",
       "// Listen for the clearing of the current output cell\n",
       "var outputEl = gd.closest('.output');\n",
       "if (outputEl) {{\n",
       "    x.observe(outputEl, {childList: true});\n",
       "}}\n",
       "\n",
       "                        })                };                });            </script>        </div>"
      ]
     },
     "metadata": {},
     "output_type": "display_data"
    },
    {
     "name": "stdout",
     "output_type": "stream",
     "text": [
      "FB backtest results were positive!\n",
      "Short FB\n",
      "Backtesting AAPL. . .\n"
     ]
    },
    {
     "name": "stderr",
     "output_type": "stream",
     "text": [
      " 42%|████▏     | 22/52 [00:10<00:14,  2.07it/s]\n"
     ]
    },
    {
     "ename": "KeyboardInterrupt",
     "evalue": "",
     "output_type": "error",
     "traceback": [
      "\u001b[0;31m---------------------------------------------------------------------------\u001b[0m",
      "\u001b[0;31mKeyboardInterrupt\u001b[0m                         Traceback (most recent call last)",
      "\u001b[0;32m<ipython-input-124-1461ebb3b909>\u001b[0m in \u001b[0;36m<module>\u001b[0;34m\u001b[0m\n\u001b[1;32m      1\u001b[0m \u001b[0;32mfor\u001b[0m \u001b[0mi\u001b[0m \u001b[0;32min\u001b[0m \u001b[0;34m[\u001b[0m\u001b[0;34m\"FB\"\u001b[0m\u001b[0;34m,\u001b[0m \u001b[0;34m\"AAPL\"\u001b[0m\u001b[0;34m,\u001b[0m \u001b[0;34m\"NFLX\"\u001b[0m\u001b[0;34m,\u001b[0m \u001b[0;34m\"AMZN\"\u001b[0m\u001b[0;34m,\u001b[0m \u001b[0;34m\"GOOG\"\u001b[0m\u001b[0;34m]\u001b[0m\u001b[0;34m:\u001b[0m\u001b[0;34m\u001b[0m\u001b[0;34m\u001b[0m\u001b[0m\n\u001b[1;32m      2\u001b[0m \u001b[0;34m\u001b[0m\u001b[0m\n\u001b[0;32m----> 3\u001b[0;31m     getStockAndBacktest(\n\u001b[0m\u001b[1;32m      4\u001b[0m         \u001b[0mstock\u001b[0m\u001b[0;34m=\u001b[0m\u001b[0mi\u001b[0m\u001b[0;34m,\u001b[0m\u001b[0;34m\u001b[0m\u001b[0;34m\u001b[0m\u001b[0m\n\u001b[1;32m      5\u001b[0m         \u001b[0mn_days\u001b[0m\u001b[0;34m=\u001b[0m\u001b[0;36m50\u001b[0m\u001b[0;34m,\u001b[0m\u001b[0;34m\u001b[0m\u001b[0;34m\u001b[0m\u001b[0m\n",
      "\u001b[0;32m<ipython-input-123-4d593a5f0cdb>\u001b[0m in \u001b[0;36mgetStockAndBacktest\u001b[0;34m(stock, n_days, training_days, mov_avg, forecast_period)\u001b[0m\n\u001b[1;32m     17\u001b[0m \u001b[0;34m\u001b[0m\u001b[0m\n\u001b[1;32m     18\u001b[0m     \u001b[0;31m# Running Facebook Prophet with the set parameters\u001b[0m\u001b[0;34m\u001b[0m\u001b[0;34m\u001b[0m\u001b[0;34m\u001b[0m\u001b[0m\n\u001b[0;32m---> 19\u001b[0;31m     pred_df = runningFBP(\n\u001b[0m\u001b[1;32m     20\u001b[0m         \u001b[0mprices\u001b[0m\u001b[0;34m,\u001b[0m\u001b[0;34m\u001b[0m\u001b[0;34m\u001b[0m\u001b[0m\n\u001b[1;32m     21\u001b[0m         \u001b[0mforecast_period\u001b[0m\u001b[0;34m=\u001b[0m\u001b[0mforecast_period\u001b[0m\u001b[0;34m,\u001b[0m\u001b[0;34m\u001b[0m\u001b[0;34m\u001b[0m\u001b[0m\n",
      "\u001b[0;32m<ipython-input-104-b94d473d9124>\u001b[0m in \u001b[0;36mrunningFBP\u001b[0;34m(prices, forecast_period, training_days)\u001b[0m\n\u001b[1;32m     12\u001b[0m \u001b[0;34m\u001b[0m\u001b[0m\n\u001b[1;32m     13\u001b[0m         \u001b[0;31m# Training and Predicting the last day on the forecast\u001b[0m\u001b[0;34m\u001b[0m\u001b[0;34m\u001b[0m\u001b[0;34m\u001b[0m\u001b[0m\n\u001b[0;32m---> 14\u001b[0;31m         forecast = fbpTrainPredict(\n\u001b[0m\u001b[1;32m     15\u001b[0m             \u001b[0mprices\u001b[0m\u001b[0;34m[\u001b[0m\u001b[0mi\u001b[0m\u001b[0;34m-\u001b[0m\u001b[0mtraining_days\u001b[0m\u001b[0;34m:\u001b[0m\u001b[0mi\u001b[0m\u001b[0;34m]\u001b[0m\u001b[0;34m,\u001b[0m\u001b[0;34m\u001b[0m\u001b[0;34m\u001b[0m\u001b[0m\n\u001b[1;32m     16\u001b[0m             \u001b[0mforecast_period\u001b[0m\u001b[0;34m\u001b[0m\u001b[0;34m\u001b[0m\u001b[0m\n",
      "\u001b[0;32m<ipython-input-96-858d98701afd>\u001b[0m in \u001b[0;36mfbpTrainPredict\u001b[0;34m(df, forecast_period)\u001b[0m\n\u001b[1;32m     22\u001b[0m \u001b[0;34m\u001b[0m\u001b[0m\n\u001b[1;32m     23\u001b[0m     \u001b[0;31m# Predicting values\u001b[0m\u001b[0;34m\u001b[0m\u001b[0;34m\u001b[0m\u001b[0;34m\u001b[0m\u001b[0m\n\u001b[0;32m---> 24\u001b[0;31m     \u001b[0mforecast\u001b[0m \u001b[0;34m=\u001b[0m \u001b[0mm\u001b[0m\u001b[0;34m.\u001b[0m\u001b[0mpredict\u001b[0m\u001b[0;34m(\u001b[0m\u001b[0mfuture\u001b[0m\u001b[0;34m)\u001b[0m\u001b[0;34m\u001b[0m\u001b[0;34m\u001b[0m\u001b[0m\n\u001b[0m\u001b[1;32m     25\u001b[0m \u001b[0;34m\u001b[0m\u001b[0m\n\u001b[1;32m     26\u001b[0m     \u001b[0;31m# Returning a set of predicted values\u001b[0m\u001b[0;34m\u001b[0m\u001b[0;34m\u001b[0m\u001b[0;34m\u001b[0m\u001b[0m\n",
      "\u001b[0;32m~/miniforge3/lib/python3.9/site-packages/prophet/forecaster.py\u001b[0m in \u001b[0;36mpredict\u001b[0;34m(self, df)\u001b[0m\n\u001b[1;32m   1203\u001b[0m             \u001b[0;32mif\u001b[0m \u001b[0mdf\u001b[0m\u001b[0;34m.\u001b[0m\u001b[0mshape\u001b[0m\u001b[0;34m[\u001b[0m\u001b[0;36m0\u001b[0m\u001b[0;34m]\u001b[0m \u001b[0;34m==\u001b[0m \u001b[0;36m0\u001b[0m\u001b[0;34m:\u001b[0m\u001b[0;34m\u001b[0m\u001b[0;34m\u001b[0m\u001b[0m\n\u001b[1;32m   1204\u001b[0m                 \u001b[0;32mraise\u001b[0m \u001b[0mValueError\u001b[0m\u001b[0;34m(\u001b[0m\u001b[0;34m'Dataframe has no rows.'\u001b[0m\u001b[0;34m)\u001b[0m\u001b[0;34m\u001b[0m\u001b[0;34m\u001b[0m\u001b[0m\n\u001b[0;32m-> 1205\u001b[0;31m             \u001b[0mdf\u001b[0m \u001b[0;34m=\u001b[0m \u001b[0mself\u001b[0m\u001b[0;34m.\u001b[0m\u001b[0msetup_dataframe\u001b[0m\u001b[0;34m(\u001b[0m\u001b[0mdf\u001b[0m\u001b[0;34m.\u001b[0m\u001b[0mcopy\u001b[0m\u001b[0;34m(\u001b[0m\u001b[0;34m)\u001b[0m\u001b[0;34m)\u001b[0m\u001b[0;34m\u001b[0m\u001b[0;34m\u001b[0m\u001b[0m\n\u001b[0m\u001b[1;32m   1206\u001b[0m \u001b[0;34m\u001b[0m\u001b[0m\n\u001b[1;32m   1207\u001b[0m         \u001b[0mdf\u001b[0m\u001b[0;34m[\u001b[0m\u001b[0;34m'trend'\u001b[0m\u001b[0;34m]\u001b[0m \u001b[0;34m=\u001b[0m \u001b[0mself\u001b[0m\u001b[0;34m.\u001b[0m\u001b[0mpredict_trend\u001b[0m\u001b[0;34m(\u001b[0m\u001b[0mdf\u001b[0m\u001b[0;34m)\u001b[0m\u001b[0;34m\u001b[0m\u001b[0;34m\u001b[0m\u001b[0m\n",
      "\u001b[0;32m~/miniforge3/lib/python3.9/site-packages/prophet/forecaster.py\u001b[0m in \u001b[0;36msetup_dataframe\u001b[0;34m(self, df, initialize_scales)\u001b[0m\n\u001b[1;32m    301\u001b[0m         \u001b[0;32mif\u001b[0m \u001b[0mdf\u001b[0m\u001b[0;34m.\u001b[0m\u001b[0mindex\u001b[0m\u001b[0;34m.\u001b[0m\u001b[0mname\u001b[0m \u001b[0;34m==\u001b[0m \u001b[0;34m'ds'\u001b[0m\u001b[0;34m:\u001b[0m\u001b[0;34m\u001b[0m\u001b[0;34m\u001b[0m\u001b[0m\n\u001b[1;32m    302\u001b[0m             \u001b[0mdf\u001b[0m\u001b[0;34m.\u001b[0m\u001b[0mindex\u001b[0m\u001b[0;34m.\u001b[0m\u001b[0mname\u001b[0m \u001b[0;34m=\u001b[0m \u001b[0;32mNone\u001b[0m\u001b[0;34m\u001b[0m\u001b[0;34m\u001b[0m\u001b[0m\n\u001b[0;32m--> 303\u001b[0;31m         \u001b[0mdf\u001b[0m \u001b[0;34m=\u001b[0m \u001b[0mdf\u001b[0m\u001b[0;34m.\u001b[0m\u001b[0msort_values\u001b[0m\u001b[0;34m(\u001b[0m\u001b[0;34m'ds'\u001b[0m\u001b[0;34m)\u001b[0m\u001b[0;34m\u001b[0m\u001b[0;34m\u001b[0m\u001b[0m\n\u001b[0m\u001b[1;32m    304\u001b[0m         \u001b[0mdf\u001b[0m \u001b[0;34m=\u001b[0m \u001b[0mdf\u001b[0m\u001b[0;34m.\u001b[0m\u001b[0mreset_index\u001b[0m\u001b[0;34m(\u001b[0m\u001b[0mdrop\u001b[0m\u001b[0;34m=\u001b[0m\u001b[0;32mTrue\u001b[0m\u001b[0;34m)\u001b[0m\u001b[0;34m\u001b[0m\u001b[0;34m\u001b[0m\u001b[0m\n\u001b[1;32m    305\u001b[0m \u001b[0;34m\u001b[0m\u001b[0m\n",
      "\u001b[0;32m~/miniforge3/lib/python3.9/site-packages/pandas/core/frame.py\u001b[0m in \u001b[0;36msort_values\u001b[0;34m(self, by, axis, ascending, inplace, kind, na_position, ignore_index, key)\u001b[0m\n\u001b[1;32m   5463\u001b[0m             )\n\u001b[1;32m   5464\u001b[0m \u001b[0;34m\u001b[0m\u001b[0m\n\u001b[0;32m-> 5465\u001b[0;31m         new_data = self._mgr.take(\n\u001b[0m\u001b[1;32m   5466\u001b[0m             \u001b[0mindexer\u001b[0m\u001b[0;34m,\u001b[0m \u001b[0maxis\u001b[0m\u001b[0;34m=\u001b[0m\u001b[0mself\u001b[0m\u001b[0;34m.\u001b[0m\u001b[0m_get_block_manager_axis\u001b[0m\u001b[0;34m(\u001b[0m\u001b[0maxis\u001b[0m\u001b[0;34m)\u001b[0m\u001b[0;34m,\u001b[0m \u001b[0mverify\u001b[0m\u001b[0;34m=\u001b[0m\u001b[0;32mFalse\u001b[0m\u001b[0;34m\u001b[0m\u001b[0;34m\u001b[0m\u001b[0m\n\u001b[1;32m   5467\u001b[0m         )\n",
      "\u001b[0;32m~/miniforge3/lib/python3.9/site-packages/pandas/core/internals/managers.py\u001b[0m in \u001b[0;36mtake\u001b[0;34m(self, indexer, axis, verify, convert)\u001b[0m\n\u001b[1;32m   1472\u001b[0m \u001b[0;34m\u001b[0m\u001b[0m\n\u001b[1;32m   1473\u001b[0m         \u001b[0mnew_labels\u001b[0m \u001b[0;34m=\u001b[0m \u001b[0mself\u001b[0m\u001b[0;34m.\u001b[0m\u001b[0maxes\u001b[0m\u001b[0;34m[\u001b[0m\u001b[0maxis\u001b[0m\u001b[0;34m]\u001b[0m\u001b[0;34m.\u001b[0m\u001b[0mtake\u001b[0m\u001b[0;34m(\u001b[0m\u001b[0mindexer\u001b[0m\u001b[0;34m)\u001b[0m\u001b[0;34m\u001b[0m\u001b[0;34m\u001b[0m\u001b[0m\n\u001b[0;32m-> 1474\u001b[0;31m         return self.reindex_indexer(\n\u001b[0m\u001b[1;32m   1475\u001b[0m             \u001b[0mnew_axis\u001b[0m\u001b[0;34m=\u001b[0m\u001b[0mnew_labels\u001b[0m\u001b[0;34m,\u001b[0m \u001b[0mindexer\u001b[0m\u001b[0;34m=\u001b[0m\u001b[0mindexer\u001b[0m\u001b[0;34m,\u001b[0m \u001b[0maxis\u001b[0m\u001b[0;34m=\u001b[0m\u001b[0maxis\u001b[0m\u001b[0;34m,\u001b[0m \u001b[0mallow_dups\u001b[0m\u001b[0;34m=\u001b[0m\u001b[0;32mTrue\u001b[0m\u001b[0;34m\u001b[0m\u001b[0;34m\u001b[0m\u001b[0m\n\u001b[1;32m   1476\u001b[0m         )\n",
      "\u001b[0;32m~/miniforge3/lib/python3.9/site-packages/pandas/core/internals/managers.py\u001b[0m in \u001b[0;36mreindex_indexer\u001b[0;34m(self, new_axis, indexer, axis, fill_value, allow_dups, copy, consolidate, only_slice)\u001b[0m\n\u001b[1;32m   1309\u001b[0m             )\n\u001b[1;32m   1310\u001b[0m         \u001b[0;32melse\u001b[0m\u001b[0;34m:\u001b[0m\u001b[0;34m\u001b[0m\u001b[0;34m\u001b[0m\u001b[0m\n\u001b[0;32m-> 1311\u001b[0;31m             new_blocks = [\n\u001b[0m\u001b[1;32m   1312\u001b[0m                 blk.take_nd(\n\u001b[1;32m   1313\u001b[0m                     \u001b[0mindexer\u001b[0m\u001b[0;34m,\u001b[0m\u001b[0;34m\u001b[0m\u001b[0;34m\u001b[0m\u001b[0m\n",
      "\u001b[0;32m~/miniforge3/lib/python3.9/site-packages/pandas/core/internals/managers.py\u001b[0m in \u001b[0;36m<listcomp>\u001b[0;34m(.0)\u001b[0m\n\u001b[1;32m   1310\u001b[0m         \u001b[0;32melse\u001b[0m\u001b[0;34m:\u001b[0m\u001b[0;34m\u001b[0m\u001b[0;34m\u001b[0m\u001b[0m\n\u001b[1;32m   1311\u001b[0m             new_blocks = [\n\u001b[0;32m-> 1312\u001b[0;31m                 blk.take_nd(\n\u001b[0m\u001b[1;32m   1313\u001b[0m                     \u001b[0mindexer\u001b[0m\u001b[0;34m,\u001b[0m\u001b[0;34m\u001b[0m\u001b[0;34m\u001b[0m\u001b[0m\n\u001b[1;32m   1314\u001b[0m                     \u001b[0maxis\u001b[0m\u001b[0;34m=\u001b[0m\u001b[0maxis\u001b[0m\u001b[0;34m,\u001b[0m\u001b[0;34m\u001b[0m\u001b[0;34m\u001b[0m\u001b[0m\n",
      "\u001b[0;32m~/miniforge3/lib/python3.9/site-packages/pandas/core/internals/blocks.py\u001b[0m in \u001b[0;36mtake_nd\u001b[0;34m(self, indexer, axis, new_mgr_locs, fill_value)\u001b[0m\n\u001b[1;32m   1383\u001b[0m             \u001b[0mallow_fill\u001b[0m \u001b[0;34m=\u001b[0m \u001b[0;32mTrue\u001b[0m\u001b[0;34m\u001b[0m\u001b[0;34m\u001b[0m\u001b[0m\n\u001b[1;32m   1384\u001b[0m \u001b[0;34m\u001b[0m\u001b[0m\n\u001b[0;32m-> 1385\u001b[0;31m         new_values = algos.take_nd(\n\u001b[0m\u001b[1;32m   1386\u001b[0m             \u001b[0mvalues\u001b[0m\u001b[0;34m,\u001b[0m \u001b[0mindexer\u001b[0m\u001b[0;34m,\u001b[0m \u001b[0maxis\u001b[0m\u001b[0;34m=\u001b[0m\u001b[0maxis\u001b[0m\u001b[0;34m,\u001b[0m \u001b[0mallow_fill\u001b[0m\u001b[0;34m=\u001b[0m\u001b[0mallow_fill\u001b[0m\u001b[0;34m,\u001b[0m \u001b[0mfill_value\u001b[0m\u001b[0;34m=\u001b[0m\u001b[0mfill_value\u001b[0m\u001b[0;34m\u001b[0m\u001b[0;34m\u001b[0m\u001b[0m\n\u001b[1;32m   1387\u001b[0m         )\n",
      "\u001b[0;32m~/miniforge3/lib/python3.9/site-packages/pandas/core/algorithms.py\u001b[0m in \u001b[0;36mtake_nd\u001b[0;34m(arr, indexer, axis, out, fill_value, allow_fill)\u001b[0m\n\u001b[1;32m   1713\u001b[0m             \u001b[0;31m# check for promotion based on types only (do this first because\u001b[0m\u001b[0;34m\u001b[0m\u001b[0;34m\u001b[0m\u001b[0;34m\u001b[0m\u001b[0m\n\u001b[1;32m   1714\u001b[0m             \u001b[0;31m# it's faster than computing a mask)\u001b[0m\u001b[0;34m\u001b[0m\u001b[0;34m\u001b[0m\u001b[0;34m\u001b[0m\u001b[0m\n\u001b[0;32m-> 1715\u001b[0;31m             \u001b[0mdtype\u001b[0m\u001b[0;34m,\u001b[0m \u001b[0mfill_value\u001b[0m \u001b[0;34m=\u001b[0m \u001b[0mmaybe_promote\u001b[0m\u001b[0;34m(\u001b[0m\u001b[0marr\u001b[0m\u001b[0;34m.\u001b[0m\u001b[0mdtype\u001b[0m\u001b[0;34m,\u001b[0m \u001b[0mfill_value\u001b[0m\u001b[0;34m)\u001b[0m\u001b[0;34m\u001b[0m\u001b[0;34m\u001b[0m\u001b[0m\n\u001b[0m\u001b[1;32m   1716\u001b[0m             \u001b[0;32mif\u001b[0m \u001b[0mdtype\u001b[0m \u001b[0;34m!=\u001b[0m \u001b[0marr\u001b[0m\u001b[0;34m.\u001b[0m\u001b[0mdtype\u001b[0m \u001b[0;32mand\u001b[0m \u001b[0;34m(\u001b[0m\u001b[0mout\u001b[0m \u001b[0;32mis\u001b[0m \u001b[0;32mNone\u001b[0m \u001b[0;32mor\u001b[0m \u001b[0mout\u001b[0m\u001b[0;34m.\u001b[0m\u001b[0mdtype\u001b[0m \u001b[0;34m!=\u001b[0m \u001b[0mdtype\u001b[0m\u001b[0;34m)\u001b[0m\u001b[0;34m:\u001b[0m\u001b[0;34m\u001b[0m\u001b[0;34m\u001b[0m\u001b[0m\n\u001b[1;32m   1717\u001b[0m                 \u001b[0;31m# check if promotion is actually required based on indexer\u001b[0m\u001b[0;34m\u001b[0m\u001b[0;34m\u001b[0m\u001b[0;34m\u001b[0m\u001b[0m\n",
      "\u001b[0;32m~/miniforge3/lib/python3.9/site-packages/pandas/core/dtypes/cast.py\u001b[0m in \u001b[0;36mmaybe_promote\u001b[0;34m(dtype, fill_value)\u001b[0m\n\u001b[1;32m    588\u001b[0m         \u001b[0;32melse\u001b[0m\u001b[0;34m:\u001b[0m\u001b[0;34m\u001b[0m\u001b[0;34m\u001b[0m\u001b[0m\n\u001b[1;32m    589\u001b[0m             \u001b[0;32mtry\u001b[0m\u001b[0;34m:\u001b[0m\u001b[0;34m\u001b[0m\u001b[0;34m\u001b[0m\u001b[0m\n\u001b[0;32m--> 590\u001b[0;31m                 \u001b[0mfill_value\u001b[0m \u001b[0;34m=\u001b[0m \u001b[0mTimestamp\u001b[0m\u001b[0;34m(\u001b[0m\u001b[0mfill_value\u001b[0m\u001b[0;34m)\u001b[0m\u001b[0;34m.\u001b[0m\u001b[0mto_datetime64\u001b[0m\u001b[0;34m(\u001b[0m\u001b[0;34m)\u001b[0m\u001b[0;34m\u001b[0m\u001b[0;34m\u001b[0m\u001b[0m\n\u001b[0m\u001b[1;32m    591\u001b[0m             \u001b[0;32mexcept\u001b[0m \u001b[0;34m(\u001b[0m\u001b[0mTypeError\u001b[0m\u001b[0;34m,\u001b[0m \u001b[0mValueError\u001b[0m\u001b[0;34m)\u001b[0m\u001b[0;34m:\u001b[0m\u001b[0;34m\u001b[0m\u001b[0;34m\u001b[0m\u001b[0m\n\u001b[1;32m    592\u001b[0m                 \u001b[0mdtype\u001b[0m \u001b[0;34m=\u001b[0m \u001b[0mnp\u001b[0m\u001b[0;34m.\u001b[0m\u001b[0mdtype\u001b[0m\u001b[0;34m(\u001b[0m\u001b[0mnp\u001b[0m\u001b[0;34m.\u001b[0m\u001b[0mobject_\u001b[0m\u001b[0;34m)\u001b[0m\u001b[0;34m\u001b[0m\u001b[0;34m\u001b[0m\u001b[0m\n",
      "\u001b[0;31mKeyboardInterrupt\u001b[0m: "
     ]
    }
   ],
   "source": [
    "for i in [\"FB\", \"AAPL\", \"NFLX\", \"AMZN\", \"GOOG\"]:\n",
    "\n",
    "    getStockAndBacktest(\n",
    "        stock=i, \n",
    "        n_days=50, \n",
    "        training_days=100, \n",
    "        mov_avg=3,\n",
    "        forecast_period=3\n",
    "    )"
   ]
  },
  {
   "cell_type": "code",
   "execution_count": null,
   "metadata": {},
   "outputs": [],
   "source": []
  }
 ],
 "metadata": {
  "kernelspec": {
   "display_name": "Python 3",
   "language": "python",
   "name": "python3"
  },
  "language_info": {
   "codemirror_mode": {
    "name": "ipython",
    "version": 3
   },
   "file_extension": ".py",
   "mimetype": "text/x-python",
   "name": "python",
   "nbconvert_exporter": "python",
   "pygments_lexer": "ipython3",
   "version": "3.9.1"
  }
 },
 "nbformat": 4,
 "nbformat_minor": 4
}
