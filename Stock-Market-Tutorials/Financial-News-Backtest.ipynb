{
 "cells": [
  {
   "cell_type": "markdown",
   "metadata": {},
   "source": [
    "# Stock Market News and Sentiment Analysis Backtesting"
   ]
  },
  {
   "cell_type": "code",
   "execution_count": 65,
   "metadata": {},
   "outputs": [],
   "source": [
    "# Libraries\n",
    "from eod import EodHistoricalData\n",
    "import pandas as pd\n",
    "from datetime import datetime, timedelta\n",
    "from tqdm import tqdm\n",
    "import nltk\n",
    "from nltk.sentiment.vader import SentimentIntensityAnalyzer\n",
    "\n",
    "# Importing and assigning the api key\n",
    "with open(\"../../eodHistoricalData-API.txt\", \"r\") as f:\n",
    "    api_key = f.read()\n",
    "    \n",
    "# EOD Historical Data client\n",
    "client = EodHistoricalData(api_key)"
   ]
  },
  {
   "cell_type": "markdown",
   "metadata": {},
   "source": [
    "## Retrieving News"
   ]
  },
  {
   "cell_type": "code",
   "execution_count": 13,
   "metadata": {},
   "outputs": [],
   "source": [
    "def getNews(ticker, days):\n",
    "    \"\"\"\n",
    "    Retrieves financial news over the course of a specified number of days for\n",
    "    a given stock ticker.\n",
    "    \"\"\"\n",
    "\n",
    "    # List of news\n",
    "    news = []\n",
    "    \n",
    "    # How many days back to retrieve\n",
    "    ago = datetime.now() - timedelta(days=days)\n",
    "\n",
    "    # Getting news over the course of a year\n",
    "    for i in tqdm(range(10, days, 10)):\n",
    "\n",
    "        # Grabbing the news\n",
    "        resp = client.get_financial_news(\n",
    "            s=ticker,\n",
    "            from_=(ago+timedelta(days=i-10)).strftime(\"%Y-%m-%d\"),\n",
    "            to=(ago+timedelta(days=i)).strftime(\"%Y-%m-%d\"),\n",
    "            limit=50\n",
    "        )\n",
    "\n",
    "        # Adding to the news list\n",
    "        news.extend(resp)\n",
    "        \n",
    "    # Filtering out irrelevant news\n",
    "    lst = [i for i in news if sum(x in {ticker.lower()} for x in nltk.word_tokenize(i['title'].lower()))>=1]\n",
    "    \n",
    "    return pd.DataFrame(lst)"
   ]
  },
  {
   "cell_type": "code",
   "execution_count": 14,
   "metadata": {},
   "outputs": [
    {
     "name": "stderr",
     "output_type": "stream",
     "text": [
      "100%|██████████| 36/36 [00:22<00:00,  1.59it/s]\n"
     ]
    }
   ],
   "source": [
    "# Retrieving financial news\n",
    "news = getNews(\"AMD\", 365)"
   ]
  },
  {
   "cell_type": "markdown",
   "metadata": {},
   "source": [
    "## Retrieving Price History"
   ]
  },
  {
   "cell_type": "code",
   "execution_count": 10,
   "metadata": {},
   "outputs": [],
   "source": [
    "# Date\n",
    "ago = datetime.now() - timedelta(days=365)\n",
    "\n",
    "# Prices\n",
    "prices = pd.DataFrame(client.get_prices_eod(\"AMD\", from_=ago.strftime(\"%Y-%m-%d\")))"
   ]
  },
  {
   "cell_type": "code",
   "execution_count": 11,
   "metadata": {},
   "outputs": [
    {
     "data": {
      "text/html": [
       "<div>\n",
       "<style scoped>\n",
       "    .dataframe tbody tr th:only-of-type {\n",
       "        vertical-align: middle;\n",
       "    }\n",
       "\n",
       "    .dataframe tbody tr th {\n",
       "        vertical-align: top;\n",
       "    }\n",
       "\n",
       "    .dataframe thead th {\n",
       "        text-align: right;\n",
       "    }\n",
       "</style>\n",
       "<table border=\"1\" class=\"dataframe\">\n",
       "  <thead>\n",
       "    <tr style=\"text-align: right;\">\n",
       "      <th></th>\n",
       "      <th>date</th>\n",
       "      <th>open</th>\n",
       "      <th>high</th>\n",
       "      <th>low</th>\n",
       "      <th>close</th>\n",
       "      <th>adjusted_close</th>\n",
       "      <th>volume</th>\n",
       "    </tr>\n",
       "  </thead>\n",
       "  <tbody>\n",
       "    <tr>\n",
       "      <th>0</th>\n",
       "      <td>2020-11-30</td>\n",
       "      <td>87.33</td>\n",
       "      <td>92.7400</td>\n",
       "      <td>86.5300</td>\n",
       "      <td>92.66</td>\n",
       "      <td>92.66</td>\n",
       "      <td>84482979</td>\n",
       "    </tr>\n",
       "    <tr>\n",
       "      <th>1</th>\n",
       "      <td>2020-12-01</td>\n",
       "      <td>92.25</td>\n",
       "      <td>93.9000</td>\n",
       "      <td>90.7800</td>\n",
       "      <td>92.63</td>\n",
       "      <td>92.63</td>\n",
       "      <td>58670527</td>\n",
       "    </tr>\n",
       "    <tr>\n",
       "      <th>2</th>\n",
       "      <td>2020-12-02</td>\n",
       "      <td>92.89</td>\n",
       "      <td>96.3700</td>\n",
       "      <td>92.5253</td>\n",
       "      <td>93.74</td>\n",
       "      <td>93.74</td>\n",
       "      <td>57988822</td>\n",
       "    </tr>\n",
       "    <tr>\n",
       "      <th>3</th>\n",
       "      <td>2020-12-03</td>\n",
       "      <td>94.06</td>\n",
       "      <td>94.7000</td>\n",
       "      <td>92.0100</td>\n",
       "      <td>92.31</td>\n",
       "      <td>92.31</td>\n",
       "      <td>35859716</td>\n",
       "    </tr>\n",
       "    <tr>\n",
       "      <th>4</th>\n",
       "      <td>2020-12-04</td>\n",
       "      <td>92.58</td>\n",
       "      <td>94.5800</td>\n",
       "      <td>90.6300</td>\n",
       "      <td>94.04</td>\n",
       "      <td>94.04</td>\n",
       "      <td>45570273</td>\n",
       "    </tr>\n",
       "    <tr>\n",
       "      <th>...</th>\n",
       "      <td>...</td>\n",
       "      <td>...</td>\n",
       "      <td>...</td>\n",
       "      <td>...</td>\n",
       "      <td>...</td>\n",
       "      <td>...</td>\n",
       "      <td>...</td>\n",
       "    </tr>\n",
       "    <tr>\n",
       "      <th>246</th>\n",
       "      <td>2021-11-19</td>\n",
       "      <td>155.76</td>\n",
       "      <td>156.9200</td>\n",
       "      <td>153.4450</td>\n",
       "      <td>155.41</td>\n",
       "      <td>155.41</td>\n",
       "      <td>41668862</td>\n",
       "    </tr>\n",
       "    <tr>\n",
       "      <th>247</th>\n",
       "      <td>2021-11-22</td>\n",
       "      <td>157.14</td>\n",
       "      <td>161.8799</td>\n",
       "      <td>152.3900</td>\n",
       "      <td>152.52</td>\n",
       "      <td>152.52</td>\n",
       "      <td>58674078</td>\n",
       "    </tr>\n",
       "    <tr>\n",
       "      <th>248</th>\n",
       "      <td>2021-11-23</td>\n",
       "      <td>150.41</td>\n",
       "      <td>152.6600</td>\n",
       "      <td>145.2996</td>\n",
       "      <td>149.92</td>\n",
       "      <td>149.92</td>\n",
       "      <td>62852705</td>\n",
       "    </tr>\n",
       "    <tr>\n",
       "      <th>249</th>\n",
       "      <td>2021-11-24</td>\n",
       "      <td>149.46</td>\n",
       "      <td>157.9300</td>\n",
       "      <td>147.1900</td>\n",
       "      <td>157.80</td>\n",
       "      <td>157.80</td>\n",
       "      <td>60677062</td>\n",
       "    </tr>\n",
       "    <tr>\n",
       "      <th>250</th>\n",
       "      <td>2021-11-26</td>\n",
       "      <td>155.80</td>\n",
       "      <td>158.1000</td>\n",
       "      <td>152.8100</td>\n",
       "      <td>154.81</td>\n",
       "      <td>154.81</td>\n",
       "      <td>36245068</td>\n",
       "    </tr>\n",
       "  </tbody>\n",
       "</table>\n",
       "<p>251 rows × 7 columns</p>\n",
       "</div>"
      ],
      "text/plain": [
       "           date    open      high       low   close  adjusted_close    volume\n",
       "0    2020-11-30   87.33   92.7400   86.5300   92.66           92.66  84482979\n",
       "1    2020-12-01   92.25   93.9000   90.7800   92.63           92.63  58670527\n",
       "2    2020-12-02   92.89   96.3700   92.5253   93.74           93.74  57988822\n",
       "3    2020-12-03   94.06   94.7000   92.0100   92.31           92.31  35859716\n",
       "4    2020-12-04   92.58   94.5800   90.6300   94.04           94.04  45570273\n",
       "..          ...     ...       ...       ...     ...             ...       ...\n",
       "246  2021-11-19  155.76  156.9200  153.4450  155.41          155.41  41668862\n",
       "247  2021-11-22  157.14  161.8799  152.3900  152.52          152.52  58674078\n",
       "248  2021-11-23  150.41  152.6600  145.2996  149.92          149.92  62852705\n",
       "249  2021-11-24  149.46  157.9300  147.1900  157.80          157.80  60677062\n",
       "250  2021-11-26  155.80  158.1000  152.8100  154.81          154.81  36245068\n",
       "\n",
       "[251 rows x 7 columns]"
      ]
     },
     "execution_count": 11,
     "metadata": {},
     "output_type": "execute_result"
    }
   ],
   "source": [
    "prices"
   ]
  },
  {
   "cell_type": "markdown",
   "metadata": {},
   "source": [
    "## Sentiment Analysis"
   ]
  },
  {
   "cell_type": "code",
   "execution_count": 17,
   "metadata": {},
   "outputs": [],
   "source": [
    "# Sentiment Analyzer\n",
    "sia = SentimentIntensityAnalyzer()"
   ]
  },
  {
   "cell_type": "code",
   "execution_count": 58,
   "metadata": {},
   "outputs": [],
   "source": [
    "news['sentiment'] = news['title'].apply(lambda x: sia.polarity_scores(x)['pos'])"
   ]
  },
  {
   "cell_type": "code",
   "execution_count": 59,
   "metadata": {},
   "outputs": [
    {
     "data": {
      "text/plain": [
       "sentiment                                                  0.0\n",
       "title        Here's the Latest Reason AMD Stock Is a Scream...\n",
       "Name: 389, dtype: object"
      ]
     },
     "execution_count": 59,
     "metadata": {},
     "output_type": "execute_result"
    }
   ],
   "source": [
    "news[['sentiment', 'title']].tail(50).loc[389]"
   ]
  },
  {
   "cell_type": "code",
   "execution_count": 42,
   "metadata": {},
   "outputs": [
    {
     "data": {
      "text/plain": [
       "'SANTA CLARA, Calif., Jan.  13, 2021  (GLOBE NEWSWIRE) -- AMD (NASDAQ: AMD) announced today that it will report fourth quarter and fiscal year 2020 financial results on Tuesday, January 26, 2021 after the close of market. Management will conduct a conference call to discuss these results at 5:00 p.m. EST / 2:00 p.m. PST. Interested parties are invited to listen to the webcast of the conference call via AMD’s Investor Relations website ir.amd.com. An archive of the webcast will be available for approximately one year after the conference call.\\n\\nAbout AMD \\r\\nFor more than 50 years, AMD has driven innovation in high-performance computing, graphics and visualization technologies ― the building blocks for gaming, immersive platforms and the data center. Hundreds of millions of consumers, leading Fortune 500 businesses and cutting-edge scientific research facilities around the world rely on AMD technology daily to improve how they live, work and play. AMD employees around the world are focused on building great products that push the boundaries of what is possible. For more information about how AMD is enabling today and inspiring tomorrow, visit the AMD (NASDAQ: AMD) website, blog, LinkedIn, Facebook and Twitter pages.\\n\\nAMD, the AMD Arrow logo and the combination thereof are trademarks of Advanced Micro Devices, Inc. Other names are for informational purposes only and may be trademarks of their respective owners.\\n\\nContact\\r\\nDrew Prairie\\r\\nAMD Communications\\r\\n512-602-4425\\r\\ndrew.prairie@amd.com\\n\\nLaura Graves\\r\\nAMD Investor Relations\\r\\n408-749-5467\\r\\nlaura.graves@amd.com'"
      ]
     },
     "execution_count": 42,
     "metadata": {},
     "output_type": "execute_result"
    }
   ],
   "source": [
    "news['content'][3].strip()"
   ]
  },
  {
   "cell_type": "code",
   "execution_count": null,
   "metadata": {},
   "outputs": [],
   "source": []
  }
 ],
 "metadata": {
  "kernelspec": {
   "display_name": "Python 3",
   "language": "python",
   "name": "python3"
  },
  "language_info": {
   "codemirror_mode": {
    "name": "ipython",
    "version": 3
   },
   "file_extension": ".py",
   "mimetype": "text/x-python",
   "name": "python",
   "nbconvert_exporter": "python",
   "pygments_lexer": "ipython3",
   "version": "3.9.1"
  }
 },
 "nbformat": 4,
 "nbformat_minor": 4
}
